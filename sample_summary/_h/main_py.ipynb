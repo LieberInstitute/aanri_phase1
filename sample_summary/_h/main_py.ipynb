{
 "cells": [
  {
   "cell_type": "markdown",
   "metadata": {},
   "source": [
    "# Pie chart of samples"
   ]
  },
  {
   "cell_type": "code",
   "execution_count": 1,
   "metadata": {},
   "outputs": [],
   "source": [
    "import pandas as pd\n",
    "import matplotlib.pyplot as plt"
   ]
  },
  {
   "cell_type": "code",
   "execution_count": 2,
   "metadata": {},
   "outputs": [],
   "source": [
    "%matplotlib inline"
   ]
  },
  {
   "cell_type": "code",
   "execution_count": 8,
   "metadata": {},
   "outputs": [
    {
     "data": {
      "text/html": [
       "<div>\n",
       "<style scoped>\n",
       "    .dataframe tbody tr th:only-of-type {\n",
       "        vertical-align: middle;\n",
       "    }\n",
       "\n",
       "    .dataframe tbody tr th {\n",
       "        vertical-align: top;\n",
       "    }\n",
       "\n",
       "    .dataframe thead th {\n",
       "        text-align: right;\n",
       "    }\n",
       "</style>\n",
       "<table border=\"1\" class=\"dataframe\">\n",
       "  <thead>\n",
       "    <tr style=\"text-align: right;\">\n",
       "      <th></th>\n",
       "      <th>BrNum</th>\n",
       "      <th>RNum</th>\n",
       "      <th>Region</th>\n",
       "      <th>RIN</th>\n",
       "      <th>Age</th>\n",
       "      <th>Sex</th>\n",
       "      <th>Race</th>\n",
       "      <th>Dx</th>\n",
       "      <th>mitoRate</th>\n",
       "      <th>rRNA_rate</th>\n",
       "      <th>overallMapRate</th>\n",
       "    </tr>\n",
       "  </thead>\n",
       "  <tbody>\n",
       "    <tr>\n",
       "      <th>R12872</th>\n",
       "      <td>Br949</td>\n",
       "      <td>R12872</td>\n",
       "      <td>Caudate</td>\n",
       "      <td>9.2</td>\n",
       "      <td>18.05</td>\n",
       "      <td>M</td>\n",
       "      <td>AA</td>\n",
       "      <td>Control</td>\n",
       "      <td>0.021362</td>\n",
       "      <td>0.000029</td>\n",
       "      <td>0.909745</td>\n",
       "    </tr>\n",
       "    <tr>\n",
       "      <th>R12873</th>\n",
       "      <td>Br991</td>\n",
       "      <td>R12873</td>\n",
       "      <td>Caudate</td>\n",
       "      <td>9.4</td>\n",
       "      <td>35.24</td>\n",
       "      <td>M</td>\n",
       "      <td>AA</td>\n",
       "      <td>Control</td>\n",
       "      <td>0.022589</td>\n",
       "      <td>0.000028</td>\n",
       "      <td>0.899161</td>\n",
       "    </tr>\n",
       "    <tr>\n",
       "      <th>R12874</th>\n",
       "      <td>Br909</td>\n",
       "      <td>R12874</td>\n",
       "      <td>Caudate</td>\n",
       "      <td>7.4</td>\n",
       "      <td>57.83</td>\n",
       "      <td>F</td>\n",
       "      <td>AA</td>\n",
       "      <td>Control</td>\n",
       "      <td>0.056099</td>\n",
       "      <td>0.000174</td>\n",
       "      <td>0.640800</td>\n",
       "    </tr>\n",
       "    <tr>\n",
       "      <th>R12890</th>\n",
       "      <td>Br1157</td>\n",
       "      <td>R12890</td>\n",
       "      <td>Caudate</td>\n",
       "      <td>9.4</td>\n",
       "      <td>60.70</td>\n",
       "      <td>M</td>\n",
       "      <td>AA</td>\n",
       "      <td>Control</td>\n",
       "      <td>0.014670</td>\n",
       "      <td>0.000033</td>\n",
       "      <td>0.920617</td>\n",
       "    </tr>\n",
       "    <tr>\n",
       "      <th>R12891</th>\n",
       "      <td>Br1167</td>\n",
       "      <td>R12891</td>\n",
       "      <td>Caudate</td>\n",
       "      <td>9.6</td>\n",
       "      <td>45.86</td>\n",
       "      <td>M</td>\n",
       "      <td>AA</td>\n",
       "      <td>Control</td>\n",
       "      <td>0.032250</td>\n",
       "      <td>0.000098</td>\n",
       "      <td>0.883548</td>\n",
       "    </tr>\n",
       "  </tbody>\n",
       "</table>\n",
       "</div>"
      ],
      "text/plain": [
       "         BrNum    RNum   Region  RIN    Age Sex Race       Dx  mitoRate  \\\n",
       "R12872   Br949  R12872  Caudate  9.2  18.05   M   AA  Control  0.021362   \n",
       "R12873   Br991  R12873  Caudate  9.4  35.24   M   AA  Control  0.022589   \n",
       "R12874   Br909  R12874  Caudate  7.4  57.83   F   AA  Control  0.056099   \n",
       "R12890  Br1157  R12890  Caudate  9.4  60.70   M   AA  Control  0.014670   \n",
       "R12891  Br1167  R12891  Caudate  9.6  45.86   M   AA  Control  0.032250   \n",
       "\n",
       "        rRNA_rate  overallMapRate  \n",
       "R12872   0.000029        0.909745  \n",
       "R12873   0.000028        0.899161  \n",
       "R12874   0.000174        0.640800  \n",
       "R12890   0.000033        0.920617  \n",
       "R12891   0.000098        0.883548  "
      ]
     },
     "execution_count": 8,
     "metadata": {},
     "output_type": "execute_result"
    }
   ],
   "source": [
    "df = pd.read_csv(\"../../input/phenotypes/merged/_m/merged_phenotypes.csv\", index_col=0)\n",
    "df = df[df[\"Race\"].isin([\"AA\", \"CAUC\"]) & (df[\"Dx\"].isin([\"Control\", \"Schizo\"]))].copy()\n",
    "df.Race = df.Race.astype(\"category\").cat.rename_categories({'CAUC': 'EA'})\n",
    "df.head()"
   ]
  },
  {
   "cell_type": "code",
   "execution_count": 9,
   "metadata": {},
   "outputs": [
    {
     "data": {
      "text/plain": [
       "Region\n",
       "Caudate         266\n",
       "DLPFC           286\n",
       "DentateGyrus     90\n",
       "HIPPO           314\n",
       "dtype: int64"
      ]
     },
     "execution_count": 9,
     "metadata": {},
     "output_type": "execute_result"
    }
   ],
   "source": [
    "df.groupby(\"Region\").size()"
   ]
  },
  {
   "cell_type": "code",
   "execution_count": 10,
   "metadata": {},
   "outputs": [
    {
     "data": {
      "text/html": [
       "<div>\n",
       "<style scoped>\n",
       "    .dataframe tbody tr th:only-of-type {\n",
       "        vertical-align: middle;\n",
       "    }\n",
       "\n",
       "    .dataframe tbody tr th {\n",
       "        vertical-align: top;\n",
       "    }\n",
       "\n",
       "    .dataframe thead th {\n",
       "        text-align: right;\n",
       "    }\n",
       "</style>\n",
       "<table border=\"1\" class=\"dataframe\">\n",
       "  <thead>\n",
       "    <tr style=\"text-align: right;\">\n",
       "      <th></th>\n",
       "      <th>Region</th>\n",
       "      <th>Race</th>\n",
       "      <th>N</th>\n",
       "    </tr>\n",
       "  </thead>\n",
       "  <tbody>\n",
       "    <tr>\n",
       "      <th>0</th>\n",
       "      <td>Caudate</td>\n",
       "      <td>AA</td>\n",
       "      <td>134</td>\n",
       "    </tr>\n",
       "    <tr>\n",
       "      <th>1</th>\n",
       "      <td>Caudate</td>\n",
       "      <td>EA</td>\n",
       "      <td>132</td>\n",
       "    </tr>\n",
       "    <tr>\n",
       "      <th>2</th>\n",
       "      <td>DLPFC</td>\n",
       "      <td>AA</td>\n",
       "      <td>164</td>\n",
       "    </tr>\n",
       "    <tr>\n",
       "      <th>3</th>\n",
       "      <td>DLPFC</td>\n",
       "      <td>EA</td>\n",
       "      <td>122</td>\n",
       "    </tr>\n",
       "    <tr>\n",
       "      <th>4</th>\n",
       "      <td>DentateGyrus</td>\n",
       "      <td>AA</td>\n",
       "      <td>47</td>\n",
       "    </tr>\n",
       "    <tr>\n",
       "      <th>5</th>\n",
       "      <td>DentateGyrus</td>\n",
       "      <td>EA</td>\n",
       "      <td>43</td>\n",
       "    </tr>\n",
       "    <tr>\n",
       "      <th>6</th>\n",
       "      <td>HIPPO</td>\n",
       "      <td>AA</td>\n",
       "      <td>174</td>\n",
       "    </tr>\n",
       "    <tr>\n",
       "      <th>7</th>\n",
       "      <td>HIPPO</td>\n",
       "      <td>EA</td>\n",
       "      <td>140</td>\n",
       "    </tr>\n",
       "  </tbody>\n",
       "</table>\n",
       "</div>"
      ],
      "text/plain": [
       "         Region Race    N\n",
       "0       Caudate   AA  134\n",
       "1       Caudate   EA  132\n",
       "2         DLPFC   AA  164\n",
       "3         DLPFC   EA  122\n",
       "4  DentateGyrus   AA   47\n",
       "5  DentateGyrus   EA   43\n",
       "6         HIPPO   AA  174\n",
       "7         HIPPO   EA  140"
      ]
     },
     "execution_count": 10,
     "metadata": {},
     "output_type": "execute_result"
    }
   ],
   "source": [
    "data = df.groupby([\"Region\", \"Race\"]).size().reset_index().rename(columns={0:\"N\"})\n",
    "data"
   ]
  },
  {
   "cell_type": "code",
   "execution_count": 11,
   "metadata": {},
   "outputs": [],
   "source": [
    "caudate = data[(data[\"Region\"] == \"Caudate\")].drop(\"Region\", axis=1).set_index(\"Race\")\n",
    "dlpfc = data[(data[\"Region\"] == \"DLPFC\")].drop(\"Region\", axis=1).set_index(\"Race\")\n",
    "gyrus = data[(data[\"Region\"] == \"DentateGyrus\")].drop(\"Region\", axis=1).set_index(\"Race\")\n",
    "hippocampus = data[(data[\"Region\"] == \"HIPPO\")].drop(\"Region\", axis=1).set_index(\"Race\")"
   ]
  },
  {
   "cell_type": "code",
   "execution_count": 55,
   "metadata": {},
   "outputs": [
    {
     "data": {
      "image/png": "[encoded data removed]",
      "text/plain": [
       "<Figure size 432x288 with 1 Axes>"
      ]
     },
     "metadata": {},
     "output_type": "display_data"
    }
   ],
   "source": [
    "caudate.N.plot.pie(autopct=\"%.1f%%\")\n",
    "plt.savefig('caudate_pie.pdf')"
   ]
  },
  {
   "cell_type": "code",
   "execution_count": 40,
   "metadata": {},
   "outputs": [
    {
     "data": {
      "image/png": "[encoded data removed]",
      "text/plain": [
       "<Figure size 432x288 with 1 Axes>"
      ]
     },
     "metadata": {},
     "output_type": "display_data"
    }
   ],
   "source": [
    "dlpfc.N.plot.pie(autopct=\"%.1f%%\");\n",
    "plt.savefig('dlpfc_pie.pdf')"
   ]
  },
  {
   "cell_type": "code",
   "execution_count": 35,
   "metadata": {},
   "outputs": [
    {
     "data": {
      "image/png": "[encoded data removed]",
      "text/plain": [
       "<Figure size 432x288 with 1 Axes>"
      ]
     },
     "metadata": {},
     "output_type": "display_data"
    }
   ],
   "source": [
    "gyrus.N.plot.pie(autopct=\"%.1f%%\");\n",
    "plt.savefig('dentate_gyrus_pie.pdf')"
   ]
  },
  {
   "cell_type": "code",
   "execution_count": 36,
   "metadata": {},
   "outputs": [
    {
     "data": {
      "image/png": "[encoded data removed]",
      "text/plain": [
       "<Figure size 432x288 with 1 Axes>"
      ]
     },
     "metadata": {},
     "output_type": "display_data"
    }
   ],
   "source": [
    "hippocampus.N.plot.pie(autopct=\"%.1f%%\")\n",
    "plt.savefig('hippocampus_pie.pdf')"
   ]
  },
  {
   "cell_type": "code",
   "execution_count": null,
   "metadata": {},
   "outputs": [],
   "source": []
  }
 ],
 "metadata": {
  "kernelspec": {
   "display_name": "Python 3",
   "language": "python",
   "name": "python3"
  },
  "language_info": {
   "codemirror_mode": {
    "name": "ipython",
    "version": 3
   },
   "file_extension": ".py",
   "mimetype": "text/x-python",
   "name": "python",
   "nbconvert_exporter": "python",
   "pygments_lexer": "ipython3",
   "version": "3.9.1"
  }
 },
 "nbformat": 4,
 "nbformat_minor": 4
}
