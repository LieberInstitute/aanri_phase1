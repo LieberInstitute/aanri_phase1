{
 "cells": [
  {
   "cell_type": "markdown",
   "metadata": {},
   "source": [
    "# Examine sample make-up"
   ]
  },
  {
   "cell_type": "code",
   "execution_count": 1,
   "metadata": {
    "execution": {
     "iopub.execute_input": "2021-08-23T14:53:34.709344Z",
     "iopub.status.busy": "2021-08-23T14:53:34.707602Z",
     "iopub.status.idle": "2021-08-23T14:53:41.836798Z",
     "shell.execute_reply": "2021-08-23T14:53:41.835268Z"
    }
   },
   "outputs": [],
   "source": [
    "suppressMessages({library(SummarizedExperiment)\n",
    "                  library(tidyverse)\n",
    "                  library(ggpubr)})"
   ]
  },
  {
   "cell_type": "markdown",
   "metadata": {},
   "source": [
    "## Samples after quality control"
   ]
  },
  {
   "cell_type": "code",
   "execution_count": 2,
   "metadata": {
    "execution": {
     "iopub.execute_input": "2021-08-23T14:53:41.876850Z",
     "iopub.status.busy": "2021-08-23T14:53:41.842515Z",
     "iopub.status.idle": "2021-08-23T14:53:41.889867Z",
     "shell.execute_reply": "2021-08-23T14:53:41.888583Z"
    }
   },
   "outputs": [],
   "source": [
    "save_ggplots <- function(p, fn, w, h){\n",
    "    for(ext in c('.pdf', '.png', '.svg')){\n",
    "        ggsave(paste0(fn, ext), plot=p, width=w, height=h)\n",
    "    }\n",
    "}"
   ]
  },
  {
   "cell_type": "markdown",
   "metadata": {},
   "source": [
    "### Load Caudate data"
   ]
  },
  {
   "cell_type": "code",
   "execution_count": 3,
   "metadata": {
    "execution": {
     "iopub.execute_input": "2021-08-23T14:53:41.896252Z",
     "iopub.status.busy": "2021-08-23T14:53:41.894861Z",
     "iopub.status.idle": "2021-08-23T14:53:45.365589Z",
     "shell.execute_reply": "2021-08-23T14:53:45.363978Z"
    }
   },
   "outputs": [],
   "source": [
    "# Load counts and phenotype R variable\n",
    "load(\"../../input/counts/_m/caudate_brainseq_phase3_hg38_rseGene_merged_n464.rda\")\n",
    "### Subset and recode\n",
    "keepIndex = which((rse_gene$Dx %in% c('Control', \"Schizo\")) & \n",
    "                  rse_gene$Race %in% c('CAUC', 'AA'))\n",
    "rse_gene = rse_gene[, keepIndex]\n",
    "### Extract phenotypes\n",
    "pheno_C <- colData(rse_gene) %>% as.data.frame"
   ]
  },
  {
   "cell_type": "markdown",
   "metadata": {},
   "source": [
    "### Load DLPFC data"
   ]
  },
  {
   "cell_type": "code",
   "execution_count": 4,
   "metadata": {
    "execution": {
     "iopub.execute_input": "2021-08-23T14:53:45.372057Z",
     "iopub.status.busy": "2021-08-23T14:53:45.370714Z",
     "iopub.status.idle": "2021-08-23T14:53:47.673492Z",
     "shell.execute_reply": "2021-08-23T14:53:47.671466Z"
    }
   },
   "outputs": [],
   "source": [
    "# Load counts and phenotype R variable\n",
    "load(\"../../input/counts/_m/dlpfc_ribozero_brainseq_phase2_hg38_rseGene_merged_n453.rda\")\n",
    "### Subset and recode\n",
    "keepIndex = which((rse_gene$Dx %in% c('Control', \"Schizo\")) & \n",
    "                  rse_gene$Race %in% c('CAUC', 'AA'))\n",
    "rse_gene = rse_gene[, keepIndex]\n",
    "### Extract phenotypes\n",
    "pheno_D <- colData(rse_gene) %>% as.data.frame"
   ]
  },
  {
   "cell_type": "markdown",
   "metadata": {},
   "source": [
    "### Load Hippocampus data"
   ]
  },
  {
   "cell_type": "code",
   "execution_count": 5,
   "metadata": {
    "execution": {
     "iopub.execute_input": "2021-08-23T14:53:47.679920Z",
     "iopub.status.busy": "2021-08-23T14:53:47.678587Z",
     "iopub.status.idle": "2021-08-23T14:53:49.989016Z",
     "shell.execute_reply": "2021-08-23T14:53:49.987544Z"
    }
   },
   "outputs": [],
   "source": [
    "# Load counts and phenotype R variable\n",
    "load(\"../../input/counts/_m/hippo_brainseq_phase2_hg38_rseGene_merged_n447.rda\")\n",
    "### Subset and recode\n",
    "keepIndex = which((rse_gene$Dx %in% c('Control', \"Schizo\")) & \n",
    "                  rse_gene$Race %in% c('CAUC', 'AA'))\n",
    "rse_gene = rse_gene[, keepIndex]\n",
    "### Extract phenotypes\n",
    "pheno_H <- colData(rse_gene) %>% as.data.frame"
   ]
  },
  {
   "cell_type": "markdown",
   "metadata": {},
   "source": [
    "### Load DG data"
   ]
  },
  {
   "cell_type": "code",
   "execution_count": 6,
   "metadata": {
    "execution": {
     "iopub.execute_input": "2021-08-23T14:53:49.995492Z",
     "iopub.status.busy": "2021-08-23T14:53:49.994195Z",
     "iopub.status.idle": "2021-08-23T14:53:50.798948Z",
     "shell.execute_reply": "2021-08-23T14:53:50.797658Z"
    }
   },
   "outputs": [],
   "source": [
    "# Load counts and phenotype R variable\n",
    "load(\"../../input/counts/_m/astellas_dg_hg38_rseGene_n263.rda\")\n",
    "### Subset and recode\n",
    "keepIndex = which((rse_gene$Dx %in% c('Control', \"Schizo\")) & \n",
    "                  rse_gene$Race %in% c('CAUC', 'AA'))\n",
    "rse_gene = rse_gene[, keepIndex]\n",
    "### Extract phenotypes\n",
    "pheno_dg <- colData(rse_gene) %>% as.data.frame"
   ]
  },
  {
   "cell_type": "markdown",
   "metadata": {},
   "source": [
    "### Merge data"
   ]
  },
  {
   "cell_type": "code",
   "execution_count": 7,
   "metadata": {
    "execution": {
     "iopub.execute_input": "2021-08-23T14:53:50.805231Z",
     "iopub.status.busy": "2021-08-23T14:53:50.803893Z",
     "iopub.status.idle": "2021-08-23T14:53:50.847514Z",
     "shell.execute_reply": "2021-08-23T14:53:50.846029Z"
    }
   },
   "outputs": [],
   "source": [
    "allCols <- intersect(intersect(intersect(colnames(pheno_C), colnames(pheno_D)), \n",
    "                               colnames(pheno_H)), \n",
    "                     colnames(pheno_dg))\n",
    "pheno = rbind(pheno_C[, allCols], pheno_D[, allCols], \n",
    "              pheno_H[, allCols], pheno_dg[, allCols]) %>% \n",
    "    filter(Age > 13) %>% mutate(Race=gsub(\"CAUC\", \"EA\", Race))"
   ]
  },
  {
   "cell_type": "markdown",
   "metadata": {},
   "source": [
    "## STRUCTURE analysis"
   ]
  },
  {
   "cell_type": "code",
   "execution_count": 8,
   "metadata": {
    "execution": {
     "iopub.execute_input": "2021-08-23T14:53:50.853624Z",
     "iopub.status.busy": "2021-08-23T14:53:50.852277Z",
     "iopub.status.idle": "2021-08-23T14:53:50.897944Z",
     "shell.execute_reply": "2021-08-23T14:53:50.899032Z"
    }
   },
   "outputs": [
    {
     "data": {
      "text/html": [
       "<table class=\"dataframe\">\n",
       "<caption>A data.table: 6 × 4</caption>\n",
       "<thead>\n",
       "\t<tr><th scope=col>id</th><th scope=col>Afr</th><th scope=col>Eur</th><th scope=col>group</th></tr>\n",
       "\t<tr><th scope=col>&lt;chr&gt;</th><th scope=col>&lt;dbl&gt;</th><th scope=col>&lt;dbl&gt;</th><th scope=col>&lt;chr&gt;</th></tr>\n",
       "</thead>\n",
       "<tbody>\n",
       "\t<tr><td>Br2374</td><td>0.007</td><td>0.993</td><td>CAUC</td></tr>\n",
       "\t<tr><td>Br1857</td><td>0.001</td><td>0.999</td><td>CAUC</td></tr>\n",
       "\t<tr><td>Br1306</td><td>0.759</td><td>0.241</td><td>AA  </td></tr>\n",
       "\t<tr><td>Br2605</td><td>0.644</td><td>0.356</td><td>AA  </td></tr>\n",
       "\t<tr><td>Br1802</td><td>0.840</td><td>0.160</td><td>AA  </td></tr>\n",
       "\t<tr><td>Br2565</td><td>0.005</td><td>0.995</td><td>CAUC</td></tr>\n",
       "</tbody>\n",
       "</table>\n"
      ],
      "text/latex": [
       "A data.table: 6 × 4\n",
       "\\begin{tabular}{llll}\n",
       " id & Afr & Eur & group\\\\\n",
       " <chr> & <dbl> & <dbl> & <chr>\\\\\n",
       "\\hline\n",
       "\t Br2374 & 0.007 & 0.993 & CAUC\\\\\n",
       "\t Br1857 & 0.001 & 0.999 & CAUC\\\\\n",
       "\t Br1306 & 0.759 & 0.241 & AA  \\\\\n",
       "\t Br2605 & 0.644 & 0.356 & AA  \\\\\n",
       "\t Br1802 & 0.840 & 0.160 & AA  \\\\\n",
       "\t Br2565 & 0.005 & 0.995 & CAUC\\\\\n",
       "\\end{tabular}\n"
      ],
      "text/markdown": [
       "\n",
       "A data.table: 6 × 4\n",
       "\n",
       "| id &lt;chr&gt; | Afr &lt;dbl&gt; | Eur &lt;dbl&gt; | group &lt;chr&gt; |\n",
       "|---|---|---|---|\n",
       "| Br2374 | 0.007 | 0.993 | CAUC |\n",
       "| Br1857 | 0.001 | 0.999 | CAUC |\n",
       "| Br1306 | 0.759 | 0.241 | AA   |\n",
       "| Br2605 | 0.644 | 0.356 | AA   |\n",
       "| Br1802 | 0.840 | 0.160 | AA   |\n",
       "| Br2565 | 0.005 | 0.995 | CAUC |\n",
       "\n"
      ],
      "text/plain": [
       "  id     Afr   Eur   group\n",
       "1 Br2374 0.007 0.993 CAUC \n",
       "2 Br1857 0.001 0.999 CAUC \n",
       "3 Br1306 0.759 0.241 AA   \n",
       "4 Br2605 0.644 0.356 AA   \n",
       "5 Br1802 0.840 0.160 AA   \n",
       "6 Br2565 0.005 0.995 CAUC "
      ]
     },
     "metadata": {},
     "output_type": "display_data"
    }
   ],
   "source": [
    "ancestry = data.table::fread(\"../../input/ancestry_structure/structure.out_ancestry_proportion_raceDemo_compare\")\n",
    "ancestry %>% head()"
   ]
  },
  {
   "cell_type": "code",
   "execution_count": 9,
   "metadata": {
    "execution": {
     "iopub.execute_input": "2021-08-23T14:53:50.905091Z",
     "iopub.status.busy": "2021-08-23T14:53:50.903828Z",
     "iopub.status.idle": "2021-08-23T14:53:50.962262Z",
     "shell.execute_reply": "2021-08-23T14:53:50.960970Z"
    }
   },
   "outputs": [
    {
     "data": {
      "text/html": [
       "<table class=\"dataframe\">\n",
       "<caption>A tibble: 2 × 3</caption>\n",
       "<thead>\n",
       "\t<tr><th scope=col>group</th><th scope=col>AA</th><th scope=col>EA</th></tr>\n",
       "\t<tr><th scope=col>&lt;fct&gt;</th><th scope=col>&lt;dbl&gt;</th><th scope=col>&lt;dbl&gt;</th></tr>\n",
       "</thead>\n",
       "<tbody>\n",
       "\t<tr><td>AA  </td><td>0.782219451</td><td>0.2177805</td></tr>\n",
       "\t<tr><td>CAUC</td><td>0.007510536</td><td>0.9924895</td></tr>\n",
       "</tbody>\n",
       "</table>\n"
      ],
      "text/latex": [
       "A tibble: 2 × 3\n",
       "\\begin{tabular}{lll}\n",
       " group & AA & EA\\\\\n",
       " <fct> & <dbl> & <dbl>\\\\\n",
       "\\hline\n",
       "\t AA   & 0.782219451 & 0.2177805\\\\\n",
       "\t CAUC & 0.007510536 & 0.9924895\\\\\n",
       "\\end{tabular}\n"
      ],
      "text/markdown": [
       "\n",
       "A tibble: 2 × 3\n",
       "\n",
       "| group &lt;fct&gt; | AA &lt;dbl&gt; | EA &lt;dbl&gt; |\n",
       "|---|---|---|\n",
       "| AA   | 0.782219451 | 0.2177805 |\n",
       "| CAUC | 0.007510536 | 0.9924895 |\n",
       "\n"
      ],
      "text/plain": [
       "  group AA          EA       \n",
       "1 AA    0.782219451 0.2177805\n",
       "2 CAUC  0.007510536 0.9924895"
      ]
     },
     "metadata": {},
     "output_type": "display_data"
    }
   ],
   "source": [
    "ancestry %>% mutate_if(is.character, as.factor) %>%\n",
    "    group_by(group) %>% summarize(AA=mean(Afr), EA=mean(Eur))"
   ]
  },
  {
   "cell_type": "code",
   "execution_count": 10,
   "metadata": {
    "execution": {
     "iopub.execute_input": "2021-08-23T14:53:50.968588Z",
     "iopub.status.busy": "2021-08-23T14:53:50.967175Z",
     "iopub.status.idle": "2021-08-23T14:53:51.030540Z",
     "shell.execute_reply": "2021-08-23T14:53:51.029240Z"
    }
   },
   "outputs": [
    {
     "data": {
      "text/html": [
       "<table class=\"dataframe\">\n",
       "<caption>A tibble: 2 × 9</caption>\n",
       "<thead>\n",
       "\t<tr><th scope=col>group</th><th scope=col>AA_mean</th><th scope=col>AA_sd</th><th scope=col>AA_max</th><th scope=col>AA_min</th><th scope=col>EA_mean</th><th scope=col>EA_sd</th><th scope=col>EA_max</th><th scope=col>EA_min</th></tr>\n",
       "\t<tr><th scope=col>&lt;fct&gt;</th><th scope=col>&lt;dbl&gt;</th><th scope=col>&lt;dbl&gt;</th><th scope=col>&lt;dbl&gt;</th><th scope=col>&lt;dbl&gt;</th><th scope=col>&lt;dbl&gt;</th><th scope=col>&lt;dbl&gt;</th><th scope=col>&lt;dbl&gt;</th><th scope=col>&lt;dbl&gt;</th></tr>\n",
       "</thead>\n",
       "<tbody>\n",
       "\t<tr><td>AA  </td><td>0.78962609</td><td>0.10611682</td><td>0.999</td><td>0.381</td><td>0.2103739</td><td>0.10611682</td><td>0.619</td><td>0.001</td></tr>\n",
       "\t<tr><td>CAUC</td><td>0.03087879</td><td>0.02997578</td><td>0.156</td><td>0.001</td><td>0.9691212</td><td>0.02997578</td><td>0.999</td><td>0.844</td></tr>\n",
       "</tbody>\n",
       "</table>\n"
      ],
      "text/latex": [
       "A tibble: 2 × 9\n",
       "\\begin{tabular}{lllllllll}\n",
       " group & AA\\_mean & AA\\_sd & AA\\_max & AA\\_min & EA\\_mean & EA\\_sd & EA\\_max & EA\\_min\\\\\n",
       " <fct> & <dbl> & <dbl> & <dbl> & <dbl> & <dbl> & <dbl> & <dbl> & <dbl>\\\\\n",
       "\\hline\n",
       "\t AA   & 0.78962609 & 0.10611682 & 0.999 & 0.381 & 0.2103739 & 0.10611682 & 0.619 & 0.001\\\\\n",
       "\t CAUC & 0.03087879 & 0.02997578 & 0.156 & 0.001 & 0.9691212 & 0.02997578 & 0.999 & 0.844\\\\\n",
       "\\end{tabular}\n"
      ],
      "text/markdown": [
       "\n",
       "A tibble: 2 × 9\n",
       "\n",
       "| group &lt;fct&gt; | AA_mean &lt;dbl&gt; | AA_sd &lt;dbl&gt; | AA_max &lt;dbl&gt; | AA_min &lt;dbl&gt; | EA_mean &lt;dbl&gt; | EA_sd &lt;dbl&gt; | EA_max &lt;dbl&gt; | EA_min &lt;dbl&gt; |\n",
       "|---|---|---|---|---|---|---|---|---|\n",
       "| AA   | 0.78962609 | 0.10611682 | 0.999 | 0.381 | 0.2103739 | 0.10611682 | 0.619 | 0.001 |\n",
       "| CAUC | 0.03087879 | 0.02997578 | 0.156 | 0.001 | 0.9691212 | 0.02997578 | 0.999 | 0.844 |\n",
       "\n"
      ],
      "text/plain": [
       "  group AA_mean    AA_sd      AA_max AA_min EA_mean   EA_sd      EA_max EA_min\n",
       "1 AA    0.78962609 0.10611682 0.999  0.381  0.2103739 0.10611682 0.619  0.001 \n",
       "2 CAUC  0.03087879 0.02997578 0.156  0.001  0.9691212 0.02997578 0.999  0.844 "
      ]
     },
     "metadata": {},
     "output_type": "display_data"
    }
   ],
   "source": [
    "ancestry %>% inner_join(pheno, by=c(\"id\"=\"BrNum\")) %>%\n",
    "    filter(Age > 17, Dx == \"Control\") %>% select(group, Afr, Eur) %>% \n",
    "    mutate_if(is.character, as.factor) %>% distinct %>%\n",
    "    group_by(group) %>% \n",
    "    summarize(AA_mean=mean(Afr), AA_sd=sd(Afr), AA_max=max(Afr), AA_min=min(Afr),\n",
    "              EA_mean=mean(Eur), EA_sd=sd(Eur), EA_max=max(Eur), EA_min=min(Eur))"
   ]
  },
  {
   "cell_type": "code",
   "execution_count": 11,
   "metadata": {
    "execution": {
     "iopub.execute_input": "2021-08-23T14:53:51.036813Z",
     "iopub.status.busy": "2021-08-23T14:53:51.035366Z",
     "iopub.status.idle": "2021-08-23T14:53:53.043797Z",
     "shell.execute_reply": "2021-08-23T14:53:53.042282Z"
    }
   },
   "outputs": [
    {
     "data": {
      "image/png": "[encoded data removed]",
      "text/plain": [
       "plot without title"
      ]
     },
     "metadata": {
      "image/png": {
       "height": 420,
       "width": 420
      }
     },
     "output_type": "display_data"
    }
   ],
   "source": [
    "bxp = ancestry %>% inner_join(pheno, by=c(\"id\"=\"BrNum\")) %>%\n",
    "    filter(Age > 17, Dx == \"Control\") %>% select(id, Race, Afr, Eur) %>%\n",
    "    mutate_if(is.character, as.factor) %>% distinct %>%\n",
    "    pivot_longer(-c(\"Race\", \"id\"), names_to=\"Ancestry\", values_to=\"Proportion\") %>% \n",
    "    ggdensity(x=\"Proportion\", color=\"Race\", fill=\"Race\", facet.by=\"Ancestry\", \n",
    "              ncol=2, rug=TRUE, add=\"mean\", palette=\"npg\", ylab=\"Population Density\", \n",
    "              xlab=\"Ancestry Proportion\", panel.labs.font=list(face='bold'), \n",
    "              ggtheme=theme_pubr(base_size=15, border=TRUE)) + \n",
    "    font(\"xy.title\", face=\"bold\") + font(\"legend.title\", face=\"bold\")\n",
    "save_ggplots(bxp, \"ancestry_structure_distribution\", 10, 5)\n",
    "bxp"
   ]
  },
  {
   "cell_type": "markdown",
   "metadata": {},
   "source": [
    "## eQTL analysis"
   ]
  },
  {
   "cell_type": "code",
   "execution_count": 12,
   "metadata": {
    "execution": {
     "iopub.execute_input": "2021-08-23T14:53:53.050177Z",
     "iopub.status.busy": "2021-08-23T14:53:53.048799Z",
     "iopub.status.idle": "2021-08-23T14:53:53.066053Z",
     "shell.execute_reply": "2021-08-23T14:53:53.064747Z"
    }
   },
   "outputs": [
    {
     "data": {
      "text/html": [
       "<style>\n",
       ".list-inline {list-style: none; margin:0; padding: 0}\n",
       ".list-inline>li {display: inline-block}\n",
       ".list-inline>li:not(:last-child)::after {content: \"\\00b7\"; padding: 0 .5ex}\n",
       "</style>\n",
       "<ol class=list-inline><li>1334</li><li>21</li></ol>\n"
      ],
      "text/latex": [
       "\\begin{enumerate*}\n",
       "\\item 1334\n",
       "\\item 21\n",
       "\\end{enumerate*}\n"
      ],
      "text/markdown": [
       "1. 1334\n",
       "2. 21\n",
       "\n",
       "\n"
      ],
      "text/plain": [
       "[1] 1334   21"
      ]
     },
     "metadata": {},
     "output_type": "display_data"
    }
   ],
   "source": [
    "pheno %>% dim"
   ]
  },
  {
   "cell_type": "code",
   "execution_count": 13,
   "metadata": {
    "execution": {
     "iopub.execute_input": "2021-08-23T14:53:53.072173Z",
     "iopub.status.busy": "2021-08-23T14:53:53.070789Z",
     "iopub.status.idle": "2021-08-23T14:53:53.086103Z",
     "shell.execute_reply": "2021-08-23T14:53:53.084792Z"
    }
   },
   "outputs": [
    {
     "name": "stdout",
     "output_type": "stream",
     "text": [
      "[1] \"There are 509 unique BrNum.\"\n"
     ]
    }
   ],
   "source": [
    "print(paste(\"There are\", unique(pheno$BrNum) %>% length, \"unique BrNum.\"))"
   ]
  },
  {
   "cell_type": "code",
   "execution_count": 14,
   "metadata": {
    "execution": {
     "iopub.execute_input": "2021-08-23T14:53:53.092832Z",
     "iopub.status.busy": "2021-08-23T14:53:53.090817Z",
     "iopub.status.idle": "2021-08-23T14:53:53.129293Z",
     "shell.execute_reply": "2021-08-23T14:53:53.127957Z"
    }
   },
   "outputs": [
    {
     "data": {
      "text/html": [
       "<table class=\"dataframe\">\n",
       "<caption>A grouped_df: 4 × 2</caption>\n",
       "<thead>\n",
       "\t<tr><th scope=col>Region</th><th scope=col>n</th></tr>\n",
       "\t<tr><th scope=col>&lt;fct&gt;</th><th scope=col>&lt;int&gt;</th></tr>\n",
       "</thead>\n",
       "<tbody>\n",
       "\t<tr><td>Caudate     </td><td>400</td></tr>\n",
       "\t<tr><td>DentateGyrus</td><td>161</td></tr>\n",
       "\t<tr><td>DLPFC       </td><td>378</td></tr>\n",
       "\t<tr><td>HIPPO       </td><td>395</td></tr>\n",
       "</tbody>\n",
       "</table>\n"
      ],
      "text/latex": [
       "A grouped\\_df: 4 × 2\n",
       "\\begin{tabular}{ll}\n",
       " Region & n\\\\\n",
       " <fct> & <int>\\\\\n",
       "\\hline\n",
       "\t Caudate      & 400\\\\\n",
       "\t DentateGyrus & 161\\\\\n",
       "\t DLPFC        & 378\\\\\n",
       "\t HIPPO        & 395\\\\\n",
       "\\end{tabular}\n"
      ],
      "text/markdown": [
       "\n",
       "A grouped_df: 4 × 2\n",
       "\n",
       "| Region &lt;fct&gt; | n &lt;int&gt; |\n",
       "|---|---|\n",
       "| Caudate      | 400 |\n",
       "| DentateGyrus | 161 |\n",
       "| DLPFC        | 378 |\n",
       "| HIPPO        | 395 |\n",
       "\n"
      ],
      "text/plain": [
       "  Region       n  \n",
       "1 Caudate      400\n",
       "2 DentateGyrus 161\n",
       "3 DLPFC        378\n",
       "4 HIPPO        395"
      ]
     },
     "metadata": {},
     "output_type": "display_data"
    }
   ],
   "source": [
    "pheno %>% select(BrNum, Region) %>% distinct %>%\n",
    "    mutate_if(is.character, as.factor) %>% \n",
    "    group_by(Region) %>% count()"
   ]
  },
  {
   "cell_type": "code",
   "execution_count": 15,
   "metadata": {
    "execution": {
     "iopub.execute_input": "2021-08-23T14:53:53.135433Z",
     "iopub.status.busy": "2021-08-23T14:53:53.134057Z",
     "iopub.status.idle": "2021-08-23T14:53:53.170598Z",
     "shell.execute_reply": "2021-08-23T14:53:53.169251Z"
    }
   },
   "outputs": [
    {
     "data": {
      "text/html": [
       "<table class=\"dataframe\">\n",
       "<caption>A grouped_df: 2 × 2</caption>\n",
       "<thead>\n",
       "\t<tr><th scope=col>Race</th><th scope=col>n</th></tr>\n",
       "\t<tr><th scope=col>&lt;fct&gt;</th><th scope=col>&lt;int&gt;</th></tr>\n",
       "</thead>\n",
       "<tbody>\n",
       "\t<tr><td>AA</td><td>256</td></tr>\n",
       "\t<tr><td>EA</td><td>253</td></tr>\n",
       "</tbody>\n",
       "</table>\n"
      ],
      "text/latex": [
       "A grouped\\_df: 2 × 2\n",
       "\\begin{tabular}{ll}\n",
       " Race & n\\\\\n",
       " <fct> & <int>\\\\\n",
       "\\hline\n",
       "\t AA & 256\\\\\n",
       "\t EA & 253\\\\\n",
       "\\end{tabular}\n"
      ],
      "text/markdown": [
       "\n",
       "A grouped_df: 2 × 2\n",
       "\n",
       "| Race &lt;fct&gt; | n &lt;int&gt; |\n",
       "|---|---|\n",
       "| AA | 256 |\n",
       "| EA | 253 |\n",
       "\n"
      ],
      "text/plain": [
       "  Race n  \n",
       "1 AA   256\n",
       "2 EA   253"
      ]
     },
     "metadata": {},
     "output_type": "display_data"
    }
   ],
   "source": [
    "pheno %>% select(BrNum, Race) %>% distinct %>%\n",
    "    mutate_if(is.character, as.factor) %>% \n",
    "    group_by(Race) %>% count()"
   ]
  },
  {
   "cell_type": "code",
   "execution_count": 16,
   "metadata": {
    "execution": {
     "iopub.execute_input": "2021-08-23T14:53:53.176686Z",
     "iopub.status.busy": "2021-08-23T14:53:53.175281Z",
     "iopub.status.idle": "2021-08-23T14:53:53.219151Z",
     "shell.execute_reply": "2021-08-23T14:53:53.217792Z"
    }
   },
   "outputs": [
    {
     "data": {
      "text/html": [
       "<table class=\"dataframe\">\n",
       "<caption>A grouped_df: 8 × 3</caption>\n",
       "<thead>\n",
       "\t<tr><th scope=col>Region</th><th scope=col>Race</th><th scope=col>n</th></tr>\n",
       "\t<tr><th scope=col>&lt;fct&gt;</th><th scope=col>&lt;fct&gt;</th><th scope=col>&lt;int&gt;</th></tr>\n",
       "</thead>\n",
       "<tbody>\n",
       "\t<tr><td>Caudate     </td><td>AA</td><td>206</td></tr>\n",
       "\t<tr><td>Caudate     </td><td>EA</td><td>194</td></tr>\n",
       "\t<tr><td>DentateGyrus</td><td>AA</td><td> 78</td></tr>\n",
       "\t<tr><td>DentateGyrus</td><td>EA</td><td> 83</td></tr>\n",
       "\t<tr><td>DLPFC       </td><td>AA</td><td>204</td></tr>\n",
       "\t<tr><td>DLPFC       </td><td>EA</td><td>174</td></tr>\n",
       "\t<tr><td>HIPPO       </td><td>AA</td><td>213</td></tr>\n",
       "\t<tr><td>HIPPO       </td><td>EA</td><td>182</td></tr>\n",
       "</tbody>\n",
       "</table>\n"
      ],
      "text/latex": [
       "A grouped\\_df: 8 × 3\n",
       "\\begin{tabular}{lll}\n",
       " Region & Race & n\\\\\n",
       " <fct> & <fct> & <int>\\\\\n",
       "\\hline\n",
       "\t Caudate      & AA & 206\\\\\n",
       "\t Caudate      & EA & 194\\\\\n",
       "\t DentateGyrus & AA &  78\\\\\n",
       "\t DentateGyrus & EA &  83\\\\\n",
       "\t DLPFC        & AA & 204\\\\\n",
       "\t DLPFC        & EA & 174\\\\\n",
       "\t HIPPO        & AA & 213\\\\\n",
       "\t HIPPO        & EA & 182\\\\\n",
       "\\end{tabular}\n"
      ],
      "text/markdown": [
       "\n",
       "A grouped_df: 8 × 3\n",
       "\n",
       "| Region &lt;fct&gt; | Race &lt;fct&gt; | n &lt;int&gt; |\n",
       "|---|---|---|\n",
       "| Caudate      | AA | 206 |\n",
       "| Caudate      | EA | 194 |\n",
       "| DentateGyrus | AA |  78 |\n",
       "| DentateGyrus | EA |  83 |\n",
       "| DLPFC        | AA | 204 |\n",
       "| DLPFC        | EA | 174 |\n",
       "| HIPPO        | AA | 213 |\n",
       "| HIPPO        | EA | 182 |\n",
       "\n"
      ],
      "text/plain": [
       "  Region       Race n  \n",
       "1 Caudate      AA   206\n",
       "2 Caudate      EA   194\n",
       "3 DentateGyrus AA    78\n",
       "4 DentateGyrus EA    83\n",
       "5 DLPFC        AA   204\n",
       "6 DLPFC        EA   174\n",
       "7 HIPPO        AA   213\n",
       "8 HIPPO        EA   182"
      ]
     },
     "metadata": {},
     "output_type": "display_data"
    }
   ],
   "source": [
    "pheno %>% select(BrNum, Race, Region) %>% distinct %>%\n",
    "    mutate_if(is.character, as.factor) %>% \n",
    "    group_by(Region, Race) %>% count()"
   ]
  },
  {
   "cell_type": "code",
   "execution_count": 17,
   "metadata": {
    "execution": {
     "iopub.execute_input": "2021-08-23T14:53:53.225239Z",
     "iopub.status.busy": "2021-08-23T14:53:53.223857Z",
     "iopub.status.idle": "2021-08-23T14:53:53.266744Z",
     "shell.execute_reply": "2021-08-23T14:53:53.265435Z"
    }
   },
   "outputs": [
    {
     "data": {
      "text/html": [
       "<table class=\"dataframe\">\n",
       "<caption>A grouped_df: 8 × 3</caption>\n",
       "<thead>\n",
       "\t<tr><th scope=col>Region</th><th scope=col>Sex</th><th scope=col>n</th></tr>\n",
       "\t<tr><th scope=col>&lt;fct&gt;</th><th scope=col>&lt;fct&gt;</th><th scope=col>&lt;int&gt;</th></tr>\n",
       "</thead>\n",
       "<tbody>\n",
       "\t<tr><td>Caudate     </td><td>F</td><td>126</td></tr>\n",
       "\t<tr><td>Caudate     </td><td>M</td><td>274</td></tr>\n",
       "\t<tr><td>DentateGyrus</td><td>F</td><td> 48</td></tr>\n",
       "\t<tr><td>DentateGyrus</td><td>M</td><td>113</td></tr>\n",
       "\t<tr><td>DLPFC       </td><td>F</td><td>121</td></tr>\n",
       "\t<tr><td>DLPFC       </td><td>M</td><td>257</td></tr>\n",
       "\t<tr><td>HIPPO       </td><td>F</td><td>126</td></tr>\n",
       "\t<tr><td>HIPPO       </td><td>M</td><td>269</td></tr>\n",
       "</tbody>\n",
       "</table>\n"
      ],
      "text/latex": [
       "A grouped\\_df: 8 × 3\n",
       "\\begin{tabular}{lll}\n",
       " Region & Sex & n\\\\\n",
       " <fct> & <fct> & <int>\\\\\n",
       "\\hline\n",
       "\t Caudate      & F & 126\\\\\n",
       "\t Caudate      & M & 274\\\\\n",
       "\t DentateGyrus & F &  48\\\\\n",
       "\t DentateGyrus & M & 113\\\\\n",
       "\t DLPFC        & F & 121\\\\\n",
       "\t DLPFC        & M & 257\\\\\n",
       "\t HIPPO        & F & 126\\\\\n",
       "\t HIPPO        & M & 269\\\\\n",
       "\\end{tabular}\n"
      ],
      "text/markdown": [
       "\n",
       "A grouped_df: 8 × 3\n",
       "\n",
       "| Region &lt;fct&gt; | Sex &lt;fct&gt; | n &lt;int&gt; |\n",
       "|---|---|---|\n",
       "| Caudate      | F | 126 |\n",
       "| Caudate      | M | 274 |\n",
       "| DentateGyrus | F |  48 |\n",
       "| DentateGyrus | M | 113 |\n",
       "| DLPFC        | F | 121 |\n",
       "| DLPFC        | M | 257 |\n",
       "| HIPPO        | F | 126 |\n",
       "| HIPPO        | M | 269 |\n",
       "\n"
      ],
      "text/plain": [
       "  Region       Sex n  \n",
       "1 Caudate      F   126\n",
       "2 Caudate      M   274\n",
       "3 DentateGyrus F    48\n",
       "4 DentateGyrus M   113\n",
       "5 DLPFC        F   121\n",
       "6 DLPFC        M   257\n",
       "7 HIPPO        F   126\n",
       "8 HIPPO        M   269"
      ]
     },
     "metadata": {},
     "output_type": "display_data"
    }
   ],
   "source": [
    "pheno %>% select(BrNum, Sex, Region) %>% distinct %>%\n",
    "    mutate_if(is.character, as.factor) %>% \n",
    "    group_by(Region, Sex) %>% count()"
   ]
  },
  {
   "cell_type": "code",
   "execution_count": 18,
   "metadata": {
    "execution": {
     "iopub.execute_input": "2021-08-23T14:53:53.272665Z",
     "iopub.status.busy": "2021-08-23T14:53:53.271387Z",
     "iopub.status.idle": "2021-08-23T14:53:53.302496Z",
     "shell.execute_reply": "2021-08-23T14:53:53.301225Z"
    }
   },
   "outputs": [
    {
     "data": {
      "text/html": [
       "<table class=\"dataframe\">\n",
       "<caption>A tibble: 4 × 3</caption>\n",
       "<thead>\n",
       "\t<tr><th scope=col>Region</th><th scope=col>mean</th><th scope=col>sd</th></tr>\n",
       "\t<tr><th scope=col>&lt;chr&gt;</th><th scope=col>&lt;dbl&gt;</th><th scope=col>&lt;dbl&gt;</th></tr>\n",
       "</thead>\n",
       "<tbody>\n",
       "\t<tr><td>Caudate     </td><td>49.12390</td><td>16.05379</td></tr>\n",
       "\t<tr><td>DentateGyrus</td><td>50.06770</td><td>15.43849</td></tr>\n",
       "\t<tr><td>DLPFC       </td><td>45.83574</td><td>16.49445</td></tr>\n",
       "\t<tr><td>HIPPO       </td><td>45.49527</td><td>16.41527</td></tr>\n",
       "</tbody>\n",
       "</table>\n"
      ],
      "text/latex": [
       "A tibble: 4 × 3\n",
       "\\begin{tabular}{lll}\n",
       " Region & mean & sd\\\\\n",
       " <chr> & <dbl> & <dbl>\\\\\n",
       "\\hline\n",
       "\t Caudate      & 49.12390 & 16.05379\\\\\n",
       "\t DentateGyrus & 50.06770 & 15.43849\\\\\n",
       "\t DLPFC        & 45.83574 & 16.49445\\\\\n",
       "\t HIPPO        & 45.49527 & 16.41527\\\\\n",
       "\\end{tabular}\n"
      ],
      "text/markdown": [
       "\n",
       "A tibble: 4 × 3\n",
       "\n",
       "| Region &lt;chr&gt; | mean &lt;dbl&gt; | sd &lt;dbl&gt; |\n",
       "|---|---|---|\n",
       "| Caudate      | 49.12390 | 16.05379 |\n",
       "| DentateGyrus | 50.06770 | 15.43849 |\n",
       "| DLPFC        | 45.83574 | 16.49445 |\n",
       "| HIPPO        | 45.49527 | 16.41527 |\n",
       "\n"
      ],
      "text/plain": [
       "  Region       mean     sd      \n",
       "1 Caudate      49.12390 16.05379\n",
       "2 DentateGyrus 50.06770 15.43849\n",
       "3 DLPFC        45.83574 16.49445\n",
       "4 HIPPO        45.49527 16.41527"
      ]
     },
     "metadata": {},
     "output_type": "display_data"
    }
   ],
   "source": [
    "pheno %>% group_by(Region) %>% \n",
    "  summarise_at(vars(c(\"Age\")), list(mean = mean, sd = sd)) "
   ]
  },
  {
   "cell_type": "code",
   "execution_count": 19,
   "metadata": {
    "execution": {
     "iopub.execute_input": "2021-08-23T14:53:53.308518Z",
     "iopub.status.busy": "2021-08-23T14:53:53.307221Z",
     "iopub.status.idle": "2021-08-23T14:53:53.341298Z",
     "shell.execute_reply": "2021-08-23T14:53:53.340004Z"
    }
   },
   "outputs": [
    {
     "data": {
      "text/html": [
       "<table class=\"dataframe\">\n",
       "<caption>A grouped_df: 8 × 4</caption>\n",
       "<thead>\n",
       "\t<tr><th scope=col>Region</th><th scope=col>Race</th><th scope=col>mean</th><th scope=col>sd</th></tr>\n",
       "\t<tr><th scope=col>&lt;chr&gt;</th><th scope=col>&lt;chr&gt;</th><th scope=col>&lt;dbl&gt;</th><th scope=col>&lt;dbl&gt;</th></tr>\n",
       "</thead>\n",
       "<tbody>\n",
       "\t<tr><td>Caudate     </td><td>AA</td><td>48.81325</td><td>14.49676</td></tr>\n",
       "\t<tr><td>Caudate     </td><td>EA</td><td>49.45376</td><td>17.58900</td></tr>\n",
       "\t<tr><td>DentateGyrus</td><td>AA</td><td>50.18423</td><td>15.53374</td></tr>\n",
       "\t<tr><td>DentateGyrus</td><td>EA</td><td>49.95819</td><td>15.44210</td></tr>\n",
       "\t<tr><td>DLPFC       </td><td>AA</td><td>46.97896</td><td>15.34261</td></tr>\n",
       "\t<tr><td>DLPFC       </td><td>EA</td><td>44.49542</td><td>17.70090</td></tr>\n",
       "\t<tr><td>HIPPO       </td><td>AA</td><td>46.34080</td><td>15.61922</td></tr>\n",
       "\t<tr><td>HIPPO       </td><td>EA</td><td>44.50571</td><td>17.29140</td></tr>\n",
       "</tbody>\n",
       "</table>\n"
      ],
      "text/latex": [
       "A grouped\\_df: 8 × 4\n",
       "\\begin{tabular}{llll}\n",
       " Region & Race & mean & sd\\\\\n",
       " <chr> & <chr> & <dbl> & <dbl>\\\\\n",
       "\\hline\n",
       "\t Caudate      & AA & 48.81325 & 14.49676\\\\\n",
       "\t Caudate      & EA & 49.45376 & 17.58900\\\\\n",
       "\t DentateGyrus & AA & 50.18423 & 15.53374\\\\\n",
       "\t DentateGyrus & EA & 49.95819 & 15.44210\\\\\n",
       "\t DLPFC        & AA & 46.97896 & 15.34261\\\\\n",
       "\t DLPFC        & EA & 44.49542 & 17.70090\\\\\n",
       "\t HIPPO        & AA & 46.34080 & 15.61922\\\\\n",
       "\t HIPPO        & EA & 44.50571 & 17.29140\\\\\n",
       "\\end{tabular}\n"
      ],
      "text/markdown": [
       "\n",
       "A grouped_df: 8 × 4\n",
       "\n",
       "| Region &lt;chr&gt; | Race &lt;chr&gt; | mean &lt;dbl&gt; | sd &lt;dbl&gt; |\n",
       "|---|---|---|---|\n",
       "| Caudate      | AA | 48.81325 | 14.49676 |\n",
       "| Caudate      | EA | 49.45376 | 17.58900 |\n",
       "| DentateGyrus | AA | 50.18423 | 15.53374 |\n",
       "| DentateGyrus | EA | 49.95819 | 15.44210 |\n",
       "| DLPFC        | AA | 46.97896 | 15.34261 |\n",
       "| DLPFC        | EA | 44.49542 | 17.70090 |\n",
       "| HIPPO        | AA | 46.34080 | 15.61922 |\n",
       "| HIPPO        | EA | 44.50571 | 17.29140 |\n",
       "\n"
      ],
      "text/plain": [
       "  Region       Race mean     sd      \n",
       "1 Caudate      AA   48.81325 14.49676\n",
       "2 Caudate      EA   49.45376 17.58900\n",
       "3 DentateGyrus AA   50.18423 15.53374\n",
       "4 DentateGyrus EA   49.95819 15.44210\n",
       "5 DLPFC        AA   46.97896 15.34261\n",
       "6 DLPFC        EA   44.49542 17.70090\n",
       "7 HIPPO        AA   46.34080 15.61922\n",
       "8 HIPPO        EA   44.50571 17.29140"
      ]
     },
     "metadata": {},
     "output_type": "display_data"
    }
   ],
   "source": [
    "pheno %>% group_by(Region, Race) %>% \n",
    "  summarise_at(vars(c(\"Age\")), list(mean = mean, sd = sd)) "
   ]
  },
  {
   "cell_type": "code",
   "execution_count": 20,
   "metadata": {
    "execution": {
     "iopub.execute_input": "2021-08-23T14:53:53.347281Z",
     "iopub.status.busy": "2021-08-23T14:53:53.345967Z",
     "iopub.status.idle": "2021-08-23T14:53:53.386259Z",
     "shell.execute_reply": "2021-08-23T14:53:53.384894Z"
    }
   },
   "outputs": [
    {
     "data": {
      "text/html": [
       "<table class=\"dataframe\">\n",
       "<caption>A tibble: 4 × 3</caption>\n",
       "<thead>\n",
       "\t<tr><th scope=col>Region</th><th scope=col>mean</th><th scope=col>sd</th></tr>\n",
       "\t<tr><th scope=col>&lt;chr&gt;</th><th scope=col>&lt;dbl&gt;</th><th scope=col>&lt;dbl&gt;</th></tr>\n",
       "</thead>\n",
       "<tbody>\n",
       "\t<tr><td>Caudate     </td><td>7.861000</td><td>0.8648983</td></tr>\n",
       "\t<tr><td>DentateGyrus</td><td>5.208403</td><td>1.1871187</td></tr>\n",
       "\t<tr><td>DLPFC       </td><td>7.699471</td><td>0.9340876</td></tr>\n",
       "\t<tr><td>HIPPO       </td><td>7.616962</td><td>1.0311104</td></tr>\n",
       "</tbody>\n",
       "</table>\n"
      ],
      "text/latex": [
       "A tibble: 4 × 3\n",
       "\\begin{tabular}{lll}\n",
       " Region & mean & sd\\\\\n",
       " <chr> & <dbl> & <dbl>\\\\\n",
       "\\hline\n",
       "\t Caudate      & 7.861000 & 0.8648983\\\\\n",
       "\t DentateGyrus & 5.208403 & 1.1871187\\\\\n",
       "\t DLPFC        & 7.699471 & 0.9340876\\\\\n",
       "\t HIPPO        & 7.616962 & 1.0311104\\\\\n",
       "\\end{tabular}\n"
      ],
      "text/markdown": [
       "\n",
       "A tibble: 4 × 3\n",
       "\n",
       "| Region &lt;chr&gt; | mean &lt;dbl&gt; | sd &lt;dbl&gt; |\n",
       "|---|---|---|\n",
       "| Caudate      | 7.861000 | 0.8648983 |\n",
       "| DentateGyrus | 5.208403 | 1.1871187 |\n",
       "| DLPFC        | 7.699471 | 0.9340876 |\n",
       "| HIPPO        | 7.616962 | 1.0311104 |\n",
       "\n"
      ],
      "text/plain": [
       "  Region       mean     sd       \n",
       "1 Caudate      7.861000 0.8648983\n",
       "2 DentateGyrus 5.208403 1.1871187\n",
       "3 DLPFC        7.699471 0.9340876\n",
       "4 HIPPO        7.616962 1.0311104"
      ]
     },
     "metadata": {},
     "output_type": "display_data"
    }
   ],
   "source": [
    "pheno %>% filter(RIN != \"NA\") %>% mutate(\"RIN\"=as.numeric(unlist(RIN))) %>% \n",
    "    group_by(Region) %>% summarise_at(vars(c(\"RIN\")), list(mean = mean, sd = sd)) "
   ]
  },
  {
   "cell_type": "code",
   "execution_count": 21,
   "metadata": {
    "execution": {
     "iopub.execute_input": "2021-08-23T14:53:53.392157Z",
     "iopub.status.busy": "2021-08-23T14:53:53.390897Z",
     "iopub.status.idle": "2021-08-23T14:53:53.435626Z",
     "shell.execute_reply": "2021-08-23T14:53:53.434343Z"
    }
   },
   "outputs": [
    {
     "data": {
      "text/html": [
       "<table class=\"dataframe\">\n",
       "<caption>A grouped_df: 8 × 4</caption>\n",
       "<thead>\n",
       "\t<tr><th scope=col>Region</th><th scope=col>Race</th><th scope=col>mean</th><th scope=col>sd</th></tr>\n",
       "\t<tr><th scope=col>&lt;chr&gt;</th><th scope=col>&lt;chr&gt;</th><th scope=col>&lt;dbl&gt;</th><th scope=col>&lt;dbl&gt;</th></tr>\n",
       "</thead>\n",
       "<tbody>\n",
       "\t<tr><td>Caudate     </td><td>AA</td><td>7.859709</td><td>0.8416464</td></tr>\n",
       "\t<tr><td>Caudate     </td><td>EA</td><td>7.862371</td><td>0.8911055</td></tr>\n",
       "\t<tr><td>DentateGyrus</td><td>AA</td><td>5.206349</td><td>1.2062837</td></tr>\n",
       "\t<tr><td>DentateGyrus</td><td>EA</td><td>5.210714</td><td>1.1760765</td></tr>\n",
       "\t<tr><td>DLPFC       </td><td>AA</td><td>7.678922</td><td>0.9445184</td></tr>\n",
       "\t<tr><td>DLPFC       </td><td>EA</td><td>7.723563</td><td>0.9238440</td></tr>\n",
       "\t<tr><td>HIPPO       </td><td>AA</td><td>7.604225</td><td>1.0509344</td></tr>\n",
       "\t<tr><td>HIPPO       </td><td>EA</td><td>7.631868</td><td>1.0101014</td></tr>\n",
       "</tbody>\n",
       "</table>\n"
      ],
      "text/latex": [
       "A grouped\\_df: 8 × 4\n",
       "\\begin{tabular}{llll}\n",
       " Region & Race & mean & sd\\\\\n",
       " <chr> & <chr> & <dbl> & <dbl>\\\\\n",
       "\\hline\n",
       "\t Caudate      & AA & 7.859709 & 0.8416464\\\\\n",
       "\t Caudate      & EA & 7.862371 & 0.8911055\\\\\n",
       "\t DentateGyrus & AA & 5.206349 & 1.2062837\\\\\n",
       "\t DentateGyrus & EA & 5.210714 & 1.1760765\\\\\n",
       "\t DLPFC        & AA & 7.678922 & 0.9445184\\\\\n",
       "\t DLPFC        & EA & 7.723563 & 0.9238440\\\\\n",
       "\t HIPPO        & AA & 7.604225 & 1.0509344\\\\\n",
       "\t HIPPO        & EA & 7.631868 & 1.0101014\\\\\n",
       "\\end{tabular}\n"
      ],
      "text/markdown": [
       "\n",
       "A grouped_df: 8 × 4\n",
       "\n",
       "| Region &lt;chr&gt; | Race &lt;chr&gt; | mean &lt;dbl&gt; | sd &lt;dbl&gt; |\n",
       "|---|---|---|---|\n",
       "| Caudate      | AA | 7.859709 | 0.8416464 |\n",
       "| Caudate      | EA | 7.862371 | 0.8911055 |\n",
       "| DentateGyrus | AA | 5.206349 | 1.2062837 |\n",
       "| DentateGyrus | EA | 5.210714 | 1.1760765 |\n",
       "| DLPFC        | AA | 7.678922 | 0.9445184 |\n",
       "| DLPFC        | EA | 7.723563 | 0.9238440 |\n",
       "| HIPPO        | AA | 7.604225 | 1.0509344 |\n",
       "| HIPPO        | EA | 7.631868 | 1.0101014 |\n",
       "\n"
      ],
      "text/plain": [
       "  Region       Race mean     sd       \n",
       "1 Caudate      AA   7.859709 0.8416464\n",
       "2 Caudate      EA   7.862371 0.8911055\n",
       "3 DentateGyrus AA   5.206349 1.2062837\n",
       "4 DentateGyrus EA   5.210714 1.1760765\n",
       "5 DLPFC        AA   7.678922 0.9445184\n",
       "6 DLPFC        EA   7.723563 0.9238440\n",
       "7 HIPPO        AA   7.604225 1.0509344\n",
       "8 HIPPO        EA   7.631868 1.0101014"
      ]
     },
     "metadata": {},
     "output_type": "display_data"
    }
   ],
   "source": [
    "pheno %>% filter(RIN != \"NA\") %>% mutate(\"RIN\"=as.numeric(unlist(RIN))) %>% \n",
    "    group_by(Region, Race) %>% summarise_at(vars(c(\"RIN\")), list(mean = mean, sd = sd)) "
   ]
  },
  {
   "cell_type": "markdown",
   "metadata": {},
   "source": [
    "## Adult individuals for expression related analysis"
   ]
  },
  {
   "cell_type": "code",
   "execution_count": 22,
   "metadata": {
    "execution": {
     "iopub.execute_input": "2021-08-23T14:53:53.441729Z",
     "iopub.status.busy": "2021-08-23T14:53:53.440485Z",
     "iopub.status.idle": "2021-08-23T14:53:53.461324Z",
     "shell.execute_reply": "2021-08-23T14:53:53.460032Z"
    }
   },
   "outputs": [
    {
     "data": {
      "text/html": [
       "<style>\n",
       ".list-inline {list-style: none; margin:0; padding: 0}\n",
       ".list-inline>li {display: inline-block}\n",
       ".list-inline>li:not(:last-child)::after {content: \"\\00b7\"; padding: 0 .5ex}\n",
       "</style>\n",
       "<ol class=list-inline><li>785</li><li>21</li></ol>\n"
      ],
      "text/latex": [
       "\\begin{enumerate*}\n",
       "\\item 785\n",
       "\\item 21\n",
       "\\end{enumerate*}\n"
      ],
      "text/markdown": [
       "1. 785\n",
       "2. 21\n",
       "\n",
       "\n"
      ],
      "text/plain": [
       "[1] 785  21"
      ]
     },
     "metadata": {},
     "output_type": "display_data"
    }
   ],
   "source": [
    "pheno = pheno %>% filter(Age > 17, Dx == \"Control\")\n",
    "pheno %>% dim"
   ]
  },
  {
   "cell_type": "code",
   "execution_count": 23,
   "metadata": {
    "execution": {
     "iopub.execute_input": "2021-08-23T14:53:53.467217Z",
     "iopub.status.busy": "2021-08-23T14:53:53.465934Z",
     "iopub.status.idle": "2021-08-23T14:53:53.480107Z",
     "shell.execute_reply": "2021-08-23T14:53:53.478805Z"
    }
   },
   "outputs": [
    {
     "name": "stdout",
     "output_type": "stream",
     "text": [
      "[1] \"There are 292 unique BrNum.\"\n"
     ]
    }
   ],
   "source": [
    "print(paste(\"There are\", unique(pheno$BrNum) %>% length, \"unique BrNum.\"))"
   ]
  },
  {
   "cell_type": "code",
   "execution_count": 24,
   "metadata": {
    "execution": {
     "iopub.execute_input": "2021-08-23T14:53:53.486062Z",
     "iopub.status.busy": "2021-08-23T14:53:53.484725Z",
     "iopub.status.idle": "2021-08-23T14:53:53.548417Z",
     "shell.execute_reply": "2021-08-23T14:53:53.547130Z"
    }
   },
   "outputs": [
    {
     "data": {
      "text/html": [
       "<table class=\"dataframe\">\n",
       "<caption>A grouped_df: 4 × 2</caption>\n",
       "<thead>\n",
       "\t<tr><th scope=col>Region</th><th scope=col>n</th></tr>\n",
       "\t<tr><th scope=col>&lt;fct&gt;</th><th scope=col>&lt;int&gt;</th></tr>\n",
       "</thead>\n",
       "<tbody>\n",
       "\t<tr><td>Caudate     </td><td>240</td></tr>\n",
       "\t<tr><td>DentateGyrus</td><td> 90</td></tr>\n",
       "\t<tr><td>DLPFC       </td><td>212</td></tr>\n",
       "\t<tr><td>HIPPO       </td><td>243</td></tr>\n",
       "</tbody>\n",
       "</table>\n"
      ],
      "text/latex": [
       "A grouped\\_df: 4 × 2\n",
       "\\begin{tabular}{ll}\n",
       " Region & n\\\\\n",
       " <fct> & <int>\\\\\n",
       "\\hline\n",
       "\t Caudate      & 240\\\\\n",
       "\t DentateGyrus &  90\\\\\n",
       "\t DLPFC        & 212\\\\\n",
       "\t HIPPO        & 243\\\\\n",
       "\\end{tabular}\n"
      ],
      "text/markdown": [
       "\n",
       "A grouped_df: 4 × 2\n",
       "\n",
       "| Region &lt;fct&gt; | n &lt;int&gt; |\n",
       "|---|---|\n",
       "| Caudate      | 240 |\n",
       "| DentateGyrus |  90 |\n",
       "| DLPFC        | 212 |\n",
       "| HIPPO        | 243 |\n",
       "\n"
      ],
      "text/plain": [
       "  Region       n  \n",
       "1 Caudate      240\n",
       "2 DentateGyrus  90\n",
       "3 DLPFC        212\n",
       "4 HIPPO        243"
      ]
     },
     "metadata": {},
     "output_type": "display_data"
    }
   ],
   "source": [
    "pheno %>% select(BrNum, Region) %>% distinct %>%\n",
    "    mutate_if(is.character, as.factor) %>% \n",
    "    group_by(Region) %>% count()"
   ]
  },
  {
   "cell_type": "code",
   "execution_count": 25,
   "metadata": {
    "execution": {
     "iopub.execute_input": "2021-08-23T14:53:53.554289Z",
     "iopub.status.busy": "2021-08-23T14:53:53.553006Z",
     "iopub.status.idle": "2021-08-23T14:53:53.586614Z",
     "shell.execute_reply": "2021-08-23T14:53:53.585317Z"
    }
   },
   "outputs": [
    {
     "data": {
      "text/html": [
       "<table class=\"dataframe\">\n",
       "<caption>A grouped_df: 2 × 2</caption>\n",
       "<thead>\n",
       "\t<tr><th scope=col>Race</th><th scope=col>n</th></tr>\n",
       "\t<tr><th scope=col>&lt;fct&gt;</th><th scope=col>&lt;int&gt;</th></tr>\n",
       "</thead>\n",
       "<tbody>\n",
       "\t<tr><td>AA</td><td>151</td></tr>\n",
       "\t<tr><td>EA</td><td>141</td></tr>\n",
       "</tbody>\n",
       "</table>\n"
      ],
      "text/latex": [
       "A grouped\\_df: 2 × 2\n",
       "\\begin{tabular}{ll}\n",
       " Race & n\\\\\n",
       " <fct> & <int>\\\\\n",
       "\\hline\n",
       "\t AA & 151\\\\\n",
       "\t EA & 141\\\\\n",
       "\\end{tabular}\n"
      ],
      "text/markdown": [
       "\n",
       "A grouped_df: 2 × 2\n",
       "\n",
       "| Race &lt;fct&gt; | n &lt;int&gt; |\n",
       "|---|---|\n",
       "| AA | 151 |\n",
       "| EA | 141 |\n",
       "\n"
      ],
      "text/plain": [
       "  Race n  \n",
       "1 AA   151\n",
       "2 EA   141"
      ]
     },
     "metadata": {},
     "output_type": "display_data"
    }
   ],
   "source": [
    "pheno %>% select(BrNum, Race) %>% distinct %>%\n",
    "    mutate_if(is.character, as.factor) %>% \n",
    "    group_by(Race) %>% count()"
   ]
  },
  {
   "cell_type": "code",
   "execution_count": 26,
   "metadata": {
    "execution": {
     "iopub.execute_input": "2021-08-23T14:53:53.592665Z",
     "iopub.status.busy": "2021-08-23T14:53:53.591392Z",
     "iopub.status.idle": "2021-08-23T14:53:53.631557Z",
     "shell.execute_reply": "2021-08-23T14:53:53.630265Z"
    }
   },
   "outputs": [
    {
     "data": {
      "text/html": [
       "<table class=\"dataframe\">\n",
       "<caption>A grouped_df: 8 × 3</caption>\n",
       "<thead>\n",
       "\t<tr><th scope=col>Region</th><th scope=col>Race</th><th scope=col>n</th></tr>\n",
       "\t<tr><th scope=col>&lt;fct&gt;</th><th scope=col>&lt;fct&gt;</th><th scope=col>&lt;int&gt;</th></tr>\n",
       "</thead>\n",
       "<tbody>\n",
       "\t<tr><td>Caudate     </td><td>AA</td><td>122</td></tr>\n",
       "\t<tr><td>Caudate     </td><td>EA</td><td>118</td></tr>\n",
       "\t<tr><td>DentateGyrus</td><td>AA</td><td> 47</td></tr>\n",
       "\t<tr><td>DentateGyrus</td><td>EA</td><td> 43</td></tr>\n",
       "\t<tr><td>DLPFC       </td><td>AA</td><td>123</td></tr>\n",
       "\t<tr><td>DLPFC       </td><td>EA</td><td> 89</td></tr>\n",
       "\t<tr><td>HIPPO       </td><td>AA</td><td>133</td></tr>\n",
       "\t<tr><td>HIPPO       </td><td>EA</td><td>110</td></tr>\n",
       "</tbody>\n",
       "</table>\n"
      ],
      "text/latex": [
       "A grouped\\_df: 8 × 3\n",
       "\\begin{tabular}{lll}\n",
       " Region & Race & n\\\\\n",
       " <fct> & <fct> & <int>\\\\\n",
       "\\hline\n",
       "\t Caudate      & AA & 122\\\\\n",
       "\t Caudate      & EA & 118\\\\\n",
       "\t DentateGyrus & AA &  47\\\\\n",
       "\t DentateGyrus & EA &  43\\\\\n",
       "\t DLPFC        & AA & 123\\\\\n",
       "\t DLPFC        & EA &  89\\\\\n",
       "\t HIPPO        & AA & 133\\\\\n",
       "\t HIPPO        & EA & 110\\\\\n",
       "\\end{tabular}\n"
      ],
      "text/markdown": [
       "\n",
       "A grouped_df: 8 × 3\n",
       "\n",
       "| Region &lt;fct&gt; | Race &lt;fct&gt; | n &lt;int&gt; |\n",
       "|---|---|---|\n",
       "| Caudate      | AA | 122 |\n",
       "| Caudate      | EA | 118 |\n",
       "| DentateGyrus | AA |  47 |\n",
       "| DentateGyrus | EA |  43 |\n",
       "| DLPFC        | AA | 123 |\n",
       "| DLPFC        | EA |  89 |\n",
       "| HIPPO        | AA | 133 |\n",
       "| HIPPO        | EA | 110 |\n",
       "\n"
      ],
      "text/plain": [
       "  Region       Race n  \n",
       "1 Caudate      AA   122\n",
       "2 Caudate      EA   118\n",
       "3 DentateGyrus AA    47\n",
       "4 DentateGyrus EA    43\n",
       "5 DLPFC        AA   123\n",
       "6 DLPFC        EA    89\n",
       "7 HIPPO        AA   133\n",
       "8 HIPPO        EA   110"
      ]
     },
     "metadata": {},
     "output_type": "display_data"
    }
   ],
   "source": [
    "pheno %>% select(BrNum, Race, Region) %>% distinct %>%\n",
    "    mutate_if(is.character, as.factor) %>% \n",
    "    group_by(Region, Race) %>% count()"
   ]
  },
  {
   "cell_type": "code",
   "execution_count": 27,
   "metadata": {
    "execution": {
     "iopub.execute_input": "2021-08-23T14:53:53.637441Z",
     "iopub.status.busy": "2021-08-23T14:53:53.636150Z",
     "iopub.status.idle": "2021-08-23T14:53:53.676212Z",
     "shell.execute_reply": "2021-08-23T14:53:53.674902Z"
    }
   },
   "outputs": [
    {
     "data": {
      "text/html": [
       "<table class=\"dataframe\">\n",
       "<caption>A grouped_df: 8 × 3</caption>\n",
       "<thead>\n",
       "\t<tr><th scope=col>Region</th><th scope=col>Sex</th><th scope=col>n</th></tr>\n",
       "\t<tr><th scope=col>&lt;fct&gt;</th><th scope=col>&lt;fct&gt;</th><th scope=col>&lt;int&gt;</th></tr>\n",
       "</thead>\n",
       "<tbody>\n",
       "\t<tr><td>Caudate     </td><td>F</td><td> 71</td></tr>\n",
       "\t<tr><td>Caudate     </td><td>M</td><td>169</td></tr>\n",
       "\t<tr><td>DentateGyrus</td><td>F</td><td> 26</td></tr>\n",
       "\t<tr><td>DentateGyrus</td><td>M</td><td> 64</td></tr>\n",
       "\t<tr><td>DLPFC       </td><td>F</td><td> 66</td></tr>\n",
       "\t<tr><td>DLPFC       </td><td>M</td><td>146</td></tr>\n",
       "\t<tr><td>HIPPO       </td><td>F</td><td> 74</td></tr>\n",
       "\t<tr><td>HIPPO       </td><td>M</td><td>169</td></tr>\n",
       "</tbody>\n",
       "</table>\n"
      ],
      "text/latex": [
       "A grouped\\_df: 8 × 3\n",
       "\\begin{tabular}{lll}\n",
       " Region & Sex & n\\\\\n",
       " <fct> & <fct> & <int>\\\\\n",
       "\\hline\n",
       "\t Caudate      & F &  71\\\\\n",
       "\t Caudate      & M & 169\\\\\n",
       "\t DentateGyrus & F &  26\\\\\n",
       "\t DentateGyrus & M &  64\\\\\n",
       "\t DLPFC        & F &  66\\\\\n",
       "\t DLPFC        & M & 146\\\\\n",
       "\t HIPPO        & F &  74\\\\\n",
       "\t HIPPO        & M & 169\\\\\n",
       "\\end{tabular}\n"
      ],
      "text/markdown": [
       "\n",
       "A grouped_df: 8 × 3\n",
       "\n",
       "| Region &lt;fct&gt; | Sex &lt;fct&gt; | n &lt;int&gt; |\n",
       "|---|---|---|\n",
       "| Caudate      | F |  71 |\n",
       "| Caudate      | M | 169 |\n",
       "| DentateGyrus | F |  26 |\n",
       "| DentateGyrus | M |  64 |\n",
       "| DLPFC        | F |  66 |\n",
       "| DLPFC        | M | 146 |\n",
       "| HIPPO        | F |  74 |\n",
       "| HIPPO        | M | 169 |\n",
       "\n"
      ],
      "text/plain": [
       "  Region       Sex n  \n",
       "1 Caudate      F    71\n",
       "2 Caudate      M   169\n",
       "3 DentateGyrus F    26\n",
       "4 DentateGyrus M    64\n",
       "5 DLPFC        F    66\n",
       "6 DLPFC        M   146\n",
       "7 HIPPO        F    74\n",
       "8 HIPPO        M   169"
      ]
     },
     "metadata": {},
     "output_type": "display_data"
    }
   ],
   "source": [
    "pheno %>% select(BrNum, Sex, Region) %>% distinct %>%\n",
    "    mutate_if(is.character, as.factor) %>% \n",
    "    group_by(Region, Sex) %>% count()"
   ]
  },
  {
   "cell_type": "code",
   "execution_count": 28,
   "metadata": {
    "execution": {
     "iopub.execute_input": "2021-08-23T14:53:53.682158Z",
     "iopub.status.busy": "2021-08-23T14:53:53.680890Z",
     "iopub.status.idle": "2021-08-23T14:53:53.710277Z",
     "shell.execute_reply": "2021-08-23T14:53:53.708970Z"
    }
   },
   "outputs": [
    {
     "data": {
      "text/html": [
       "<table class=\"dataframe\">\n",
       "<caption>A tibble: 4 × 3</caption>\n",
       "<thead>\n",
       "\t<tr><th scope=col>Region</th><th scope=col>mean</th><th scope=col>sd</th></tr>\n",
       "\t<tr><th scope=col>&lt;chr&gt;</th><th scope=col>&lt;dbl&gt;</th><th scope=col>&lt;dbl&gt;</th></tr>\n",
       "</thead>\n",
       "<tbody>\n",
       "\t<tr><td>Caudate     </td><td>48.31150</td><td>15.84692</td></tr>\n",
       "\t<tr><td>DentateGyrus</td><td>47.88311</td><td>15.02380</td></tr>\n",
       "\t<tr><td>DLPFC       </td><td>45.16991</td><td>14.76717</td></tr>\n",
       "\t<tr><td>HIPPO       </td><td>44.56724</td><td>14.73045</td></tr>\n",
       "</tbody>\n",
       "</table>\n"
      ],
      "text/latex": [
       "A tibble: 4 × 3\n",
       "\\begin{tabular}{lll}\n",
       " Region & mean & sd\\\\\n",
       " <chr> & <dbl> & <dbl>\\\\\n",
       "\\hline\n",
       "\t Caudate      & 48.31150 & 15.84692\\\\\n",
       "\t DentateGyrus & 47.88311 & 15.02380\\\\\n",
       "\t DLPFC        & 45.16991 & 14.76717\\\\\n",
       "\t HIPPO        & 44.56724 & 14.73045\\\\\n",
       "\\end{tabular}\n"
      ],
      "text/markdown": [
       "\n",
       "A tibble: 4 × 3\n",
       "\n",
       "| Region &lt;chr&gt; | mean &lt;dbl&gt; | sd &lt;dbl&gt; |\n",
       "|---|---|---|\n",
       "| Caudate      | 48.31150 | 15.84692 |\n",
       "| DentateGyrus | 47.88311 | 15.02380 |\n",
       "| DLPFC        | 45.16991 | 14.76717 |\n",
       "| HIPPO        | 44.56724 | 14.73045 |\n",
       "\n"
      ],
      "text/plain": [
       "  Region       mean     sd      \n",
       "1 Caudate      48.31150 15.84692\n",
       "2 DentateGyrus 47.88311 15.02380\n",
       "3 DLPFC        45.16991 14.76717\n",
       "4 HIPPO        44.56724 14.73045"
      ]
     },
     "metadata": {},
     "output_type": "display_data"
    }
   ],
   "source": [
    "pheno %>% group_by(Region) %>% \n",
    "  summarise_at(vars(c(\"Age\")), list(mean = mean, sd = sd)) "
   ]
  },
  {
   "cell_type": "code",
   "execution_count": 29,
   "metadata": {
    "execution": {
     "iopub.execute_input": "2021-08-23T14:53:53.716142Z",
     "iopub.status.busy": "2021-08-23T14:53:53.714865Z",
     "iopub.status.idle": "2021-08-23T14:53:53.748831Z",
     "shell.execute_reply": "2021-08-23T14:53:53.747529Z"
    }
   },
   "outputs": [
    {
     "data": {
      "text/html": [
       "<table class=\"dataframe\">\n",
       "<caption>A grouped_df: 8 × 4</caption>\n",
       "<thead>\n",
       "\t<tr><th scope=col>Region</th><th scope=col>Race</th><th scope=col>mean</th><th scope=col>sd</th></tr>\n",
       "\t<tr><th scope=col>&lt;chr&gt;</th><th scope=col>&lt;chr&gt;</th><th scope=col>&lt;dbl&gt;</th><th scope=col>&lt;dbl&gt;</th></tr>\n",
       "</thead>\n",
       "<tbody>\n",
       "\t<tr><td>Caudate     </td><td>AA</td><td>45.63770</td><td>14.72979</td></tr>\n",
       "\t<tr><td>Caudate     </td><td>EA</td><td>51.07593</td><td>16.53588</td></tr>\n",
       "\t<tr><td>DentateGyrus</td><td>AA</td><td>45.85043</td><td>16.32827</td></tr>\n",
       "\t<tr><td>DentateGyrus</td><td>EA</td><td>50.10488</td><td>13.28980</td></tr>\n",
       "\t<tr><td>DLPFC       </td><td>AA</td><td>44.12511</td><td>14.97092</td></tr>\n",
       "\t<tr><td>DLPFC       </td><td>EA</td><td>46.61386</td><td>14.43996</td></tr>\n",
       "\t<tr><td>HIPPO       </td><td>AA</td><td>43.30015</td><td>14.73609</td></tr>\n",
       "\t<tr><td>HIPPO       </td><td>EA</td><td>46.09927</td><td>14.64404</td></tr>\n",
       "</tbody>\n",
       "</table>\n"
      ],
      "text/latex": [
       "A grouped\\_df: 8 × 4\n",
       "\\begin{tabular}{llll}\n",
       " Region & Race & mean & sd\\\\\n",
       " <chr> & <chr> & <dbl> & <dbl>\\\\\n",
       "\\hline\n",
       "\t Caudate      & AA & 45.63770 & 14.72979\\\\\n",
       "\t Caudate      & EA & 51.07593 & 16.53588\\\\\n",
       "\t DentateGyrus & AA & 45.85043 & 16.32827\\\\\n",
       "\t DentateGyrus & EA & 50.10488 & 13.28980\\\\\n",
       "\t DLPFC        & AA & 44.12511 & 14.97092\\\\\n",
       "\t DLPFC        & EA & 46.61386 & 14.43996\\\\\n",
       "\t HIPPO        & AA & 43.30015 & 14.73609\\\\\n",
       "\t HIPPO        & EA & 46.09927 & 14.64404\\\\\n",
       "\\end{tabular}\n"
      ],
      "text/markdown": [
       "\n",
       "A grouped_df: 8 × 4\n",
       "\n",
       "| Region &lt;chr&gt; | Race &lt;chr&gt; | mean &lt;dbl&gt; | sd &lt;dbl&gt; |\n",
       "|---|---|---|---|\n",
       "| Caudate      | AA | 45.63770 | 14.72979 |\n",
       "| Caudate      | EA | 51.07593 | 16.53588 |\n",
       "| DentateGyrus | AA | 45.85043 | 16.32827 |\n",
       "| DentateGyrus | EA | 50.10488 | 13.28980 |\n",
       "| DLPFC        | AA | 44.12511 | 14.97092 |\n",
       "| DLPFC        | EA | 46.61386 | 14.43996 |\n",
       "| HIPPO        | AA | 43.30015 | 14.73609 |\n",
       "| HIPPO        | EA | 46.09927 | 14.64404 |\n",
       "\n"
      ],
      "text/plain": [
       "  Region       Race mean     sd      \n",
       "1 Caudate      AA   45.63770 14.72979\n",
       "2 Caudate      EA   51.07593 16.53588\n",
       "3 DentateGyrus AA   45.85043 16.32827\n",
       "4 DentateGyrus EA   50.10488 13.28980\n",
       "5 DLPFC        AA   44.12511 14.97092\n",
       "6 DLPFC        EA   46.61386 14.43996\n",
       "7 HIPPO        AA   43.30015 14.73609\n",
       "8 HIPPO        EA   46.09927 14.64404"
      ]
     },
     "metadata": {},
     "output_type": "display_data"
    }
   ],
   "source": [
    "pheno %>% group_by(Region, Race) %>% \n",
    "  summarise_at(vars(c(\"Age\")), list(mean = mean, sd = sd)) "
   ]
  },
  {
   "cell_type": "code",
   "execution_count": 30,
   "metadata": {
    "execution": {
     "iopub.execute_input": "2021-08-23T14:53:53.754845Z",
     "iopub.status.busy": "2021-08-23T14:53:53.753577Z",
     "iopub.status.idle": "2021-08-23T14:53:53.790966Z",
     "shell.execute_reply": "2021-08-23T14:53:53.789658Z"
    }
   },
   "outputs": [
    {
     "data": {
      "text/html": [
       "<table class=\"dataframe\">\n",
       "<caption>A tibble: 4 × 3</caption>\n",
       "<thead>\n",
       "\t<tr><th scope=col>Region</th><th scope=col>mean</th><th scope=col>sd</th></tr>\n",
       "\t<tr><th scope=col>&lt;chr&gt;</th><th scope=col>&lt;dbl&gt;</th><th scope=col>&lt;dbl&gt;</th></tr>\n",
       "</thead>\n",
       "<tbody>\n",
       "\t<tr><td>Caudate     </td><td>7.850000</td><td>0.7956997</td></tr>\n",
       "\t<tr><td>DentateGyrus</td><td>5.315152</td><td>1.2186048</td></tr>\n",
       "\t<tr><td>DLPFC       </td><td>7.699057</td><td>0.8803807</td></tr>\n",
       "\t<tr><td>HIPPO       </td><td>7.735391</td><td>0.9668378</td></tr>\n",
       "</tbody>\n",
       "</table>\n"
      ],
      "text/latex": [
       "A tibble: 4 × 3\n",
       "\\begin{tabular}{lll}\n",
       " Region & mean & sd\\\\\n",
       " <chr> & <dbl> & <dbl>\\\\\n",
       "\\hline\n",
       "\t Caudate      & 7.850000 & 0.7956997\\\\\n",
       "\t DentateGyrus & 5.315152 & 1.2186048\\\\\n",
       "\t DLPFC        & 7.699057 & 0.8803807\\\\\n",
       "\t HIPPO        & 7.735391 & 0.9668378\\\\\n",
       "\\end{tabular}\n"
      ],
      "text/markdown": [
       "\n",
       "A tibble: 4 × 3\n",
       "\n",
       "| Region &lt;chr&gt; | mean &lt;dbl&gt; | sd &lt;dbl&gt; |\n",
       "|---|---|---|\n",
       "| Caudate      | 7.850000 | 0.7956997 |\n",
       "| DentateGyrus | 5.315152 | 1.2186048 |\n",
       "| DLPFC        | 7.699057 | 0.8803807 |\n",
       "| HIPPO        | 7.735391 | 0.9668378 |\n",
       "\n"
      ],
      "text/plain": [
       "  Region       mean     sd       \n",
       "1 Caudate      7.850000 0.7956997\n",
       "2 DentateGyrus 5.315152 1.2186048\n",
       "3 DLPFC        7.699057 0.8803807\n",
       "4 HIPPO        7.735391 0.9668378"
      ]
     },
     "metadata": {},
     "output_type": "display_data"
    }
   ],
   "source": [
    "pheno %>% filter(RIN != \"NA\") %>% mutate(\"RIN\"=as.numeric(unlist(RIN))) %>% \n",
    "    group_by(Region) %>% summarise_at(vars(c(\"RIN\")), list(mean = mean, sd = sd)) "
   ]
  },
  {
   "cell_type": "code",
   "execution_count": 31,
   "metadata": {
    "execution": {
     "iopub.execute_input": "2021-08-23T14:53:53.796849Z",
     "iopub.status.busy": "2021-08-23T14:53:53.795537Z",
     "iopub.status.idle": "2021-08-23T14:53:53.837969Z",
     "shell.execute_reply": "2021-08-23T14:53:53.836519Z"
    }
   },
   "outputs": [
    {
     "data": {
      "text/html": [
       "<table class=\"dataframe\">\n",
       "<caption>A grouped_df: 8 × 4</caption>\n",
       "<thead>\n",
       "\t<tr><th scope=col>Region</th><th scope=col>Race</th><th scope=col>mean</th><th scope=col>sd</th></tr>\n",
       "\t<tr><th scope=col>&lt;chr&gt;</th><th scope=col>&lt;chr&gt;</th><th scope=col>&lt;dbl&gt;</th><th scope=col>&lt;dbl&gt;</th></tr>\n",
       "</thead>\n",
       "<tbody>\n",
       "\t<tr><td>Caudate     </td><td>AA</td><td>7.829508</td><td>0.7993477</td></tr>\n",
       "\t<tr><td>Caudate     </td><td>EA</td><td>7.871186</td><td>0.7947587</td></tr>\n",
       "\t<tr><td>DentateGyrus</td><td>AA</td><td>5.447368</td><td>1.2173824</td></tr>\n",
       "\t<tr><td>DentateGyrus</td><td>EA</td><td>5.135714</td><td>1.2190507</td></tr>\n",
       "\t<tr><td>DLPFC       </td><td>AA</td><td>7.696748</td><td>0.8851169</td></tr>\n",
       "\t<tr><td>DLPFC       </td><td>EA</td><td>7.702247</td><td>0.8787876</td></tr>\n",
       "\t<tr><td>HIPPO       </td><td>AA</td><td>7.715038</td><td>0.9754173</td></tr>\n",
       "\t<tr><td>HIPPO       </td><td>EA</td><td>7.760000</td><td>0.9602370</td></tr>\n",
       "</tbody>\n",
       "</table>\n"
      ],
      "text/latex": [
       "A grouped\\_df: 8 × 4\n",
       "\\begin{tabular}{llll}\n",
       " Region & Race & mean & sd\\\\\n",
       " <chr> & <chr> & <dbl> & <dbl>\\\\\n",
       "\\hline\n",
       "\t Caudate      & AA & 7.829508 & 0.7993477\\\\\n",
       "\t Caudate      & EA & 7.871186 & 0.7947587\\\\\n",
       "\t DentateGyrus & AA & 5.447368 & 1.2173824\\\\\n",
       "\t DentateGyrus & EA & 5.135714 & 1.2190507\\\\\n",
       "\t DLPFC        & AA & 7.696748 & 0.8851169\\\\\n",
       "\t DLPFC        & EA & 7.702247 & 0.8787876\\\\\n",
       "\t HIPPO        & AA & 7.715038 & 0.9754173\\\\\n",
       "\t HIPPO        & EA & 7.760000 & 0.9602370\\\\\n",
       "\\end{tabular}\n"
      ],
      "text/markdown": [
       "\n",
       "A grouped_df: 8 × 4\n",
       "\n",
       "| Region &lt;chr&gt; | Race &lt;chr&gt; | mean &lt;dbl&gt; | sd &lt;dbl&gt; |\n",
       "|---|---|---|---|\n",
       "| Caudate      | AA | 7.829508 | 0.7993477 |\n",
       "| Caudate      | EA | 7.871186 | 0.7947587 |\n",
       "| DentateGyrus | AA | 5.447368 | 1.2173824 |\n",
       "| DentateGyrus | EA | 5.135714 | 1.2190507 |\n",
       "| DLPFC        | AA | 7.696748 | 0.8851169 |\n",
       "| DLPFC        | EA | 7.702247 | 0.8787876 |\n",
       "| HIPPO        | AA | 7.715038 | 0.9754173 |\n",
       "| HIPPO        | EA | 7.760000 | 0.9602370 |\n",
       "\n"
      ],
      "text/plain": [
       "  Region       Race mean     sd       \n",
       "1 Caudate      AA   7.829508 0.7993477\n",
       "2 Caudate      EA   7.871186 0.7947587\n",
       "3 DentateGyrus AA   5.447368 1.2173824\n",
       "4 DentateGyrus EA   5.135714 1.2190507\n",
       "5 DLPFC        AA   7.696748 0.8851169\n",
       "6 DLPFC        EA   7.702247 0.8787876\n",
       "7 HIPPO        AA   7.715038 0.9754173\n",
       "8 HIPPO        EA   7.760000 0.9602370"
      ]
     },
     "metadata": {},
     "output_type": "display_data"
    }
   ],
   "source": [
    "pheno %>% filter(RIN != \"NA\") %>% mutate(\"RIN\"=as.numeric(unlist(RIN))) %>% \n",
    "    group_by(Region, Race) %>% summarise_at(vars(c(\"RIN\")), list(mean = mean, sd = sd)) "
   ]
  },
  {
   "cell_type": "markdown",
   "metadata": {},
   "source": [
    "### Pie chart"
   ]
  },
  {
   "cell_type": "code",
   "execution_count": 32,
   "metadata": {
    "execution": {
     "iopub.execute_input": "2021-08-23T14:53:53.844314Z",
     "iopub.status.busy": "2021-08-23T14:53:53.842991Z",
     "iopub.status.idle": "2021-08-23T14:53:53.855558Z",
     "shell.execute_reply": "2021-08-23T14:53:53.854261Z"
    }
   },
   "outputs": [],
   "source": [
    "plot_pie <- function(tissue){\n",
    "    pie = pheno %>% mutate_if(is.character, as.factor) %>% group_by(Region, Race) %>%\n",
    "        count %>% as.data.frame %>% group_by(Region) %>%\n",
    "        transmute(Race, Percent = round(n/sum(n)*100, 1)) %>%\n",
    "        mutate(Labels=paste0(Race, \" (\", Percent, \"%)\")) %>% filter(Region == tissue) %>%\n",
    "        ggpie(\"Percent\", label=\"Labels\", fill=\"Race\", color=\"white\", palette=\"npg\", \n",
    "              lab.pos=\"in\", lab.font=c(8, \"bold\", \"white\"),\n",
    "              ggtheme=theme_pubr(base_size=20, legend=\"none\"))\n",
    "    return(pie)\n",
    "}"
   ]
  },
  {
   "cell_type": "code",
   "execution_count": 33,
   "metadata": {
    "execution": {
     "iopub.execute_input": "2021-08-23T14:53:53.861557Z",
     "iopub.status.busy": "2021-08-23T14:53:53.860270Z",
     "iopub.status.idle": "2021-08-23T14:53:56.281713Z",
     "shell.execute_reply": "2021-08-23T14:53:56.280303Z"
    }
   },
   "outputs": [
    {
     "data": {
      "image/png": "[encoded data removed]",
      "text/plain": [
       "plot without title"
      ]
     },
     "metadata": {
      "image/png": {
       "height": 420,
       "width": 420
      }
     },
     "output_type": "display_data"
    }
   ],
   "source": [
    "## Get and annotate plot\n",
    "cc_pie = annotate_figure(plot_pie(\"Caudate\"), \n",
    "                         top = text_grob(\"Caudate\", face = \"bold\", size = 26))\n",
    "gg_pie = annotate_figure(plot_pie(\"DentateGyrus\"), \n",
    "                         top = text_grob(\"Dentate Gyrus\", face = \"bold\", size = 26))\n",
    "dd_pie = annotate_figure(plot_pie(\"DLPFC\"), \n",
    "                         top = text_grob(\"DLPFC\", face = \"bold\", size = 26))\n",
    "hh_pie = annotate_figure(plot_pie(\"HIPPO\"), \n",
    "                         top = text_grob(\"Hippocampus\", face = \"bold\", size = 26))\n",
    "## Arrange figure\n",
    "figure <- ggarrange(cc_pie, gg_pie, dd_pie, hh_pie, ncol = 2, nrow = 2)\n",
    "save_ggplots(figure, \"ancestry_piecharts\", 10, 10)\n",
    "figure"
   ]
  },
  {
   "cell_type": "markdown",
   "metadata": {},
   "source": [
    "## Reproducibility Information"
   ]
  },
  {
   "cell_type": "code",
   "execution_count": 34,
   "metadata": {
    "execution": {
     "iopub.execute_input": "2021-08-23T14:53:56.288210Z",
     "iopub.status.busy": "2021-08-23T14:53:56.286840Z",
     "iopub.status.idle": "2021-08-23T14:53:56.541898Z",
     "shell.execute_reply": "2021-08-23T14:53:56.540600Z"
    }
   },
   "outputs": [
    {
     "data": {
      "text/plain": [
       "[1] \"2021-08-23 10:53:56 EDT\""
      ]
     },
     "metadata": {},
     "output_type": "display_data"
    },
    {
     "data": {
      "text/plain": [
       "   user  system elapsed \n",
       " 20.391   1.623  22.452 "
      ]
     },
     "metadata": {},
     "output_type": "display_data"
    },
    {
     "data": {
      "text/plain": [
       "─ Session info ───────────────────────────────────────────────────────────────────────────────────────────────────────\n",
       " setting  value                       \n",
       " version  R version 4.0.3 (2020-10-10)\n",
       " os       Arch Linux                  \n",
       " system   x86_64, linux-gnu           \n",
       " ui       X11                         \n",
       " language (EN)                        \n",
       " collate  en_US.UTF-8                 \n",
       " ctype    en_US.UTF-8                 \n",
       " tz       America/New_York            \n",
       " date     2021-08-23                  \n",
       "\n",
       "─ Packages ───────────────────────────────────────────────────────────────────────────────────────────────────────────\n",
       " package              * version  date       lib source        \n",
       " abind                  1.4-5    2016-07-21 [1] CRAN (R 4.0.2)\n",
       " assertthat             0.2.1    2019-03-21 [1] CRAN (R 4.0.2)\n",
       " backports              1.2.1    2020-12-09 [1] CRAN (R 4.0.2)\n",
       " base64enc              0.1-3    2015-07-28 [1] CRAN (R 4.0.2)\n",
       " Biobase              * 2.50.0   2020-10-27 [1] Bioconductor  \n",
       " BiocGenerics         * 0.36.1   2021-04-16 [1] Bioconductor  \n",
       " bitops                 1.0-7    2021-04-24 [1] CRAN (R 4.0.3)\n",
       " broom                  0.7.8    2021-06-24 [1] CRAN (R 4.0.3)\n",
       " Cairo                  1.5-12.2 2020-07-07 [1] CRAN (R 4.0.2)\n",
       " car                    3.0-11   2021-06-27 [1] CRAN (R 4.0.3)\n",
       " carData                3.0-4    2020-05-22 [1] CRAN (R 4.0.2)\n",
       " cellranger             1.1.0    2016-07-27 [1] CRAN (R 4.0.2)\n",
       " cli                    3.0.0    2021-06-30 [1] CRAN (R 4.0.3)\n",
       " colorspace             2.0-2    2021-06-24 [1] CRAN (R 4.0.3)\n",
       " cowplot                1.1.1    2020-12-30 [1] CRAN (R 4.0.2)\n",
       " crayon                 1.4.1    2021-02-08 [1] CRAN (R 4.0.3)\n",
       " curl                   4.3.2    2021-06-23 [1] CRAN (R 4.0.3)\n",
       " data.table             1.14.0   2021-02-21 [1] CRAN (R 4.0.3)\n",
       " DBI                    1.1.1    2021-01-15 [1] CRAN (R 4.0.2)\n",
       " dbplyr                 2.1.1    2021-04-06 [1] CRAN (R 4.0.3)\n",
       " DelayedArray           0.16.3   2021-03-24 [1] Bioconductor  \n",
       " digest                 0.6.27   2020-10-24 [1] CRAN (R 4.0.2)\n",
       " dplyr                * 1.0.7    2021-06-18 [1] CRAN (R 4.0.3)\n",
       " ellipsis               0.3.2    2021-04-29 [1] CRAN (R 4.0.3)\n",
       " evaluate               0.14     2019-05-28 [1] CRAN (R 4.0.2)\n",
       " fansi                  0.5.0    2021-05-25 [1] CRAN (R 4.0.3)\n",
       " farver                 2.1.0    2021-02-28 [1] CRAN (R 4.0.3)\n",
       " forcats              * 0.5.1    2021-01-27 [1] CRAN (R 4.0.2)\n",
       " foreign                0.8-80   2020-05-24 [2] CRAN (R 4.0.3)\n",
       " fs                     1.5.0    2020-07-31 [1] CRAN (R 4.0.2)\n",
       " generics               0.1.0    2020-10-31 [1] CRAN (R 4.0.2)\n",
       " GenomeInfoDb         * 1.26.7   2021-04-08 [1] Bioconductor  \n",
       " GenomeInfoDbData       1.2.4    2021-02-02 [1] Bioconductor  \n",
       " GenomicRanges        * 1.42.0   2020-10-27 [1] Bioconductor  \n",
       " ggplot2              * 3.3.5    2021-06-25 [1] CRAN (R 4.0.3)\n",
       " ggpubr               * 0.4.0    2020-06-27 [1] CRAN (R 4.0.2)\n",
       " ggsci                  2.9      2018-05-14 [1] CRAN (R 4.0.2)\n",
       " ggsignif               0.6.2    2021-06-14 [1] CRAN (R 4.0.3)\n",
       " glue                   1.4.2    2020-08-27 [1] CRAN (R 4.0.2)\n",
       " gridExtra              2.3      2017-09-09 [1] CRAN (R 4.0.2)\n",
       " gtable                 0.3.0    2019-03-25 [1] CRAN (R 4.0.2)\n",
       " haven                  2.4.1    2021-04-23 [1] CRAN (R 4.0.3)\n",
       " hms                    1.1.0    2021-05-17 [1] CRAN (R 4.0.3)\n",
       " htmltools              0.5.1.1  2021-01-22 [1] CRAN (R 4.0.2)\n",
       " httr                   1.4.2    2020-07-20 [1] CRAN (R 4.0.2)\n",
       " IRanges              * 2.24.1   2020-12-12 [1] Bioconductor  \n",
       " IRdisplay              1.0      2021-01-20 [1] CRAN (R 4.0.2)\n",
       " IRkernel               1.2      2021-05-11 [1] CRAN (R 4.0.3)\n",
       " jsonlite               1.7.2    2020-12-09 [1] CRAN (R 4.0.2)\n",
       " labeling               0.4.2    2020-10-20 [1] CRAN (R 4.0.2)\n",
       " lattice                0.20-41  2020-04-02 [2] CRAN (R 4.0.3)\n",
       " lifecycle              1.0.0    2021-02-15 [1] CRAN (R 4.0.3)\n",
       " lubridate              1.7.10   2021-02-26 [1] CRAN (R 4.0.3)\n",
       " magrittr               2.0.1    2020-11-17 [1] CRAN (R 4.0.2)\n",
       " Matrix                 1.3-4    2021-06-01 [1] CRAN (R 4.0.3)\n",
       " MatrixGenerics       * 1.2.1    2021-01-30 [1] Bioconductor  \n",
       " matrixStats          * 0.59.0   2021-06-01 [1] CRAN (R 4.0.3)\n",
       " modelr                 0.1.8    2020-05-19 [1] CRAN (R 4.0.2)\n",
       " munsell                0.5.0    2018-06-12 [1] CRAN (R 4.0.2)\n",
       " openxlsx               4.2.4    2021-06-16 [1] CRAN (R 4.0.3)\n",
       " pbdZMQ                 0.3-5    2021-02-10 [1] CRAN (R 4.0.3)\n",
       " pillar                 1.6.1    2021-05-16 [1] CRAN (R 4.0.3)\n",
       " pkgconfig              2.0.3    2019-09-22 [1] CRAN (R 4.0.2)\n",
       " purrr                * 0.3.4    2020-04-17 [1] CRAN (R 4.0.2)\n",
       " R6                     2.5.0    2020-10-28 [1] CRAN (R 4.0.2)\n",
       " Rcpp                   1.0.7    2021-07-07 [1] CRAN (R 4.0.3)\n",
       " RCurl                  1.98-1.3 2021-03-16 [1] CRAN (R 4.0.3)\n",
       " readr                * 1.4.0    2020-10-05 [1] CRAN (R 4.0.2)\n",
       " readxl                 1.3.1    2019-03-13 [1] CRAN (R 4.0.2)\n",
       " repr                   1.1.3    2021-01-21 [1] CRAN (R 4.0.2)\n",
       " reprex                 2.0.0    2021-04-02 [1] CRAN (R 4.0.3)\n",
       " rio                    0.5.27   2021-06-21 [1] CRAN (R 4.0.3)\n",
       " rlang                  0.4.11   2021-04-30 [1] CRAN (R 4.0.3)\n",
       " rstatix                0.7.0    2021-02-13 [1] CRAN (R 4.0.3)\n",
       " rstudioapi             0.13     2020-11-12 [1] CRAN (R 4.0.2)\n",
       " rvest                  1.0.0    2021-03-09 [1] CRAN (R 4.0.3)\n",
       " S4Vectors            * 0.28.1   2020-12-09 [1] Bioconductor  \n",
       " scales                 1.1.1    2020-05-11 [1] CRAN (R 4.0.2)\n",
       " sessioninfo            1.1.1    2018-11-05 [1] CRAN (R 4.0.2)\n",
       " stringi                1.7.3    2021-07-16 [1] CRAN (R 4.0.3)\n",
       " stringr              * 1.4.0    2019-02-10 [1] CRAN (R 4.0.2)\n",
       " SummarizedExperiment * 1.20.0   2020-10-27 [1] Bioconductor  \n",
       " svglite                2.0.0    2021-02-20 [1] CRAN (R 4.0.3)\n",
       " systemfonts            1.0.2    2021-05-11 [1] CRAN (R 4.0.3)\n",
       " tibble               * 3.1.2    2021-05-16 [1] CRAN (R 4.0.3)\n",
       " tidyr                * 1.1.3    2021-03-03 [1] CRAN (R 4.0.3)\n",
       " tidyselect             1.1.1    2021-04-30 [1] CRAN (R 4.0.3)\n",
       " tidyverse            * 1.3.1    2021-04-15 [1] CRAN (R 4.0.3)\n",
       " utf8                   1.2.1    2021-03-12 [1] CRAN (R 4.0.3)\n",
       " uuid                   0.1-4    2020-02-26 [1] CRAN (R 4.0.2)\n",
       " vctrs                  0.3.8    2021-04-29 [1] CRAN (R 4.0.3)\n",
       " withr                  2.4.2    2021-04-18 [1] CRAN (R 4.0.3)\n",
       " xml2                   1.3.2    2020-04-23 [1] CRAN (R 4.0.2)\n",
       " XVector                0.30.0   2020-10-27 [1] Bioconductor  \n",
       " zip                    2.2.0    2021-05-31 [1] CRAN (R 4.0.3)\n",
       " zlibbioc               1.36.0   2020-10-27 [1] Bioconductor  \n",
       "\n",
       "[1] /home/jbenja13/R/x86_64-pc-linux-gnu-library/4.0\n",
       "[2] /usr/lib/R/library"
      ]
     },
     "metadata": {},
     "output_type": "display_data"
    }
   ],
   "source": [
    "Sys.time()\n",
    "proc.time()\n",
    "options(width = 120)\n",
    "sessioninfo::session_info()"
   ]
  }
 ],
 "metadata": {
  "kernelspec": {
   "display_name": "R",
   "language": "R",
   "name": "ir"
  },
  "language_info": {
   "codemirror_mode": "r",
   "file_extension": ".r",
   "mimetype": "text/x-r-source",
   "name": "R",
   "pygments_lexer": "r",
   "version": "4.0.3"
  }
 },
 "nbformat": 4,
 "nbformat_minor": 4
}
