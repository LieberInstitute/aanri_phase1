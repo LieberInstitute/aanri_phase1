{
 "cells": [
  {
   "cell_type": "markdown",
   "metadata": {},
   "source": [
    "# Examine sample make-up"
   ]
  },
  {
   "cell_type": "code",
   "execution_count": 1,
   "metadata": {},
   "outputs": [],
   "source": [
    "suppressMessages({library(SummarizedExperiment)\n",
    "                  library(tidyverse)\n",
    "                  library(ggpubr)})"
   ]
  },
  {
   "cell_type": "markdown",
   "metadata": {},
   "source": [
    "## Samples after quality control"
   ]
  },
  {
   "cell_type": "code",
   "execution_count": 2,
   "metadata": {},
   "outputs": [],
   "source": [
    "save_ggplots <- function(p, fn, w, h){\n",
    "    for(ext in c('.pdf', '.svg')){\n",
    "        ggsave(paste0(fn, ext), plot=p, width=w, height=h)\n",
    "    }\n",
    "}"
   ]
  },
  {
   "cell_type": "markdown",
   "metadata": {},
   "source": [
    "### Load Caudate data"
   ]
  },
  {
   "cell_type": "code",
   "execution_count": 3,
   "metadata": {},
   "outputs": [],
   "source": [
    "# Load counts and phenotype R variable\n",
    "load(\"../../input/counts/_m/caudate_brainseq_phase3_hg38_rseGene_merged_n464.rda\")\n",
    "### Subset and recode\n",
    "keepIndex = which((rse_gene$Dx %in% c('Control', \"Schizo\")) & \n",
    "                  rse_gene$Race %in% c('CAUC', 'AA'))\n",
    "rse_gene = rse_gene[, keepIndex]\n",
    "### Extract phenotypes\n",
    "pheno_C <- colData(rse_gene) %>% as.data.frame"
   ]
  },
  {
   "cell_type": "markdown",
   "metadata": {},
   "source": [
    "### Load DLPFC data"
   ]
  },
  {
   "cell_type": "code",
   "execution_count": 4,
   "metadata": {},
   "outputs": [],
   "source": [
    "# Load counts and phenotype R variable\n",
    "load(\"../../input/counts/_m/dlpfc_ribozero_brainseq_phase2_hg38_rseGene_merged_n453.rda\")\n",
    "### Subset and recode\n",
    "keepIndex = which((rse_gene$Dx %in% c('Control', \"Schizo\")) & \n",
    "                  rse_gene$Race %in% c('CAUC', 'AA'))\n",
    "rse_gene = rse_gene[, keepIndex]\n",
    "### Extract phenotypes\n",
    "pheno_D <- colData(rse_gene) %>% as.data.frame"
   ]
  },
  {
   "cell_type": "markdown",
   "metadata": {},
   "source": [
    "### Load Hippocampus data"
   ]
  },
  {
   "cell_type": "code",
   "execution_count": 5,
   "metadata": {},
   "outputs": [],
   "source": [
    "# Load counts and phenotype R variable\n",
    "load(\"../../input/counts/_m/hippo_brainseq_phase2_hg38_rseGene_merged_n447.rda\")\n",
    "### Subset and recode\n",
    "keepIndex = which((rse_gene$Dx %in% c('Control', \"Schizo\")) & \n",
    "                  rse_gene$Race %in% c('CAUC', 'AA'))\n",
    "rse_gene = rse_gene[, keepIndex]\n",
    "### Extract phenotypes\n",
    "pheno_H <- colData(rse_gene) %>% as.data.frame"
   ]
  },
  {
   "cell_type": "markdown",
   "metadata": {},
   "source": [
    "### Load DG data"
   ]
  },
  {
   "cell_type": "code",
   "execution_count": 6,
   "metadata": {},
   "outputs": [],
   "source": [
    "# Load counts and phenotype R variable\n",
    "load(\"../../input/counts/_m/astellas_dg_hg38_rseGene_n263.rda\")\n",
    "### Subset and recode\n",
    "keepIndex = which((rse_gene$Dx %in% c('Control', \"Schizo\")) & \n",
    "                  rse_gene$Race %in% c('CAUC', 'AA'))\n",
    "rse_gene = rse_gene[, keepIndex]\n",
    "### Extract phenotypes\n",
    "pheno_dg <- colData(rse_gene) %>% as.data.frame"
   ]
  },
  {
   "cell_type": "markdown",
   "metadata": {},
   "source": [
    "### Merge data"
   ]
  },
  {
   "cell_type": "code",
   "execution_count": 7,
   "metadata": {},
   "outputs": [],
   "source": [
    "allCols <- intersect(intersect(intersect(colnames(pheno_C), colnames(pheno_D)), \n",
    "                               colnames(pheno_H)), \n",
    "                     colnames(pheno_dg))\n",
    "pheno = rbind(pheno_C[, allCols], pheno_D[, allCols], \n",
    "              pheno_H[, allCols], pheno_dg[, allCols]) %>% \n",
    "    filter(Age > 17) %>% mutate(Race=gsub(\"CAUC\", \"EA\", Race))"
   ]
  },
  {
   "cell_type": "markdown",
   "metadata": {},
   "source": [
    "## STRUCTURE analysis"
   ]
  },
  {
   "cell_type": "code",
   "execution_count": 8,
   "metadata": {},
   "outputs": [
    {
     "data": {
      "text/html": [
       "<table class=\"dataframe\">\n",
       "<caption>A data.table: 2 × 4</caption>\n",
       "<thead>\n",
       "\t<tr><th scope=col>id</th><th scope=col>Afr</th><th scope=col>Eur</th><th scope=col>group</th></tr>\n",
       "\t<tr><th scope=col>&lt;chr&gt;</th><th scope=col>&lt;dbl&gt;</th><th scope=col>&lt;dbl&gt;</th><th scope=col>&lt;chr&gt;</th></tr>\n",
       "</thead>\n",
       "<tbody>\n",
       "\t<tr><td>Br2374</td><td>0.007</td><td>0.993</td><td>CAUC</td></tr>\n",
       "\t<tr><td>Br1857</td><td>0.001</td><td>0.999</td><td>CAUC</td></tr>\n",
       "</tbody>\n",
       "</table>\n"
      ],
      "text/latex": [
       "A data.table: 2 × 4\n",
       "\\begin{tabular}{llll}\n",
       " id & Afr & Eur & group\\\\\n",
       " <chr> & <dbl> & <dbl> & <chr>\\\\\n",
       "\\hline\n",
       "\t Br2374 & 0.007 & 0.993 & CAUC\\\\\n",
       "\t Br1857 & 0.001 & 0.999 & CAUC\\\\\n",
       "\\end{tabular}\n"
      ],
      "text/markdown": [
       "\n",
       "A data.table: 2 × 4\n",
       "\n",
       "| id &lt;chr&gt; | Afr &lt;dbl&gt; | Eur &lt;dbl&gt; | group &lt;chr&gt; |\n",
       "|---|---|---|---|\n",
       "| Br2374 | 0.007 | 0.993 | CAUC |\n",
       "| Br1857 | 0.001 | 0.999 | CAUC |\n",
       "\n"
      ],
      "text/plain": [
       "  id     Afr   Eur   group\n",
       "1 Br2374 0.007 0.993 CAUC \n",
       "2 Br1857 0.001 0.999 CAUC "
      ]
     },
     "metadata": {},
     "output_type": "display_data"
    }
   ],
   "source": [
    "ancestry = data.table::fread(\"../../input/ancestry_structure/structure.out_ancestry_proportion_raceDemo_compare\")\n",
    "ancestry %>% head(2)"
   ]
  },
  {
   "cell_type": "code",
   "execution_count": 9,
   "metadata": {},
   "outputs": [
    {
     "data": {
      "text/html": [
       "<table class=\"dataframe\">\n",
       "<caption>A tibble: 2 × 3</caption>\n",
       "<thead>\n",
       "\t<tr><th scope=col>group</th><th scope=col>AA</th><th scope=col>EA</th></tr>\n",
       "\t<tr><th scope=col>&lt;fct&gt;</th><th scope=col>&lt;dbl&gt;</th><th scope=col>&lt;dbl&gt;</th></tr>\n",
       "</thead>\n",
       "<tbody>\n",
       "\t<tr><td>AA  </td><td>0.782219451</td><td>0.2177805</td></tr>\n",
       "\t<tr><td>CAUC</td><td>0.007510536</td><td>0.9924895</td></tr>\n",
       "</tbody>\n",
       "</table>\n"
      ],
      "text/latex": [
       "A tibble: 2 × 3\n",
       "\\begin{tabular}{lll}\n",
       " group & AA & EA\\\\\n",
       " <fct> & <dbl> & <dbl>\\\\\n",
       "\\hline\n",
       "\t AA   & 0.782219451 & 0.2177805\\\\\n",
       "\t CAUC & 0.007510536 & 0.9924895\\\\\n",
       "\\end{tabular}\n"
      ],
      "text/markdown": [
       "\n",
       "A tibble: 2 × 3\n",
       "\n",
       "| group &lt;fct&gt; | AA &lt;dbl&gt; | EA &lt;dbl&gt; |\n",
       "|---|---|---|\n",
       "| AA   | 0.782219451 | 0.2177805 |\n",
       "| CAUC | 0.007510536 | 0.9924895 |\n",
       "\n"
      ],
      "text/plain": [
       "  group AA          EA       \n",
       "1 AA    0.782219451 0.2177805\n",
       "2 CAUC  0.007510536 0.9924895"
      ]
     },
     "metadata": {},
     "output_type": "display_data"
    }
   ],
   "source": [
    "ancestry %>% mutate_if(is.character, as.factor) %>%\n",
    "    group_by(group) %>% summarize(AA=mean(Afr), EA=mean(Eur))"
   ]
  },
  {
   "cell_type": "code",
   "execution_count": 10,
   "metadata": {},
   "outputs": [
    {
     "data": {
      "text/html": [
       "<table class=\"dataframe\">\n",
       "<caption>A tibble: 2 × 9</caption>\n",
       "<thead>\n",
       "\t<tr><th scope=col>group</th><th scope=col>AA_mean</th><th scope=col>AA_sd</th><th scope=col>AA_max</th><th scope=col>AA_min</th><th scope=col>EA_mean</th><th scope=col>EA_sd</th><th scope=col>EA_max</th><th scope=col>EA_min</th></tr>\n",
       "\t<tr><th scope=col>&lt;fct&gt;</th><th scope=col>&lt;dbl&gt;</th><th scope=col>&lt;dbl&gt;</th><th scope=col>&lt;dbl&gt;</th><th scope=col>&lt;dbl&gt;</th><th scope=col>&lt;dbl&gt;</th><th scope=col>&lt;dbl&gt;</th><th scope=col>&lt;dbl&gt;</th><th scope=col>&lt;dbl&gt;</th></tr>\n",
       "</thead>\n",
       "<tbody>\n",
       "\t<tr><td>AA  </td><td>0.78962609</td><td>0.10611682</td><td>0.999</td><td>0.381</td><td>0.2103739</td><td>0.10611682</td><td>0.619</td><td>0.001</td></tr>\n",
       "\t<tr><td>CAUC</td><td>0.03087879</td><td>0.02997578</td><td>0.156</td><td>0.001</td><td>0.9691212</td><td>0.02997578</td><td>0.999</td><td>0.844</td></tr>\n",
       "</tbody>\n",
       "</table>\n"
      ],
      "text/latex": [
       "A tibble: 2 × 9\n",
       "\\begin{tabular}{lllllllll}\n",
       " group & AA\\_mean & AA\\_sd & AA\\_max & AA\\_min & EA\\_mean & EA\\_sd & EA\\_max & EA\\_min\\\\\n",
       " <fct> & <dbl> & <dbl> & <dbl> & <dbl> & <dbl> & <dbl> & <dbl> & <dbl>\\\\\n",
       "\\hline\n",
       "\t AA   & 0.78962609 & 0.10611682 & 0.999 & 0.381 & 0.2103739 & 0.10611682 & 0.619 & 0.001\\\\\n",
       "\t CAUC & 0.03087879 & 0.02997578 & 0.156 & 0.001 & 0.9691212 & 0.02997578 & 0.999 & 0.844\\\\\n",
       "\\end{tabular}\n"
      ],
      "text/markdown": [
       "\n",
       "A tibble: 2 × 9\n",
       "\n",
       "| group &lt;fct&gt; | AA_mean &lt;dbl&gt; | AA_sd &lt;dbl&gt; | AA_max &lt;dbl&gt; | AA_min &lt;dbl&gt; | EA_mean &lt;dbl&gt; | EA_sd &lt;dbl&gt; | EA_max &lt;dbl&gt; | EA_min &lt;dbl&gt; |\n",
       "|---|---|---|---|---|---|---|---|---|\n",
       "| AA   | 0.78962609 | 0.10611682 | 0.999 | 0.381 | 0.2103739 | 0.10611682 | 0.619 | 0.001 |\n",
       "| CAUC | 0.03087879 | 0.02997578 | 0.156 | 0.001 | 0.9691212 | 0.02997578 | 0.999 | 0.844 |\n",
       "\n"
      ],
      "text/plain": [
       "  group AA_mean    AA_sd      AA_max AA_min EA_mean   EA_sd      EA_max EA_min\n",
       "1 AA    0.78962609 0.10611682 0.999  0.381  0.2103739 0.10611682 0.619  0.001 \n",
       "2 CAUC  0.03087879 0.02997578 0.156  0.001  0.9691212 0.02997578 0.999  0.844 "
      ]
     },
     "metadata": {},
     "output_type": "display_data"
    }
   ],
   "source": [
    "ancestry %>% inner_join(pheno, by=c(\"id\"=\"BrNum\")) %>%\n",
    "    filter(Age > 17, Dx == \"Control\") %>% select(group, Afr, Eur) %>% \n",
    "    mutate_if(is.character, as.factor) %>% distinct %>%\n",
    "    group_by(group) %>% \n",
    "    summarize(AA_mean=mean(Afr), AA_sd=sd(Afr), AA_max=max(Afr), AA_min=min(Afr),\n",
    "              EA_mean=mean(Eur), EA_sd=sd(Eur), EA_max=max(Eur), EA_min=min(Eur))"
   ]
  },
  {
   "cell_type": "code",
   "execution_count": 11,
   "metadata": {},
   "outputs": [
    {
     "data": {
      "image/png": "[encoded data removed]",
      "text/plain": [
       "plot without title"
      ]
     },
     "metadata": {
      "image/png": {
       "height": 420,
       "width": 420
      }
     },
     "output_type": "display_data"
    }
   ],
   "source": [
    "brp = ancestry %>% inner_join(pheno, by=c(\"id\"=\"BrNum\")) %>%\n",
    "    filter(Age > 17, Dx == \"Control\") %>% select(id, Race, Afr, Eur) %>%\n",
    "    mutate_if(is.character, as.factor) %>% distinct %>%\n",
    "    pivot_longer(-c(\"Race\", \"id\"), names_to=\"Ancestry\", values_to=\"Proportion\") %>% \n",
    "    mutate_if(is.character, as.factor) %>% group_by(Ancestry) %>% \n",
    "    mutate(ID = fct_reorder(id, desc(Proportion))) %>%\n",
    "    ggbarplot(x=\"ID\", y=\"Proportion\", fill = \"Ancestry\", color=\"Ancestry\",\n",
    "              palette=\"npg\", ylab=\"Admixture\", xlab=\"292 Individuals\", \n",
    "              ggtheme=theme_pubr(base_size=20), legend=\"right\") +\n",
    "    geom_hline(yintercept=0.5, linetype=\"dashed\", color=\"white\") +\n",
    "    geom_hline(yintercept=0.75, linetype=\"dashed\", color=\"black\") +\n",
    "    geom_hline(yintercept=0.25, linetype=\"dashed\", color=\"black\") +\n",
    "    font(\"xy.title\", face=\"bold\") + font(\"legend.title\", face=\"bold\") +\n",
    "    rremove(\"x.text\") + rremove(\"x.ticks\")\n",
    "save_ggplots(brp, \"ancestry_structure_barplot\", 12, 5)\n",
    "brp"
   ]
  },
  {
   "cell_type": "code",
   "execution_count": 12,
   "metadata": {},
   "outputs": [
    {
     "data": {
      "image/png": "[encoded data removed]",
      "text/plain": [
       "plot without title"
      ]
     },
     "metadata": {
      "image/png": {
       "height": 420,
       "width": 420
      }
     },
     "output_type": "display_data"
    }
   ],
   "source": [
    "bxp = ancestry %>% inner_join(pheno, by=c(\"id\"=\"BrNum\")) %>%\n",
    "    filter(Age > 17, Dx == \"Control\") %>% select(id, Race, Afr, Eur) %>%\n",
    "    mutate_if(is.character, as.factor) %>% distinct %>%\n",
    "    pivot_longer(-c(\"Race\", \"id\"), names_to=\"Ancestry\", values_to=\"Proportion\") %>% \n",
    "    ggdensity(x=\"Proportion\", color=\"Race\", fill=\"Race\", facet.by=\"Ancestry\", \n",
    "              ncol=2, rug=TRUE, add=\"mean\", palette=\"npg\", ylab=\"Population Density\", \n",
    "              xlab=\"Ancestry Proportion\", panel.labs.font=list(face='bold'), \n",
    "              ggtheme=theme_pubr(base_size=15, border=TRUE)) + \n",
    "    font(\"xy.title\", face=\"bold\") + font(\"legend.title\", face=\"bold\")\n",
    "save_ggplots(bxp, \"ancestry_structure_distribution\", 10, 5)\n",
    "bxp"
   ]
  },
  {
   "cell_type": "markdown",
   "metadata": {},
   "source": [
    "## eQTL analysis"
   ]
  },
  {
   "cell_type": "code",
   "execution_count": 13,
   "metadata": {},
   "outputs": [
    {
     "data": {
      "text/html": [
       "<style>\n",
       ".list-inline {list-style: none; margin:0; padding: 0}\n",
       ".list-inline>li {display: inline-block}\n",
       ".list-inline>li:not(:last-child)::after {content: \"\\00b7\"; padding: 0 .5ex}\n",
       "</style>\n",
       "<ol class=list-inline><li>1291</li><li>21</li></ol>\n"
      ],
      "text/latex": [
       "\\begin{enumerate*}\n",
       "\\item 1291\n",
       "\\item 21\n",
       "\\end{enumerate*}\n"
      ],
      "text/markdown": [
       "1. 1291\n",
       "2. 21\n",
       "\n",
       "\n"
      ],
      "text/plain": [
       "[1] 1291   21"
      ]
     },
     "metadata": {},
     "output_type": "display_data"
    }
   ],
   "source": [
    "pheno %>% dim"
   ]
  },
  {
   "cell_type": "code",
   "execution_count": 14,
   "metadata": {},
   "outputs": [
    {
     "name": "stdout",
     "output_type": "stream",
     "text": [
      "[1] \"There are 485 unique BrNum.\"\n"
     ]
    }
   ],
   "source": [
    "print(paste(\"There are\", unique(pheno$BrNum) %>% length, \"unique BrNum.\"))"
   ]
  },
  {
   "cell_type": "code",
   "execution_count": 15,
   "metadata": {},
   "outputs": [
    {
     "data": {
      "text/html": [
       "<table class=\"dataframe\">\n",
       "<caption>A grouped_df: 4 × 2</caption>\n",
       "<thead>\n",
       "\t<tr><th scope=col>Region</th><th scope=col>n</th></tr>\n",
       "\t<tr><th scope=col>&lt;fct&gt;</th><th scope=col>&lt;int&gt;</th></tr>\n",
       "</thead>\n",
       "<tbody>\n",
       "\t<tr><td>Caudate     </td><td>394</td></tr>\n",
       "\t<tr><td>DentateGyrus</td><td>161</td></tr>\n",
       "\t<tr><td>DLPFC       </td><td>360</td></tr>\n",
       "\t<tr><td>HIPPO       </td><td>376</td></tr>\n",
       "</tbody>\n",
       "</table>\n"
      ],
      "text/latex": [
       "A grouped\\_df: 4 × 2\n",
       "\\begin{tabular}{ll}\n",
       " Region & n\\\\\n",
       " <fct> & <int>\\\\\n",
       "\\hline\n",
       "\t Caudate      & 394\\\\\n",
       "\t DentateGyrus & 161\\\\\n",
       "\t DLPFC        & 360\\\\\n",
       "\t HIPPO        & 376\\\\\n",
       "\\end{tabular}\n"
      ],
      "text/markdown": [
       "\n",
       "A grouped_df: 4 × 2\n",
       "\n",
       "| Region &lt;fct&gt; | n &lt;int&gt; |\n",
       "|---|---|\n",
       "| Caudate      | 394 |\n",
       "| DentateGyrus | 161 |\n",
       "| DLPFC        | 360 |\n",
       "| HIPPO        | 376 |\n",
       "\n"
      ],
      "text/plain": [
       "  Region       n  \n",
       "1 Caudate      394\n",
       "2 DentateGyrus 161\n",
       "3 DLPFC        360\n",
       "4 HIPPO        376"
      ]
     },
     "metadata": {},
     "output_type": "display_data"
    }
   ],
   "source": [
    "pheno %>% select(BrNum, Region) %>% distinct %>%\n",
    "    mutate_if(is.character, as.factor) %>% \n",
    "    group_by(Region) %>% count()"
   ]
  },
  {
   "cell_type": "code",
   "execution_count": 16,
   "metadata": {},
   "outputs": [
    {
     "data": {
      "text/html": [
       "<table class=\"dataframe\">\n",
       "<caption>A grouped_df: 2 × 2</caption>\n",
       "<thead>\n",
       "\t<tr><th scope=col>Race</th><th scope=col>n</th></tr>\n",
       "\t<tr><th scope=col>&lt;fct&gt;</th><th scope=col>&lt;int&gt;</th></tr>\n",
       "</thead>\n",
       "<tbody>\n",
       "\t<tr><td>AA</td><td>249</td></tr>\n",
       "\t<tr><td>EA</td><td>236</td></tr>\n",
       "</tbody>\n",
       "</table>\n"
      ],
      "text/latex": [
       "A grouped\\_df: 2 × 2\n",
       "\\begin{tabular}{ll}\n",
       " Race & n\\\\\n",
       " <fct> & <int>\\\\\n",
       "\\hline\n",
       "\t AA & 249\\\\\n",
       "\t EA & 236\\\\\n",
       "\\end{tabular}\n"
      ],
      "text/markdown": [
       "\n",
       "A grouped_df: 2 × 2\n",
       "\n",
       "| Race &lt;fct&gt; | n &lt;int&gt; |\n",
       "|---|---|\n",
       "| AA | 249 |\n",
       "| EA | 236 |\n",
       "\n"
      ],
      "text/plain": [
       "  Race n  \n",
       "1 AA   249\n",
       "2 EA   236"
      ]
     },
     "metadata": {},
     "output_type": "display_data"
    }
   ],
   "source": [
    "pheno %>% select(BrNum, Race) %>% distinct %>%\n",
    "    mutate_if(is.character, as.factor) %>% \n",
    "    group_by(Race) %>% count()"
   ]
  },
  {
   "cell_type": "code",
   "execution_count": 17,
   "metadata": {},
   "outputs": [
    {
     "data": {
      "text/html": [
       "<table class=\"dataframe\">\n",
       "<caption>A grouped_df: 8 × 3</caption>\n",
       "<thead>\n",
       "\t<tr><th scope=col>Region</th><th scope=col>Race</th><th scope=col>n</th></tr>\n",
       "\t<tr><th scope=col>&lt;fct&gt;</th><th scope=col>&lt;fct&gt;</th><th scope=col>&lt;int&gt;</th></tr>\n",
       "</thead>\n",
       "<tbody>\n",
       "\t<tr><td>Caudate     </td><td>AA</td><td>205</td></tr>\n",
       "\t<tr><td>Caudate     </td><td>EA</td><td>189</td></tr>\n",
       "\t<tr><td>DentateGyrus</td><td>AA</td><td> 78</td></tr>\n",
       "\t<tr><td>DentateGyrus</td><td>EA</td><td> 83</td></tr>\n",
       "\t<tr><td>DLPFC       </td><td>AA</td><td>200</td></tr>\n",
       "\t<tr><td>DLPFC       </td><td>EA</td><td>160</td></tr>\n",
       "\t<tr><td>HIPPO       </td><td>AA</td><td>207</td></tr>\n",
       "\t<tr><td>HIPPO       </td><td>EA</td><td>169</td></tr>\n",
       "</tbody>\n",
       "</table>\n"
      ],
      "text/latex": [
       "A grouped\\_df: 8 × 3\n",
       "\\begin{tabular}{lll}\n",
       " Region & Race & n\\\\\n",
       " <fct> & <fct> & <int>\\\\\n",
       "\\hline\n",
       "\t Caudate      & AA & 205\\\\\n",
       "\t Caudate      & EA & 189\\\\\n",
       "\t DentateGyrus & AA &  78\\\\\n",
       "\t DentateGyrus & EA &  83\\\\\n",
       "\t DLPFC        & AA & 200\\\\\n",
       "\t DLPFC        & EA & 160\\\\\n",
       "\t HIPPO        & AA & 207\\\\\n",
       "\t HIPPO        & EA & 169\\\\\n",
       "\\end{tabular}\n"
      ],
      "text/markdown": [
       "\n",
       "A grouped_df: 8 × 3\n",
       "\n",
       "| Region &lt;fct&gt; | Race &lt;fct&gt; | n &lt;int&gt; |\n",
       "|---|---|---|\n",
       "| Caudate      | AA | 205 |\n",
       "| Caudate      | EA | 189 |\n",
       "| DentateGyrus | AA |  78 |\n",
       "| DentateGyrus | EA |  83 |\n",
       "| DLPFC        | AA | 200 |\n",
       "| DLPFC        | EA | 160 |\n",
       "| HIPPO        | AA | 207 |\n",
       "| HIPPO        | EA | 169 |\n",
       "\n"
      ],
      "text/plain": [
       "  Region       Race n  \n",
       "1 Caudate      AA   205\n",
       "2 Caudate      EA   189\n",
       "3 DentateGyrus AA    78\n",
       "4 DentateGyrus EA    83\n",
       "5 DLPFC        AA   200\n",
       "6 DLPFC        EA   160\n",
       "7 HIPPO        AA   207\n",
       "8 HIPPO        EA   169"
      ]
     },
     "metadata": {},
     "output_type": "display_data"
    }
   ],
   "source": [
    "pheno %>% select(BrNum, Race, Region) %>% distinct %>%\n",
    "    mutate_if(is.character, as.factor) %>% \n",
    "    group_by(Region, Race) %>% count()"
   ]
  },
  {
   "cell_type": "code",
   "execution_count": 18,
   "metadata": {},
   "outputs": [
    {
     "data": {
      "text/html": [
       "<table class=\"dataframe\">\n",
       "<caption>A grouped_df: 8 × 3</caption>\n",
       "<thead>\n",
       "\t<tr><th scope=col>Region</th><th scope=col>Sex</th><th scope=col>n</th></tr>\n",
       "\t<tr><th scope=col>&lt;fct&gt;</th><th scope=col>&lt;fct&gt;</th><th scope=col>&lt;int&gt;</th></tr>\n",
       "</thead>\n",
       "<tbody>\n",
       "\t<tr><td>Caudate     </td><td>F</td><td>121</td></tr>\n",
       "\t<tr><td>Caudate     </td><td>M</td><td>273</td></tr>\n",
       "\t<tr><td>DentateGyrus</td><td>F</td><td> 48</td></tr>\n",
       "\t<tr><td>DentateGyrus</td><td>M</td><td>113</td></tr>\n",
       "\t<tr><td>DLPFC       </td><td>F</td><td>114</td></tr>\n",
       "\t<tr><td>DLPFC       </td><td>M</td><td>246</td></tr>\n",
       "\t<tr><td>HIPPO       </td><td>F</td><td>121</td></tr>\n",
       "\t<tr><td>HIPPO       </td><td>M</td><td>255</td></tr>\n",
       "</tbody>\n",
       "</table>\n"
      ],
      "text/latex": [
       "A grouped\\_df: 8 × 3\n",
       "\\begin{tabular}{lll}\n",
       " Region & Sex & n\\\\\n",
       " <fct> & <fct> & <int>\\\\\n",
       "\\hline\n",
       "\t Caudate      & F & 121\\\\\n",
       "\t Caudate      & M & 273\\\\\n",
       "\t DentateGyrus & F &  48\\\\\n",
       "\t DentateGyrus & M & 113\\\\\n",
       "\t DLPFC        & F & 114\\\\\n",
       "\t DLPFC        & M & 246\\\\\n",
       "\t HIPPO        & F & 121\\\\\n",
       "\t HIPPO        & M & 255\\\\\n",
       "\\end{tabular}\n"
      ],
      "text/markdown": [
       "\n",
       "A grouped_df: 8 × 3\n",
       "\n",
       "| Region &lt;fct&gt; | Sex &lt;fct&gt; | n &lt;int&gt; |\n",
       "|---|---|---|\n",
       "| Caudate      | F | 121 |\n",
       "| Caudate      | M | 273 |\n",
       "| DentateGyrus | F |  48 |\n",
       "| DentateGyrus | M | 113 |\n",
       "| DLPFC        | F | 114 |\n",
       "| DLPFC        | M | 246 |\n",
       "| HIPPO        | F | 121 |\n",
       "| HIPPO        | M | 255 |\n",
       "\n"
      ],
      "text/plain": [
       "  Region       Sex n  \n",
       "1 Caudate      F   121\n",
       "2 Caudate      M   273\n",
       "3 DentateGyrus F    48\n",
       "4 DentateGyrus M   113\n",
       "5 DLPFC        F   114\n",
       "6 DLPFC        M   246\n",
       "7 HIPPO        F   121\n",
       "8 HIPPO        M   255"
      ]
     },
     "metadata": {},
     "output_type": "display_data"
    }
   ],
   "source": [
    "pheno %>% select(BrNum, Sex, Region) %>% distinct %>%\n",
    "    mutate_if(is.character, as.factor) %>% \n",
    "    group_by(Region, Sex) %>% count()"
   ]
  },
  {
   "cell_type": "code",
   "execution_count": 19,
   "metadata": {},
   "outputs": [
    {
     "data": {
      "text/html": [
       "<table class=\"dataframe\">\n",
       "<caption>A tibble: 4 × 3</caption>\n",
       "<thead>\n",
       "\t<tr><th scope=col>Region</th><th scope=col>mean</th><th scope=col>sd</th></tr>\n",
       "\t<tr><th scope=col>&lt;chr&gt;</th><th scope=col>&lt;dbl&gt;</th><th scope=col>&lt;dbl&gt;</th></tr>\n",
       "</thead>\n",
       "<tbody>\n",
       "\t<tr><td>Caudate     </td><td>49.65508</td><td>15.58123</td></tr>\n",
       "\t<tr><td>DentateGyrus</td><td>50.06770</td><td>15.43849</td></tr>\n",
       "\t<tr><td>DLPFC       </td><td>47.36772</td><td>15.36858</td></tr>\n",
       "\t<tr><td>HIPPO       </td><td>47.03652</td><td>15.28105</td></tr>\n",
       "</tbody>\n",
       "</table>\n"
      ],
      "text/latex": [
       "A tibble: 4 × 3\n",
       "\\begin{tabular}{lll}\n",
       " Region & mean & sd\\\\\n",
       " <chr> & <dbl> & <dbl>\\\\\n",
       "\\hline\n",
       "\t Caudate      & 49.65508 & 15.58123\\\\\n",
       "\t DentateGyrus & 50.06770 & 15.43849\\\\\n",
       "\t DLPFC        & 47.36772 & 15.36858\\\\\n",
       "\t HIPPO        & 47.03652 & 15.28105\\\\\n",
       "\\end{tabular}\n"
      ],
      "text/markdown": [
       "\n",
       "A tibble: 4 × 3\n",
       "\n",
       "| Region &lt;chr&gt; | mean &lt;dbl&gt; | sd &lt;dbl&gt; |\n",
       "|---|---|---|\n",
       "| Caudate      | 49.65508 | 15.58123 |\n",
       "| DentateGyrus | 50.06770 | 15.43849 |\n",
       "| DLPFC        | 47.36772 | 15.36858 |\n",
       "| HIPPO        | 47.03652 | 15.28105 |\n",
       "\n"
      ],
      "text/plain": [
       "  Region       mean     sd      \n",
       "1 Caudate      49.65508 15.58123\n",
       "2 DentateGyrus 50.06770 15.43849\n",
       "3 DLPFC        47.36772 15.36858\n",
       "4 HIPPO        47.03652 15.28105"
      ]
     },
     "metadata": {},
     "output_type": "display_data"
    }
   ],
   "source": [
    "pheno %>% group_by(Region) %>% \n",
    "  summarise_at(vars(c(\"Age\")), list(mean = mean, sd = sd)) "
   ]
  },
  {
   "cell_type": "code",
   "execution_count": 20,
   "metadata": {},
   "outputs": [
    {
     "data": {
      "text/html": [
       "<table class=\"dataframe\">\n",
       "<caption>A grouped_df: 8 × 4</caption>\n",
       "<thead>\n",
       "\t<tr><th scope=col>Region</th><th scope=col>Race</th><th scope=col>mean</th><th scope=col>sd</th></tr>\n",
       "\t<tr><th scope=col>&lt;chr&gt;</th><th scope=col>&lt;chr&gt;</th><th scope=col>&lt;dbl&gt;</th><th scope=col>&lt;dbl&gt;</th></tr>\n",
       "</thead>\n",
       "<tbody>\n",
       "\t<tr><td>Caudate     </td><td>AA</td><td>48.98595</td><td>14.31824</td></tr>\n",
       "\t<tr><td>Caudate     </td><td>EA</td><td>50.38085</td><td>16.85304</td></tr>\n",
       "\t<tr><td>DentateGyrus</td><td>AA</td><td>50.18423</td><td>15.53374</td></tr>\n",
       "\t<tr><td>DentateGyrus</td><td>EA</td><td>49.95819</td><td>15.44210</td></tr>\n",
       "\t<tr><td>DLPFC       </td><td>AA</td><td>47.63338</td><td>14.77009</td></tr>\n",
       "\t<tr><td>DLPFC       </td><td>EA</td><td>47.03565</td><td>16.12621</td></tr>\n",
       "\t<tr><td>HIPPO       </td><td>AA</td><td>47.26860</td><td>14.84346</td></tr>\n",
       "\t<tr><td>HIPPO       </td><td>EA</td><td>46.75225</td><td>15.84035</td></tr>\n",
       "</tbody>\n",
       "</table>\n"
      ],
      "text/latex": [
       "A grouped\\_df: 8 × 4\n",
       "\\begin{tabular}{llll}\n",
       " Region & Race & mean & sd\\\\\n",
       " <chr> & <chr> & <dbl> & <dbl>\\\\\n",
       "\\hline\n",
       "\t Caudate      & AA & 48.98595 & 14.31824\\\\\n",
       "\t Caudate      & EA & 50.38085 & 16.85304\\\\\n",
       "\t DentateGyrus & AA & 50.18423 & 15.53374\\\\\n",
       "\t DentateGyrus & EA & 49.95819 & 15.44210\\\\\n",
       "\t DLPFC        & AA & 47.63338 & 14.77009\\\\\n",
       "\t DLPFC        & EA & 47.03565 & 16.12621\\\\\n",
       "\t HIPPO        & AA & 47.26860 & 14.84346\\\\\n",
       "\t HIPPO        & EA & 46.75225 & 15.84035\\\\\n",
       "\\end{tabular}\n"
      ],
      "text/markdown": [
       "\n",
       "A grouped_df: 8 × 4\n",
       "\n",
       "| Region &lt;chr&gt; | Race &lt;chr&gt; | mean &lt;dbl&gt; | sd &lt;dbl&gt; |\n",
       "|---|---|---|---|\n",
       "| Caudate      | AA | 48.98595 | 14.31824 |\n",
       "| Caudate      | EA | 50.38085 | 16.85304 |\n",
       "| DentateGyrus | AA | 50.18423 | 15.53374 |\n",
       "| DentateGyrus | EA | 49.95819 | 15.44210 |\n",
       "| DLPFC        | AA | 47.63338 | 14.77009 |\n",
       "| DLPFC        | EA | 47.03565 | 16.12621 |\n",
       "| HIPPO        | AA | 47.26860 | 14.84346 |\n",
       "| HIPPO        | EA | 46.75225 | 15.84035 |\n",
       "\n"
      ],
      "text/plain": [
       "  Region       Race mean     sd      \n",
       "1 Caudate      AA   48.98595 14.31824\n",
       "2 Caudate      EA   50.38085 16.85304\n",
       "3 DentateGyrus AA   50.18423 15.53374\n",
       "4 DentateGyrus EA   49.95819 15.44210\n",
       "5 DLPFC        AA   47.63338 14.77009\n",
       "6 DLPFC        EA   47.03565 16.12621\n",
       "7 HIPPO        AA   47.26860 14.84346\n",
       "8 HIPPO        EA   46.75225 15.84035"
      ]
     },
     "metadata": {},
     "output_type": "display_data"
    }
   ],
   "source": [
    "pheno %>% group_by(Region, Race) %>% \n",
    "  summarise_at(vars(c(\"Age\")), list(mean = mean, sd = sd)) "
   ]
  },
  {
   "cell_type": "code",
   "execution_count": 21,
   "metadata": {},
   "outputs": [
    {
     "data": {
      "text/html": [
       "<table class=\"dataframe\">\n",
       "<caption>A tibble: 4 × 3</caption>\n",
       "<thead>\n",
       "\t<tr><th scope=col>Region</th><th scope=col>mean</th><th scope=col>sd</th></tr>\n",
       "\t<tr><th scope=col>&lt;chr&gt;</th><th scope=col>&lt;dbl&gt;</th><th scope=col>&lt;dbl&gt;</th></tr>\n",
       "</thead>\n",
       "<tbody>\n",
       "\t<tr><td>Caudate     </td><td>7.860152</td><td>0.8665752</td></tr>\n",
       "\t<tr><td>DentateGyrus</td><td>5.208403</td><td>1.1871187</td></tr>\n",
       "\t<tr><td>DLPFC       </td><td>7.667222</td><td>0.9209920</td></tr>\n",
       "\t<tr><td>HIPPO       </td><td>7.598138</td><td>1.0308426</td></tr>\n",
       "</tbody>\n",
       "</table>\n"
      ],
      "text/latex": [
       "A tibble: 4 × 3\n",
       "\\begin{tabular}{lll}\n",
       " Region & mean & sd\\\\\n",
       " <chr> & <dbl> & <dbl>\\\\\n",
       "\\hline\n",
       "\t Caudate      & 7.860152 & 0.8665752\\\\\n",
       "\t DentateGyrus & 5.208403 & 1.1871187\\\\\n",
       "\t DLPFC        & 7.667222 & 0.9209920\\\\\n",
       "\t HIPPO        & 7.598138 & 1.0308426\\\\\n",
       "\\end{tabular}\n"
      ],
      "text/markdown": [
       "\n",
       "A tibble: 4 × 3\n",
       "\n",
       "| Region &lt;chr&gt; | mean &lt;dbl&gt; | sd &lt;dbl&gt; |\n",
       "|---|---|---|\n",
       "| Caudate      | 7.860152 | 0.8665752 |\n",
       "| DentateGyrus | 5.208403 | 1.1871187 |\n",
       "| DLPFC        | 7.667222 | 0.9209920 |\n",
       "| HIPPO        | 7.598138 | 1.0308426 |\n",
       "\n"
      ],
      "text/plain": [
       "  Region       mean     sd       \n",
       "1 Caudate      7.860152 0.8665752\n",
       "2 DentateGyrus 5.208403 1.1871187\n",
       "3 DLPFC        7.667222 0.9209920\n",
       "4 HIPPO        7.598138 1.0308426"
      ]
     },
     "metadata": {},
     "output_type": "display_data"
    }
   ],
   "source": [
    "pheno %>% filter(RIN != \"NA\") %>% mutate(\"RIN\"=as.numeric(unlist(RIN))) %>% \n",
    "    group_by(Region) %>% summarise_at(vars(c(\"RIN\")), list(mean = mean, sd = sd)) "
   ]
  },
  {
   "cell_type": "code",
   "execution_count": 22,
   "metadata": {},
   "outputs": [
    {
     "data": {
      "text/html": [
       "<table class=\"dataframe\">\n",
       "<caption>A grouped_df: 8 × 4</caption>\n",
       "<thead>\n",
       "\t<tr><th scope=col>Region</th><th scope=col>Race</th><th scope=col>mean</th><th scope=col>sd</th></tr>\n",
       "\t<tr><th scope=col>&lt;chr&gt;</th><th scope=col>&lt;chr&gt;</th><th scope=col>&lt;dbl&gt;</th><th scope=col>&lt;dbl&gt;</th></tr>\n",
       "</thead>\n",
       "<tbody>\n",
       "\t<tr><td>Caudate     </td><td>AA</td><td>7.860976</td><td>0.8435098</td></tr>\n",
       "\t<tr><td>Caudate     </td><td>EA</td><td>7.859259</td><td>0.8931664</td></tr>\n",
       "\t<tr><td>DentateGyrus</td><td>AA</td><td>5.206349</td><td>1.2062837</td></tr>\n",
       "\t<tr><td>DentateGyrus</td><td>EA</td><td>5.210714</td><td>1.1760765</td></tr>\n",
       "\t<tr><td>DLPFC       </td><td>AA</td><td>7.661500</td><td>0.9452169</td></tr>\n",
       "\t<tr><td>DLPFC       </td><td>EA</td><td>7.674375</td><td>0.8926849</td></tr>\n",
       "\t<tr><td>HIPPO       </td><td>AA</td><td>7.582126</td><td>1.0549556</td></tr>\n",
       "\t<tr><td>HIPPO       </td><td>EA</td><td>7.617751</td><td>1.0032885</td></tr>\n",
       "</tbody>\n",
       "</table>\n"
      ],
      "text/latex": [
       "A grouped\\_df: 8 × 4\n",
       "\\begin{tabular}{llll}\n",
       " Region & Race & mean & sd\\\\\n",
       " <chr> & <chr> & <dbl> & <dbl>\\\\\n",
       "\\hline\n",
       "\t Caudate      & AA & 7.860976 & 0.8435098\\\\\n",
       "\t Caudate      & EA & 7.859259 & 0.8931664\\\\\n",
       "\t DentateGyrus & AA & 5.206349 & 1.2062837\\\\\n",
       "\t DentateGyrus & EA & 5.210714 & 1.1760765\\\\\n",
       "\t DLPFC        & AA & 7.661500 & 0.9452169\\\\\n",
       "\t DLPFC        & EA & 7.674375 & 0.8926849\\\\\n",
       "\t HIPPO        & AA & 7.582126 & 1.0549556\\\\\n",
       "\t HIPPO        & EA & 7.617751 & 1.0032885\\\\\n",
       "\\end{tabular}\n"
      ],
      "text/markdown": [
       "\n",
       "A grouped_df: 8 × 4\n",
       "\n",
       "| Region &lt;chr&gt; | Race &lt;chr&gt; | mean &lt;dbl&gt; | sd &lt;dbl&gt; |\n",
       "|---|---|---|---|\n",
       "| Caudate      | AA | 7.860976 | 0.8435098 |\n",
       "| Caudate      | EA | 7.859259 | 0.8931664 |\n",
       "| DentateGyrus | AA | 5.206349 | 1.2062837 |\n",
       "| DentateGyrus | EA | 5.210714 | 1.1760765 |\n",
       "| DLPFC        | AA | 7.661500 | 0.9452169 |\n",
       "| DLPFC        | EA | 7.674375 | 0.8926849 |\n",
       "| HIPPO        | AA | 7.582126 | 1.0549556 |\n",
       "| HIPPO        | EA | 7.617751 | 1.0032885 |\n",
       "\n"
      ],
      "text/plain": [
       "  Region       Race mean     sd       \n",
       "1 Caudate      AA   7.860976 0.8435098\n",
       "2 Caudate      EA   7.859259 0.8931664\n",
       "3 DentateGyrus AA   5.206349 1.2062837\n",
       "4 DentateGyrus EA   5.210714 1.1760765\n",
       "5 DLPFC        AA   7.661500 0.9452169\n",
       "6 DLPFC        EA   7.674375 0.8926849\n",
       "7 HIPPO        AA   7.582126 1.0549556\n",
       "8 HIPPO        EA   7.617751 1.0032885"
      ]
     },
     "metadata": {},
     "output_type": "display_data"
    }
   ],
   "source": [
    "pheno %>% filter(RIN != \"NA\") %>% mutate(\"RIN\"=as.numeric(unlist(RIN))) %>% \n",
    "    group_by(Region, Race) %>% summarise_at(vars(c(\"RIN\")), list(mean = mean, sd = sd)) "
   ]
  },
  {
   "cell_type": "markdown",
   "metadata": {},
   "source": [
    "### Pie chart"
   ]
  },
  {
   "cell_type": "code",
   "execution_count": 23,
   "metadata": {},
   "outputs": [],
   "source": [
    "plot_pie <- function(tissue){\n",
    "    pie = pheno %>% mutate_if(is.character, as.factor) %>% group_by(Region, Race) %>%\n",
    "        count %>% as.data.frame %>% group_by(Region) %>%\n",
    "        transmute(Race, Percent = round(n/sum(n)*100, 1)) %>%\n",
    "        mutate(Labels=paste0(Race, \" (\", Percent, \"%)\")) %>% filter(Region == tissue) %>%\n",
    "        ggpie(\"Percent\", label=\"Labels\", fill=\"Race\", color=\"white\", palette=\"npg\", \n",
    "              lab.pos=\"in\", lab.font=c(8, \"bold\", \"white\"),\n",
    "              ggtheme=theme_pubr(base_size=20, legend=\"none\"))\n",
    "    return(pie)\n",
    "}"
   ]
  },
  {
   "cell_type": "code",
   "execution_count": 24,
   "metadata": {},
   "outputs": [
    {
     "data": {
      "image/png": "[encoded data removed]",
      "text/plain": [
       "plot without title"
      ]
     },
     "metadata": {
      "image/png": {
       "height": 420,
       "width": 420
      }
     },
     "output_type": "display_data"
    }
   ],
   "source": [
    "## Get and annotate plot\n",
    "cc_pie = annotate_figure(plot_pie(\"Caudate\"), \n",
    "                         top = text_grob(\"Caudate\", face = \"bold\", size = 26))\n",
    "gg_pie = annotate_figure(plot_pie(\"DentateGyrus\"), \n",
    "                         top = text_grob(\"Dentate Gyrus\", face = \"bold\", size = 26))\n",
    "dd_pie = annotate_figure(plot_pie(\"DLPFC\"), \n",
    "                         top = text_grob(\"DLPFC\", face = \"bold\", size = 26))\n",
    "hh_pie = annotate_figure(plot_pie(\"HIPPO\"), \n",
    "                         top = text_grob(\"Hippocampus\", face = \"bold\", size = 26))\n",
    "## Arrange figure\n",
    "figure <- ggarrange(cc_pie, gg_pie, dd_pie, hh_pie, ncol = 2, nrow = 2)\n",
    "save_ggplots(figure, \"ancestry_piecharts\", 10, 10)\n",
    "figure"
   ]
  },
  {
   "cell_type": "markdown",
   "metadata": {},
   "source": [
    "## Adult individuals for expression related analysis"
   ]
  },
  {
   "cell_type": "code",
   "execution_count": 25,
   "metadata": {},
   "outputs": [
    {
     "data": {
      "text/html": [
       "<style>\n",
       ".list-inline {list-style: none; margin:0; padding: 0}\n",
       ".list-inline>li {display: inline-block}\n",
       ".list-inline>li:not(:last-child)::after {content: \"\\00b7\"; padding: 0 .5ex}\n",
       "</style>\n",
       "<ol class=list-inline><li>425</li><li>21</li></ol>\n"
      ],
      "text/latex": [
       "\\begin{enumerate*}\n",
       "\\item 425\n",
       "\\item 21\n",
       "\\end{enumerate*}\n"
      ],
      "text/markdown": [
       "1. 425\n",
       "2. 21\n",
       "\n",
       "\n"
      ],
      "text/plain": [
       "[1] 425  21"
      ]
     },
     "metadata": {},
     "output_type": "display_data"
    }
   ],
   "source": [
    "pheno = pheno %>% filter(Age > 17, Dx == \"Control\", Race == \"AA\")\n",
    "pheno %>% dim"
   ]
  },
  {
   "cell_type": "code",
   "execution_count": 26,
   "metadata": {},
   "outputs": [
    {
     "name": "stdout",
     "output_type": "stream",
     "text": [
      "[1] \"There are 151 unique BrNum.\"\n"
     ]
    }
   ],
   "source": [
    "print(paste(\"There are\", unique(pheno$BrNum) %>% length, \"unique BrNum.\"))"
   ]
  },
  {
   "cell_type": "code",
   "execution_count": 27,
   "metadata": {},
   "outputs": [
    {
     "data": {
      "text/html": [
       "<table class=\"dataframe\">\n",
       "<caption>A grouped_df: 4 × 2</caption>\n",
       "<thead>\n",
       "\t<tr><th scope=col>Region</th><th scope=col>n</th></tr>\n",
       "\t<tr><th scope=col>&lt;fct&gt;</th><th scope=col>&lt;int&gt;</th></tr>\n",
       "</thead>\n",
       "<tbody>\n",
       "\t<tr><td>Caudate     </td><td>122</td></tr>\n",
       "\t<tr><td>DentateGyrus</td><td> 47</td></tr>\n",
       "\t<tr><td>DLPFC       </td><td>123</td></tr>\n",
       "\t<tr><td>HIPPO       </td><td>133</td></tr>\n",
       "</tbody>\n",
       "</table>\n"
      ],
      "text/latex": [
       "A grouped\\_df: 4 × 2\n",
       "\\begin{tabular}{ll}\n",
       " Region & n\\\\\n",
       " <fct> & <int>\\\\\n",
       "\\hline\n",
       "\t Caudate      & 122\\\\\n",
       "\t DentateGyrus &  47\\\\\n",
       "\t DLPFC        & 123\\\\\n",
       "\t HIPPO        & 133\\\\\n",
       "\\end{tabular}\n"
      ],
      "text/markdown": [
       "\n",
       "A grouped_df: 4 × 2\n",
       "\n",
       "| Region &lt;fct&gt; | n &lt;int&gt; |\n",
       "|---|---|\n",
       "| Caudate      | 122 |\n",
       "| DentateGyrus |  47 |\n",
       "| DLPFC        | 123 |\n",
       "| HIPPO        | 133 |\n",
       "\n"
      ],
      "text/plain": [
       "  Region       n  \n",
       "1 Caudate      122\n",
       "2 DentateGyrus  47\n",
       "3 DLPFC        123\n",
       "4 HIPPO        133"
      ]
     },
     "metadata": {},
     "output_type": "display_data"
    }
   ],
   "source": [
    "pheno %>% select(BrNum, Region) %>% distinct %>%\n",
    "    mutate_if(is.character, as.factor) %>% \n",
    "    group_by(Region) %>% count()"
   ]
  },
  {
   "cell_type": "code",
   "execution_count": 28,
   "metadata": {},
   "outputs": [
    {
     "data": {
      "text/html": [
       "<table class=\"dataframe\">\n",
       "<caption>A grouped_df: 1 × 2</caption>\n",
       "<thead>\n",
       "\t<tr><th scope=col>Race</th><th scope=col>n</th></tr>\n",
       "\t<tr><th scope=col>&lt;fct&gt;</th><th scope=col>&lt;int&gt;</th></tr>\n",
       "</thead>\n",
       "<tbody>\n",
       "\t<tr><td>AA</td><td>151</td></tr>\n",
       "</tbody>\n",
       "</table>\n"
      ],
      "text/latex": [
       "A grouped\\_df: 1 × 2\n",
       "\\begin{tabular}{ll}\n",
       " Race & n\\\\\n",
       " <fct> & <int>\\\\\n",
       "\\hline\n",
       "\t AA & 151\\\\\n",
       "\\end{tabular}\n"
      ],
      "text/markdown": [
       "\n",
       "A grouped_df: 1 × 2\n",
       "\n",
       "| Race &lt;fct&gt; | n &lt;int&gt; |\n",
       "|---|---|\n",
       "| AA | 151 |\n",
       "\n"
      ],
      "text/plain": [
       "  Race n  \n",
       "1 AA   151"
      ]
     },
     "metadata": {},
     "output_type": "display_data"
    }
   ],
   "source": [
    "pheno %>% select(BrNum, Race) %>% distinct %>%\n",
    "    mutate_if(is.character, as.factor) %>% \n",
    "    group_by(Race) %>% count()"
   ]
  },
  {
   "cell_type": "code",
   "execution_count": 29,
   "metadata": {},
   "outputs": [
    {
     "data": {
      "text/html": [
       "<table class=\"dataframe\">\n",
       "<caption>A grouped_df: 4 × 3</caption>\n",
       "<thead>\n",
       "\t<tr><th scope=col>Region</th><th scope=col>Race</th><th scope=col>n</th></tr>\n",
       "\t<tr><th scope=col>&lt;fct&gt;</th><th scope=col>&lt;fct&gt;</th><th scope=col>&lt;int&gt;</th></tr>\n",
       "</thead>\n",
       "<tbody>\n",
       "\t<tr><td>Caudate     </td><td>AA</td><td>122</td></tr>\n",
       "\t<tr><td>DentateGyrus</td><td>AA</td><td> 47</td></tr>\n",
       "\t<tr><td>DLPFC       </td><td>AA</td><td>123</td></tr>\n",
       "\t<tr><td>HIPPO       </td><td>AA</td><td>133</td></tr>\n",
       "</tbody>\n",
       "</table>\n"
      ],
      "text/latex": [
       "A grouped\\_df: 4 × 3\n",
       "\\begin{tabular}{lll}\n",
       " Region & Race & n\\\\\n",
       " <fct> & <fct> & <int>\\\\\n",
       "\\hline\n",
       "\t Caudate      & AA & 122\\\\\n",
       "\t DentateGyrus & AA &  47\\\\\n",
       "\t DLPFC        & AA & 123\\\\\n",
       "\t HIPPO        & AA & 133\\\\\n",
       "\\end{tabular}\n"
      ],
      "text/markdown": [
       "\n",
       "A grouped_df: 4 × 3\n",
       "\n",
       "| Region &lt;fct&gt; | Race &lt;fct&gt; | n &lt;int&gt; |\n",
       "|---|---|---|\n",
       "| Caudate      | AA | 122 |\n",
       "| DentateGyrus | AA |  47 |\n",
       "| DLPFC        | AA | 123 |\n",
       "| HIPPO        | AA | 133 |\n",
       "\n"
      ],
      "text/plain": [
       "  Region       Race n  \n",
       "1 Caudate      AA   122\n",
       "2 DentateGyrus AA    47\n",
       "3 DLPFC        AA   123\n",
       "4 HIPPO        AA   133"
      ]
     },
     "metadata": {},
     "output_type": "display_data"
    }
   ],
   "source": [
    "pheno %>% select(BrNum, Race, Region) %>% distinct %>%\n",
    "    mutate_if(is.character, as.factor) %>% \n",
    "    group_by(Region, Race) %>% count()"
   ]
  },
  {
   "cell_type": "code",
   "execution_count": 30,
   "metadata": {},
   "outputs": [
    {
     "data": {
      "text/html": [
       "<table class=\"dataframe\">\n",
       "<caption>A grouped_df: 8 × 3</caption>\n",
       "<thead>\n",
       "\t<tr><th scope=col>Region</th><th scope=col>Sex</th><th scope=col>n</th></tr>\n",
       "\t<tr><th scope=col>&lt;fct&gt;</th><th scope=col>&lt;fct&gt;</th><th scope=col>&lt;int&gt;</th></tr>\n",
       "</thead>\n",
       "<tbody>\n",
       "\t<tr><td>Caudate     </td><td>F</td><td>50</td></tr>\n",
       "\t<tr><td>Caudate     </td><td>M</td><td>72</td></tr>\n",
       "\t<tr><td>DentateGyrus</td><td>F</td><td>16</td></tr>\n",
       "\t<tr><td>DentateGyrus</td><td>M</td><td>31</td></tr>\n",
       "\t<tr><td>DLPFC       </td><td>F</td><td>48</td></tr>\n",
       "\t<tr><td>DLPFC       </td><td>M</td><td>75</td></tr>\n",
       "\t<tr><td>HIPPO       </td><td>F</td><td>53</td></tr>\n",
       "\t<tr><td>HIPPO       </td><td>M</td><td>80</td></tr>\n",
       "</tbody>\n",
       "</table>\n"
      ],
      "text/latex": [
       "A grouped\\_df: 8 × 3\n",
       "\\begin{tabular}{lll}\n",
       " Region & Sex & n\\\\\n",
       " <fct> & <fct> & <int>\\\\\n",
       "\\hline\n",
       "\t Caudate      & F & 50\\\\\n",
       "\t Caudate      & M & 72\\\\\n",
       "\t DentateGyrus & F & 16\\\\\n",
       "\t DentateGyrus & M & 31\\\\\n",
       "\t DLPFC        & F & 48\\\\\n",
       "\t DLPFC        & M & 75\\\\\n",
       "\t HIPPO        & F & 53\\\\\n",
       "\t HIPPO        & M & 80\\\\\n",
       "\\end{tabular}\n"
      ],
      "text/markdown": [
       "\n",
       "A grouped_df: 8 × 3\n",
       "\n",
       "| Region &lt;fct&gt; | Sex &lt;fct&gt; | n &lt;int&gt; |\n",
       "|---|---|---|\n",
       "| Caudate      | F | 50 |\n",
       "| Caudate      | M | 72 |\n",
       "| DentateGyrus | F | 16 |\n",
       "| DentateGyrus | M | 31 |\n",
       "| DLPFC        | F | 48 |\n",
       "| DLPFC        | M | 75 |\n",
       "| HIPPO        | F | 53 |\n",
       "| HIPPO        | M | 80 |\n",
       "\n"
      ],
      "text/plain": [
       "  Region       Sex n \n",
       "1 Caudate      F   50\n",
       "2 Caudate      M   72\n",
       "3 DentateGyrus F   16\n",
       "4 DentateGyrus M   31\n",
       "5 DLPFC        F   48\n",
       "6 DLPFC        M   75\n",
       "7 HIPPO        F   53\n",
       "8 HIPPO        M   80"
      ]
     },
     "metadata": {},
     "output_type": "display_data"
    }
   ],
   "source": [
    "pheno %>% select(BrNum, Sex, Region) %>% distinct %>%\n",
    "    mutate_if(is.character, as.factor) %>% \n",
    "    group_by(Region, Sex) %>% count()"
   ]
  },
  {
   "cell_type": "code",
   "execution_count": 31,
   "metadata": {},
   "outputs": [
    {
     "data": {
      "text/html": [
       "<table class=\"dataframe\">\n",
       "<caption>A tibble: 4 × 3</caption>\n",
       "<thead>\n",
       "\t<tr><th scope=col>Region</th><th scope=col>mean</th><th scope=col>sd</th></tr>\n",
       "\t<tr><th scope=col>&lt;chr&gt;</th><th scope=col>&lt;dbl&gt;</th><th scope=col>&lt;dbl&gt;</th></tr>\n",
       "</thead>\n",
       "<tbody>\n",
       "\t<tr><td>Caudate     </td><td>45.63770</td><td>14.72979</td></tr>\n",
       "\t<tr><td>DentateGyrus</td><td>45.85043</td><td>16.32827</td></tr>\n",
       "\t<tr><td>DLPFC       </td><td>44.12511</td><td>14.97092</td></tr>\n",
       "\t<tr><td>HIPPO       </td><td>43.30015</td><td>14.73609</td></tr>\n",
       "</tbody>\n",
       "</table>\n"
      ],
      "text/latex": [
       "A tibble: 4 × 3\n",
       "\\begin{tabular}{lll}\n",
       " Region & mean & sd\\\\\n",
       " <chr> & <dbl> & <dbl>\\\\\n",
       "\\hline\n",
       "\t Caudate      & 45.63770 & 14.72979\\\\\n",
       "\t DentateGyrus & 45.85043 & 16.32827\\\\\n",
       "\t DLPFC        & 44.12511 & 14.97092\\\\\n",
       "\t HIPPO        & 43.30015 & 14.73609\\\\\n",
       "\\end{tabular}\n"
      ],
      "text/markdown": [
       "\n",
       "A tibble: 4 × 3\n",
       "\n",
       "| Region &lt;chr&gt; | mean &lt;dbl&gt; | sd &lt;dbl&gt; |\n",
       "|---|---|---|\n",
       "| Caudate      | 45.63770 | 14.72979 |\n",
       "| DentateGyrus | 45.85043 | 16.32827 |\n",
       "| DLPFC        | 44.12511 | 14.97092 |\n",
       "| HIPPO        | 43.30015 | 14.73609 |\n",
       "\n"
      ],
      "text/plain": [
       "  Region       mean     sd      \n",
       "1 Caudate      45.63770 14.72979\n",
       "2 DentateGyrus 45.85043 16.32827\n",
       "3 DLPFC        44.12511 14.97092\n",
       "4 HIPPO        43.30015 14.73609"
      ]
     },
     "metadata": {},
     "output_type": "display_data"
    }
   ],
   "source": [
    "pheno %>% group_by(Region) %>% \n",
    "  summarise_at(vars(c(\"Age\")), list(mean = mean, sd = sd)) "
   ]
  },
  {
   "cell_type": "code",
   "execution_count": 32,
   "metadata": {},
   "outputs": [
    {
     "data": {
      "text/html": [
       "<table class=\"dataframe\">\n",
       "<caption>A grouped_df: 4 × 4</caption>\n",
       "<thead>\n",
       "\t<tr><th scope=col>Region</th><th scope=col>Race</th><th scope=col>mean</th><th scope=col>sd</th></tr>\n",
       "\t<tr><th scope=col>&lt;chr&gt;</th><th scope=col>&lt;chr&gt;</th><th scope=col>&lt;dbl&gt;</th><th scope=col>&lt;dbl&gt;</th></tr>\n",
       "</thead>\n",
       "<tbody>\n",
       "\t<tr><td>Caudate     </td><td>AA</td><td>45.63770</td><td>14.72979</td></tr>\n",
       "\t<tr><td>DentateGyrus</td><td>AA</td><td>45.85043</td><td>16.32827</td></tr>\n",
       "\t<tr><td>DLPFC       </td><td>AA</td><td>44.12511</td><td>14.97092</td></tr>\n",
       "\t<tr><td>HIPPO       </td><td>AA</td><td>43.30015</td><td>14.73609</td></tr>\n",
       "</tbody>\n",
       "</table>\n"
      ],
      "text/latex": [
       "A grouped\\_df: 4 × 4\n",
       "\\begin{tabular}{llll}\n",
       " Region & Race & mean & sd\\\\\n",
       " <chr> & <chr> & <dbl> & <dbl>\\\\\n",
       "\\hline\n",
       "\t Caudate      & AA & 45.63770 & 14.72979\\\\\n",
       "\t DentateGyrus & AA & 45.85043 & 16.32827\\\\\n",
       "\t DLPFC        & AA & 44.12511 & 14.97092\\\\\n",
       "\t HIPPO        & AA & 43.30015 & 14.73609\\\\\n",
       "\\end{tabular}\n"
      ],
      "text/markdown": [
       "\n",
       "A grouped_df: 4 × 4\n",
       "\n",
       "| Region &lt;chr&gt; | Race &lt;chr&gt; | mean &lt;dbl&gt; | sd &lt;dbl&gt; |\n",
       "|---|---|---|---|\n",
       "| Caudate      | AA | 45.63770 | 14.72979 |\n",
       "| DentateGyrus | AA | 45.85043 | 16.32827 |\n",
       "| DLPFC        | AA | 44.12511 | 14.97092 |\n",
       "| HIPPO        | AA | 43.30015 | 14.73609 |\n",
       "\n"
      ],
      "text/plain": [
       "  Region       Race mean     sd      \n",
       "1 Caudate      AA   45.63770 14.72979\n",
       "2 DentateGyrus AA   45.85043 16.32827\n",
       "3 DLPFC        AA   44.12511 14.97092\n",
       "4 HIPPO        AA   43.30015 14.73609"
      ]
     },
     "metadata": {},
     "output_type": "display_data"
    }
   ],
   "source": [
    "pheno %>% group_by(Region, Race) %>% \n",
    "  summarise_at(vars(c(\"Age\")), list(mean = mean, sd = sd)) "
   ]
  },
  {
   "cell_type": "code",
   "execution_count": 33,
   "metadata": {},
   "outputs": [
    {
     "data": {
      "text/html": [
       "<table class=\"dataframe\">\n",
       "<caption>A tibble: 4 × 3</caption>\n",
       "<thead>\n",
       "\t<tr><th scope=col>Region</th><th scope=col>mean</th><th scope=col>sd</th></tr>\n",
       "\t<tr><th scope=col>&lt;chr&gt;</th><th scope=col>&lt;dbl&gt;</th><th scope=col>&lt;dbl&gt;</th></tr>\n",
       "</thead>\n",
       "<tbody>\n",
       "\t<tr><td>Caudate     </td><td>7.829508</td><td>0.7993477</td></tr>\n",
       "\t<tr><td>DentateGyrus</td><td>5.447368</td><td>1.2173824</td></tr>\n",
       "\t<tr><td>DLPFC       </td><td>7.696748</td><td>0.8851169</td></tr>\n",
       "\t<tr><td>HIPPO       </td><td>7.715038</td><td>0.9754173</td></tr>\n",
       "</tbody>\n",
       "</table>\n"
      ],
      "text/latex": [
       "A tibble: 4 × 3\n",
       "\\begin{tabular}{lll}\n",
       " Region & mean & sd\\\\\n",
       " <chr> & <dbl> & <dbl>\\\\\n",
       "\\hline\n",
       "\t Caudate      & 7.829508 & 0.7993477\\\\\n",
       "\t DentateGyrus & 5.447368 & 1.2173824\\\\\n",
       "\t DLPFC        & 7.696748 & 0.8851169\\\\\n",
       "\t HIPPO        & 7.715038 & 0.9754173\\\\\n",
       "\\end{tabular}\n"
      ],
      "text/markdown": [
       "\n",
       "A tibble: 4 × 3\n",
       "\n",
       "| Region &lt;chr&gt; | mean &lt;dbl&gt; | sd &lt;dbl&gt; |\n",
       "|---|---|---|\n",
       "| Caudate      | 7.829508 | 0.7993477 |\n",
       "| DentateGyrus | 5.447368 | 1.2173824 |\n",
       "| DLPFC        | 7.696748 | 0.8851169 |\n",
       "| HIPPO        | 7.715038 | 0.9754173 |\n",
       "\n"
      ],
      "text/plain": [
       "  Region       mean     sd       \n",
       "1 Caudate      7.829508 0.7993477\n",
       "2 DentateGyrus 5.447368 1.2173824\n",
       "3 DLPFC        7.696748 0.8851169\n",
       "4 HIPPO        7.715038 0.9754173"
      ]
     },
     "metadata": {},
     "output_type": "display_data"
    }
   ],
   "source": [
    "pheno %>% filter(RIN != \"NA\") %>% mutate(\"RIN\"=as.numeric(unlist(RIN))) %>% \n",
    "    group_by(Region) %>% summarise_at(vars(c(\"RIN\")), list(mean = mean, sd = sd)) "
   ]
  },
  {
   "cell_type": "code",
   "execution_count": 34,
   "metadata": {},
   "outputs": [
    {
     "data": {
      "text/html": [
       "<table class=\"dataframe\">\n",
       "<caption>A grouped_df: 4 × 4</caption>\n",
       "<thead>\n",
       "\t<tr><th scope=col>Region</th><th scope=col>Race</th><th scope=col>mean</th><th scope=col>sd</th></tr>\n",
       "\t<tr><th scope=col>&lt;chr&gt;</th><th scope=col>&lt;chr&gt;</th><th scope=col>&lt;dbl&gt;</th><th scope=col>&lt;dbl&gt;</th></tr>\n",
       "</thead>\n",
       "<tbody>\n",
       "\t<tr><td>Caudate     </td><td>AA</td><td>7.829508</td><td>0.7993477</td></tr>\n",
       "\t<tr><td>DentateGyrus</td><td>AA</td><td>5.447368</td><td>1.2173824</td></tr>\n",
       "\t<tr><td>DLPFC       </td><td>AA</td><td>7.696748</td><td>0.8851169</td></tr>\n",
       "\t<tr><td>HIPPO       </td><td>AA</td><td>7.715038</td><td>0.9754173</td></tr>\n",
       "</tbody>\n",
       "</table>\n"
      ],
      "text/latex": [
       "A grouped\\_df: 4 × 4\n",
       "\\begin{tabular}{llll}\n",
       " Region & Race & mean & sd\\\\\n",
       " <chr> & <chr> & <dbl> & <dbl>\\\\\n",
       "\\hline\n",
       "\t Caudate      & AA & 7.829508 & 0.7993477\\\\\n",
       "\t DentateGyrus & AA & 5.447368 & 1.2173824\\\\\n",
       "\t DLPFC        & AA & 7.696748 & 0.8851169\\\\\n",
       "\t HIPPO        & AA & 7.715038 & 0.9754173\\\\\n",
       "\\end{tabular}\n"
      ],
      "text/markdown": [
       "\n",
       "A grouped_df: 4 × 4\n",
       "\n",
       "| Region &lt;chr&gt; | Race &lt;chr&gt; | mean &lt;dbl&gt; | sd &lt;dbl&gt; |\n",
       "|---|---|---|---|\n",
       "| Caudate      | AA | 7.829508 | 0.7993477 |\n",
       "| DentateGyrus | AA | 5.447368 | 1.2173824 |\n",
       "| DLPFC        | AA | 7.696748 | 0.8851169 |\n",
       "| HIPPO        | AA | 7.715038 | 0.9754173 |\n",
       "\n"
      ],
      "text/plain": [
       "  Region       Race mean     sd       \n",
       "1 Caudate      AA   7.829508 0.7993477\n",
       "2 DentateGyrus AA   5.447368 1.2173824\n",
       "3 DLPFC        AA   7.696748 0.8851169\n",
       "4 HIPPO        AA   7.715038 0.9754173"
      ]
     },
     "metadata": {},
     "output_type": "display_data"
    }
   ],
   "source": [
    "pheno %>% filter(RIN != \"NA\") %>% mutate(\"RIN\"=as.numeric(unlist(RIN))) %>% \n",
    "    group_by(Region, Race) %>% summarise_at(vars(c(\"RIN\")), list(mean = mean, sd = sd)) "
   ]
  },
  {
   "cell_type": "markdown",
   "metadata": {},
   "source": [
    "## Reproducibility Information"
   ]
  },
  {
   "cell_type": "code",
   "execution_count": 36,
   "metadata": {},
   "outputs": [
    {
     "data": {
      "text/plain": [
       "[1] \"2022-08-26 12:09:00 EDT\""
      ]
     },
     "metadata": {},
     "output_type": "display_data"
    },
    {
     "data": {
      "text/plain": [
       "    user   system  elapsed \n",
       "  31.643    1.333 1452.757 "
      ]
     },
     "metadata": {},
     "output_type": "display_data"
    },
    {
     "data": {
      "text/html": [
       "<dl>\n",
       "\t<dt>$platform</dt>\n",
       "\t\t<dd><dl>\n",
       "\t<dt>$version</dt>\n",
       "\t\t<dd>'R version 4.2.1 (2022-06-23)'</dd>\n",
       "\t<dt>$os</dt>\n",
       "\t\t<dd>'Arch Linux'</dd>\n",
       "\t<dt>$system</dt>\n",
       "\t\t<dd>'x86_64, linux-gnu'</dd>\n",
       "\t<dt>$ui</dt>\n",
       "\t\t<dd>'X11'</dd>\n",
       "\t<dt>$language</dt>\n",
       "\t\t<dd>'(EN)'</dd>\n",
       "\t<dt>$collate</dt>\n",
       "\t\t<dd>'en_US.UTF-8'</dd>\n",
       "\t<dt>$ctype</dt>\n",
       "\t\t<dd>'en_US.UTF-8'</dd>\n",
       "\t<dt>$tz</dt>\n",
       "\t\t<dd>'America/New_York'</dd>\n",
       "\t<dt>$date</dt>\n",
       "\t\t<dd>'2022-08-26'</dd>\n",
       "\t<dt>$pandoc</dt>\n",
       "\t\t<dd>'2.18 @ /usr/bin/pandoc'</dd>\n",
       "</dl>\n",
       "</dd>\n",
       "\t<dt>$packages</dt>\n",
       "\t\t<dd><table class=\"dataframe\">\n",
       "<caption>A packages_info: 93 × 11</caption>\n",
       "<thead>\n",
       "\t<tr><th></th><th scope=col>package</th><th scope=col>ondiskversion</th><th scope=col>loadedversion</th><th scope=col>path</th><th scope=col>loadedpath</th><th scope=col>attached</th><th scope=col>is_base</th><th scope=col>date</th><th scope=col>source</th><th scope=col>md5ok</th><th scope=col>library</th></tr>\n",
       "\t<tr><th></th><th scope=col>&lt;chr&gt;</th><th scope=col>&lt;chr&gt;</th><th scope=col>&lt;chr&gt;</th><th scope=col>&lt;chr&gt;</th><th scope=col>&lt;chr&gt;</th><th scope=col>&lt;lgl&gt;</th><th scope=col>&lt;lgl&gt;</th><th scope=col>&lt;chr&gt;</th><th scope=col>&lt;chr&gt;</th><th scope=col>&lt;lgl&gt;</th><th scope=col>&lt;fct&gt;</th></tr>\n",
       "</thead>\n",
       "<tbody>\n",
       "\t<tr><th scope=row>abind</th><td>abind       </td><td>1.4.5 </td><td>1.4-5 </td><td>/home/kynon/R/x86_64-pc-linux-gnu-library/4.2/abind       </td><td>/home/kynon/R/x86_64-pc-linux-gnu-library/4.2/abind       </td><td>FALSE</td><td>FALSE</td><td>2016-07-21</td><td>CRAN (R 4.2.1)</td><td>NA</td><td>/home/kynon/R/x86_64-pc-linux-gnu-library/4.2</td></tr>\n",
       "\t<tr><th scope=row>assertthat</th><td>assertthat  </td><td>0.2.1 </td><td>0.2.1 </td><td>/home/kynon/R/x86_64-pc-linux-gnu-library/4.2/assertthat  </td><td>/home/kynon/R/x86_64-pc-linux-gnu-library/4.2/assertthat  </td><td>FALSE</td><td>FALSE</td><td>2019-03-21</td><td>CRAN (R 4.2.1)</td><td>NA</td><td>/home/kynon/R/x86_64-pc-linux-gnu-library/4.2</td></tr>\n",
       "\t<tr><th scope=row>backports</th><td>backports   </td><td>1.4.1 </td><td>1.4.1 </td><td>/home/kynon/R/x86_64-pc-linux-gnu-library/4.2/backports   </td><td>/home/kynon/R/x86_64-pc-linux-gnu-library/4.2/backports   </td><td>FALSE</td><td>FALSE</td><td>2021-12-13</td><td>CRAN (R 4.2.1)</td><td>NA</td><td>/home/kynon/R/x86_64-pc-linux-gnu-library/4.2</td></tr>\n",
       "\t<tr><th scope=row>base64enc</th><td>base64enc   </td><td>0.1.3 </td><td>0.1-3 </td><td>/home/kynon/R/x86_64-pc-linux-gnu-library/4.2/base64enc   </td><td>/home/kynon/R/x86_64-pc-linux-gnu-library/4.2/base64enc   </td><td>FALSE</td><td>FALSE</td><td>2015-07-28</td><td>CRAN (R 4.2.0)</td><td>NA</td><td>/home/kynon/R/x86_64-pc-linux-gnu-library/4.2</td></tr>\n",
       "\t<tr><th scope=row>Biobase</th><td>Biobase     </td><td>2.56.0</td><td>2.56.0</td><td>/home/kynon/R/x86_64-pc-linux-gnu-library/4.2/Biobase     </td><td>/home/kynon/R/x86_64-pc-linux-gnu-library/4.2/Biobase     </td><td> TRUE</td><td>FALSE</td><td>2022-04-26</td><td>Bioconductor  </td><td>NA</td><td>/home/kynon/R/x86_64-pc-linux-gnu-library/4.2</td></tr>\n",
       "\t<tr><th scope=row>BiocGenerics</th><td>BiocGenerics</td><td>0.42.0</td><td>0.42.0</td><td>/home/kynon/R/x86_64-pc-linux-gnu-library/4.2/BiocGenerics</td><td>/home/kynon/R/x86_64-pc-linux-gnu-library/4.2/BiocGenerics</td><td> TRUE</td><td>FALSE</td><td>2022-04-26</td><td>Bioconductor  </td><td>NA</td><td>/home/kynon/R/x86_64-pc-linux-gnu-library/4.2</td></tr>\n",
       "\t<tr><th scope=row>bitops</th><td>bitops      </td><td>1.0.7 </td><td>1.0-7 </td><td>/home/kynon/R/x86_64-pc-linux-gnu-library/4.2/bitops      </td><td>/home/kynon/R/x86_64-pc-linux-gnu-library/4.2/bitops      </td><td>FALSE</td><td>FALSE</td><td>2021-04-24</td><td>CRAN (R 4.2.1)</td><td>NA</td><td>/home/kynon/R/x86_64-pc-linux-gnu-library/4.2</td></tr>\n",
       "\t<tr><th scope=row>broom</th><td>broom       </td><td>1.0.0 </td><td>1.0.0 </td><td>/home/kynon/R/x86_64-pc-linux-gnu-library/4.2/broom       </td><td>/home/kynon/R/x86_64-pc-linux-gnu-library/4.2/broom       </td><td>FALSE</td><td>FALSE</td><td>2022-07-01</td><td>CRAN (R 4.2.1)</td><td>NA</td><td>/home/kynon/R/x86_64-pc-linux-gnu-library/4.2</td></tr>\n",
       "\t<tr><th scope=row>car</th><td>car         </td><td>3.1.0 </td><td>3.1-0 </td><td>/home/kynon/R/x86_64-pc-linux-gnu-library/4.2/car         </td><td>/home/kynon/R/x86_64-pc-linux-gnu-library/4.2/car         </td><td>FALSE</td><td>FALSE</td><td>2022-06-15</td><td>CRAN (R 4.2.1)</td><td>NA</td><td>/home/kynon/R/x86_64-pc-linux-gnu-library/4.2</td></tr>\n",
       "\t<tr><th scope=row>carData</th><td>carData     </td><td>3.0.5 </td><td>3.0-5 </td><td>/home/kynon/R/x86_64-pc-linux-gnu-library/4.2/carData     </td><td>/home/kynon/R/x86_64-pc-linux-gnu-library/4.2/carData     </td><td>FALSE</td><td>FALSE</td><td>2022-01-06</td><td>CRAN (R 4.2.1)</td><td>NA</td><td>/home/kynon/R/x86_64-pc-linux-gnu-library/4.2</td></tr>\n",
       "\t<tr><th scope=row>cellranger</th><td>cellranger  </td><td>1.1.0 </td><td>1.1.0 </td><td>/home/kynon/R/x86_64-pc-linux-gnu-library/4.2/cellranger  </td><td>/home/kynon/R/x86_64-pc-linux-gnu-library/4.2/cellranger  </td><td>FALSE</td><td>FALSE</td><td>2016-07-27</td><td>CRAN (R 4.2.1)</td><td>NA</td><td>/home/kynon/R/x86_64-pc-linux-gnu-library/4.2</td></tr>\n",
       "\t<tr><th scope=row>cli</th><td>cli         </td><td>3.3.0 </td><td>3.3.0 </td><td>/home/kynon/R/x86_64-pc-linux-gnu-library/4.2/cli         </td><td>/home/kynon/R/x86_64-pc-linux-gnu-library/4.2/cli         </td><td>FALSE</td><td>FALSE</td><td>2022-04-25</td><td>CRAN (R 4.2.0)</td><td>NA</td><td>/home/kynon/R/x86_64-pc-linux-gnu-library/4.2</td></tr>\n",
       "\t<tr><th scope=row>colorspace</th><td>colorspace  </td><td>2.0.3 </td><td>2.0-3 </td><td>/home/kynon/R/x86_64-pc-linux-gnu-library/4.2/colorspace  </td><td>/home/kynon/R/x86_64-pc-linux-gnu-library/4.2/colorspace  </td><td>FALSE</td><td>FALSE</td><td>2022-02-21</td><td>CRAN (R 4.2.1)</td><td>NA</td><td>/home/kynon/R/x86_64-pc-linux-gnu-library/4.2</td></tr>\n",
       "\t<tr><th scope=row>cowplot</th><td>cowplot     </td><td>1.1.1 </td><td>1.1.1 </td><td>/home/kynon/R/x86_64-pc-linux-gnu-library/4.2/cowplot     </td><td>/home/kynon/R/x86_64-pc-linux-gnu-library/4.2/cowplot     </td><td>FALSE</td><td>FALSE</td><td>2020-12-30</td><td>CRAN (R 4.2.1)</td><td>NA</td><td>/home/kynon/R/x86_64-pc-linux-gnu-library/4.2</td></tr>\n",
       "\t<tr><th scope=row>crayon</th><td>crayon      </td><td>1.5.1 </td><td>1.5.1 </td><td>/home/kynon/R/x86_64-pc-linux-gnu-library/4.2/crayon      </td><td>/home/kynon/R/x86_64-pc-linux-gnu-library/4.2/crayon      </td><td>FALSE</td><td>FALSE</td><td>2022-03-26</td><td>CRAN (R 4.2.0)</td><td>NA</td><td>/home/kynon/R/x86_64-pc-linux-gnu-library/4.2</td></tr>\n",
       "\t<tr><th scope=row>data.table</th><td>data.table  </td><td>1.14.2</td><td>1.14.2</td><td>/home/kynon/R/x86_64-pc-linux-gnu-library/4.2/data.table  </td><td>/home/kynon/R/x86_64-pc-linux-gnu-library/4.2/data.table  </td><td>FALSE</td><td>FALSE</td><td>2021-09-27</td><td>CRAN (R 4.2.1)</td><td>NA</td><td>/home/kynon/R/x86_64-pc-linux-gnu-library/4.2</td></tr>\n",
       "\t<tr><th scope=row>DBI</th><td>DBI         </td><td>1.1.3 </td><td>1.1.3 </td><td>/home/kynon/R/x86_64-pc-linux-gnu-library/4.2/DBI         </td><td>/home/kynon/R/x86_64-pc-linux-gnu-library/4.2/DBI         </td><td>FALSE</td><td>FALSE</td><td>2022-06-18</td><td>CRAN (R 4.2.1)</td><td>NA</td><td>/home/kynon/R/x86_64-pc-linux-gnu-library/4.2</td></tr>\n",
       "\t<tr><th scope=row>dbplyr</th><td>dbplyr      </td><td>2.2.1 </td><td>2.2.1 </td><td>/home/kynon/R/x86_64-pc-linux-gnu-library/4.2/dbplyr      </td><td>/home/kynon/R/x86_64-pc-linux-gnu-library/4.2/dbplyr      </td><td>FALSE</td><td>FALSE</td><td>2022-06-27</td><td>CRAN (R 4.2.1)</td><td>NA</td><td>/home/kynon/R/x86_64-pc-linux-gnu-library/4.2</td></tr>\n",
       "\t<tr><th scope=row>DelayedArray</th><td>DelayedArray</td><td>0.22.0</td><td>0.22.0</td><td>/home/kynon/R/x86_64-pc-linux-gnu-library/4.2/DelayedArray</td><td>/home/kynon/R/x86_64-pc-linux-gnu-library/4.2/DelayedArray</td><td>FALSE</td><td>FALSE</td><td>2022-04-26</td><td>Bioconductor  </td><td>NA</td><td>/home/kynon/R/x86_64-pc-linux-gnu-library/4.2</td></tr>\n",
       "\t<tr><th scope=row>digest</th><td>digest      </td><td>0.6.29</td><td>0.6.29</td><td>/home/kynon/R/x86_64-pc-linux-gnu-library/4.2/digest      </td><td>/home/kynon/R/x86_64-pc-linux-gnu-library/4.2/digest      </td><td>FALSE</td><td>FALSE</td><td>2021-12-01</td><td>CRAN (R 4.2.0)</td><td>NA</td><td>/home/kynon/R/x86_64-pc-linux-gnu-library/4.2</td></tr>\n",
       "\t<tr><th scope=row>dplyr</th><td>dplyr       </td><td>1.0.9 </td><td>1.0.9 </td><td>/home/kynon/R/x86_64-pc-linux-gnu-library/4.2/dplyr       </td><td>/home/kynon/R/x86_64-pc-linux-gnu-library/4.2/dplyr       </td><td> TRUE</td><td>FALSE</td><td>2022-04-28</td><td>CRAN (R 4.2.1)</td><td>NA</td><td>/home/kynon/R/x86_64-pc-linux-gnu-library/4.2</td></tr>\n",
       "\t<tr><th scope=row>ellipsis</th><td>ellipsis    </td><td>0.3.2 </td><td>0.3.2 </td><td>/home/kynon/R/x86_64-pc-linux-gnu-library/4.2/ellipsis    </td><td>/home/kynon/R/x86_64-pc-linux-gnu-library/4.2/ellipsis    </td><td>FALSE</td><td>FALSE</td><td>2021-04-29</td><td>CRAN (R 4.2.1)</td><td>NA</td><td>/home/kynon/R/x86_64-pc-linux-gnu-library/4.2</td></tr>\n",
       "\t<tr><th scope=row>evaluate</th><td>evaluate    </td><td>0.16  </td><td>0.16  </td><td>/home/kynon/R/x86_64-pc-linux-gnu-library/4.2/evaluate    </td><td>/home/kynon/R/x86_64-pc-linux-gnu-library/4.2/evaluate    </td><td>FALSE</td><td>FALSE</td><td>2022-08-09</td><td>CRAN (R 4.2.1)</td><td>NA</td><td>/home/kynon/R/x86_64-pc-linux-gnu-library/4.2</td></tr>\n",
       "\t<tr><th scope=row>fansi</th><td>fansi       </td><td>1.0.3 </td><td>1.0.3 </td><td>/home/kynon/R/x86_64-pc-linux-gnu-library/4.2/fansi       </td><td>/home/kynon/R/x86_64-pc-linux-gnu-library/4.2/fansi       </td><td>FALSE</td><td>FALSE</td><td>2022-03-24</td><td>CRAN (R 4.2.1)</td><td>NA</td><td>/home/kynon/R/x86_64-pc-linux-gnu-library/4.2</td></tr>\n",
       "\t<tr><th scope=row>farver</th><td>farver      </td><td>2.1.1 </td><td>2.1.1 </td><td>/home/kynon/R/x86_64-pc-linux-gnu-library/4.2/farver      </td><td>/home/kynon/R/x86_64-pc-linux-gnu-library/4.2/farver      </td><td>FALSE</td><td>FALSE</td><td>2022-07-06</td><td>CRAN (R 4.2.1)</td><td>NA</td><td>/home/kynon/R/x86_64-pc-linux-gnu-library/4.2</td></tr>\n",
       "\t<tr><th scope=row>fastmap</th><td>fastmap     </td><td>1.1.0 </td><td>1.1.0 </td><td>/home/kynon/R/x86_64-pc-linux-gnu-library/4.2/fastmap     </td><td>/home/kynon/R/x86_64-pc-linux-gnu-library/4.2/fastmap     </td><td>FALSE</td><td>FALSE</td><td>2021-01-25</td><td>CRAN (R 4.2.0)</td><td>NA</td><td>/home/kynon/R/x86_64-pc-linux-gnu-library/4.2</td></tr>\n",
       "\t<tr><th scope=row>forcats</th><td>forcats     </td><td>0.5.2 </td><td>0.5.2 </td><td>/home/kynon/R/x86_64-pc-linux-gnu-library/4.2/forcats     </td><td>/home/kynon/R/x86_64-pc-linux-gnu-library/4.2/forcats     </td><td> TRUE</td><td>FALSE</td><td>2022-08-19</td><td>CRAN (R 4.2.1)</td><td>NA</td><td>/home/kynon/R/x86_64-pc-linux-gnu-library/4.2</td></tr>\n",
       "\t<tr><th scope=row>fs</th><td>fs          </td><td>1.5.2 </td><td>1.5.2 </td><td>/home/kynon/R/x86_64-pc-linux-gnu-library/4.2/fs          </td><td>/home/kynon/R/x86_64-pc-linux-gnu-library/4.2/fs          </td><td>FALSE</td><td>FALSE</td><td>2021-12-08</td><td>CRAN (R 4.2.0)</td><td>NA</td><td>/home/kynon/R/x86_64-pc-linux-gnu-library/4.2</td></tr>\n",
       "\t<tr><th scope=row>gargle</th><td>gargle      </td><td>1.2.0 </td><td>1.2.0 </td><td>/home/kynon/R/x86_64-pc-linux-gnu-library/4.2/gargle      </td><td>/home/kynon/R/x86_64-pc-linux-gnu-library/4.2/gargle      </td><td>FALSE</td><td>FALSE</td><td>2021-07-02</td><td>CRAN (R 4.2.1)</td><td>NA</td><td>/home/kynon/R/x86_64-pc-linux-gnu-library/4.2</td></tr>\n",
       "\t<tr><th scope=row>generics</th><td>generics    </td><td>0.1.3 </td><td>0.1.3 </td><td>/home/kynon/R/x86_64-pc-linux-gnu-library/4.2/generics    </td><td>/home/kynon/R/x86_64-pc-linux-gnu-library/4.2/generics    </td><td>FALSE</td><td>FALSE</td><td>2022-07-05</td><td>CRAN (R 4.2.1)</td><td>NA</td><td>/home/kynon/R/x86_64-pc-linux-gnu-library/4.2</td></tr>\n",
       "\t<tr><th scope=row>⋮</th><td>⋮</td><td>⋮</td><td>⋮</td><td>⋮</td><td>⋮</td><td>⋮</td><td>⋮</td><td>⋮</td><td>⋮</td><td>⋮</td><td>⋮</td></tr>\n",
       "\t<tr><th scope=row>purrr</th><td>purrr               </td><td>0.3.4   </td><td>0.3.4   </td><td>/home/kynon/R/x86_64-pc-linux-gnu-library/4.2/purrr               </td><td>/home/kynon/R/x86_64-pc-linux-gnu-library/4.2/purrr               </td><td> TRUE</td><td>FALSE</td><td>2020-04-17</td><td>CRAN (R 4.2.0)</td><td>NA</td><td>/home/kynon/R/x86_64-pc-linux-gnu-library/4.2</td></tr>\n",
       "\t<tr><th scope=row>R6</th><td>R6                  </td><td>2.5.1   </td><td>2.5.1   </td><td>/home/kynon/R/x86_64-pc-linux-gnu-library/4.2/R6                  </td><td>/home/kynon/R/x86_64-pc-linux-gnu-library/4.2/R6                  </td><td>FALSE</td><td>FALSE</td><td>2021-08-19</td><td>CRAN (R 4.2.0)</td><td>NA</td><td>/home/kynon/R/x86_64-pc-linux-gnu-library/4.2</td></tr>\n",
       "\t<tr><th scope=row>RCurl</th><td>RCurl               </td><td>1.98.1.8</td><td>1.98-1.8</td><td>/home/kynon/R/x86_64-pc-linux-gnu-library/4.2/RCurl               </td><td>/home/kynon/R/x86_64-pc-linux-gnu-library/4.2/RCurl               </td><td>FALSE</td><td>FALSE</td><td>2022-07-30</td><td>CRAN (R 4.2.1)</td><td>NA</td><td>/home/kynon/R/x86_64-pc-linux-gnu-library/4.2</td></tr>\n",
       "\t<tr><th scope=row>readr</th><td>readr               </td><td>2.1.2   </td><td>2.1.2   </td><td>/home/kynon/R/x86_64-pc-linux-gnu-library/4.2/readr               </td><td>/home/kynon/R/x86_64-pc-linux-gnu-library/4.2/readr               </td><td> TRUE</td><td>FALSE</td><td>2022-01-30</td><td>CRAN (R 4.2.1)</td><td>NA</td><td>/home/kynon/R/x86_64-pc-linux-gnu-library/4.2</td></tr>\n",
       "\t<tr><th scope=row>readxl</th><td>readxl              </td><td>1.4.1   </td><td>1.4.1   </td><td>/home/kynon/R/x86_64-pc-linux-gnu-library/4.2/readxl              </td><td>/home/kynon/R/x86_64-pc-linux-gnu-library/4.2/readxl              </td><td>FALSE</td><td>FALSE</td><td>2022-08-17</td><td>CRAN (R 4.2.1)</td><td>NA</td><td>/home/kynon/R/x86_64-pc-linux-gnu-library/4.2</td></tr>\n",
       "\t<tr><th scope=row>repr</th><td>repr                </td><td>1.1.4   </td><td>1.1.4   </td><td>/home/kynon/R/x86_64-pc-linux-gnu-library/4.2/repr                </td><td>/home/kynon/R/x86_64-pc-linux-gnu-library/4.2/repr                </td><td>FALSE</td><td>FALSE</td><td>2022-01-04</td><td>CRAN (R 4.2.1)</td><td>NA</td><td>/home/kynon/R/x86_64-pc-linux-gnu-library/4.2</td></tr>\n",
       "\t<tr><th scope=row>reprex</th><td>reprex              </td><td>2.0.2   </td><td>2.0.2   </td><td>/home/kynon/R/x86_64-pc-linux-gnu-library/4.2/reprex              </td><td>/home/kynon/R/x86_64-pc-linux-gnu-library/4.2/reprex              </td><td>FALSE</td><td>FALSE</td><td>2022-08-17</td><td>CRAN (R 4.2.1)</td><td>NA</td><td>/home/kynon/R/x86_64-pc-linux-gnu-library/4.2</td></tr>\n",
       "\t<tr><th scope=row>rlang</th><td>rlang               </td><td>1.0.4   </td><td>1.0.4   </td><td>/home/kynon/R/x86_64-pc-linux-gnu-library/4.2/rlang               </td><td>/home/kynon/R/x86_64-pc-linux-gnu-library/4.2/rlang               </td><td>FALSE</td><td>FALSE</td><td>2022-07-12</td><td>CRAN (R 4.2.1)</td><td>NA</td><td>/home/kynon/R/x86_64-pc-linux-gnu-library/4.2</td></tr>\n",
       "\t<tr><th scope=row>rstatix</th><td>rstatix             </td><td>0.7.0   </td><td>0.7.0   </td><td>/home/kynon/R/x86_64-pc-linux-gnu-library/4.2/rstatix             </td><td>/home/kynon/R/x86_64-pc-linux-gnu-library/4.2/rstatix             </td><td>FALSE</td><td>FALSE</td><td>2021-02-13</td><td>CRAN (R 4.2.1)</td><td>NA</td><td>/home/kynon/R/x86_64-pc-linux-gnu-library/4.2</td></tr>\n",
       "\t<tr><th scope=row>rvest</th><td>rvest               </td><td>1.0.3   </td><td>1.0.3   </td><td>/home/kynon/R/x86_64-pc-linux-gnu-library/4.2/rvest               </td><td>/home/kynon/R/x86_64-pc-linux-gnu-library/4.2/rvest               </td><td>FALSE</td><td>FALSE</td><td>2022-08-19</td><td>CRAN (R 4.2.1)</td><td>NA</td><td>/home/kynon/R/x86_64-pc-linux-gnu-library/4.2</td></tr>\n",
       "\t<tr><th scope=row>S4Vectors</th><td>S4Vectors           </td><td>0.34.0  </td><td>0.34.0  </td><td>/home/kynon/R/x86_64-pc-linux-gnu-library/4.2/S4Vectors           </td><td>/home/kynon/R/x86_64-pc-linux-gnu-library/4.2/S4Vectors           </td><td> TRUE</td><td>FALSE</td><td>2022-04-26</td><td>Bioconductor  </td><td>NA</td><td>/home/kynon/R/x86_64-pc-linux-gnu-library/4.2</td></tr>\n",
       "\t<tr><th scope=row>scales</th><td>scales              </td><td>1.2.1   </td><td>1.2.1   </td><td>/home/kynon/R/x86_64-pc-linux-gnu-library/4.2/scales              </td><td>/home/kynon/R/x86_64-pc-linux-gnu-library/4.2/scales              </td><td>FALSE</td><td>FALSE</td><td>2022-08-20</td><td>CRAN (R 4.2.1)</td><td>NA</td><td>/home/kynon/R/x86_64-pc-linux-gnu-library/4.2</td></tr>\n",
       "\t<tr><th scope=row>sessioninfo</th><td>sessioninfo         </td><td>1.2.2   </td><td>1.2.2   </td><td>/home/kynon/R/x86_64-pc-linux-gnu-library/4.2/sessioninfo         </td><td>/home/kynon/R/x86_64-pc-linux-gnu-library/4.2/sessioninfo         </td><td>FALSE</td><td>FALSE</td><td>2021-12-06</td><td>CRAN (R 4.2.1)</td><td>NA</td><td>/home/kynon/R/x86_64-pc-linux-gnu-library/4.2</td></tr>\n",
       "\t<tr><th scope=row>stringi</th><td>stringi             </td><td>1.7.8   </td><td>1.7.8   </td><td>/home/kynon/R/x86_64-pc-linux-gnu-library/4.2/stringi             </td><td>/home/kynon/R/x86_64-pc-linux-gnu-library/4.2/stringi             </td><td>FALSE</td><td>FALSE</td><td>2022-07-11</td><td>CRAN (R 4.2.1)</td><td>NA</td><td>/home/kynon/R/x86_64-pc-linux-gnu-library/4.2</td></tr>\n",
       "\t<tr><th scope=row>stringr</th><td>stringr             </td><td>1.4.1   </td><td>1.4.1   </td><td>/home/kynon/R/x86_64-pc-linux-gnu-library/4.2/stringr             </td><td>/home/kynon/R/x86_64-pc-linux-gnu-library/4.2/stringr             </td><td> TRUE</td><td>FALSE</td><td>2022-08-20</td><td>CRAN (R 4.2.1)</td><td>NA</td><td>/home/kynon/R/x86_64-pc-linux-gnu-library/4.2</td></tr>\n",
       "\t<tr><th scope=row>SummarizedExperiment</th><td>SummarizedExperiment</td><td>1.26.1  </td><td>1.26.1  </td><td>/home/kynon/R/x86_64-pc-linux-gnu-library/4.2/SummarizedExperiment</td><td>/home/kynon/R/x86_64-pc-linux-gnu-library/4.2/SummarizedExperiment</td><td> TRUE</td><td>FALSE</td><td>2022-04-29</td><td>Bioconductor  </td><td>NA</td><td>/home/kynon/R/x86_64-pc-linux-gnu-library/4.2</td></tr>\n",
       "\t<tr><th scope=row>svglite</th><td>svglite             </td><td>2.1.0   </td><td>2.1.0   </td><td>/home/kynon/R/x86_64-pc-linux-gnu-library/4.2/svglite             </td><td>/home/kynon/R/x86_64-pc-linux-gnu-library/4.2/svglite             </td><td>FALSE</td><td>FALSE</td><td>2022-02-03</td><td>CRAN (R 4.2.1)</td><td>NA</td><td>/home/kynon/R/x86_64-pc-linux-gnu-library/4.2</td></tr>\n",
       "\t<tr><th scope=row>systemfonts</th><td>systemfonts         </td><td>1.0.4   </td><td>1.0.4   </td><td>/home/kynon/R/x86_64-pc-linux-gnu-library/4.2/systemfonts         </td><td>/home/kynon/R/x86_64-pc-linux-gnu-library/4.2/systemfonts         </td><td>FALSE</td><td>FALSE</td><td>2022-02-11</td><td>CRAN (R 4.2.1)</td><td>NA</td><td>/home/kynon/R/x86_64-pc-linux-gnu-library/4.2</td></tr>\n",
       "\t<tr><th scope=row>tibble</th><td>tibble              </td><td>3.1.8   </td><td>3.1.8   </td><td>/home/kynon/R/x86_64-pc-linux-gnu-library/4.2/tibble              </td><td>/home/kynon/R/x86_64-pc-linux-gnu-library/4.2/tibble              </td><td> TRUE</td><td>FALSE</td><td>2022-07-22</td><td>CRAN (R 4.2.1)</td><td>NA</td><td>/home/kynon/R/x86_64-pc-linux-gnu-library/4.2</td></tr>\n",
       "\t<tr><th scope=row>tidyr</th><td>tidyr               </td><td>1.2.0   </td><td>1.2.0   </td><td>/home/kynon/R/x86_64-pc-linux-gnu-library/4.2/tidyr               </td><td>/home/kynon/R/x86_64-pc-linux-gnu-library/4.2/tidyr               </td><td> TRUE</td><td>FALSE</td><td>2022-02-01</td><td>CRAN (R 4.2.1)</td><td>NA</td><td>/home/kynon/R/x86_64-pc-linux-gnu-library/4.2</td></tr>\n",
       "\t<tr><th scope=row>tidyselect</th><td>tidyselect          </td><td>1.1.2   </td><td>1.1.2   </td><td>/home/kynon/R/x86_64-pc-linux-gnu-library/4.2/tidyselect          </td><td>/home/kynon/R/x86_64-pc-linux-gnu-library/4.2/tidyselect          </td><td>FALSE</td><td>FALSE</td><td>2022-02-21</td><td>CRAN (R 4.2.1)</td><td>NA</td><td>/home/kynon/R/x86_64-pc-linux-gnu-library/4.2</td></tr>\n",
       "\t<tr><th scope=row>tidyverse</th><td>tidyverse           </td><td>1.3.2   </td><td>1.3.2   </td><td>/home/kynon/R/x86_64-pc-linux-gnu-library/4.2/tidyverse           </td><td>/home/kynon/R/x86_64-pc-linux-gnu-library/4.2/tidyverse           </td><td> TRUE</td><td>FALSE</td><td>2022-07-18</td><td>CRAN (R 4.2.1)</td><td>NA</td><td>/home/kynon/R/x86_64-pc-linux-gnu-library/4.2</td></tr>\n",
       "\t<tr><th scope=row>tzdb</th><td>tzdb                </td><td>0.3.0   </td><td>0.3.0   </td><td>/home/kynon/R/x86_64-pc-linux-gnu-library/4.2/tzdb                </td><td>/home/kynon/R/x86_64-pc-linux-gnu-library/4.2/tzdb                </td><td>FALSE</td><td>FALSE</td><td>2022-03-28</td><td>CRAN (R 4.2.1)</td><td>NA</td><td>/home/kynon/R/x86_64-pc-linux-gnu-library/4.2</td></tr>\n",
       "\t<tr><th scope=row>utf8</th><td>utf8                </td><td>1.2.2   </td><td>1.2.2   </td><td>/home/kynon/R/x86_64-pc-linux-gnu-library/4.2/utf8                </td><td>/home/kynon/R/x86_64-pc-linux-gnu-library/4.2/utf8                </td><td>FALSE</td><td>FALSE</td><td>2021-07-24</td><td>CRAN (R 4.2.1)</td><td>NA</td><td>/home/kynon/R/x86_64-pc-linux-gnu-library/4.2</td></tr>\n",
       "\t<tr><th scope=row>uuid</th><td>uuid                </td><td>1.1.0   </td><td>1.1-0   </td><td>/home/kynon/R/x86_64-pc-linux-gnu-library/4.2/uuid                </td><td>/home/kynon/R/x86_64-pc-linux-gnu-library/4.2/uuid                </td><td>FALSE</td><td>FALSE</td><td>2022-04-19</td><td>CRAN (R 4.2.1)</td><td>NA</td><td>/home/kynon/R/x86_64-pc-linux-gnu-library/4.2</td></tr>\n",
       "\t<tr><th scope=row>vctrs</th><td>vctrs               </td><td>0.4.1   </td><td>0.4.1   </td><td>/home/kynon/R/x86_64-pc-linux-gnu-library/4.2/vctrs               </td><td>/home/kynon/R/x86_64-pc-linux-gnu-library/4.2/vctrs               </td><td>FALSE</td><td>FALSE</td><td>2022-04-13</td><td>CRAN (R 4.2.1)</td><td>NA</td><td>/home/kynon/R/x86_64-pc-linux-gnu-library/4.2</td></tr>\n",
       "\t<tr><th scope=row>withr</th><td>withr               </td><td>2.5.0   </td><td>2.5.0   </td><td>/home/kynon/R/x86_64-pc-linux-gnu-library/4.2/withr               </td><td>/home/kynon/R/x86_64-pc-linux-gnu-library/4.2/withr               </td><td>FALSE</td><td>FALSE</td><td>2022-03-03</td><td>CRAN (R 4.2.0)</td><td>NA</td><td>/home/kynon/R/x86_64-pc-linux-gnu-library/4.2</td></tr>\n",
       "\t<tr><th scope=row>xml2</th><td>xml2                </td><td>1.3.3   </td><td>1.3.3   </td><td>/home/kynon/R/x86_64-pc-linux-gnu-library/4.2/xml2                </td><td>/home/kynon/R/x86_64-pc-linux-gnu-library/4.2/xml2                </td><td>FALSE</td><td>FALSE</td><td>2021-11-30</td><td>CRAN (R 4.2.1)</td><td>NA</td><td>/home/kynon/R/x86_64-pc-linux-gnu-library/4.2</td></tr>\n",
       "\t<tr><th scope=row>XVector</th><td>XVector             </td><td>0.36.0  </td><td>0.36.0  </td><td>/home/kynon/R/x86_64-pc-linux-gnu-library/4.2/XVector             </td><td>/home/kynon/R/x86_64-pc-linux-gnu-library/4.2/XVector             </td><td>FALSE</td><td>FALSE</td><td>2022-04-26</td><td>Bioconductor  </td><td>NA</td><td>/home/kynon/R/x86_64-pc-linux-gnu-library/4.2</td></tr>\n",
       "\t<tr><th scope=row>zlibbioc</th><td>zlibbioc            </td><td>1.42.0  </td><td>1.42.0  </td><td>/home/kynon/R/x86_64-pc-linux-gnu-library/4.2/zlibbioc            </td><td>/home/kynon/R/x86_64-pc-linux-gnu-library/4.2/zlibbioc            </td><td>FALSE</td><td>FALSE</td><td>2022-04-26</td><td>Bioconductor  </td><td>NA</td><td>/home/kynon/R/x86_64-pc-linux-gnu-library/4.2</td></tr>\n",
       "</tbody>\n",
       "</table>\n",
       "</dd>\n",
       "</dl>\n"
      ],
      "text/latex": [
       "\\begin{description}\n",
       "\\item[\\$platform] \\begin{description}\n",
       "\\item[\\$version] 'R version 4.2.1 (2022-06-23)'\n",
       "\\item[\\$os] 'Arch Linux'\n",
       "\\item[\\$system] 'x86\\_64, linux-gnu'\n",
       "\\item[\\$ui] 'X11'\n",
       "\\item[\\$language] '(EN)'\n",
       "\\item[\\$collate] 'en\\_US.UTF-8'\n",
       "\\item[\\$ctype] 'en\\_US.UTF-8'\n",
       "\\item[\\$tz] 'America/New\\_York'\n",
       "\\item[\\$date] '2022-08-26'\n",
       "\\item[\\$pandoc] '2.18 @ /usr/bin/pandoc'\n",
       "\\end{description}\n",
       "\n",
       "\\item[\\$packages] A packages\\_info: 93 × 11\n",
       "\\begin{tabular}{r|lllllllllll}\n",
       "  & package & ondiskversion & loadedversion & path & loadedpath & attached & is\\_base & date & source & md5ok & library\\\\\n",
       "  & <chr> & <chr> & <chr> & <chr> & <chr> & <lgl> & <lgl> & <chr> & <chr> & <lgl> & <fct>\\\\\n",
       "\\hline\n",
       "\tabind & abind        & 1.4.5  & 1.4-5  & /home/kynon/R/x86\\_64-pc-linux-gnu-library/4.2/abind        & /home/kynon/R/x86\\_64-pc-linux-gnu-library/4.2/abind        & FALSE & FALSE & 2016-07-21 & CRAN (R 4.2.1) & NA & /home/kynon/R/x86\\_64-pc-linux-gnu-library/4.2\\\\\n",
       "\tassertthat & assertthat   & 0.2.1  & 0.2.1  & /home/kynon/R/x86\\_64-pc-linux-gnu-library/4.2/assertthat   & /home/kynon/R/x86\\_64-pc-linux-gnu-library/4.2/assertthat   & FALSE & FALSE & 2019-03-21 & CRAN (R 4.2.1) & NA & /home/kynon/R/x86\\_64-pc-linux-gnu-library/4.2\\\\\n",
       "\tbackports & backports    & 1.4.1  & 1.4.1  & /home/kynon/R/x86\\_64-pc-linux-gnu-library/4.2/backports    & /home/kynon/R/x86\\_64-pc-linux-gnu-library/4.2/backports    & FALSE & FALSE & 2021-12-13 & CRAN (R 4.2.1) & NA & /home/kynon/R/x86\\_64-pc-linux-gnu-library/4.2\\\\\n",
       "\tbase64enc & base64enc    & 0.1.3  & 0.1-3  & /home/kynon/R/x86\\_64-pc-linux-gnu-library/4.2/base64enc    & /home/kynon/R/x86\\_64-pc-linux-gnu-library/4.2/base64enc    & FALSE & FALSE & 2015-07-28 & CRAN (R 4.2.0) & NA & /home/kynon/R/x86\\_64-pc-linux-gnu-library/4.2\\\\\n",
       "\tBiobase & Biobase      & 2.56.0 & 2.56.0 & /home/kynon/R/x86\\_64-pc-linux-gnu-library/4.2/Biobase      & /home/kynon/R/x86\\_64-pc-linux-gnu-library/4.2/Biobase      &  TRUE & FALSE & 2022-04-26 & Bioconductor   & NA & /home/kynon/R/x86\\_64-pc-linux-gnu-library/4.2\\\\\n",
       "\tBiocGenerics & BiocGenerics & 0.42.0 & 0.42.0 & /home/kynon/R/x86\\_64-pc-linux-gnu-library/4.2/BiocGenerics & /home/kynon/R/x86\\_64-pc-linux-gnu-library/4.2/BiocGenerics &  TRUE & FALSE & 2022-04-26 & Bioconductor   & NA & /home/kynon/R/x86\\_64-pc-linux-gnu-library/4.2\\\\\n",
       "\tbitops & bitops       & 1.0.7  & 1.0-7  & /home/kynon/R/x86\\_64-pc-linux-gnu-library/4.2/bitops       & /home/kynon/R/x86\\_64-pc-linux-gnu-library/4.2/bitops       & FALSE & FALSE & 2021-04-24 & CRAN (R 4.2.1) & NA & /home/kynon/R/x86\\_64-pc-linux-gnu-library/4.2\\\\\n",
       "\tbroom & broom        & 1.0.0  & 1.0.0  & /home/kynon/R/x86\\_64-pc-linux-gnu-library/4.2/broom        & /home/kynon/R/x86\\_64-pc-linux-gnu-library/4.2/broom        & FALSE & FALSE & 2022-07-01 & CRAN (R 4.2.1) & NA & /home/kynon/R/x86\\_64-pc-linux-gnu-library/4.2\\\\\n",
       "\tcar & car          & 3.1.0  & 3.1-0  & /home/kynon/R/x86\\_64-pc-linux-gnu-library/4.2/car          & /home/kynon/R/x86\\_64-pc-linux-gnu-library/4.2/car          & FALSE & FALSE & 2022-06-15 & CRAN (R 4.2.1) & NA & /home/kynon/R/x86\\_64-pc-linux-gnu-library/4.2\\\\\n",
       "\tcarData & carData      & 3.0.5  & 3.0-5  & /home/kynon/R/x86\\_64-pc-linux-gnu-library/4.2/carData      & /home/kynon/R/x86\\_64-pc-linux-gnu-library/4.2/carData      & FALSE & FALSE & 2022-01-06 & CRAN (R 4.2.1) & NA & /home/kynon/R/x86\\_64-pc-linux-gnu-library/4.2\\\\\n",
       "\tcellranger & cellranger   & 1.1.0  & 1.1.0  & /home/kynon/R/x86\\_64-pc-linux-gnu-library/4.2/cellranger   & /home/kynon/R/x86\\_64-pc-linux-gnu-library/4.2/cellranger   & FALSE & FALSE & 2016-07-27 & CRAN (R 4.2.1) & NA & /home/kynon/R/x86\\_64-pc-linux-gnu-library/4.2\\\\\n",
       "\tcli & cli          & 3.3.0  & 3.3.0  & /home/kynon/R/x86\\_64-pc-linux-gnu-library/4.2/cli          & /home/kynon/R/x86\\_64-pc-linux-gnu-library/4.2/cli          & FALSE & FALSE & 2022-04-25 & CRAN (R 4.2.0) & NA & /home/kynon/R/x86\\_64-pc-linux-gnu-library/4.2\\\\\n",
       "\tcolorspace & colorspace   & 2.0.3  & 2.0-3  & /home/kynon/R/x86\\_64-pc-linux-gnu-library/4.2/colorspace   & /home/kynon/R/x86\\_64-pc-linux-gnu-library/4.2/colorspace   & FALSE & FALSE & 2022-02-21 & CRAN (R 4.2.1) & NA & /home/kynon/R/x86\\_64-pc-linux-gnu-library/4.2\\\\\n",
       "\tcowplot & cowplot      & 1.1.1  & 1.1.1  & /home/kynon/R/x86\\_64-pc-linux-gnu-library/4.2/cowplot      & /home/kynon/R/x86\\_64-pc-linux-gnu-library/4.2/cowplot      & FALSE & FALSE & 2020-12-30 & CRAN (R 4.2.1) & NA & /home/kynon/R/x86\\_64-pc-linux-gnu-library/4.2\\\\\n",
       "\tcrayon & crayon       & 1.5.1  & 1.5.1  & /home/kynon/R/x86\\_64-pc-linux-gnu-library/4.2/crayon       & /home/kynon/R/x86\\_64-pc-linux-gnu-library/4.2/crayon       & FALSE & FALSE & 2022-03-26 & CRAN (R 4.2.0) & NA & /home/kynon/R/x86\\_64-pc-linux-gnu-library/4.2\\\\\n",
       "\tdata.table & data.table   & 1.14.2 & 1.14.2 & /home/kynon/R/x86\\_64-pc-linux-gnu-library/4.2/data.table   & /home/kynon/R/x86\\_64-pc-linux-gnu-library/4.2/data.table   & FALSE & FALSE & 2021-09-27 & CRAN (R 4.2.1) & NA & /home/kynon/R/x86\\_64-pc-linux-gnu-library/4.2\\\\\n",
       "\tDBI & DBI          & 1.1.3  & 1.1.3  & /home/kynon/R/x86\\_64-pc-linux-gnu-library/4.2/DBI          & /home/kynon/R/x86\\_64-pc-linux-gnu-library/4.2/DBI          & FALSE & FALSE & 2022-06-18 & CRAN (R 4.2.1) & NA & /home/kynon/R/x86\\_64-pc-linux-gnu-library/4.2\\\\\n",
       "\tdbplyr & dbplyr       & 2.2.1  & 2.2.1  & /home/kynon/R/x86\\_64-pc-linux-gnu-library/4.2/dbplyr       & /home/kynon/R/x86\\_64-pc-linux-gnu-library/4.2/dbplyr       & FALSE & FALSE & 2022-06-27 & CRAN (R 4.2.1) & NA & /home/kynon/R/x86\\_64-pc-linux-gnu-library/4.2\\\\\n",
       "\tDelayedArray & DelayedArray & 0.22.0 & 0.22.0 & /home/kynon/R/x86\\_64-pc-linux-gnu-library/4.2/DelayedArray & /home/kynon/R/x86\\_64-pc-linux-gnu-library/4.2/DelayedArray & FALSE & FALSE & 2022-04-26 & Bioconductor   & NA & /home/kynon/R/x86\\_64-pc-linux-gnu-library/4.2\\\\\n",
       "\tdigest & digest       & 0.6.29 & 0.6.29 & /home/kynon/R/x86\\_64-pc-linux-gnu-library/4.2/digest       & /home/kynon/R/x86\\_64-pc-linux-gnu-library/4.2/digest       & FALSE & FALSE & 2021-12-01 & CRAN (R 4.2.0) & NA & /home/kynon/R/x86\\_64-pc-linux-gnu-library/4.2\\\\\n",
       "\tdplyr & dplyr        & 1.0.9  & 1.0.9  & /home/kynon/R/x86\\_64-pc-linux-gnu-library/4.2/dplyr        & /home/kynon/R/x86\\_64-pc-linux-gnu-library/4.2/dplyr        &  TRUE & FALSE & 2022-04-28 & CRAN (R 4.2.1) & NA & /home/kynon/R/x86\\_64-pc-linux-gnu-library/4.2\\\\\n",
       "\tellipsis & ellipsis     & 0.3.2  & 0.3.2  & /home/kynon/R/x86\\_64-pc-linux-gnu-library/4.2/ellipsis     & /home/kynon/R/x86\\_64-pc-linux-gnu-library/4.2/ellipsis     & FALSE & FALSE & 2021-04-29 & CRAN (R 4.2.1) & NA & /home/kynon/R/x86\\_64-pc-linux-gnu-library/4.2\\\\\n",
       "\tevaluate & evaluate     & 0.16   & 0.16   & /home/kynon/R/x86\\_64-pc-linux-gnu-library/4.2/evaluate     & /home/kynon/R/x86\\_64-pc-linux-gnu-library/4.2/evaluate     & FALSE & FALSE & 2022-08-09 & CRAN (R 4.2.1) & NA & /home/kynon/R/x86\\_64-pc-linux-gnu-library/4.2\\\\\n",
       "\tfansi & fansi        & 1.0.3  & 1.0.3  & /home/kynon/R/x86\\_64-pc-linux-gnu-library/4.2/fansi        & /home/kynon/R/x86\\_64-pc-linux-gnu-library/4.2/fansi        & FALSE & FALSE & 2022-03-24 & CRAN (R 4.2.1) & NA & /home/kynon/R/x86\\_64-pc-linux-gnu-library/4.2\\\\\n",
       "\tfarver & farver       & 2.1.1  & 2.1.1  & /home/kynon/R/x86\\_64-pc-linux-gnu-library/4.2/farver       & /home/kynon/R/x86\\_64-pc-linux-gnu-library/4.2/farver       & FALSE & FALSE & 2022-07-06 & CRAN (R 4.2.1) & NA & /home/kynon/R/x86\\_64-pc-linux-gnu-library/4.2\\\\\n",
       "\tfastmap & fastmap      & 1.1.0  & 1.1.0  & /home/kynon/R/x86\\_64-pc-linux-gnu-library/4.2/fastmap      & /home/kynon/R/x86\\_64-pc-linux-gnu-library/4.2/fastmap      & FALSE & FALSE & 2021-01-25 & CRAN (R 4.2.0) & NA & /home/kynon/R/x86\\_64-pc-linux-gnu-library/4.2\\\\\n",
       "\tforcats & forcats      & 0.5.2  & 0.5.2  & /home/kynon/R/x86\\_64-pc-linux-gnu-library/4.2/forcats      & /home/kynon/R/x86\\_64-pc-linux-gnu-library/4.2/forcats      &  TRUE & FALSE & 2022-08-19 & CRAN (R 4.2.1) & NA & /home/kynon/R/x86\\_64-pc-linux-gnu-library/4.2\\\\\n",
       "\tfs & fs           & 1.5.2  & 1.5.2  & /home/kynon/R/x86\\_64-pc-linux-gnu-library/4.2/fs           & /home/kynon/R/x86\\_64-pc-linux-gnu-library/4.2/fs           & FALSE & FALSE & 2021-12-08 & CRAN (R 4.2.0) & NA & /home/kynon/R/x86\\_64-pc-linux-gnu-library/4.2\\\\\n",
       "\tgargle & gargle       & 1.2.0  & 1.2.0  & /home/kynon/R/x86\\_64-pc-linux-gnu-library/4.2/gargle       & /home/kynon/R/x86\\_64-pc-linux-gnu-library/4.2/gargle       & FALSE & FALSE & 2021-07-02 & CRAN (R 4.2.1) & NA & /home/kynon/R/x86\\_64-pc-linux-gnu-library/4.2\\\\\n",
       "\tgenerics & generics     & 0.1.3  & 0.1.3  & /home/kynon/R/x86\\_64-pc-linux-gnu-library/4.2/generics     & /home/kynon/R/x86\\_64-pc-linux-gnu-library/4.2/generics     & FALSE & FALSE & 2022-07-05 & CRAN (R 4.2.1) & NA & /home/kynon/R/x86\\_64-pc-linux-gnu-library/4.2\\\\\n",
       "\t⋮ & ⋮ & ⋮ & ⋮ & ⋮ & ⋮ & ⋮ & ⋮ & ⋮ & ⋮ & ⋮ & ⋮\\\\\n",
       "\tpurrr & purrr                & 0.3.4    & 0.3.4    & /home/kynon/R/x86\\_64-pc-linux-gnu-library/4.2/purrr                & /home/kynon/R/x86\\_64-pc-linux-gnu-library/4.2/purrr                &  TRUE & FALSE & 2020-04-17 & CRAN (R 4.2.0) & NA & /home/kynon/R/x86\\_64-pc-linux-gnu-library/4.2\\\\\n",
       "\tR6 & R6                   & 2.5.1    & 2.5.1    & /home/kynon/R/x86\\_64-pc-linux-gnu-library/4.2/R6                   & /home/kynon/R/x86\\_64-pc-linux-gnu-library/4.2/R6                   & FALSE & FALSE & 2021-08-19 & CRAN (R 4.2.0) & NA & /home/kynon/R/x86\\_64-pc-linux-gnu-library/4.2\\\\\n",
       "\tRCurl & RCurl                & 1.98.1.8 & 1.98-1.8 & /home/kynon/R/x86\\_64-pc-linux-gnu-library/4.2/RCurl                & /home/kynon/R/x86\\_64-pc-linux-gnu-library/4.2/RCurl                & FALSE & FALSE & 2022-07-30 & CRAN (R 4.2.1) & NA & /home/kynon/R/x86\\_64-pc-linux-gnu-library/4.2\\\\\n",
       "\treadr & readr                & 2.1.2    & 2.1.2    & /home/kynon/R/x86\\_64-pc-linux-gnu-library/4.2/readr                & /home/kynon/R/x86\\_64-pc-linux-gnu-library/4.2/readr                &  TRUE & FALSE & 2022-01-30 & CRAN (R 4.2.1) & NA & /home/kynon/R/x86\\_64-pc-linux-gnu-library/4.2\\\\\n",
       "\treadxl & readxl               & 1.4.1    & 1.4.1    & /home/kynon/R/x86\\_64-pc-linux-gnu-library/4.2/readxl               & /home/kynon/R/x86\\_64-pc-linux-gnu-library/4.2/readxl               & FALSE & FALSE & 2022-08-17 & CRAN (R 4.2.1) & NA & /home/kynon/R/x86\\_64-pc-linux-gnu-library/4.2\\\\\n",
       "\trepr & repr                 & 1.1.4    & 1.1.4    & /home/kynon/R/x86\\_64-pc-linux-gnu-library/4.2/repr                 & /home/kynon/R/x86\\_64-pc-linux-gnu-library/4.2/repr                 & FALSE & FALSE & 2022-01-04 & CRAN (R 4.2.1) & NA & /home/kynon/R/x86\\_64-pc-linux-gnu-library/4.2\\\\\n",
       "\treprex & reprex               & 2.0.2    & 2.0.2    & /home/kynon/R/x86\\_64-pc-linux-gnu-library/4.2/reprex               & /home/kynon/R/x86\\_64-pc-linux-gnu-library/4.2/reprex               & FALSE & FALSE & 2022-08-17 & CRAN (R 4.2.1) & NA & /home/kynon/R/x86\\_64-pc-linux-gnu-library/4.2\\\\\n",
       "\trlang & rlang                & 1.0.4    & 1.0.4    & /home/kynon/R/x86\\_64-pc-linux-gnu-library/4.2/rlang                & /home/kynon/R/x86\\_64-pc-linux-gnu-library/4.2/rlang                & FALSE & FALSE & 2022-07-12 & CRAN (R 4.2.1) & NA & /home/kynon/R/x86\\_64-pc-linux-gnu-library/4.2\\\\\n",
       "\trstatix & rstatix              & 0.7.0    & 0.7.0    & /home/kynon/R/x86\\_64-pc-linux-gnu-library/4.2/rstatix              & /home/kynon/R/x86\\_64-pc-linux-gnu-library/4.2/rstatix              & FALSE & FALSE & 2021-02-13 & CRAN (R 4.2.1) & NA & /home/kynon/R/x86\\_64-pc-linux-gnu-library/4.2\\\\\n",
       "\trvest & rvest                & 1.0.3    & 1.0.3    & /home/kynon/R/x86\\_64-pc-linux-gnu-library/4.2/rvest                & /home/kynon/R/x86\\_64-pc-linux-gnu-library/4.2/rvest                & FALSE & FALSE & 2022-08-19 & CRAN (R 4.2.1) & NA & /home/kynon/R/x86\\_64-pc-linux-gnu-library/4.2\\\\\n",
       "\tS4Vectors & S4Vectors            & 0.34.0   & 0.34.0   & /home/kynon/R/x86\\_64-pc-linux-gnu-library/4.2/S4Vectors            & /home/kynon/R/x86\\_64-pc-linux-gnu-library/4.2/S4Vectors            &  TRUE & FALSE & 2022-04-26 & Bioconductor   & NA & /home/kynon/R/x86\\_64-pc-linux-gnu-library/4.2\\\\\n",
       "\tscales & scales               & 1.2.1    & 1.2.1    & /home/kynon/R/x86\\_64-pc-linux-gnu-library/4.2/scales               & /home/kynon/R/x86\\_64-pc-linux-gnu-library/4.2/scales               & FALSE & FALSE & 2022-08-20 & CRAN (R 4.2.1) & NA & /home/kynon/R/x86\\_64-pc-linux-gnu-library/4.2\\\\\n",
       "\tsessioninfo & sessioninfo          & 1.2.2    & 1.2.2    & /home/kynon/R/x86\\_64-pc-linux-gnu-library/4.2/sessioninfo          & /home/kynon/R/x86\\_64-pc-linux-gnu-library/4.2/sessioninfo          & FALSE & FALSE & 2021-12-06 & CRAN (R 4.2.1) & NA & /home/kynon/R/x86\\_64-pc-linux-gnu-library/4.2\\\\\n",
       "\tstringi & stringi              & 1.7.8    & 1.7.8    & /home/kynon/R/x86\\_64-pc-linux-gnu-library/4.2/stringi              & /home/kynon/R/x86\\_64-pc-linux-gnu-library/4.2/stringi              & FALSE & FALSE & 2022-07-11 & CRAN (R 4.2.1) & NA & /home/kynon/R/x86\\_64-pc-linux-gnu-library/4.2\\\\\n",
       "\tstringr & stringr              & 1.4.1    & 1.4.1    & /home/kynon/R/x86\\_64-pc-linux-gnu-library/4.2/stringr              & /home/kynon/R/x86\\_64-pc-linux-gnu-library/4.2/stringr              &  TRUE & FALSE & 2022-08-20 & CRAN (R 4.2.1) & NA & /home/kynon/R/x86\\_64-pc-linux-gnu-library/4.2\\\\\n",
       "\tSummarizedExperiment & SummarizedExperiment & 1.26.1   & 1.26.1   & /home/kynon/R/x86\\_64-pc-linux-gnu-library/4.2/SummarizedExperiment & /home/kynon/R/x86\\_64-pc-linux-gnu-library/4.2/SummarizedExperiment &  TRUE & FALSE & 2022-04-29 & Bioconductor   & NA & /home/kynon/R/x86\\_64-pc-linux-gnu-library/4.2\\\\\n",
       "\tsvglite & svglite              & 2.1.0    & 2.1.0    & /home/kynon/R/x86\\_64-pc-linux-gnu-library/4.2/svglite              & /home/kynon/R/x86\\_64-pc-linux-gnu-library/4.2/svglite              & FALSE & FALSE & 2022-02-03 & CRAN (R 4.2.1) & NA & /home/kynon/R/x86\\_64-pc-linux-gnu-library/4.2\\\\\n",
       "\tsystemfonts & systemfonts          & 1.0.4    & 1.0.4    & /home/kynon/R/x86\\_64-pc-linux-gnu-library/4.2/systemfonts          & /home/kynon/R/x86\\_64-pc-linux-gnu-library/4.2/systemfonts          & FALSE & FALSE & 2022-02-11 & CRAN (R 4.2.1) & NA & /home/kynon/R/x86\\_64-pc-linux-gnu-library/4.2\\\\\n",
       "\ttibble & tibble               & 3.1.8    & 3.1.8    & /home/kynon/R/x86\\_64-pc-linux-gnu-library/4.2/tibble               & /home/kynon/R/x86\\_64-pc-linux-gnu-library/4.2/tibble               &  TRUE & FALSE & 2022-07-22 & CRAN (R 4.2.1) & NA & /home/kynon/R/x86\\_64-pc-linux-gnu-library/4.2\\\\\n",
       "\ttidyr & tidyr                & 1.2.0    & 1.2.0    & /home/kynon/R/x86\\_64-pc-linux-gnu-library/4.2/tidyr                & /home/kynon/R/x86\\_64-pc-linux-gnu-library/4.2/tidyr                &  TRUE & FALSE & 2022-02-01 & CRAN (R 4.2.1) & NA & /home/kynon/R/x86\\_64-pc-linux-gnu-library/4.2\\\\\n",
       "\ttidyselect & tidyselect           & 1.1.2    & 1.1.2    & /home/kynon/R/x86\\_64-pc-linux-gnu-library/4.2/tidyselect           & /home/kynon/R/x86\\_64-pc-linux-gnu-library/4.2/tidyselect           & FALSE & FALSE & 2022-02-21 & CRAN (R 4.2.1) & NA & /home/kynon/R/x86\\_64-pc-linux-gnu-library/4.2\\\\\n",
       "\ttidyverse & tidyverse            & 1.3.2    & 1.3.2    & /home/kynon/R/x86\\_64-pc-linux-gnu-library/4.2/tidyverse            & /home/kynon/R/x86\\_64-pc-linux-gnu-library/4.2/tidyverse            &  TRUE & FALSE & 2022-07-18 & CRAN (R 4.2.1) & NA & /home/kynon/R/x86\\_64-pc-linux-gnu-library/4.2\\\\\n",
       "\ttzdb & tzdb                 & 0.3.0    & 0.3.0    & /home/kynon/R/x86\\_64-pc-linux-gnu-library/4.2/tzdb                 & /home/kynon/R/x86\\_64-pc-linux-gnu-library/4.2/tzdb                 & FALSE & FALSE & 2022-03-28 & CRAN (R 4.2.1) & NA & /home/kynon/R/x86\\_64-pc-linux-gnu-library/4.2\\\\\n",
       "\tutf8 & utf8                 & 1.2.2    & 1.2.2    & /home/kynon/R/x86\\_64-pc-linux-gnu-library/4.2/utf8                 & /home/kynon/R/x86\\_64-pc-linux-gnu-library/4.2/utf8                 & FALSE & FALSE & 2021-07-24 & CRAN (R 4.2.1) & NA & /home/kynon/R/x86\\_64-pc-linux-gnu-library/4.2\\\\\n",
       "\tuuid & uuid                 & 1.1.0    & 1.1-0    & /home/kynon/R/x86\\_64-pc-linux-gnu-library/4.2/uuid                 & /home/kynon/R/x86\\_64-pc-linux-gnu-library/4.2/uuid                 & FALSE & FALSE & 2022-04-19 & CRAN (R 4.2.1) & NA & /home/kynon/R/x86\\_64-pc-linux-gnu-library/4.2\\\\\n",
       "\tvctrs & vctrs                & 0.4.1    & 0.4.1    & /home/kynon/R/x86\\_64-pc-linux-gnu-library/4.2/vctrs                & /home/kynon/R/x86\\_64-pc-linux-gnu-library/4.2/vctrs                & FALSE & FALSE & 2022-04-13 & CRAN (R 4.2.1) & NA & /home/kynon/R/x86\\_64-pc-linux-gnu-library/4.2\\\\\n",
       "\twithr & withr                & 2.5.0    & 2.5.0    & /home/kynon/R/x86\\_64-pc-linux-gnu-library/4.2/withr                & /home/kynon/R/x86\\_64-pc-linux-gnu-library/4.2/withr                & FALSE & FALSE & 2022-03-03 & CRAN (R 4.2.0) & NA & /home/kynon/R/x86\\_64-pc-linux-gnu-library/4.2\\\\\n",
       "\txml2 & xml2                 & 1.3.3    & 1.3.3    & /home/kynon/R/x86\\_64-pc-linux-gnu-library/4.2/xml2                 & /home/kynon/R/x86\\_64-pc-linux-gnu-library/4.2/xml2                 & FALSE & FALSE & 2021-11-30 & CRAN (R 4.2.1) & NA & /home/kynon/R/x86\\_64-pc-linux-gnu-library/4.2\\\\\n",
       "\tXVector & XVector              & 0.36.0   & 0.36.0   & /home/kynon/R/x86\\_64-pc-linux-gnu-library/4.2/XVector              & /home/kynon/R/x86\\_64-pc-linux-gnu-library/4.2/XVector              & FALSE & FALSE & 2022-04-26 & Bioconductor   & NA & /home/kynon/R/x86\\_64-pc-linux-gnu-library/4.2\\\\\n",
       "\tzlibbioc & zlibbioc             & 1.42.0   & 1.42.0   & /home/kynon/R/x86\\_64-pc-linux-gnu-library/4.2/zlibbioc             & /home/kynon/R/x86\\_64-pc-linux-gnu-library/4.2/zlibbioc             & FALSE & FALSE & 2022-04-26 & Bioconductor   & NA & /home/kynon/R/x86\\_64-pc-linux-gnu-library/4.2\\\\\n",
       "\\end{tabular}\n",
       "\n",
       "\\end{description}\n"
      ],
      "text/markdown": [
       "$platform\n",
       ":   $version\n",
       ":   'R version 4.2.1 (2022-06-23)'\n",
       "$os\n",
       ":   'Arch Linux'\n",
       "$system\n",
       ":   'x86_64, linux-gnu'\n",
       "$ui\n",
       ":   'X11'\n",
       "$language\n",
       ":   '(EN)'\n",
       "$collate\n",
       ":   'en_US.UTF-8'\n",
       "$ctype\n",
       ":   'en_US.UTF-8'\n",
       "$tz\n",
       ":   'America/New_York'\n",
       "$date\n",
       ":   '2022-08-26'\n",
       "$pandoc\n",
       ":   '2.18 @ /usr/bin/pandoc'\n",
       "\n",
       "\n",
       "\n",
       "$packages\n",
       ":   \n",
       "A packages_info: 93 × 11\n",
       "\n",
       "| <!--/--> | package &lt;chr&gt; | ondiskversion &lt;chr&gt; | loadedversion &lt;chr&gt; | path &lt;chr&gt; | loadedpath &lt;chr&gt; | attached &lt;lgl&gt; | is_base &lt;lgl&gt; | date &lt;chr&gt; | source &lt;chr&gt; | md5ok &lt;lgl&gt; | library &lt;fct&gt; |\n",
       "|---|---|---|---|---|---|---|---|---|---|---|---|\n",
       "| abind | abind        | 1.4.5  | 1.4-5  | /home/kynon/R/x86_64-pc-linux-gnu-library/4.2/abind        | /home/kynon/R/x86_64-pc-linux-gnu-library/4.2/abind        | FALSE | FALSE | 2016-07-21 | CRAN (R 4.2.1) | NA | /home/kynon/R/x86_64-pc-linux-gnu-library/4.2 |\n",
       "| assertthat | assertthat   | 0.2.1  | 0.2.1  | /home/kynon/R/x86_64-pc-linux-gnu-library/4.2/assertthat   | /home/kynon/R/x86_64-pc-linux-gnu-library/4.2/assertthat   | FALSE | FALSE | 2019-03-21 | CRAN (R 4.2.1) | NA | /home/kynon/R/x86_64-pc-linux-gnu-library/4.2 |\n",
       "| backports | backports    | 1.4.1  | 1.4.1  | /home/kynon/R/x86_64-pc-linux-gnu-library/4.2/backports    | /home/kynon/R/x86_64-pc-linux-gnu-library/4.2/backports    | FALSE | FALSE | 2021-12-13 | CRAN (R 4.2.1) | NA | /home/kynon/R/x86_64-pc-linux-gnu-library/4.2 |\n",
       "| base64enc | base64enc    | 0.1.3  | 0.1-3  | /home/kynon/R/x86_64-pc-linux-gnu-library/4.2/base64enc    | /home/kynon/R/x86_64-pc-linux-gnu-library/4.2/base64enc    | FALSE | FALSE | 2015-07-28 | CRAN (R 4.2.0) | NA | /home/kynon/R/x86_64-pc-linux-gnu-library/4.2 |\n",
       "| Biobase | Biobase      | 2.56.0 | 2.56.0 | /home/kynon/R/x86_64-pc-linux-gnu-library/4.2/Biobase      | /home/kynon/R/x86_64-pc-linux-gnu-library/4.2/Biobase      |  TRUE | FALSE | 2022-04-26 | Bioconductor   | NA | /home/kynon/R/x86_64-pc-linux-gnu-library/4.2 |\n",
       "| BiocGenerics | BiocGenerics | 0.42.0 | 0.42.0 | /home/kynon/R/x86_64-pc-linux-gnu-library/4.2/BiocGenerics | /home/kynon/R/x86_64-pc-linux-gnu-library/4.2/BiocGenerics |  TRUE | FALSE | 2022-04-26 | Bioconductor   | NA | /home/kynon/R/x86_64-pc-linux-gnu-library/4.2 |\n",
       "| bitops | bitops       | 1.0.7  | 1.0-7  | /home/kynon/R/x86_64-pc-linux-gnu-library/4.2/bitops       | /home/kynon/R/x86_64-pc-linux-gnu-library/4.2/bitops       | FALSE | FALSE | 2021-04-24 | CRAN (R 4.2.1) | NA | /home/kynon/R/x86_64-pc-linux-gnu-library/4.2 |\n",
       "| broom | broom        | 1.0.0  | 1.0.0  | /home/kynon/R/x86_64-pc-linux-gnu-library/4.2/broom        | /home/kynon/R/x86_64-pc-linux-gnu-library/4.2/broom        | FALSE | FALSE | 2022-07-01 | CRAN (R 4.2.1) | NA | /home/kynon/R/x86_64-pc-linux-gnu-library/4.2 |\n",
       "| car | car          | 3.1.0  | 3.1-0  | /home/kynon/R/x86_64-pc-linux-gnu-library/4.2/car          | /home/kynon/R/x86_64-pc-linux-gnu-library/4.2/car          | FALSE | FALSE | 2022-06-15 | CRAN (R 4.2.1) | NA | /home/kynon/R/x86_64-pc-linux-gnu-library/4.2 |\n",
       "| carData | carData      | 3.0.5  | 3.0-5  | /home/kynon/R/x86_64-pc-linux-gnu-library/4.2/carData      | /home/kynon/R/x86_64-pc-linux-gnu-library/4.2/carData      | FALSE | FALSE | 2022-01-06 | CRAN (R 4.2.1) | NA | /home/kynon/R/x86_64-pc-linux-gnu-library/4.2 |\n",
       "| cellranger | cellranger   | 1.1.0  | 1.1.0  | /home/kynon/R/x86_64-pc-linux-gnu-library/4.2/cellranger   | /home/kynon/R/x86_64-pc-linux-gnu-library/4.2/cellranger   | FALSE | FALSE | 2016-07-27 | CRAN (R 4.2.1) | NA | /home/kynon/R/x86_64-pc-linux-gnu-library/4.2 |\n",
       "| cli | cli          | 3.3.0  | 3.3.0  | /home/kynon/R/x86_64-pc-linux-gnu-library/4.2/cli          | /home/kynon/R/x86_64-pc-linux-gnu-library/4.2/cli          | FALSE | FALSE | 2022-04-25 | CRAN (R 4.2.0) | NA | /home/kynon/R/x86_64-pc-linux-gnu-library/4.2 |\n",
       "| colorspace | colorspace   | 2.0.3  | 2.0-3  | /home/kynon/R/x86_64-pc-linux-gnu-library/4.2/colorspace   | /home/kynon/R/x86_64-pc-linux-gnu-library/4.2/colorspace   | FALSE | FALSE | 2022-02-21 | CRAN (R 4.2.1) | NA | /home/kynon/R/x86_64-pc-linux-gnu-library/4.2 |\n",
       "| cowplot | cowplot      | 1.1.1  | 1.1.1  | /home/kynon/R/x86_64-pc-linux-gnu-library/4.2/cowplot      | /home/kynon/R/x86_64-pc-linux-gnu-library/4.2/cowplot      | FALSE | FALSE | 2020-12-30 | CRAN (R 4.2.1) | NA | /home/kynon/R/x86_64-pc-linux-gnu-library/4.2 |\n",
       "| crayon | crayon       | 1.5.1  | 1.5.1  | /home/kynon/R/x86_64-pc-linux-gnu-library/4.2/crayon       | /home/kynon/R/x86_64-pc-linux-gnu-library/4.2/crayon       | FALSE | FALSE | 2022-03-26 | CRAN (R 4.2.0) | NA | /home/kynon/R/x86_64-pc-linux-gnu-library/4.2 |\n",
       "| data.table | data.table   | 1.14.2 | 1.14.2 | /home/kynon/R/x86_64-pc-linux-gnu-library/4.2/data.table   | /home/kynon/R/x86_64-pc-linux-gnu-library/4.2/data.table   | FALSE | FALSE | 2021-09-27 | CRAN (R 4.2.1) | NA | /home/kynon/R/x86_64-pc-linux-gnu-library/4.2 |\n",
       "| DBI | DBI          | 1.1.3  | 1.1.3  | /home/kynon/R/x86_64-pc-linux-gnu-library/4.2/DBI          | /home/kynon/R/x86_64-pc-linux-gnu-library/4.2/DBI          | FALSE | FALSE | 2022-06-18 | CRAN (R 4.2.1) | NA | /home/kynon/R/x86_64-pc-linux-gnu-library/4.2 |\n",
       "| dbplyr | dbplyr       | 2.2.1  | 2.2.1  | /home/kynon/R/x86_64-pc-linux-gnu-library/4.2/dbplyr       | /home/kynon/R/x86_64-pc-linux-gnu-library/4.2/dbplyr       | FALSE | FALSE | 2022-06-27 | CRAN (R 4.2.1) | NA | /home/kynon/R/x86_64-pc-linux-gnu-library/4.2 |\n",
       "| DelayedArray | DelayedArray | 0.22.0 | 0.22.0 | /home/kynon/R/x86_64-pc-linux-gnu-library/4.2/DelayedArray | /home/kynon/R/x86_64-pc-linux-gnu-library/4.2/DelayedArray | FALSE | FALSE | 2022-04-26 | Bioconductor   | NA | /home/kynon/R/x86_64-pc-linux-gnu-library/4.2 |\n",
       "| digest | digest       | 0.6.29 | 0.6.29 | /home/kynon/R/x86_64-pc-linux-gnu-library/4.2/digest       | /home/kynon/R/x86_64-pc-linux-gnu-library/4.2/digest       | FALSE | FALSE | 2021-12-01 | CRAN (R 4.2.0) | NA | /home/kynon/R/x86_64-pc-linux-gnu-library/4.2 |\n",
       "| dplyr | dplyr        | 1.0.9  | 1.0.9  | /home/kynon/R/x86_64-pc-linux-gnu-library/4.2/dplyr        | /home/kynon/R/x86_64-pc-linux-gnu-library/4.2/dplyr        |  TRUE | FALSE | 2022-04-28 | CRAN (R 4.2.1) | NA | /home/kynon/R/x86_64-pc-linux-gnu-library/4.2 |\n",
       "| ellipsis | ellipsis     | 0.3.2  | 0.3.2  | /home/kynon/R/x86_64-pc-linux-gnu-library/4.2/ellipsis     | /home/kynon/R/x86_64-pc-linux-gnu-library/4.2/ellipsis     | FALSE | FALSE | 2021-04-29 | CRAN (R 4.2.1) | NA | /home/kynon/R/x86_64-pc-linux-gnu-library/4.2 |\n",
       "| evaluate | evaluate     | 0.16   | 0.16   | /home/kynon/R/x86_64-pc-linux-gnu-library/4.2/evaluate     | /home/kynon/R/x86_64-pc-linux-gnu-library/4.2/evaluate     | FALSE | FALSE | 2022-08-09 | CRAN (R 4.2.1) | NA | /home/kynon/R/x86_64-pc-linux-gnu-library/4.2 |\n",
       "| fansi | fansi        | 1.0.3  | 1.0.3  | /home/kynon/R/x86_64-pc-linux-gnu-library/4.2/fansi        | /home/kynon/R/x86_64-pc-linux-gnu-library/4.2/fansi        | FALSE | FALSE | 2022-03-24 | CRAN (R 4.2.1) | NA | /home/kynon/R/x86_64-pc-linux-gnu-library/4.2 |\n",
       "| farver | farver       | 2.1.1  | 2.1.1  | /home/kynon/R/x86_64-pc-linux-gnu-library/4.2/farver       | /home/kynon/R/x86_64-pc-linux-gnu-library/4.2/farver       | FALSE | FALSE | 2022-07-06 | CRAN (R 4.2.1) | NA | /home/kynon/R/x86_64-pc-linux-gnu-library/4.2 |\n",
       "| fastmap | fastmap      | 1.1.0  | 1.1.0  | /home/kynon/R/x86_64-pc-linux-gnu-library/4.2/fastmap      | /home/kynon/R/x86_64-pc-linux-gnu-library/4.2/fastmap      | FALSE | FALSE | 2021-01-25 | CRAN (R 4.2.0) | NA | /home/kynon/R/x86_64-pc-linux-gnu-library/4.2 |\n",
       "| forcats | forcats      | 0.5.2  | 0.5.2  | /home/kynon/R/x86_64-pc-linux-gnu-library/4.2/forcats      | /home/kynon/R/x86_64-pc-linux-gnu-library/4.2/forcats      |  TRUE | FALSE | 2022-08-19 | CRAN (R 4.2.1) | NA | /home/kynon/R/x86_64-pc-linux-gnu-library/4.2 |\n",
       "| fs | fs           | 1.5.2  | 1.5.2  | /home/kynon/R/x86_64-pc-linux-gnu-library/4.2/fs           | /home/kynon/R/x86_64-pc-linux-gnu-library/4.2/fs           | FALSE | FALSE | 2021-12-08 | CRAN (R 4.2.0) | NA | /home/kynon/R/x86_64-pc-linux-gnu-library/4.2 |\n",
       "| gargle | gargle       | 1.2.0  | 1.2.0  | /home/kynon/R/x86_64-pc-linux-gnu-library/4.2/gargle       | /home/kynon/R/x86_64-pc-linux-gnu-library/4.2/gargle       | FALSE | FALSE | 2021-07-02 | CRAN (R 4.2.1) | NA | /home/kynon/R/x86_64-pc-linux-gnu-library/4.2 |\n",
       "| generics | generics     | 0.1.3  | 0.1.3  | /home/kynon/R/x86_64-pc-linux-gnu-library/4.2/generics     | /home/kynon/R/x86_64-pc-linux-gnu-library/4.2/generics     | FALSE | FALSE | 2022-07-05 | CRAN (R 4.2.1) | NA | /home/kynon/R/x86_64-pc-linux-gnu-library/4.2 |\n",
       "| ⋮ | ⋮ | ⋮ | ⋮ | ⋮ | ⋮ | ⋮ | ⋮ | ⋮ | ⋮ | ⋮ | ⋮ |\n",
       "| purrr | purrr                | 0.3.4    | 0.3.4    | /home/kynon/R/x86_64-pc-linux-gnu-library/4.2/purrr                | /home/kynon/R/x86_64-pc-linux-gnu-library/4.2/purrr                |  TRUE | FALSE | 2020-04-17 | CRAN (R 4.2.0) | NA | /home/kynon/R/x86_64-pc-linux-gnu-library/4.2 |\n",
       "| R6 | R6                   | 2.5.1    | 2.5.1    | /home/kynon/R/x86_64-pc-linux-gnu-library/4.2/R6                   | /home/kynon/R/x86_64-pc-linux-gnu-library/4.2/R6                   | FALSE | FALSE | 2021-08-19 | CRAN (R 4.2.0) | NA | /home/kynon/R/x86_64-pc-linux-gnu-library/4.2 |\n",
       "| RCurl | RCurl                | 1.98.1.8 | 1.98-1.8 | /home/kynon/R/x86_64-pc-linux-gnu-library/4.2/RCurl                | /home/kynon/R/x86_64-pc-linux-gnu-library/4.2/RCurl                | FALSE | FALSE | 2022-07-30 | CRAN (R 4.2.1) | NA | /home/kynon/R/x86_64-pc-linux-gnu-library/4.2 |\n",
       "| readr | readr                | 2.1.2    | 2.1.2    | /home/kynon/R/x86_64-pc-linux-gnu-library/4.2/readr                | /home/kynon/R/x86_64-pc-linux-gnu-library/4.2/readr                |  TRUE | FALSE | 2022-01-30 | CRAN (R 4.2.1) | NA | /home/kynon/R/x86_64-pc-linux-gnu-library/4.2 |\n",
       "| readxl | readxl               | 1.4.1    | 1.4.1    | /home/kynon/R/x86_64-pc-linux-gnu-library/4.2/readxl               | /home/kynon/R/x86_64-pc-linux-gnu-library/4.2/readxl               | FALSE | FALSE | 2022-08-17 | CRAN (R 4.2.1) | NA | /home/kynon/R/x86_64-pc-linux-gnu-library/4.2 |\n",
       "| repr | repr                 | 1.1.4    | 1.1.4    | /home/kynon/R/x86_64-pc-linux-gnu-library/4.2/repr                 | /home/kynon/R/x86_64-pc-linux-gnu-library/4.2/repr                 | FALSE | FALSE | 2022-01-04 | CRAN (R 4.2.1) | NA | /home/kynon/R/x86_64-pc-linux-gnu-library/4.2 |\n",
       "| reprex | reprex               | 2.0.2    | 2.0.2    | /home/kynon/R/x86_64-pc-linux-gnu-library/4.2/reprex               | /home/kynon/R/x86_64-pc-linux-gnu-library/4.2/reprex               | FALSE | FALSE | 2022-08-17 | CRAN (R 4.2.1) | NA | /home/kynon/R/x86_64-pc-linux-gnu-library/4.2 |\n",
       "| rlang | rlang                | 1.0.4    | 1.0.4    | /home/kynon/R/x86_64-pc-linux-gnu-library/4.2/rlang                | /home/kynon/R/x86_64-pc-linux-gnu-library/4.2/rlang                | FALSE | FALSE | 2022-07-12 | CRAN (R 4.2.1) | NA | /home/kynon/R/x86_64-pc-linux-gnu-library/4.2 |\n",
       "| rstatix | rstatix              | 0.7.0    | 0.7.0    | /home/kynon/R/x86_64-pc-linux-gnu-library/4.2/rstatix              | /home/kynon/R/x86_64-pc-linux-gnu-library/4.2/rstatix              | FALSE | FALSE | 2021-02-13 | CRAN (R 4.2.1) | NA | /home/kynon/R/x86_64-pc-linux-gnu-library/4.2 |\n",
       "| rvest | rvest                | 1.0.3    | 1.0.3    | /home/kynon/R/x86_64-pc-linux-gnu-library/4.2/rvest                | /home/kynon/R/x86_64-pc-linux-gnu-library/4.2/rvest                | FALSE | FALSE | 2022-08-19 | CRAN (R 4.2.1) | NA | /home/kynon/R/x86_64-pc-linux-gnu-library/4.2 |\n",
       "| S4Vectors | S4Vectors            | 0.34.0   | 0.34.0   | /home/kynon/R/x86_64-pc-linux-gnu-library/4.2/S4Vectors            | /home/kynon/R/x86_64-pc-linux-gnu-library/4.2/S4Vectors            |  TRUE | FALSE | 2022-04-26 | Bioconductor   | NA | /home/kynon/R/x86_64-pc-linux-gnu-library/4.2 |\n",
       "| scales | scales               | 1.2.1    | 1.2.1    | /home/kynon/R/x86_64-pc-linux-gnu-library/4.2/scales               | /home/kynon/R/x86_64-pc-linux-gnu-library/4.2/scales               | FALSE | FALSE | 2022-08-20 | CRAN (R 4.2.1) | NA | /home/kynon/R/x86_64-pc-linux-gnu-library/4.2 |\n",
       "| sessioninfo | sessioninfo          | 1.2.2    | 1.2.2    | /home/kynon/R/x86_64-pc-linux-gnu-library/4.2/sessioninfo          | /home/kynon/R/x86_64-pc-linux-gnu-library/4.2/sessioninfo          | FALSE | FALSE | 2021-12-06 | CRAN (R 4.2.1) | NA | /home/kynon/R/x86_64-pc-linux-gnu-library/4.2 |\n",
       "| stringi | stringi              | 1.7.8    | 1.7.8    | /home/kynon/R/x86_64-pc-linux-gnu-library/4.2/stringi              | /home/kynon/R/x86_64-pc-linux-gnu-library/4.2/stringi              | FALSE | FALSE | 2022-07-11 | CRAN (R 4.2.1) | NA | /home/kynon/R/x86_64-pc-linux-gnu-library/4.2 |\n",
       "| stringr | stringr              | 1.4.1    | 1.4.1    | /home/kynon/R/x86_64-pc-linux-gnu-library/4.2/stringr              | /home/kynon/R/x86_64-pc-linux-gnu-library/4.2/stringr              |  TRUE | FALSE | 2022-08-20 | CRAN (R 4.2.1) | NA | /home/kynon/R/x86_64-pc-linux-gnu-library/4.2 |\n",
       "| SummarizedExperiment | SummarizedExperiment | 1.26.1   | 1.26.1   | /home/kynon/R/x86_64-pc-linux-gnu-library/4.2/SummarizedExperiment | /home/kynon/R/x86_64-pc-linux-gnu-library/4.2/SummarizedExperiment |  TRUE | FALSE | 2022-04-29 | Bioconductor   | NA | /home/kynon/R/x86_64-pc-linux-gnu-library/4.2 |\n",
       "| svglite | svglite              | 2.1.0    | 2.1.0    | /home/kynon/R/x86_64-pc-linux-gnu-library/4.2/svglite              | /home/kynon/R/x86_64-pc-linux-gnu-library/4.2/svglite              | FALSE | FALSE | 2022-02-03 | CRAN (R 4.2.1) | NA | /home/kynon/R/x86_64-pc-linux-gnu-library/4.2 |\n",
       "| systemfonts | systemfonts          | 1.0.4    | 1.0.4    | /home/kynon/R/x86_64-pc-linux-gnu-library/4.2/systemfonts          | /home/kynon/R/x86_64-pc-linux-gnu-library/4.2/systemfonts          | FALSE | FALSE | 2022-02-11 | CRAN (R 4.2.1) | NA | /home/kynon/R/x86_64-pc-linux-gnu-library/4.2 |\n",
       "| tibble | tibble               | 3.1.8    | 3.1.8    | /home/kynon/R/x86_64-pc-linux-gnu-library/4.2/tibble               | /home/kynon/R/x86_64-pc-linux-gnu-library/4.2/tibble               |  TRUE | FALSE | 2022-07-22 | CRAN (R 4.2.1) | NA | /home/kynon/R/x86_64-pc-linux-gnu-library/4.2 |\n",
       "| tidyr | tidyr                | 1.2.0    | 1.2.0    | /home/kynon/R/x86_64-pc-linux-gnu-library/4.2/tidyr                | /home/kynon/R/x86_64-pc-linux-gnu-library/4.2/tidyr                |  TRUE | FALSE | 2022-02-01 | CRAN (R 4.2.1) | NA | /home/kynon/R/x86_64-pc-linux-gnu-library/4.2 |\n",
       "| tidyselect | tidyselect           | 1.1.2    | 1.1.2    | /home/kynon/R/x86_64-pc-linux-gnu-library/4.2/tidyselect           | /home/kynon/R/x86_64-pc-linux-gnu-library/4.2/tidyselect           | FALSE | FALSE | 2022-02-21 | CRAN (R 4.2.1) | NA | /home/kynon/R/x86_64-pc-linux-gnu-library/4.2 |\n",
       "| tidyverse | tidyverse            | 1.3.2    | 1.3.2    | /home/kynon/R/x86_64-pc-linux-gnu-library/4.2/tidyverse            | /home/kynon/R/x86_64-pc-linux-gnu-library/4.2/tidyverse            |  TRUE | FALSE | 2022-07-18 | CRAN (R 4.2.1) | NA | /home/kynon/R/x86_64-pc-linux-gnu-library/4.2 |\n",
       "| tzdb | tzdb                 | 0.3.0    | 0.3.0    | /home/kynon/R/x86_64-pc-linux-gnu-library/4.2/tzdb                 | /home/kynon/R/x86_64-pc-linux-gnu-library/4.2/tzdb                 | FALSE | FALSE | 2022-03-28 | CRAN (R 4.2.1) | NA | /home/kynon/R/x86_64-pc-linux-gnu-library/4.2 |\n",
       "| utf8 | utf8                 | 1.2.2    | 1.2.2    | /home/kynon/R/x86_64-pc-linux-gnu-library/4.2/utf8                 | /home/kynon/R/x86_64-pc-linux-gnu-library/4.2/utf8                 | FALSE | FALSE | 2021-07-24 | CRAN (R 4.2.1) | NA | /home/kynon/R/x86_64-pc-linux-gnu-library/4.2 |\n",
       "| uuid | uuid                 | 1.1.0    | 1.1-0    | /home/kynon/R/x86_64-pc-linux-gnu-library/4.2/uuid                 | /home/kynon/R/x86_64-pc-linux-gnu-library/4.2/uuid                 | FALSE | FALSE | 2022-04-19 | CRAN (R 4.2.1) | NA | /home/kynon/R/x86_64-pc-linux-gnu-library/4.2 |\n",
       "| vctrs | vctrs                | 0.4.1    | 0.4.1    | /home/kynon/R/x86_64-pc-linux-gnu-library/4.2/vctrs                | /home/kynon/R/x86_64-pc-linux-gnu-library/4.2/vctrs                | FALSE | FALSE | 2022-04-13 | CRAN (R 4.2.1) | NA | /home/kynon/R/x86_64-pc-linux-gnu-library/4.2 |\n",
       "| withr | withr                | 2.5.0    | 2.5.0    | /home/kynon/R/x86_64-pc-linux-gnu-library/4.2/withr                | /home/kynon/R/x86_64-pc-linux-gnu-library/4.2/withr                | FALSE | FALSE | 2022-03-03 | CRAN (R 4.2.0) | NA | /home/kynon/R/x86_64-pc-linux-gnu-library/4.2 |\n",
       "| xml2 | xml2                 | 1.3.3    | 1.3.3    | /home/kynon/R/x86_64-pc-linux-gnu-library/4.2/xml2                 | /home/kynon/R/x86_64-pc-linux-gnu-library/4.2/xml2                 | FALSE | FALSE | 2021-11-30 | CRAN (R 4.2.1) | NA | /home/kynon/R/x86_64-pc-linux-gnu-library/4.2 |\n",
       "| XVector | XVector              | 0.36.0   | 0.36.0   | /home/kynon/R/x86_64-pc-linux-gnu-library/4.2/XVector              | /home/kynon/R/x86_64-pc-linux-gnu-library/4.2/XVector              | FALSE | FALSE | 2022-04-26 | Bioconductor   | NA | /home/kynon/R/x86_64-pc-linux-gnu-library/4.2 |\n",
       "| zlibbioc | zlibbioc             | 1.42.0   | 1.42.0   | /home/kynon/R/x86_64-pc-linux-gnu-library/4.2/zlibbioc             | /home/kynon/R/x86_64-pc-linux-gnu-library/4.2/zlibbioc             | FALSE | FALSE | 2022-04-26 | Bioconductor   | NA | /home/kynon/R/x86_64-pc-linux-gnu-library/4.2 |\n",
       "\n",
       "\n",
       "\n",
       "\n"
      ],
      "text/plain": [
       "\u001b[1m\u001b[36m─ Session info ─────────────────────────────────────────────────────────────────────────────────────────────────────────────────────────────────────────────────────────────────────────────────────\u001b[39m\u001b[22m\n",
       " \u001b[3m\u001b[90msetting \u001b[39m\u001b[23m \u001b[3m\u001b[90mvalue\u001b[39m\u001b[23m\n",
       " version  R version 4.2.1 (2022-06-23)\n",
       " os       Arch Linux\n",
       " system   x86_64, linux-gnu\n",
       " ui       X11\n",
       " language (EN)\n",
       " collate  en_US.UTF-8\n",
       " ctype    en_US.UTF-8\n",
       " tz       America/New_York\n",
       " date     2022-08-26\n",
       " pandoc   2.18 @ /usr/bin/pandoc\n",
       "\n",
       "\u001b[1m\u001b[36m─ Packages ─────────────────────────────────────────────────────────────────────────────────────────────────────────────────────────────────────────────────────────────────────────────────────────\u001b[39m\u001b[22m\n",
       " \u001b[3m\u001b[90mpackage             \u001b[39m\u001b[23m \u001b[3m\u001b[90m*\u001b[39m\u001b[23m \u001b[3m\u001b[90mversion   \u001b[39m\u001b[23m \u001b[3m\u001b[90mdate (UTC)\u001b[39m\u001b[23m \u001b[3m\u001b[90mlib\u001b[39m\u001b[23m \u001b[3m\u001b[90msource\u001b[39m\u001b[23m\n",
       " abind                  1.4-5      \u001b[90m2016-07-21\u001b[39m \u001b[90m[1]\u001b[39m \u001b[90mCRAN (R 4.2.1)\u001b[39m\n",
       " assertthat             0.2.1      \u001b[90m2019-03-21\u001b[39m \u001b[90m[1]\u001b[39m \u001b[90mCRAN (R 4.2.1)\u001b[39m\n",
       " backports              1.4.1      \u001b[90m2021-12-13\u001b[39m \u001b[90m[1]\u001b[39m \u001b[90mCRAN (R 4.2.1)\u001b[39m\n",
       " base64enc              0.1-3      \u001b[90m2015-07-28\u001b[39m \u001b[90m[1]\u001b[39m \u001b[90mCRAN (R 4.2.0)\u001b[39m\n",
       " Biobase              * 2.56.0     \u001b[90m2022-04-26\u001b[39m \u001b[90m[1]\u001b[39m \u001b[90mBioconductor\u001b[39m\n",
       " BiocGenerics         * 0.42.0     \u001b[90m2022-04-26\u001b[39m \u001b[90m[1]\u001b[39m \u001b[90mBioconductor\u001b[39m\n",
       " bitops                 1.0-7      \u001b[90m2021-04-24\u001b[39m \u001b[90m[1]\u001b[39m \u001b[90mCRAN (R 4.2.1)\u001b[39m\n",
       " broom                  1.0.0      \u001b[90m2022-07-01\u001b[39m \u001b[90m[1]\u001b[39m \u001b[90mCRAN (R 4.2.1)\u001b[39m\n",
       " car                    3.1-0      \u001b[90m2022-06-15\u001b[39m \u001b[90m[1]\u001b[39m \u001b[90mCRAN (R 4.2.1)\u001b[39m\n",
       " carData                3.0-5      \u001b[90m2022-01-06\u001b[39m \u001b[90m[1]\u001b[39m \u001b[90mCRAN (R 4.2.1)\u001b[39m\n",
       " cellranger             1.1.0      \u001b[90m2016-07-27\u001b[39m \u001b[90m[1]\u001b[39m \u001b[90mCRAN (R 4.2.1)\u001b[39m\n",
       " cli                    3.3.0      \u001b[90m2022-04-25\u001b[39m \u001b[90m[1]\u001b[39m \u001b[90mCRAN (R 4.2.0)\u001b[39m\n",
       " colorspace             2.0-3      \u001b[90m2022-02-21\u001b[39m \u001b[90m[1]\u001b[39m \u001b[90mCRAN (R 4.2.1)\u001b[39m\n",
       " cowplot                1.1.1      \u001b[90m2020-12-30\u001b[39m \u001b[90m[1]\u001b[39m \u001b[90mCRAN (R 4.2.1)\u001b[39m\n",
       " crayon                 1.5.1      \u001b[90m2022-03-26\u001b[39m \u001b[90m[1]\u001b[39m \u001b[90mCRAN (R 4.2.0)\u001b[39m\n",
       " data.table             1.14.2     \u001b[90m2021-09-27\u001b[39m \u001b[90m[1]\u001b[39m \u001b[90mCRAN (R 4.2.1)\u001b[39m\n",
       " DBI                    1.1.3      \u001b[90m2022-06-18\u001b[39m \u001b[90m[1]\u001b[39m \u001b[90mCRAN (R 4.2.1)\u001b[39m\n",
       " dbplyr                 2.2.1      \u001b[90m2022-06-27\u001b[39m \u001b[90m[1]\u001b[39m \u001b[90mCRAN (R 4.2.1)\u001b[39m\n",
       " DelayedArray           0.22.0     \u001b[90m2022-04-26\u001b[39m \u001b[90m[1]\u001b[39m \u001b[90mBioconductor\u001b[39m\n",
       " digest                 0.6.29     \u001b[90m2021-12-01\u001b[39m \u001b[90m[1]\u001b[39m \u001b[90mCRAN (R 4.2.0)\u001b[39m\n",
       " dplyr                * 1.0.9      \u001b[90m2022-04-28\u001b[39m \u001b[90m[1]\u001b[39m \u001b[90mCRAN (R 4.2.1)\u001b[39m\n",
       " ellipsis               0.3.2      \u001b[90m2021-04-29\u001b[39m \u001b[90m[1]\u001b[39m \u001b[90mCRAN (R 4.2.1)\u001b[39m\n",
       " evaluate               0.16       \u001b[90m2022-08-09\u001b[39m \u001b[90m[1]\u001b[39m \u001b[90mCRAN (R 4.2.1)\u001b[39m\n",
       " fansi                  1.0.3      \u001b[90m2022-03-24\u001b[39m \u001b[90m[1]\u001b[39m \u001b[90mCRAN (R 4.2.1)\u001b[39m\n",
       " farver                 2.1.1      \u001b[90m2022-07-06\u001b[39m \u001b[90m[1]\u001b[39m \u001b[90mCRAN (R 4.2.1)\u001b[39m\n",
       " fastmap                1.1.0      \u001b[90m2021-01-25\u001b[39m \u001b[90m[1]\u001b[39m \u001b[90mCRAN (R 4.2.0)\u001b[39m\n",
       " forcats              * 0.5.2      \u001b[90m2022-08-19\u001b[39m \u001b[90m[1]\u001b[39m \u001b[90mCRAN (R 4.2.1)\u001b[39m\n",
       " fs                     1.5.2      \u001b[90m2021-12-08\u001b[39m \u001b[90m[1]\u001b[39m \u001b[90mCRAN (R 4.2.0)\u001b[39m\n",
       " gargle                 1.2.0      \u001b[90m2021-07-02\u001b[39m \u001b[90m[1]\u001b[39m \u001b[90mCRAN (R 4.2.1)\u001b[39m\n",
       " generics               0.1.3      \u001b[90m2022-07-05\u001b[39m \u001b[90m[1]\u001b[39m \u001b[90mCRAN (R 4.2.1)\u001b[39m\n",
       " GenomeInfoDb         * 1.32.3     \u001b[90m2022-08-09\u001b[39m \u001b[90m[1]\u001b[39m \u001b[90mBioconductor\u001b[39m\n",
       " GenomeInfoDbData       1.2.8      \u001b[90m2022-08-26\u001b[39m \u001b[90m[1]\u001b[39m \u001b[90mBioconductor\u001b[39m\n",
       " GenomicRanges        * 1.48.0     \u001b[90m2022-04-26\u001b[39m \u001b[90m[1]\u001b[39m \u001b[90mBioconductor\u001b[39m\n",
       " ggplot2              * 3.3.6      \u001b[90m2022-05-03\u001b[39m \u001b[90m[1]\u001b[39m \u001b[90mCRAN (R 4.2.1)\u001b[39m\n",
       " ggpubr               * 0.4.0      \u001b[90m2020-06-27\u001b[39m \u001b[90m[1]\u001b[39m \u001b[90mCRAN (R 4.2.1)\u001b[39m\n",
       " ggsci                  2.9        \u001b[90m2018-05-14\u001b[39m \u001b[90m[1]\u001b[39m \u001b[90mCRAN (R 4.2.1)\u001b[39m\n",
       " ggsignif               0.6.3      \u001b[90m2021-09-09\u001b[39m \u001b[90m[1]\u001b[39m \u001b[90mCRAN (R 4.2.1)\u001b[39m\n",
       " glue                   1.6.2      \u001b[90m2022-02-24\u001b[39m \u001b[90m[1]\u001b[39m \u001b[90mCRAN (R 4.2.0)\u001b[39m\n",
       " googledrive            2.0.0      \u001b[90m2021-07-08\u001b[39m \u001b[90m[1]\u001b[39m \u001b[90mCRAN (R 4.2.1)\u001b[39m\n",
       " googlesheets4          1.0.1      \u001b[90m2022-08-13\u001b[39m \u001b[90m[1]\u001b[39m \u001b[90mCRAN (R 4.2.1)\u001b[39m\n",
       " gridExtra              2.3        \u001b[90m2017-09-09\u001b[39m \u001b[90m[1]\u001b[39m \u001b[90mCRAN (R 4.2.1)\u001b[39m\n",
       " gtable                 0.3.0      \u001b[90m2019-03-25\u001b[39m \u001b[90m[1]\u001b[39m \u001b[90mCRAN (R 4.2.1)\u001b[39m\n",
       " haven                  2.5.1      \u001b[90m2022-08-22\u001b[39m \u001b[90m[1]\u001b[39m \u001b[90mCRAN (R 4.2.1)\u001b[39m\n",
       " hms                    1.1.2      \u001b[90m2022-08-19\u001b[39m \u001b[90m[1]\u001b[39m \u001b[90mCRAN (R 4.2.1)\u001b[39m\n",
       " htmltools              0.5.3      \u001b[90m2022-07-18\u001b[39m \u001b[90m[1]\u001b[39m \u001b[90mCRAN (R 4.2.1)\u001b[39m\n",
       " httr                   1.4.4      \u001b[90m2022-08-17\u001b[39m \u001b[90m[1]\u001b[39m \u001b[90mCRAN (R 4.2.1)\u001b[39m\n",
       " IRanges              * 2.30.1     \u001b[90m2022-08-18\u001b[39m \u001b[90m[1]\u001b[39m \u001b[90mBioconductor\u001b[39m\n",
       " IRdisplay              1.1        \u001b[90m2022-01-04\u001b[39m \u001b[90m[1]\u001b[39m \u001b[90mCRAN (R 4.2.1)\u001b[39m\n",
       " IRkernel               \u001b[1m\u001b[35m1.3.0.9000\u001b[39m\u001b[22m \u001b[90m2022-08-17\u001b[39m \u001b[90m[1]\u001b[39m \u001b[1m\u001b[35mGithub (IRkernel/IRkernel@c674f3c)\u001b[39m\u001b[22m\n",
       " jsonlite               1.8.0      \u001b[90m2022-02-22\u001b[39m \u001b[90m[1]\u001b[39m \u001b[90mCRAN (R 4.2.0)\u001b[39m\n",
       " labeling               0.4.2      \u001b[90m2020-10-20\u001b[39m \u001b[90m[1]\u001b[39m \u001b[90mCRAN (R 4.2.1)\u001b[39m\n",
       " lattice                0.20-45    \u001b[90m2021-09-22\u001b[39m \u001b[90m[2]\u001b[39m \u001b[90mCRAN (R 4.2.1)\u001b[39m\n",
       " lifecycle              1.0.1      \u001b[90m2021-09-24\u001b[39m \u001b[90m[1]\u001b[39m \u001b[90mCRAN (R 4.2.0)\u001b[39m\n",
       " lubridate              1.8.0      \u001b[90m2021-10-07\u001b[39m \u001b[90m[1]\u001b[39m \u001b[90mCRAN (R 4.2.1)\u001b[39m\n",
       " magrittr               2.0.3      \u001b[90m2022-03-30\u001b[39m \u001b[90m[1]\u001b[39m \u001b[90mCRAN (R 4.2.0)\u001b[39m\n",
       " Matrix                 1.4-1      \u001b[90m2022-03-23\u001b[39m \u001b[90m[2]\u001b[39m \u001b[90mCRAN (R 4.2.1)\u001b[39m\n",
       " MatrixGenerics       * 1.8.1      \u001b[90m2022-06-26\u001b[39m \u001b[90m[1]\u001b[39m \u001b[90mBioconductor\u001b[39m\n",
       " matrixStats          * 0.62.0     \u001b[90m2022-04-19\u001b[39m \u001b[90m[1]\u001b[39m \u001b[90mCRAN (R 4.2.1)\u001b[39m\n",
       " modelr                 0.1.9      \u001b[90m2022-08-19\u001b[39m \u001b[90m[1]\u001b[39m \u001b[90mCRAN (R 4.2.1)\u001b[39m\n",
       " munsell                0.5.0      \u001b[90m2018-06-12\u001b[39m \u001b[90m[1]\u001b[39m \u001b[90mCRAN (R 4.2.1)\u001b[39m\n",
       " pbdZMQ                 0.3-7      \u001b[90m2022-02-05\u001b[39m \u001b[90m[1]\u001b[39m \u001b[90mCRAN (R 4.2.1)\u001b[39m\n",
       " pillar                 1.8.1      \u001b[90m2022-08-19\u001b[39m \u001b[90m[1]\u001b[39m \u001b[90mCRAN (R 4.2.1)\u001b[39m\n",
       " pkgconfig              2.0.3      \u001b[90m2019-09-22\u001b[39m \u001b[90m[1]\u001b[39m \u001b[90mCRAN (R 4.2.1)\u001b[39m\n",
       " purrr                * 0.3.4      \u001b[90m2020-04-17\u001b[39m \u001b[90m[1]\u001b[39m \u001b[90mCRAN (R 4.2.0)\u001b[39m\n",
       " R6                     2.5.1      \u001b[90m2021-08-19\u001b[39m \u001b[90m[1]\u001b[39m \u001b[90mCRAN (R 4.2.0)\u001b[39m\n",
       " RCurl                  1.98-1.8   \u001b[90m2022-07-30\u001b[39m \u001b[90m[1]\u001b[39m \u001b[90mCRAN (R 4.2.1)\u001b[39m\n",
       " readr                * 2.1.2      \u001b[90m2022-01-30\u001b[39m \u001b[90m[1]\u001b[39m \u001b[90mCRAN (R 4.2.1)\u001b[39m\n",
       " readxl                 1.4.1      \u001b[90m2022-08-17\u001b[39m \u001b[90m[1]\u001b[39m \u001b[90mCRAN (R 4.2.1)\u001b[39m\n",
       " repr                   1.1.4      \u001b[90m2022-01-04\u001b[39m \u001b[90m[1]\u001b[39m \u001b[90mCRAN (R 4.2.1)\u001b[39m\n",
       " reprex                 2.0.2      \u001b[90m2022-08-17\u001b[39m \u001b[90m[1]\u001b[39m \u001b[90mCRAN (R 4.2.1)\u001b[39m\n",
       " rlang                  1.0.4      \u001b[90m2022-07-12\u001b[39m \u001b[90m[1]\u001b[39m \u001b[90mCRAN (R 4.2.1)\u001b[39m\n",
       " rstatix                0.7.0      \u001b[90m2021-02-13\u001b[39m \u001b[90m[1]\u001b[39m \u001b[90mCRAN (R 4.2.1)\u001b[39m\n",
       " rvest                  1.0.3      \u001b[90m2022-08-19\u001b[39m \u001b[90m[1]\u001b[39m \u001b[90mCRAN (R 4.2.1)\u001b[39m\n",
       " S4Vectors            * 0.34.0     \u001b[90m2022-04-26\u001b[39m \u001b[90m[1]\u001b[39m \u001b[90mBioconductor\u001b[39m\n",
       " scales                 1.2.1      \u001b[90m2022-08-20\u001b[39m \u001b[90m[1]\u001b[39m \u001b[90mCRAN (R 4.2.1)\u001b[39m\n",
       " sessioninfo            1.2.2      \u001b[90m2021-12-06\u001b[39m \u001b[90m[1]\u001b[39m \u001b[90mCRAN (R 4.2.1)\u001b[39m\n",
       " stringi                1.7.8      \u001b[90m2022-07-11\u001b[39m \u001b[90m[1]\u001b[39m \u001b[90mCRAN (R 4.2.1)\u001b[39m\n",
       " stringr              * 1.4.1      \u001b[90m2022-08-20\u001b[39m \u001b[90m[1]\u001b[39m \u001b[90mCRAN (R 4.2.1)\u001b[39m\n",
       " SummarizedExperiment * 1.26.1     \u001b[90m2022-04-29\u001b[39m \u001b[90m[1]\u001b[39m \u001b[90mBioconductor\u001b[39m\n",
       " svglite                2.1.0      \u001b[90m2022-02-03\u001b[39m \u001b[90m[1]\u001b[39m \u001b[90mCRAN (R 4.2.1)\u001b[39m\n",
       " systemfonts            1.0.4      \u001b[90m2022-02-11\u001b[39m \u001b[90m[1]\u001b[39m \u001b[90mCRAN (R 4.2.1)\u001b[39m\n",
       " tibble               * 3.1.8      \u001b[90m2022-07-22\u001b[39m \u001b[90m[1]\u001b[39m \u001b[90mCRAN (R 4.2.1)\u001b[39m\n",
       " tidyr                * 1.2.0      \u001b[90m2022-02-01\u001b[39m \u001b[90m[1]\u001b[39m \u001b[90mCRAN (R 4.2.1)\u001b[39m\n",
       " tidyselect             1.1.2      \u001b[90m2022-02-21\u001b[39m \u001b[90m[1]\u001b[39m \u001b[90mCRAN (R 4.2.1)\u001b[39m\n",
       " tidyverse            * 1.3.2      \u001b[90m2022-07-18\u001b[39m \u001b[90m[1]\u001b[39m \u001b[90mCRAN (R 4.2.1)\u001b[39m\n",
       " tzdb                   0.3.0      \u001b[90m2022-03-28\u001b[39m \u001b[90m[1]\u001b[39m \u001b[90mCRAN (R 4.2.1)\u001b[39m\n",
       " utf8                   1.2.2      \u001b[90m2021-07-24\u001b[39m \u001b[90m[1]\u001b[39m \u001b[90mCRAN (R 4.2.1)\u001b[39m\n",
       " uuid                   1.1-0      \u001b[90m2022-04-19\u001b[39m \u001b[90m[1]\u001b[39m \u001b[90mCRAN (R 4.2.1)\u001b[39m\n",
       " vctrs                  0.4.1      \u001b[90m2022-04-13\u001b[39m \u001b[90m[1]\u001b[39m \u001b[90mCRAN (R 4.2.1)\u001b[39m\n",
       " withr                  2.5.0      \u001b[90m2022-03-03\u001b[39m \u001b[90m[1]\u001b[39m \u001b[90mCRAN (R 4.2.0)\u001b[39m\n",
       " xml2                   1.3.3      \u001b[90m2021-11-30\u001b[39m \u001b[90m[1]\u001b[39m \u001b[90mCRAN (R 4.2.1)\u001b[39m\n",
       " XVector                0.36.0     \u001b[90m2022-04-26\u001b[39m \u001b[90m[1]\u001b[39m \u001b[90mBioconductor\u001b[39m\n",
       " zlibbioc               1.42.0     \u001b[90m2022-04-26\u001b[39m \u001b[90m[1]\u001b[39m \u001b[90mBioconductor\u001b[39m\n",
       "\n",
       "\u001b[90m [1] /home/kynon/R/x86_64-pc-linux-gnu-library/4.2\u001b[39m\n",
       "\u001b[90m [2] /usr/lib/R/library\u001b[39m\n",
       "\n",
       "\u001b[1m\u001b[36m────────────────────────────────────────────────────────────────────────────────────────────────────────────────────────────────────────────────────────────────────────────────────────────────────\u001b[39m\u001b[22m"
      ]
     },
     "metadata": {},
     "output_type": "display_data"
    }
   ],
   "source": [
    "Sys.time()\n",
    "proc.time()\n",
    "options(width = 120)\n",
    "sessioninfo::session_info()"
   ]
  }
 ],
 "metadata": {
  "kernelspec": {
   "display_name": "R",
   "language": "R",
   "name": "ir"
  },
  "language_info": {
   "codemirror_mode": "r",
   "file_extension": ".r",
   "mimetype": "text/x-r-source",
   "name": "R",
   "pygments_lexer": "r",
   "version": "4.2.1"
  }
 },
 "nbformat": 4,
 "nbformat_minor": 4
}
