{
 "cells": [
  {
   "cell_type": "markdown",
   "metadata": {},
   "source": [
    "# Examine sample make-up"
   ]
  },
  {
   "cell_type": "code",
   "execution_count": 1,
   "metadata": {
    "execution": {
     "iopub.execute_input": "2021-08-18T19:41:11.022175Z",
     "iopub.status.busy": "2021-08-18T19:41:11.019227Z",
     "iopub.status.idle": "2021-08-18T19:41:19.766497Z",
     "shell.execute_reply": "2021-08-18T19:41:19.764965Z"
    }
   },
   "outputs": [],
   "source": [
    "suppressMessages({library(SummarizedExperiment)\n",
    "                  library(tidyverse)})"
   ]
  },
  {
   "cell_type": "markdown",
   "metadata": {},
   "source": [
    "## Samples after quality control"
   ]
  },
  {
   "cell_type": "markdown",
   "metadata": {},
   "source": [
    "### Load Caudate data"
   ]
  },
  {
   "cell_type": "code",
   "execution_count": 2,
   "metadata": {
    "execution": {
     "iopub.execute_input": "2021-08-18T19:41:19.822294Z",
     "iopub.status.busy": "2021-08-18T19:41:19.772030Z",
     "iopub.status.idle": "2021-08-18T19:41:23.540525Z",
     "shell.execute_reply": "2021-08-18T19:41:23.539089Z"
    }
   },
   "outputs": [],
   "source": [
    "# Load counts and phenotype R variable\n",
    "load(\"../../input/counts/_m/caudate_brainseq_phase3_hg38_rseGene_merged_n464.rda\")\n",
    "### Subset and recode\n",
    "keepIndex = which((rse_gene$Dx %in% c('Control', \"Schizo\")) & \n",
    "                  rse_gene$Race %in% c('CAUC', 'AA'))\n",
    "rse_gene = rse_gene[, keepIndex]\n",
    "### Extract phenotypes\n",
    "pheno_C <- colData(rse_gene) %>% as.data.frame"
   ]
  },
  {
   "cell_type": "markdown",
   "metadata": {},
   "source": [
    "### Load DLPFC data"
   ]
  },
  {
   "cell_type": "code",
   "execution_count": 3,
   "metadata": {
    "execution": {
     "iopub.execute_input": "2021-08-18T19:41:23.547191Z",
     "iopub.status.busy": "2021-08-18T19:41:23.545315Z",
     "iopub.status.idle": "2021-08-18T19:41:26.358107Z",
     "shell.execute_reply": "2021-08-18T19:41:26.356895Z"
    }
   },
   "outputs": [],
   "source": [
    "# Load counts and phenotype R variable\n",
    "load(\"../../input/counts/_m/dlpfc_ribozero_brainseq_phase2_hg38_rseGene_merged_n453.rda\")\n",
    "### Subset and recode\n",
    "keepIndex = which((rse_gene$Dx %in% c('Control', \"Schizo\")) & \n",
    "                  rse_gene$Race %in% c('CAUC', 'AA'))\n",
    "rse_gene = rse_gene[, keepIndex]\n",
    "### Extract phenotypes\n",
    "pheno_D <- colData(rse_gene) %>% as.data.frame"
   ]
  },
  {
   "cell_type": "markdown",
   "metadata": {},
   "source": [
    "### Load Hippocampus data"
   ]
  },
  {
   "cell_type": "code",
   "execution_count": 4,
   "metadata": {
    "execution": {
     "iopub.execute_input": "2021-08-18T19:41:26.364679Z",
     "iopub.status.busy": "2021-08-18T19:41:26.362974Z",
     "iopub.status.idle": "2021-08-18T19:41:29.176581Z",
     "shell.execute_reply": "2021-08-18T19:41:29.175374Z"
    }
   },
   "outputs": [],
   "source": [
    "# Load counts and phenotype R variable\n",
    "load(\"../../input/counts/_m/hippo_brainseq_phase2_hg38_rseGene_merged_n447.rda\")\n",
    "### Subset and recode\n",
    "keepIndex = which((rse_gene$Dx %in% c('Control', \"Schizo\")) & \n",
    "                  rse_gene$Race %in% c('CAUC', 'AA'))\n",
    "rse_gene = rse_gene[, keepIndex]\n",
    "### Extract phenotypes\n",
    "pheno_H <- colData(rse_gene) %>% as.data.frame"
   ]
  },
  {
   "cell_type": "markdown",
   "metadata": {},
   "source": [
    "### Load DG data"
   ]
  },
  {
   "cell_type": "code",
   "execution_count": 5,
   "metadata": {
    "execution": {
     "iopub.execute_input": "2021-08-18T19:41:29.183868Z",
     "iopub.status.busy": "2021-08-18T19:41:29.181715Z",
     "iopub.status.idle": "2021-08-18T19:41:30.202557Z",
     "shell.execute_reply": "2021-08-18T19:41:30.200520Z"
    }
   },
   "outputs": [],
   "source": [
    "# Load counts and phenotype R variable\n",
    "load(\"../../input/counts/_m/astellas_dg_hg38_rseGene_n263.rda\")\n",
    "### Subset and recode\n",
    "keepIndex = which((rse_gene$Dx %in% c('Control', \"Schizo\")) & \n",
    "                  rse_gene$Race %in% c('CAUC', 'AA'))\n",
    "rse_gene = rse_gene[, keepIndex]\n",
    "### Extract phenotypes\n",
    "pheno_dg <- colData(rse_gene) %>% as.data.frame"
   ]
  },
  {
   "cell_type": "markdown",
   "metadata": {},
   "source": [
    "### Merge data"
   ]
  },
  {
   "cell_type": "code",
   "execution_count": 6,
   "metadata": {
    "execution": {
     "iopub.execute_input": "2021-08-18T19:41:30.208797Z",
     "iopub.status.busy": "2021-08-18T19:41:30.207183Z",
     "iopub.status.idle": "2021-08-18T19:41:30.259561Z",
     "shell.execute_reply": "2021-08-18T19:41:30.257996Z"
    }
   },
   "outputs": [],
   "source": [
    "allCols <- intersect(intersect(intersect(colnames(pheno_C), colnames(pheno_D)), \n",
    "                               colnames(pheno_H)), \n",
    "                     colnames(pheno_dg))\n",
    "pheno = rbind(pheno_C[, allCols], pheno_D[, allCols], \n",
    "              pheno_H[, allCols], pheno_dg[, allCols]) %>% \n",
    "    filter(Age > 13) %>% mutate(Race=gsub(\"CAUC\", \"EA\", Race))"
   ]
  },
  {
   "cell_type": "markdown",
   "metadata": {},
   "source": [
    "## STRUCTURE analysis"
   ]
  },
  {
   "cell_type": "code",
   "execution_count": 7,
   "metadata": {
    "execution": {
     "iopub.execute_input": "2021-08-18T19:41:30.266455Z",
     "iopub.status.busy": "2021-08-18T19:41:30.264257Z",
     "iopub.status.idle": "2021-08-18T19:41:30.440348Z",
     "shell.execute_reply": "2021-08-18T19:41:30.438449Z"
    }
   },
   "outputs": [
    {
     "data": {
      "text/html": [
       "<table class=\"dataframe\">\n",
       "<caption>A data.table: 6 × 4</caption>\n",
       "<thead>\n",
       "\t<tr><th scope=col>id</th><th scope=col>Afr</th><th scope=col>Eur</th><th scope=col>group</th></tr>\n",
       "\t<tr><th scope=col>&lt;chr&gt;</th><th scope=col>&lt;dbl&gt;</th><th scope=col>&lt;dbl&gt;</th><th scope=col>&lt;chr&gt;</th></tr>\n",
       "</thead>\n",
       "<tbody>\n",
       "\t<tr><td>Br2374</td><td>0.007</td><td>0.993</td><td>CAUC</td></tr>\n",
       "\t<tr><td>Br1857</td><td>0.001</td><td>0.999</td><td>CAUC</td></tr>\n",
       "\t<tr><td>Br1306</td><td>0.759</td><td>0.241</td><td>AA  </td></tr>\n",
       "\t<tr><td>Br2605</td><td>0.644</td><td>0.356</td><td>AA  </td></tr>\n",
       "\t<tr><td>Br1802</td><td>0.840</td><td>0.160</td><td>AA  </td></tr>\n",
       "\t<tr><td>Br2565</td><td>0.005</td><td>0.995</td><td>CAUC</td></tr>\n",
       "</tbody>\n",
       "</table>\n"
      ],
      "text/latex": [
       "A data.table: 6 × 4\n",
       "\\begin{tabular}{llll}\n",
       " id & Afr & Eur & group\\\\\n",
       " <chr> & <dbl> & <dbl> & <chr>\\\\\n",
       "\\hline\n",
       "\t Br2374 & 0.007 & 0.993 & CAUC\\\\\n",
       "\t Br1857 & 0.001 & 0.999 & CAUC\\\\\n",
       "\t Br1306 & 0.759 & 0.241 & AA  \\\\\n",
       "\t Br2605 & 0.644 & 0.356 & AA  \\\\\n",
       "\t Br1802 & 0.840 & 0.160 & AA  \\\\\n",
       "\t Br2565 & 0.005 & 0.995 & CAUC\\\\\n",
       "\\end{tabular}\n"
      ],
      "text/markdown": [
       "\n",
       "A data.table: 6 × 4\n",
       "\n",
       "| id &lt;chr&gt; | Afr &lt;dbl&gt; | Eur &lt;dbl&gt; | group &lt;chr&gt; |\n",
       "|---|---|---|---|\n",
       "| Br2374 | 0.007 | 0.993 | CAUC |\n",
       "| Br1857 | 0.001 | 0.999 | CAUC |\n",
       "| Br1306 | 0.759 | 0.241 | AA   |\n",
       "| Br2605 | 0.644 | 0.356 | AA   |\n",
       "| Br1802 | 0.840 | 0.160 | AA   |\n",
       "| Br2565 | 0.005 | 0.995 | CAUC |\n",
       "\n"
      ],
      "text/plain": [
       "  id     Afr   Eur   group\n",
       "1 Br2374 0.007 0.993 CAUC \n",
       "2 Br1857 0.001 0.999 CAUC \n",
       "3 Br1306 0.759 0.241 AA   \n",
       "4 Br2605 0.644 0.356 AA   \n",
       "5 Br1802 0.840 0.160 AA   \n",
       "6 Br2565 0.005 0.995 CAUC "
      ]
     },
     "metadata": {},
     "output_type": "display_data"
    }
   ],
   "source": [
    "ancestry = data.table::fread(\"../../input/ancestry_structure/structure.out_ancestry_proportion_raceDemo_compare\")\n",
    "ancestry %>% head()"
   ]
  },
  {
   "cell_type": "code",
   "execution_count": 8,
   "metadata": {
    "execution": {
     "iopub.execute_input": "2021-08-18T19:41:30.446545Z",
     "iopub.status.busy": "2021-08-18T19:41:30.444554Z",
     "iopub.status.idle": "2021-08-18T19:41:30.507394Z",
     "shell.execute_reply": "2021-08-18T19:41:30.505738Z"
    }
   },
   "outputs": [
    {
     "data": {
      "text/html": [
       "<table class=\"dataframe\">\n",
       "<caption>A tibble: 2 × 3</caption>\n",
       "<thead>\n",
       "\t<tr><th scope=col>group</th><th scope=col>AA</th><th scope=col>EA</th></tr>\n",
       "\t<tr><th scope=col>&lt;fct&gt;</th><th scope=col>&lt;dbl&gt;</th><th scope=col>&lt;dbl&gt;</th></tr>\n",
       "</thead>\n",
       "<tbody>\n",
       "\t<tr><td>AA  </td><td>0.782219451</td><td>0.2177805</td></tr>\n",
       "\t<tr><td>CAUC</td><td>0.007510536</td><td>0.9924895</td></tr>\n",
       "</tbody>\n",
       "</table>\n"
      ],
      "text/latex": [
       "A tibble: 2 × 3\n",
       "\\begin{tabular}{lll}\n",
       " group & AA & EA\\\\\n",
       " <fct> & <dbl> & <dbl>\\\\\n",
       "\\hline\n",
       "\t AA   & 0.782219451 & 0.2177805\\\\\n",
       "\t CAUC & 0.007510536 & 0.9924895\\\\\n",
       "\\end{tabular}\n"
      ],
      "text/markdown": [
       "\n",
       "A tibble: 2 × 3\n",
       "\n",
       "| group &lt;fct&gt; | AA &lt;dbl&gt; | EA &lt;dbl&gt; |\n",
       "|---|---|---|\n",
       "| AA   | 0.782219451 | 0.2177805 |\n",
       "| CAUC | 0.007510536 | 0.9924895 |\n",
       "\n"
      ],
      "text/plain": [
       "  group AA          EA       \n",
       "1 AA    0.782219451 0.2177805\n",
       "2 CAUC  0.007510536 0.9924895"
      ]
     },
     "metadata": {},
     "output_type": "display_data"
    }
   ],
   "source": [
    "ancestry %>% mutate_if(is.character, as.factor) %>%\n",
    "    group_by(group) %>% summarize(AA=mean(Afr), EA=mean(Eur))"
   ]
  },
  {
   "cell_type": "code",
   "execution_count": 9,
   "metadata": {
    "execution": {
     "iopub.execute_input": "2021-08-18T19:41:30.513742Z",
     "iopub.status.busy": "2021-08-18T19:41:30.511772Z",
     "iopub.status.idle": "2021-08-18T19:41:30.586083Z",
     "shell.execute_reply": "2021-08-18T19:41:30.584535Z"
    }
   },
   "outputs": [
    {
     "data": {
      "text/html": [
       "<table class=\"dataframe\">\n",
       "<caption>A tibble: 2 × 9</caption>\n",
       "<thead>\n",
       "\t<tr><th scope=col>group</th><th scope=col>AA_mean</th><th scope=col>AA_sd</th><th scope=col>AA_max</th><th scope=col>AA_min</th><th scope=col>EA_mean</th><th scope=col>EA_sd</th><th scope=col>EA_max</th><th scope=col>EA_min</th></tr>\n",
       "\t<tr><th scope=col>&lt;fct&gt;</th><th scope=col>&lt;dbl&gt;</th><th scope=col>&lt;dbl&gt;</th><th scope=col>&lt;dbl&gt;</th><th scope=col>&lt;dbl&gt;</th><th scope=col>&lt;dbl&gt;</th><th scope=col>&lt;dbl&gt;</th><th scope=col>&lt;dbl&gt;</th><th scope=col>&lt;dbl&gt;</th></tr>\n",
       "</thead>\n",
       "<tbody>\n",
       "\t<tr><td>AA  </td><td>0.78962609</td><td>0.10611682</td><td>0.999</td><td>0.381</td><td>0.2103739</td><td>0.10611682</td><td>0.619</td><td>0.001</td></tr>\n",
       "\t<tr><td>CAUC</td><td>0.03087879</td><td>0.02997578</td><td>0.156</td><td>0.001</td><td>0.9691212</td><td>0.02997578</td><td>0.999</td><td>0.844</td></tr>\n",
       "</tbody>\n",
       "</table>\n"
      ],
      "text/latex": [
       "A tibble: 2 × 9\n",
       "\\begin{tabular}{lllllllll}\n",
       " group & AA\\_mean & AA\\_sd & AA\\_max & AA\\_min & EA\\_mean & EA\\_sd & EA\\_max & EA\\_min\\\\\n",
       " <fct> & <dbl> & <dbl> & <dbl> & <dbl> & <dbl> & <dbl> & <dbl> & <dbl>\\\\\n",
       "\\hline\n",
       "\t AA   & 0.78962609 & 0.10611682 & 0.999 & 0.381 & 0.2103739 & 0.10611682 & 0.619 & 0.001\\\\\n",
       "\t CAUC & 0.03087879 & 0.02997578 & 0.156 & 0.001 & 0.9691212 & 0.02997578 & 0.999 & 0.844\\\\\n",
       "\\end{tabular}\n"
      ],
      "text/markdown": [
       "\n",
       "A tibble: 2 × 9\n",
       "\n",
       "| group &lt;fct&gt; | AA_mean &lt;dbl&gt; | AA_sd &lt;dbl&gt; | AA_max &lt;dbl&gt; | AA_min &lt;dbl&gt; | EA_mean &lt;dbl&gt; | EA_sd &lt;dbl&gt; | EA_max &lt;dbl&gt; | EA_min &lt;dbl&gt; |\n",
       "|---|---|---|---|---|---|---|---|---|\n",
       "| AA   | 0.78962609 | 0.10611682 | 0.999 | 0.381 | 0.2103739 | 0.10611682 | 0.619 | 0.001 |\n",
       "| CAUC | 0.03087879 | 0.02997578 | 0.156 | 0.001 | 0.9691212 | 0.02997578 | 0.999 | 0.844 |\n",
       "\n"
      ],
      "text/plain": [
       "  group AA_mean    AA_sd      AA_max AA_min EA_mean   EA_sd      EA_max EA_min\n",
       "1 AA    0.78962609 0.10611682 0.999  0.381  0.2103739 0.10611682 0.619  0.001 \n",
       "2 CAUC  0.03087879 0.02997578 0.156  0.001  0.9691212 0.02997578 0.999  0.844 "
      ]
     },
     "metadata": {},
     "output_type": "display_data"
    }
   ],
   "source": [
    "ancestry %>% inner_join(pheno, by=c(\"id\"=\"BrNum\")) %>%\n",
    "    filter(Age > 17, Dx == \"Control\") %>% select(group, Afr, Eur) %>% \n",
    "    mutate_if(is.character, as.factor) %>% distinct %>%\n",
    "    group_by(group) %>% \n",
    "    summarize(AA_mean=mean(Afr), AA_sd=sd(Afr), AA_max=max(Afr), AA_min=min(Afr),\n",
    "              EA_mean=mean(Eur), EA_sd=sd(Eur), EA_max=max(Eur), EA_min=min(Eur))"
   ]
  },
  {
   "cell_type": "markdown",
   "metadata": {},
   "source": [
    "## eQTL analysis"
   ]
  },
  {
   "cell_type": "code",
   "execution_count": 10,
   "metadata": {
    "execution": {
     "iopub.execute_input": "2021-08-18T19:41:30.592209Z",
     "iopub.status.busy": "2021-08-18T19:41:30.590416Z",
     "iopub.status.idle": "2021-08-18T19:41:30.613502Z",
     "shell.execute_reply": "2021-08-18T19:41:30.611467Z"
    }
   },
   "outputs": [
    {
     "data": {
      "text/html": [
       "<style>\n",
       ".list-inline {list-style: none; margin:0; padding: 0}\n",
       ".list-inline>li {display: inline-block}\n",
       ".list-inline>li:not(:last-child)::after {content: \"\\00b7\"; padding: 0 .5ex}\n",
       "</style>\n",
       "<ol class=list-inline><li>1334</li><li>21</li></ol>\n"
      ],
      "text/latex": [
       "\\begin{enumerate*}\n",
       "\\item 1334\n",
       "\\item 21\n",
       "\\end{enumerate*}\n"
      ],
      "text/markdown": [
       "1. 1334\n",
       "2. 21\n",
       "\n",
       "\n"
      ],
      "text/plain": [
       "[1] 1334   21"
      ]
     },
     "metadata": {},
     "output_type": "display_data"
    }
   ],
   "source": [
    "pheno %>% dim"
   ]
  },
  {
   "cell_type": "code",
   "execution_count": 11,
   "metadata": {
    "execution": {
     "iopub.execute_input": "2021-08-18T19:41:30.620160Z",
     "iopub.status.busy": "2021-08-18T19:41:30.618051Z",
     "iopub.status.idle": "2021-08-18T19:41:30.638820Z",
     "shell.execute_reply": "2021-08-18T19:41:30.636921Z"
    }
   },
   "outputs": [
    {
     "name": "stdout",
     "output_type": "stream",
     "text": [
      "[1] \"There are 509 unique BrNum.\"\n"
     ]
    }
   ],
   "source": [
    "print(paste(\"There are\", unique(pheno$BrNum) %>% length, \"unique BrNum.\"))"
   ]
  },
  {
   "cell_type": "code",
   "execution_count": 12,
   "metadata": {
    "execution": {
     "iopub.execute_input": "2021-08-18T19:41:30.646108Z",
     "iopub.status.busy": "2021-08-18T19:41:30.643890Z",
     "iopub.status.idle": "2021-08-18T19:41:30.697812Z",
     "shell.execute_reply": "2021-08-18T19:41:30.696011Z"
    }
   },
   "outputs": [
    {
     "data": {
      "text/html": [
       "<table class=\"dataframe\">\n",
       "<caption>A grouped_df: 4 × 2</caption>\n",
       "<thead>\n",
       "\t<tr><th scope=col>Region</th><th scope=col>n</th></tr>\n",
       "\t<tr><th scope=col>&lt;fct&gt;</th><th scope=col>&lt;int&gt;</th></tr>\n",
       "</thead>\n",
       "<tbody>\n",
       "\t<tr><td>Caudate     </td><td>400</td></tr>\n",
       "\t<tr><td>DentateGyrus</td><td>161</td></tr>\n",
       "\t<tr><td>DLPFC       </td><td>378</td></tr>\n",
       "\t<tr><td>HIPPO       </td><td>395</td></tr>\n",
       "</tbody>\n",
       "</table>\n"
      ],
      "text/latex": [
       "A grouped\\_df: 4 × 2\n",
       "\\begin{tabular}{ll}\n",
       " Region & n\\\\\n",
       " <fct> & <int>\\\\\n",
       "\\hline\n",
       "\t Caudate      & 400\\\\\n",
       "\t DentateGyrus & 161\\\\\n",
       "\t DLPFC        & 378\\\\\n",
       "\t HIPPO        & 395\\\\\n",
       "\\end{tabular}\n"
      ],
      "text/markdown": [
       "\n",
       "A grouped_df: 4 × 2\n",
       "\n",
       "| Region &lt;fct&gt; | n &lt;int&gt; |\n",
       "|---|---|\n",
       "| Caudate      | 400 |\n",
       "| DentateGyrus | 161 |\n",
       "| DLPFC        | 378 |\n",
       "| HIPPO        | 395 |\n",
       "\n"
      ],
      "text/plain": [
       "  Region       n  \n",
       "1 Caudate      400\n",
       "2 DentateGyrus 161\n",
       "3 DLPFC        378\n",
       "4 HIPPO        395"
      ]
     },
     "metadata": {},
     "output_type": "display_data"
    }
   ],
   "source": [
    "pheno %>% select(BrNum, Region) %>% distinct %>%\n",
    "    mutate_if(is.character, as.factor) %>% \n",
    "    group_by(Region) %>% count()"
   ]
  },
  {
   "cell_type": "code",
   "execution_count": 13,
   "metadata": {
    "execution": {
     "iopub.execute_input": "2021-08-18T19:41:30.705046Z",
     "iopub.status.busy": "2021-08-18T19:41:30.702743Z",
     "iopub.status.idle": "2021-08-18T19:41:30.753747Z",
     "shell.execute_reply": "2021-08-18T19:41:30.751610Z"
    }
   },
   "outputs": [
    {
     "data": {
      "text/html": [
       "<table class=\"dataframe\">\n",
       "<caption>A grouped_df: 2 × 2</caption>\n",
       "<thead>\n",
       "\t<tr><th scope=col>Race</th><th scope=col>n</th></tr>\n",
       "\t<tr><th scope=col>&lt;fct&gt;</th><th scope=col>&lt;int&gt;</th></tr>\n",
       "</thead>\n",
       "<tbody>\n",
       "\t<tr><td>AA</td><td>256</td></tr>\n",
       "\t<tr><td>EA</td><td>253</td></tr>\n",
       "</tbody>\n",
       "</table>\n"
      ],
      "text/latex": [
       "A grouped\\_df: 2 × 2\n",
       "\\begin{tabular}{ll}\n",
       " Race & n\\\\\n",
       " <fct> & <int>\\\\\n",
       "\\hline\n",
       "\t AA & 256\\\\\n",
       "\t EA & 253\\\\\n",
       "\\end{tabular}\n"
      ],
      "text/markdown": [
       "\n",
       "A grouped_df: 2 × 2\n",
       "\n",
       "| Race &lt;fct&gt; | n &lt;int&gt; |\n",
       "|---|---|\n",
       "| AA | 256 |\n",
       "| EA | 253 |\n",
       "\n"
      ],
      "text/plain": [
       "  Race n  \n",
       "1 AA   256\n",
       "2 EA   253"
      ]
     },
     "metadata": {},
     "output_type": "display_data"
    }
   ],
   "source": [
    "pheno %>% select(BrNum, Race) %>% distinct %>%\n",
    "    mutate_if(is.character, as.factor) %>% \n",
    "    group_by(Race) %>% count()"
   ]
  },
  {
   "cell_type": "code",
   "execution_count": 14,
   "metadata": {
    "execution": {
     "iopub.execute_input": "2021-08-18T19:41:30.760720Z",
     "iopub.status.busy": "2021-08-18T19:41:30.758792Z",
     "iopub.status.idle": "2021-08-18T19:41:30.813546Z",
     "shell.execute_reply": "2021-08-18T19:41:30.811775Z"
    }
   },
   "outputs": [
    {
     "data": {
      "text/html": [
       "<table class=\"dataframe\">\n",
       "<caption>A grouped_df: 8 × 3</caption>\n",
       "<thead>\n",
       "\t<tr><th scope=col>Region</th><th scope=col>Race</th><th scope=col>n</th></tr>\n",
       "\t<tr><th scope=col>&lt;fct&gt;</th><th scope=col>&lt;fct&gt;</th><th scope=col>&lt;int&gt;</th></tr>\n",
       "</thead>\n",
       "<tbody>\n",
       "\t<tr><td>Caudate     </td><td>AA</td><td>206</td></tr>\n",
       "\t<tr><td>Caudate     </td><td>EA</td><td>194</td></tr>\n",
       "\t<tr><td>DentateGyrus</td><td>AA</td><td> 78</td></tr>\n",
       "\t<tr><td>DentateGyrus</td><td>EA</td><td> 83</td></tr>\n",
       "\t<tr><td>DLPFC       </td><td>AA</td><td>204</td></tr>\n",
       "\t<tr><td>DLPFC       </td><td>EA</td><td>174</td></tr>\n",
       "\t<tr><td>HIPPO       </td><td>AA</td><td>213</td></tr>\n",
       "\t<tr><td>HIPPO       </td><td>EA</td><td>182</td></tr>\n",
       "</tbody>\n",
       "</table>\n"
      ],
      "text/latex": [
       "A grouped\\_df: 8 × 3\n",
       "\\begin{tabular}{lll}\n",
       " Region & Race & n\\\\\n",
       " <fct> & <fct> & <int>\\\\\n",
       "\\hline\n",
       "\t Caudate      & AA & 206\\\\\n",
       "\t Caudate      & EA & 194\\\\\n",
       "\t DentateGyrus & AA &  78\\\\\n",
       "\t DentateGyrus & EA &  83\\\\\n",
       "\t DLPFC        & AA & 204\\\\\n",
       "\t DLPFC        & EA & 174\\\\\n",
       "\t HIPPO        & AA & 213\\\\\n",
       "\t HIPPO        & EA & 182\\\\\n",
       "\\end{tabular}\n"
      ],
      "text/markdown": [
       "\n",
       "A grouped_df: 8 × 3\n",
       "\n",
       "| Region &lt;fct&gt; | Race &lt;fct&gt; | n &lt;int&gt; |\n",
       "|---|---|---|\n",
       "| Caudate      | AA | 206 |\n",
       "| Caudate      | EA | 194 |\n",
       "| DentateGyrus | AA |  78 |\n",
       "| DentateGyrus | EA |  83 |\n",
       "| DLPFC        | AA | 204 |\n",
       "| DLPFC        | EA | 174 |\n",
       "| HIPPO        | AA | 213 |\n",
       "| HIPPO        | EA | 182 |\n",
       "\n"
      ],
      "text/plain": [
       "  Region       Race n  \n",
       "1 Caudate      AA   206\n",
       "2 Caudate      EA   194\n",
       "3 DentateGyrus AA    78\n",
       "4 DentateGyrus EA    83\n",
       "5 DLPFC        AA   204\n",
       "6 DLPFC        EA   174\n",
       "7 HIPPO        AA   213\n",
       "8 HIPPO        EA   182"
      ]
     },
     "metadata": {},
     "output_type": "display_data"
    }
   ],
   "source": [
    "pheno %>% select(BrNum, Race, Region) %>% distinct %>%\n",
    "    mutate_if(is.character, as.factor) %>% \n",
    "    group_by(Region, Race) %>% count()"
   ]
  },
  {
   "cell_type": "code",
   "execution_count": 15,
   "metadata": {
    "execution": {
     "iopub.execute_input": "2021-08-18T19:41:30.820144Z",
     "iopub.status.busy": "2021-08-18T19:41:30.818164Z",
     "iopub.status.idle": "2021-08-18T19:41:30.874070Z",
     "shell.execute_reply": "2021-08-18T19:41:30.872232Z"
    }
   },
   "outputs": [
    {
     "data": {
      "text/html": [
       "<table class=\"dataframe\">\n",
       "<caption>A grouped_df: 8 × 3</caption>\n",
       "<thead>\n",
       "\t<tr><th scope=col>Region</th><th scope=col>Sex</th><th scope=col>n</th></tr>\n",
       "\t<tr><th scope=col>&lt;fct&gt;</th><th scope=col>&lt;fct&gt;</th><th scope=col>&lt;int&gt;</th></tr>\n",
       "</thead>\n",
       "<tbody>\n",
       "\t<tr><td>Caudate     </td><td>F</td><td>126</td></tr>\n",
       "\t<tr><td>Caudate     </td><td>M</td><td>274</td></tr>\n",
       "\t<tr><td>DentateGyrus</td><td>F</td><td> 48</td></tr>\n",
       "\t<tr><td>DentateGyrus</td><td>M</td><td>113</td></tr>\n",
       "\t<tr><td>DLPFC       </td><td>F</td><td>121</td></tr>\n",
       "\t<tr><td>DLPFC       </td><td>M</td><td>257</td></tr>\n",
       "\t<tr><td>HIPPO       </td><td>F</td><td>126</td></tr>\n",
       "\t<tr><td>HIPPO       </td><td>M</td><td>269</td></tr>\n",
       "</tbody>\n",
       "</table>\n"
      ],
      "text/latex": [
       "A grouped\\_df: 8 × 3\n",
       "\\begin{tabular}{lll}\n",
       " Region & Sex & n\\\\\n",
       " <fct> & <fct> & <int>\\\\\n",
       "\\hline\n",
       "\t Caudate      & F & 126\\\\\n",
       "\t Caudate      & M & 274\\\\\n",
       "\t DentateGyrus & F &  48\\\\\n",
       "\t DentateGyrus & M & 113\\\\\n",
       "\t DLPFC        & F & 121\\\\\n",
       "\t DLPFC        & M & 257\\\\\n",
       "\t HIPPO        & F & 126\\\\\n",
       "\t HIPPO        & M & 269\\\\\n",
       "\\end{tabular}\n"
      ],
      "text/markdown": [
       "\n",
       "A grouped_df: 8 × 3\n",
       "\n",
       "| Region &lt;fct&gt; | Sex &lt;fct&gt; | n &lt;int&gt; |\n",
       "|---|---|---|\n",
       "| Caudate      | F | 126 |\n",
       "| Caudate      | M | 274 |\n",
       "| DentateGyrus | F |  48 |\n",
       "| DentateGyrus | M | 113 |\n",
       "| DLPFC        | F | 121 |\n",
       "| DLPFC        | M | 257 |\n",
       "| HIPPO        | F | 126 |\n",
       "| HIPPO        | M | 269 |\n",
       "\n"
      ],
      "text/plain": [
       "  Region       Sex n  \n",
       "1 Caudate      F   126\n",
       "2 Caudate      M   274\n",
       "3 DentateGyrus F    48\n",
       "4 DentateGyrus M   113\n",
       "5 DLPFC        F   121\n",
       "6 DLPFC        M   257\n",
       "7 HIPPO        F   126\n",
       "8 HIPPO        M   269"
      ]
     },
     "metadata": {},
     "output_type": "display_data"
    }
   ],
   "source": [
    "pheno %>% select(BrNum, Sex, Region) %>% distinct %>%\n",
    "    mutate_if(is.character, as.factor) %>% \n",
    "    group_by(Region, Sex) %>% count()"
   ]
  },
  {
   "cell_type": "code",
   "execution_count": 16,
   "metadata": {
    "execution": {
     "iopub.execute_input": "2021-08-18T19:41:30.880434Z",
     "iopub.status.busy": "2021-08-18T19:41:30.878471Z",
     "iopub.status.idle": "2021-08-18T19:41:30.925004Z",
     "shell.execute_reply": "2021-08-18T19:41:30.922780Z"
    }
   },
   "outputs": [
    {
     "data": {
      "text/html": [
       "<table class=\"dataframe\">\n",
       "<caption>A tibble: 4 × 3</caption>\n",
       "<thead>\n",
       "\t<tr><th scope=col>Region</th><th scope=col>mean</th><th scope=col>sd</th></tr>\n",
       "\t<tr><th scope=col>&lt;chr&gt;</th><th scope=col>&lt;dbl&gt;</th><th scope=col>&lt;dbl&gt;</th></tr>\n",
       "</thead>\n",
       "<tbody>\n",
       "\t<tr><td>Caudate     </td><td>49.12390</td><td>16.05379</td></tr>\n",
       "\t<tr><td>DentateGyrus</td><td>50.06770</td><td>15.43849</td></tr>\n",
       "\t<tr><td>DLPFC       </td><td>45.83574</td><td>16.49445</td></tr>\n",
       "\t<tr><td>HIPPO       </td><td>45.49527</td><td>16.41527</td></tr>\n",
       "</tbody>\n",
       "</table>\n"
      ],
      "text/latex": [
       "A tibble: 4 × 3\n",
       "\\begin{tabular}{lll}\n",
       " Region & mean & sd\\\\\n",
       " <chr> & <dbl> & <dbl>\\\\\n",
       "\\hline\n",
       "\t Caudate      & 49.12390 & 16.05379\\\\\n",
       "\t DentateGyrus & 50.06770 & 15.43849\\\\\n",
       "\t DLPFC        & 45.83574 & 16.49445\\\\\n",
       "\t HIPPO        & 45.49527 & 16.41527\\\\\n",
       "\\end{tabular}\n"
      ],
      "text/markdown": [
       "\n",
       "A tibble: 4 × 3\n",
       "\n",
       "| Region &lt;chr&gt; | mean &lt;dbl&gt; | sd &lt;dbl&gt; |\n",
       "|---|---|---|\n",
       "| Caudate      | 49.12390 | 16.05379 |\n",
       "| DentateGyrus | 50.06770 | 15.43849 |\n",
       "| DLPFC        | 45.83574 | 16.49445 |\n",
       "| HIPPO        | 45.49527 | 16.41527 |\n",
       "\n"
      ],
      "text/plain": [
       "  Region       mean     sd      \n",
       "1 Caudate      49.12390 16.05379\n",
       "2 DentateGyrus 50.06770 15.43849\n",
       "3 DLPFC        45.83574 16.49445\n",
       "4 HIPPO        45.49527 16.41527"
      ]
     },
     "metadata": {},
     "output_type": "display_data"
    }
   ],
   "source": [
    "pheno %>% group_by(Region) %>% \n",
    "  summarise_at(vars(c(\"Age\")), list(mean = mean, sd = sd)) "
   ]
  },
  {
   "cell_type": "code",
   "execution_count": 17,
   "metadata": {
    "execution": {
     "iopub.execute_input": "2021-08-18T19:41:30.932246Z",
     "iopub.status.busy": "2021-08-18T19:41:30.929728Z",
     "iopub.status.idle": "2021-08-18T19:41:30.981258Z",
     "shell.execute_reply": "2021-08-18T19:41:30.979354Z"
    }
   },
   "outputs": [
    {
     "data": {
      "text/html": [
       "<table class=\"dataframe\">\n",
       "<caption>A grouped_df: 8 × 4</caption>\n",
       "<thead>\n",
       "\t<tr><th scope=col>Region</th><th scope=col>Race</th><th scope=col>mean</th><th scope=col>sd</th></tr>\n",
       "\t<tr><th scope=col>&lt;chr&gt;</th><th scope=col>&lt;chr&gt;</th><th scope=col>&lt;dbl&gt;</th><th scope=col>&lt;dbl&gt;</th></tr>\n",
       "</thead>\n",
       "<tbody>\n",
       "\t<tr><td>Caudate     </td><td>AA</td><td>48.81325</td><td>14.49676</td></tr>\n",
       "\t<tr><td>Caudate     </td><td>EA</td><td>49.45376</td><td>17.58900</td></tr>\n",
       "\t<tr><td>DentateGyrus</td><td>AA</td><td>50.18423</td><td>15.53374</td></tr>\n",
       "\t<tr><td>DentateGyrus</td><td>EA</td><td>49.95819</td><td>15.44210</td></tr>\n",
       "\t<tr><td>DLPFC       </td><td>AA</td><td>46.97896</td><td>15.34261</td></tr>\n",
       "\t<tr><td>DLPFC       </td><td>EA</td><td>44.49542</td><td>17.70090</td></tr>\n",
       "\t<tr><td>HIPPO       </td><td>AA</td><td>46.34080</td><td>15.61922</td></tr>\n",
       "\t<tr><td>HIPPO       </td><td>EA</td><td>44.50571</td><td>17.29140</td></tr>\n",
       "</tbody>\n",
       "</table>\n"
      ],
      "text/latex": [
       "A grouped\\_df: 8 × 4\n",
       "\\begin{tabular}{llll}\n",
       " Region & Race & mean & sd\\\\\n",
       " <chr> & <chr> & <dbl> & <dbl>\\\\\n",
       "\\hline\n",
       "\t Caudate      & AA & 48.81325 & 14.49676\\\\\n",
       "\t Caudate      & EA & 49.45376 & 17.58900\\\\\n",
       "\t DentateGyrus & AA & 50.18423 & 15.53374\\\\\n",
       "\t DentateGyrus & EA & 49.95819 & 15.44210\\\\\n",
       "\t DLPFC        & AA & 46.97896 & 15.34261\\\\\n",
       "\t DLPFC        & EA & 44.49542 & 17.70090\\\\\n",
       "\t HIPPO        & AA & 46.34080 & 15.61922\\\\\n",
       "\t HIPPO        & EA & 44.50571 & 17.29140\\\\\n",
       "\\end{tabular}\n"
      ],
      "text/markdown": [
       "\n",
       "A grouped_df: 8 × 4\n",
       "\n",
       "| Region &lt;chr&gt; | Race &lt;chr&gt; | mean &lt;dbl&gt; | sd &lt;dbl&gt; |\n",
       "|---|---|---|---|\n",
       "| Caudate      | AA | 48.81325 | 14.49676 |\n",
       "| Caudate      | EA | 49.45376 | 17.58900 |\n",
       "| DentateGyrus | AA | 50.18423 | 15.53374 |\n",
       "| DentateGyrus | EA | 49.95819 | 15.44210 |\n",
       "| DLPFC        | AA | 46.97896 | 15.34261 |\n",
       "| DLPFC        | EA | 44.49542 | 17.70090 |\n",
       "| HIPPO        | AA | 46.34080 | 15.61922 |\n",
       "| HIPPO        | EA | 44.50571 | 17.29140 |\n",
       "\n"
      ],
      "text/plain": [
       "  Region       Race mean     sd      \n",
       "1 Caudate      AA   48.81325 14.49676\n",
       "2 Caudate      EA   49.45376 17.58900\n",
       "3 DentateGyrus AA   50.18423 15.53374\n",
       "4 DentateGyrus EA   49.95819 15.44210\n",
       "5 DLPFC        AA   46.97896 15.34261\n",
       "6 DLPFC        EA   44.49542 17.70090\n",
       "7 HIPPO        AA   46.34080 15.61922\n",
       "8 HIPPO        EA   44.50571 17.29140"
      ]
     },
     "metadata": {},
     "output_type": "display_data"
    }
   ],
   "source": [
    "pheno %>% group_by(Region, Race) %>% \n",
    "  summarise_at(vars(c(\"Age\")), list(mean = mean, sd = sd)) "
   ]
  },
  {
   "cell_type": "code",
   "execution_count": 18,
   "metadata": {
    "execution": {
     "iopub.execute_input": "2021-08-18T19:41:30.988497Z",
     "iopub.status.busy": "2021-08-18T19:41:30.986209Z",
     "iopub.status.idle": "2021-08-18T19:41:31.041386Z",
     "shell.execute_reply": "2021-08-18T19:41:31.039682Z"
    }
   },
   "outputs": [
    {
     "data": {
      "text/html": [
       "<table class=\"dataframe\">\n",
       "<caption>A tibble: 4 × 3</caption>\n",
       "<thead>\n",
       "\t<tr><th scope=col>Region</th><th scope=col>mean</th><th scope=col>sd</th></tr>\n",
       "\t<tr><th scope=col>&lt;chr&gt;</th><th scope=col>&lt;dbl&gt;</th><th scope=col>&lt;dbl&gt;</th></tr>\n",
       "</thead>\n",
       "<tbody>\n",
       "\t<tr><td>Caudate     </td><td>7.861000</td><td>0.8648983</td></tr>\n",
       "\t<tr><td>DentateGyrus</td><td>5.208403</td><td>1.1871187</td></tr>\n",
       "\t<tr><td>DLPFC       </td><td>7.699471</td><td>0.9340876</td></tr>\n",
       "\t<tr><td>HIPPO       </td><td>7.616962</td><td>1.0311104</td></tr>\n",
       "</tbody>\n",
       "</table>\n"
      ],
      "text/latex": [
       "A tibble: 4 × 3\n",
       "\\begin{tabular}{lll}\n",
       " Region & mean & sd\\\\\n",
       " <chr> & <dbl> & <dbl>\\\\\n",
       "\\hline\n",
       "\t Caudate      & 7.861000 & 0.8648983\\\\\n",
       "\t DentateGyrus & 5.208403 & 1.1871187\\\\\n",
       "\t DLPFC        & 7.699471 & 0.9340876\\\\\n",
       "\t HIPPO        & 7.616962 & 1.0311104\\\\\n",
       "\\end{tabular}\n"
      ],
      "text/markdown": [
       "\n",
       "A tibble: 4 × 3\n",
       "\n",
       "| Region &lt;chr&gt; | mean &lt;dbl&gt; | sd &lt;dbl&gt; |\n",
       "|---|---|---|\n",
       "| Caudate      | 7.861000 | 0.8648983 |\n",
       "| DentateGyrus | 5.208403 | 1.1871187 |\n",
       "| DLPFC        | 7.699471 | 0.9340876 |\n",
       "| HIPPO        | 7.616962 | 1.0311104 |\n",
       "\n"
      ],
      "text/plain": [
       "  Region       mean     sd       \n",
       "1 Caudate      7.861000 0.8648983\n",
       "2 DentateGyrus 5.208403 1.1871187\n",
       "3 DLPFC        7.699471 0.9340876\n",
       "4 HIPPO        7.616962 1.0311104"
      ]
     },
     "metadata": {},
     "output_type": "display_data"
    }
   ],
   "source": [
    "pheno %>% filter(RIN != \"NA\") %>% mutate(\"RIN\"=as.numeric(unlist(RIN))) %>% \n",
    "    group_by(Region) %>% summarise_at(vars(c(\"RIN\")), list(mean = mean, sd = sd)) "
   ]
  },
  {
   "cell_type": "code",
   "execution_count": 19,
   "metadata": {
    "execution": {
     "iopub.execute_input": "2021-08-18T19:41:31.048486Z",
     "iopub.status.busy": "2021-08-18T19:41:31.046216Z",
     "iopub.status.idle": "2021-08-18T19:41:31.114530Z",
     "shell.execute_reply": "2021-08-18T19:41:31.112407Z"
    }
   },
   "outputs": [
    {
     "data": {
      "text/html": [
       "<table class=\"dataframe\">\n",
       "<caption>A grouped_df: 8 × 4</caption>\n",
       "<thead>\n",
       "\t<tr><th scope=col>Region</th><th scope=col>Race</th><th scope=col>mean</th><th scope=col>sd</th></tr>\n",
       "\t<tr><th scope=col>&lt;chr&gt;</th><th scope=col>&lt;chr&gt;</th><th scope=col>&lt;dbl&gt;</th><th scope=col>&lt;dbl&gt;</th></tr>\n",
       "</thead>\n",
       "<tbody>\n",
       "\t<tr><td>Caudate     </td><td>AA</td><td>7.859709</td><td>0.8416464</td></tr>\n",
       "\t<tr><td>Caudate     </td><td>EA</td><td>7.862371</td><td>0.8911055</td></tr>\n",
       "\t<tr><td>DentateGyrus</td><td>AA</td><td>5.206349</td><td>1.2062837</td></tr>\n",
       "\t<tr><td>DentateGyrus</td><td>EA</td><td>5.210714</td><td>1.1760765</td></tr>\n",
       "\t<tr><td>DLPFC       </td><td>AA</td><td>7.678922</td><td>0.9445184</td></tr>\n",
       "\t<tr><td>DLPFC       </td><td>EA</td><td>7.723563</td><td>0.9238440</td></tr>\n",
       "\t<tr><td>HIPPO       </td><td>AA</td><td>7.604225</td><td>1.0509344</td></tr>\n",
       "\t<tr><td>HIPPO       </td><td>EA</td><td>7.631868</td><td>1.0101014</td></tr>\n",
       "</tbody>\n",
       "</table>\n"
      ],
      "text/latex": [
       "A grouped\\_df: 8 × 4\n",
       "\\begin{tabular}{llll}\n",
       " Region & Race & mean & sd\\\\\n",
       " <chr> & <chr> & <dbl> & <dbl>\\\\\n",
       "\\hline\n",
       "\t Caudate      & AA & 7.859709 & 0.8416464\\\\\n",
       "\t Caudate      & EA & 7.862371 & 0.8911055\\\\\n",
       "\t DentateGyrus & AA & 5.206349 & 1.2062837\\\\\n",
       "\t DentateGyrus & EA & 5.210714 & 1.1760765\\\\\n",
       "\t DLPFC        & AA & 7.678922 & 0.9445184\\\\\n",
       "\t DLPFC        & EA & 7.723563 & 0.9238440\\\\\n",
       "\t HIPPO        & AA & 7.604225 & 1.0509344\\\\\n",
       "\t HIPPO        & EA & 7.631868 & 1.0101014\\\\\n",
       "\\end{tabular}\n"
      ],
      "text/markdown": [
       "\n",
       "A grouped_df: 8 × 4\n",
       "\n",
       "| Region &lt;chr&gt; | Race &lt;chr&gt; | mean &lt;dbl&gt; | sd &lt;dbl&gt; |\n",
       "|---|---|---|---|\n",
       "| Caudate      | AA | 7.859709 | 0.8416464 |\n",
       "| Caudate      | EA | 7.862371 | 0.8911055 |\n",
       "| DentateGyrus | AA | 5.206349 | 1.2062837 |\n",
       "| DentateGyrus | EA | 5.210714 | 1.1760765 |\n",
       "| DLPFC        | AA | 7.678922 | 0.9445184 |\n",
       "| DLPFC        | EA | 7.723563 | 0.9238440 |\n",
       "| HIPPO        | AA | 7.604225 | 1.0509344 |\n",
       "| HIPPO        | EA | 7.631868 | 1.0101014 |\n",
       "\n"
      ],
      "text/plain": [
       "  Region       Race mean     sd       \n",
       "1 Caudate      AA   7.859709 0.8416464\n",
       "2 Caudate      EA   7.862371 0.8911055\n",
       "3 DentateGyrus AA   5.206349 1.2062837\n",
       "4 DentateGyrus EA   5.210714 1.1760765\n",
       "5 DLPFC        AA   7.678922 0.9445184\n",
       "6 DLPFC        EA   7.723563 0.9238440\n",
       "7 HIPPO        AA   7.604225 1.0509344\n",
       "8 HIPPO        EA   7.631868 1.0101014"
      ]
     },
     "metadata": {},
     "output_type": "display_data"
    }
   ],
   "source": [
    "pheno %>% filter(RIN != \"NA\") %>% mutate(\"RIN\"=as.numeric(unlist(RIN))) %>% \n",
    "    group_by(Region, Race) %>% summarise_at(vars(c(\"RIN\")), list(mean = mean, sd = sd)) "
   ]
  },
  {
   "cell_type": "markdown",
   "metadata": {},
   "source": [
    "## Adult individuals for expression related analysis"
   ]
  },
  {
   "cell_type": "code",
   "execution_count": 20,
   "metadata": {
    "execution": {
     "iopub.execute_input": "2021-08-18T19:41:31.121672Z",
     "iopub.status.busy": "2021-08-18T19:41:31.119460Z",
     "iopub.status.idle": "2021-08-18T19:41:31.148025Z",
     "shell.execute_reply": "2021-08-18T19:41:31.146311Z"
    }
   },
   "outputs": [
    {
     "data": {
      "text/html": [
       "<style>\n",
       ".list-inline {list-style: none; margin:0; padding: 0}\n",
       ".list-inline>li {display: inline-block}\n",
       ".list-inline>li:not(:last-child)::after {content: \"\\00b7\"; padding: 0 .5ex}\n",
       "</style>\n",
       "<ol class=list-inline><li>785</li><li>21</li></ol>\n"
      ],
      "text/latex": [
       "\\begin{enumerate*}\n",
       "\\item 785\n",
       "\\item 21\n",
       "\\end{enumerate*}\n"
      ],
      "text/markdown": [
       "1. 785\n",
       "2. 21\n",
       "\n",
       "\n"
      ],
      "text/plain": [
       "[1] 785  21"
      ]
     },
     "metadata": {},
     "output_type": "display_data"
    }
   ],
   "source": [
    "pheno = pheno %>% filter(Age > 17, Dx == \"Control\")\n",
    "pheno %>% dim"
   ]
  },
  {
   "cell_type": "code",
   "execution_count": 21,
   "metadata": {
    "execution": {
     "iopub.execute_input": "2021-08-18T19:41:31.154147Z",
     "iopub.status.busy": "2021-08-18T19:41:31.152247Z",
     "iopub.status.idle": "2021-08-18T19:41:31.170769Z",
     "shell.execute_reply": "2021-08-18T19:41:31.169048Z"
    }
   },
   "outputs": [
    {
     "name": "stdout",
     "output_type": "stream",
     "text": [
      "[1] \"There are 292 unique BrNum.\"\n"
     ]
    }
   ],
   "source": [
    "print(paste(\"There are\", unique(pheno$BrNum) %>% length, \"unique BrNum.\"))"
   ]
  },
  {
   "cell_type": "code",
   "execution_count": 22,
   "metadata": {
    "execution": {
     "iopub.execute_input": "2021-08-18T19:41:31.176883Z",
     "iopub.status.busy": "2021-08-18T19:41:31.174972Z",
     "iopub.status.idle": "2021-08-18T19:41:31.225826Z",
     "shell.execute_reply": "2021-08-18T19:41:31.224307Z"
    }
   },
   "outputs": [
    {
     "data": {
      "text/html": [
       "<table class=\"dataframe\">\n",
       "<caption>A grouped_df: 4 × 2</caption>\n",
       "<thead>\n",
       "\t<tr><th scope=col>Region</th><th scope=col>n</th></tr>\n",
       "\t<tr><th scope=col>&lt;fct&gt;</th><th scope=col>&lt;int&gt;</th></tr>\n",
       "</thead>\n",
       "<tbody>\n",
       "\t<tr><td>Caudate     </td><td>240</td></tr>\n",
       "\t<tr><td>DentateGyrus</td><td> 90</td></tr>\n",
       "\t<tr><td>DLPFC       </td><td>212</td></tr>\n",
       "\t<tr><td>HIPPO       </td><td>243</td></tr>\n",
       "</tbody>\n",
       "</table>\n"
      ],
      "text/latex": [
       "A grouped\\_df: 4 × 2\n",
       "\\begin{tabular}{ll}\n",
       " Region & n\\\\\n",
       " <fct> & <int>\\\\\n",
       "\\hline\n",
       "\t Caudate      & 240\\\\\n",
       "\t DentateGyrus &  90\\\\\n",
       "\t DLPFC        & 212\\\\\n",
       "\t HIPPO        & 243\\\\\n",
       "\\end{tabular}\n"
      ],
      "text/markdown": [
       "\n",
       "A grouped_df: 4 × 2\n",
       "\n",
       "| Region &lt;fct&gt; | n &lt;int&gt; |\n",
       "|---|---|\n",
       "| Caudate      | 240 |\n",
       "| DentateGyrus |  90 |\n",
       "| DLPFC        | 212 |\n",
       "| HIPPO        | 243 |\n",
       "\n"
      ],
      "text/plain": [
       "  Region       n  \n",
       "1 Caudate      240\n",
       "2 DentateGyrus  90\n",
       "3 DLPFC        212\n",
       "4 HIPPO        243"
      ]
     },
     "metadata": {},
     "output_type": "display_data"
    }
   ],
   "source": [
    "pheno %>% select(BrNum, Region) %>% distinct %>%\n",
    "    mutate_if(is.character, as.factor) %>% \n",
    "    group_by(Region) %>% count()"
   ]
  },
  {
   "cell_type": "code",
   "execution_count": 23,
   "metadata": {
    "execution": {
     "iopub.execute_input": "2021-08-18T19:41:31.232562Z",
     "iopub.status.busy": "2021-08-18T19:41:31.230459Z",
     "iopub.status.idle": "2021-08-18T19:41:31.280481Z",
     "shell.execute_reply": "2021-08-18T19:41:31.278411Z"
    }
   },
   "outputs": [
    {
     "data": {
      "text/html": [
       "<table class=\"dataframe\">\n",
       "<caption>A grouped_df: 2 × 2</caption>\n",
       "<thead>\n",
       "\t<tr><th scope=col>Race</th><th scope=col>n</th></tr>\n",
       "\t<tr><th scope=col>&lt;fct&gt;</th><th scope=col>&lt;int&gt;</th></tr>\n",
       "</thead>\n",
       "<tbody>\n",
       "\t<tr><td>AA</td><td>151</td></tr>\n",
       "\t<tr><td>EA</td><td>141</td></tr>\n",
       "</tbody>\n",
       "</table>\n"
      ],
      "text/latex": [
       "A grouped\\_df: 2 × 2\n",
       "\\begin{tabular}{ll}\n",
       " Race & n\\\\\n",
       " <fct> & <int>\\\\\n",
       "\\hline\n",
       "\t AA & 151\\\\\n",
       "\t EA & 141\\\\\n",
       "\\end{tabular}\n"
      ],
      "text/markdown": [
       "\n",
       "A grouped_df: 2 × 2\n",
       "\n",
       "| Race &lt;fct&gt; | n &lt;int&gt; |\n",
       "|---|---|\n",
       "| AA | 151 |\n",
       "| EA | 141 |\n",
       "\n"
      ],
      "text/plain": [
       "  Race n  \n",
       "1 AA   151\n",
       "2 EA   141"
      ]
     },
     "metadata": {},
     "output_type": "display_data"
    }
   ],
   "source": [
    "pheno %>% select(BrNum, Race) %>% distinct %>%\n",
    "    mutate_if(is.character, as.factor) %>% \n",
    "    group_by(Race) %>% count()"
   ]
  },
  {
   "cell_type": "code",
   "execution_count": 24,
   "metadata": {
    "execution": {
     "iopub.execute_input": "2021-08-18T19:41:31.286951Z",
     "iopub.status.busy": "2021-08-18T19:41:31.284940Z",
     "iopub.status.idle": "2021-08-18T19:41:31.340783Z",
     "shell.execute_reply": "2021-08-18T19:41:31.338683Z"
    }
   },
   "outputs": [
    {
     "data": {
      "text/html": [
       "<table class=\"dataframe\">\n",
       "<caption>A grouped_df: 8 × 3</caption>\n",
       "<thead>\n",
       "\t<tr><th scope=col>Region</th><th scope=col>Race</th><th scope=col>n</th></tr>\n",
       "\t<tr><th scope=col>&lt;fct&gt;</th><th scope=col>&lt;fct&gt;</th><th scope=col>&lt;int&gt;</th></tr>\n",
       "</thead>\n",
       "<tbody>\n",
       "\t<tr><td>Caudate     </td><td>AA</td><td>122</td></tr>\n",
       "\t<tr><td>Caudate     </td><td>EA</td><td>118</td></tr>\n",
       "\t<tr><td>DentateGyrus</td><td>AA</td><td> 47</td></tr>\n",
       "\t<tr><td>DentateGyrus</td><td>EA</td><td> 43</td></tr>\n",
       "\t<tr><td>DLPFC       </td><td>AA</td><td>123</td></tr>\n",
       "\t<tr><td>DLPFC       </td><td>EA</td><td> 89</td></tr>\n",
       "\t<tr><td>HIPPO       </td><td>AA</td><td>133</td></tr>\n",
       "\t<tr><td>HIPPO       </td><td>EA</td><td>110</td></tr>\n",
       "</tbody>\n",
       "</table>\n"
      ],
      "text/latex": [
       "A grouped\\_df: 8 × 3\n",
       "\\begin{tabular}{lll}\n",
       " Region & Race & n\\\\\n",
       " <fct> & <fct> & <int>\\\\\n",
       "\\hline\n",
       "\t Caudate      & AA & 122\\\\\n",
       "\t Caudate      & EA & 118\\\\\n",
       "\t DentateGyrus & AA &  47\\\\\n",
       "\t DentateGyrus & EA &  43\\\\\n",
       "\t DLPFC        & AA & 123\\\\\n",
       "\t DLPFC        & EA &  89\\\\\n",
       "\t HIPPO        & AA & 133\\\\\n",
       "\t HIPPO        & EA & 110\\\\\n",
       "\\end{tabular}\n"
      ],
      "text/markdown": [
       "\n",
       "A grouped_df: 8 × 3\n",
       "\n",
       "| Region &lt;fct&gt; | Race &lt;fct&gt; | n &lt;int&gt; |\n",
       "|---|---|---|\n",
       "| Caudate      | AA | 122 |\n",
       "| Caudate      | EA | 118 |\n",
       "| DentateGyrus | AA |  47 |\n",
       "| DentateGyrus | EA |  43 |\n",
       "| DLPFC        | AA | 123 |\n",
       "| DLPFC        | EA |  89 |\n",
       "| HIPPO        | AA | 133 |\n",
       "| HIPPO        | EA | 110 |\n",
       "\n"
      ],
      "text/plain": [
       "  Region       Race n  \n",
       "1 Caudate      AA   122\n",
       "2 Caudate      EA   118\n",
       "3 DentateGyrus AA    47\n",
       "4 DentateGyrus EA    43\n",
       "5 DLPFC        AA   123\n",
       "6 DLPFC        EA    89\n",
       "7 HIPPO        AA   133\n",
       "8 HIPPO        EA   110"
      ]
     },
     "metadata": {},
     "output_type": "display_data"
    }
   ],
   "source": [
    "pheno %>% select(BrNum, Race, Region) %>% distinct %>%\n",
    "    mutate_if(is.character, as.factor) %>% \n",
    "    group_by(Region, Race) %>% count()"
   ]
  },
  {
   "cell_type": "code",
   "execution_count": 25,
   "metadata": {
    "execution": {
     "iopub.execute_input": "2021-08-18T19:41:31.347691Z",
     "iopub.status.busy": "2021-08-18T19:41:31.345457Z",
     "iopub.status.idle": "2021-08-18T19:41:31.402277Z",
     "shell.execute_reply": "2021-08-18T19:41:31.400572Z"
    }
   },
   "outputs": [
    {
     "data": {
      "text/html": [
       "<table class=\"dataframe\">\n",
       "<caption>A grouped_df: 8 × 3</caption>\n",
       "<thead>\n",
       "\t<tr><th scope=col>Region</th><th scope=col>Sex</th><th scope=col>n</th></tr>\n",
       "\t<tr><th scope=col>&lt;fct&gt;</th><th scope=col>&lt;fct&gt;</th><th scope=col>&lt;int&gt;</th></tr>\n",
       "</thead>\n",
       "<tbody>\n",
       "\t<tr><td>Caudate     </td><td>F</td><td> 71</td></tr>\n",
       "\t<tr><td>Caudate     </td><td>M</td><td>169</td></tr>\n",
       "\t<tr><td>DentateGyrus</td><td>F</td><td> 26</td></tr>\n",
       "\t<tr><td>DentateGyrus</td><td>M</td><td> 64</td></tr>\n",
       "\t<tr><td>DLPFC       </td><td>F</td><td> 66</td></tr>\n",
       "\t<tr><td>DLPFC       </td><td>M</td><td>146</td></tr>\n",
       "\t<tr><td>HIPPO       </td><td>F</td><td> 74</td></tr>\n",
       "\t<tr><td>HIPPO       </td><td>M</td><td>169</td></tr>\n",
       "</tbody>\n",
       "</table>\n"
      ],
      "text/latex": [
       "A grouped\\_df: 8 × 3\n",
       "\\begin{tabular}{lll}\n",
       " Region & Sex & n\\\\\n",
       " <fct> & <fct> & <int>\\\\\n",
       "\\hline\n",
       "\t Caudate      & F &  71\\\\\n",
       "\t Caudate      & M & 169\\\\\n",
       "\t DentateGyrus & F &  26\\\\\n",
       "\t DentateGyrus & M &  64\\\\\n",
       "\t DLPFC        & F &  66\\\\\n",
       "\t DLPFC        & M & 146\\\\\n",
       "\t HIPPO        & F &  74\\\\\n",
       "\t HIPPO        & M & 169\\\\\n",
       "\\end{tabular}\n"
      ],
      "text/markdown": [
       "\n",
       "A grouped_df: 8 × 3\n",
       "\n",
       "| Region &lt;fct&gt; | Sex &lt;fct&gt; | n &lt;int&gt; |\n",
       "|---|---|---|\n",
       "| Caudate      | F |  71 |\n",
       "| Caudate      | M | 169 |\n",
       "| DentateGyrus | F |  26 |\n",
       "| DentateGyrus | M |  64 |\n",
       "| DLPFC        | F |  66 |\n",
       "| DLPFC        | M | 146 |\n",
       "| HIPPO        | F |  74 |\n",
       "| HIPPO        | M | 169 |\n",
       "\n"
      ],
      "text/plain": [
       "  Region       Sex n  \n",
       "1 Caudate      F    71\n",
       "2 Caudate      M   169\n",
       "3 DentateGyrus F    26\n",
       "4 DentateGyrus M    64\n",
       "5 DLPFC        F    66\n",
       "6 DLPFC        M   146\n",
       "7 HIPPO        F    74\n",
       "8 HIPPO        M   169"
      ]
     },
     "metadata": {},
     "output_type": "display_data"
    }
   ],
   "source": [
    "pheno %>% select(BrNum, Sex, Region) %>% distinct %>%\n",
    "    mutate_if(is.character, as.factor) %>% \n",
    "    group_by(Region, Sex) %>% count()"
   ]
  },
  {
   "cell_type": "code",
   "execution_count": 26,
   "metadata": {
    "execution": {
     "iopub.execute_input": "2021-08-18T19:41:31.408580Z",
     "iopub.status.busy": "2021-08-18T19:41:31.406677Z",
     "iopub.status.idle": "2021-08-18T19:41:31.448171Z",
     "shell.execute_reply": "2021-08-18T19:41:31.446060Z"
    }
   },
   "outputs": [
    {
     "data": {
      "text/html": [
       "<table class=\"dataframe\">\n",
       "<caption>A tibble: 4 × 3</caption>\n",
       "<thead>\n",
       "\t<tr><th scope=col>Region</th><th scope=col>mean</th><th scope=col>sd</th></tr>\n",
       "\t<tr><th scope=col>&lt;chr&gt;</th><th scope=col>&lt;dbl&gt;</th><th scope=col>&lt;dbl&gt;</th></tr>\n",
       "</thead>\n",
       "<tbody>\n",
       "\t<tr><td>Caudate     </td><td>48.31150</td><td>15.84692</td></tr>\n",
       "\t<tr><td>DentateGyrus</td><td>47.88311</td><td>15.02380</td></tr>\n",
       "\t<tr><td>DLPFC       </td><td>45.16991</td><td>14.76717</td></tr>\n",
       "\t<tr><td>HIPPO       </td><td>44.56724</td><td>14.73045</td></tr>\n",
       "</tbody>\n",
       "</table>\n"
      ],
      "text/latex": [
       "A tibble: 4 × 3\n",
       "\\begin{tabular}{lll}\n",
       " Region & mean & sd\\\\\n",
       " <chr> & <dbl> & <dbl>\\\\\n",
       "\\hline\n",
       "\t Caudate      & 48.31150 & 15.84692\\\\\n",
       "\t DentateGyrus & 47.88311 & 15.02380\\\\\n",
       "\t DLPFC        & 45.16991 & 14.76717\\\\\n",
       "\t HIPPO        & 44.56724 & 14.73045\\\\\n",
       "\\end{tabular}\n"
      ],
      "text/markdown": [
       "\n",
       "A tibble: 4 × 3\n",
       "\n",
       "| Region &lt;chr&gt; | mean &lt;dbl&gt; | sd &lt;dbl&gt; |\n",
       "|---|---|---|\n",
       "| Caudate      | 48.31150 | 15.84692 |\n",
       "| DentateGyrus | 47.88311 | 15.02380 |\n",
       "| DLPFC        | 45.16991 | 14.76717 |\n",
       "| HIPPO        | 44.56724 | 14.73045 |\n",
       "\n"
      ],
      "text/plain": [
       "  Region       mean     sd      \n",
       "1 Caudate      48.31150 15.84692\n",
       "2 DentateGyrus 47.88311 15.02380\n",
       "3 DLPFC        45.16991 14.76717\n",
       "4 HIPPO        44.56724 14.73045"
      ]
     },
     "metadata": {},
     "output_type": "display_data"
    }
   ],
   "source": [
    "pheno %>% group_by(Region) %>% \n",
    "  summarise_at(vars(c(\"Age\")), list(mean = mean, sd = sd)) "
   ]
  },
  {
   "cell_type": "code",
   "execution_count": 27,
   "metadata": {
    "execution": {
     "iopub.execute_input": "2021-08-18T19:41:31.454881Z",
     "iopub.status.busy": "2021-08-18T19:41:31.452507Z",
     "iopub.status.idle": "2021-08-18T19:41:31.568907Z",
     "shell.execute_reply": "2021-08-18T19:41:31.566302Z"
    }
   },
   "outputs": [
    {
     "data": {
      "text/html": [
       "<table class=\"dataframe\">\n",
       "<caption>A grouped_df: 8 × 4</caption>\n",
       "<thead>\n",
       "\t<tr><th scope=col>Region</th><th scope=col>Race</th><th scope=col>mean</th><th scope=col>sd</th></tr>\n",
       "\t<tr><th scope=col>&lt;chr&gt;</th><th scope=col>&lt;chr&gt;</th><th scope=col>&lt;dbl&gt;</th><th scope=col>&lt;dbl&gt;</th></tr>\n",
       "</thead>\n",
       "<tbody>\n",
       "\t<tr><td>Caudate     </td><td>AA</td><td>45.63770</td><td>14.72979</td></tr>\n",
       "\t<tr><td>Caudate     </td><td>EA</td><td>51.07593</td><td>16.53588</td></tr>\n",
       "\t<tr><td>DentateGyrus</td><td>AA</td><td>45.85043</td><td>16.32827</td></tr>\n",
       "\t<tr><td>DentateGyrus</td><td>EA</td><td>50.10488</td><td>13.28980</td></tr>\n",
       "\t<tr><td>DLPFC       </td><td>AA</td><td>44.12511</td><td>14.97092</td></tr>\n",
       "\t<tr><td>DLPFC       </td><td>EA</td><td>46.61386</td><td>14.43996</td></tr>\n",
       "\t<tr><td>HIPPO       </td><td>AA</td><td>43.30015</td><td>14.73609</td></tr>\n",
       "\t<tr><td>HIPPO       </td><td>EA</td><td>46.09927</td><td>14.64404</td></tr>\n",
       "</tbody>\n",
       "</table>\n"
      ],
      "text/latex": [
       "A grouped\\_df: 8 × 4\n",
       "\\begin{tabular}{llll}\n",
       " Region & Race & mean & sd\\\\\n",
       " <chr> & <chr> & <dbl> & <dbl>\\\\\n",
       "\\hline\n",
       "\t Caudate      & AA & 45.63770 & 14.72979\\\\\n",
       "\t Caudate      & EA & 51.07593 & 16.53588\\\\\n",
       "\t DentateGyrus & AA & 45.85043 & 16.32827\\\\\n",
       "\t DentateGyrus & EA & 50.10488 & 13.28980\\\\\n",
       "\t DLPFC        & AA & 44.12511 & 14.97092\\\\\n",
       "\t DLPFC        & EA & 46.61386 & 14.43996\\\\\n",
       "\t HIPPO        & AA & 43.30015 & 14.73609\\\\\n",
       "\t HIPPO        & EA & 46.09927 & 14.64404\\\\\n",
       "\\end{tabular}\n"
      ],
      "text/markdown": [
       "\n",
       "A grouped_df: 8 × 4\n",
       "\n",
       "| Region &lt;chr&gt; | Race &lt;chr&gt; | mean &lt;dbl&gt; | sd &lt;dbl&gt; |\n",
       "|---|---|---|---|\n",
       "| Caudate      | AA | 45.63770 | 14.72979 |\n",
       "| Caudate      | EA | 51.07593 | 16.53588 |\n",
       "| DentateGyrus | AA | 45.85043 | 16.32827 |\n",
       "| DentateGyrus | EA | 50.10488 | 13.28980 |\n",
       "| DLPFC        | AA | 44.12511 | 14.97092 |\n",
       "| DLPFC        | EA | 46.61386 | 14.43996 |\n",
       "| HIPPO        | AA | 43.30015 | 14.73609 |\n",
       "| HIPPO        | EA | 46.09927 | 14.64404 |\n",
       "\n"
      ],
      "text/plain": [
       "  Region       Race mean     sd      \n",
       "1 Caudate      AA   45.63770 14.72979\n",
       "2 Caudate      EA   51.07593 16.53588\n",
       "3 DentateGyrus AA   45.85043 16.32827\n",
       "4 DentateGyrus EA   50.10488 13.28980\n",
       "5 DLPFC        AA   44.12511 14.97092\n",
       "6 DLPFC        EA   46.61386 14.43996\n",
       "7 HIPPO        AA   43.30015 14.73609\n",
       "8 HIPPO        EA   46.09927 14.64404"
      ]
     },
     "metadata": {},
     "output_type": "display_data"
    }
   ],
   "source": [
    "pheno %>% group_by(Region, Race) %>% \n",
    "  summarise_at(vars(c(\"Age\")), list(mean = mean, sd = sd)) "
   ]
  },
  {
   "cell_type": "code",
   "execution_count": 28,
   "metadata": {
    "execution": {
     "iopub.execute_input": "2021-08-18T19:41:31.575297Z",
     "iopub.status.busy": "2021-08-18T19:41:31.573343Z",
     "iopub.status.idle": "2021-08-18T19:41:31.620072Z",
     "shell.execute_reply": "2021-08-18T19:41:31.618536Z"
    }
   },
   "outputs": [
    {
     "data": {
      "text/html": [
       "<table class=\"dataframe\">\n",
       "<caption>A tibble: 4 × 3</caption>\n",
       "<thead>\n",
       "\t<tr><th scope=col>Region</th><th scope=col>mean</th><th scope=col>sd</th></tr>\n",
       "\t<tr><th scope=col>&lt;chr&gt;</th><th scope=col>&lt;dbl&gt;</th><th scope=col>&lt;dbl&gt;</th></tr>\n",
       "</thead>\n",
       "<tbody>\n",
       "\t<tr><td>Caudate     </td><td>7.850000</td><td>0.7956997</td></tr>\n",
       "\t<tr><td>DentateGyrus</td><td>5.315152</td><td>1.2186048</td></tr>\n",
       "\t<tr><td>DLPFC       </td><td>7.699057</td><td>0.8803807</td></tr>\n",
       "\t<tr><td>HIPPO       </td><td>7.735391</td><td>0.9668378</td></tr>\n",
       "</tbody>\n",
       "</table>\n"
      ],
      "text/latex": [
       "A tibble: 4 × 3\n",
       "\\begin{tabular}{lll}\n",
       " Region & mean & sd\\\\\n",
       " <chr> & <dbl> & <dbl>\\\\\n",
       "\\hline\n",
       "\t Caudate      & 7.850000 & 0.7956997\\\\\n",
       "\t DentateGyrus & 5.315152 & 1.2186048\\\\\n",
       "\t DLPFC        & 7.699057 & 0.8803807\\\\\n",
       "\t HIPPO        & 7.735391 & 0.9668378\\\\\n",
       "\\end{tabular}\n"
      ],
      "text/markdown": [
       "\n",
       "A tibble: 4 × 3\n",
       "\n",
       "| Region &lt;chr&gt; | mean &lt;dbl&gt; | sd &lt;dbl&gt; |\n",
       "|---|---|---|\n",
       "| Caudate      | 7.850000 | 0.7956997 |\n",
       "| DentateGyrus | 5.315152 | 1.2186048 |\n",
       "| DLPFC        | 7.699057 | 0.8803807 |\n",
       "| HIPPO        | 7.735391 | 0.9668378 |\n",
       "\n"
      ],
      "text/plain": [
       "  Region       mean     sd       \n",
       "1 Caudate      7.850000 0.7956997\n",
       "2 DentateGyrus 5.315152 1.2186048\n",
       "3 DLPFC        7.699057 0.8803807\n",
       "4 HIPPO        7.735391 0.9668378"
      ]
     },
     "metadata": {},
     "output_type": "display_data"
    }
   ],
   "source": [
    "pheno %>% filter(RIN != \"NA\") %>% mutate(\"RIN\"=as.numeric(unlist(RIN))) %>% \n",
    "    group_by(Region) %>% summarise_at(vars(c(\"RIN\")), list(mean = mean, sd = sd)) "
   ]
  },
  {
   "cell_type": "code",
   "execution_count": 29,
   "metadata": {
    "execution": {
     "iopub.execute_input": "2021-08-18T19:41:31.626049Z",
     "iopub.status.busy": "2021-08-18T19:41:31.624291Z",
     "iopub.status.idle": "2021-08-18T19:41:31.679576Z",
     "shell.execute_reply": "2021-08-18T19:41:31.677942Z"
    }
   },
   "outputs": [
    {
     "data": {
      "text/html": [
       "<table class=\"dataframe\">\n",
       "<caption>A grouped_df: 8 × 4</caption>\n",
       "<thead>\n",
       "\t<tr><th scope=col>Region</th><th scope=col>Race</th><th scope=col>mean</th><th scope=col>sd</th></tr>\n",
       "\t<tr><th scope=col>&lt;chr&gt;</th><th scope=col>&lt;chr&gt;</th><th scope=col>&lt;dbl&gt;</th><th scope=col>&lt;dbl&gt;</th></tr>\n",
       "</thead>\n",
       "<tbody>\n",
       "\t<tr><td>Caudate     </td><td>AA</td><td>7.829508</td><td>0.7993477</td></tr>\n",
       "\t<tr><td>Caudate     </td><td>EA</td><td>7.871186</td><td>0.7947587</td></tr>\n",
       "\t<tr><td>DentateGyrus</td><td>AA</td><td>5.447368</td><td>1.2173824</td></tr>\n",
       "\t<tr><td>DentateGyrus</td><td>EA</td><td>5.135714</td><td>1.2190507</td></tr>\n",
       "\t<tr><td>DLPFC       </td><td>AA</td><td>7.696748</td><td>0.8851169</td></tr>\n",
       "\t<tr><td>DLPFC       </td><td>EA</td><td>7.702247</td><td>0.8787876</td></tr>\n",
       "\t<tr><td>HIPPO       </td><td>AA</td><td>7.715038</td><td>0.9754173</td></tr>\n",
       "\t<tr><td>HIPPO       </td><td>EA</td><td>7.760000</td><td>0.9602370</td></tr>\n",
       "</tbody>\n",
       "</table>\n"
      ],
      "text/latex": [
       "A grouped\\_df: 8 × 4\n",
       "\\begin{tabular}{llll}\n",
       " Region & Race & mean & sd\\\\\n",
       " <chr> & <chr> & <dbl> & <dbl>\\\\\n",
       "\\hline\n",
       "\t Caudate      & AA & 7.829508 & 0.7993477\\\\\n",
       "\t Caudate      & EA & 7.871186 & 0.7947587\\\\\n",
       "\t DentateGyrus & AA & 5.447368 & 1.2173824\\\\\n",
       "\t DentateGyrus & EA & 5.135714 & 1.2190507\\\\\n",
       "\t DLPFC        & AA & 7.696748 & 0.8851169\\\\\n",
       "\t DLPFC        & EA & 7.702247 & 0.8787876\\\\\n",
       "\t HIPPO        & AA & 7.715038 & 0.9754173\\\\\n",
       "\t HIPPO        & EA & 7.760000 & 0.9602370\\\\\n",
       "\\end{tabular}\n"
      ],
      "text/markdown": [
       "\n",
       "A grouped_df: 8 × 4\n",
       "\n",
       "| Region &lt;chr&gt; | Race &lt;chr&gt; | mean &lt;dbl&gt; | sd &lt;dbl&gt; |\n",
       "|---|---|---|---|\n",
       "| Caudate      | AA | 7.829508 | 0.7993477 |\n",
       "| Caudate      | EA | 7.871186 | 0.7947587 |\n",
       "| DentateGyrus | AA | 5.447368 | 1.2173824 |\n",
       "| DentateGyrus | EA | 5.135714 | 1.2190507 |\n",
       "| DLPFC        | AA | 7.696748 | 0.8851169 |\n",
       "| DLPFC        | EA | 7.702247 | 0.8787876 |\n",
       "| HIPPO        | AA | 7.715038 | 0.9754173 |\n",
       "| HIPPO        | EA | 7.760000 | 0.9602370 |\n",
       "\n"
      ],
      "text/plain": [
       "  Region       Race mean     sd       \n",
       "1 Caudate      AA   7.829508 0.7993477\n",
       "2 Caudate      EA   7.871186 0.7947587\n",
       "3 DentateGyrus AA   5.447368 1.2173824\n",
       "4 DentateGyrus EA   5.135714 1.2190507\n",
       "5 DLPFC        AA   7.696748 0.8851169\n",
       "6 DLPFC        EA   7.702247 0.8787876\n",
       "7 HIPPO        AA   7.715038 0.9754173\n",
       "8 HIPPO        EA   7.760000 0.9602370"
      ]
     },
     "metadata": {},
     "output_type": "display_data"
    }
   ],
   "source": [
    "pheno %>% filter(RIN != \"NA\") %>% mutate(\"RIN\"=as.numeric(unlist(RIN))) %>% \n",
    "    group_by(Region, Race) %>% summarise_at(vars(c(\"RIN\")), list(mean = mean, sd = sd)) "
   ]
  },
  {
   "cell_type": "markdown",
   "metadata": {},
   "source": [
    "## Reproducibility Information"
   ]
  },
  {
   "cell_type": "code",
   "execution_count": 30,
   "metadata": {
    "execution": {
     "iopub.execute_input": "2021-08-18T19:41:31.686098Z",
     "iopub.status.busy": "2021-08-18T19:41:31.683965Z",
     "iopub.status.idle": "2021-08-18T19:41:31.927228Z",
     "shell.execute_reply": "2021-08-18T19:41:31.925318Z"
    }
   },
   "outputs": [
    {
     "data": {
      "text/plain": [
       "[1] \"2021-08-18 15:41:31 EDT\""
      ]
     },
     "metadata": {},
     "output_type": "display_data"
    },
    {
     "data": {
      "text/plain": [
       "   user  system elapsed \n",
       " 19.608   1.758  21.748 "
      ]
     },
     "metadata": {},
     "output_type": "display_data"
    },
    {
     "data": {
      "text/plain": [
       "─ Session info ───────────────────────────────────────────────────────────────────────────────────────────────────────\n",
       " setting  value                       \n",
       " version  R version 4.0.3 (2020-10-10)\n",
       " os       Arch Linux                  \n",
       " system   x86_64, linux-gnu           \n",
       " ui       X11                         \n",
       " language (EN)                        \n",
       " collate  en_US.UTF-8                 \n",
       " ctype    en_US.UTF-8                 \n",
       " tz       America/New_York            \n",
       " date     2021-08-18                  \n",
       "\n",
       "─ Packages ───────────────────────────────────────────────────────────────────────────────────────────────────────────\n",
       " package              * version  date       lib source        \n",
       " assertthat             0.2.1    2019-03-21 [1] CRAN (R 4.0.2)\n",
       " backports              1.2.1    2020-12-09 [1] CRAN (R 4.0.2)\n",
       " base64enc              0.1-3    2015-07-28 [1] CRAN (R 4.0.2)\n",
       " Biobase              * 2.50.0   2020-10-27 [1] Bioconductor  \n",
       " BiocGenerics         * 0.36.1   2021-04-16 [1] Bioconductor  \n",
       " bitops                 1.0-7    2021-04-24 [1] CRAN (R 4.0.3)\n",
       " broom                  0.7.8    2021-06-24 [1] CRAN (R 4.0.3)\n",
       " cellranger             1.1.0    2016-07-27 [1] CRAN (R 4.0.2)\n",
       " cli                    3.0.0    2021-06-30 [1] CRAN (R 4.0.3)\n",
       " colorspace             2.0-2    2021-06-24 [1] CRAN (R 4.0.3)\n",
       " crayon                 1.4.1    2021-02-08 [1] CRAN (R 4.0.3)\n",
       " data.table             1.14.0   2021-02-21 [1] CRAN (R 4.0.3)\n",
       " DBI                    1.1.1    2021-01-15 [1] CRAN (R 4.0.2)\n",
       " dbplyr                 2.1.1    2021-04-06 [1] CRAN (R 4.0.3)\n",
       " DelayedArray           0.16.3   2021-03-24 [1] Bioconductor  \n",
       " digest                 0.6.27   2020-10-24 [1] CRAN (R 4.0.2)\n",
       " dplyr                * 1.0.7    2021-06-18 [1] CRAN (R 4.0.3)\n",
       " ellipsis               0.3.2    2021-04-29 [1] CRAN (R 4.0.3)\n",
       " evaluate               0.14     2019-05-28 [1] CRAN (R 4.0.2)\n",
       " fansi                  0.5.0    2021-05-25 [1] CRAN (R 4.0.3)\n",
       " forcats              * 0.5.1    2021-01-27 [1] CRAN (R 4.0.2)\n",
       " fs                     1.5.0    2020-07-31 [1] CRAN (R 4.0.2)\n",
       " generics               0.1.0    2020-10-31 [1] CRAN (R 4.0.2)\n",
       " GenomeInfoDb         * 1.26.7   2021-04-08 [1] Bioconductor  \n",
       " GenomeInfoDbData       1.2.4    2021-02-02 [1] Bioconductor  \n",
       " GenomicRanges        * 1.42.0   2020-10-27 [1] Bioconductor  \n",
       " ggplot2              * 3.3.5    2021-06-25 [1] CRAN (R 4.0.3)\n",
       " glue                   1.4.2    2020-08-27 [1] CRAN (R 4.0.2)\n",
       " gtable                 0.3.0    2019-03-25 [1] CRAN (R 4.0.2)\n",
       " haven                  2.4.1    2021-04-23 [1] CRAN (R 4.0.3)\n",
       " hms                    1.1.0    2021-05-17 [1] CRAN (R 4.0.3)\n",
       " htmltools              0.5.1.1  2021-01-22 [1] CRAN (R 4.0.2)\n",
       " httr                   1.4.2    2020-07-20 [1] CRAN (R 4.0.2)\n",
       " IRanges              * 2.24.1   2020-12-12 [1] Bioconductor  \n",
       " IRdisplay              1.0      2021-01-20 [1] CRAN (R 4.0.2)\n",
       " IRkernel               1.2      2021-05-11 [1] CRAN (R 4.0.3)\n",
       " jsonlite               1.7.2    2020-12-09 [1] CRAN (R 4.0.2)\n",
       " lattice                0.20-41  2020-04-02 [2] CRAN (R 4.0.3)\n",
       " lifecycle              1.0.0    2021-02-15 [1] CRAN (R 4.0.3)\n",
       " lubridate              1.7.10   2021-02-26 [1] CRAN (R 4.0.3)\n",
       " magrittr               2.0.1    2020-11-17 [1] CRAN (R 4.0.2)\n",
       " Matrix                 1.3-4    2021-06-01 [1] CRAN (R 4.0.3)\n",
       " MatrixGenerics       * 1.2.1    2021-01-30 [1] Bioconductor  \n",
       " matrixStats          * 0.59.0   2021-06-01 [1] CRAN (R 4.0.3)\n",
       " modelr                 0.1.8    2020-05-19 [1] CRAN (R 4.0.2)\n",
       " munsell                0.5.0    2018-06-12 [1] CRAN (R 4.0.2)\n",
       " pbdZMQ                 0.3-5    2021-02-10 [1] CRAN (R 4.0.3)\n",
       " pillar                 1.6.1    2021-05-16 [1] CRAN (R 4.0.3)\n",
       " pkgconfig              2.0.3    2019-09-22 [1] CRAN (R 4.0.2)\n",
       " purrr                * 0.3.4    2020-04-17 [1] CRAN (R 4.0.2)\n",
       " R6                     2.5.0    2020-10-28 [1] CRAN (R 4.0.2)\n",
       " Rcpp                   1.0.7    2021-07-07 [1] CRAN (R 4.0.3)\n",
       " RCurl                  1.98-1.3 2021-03-16 [1] CRAN (R 4.0.3)\n",
       " readr                * 1.4.0    2020-10-05 [1] CRAN (R 4.0.2)\n",
       " readxl                 1.3.1    2019-03-13 [1] CRAN (R 4.0.2)\n",
       " repr                   1.1.3    2021-01-21 [1] CRAN (R 4.0.2)\n",
       " reprex                 2.0.0    2021-04-02 [1] CRAN (R 4.0.3)\n",
       " rlang                  0.4.11   2021-04-30 [1] CRAN (R 4.0.3)\n",
       " rstudioapi             0.13     2020-11-12 [1] CRAN (R 4.0.2)\n",
       " rvest                  1.0.0    2021-03-09 [1] CRAN (R 4.0.3)\n",
       " S4Vectors            * 0.28.1   2020-12-09 [1] Bioconductor  \n",
       " scales                 1.1.1    2020-05-11 [1] CRAN (R 4.0.2)\n",
       " sessioninfo            1.1.1    2018-11-05 [1] CRAN (R 4.0.2)\n",
       " stringi                1.7.3    2021-07-16 [1] CRAN (R 4.0.3)\n",
       " stringr              * 1.4.0    2019-02-10 [1] CRAN (R 4.0.2)\n",
       " SummarizedExperiment * 1.20.0   2020-10-27 [1] Bioconductor  \n",
       " tibble               * 3.1.2    2021-05-16 [1] CRAN (R 4.0.3)\n",
       " tidyr                * 1.1.3    2021-03-03 [1] CRAN (R 4.0.3)\n",
       " tidyselect             1.1.1    2021-04-30 [1] CRAN (R 4.0.3)\n",
       " tidyverse            * 1.3.1    2021-04-15 [1] CRAN (R 4.0.3)\n",
       " utf8                   1.2.1    2021-03-12 [1] CRAN (R 4.0.3)\n",
       " uuid                   0.1-4    2020-02-26 [1] CRAN (R 4.0.2)\n",
       " vctrs                  0.3.8    2021-04-29 [1] CRAN (R 4.0.3)\n",
       " withr                  2.4.2    2021-04-18 [1] CRAN (R 4.0.3)\n",
       " xml2                   1.3.2    2020-04-23 [1] CRAN (R 4.0.2)\n",
       " XVector                0.30.0   2020-10-27 [1] Bioconductor  \n",
       " zlibbioc               1.36.0   2020-10-27 [1] Bioconductor  \n",
       "\n",
       "[1] /home/jbenja13/R/x86_64-pc-linux-gnu-library/4.0\n",
       "[2] /usr/lib/R/library"
      ]
     },
     "metadata": {},
     "output_type": "display_data"
    }
   ],
   "source": [
    "Sys.time()\n",
    "proc.time()\n",
    "options(width = 120)\n",
    "sessioninfo::session_info()"
   ]
  }
 ],
 "metadata": {
  "kernelspec": {
   "display_name": "R",
   "language": "R",
   "name": "ir"
  },
  "language_info": {
   "codemirror_mode": "r",
   "file_extension": ".r",
   "mimetype": "text/x-r-source",
   "name": "R",
   "pygments_lexer": "r",
   "version": "4.0.3"
  }
 },
 "nbformat": 4,
 "nbformat_minor": 4
}
