{
 "cells": [
  {
   "cell_type": "markdown",
   "metadata": {},
   "source": [
    "# Pie chart of samples"
   ]
  },
  {
   "cell_type": "code",
   "execution_count": 1,
   "metadata": {
    "execution": {
     "iopub.execute_input": "2021-08-23T13:58:32.012871Z",
     "iopub.status.busy": "2021-08-23T13:58:32.011489Z",
     "iopub.status.idle": "2021-08-23T13:58:32.538723Z",
     "shell.execute_reply": "2021-08-23T13:58:32.537442Z"
    }
   },
   "outputs": [],
   "source": [
    "import pandas as pd\n",
    "import matplotlib.pyplot as plt"
   ]
  },
  {
   "cell_type": "code",
   "execution_count": 2,
   "metadata": {
    "execution": {
     "iopub.execute_input": "2021-08-23T13:58:32.545560Z",
     "iopub.status.busy": "2021-08-23T13:58:32.544266Z",
     "iopub.status.idle": "2021-08-23T13:58:32.546879Z",
     "shell.execute_reply": "2021-08-23T13:58:32.547903Z"
    }
   },
   "outputs": [],
   "source": [
    "%matplotlib inline"
   ]
  },
  {
   "cell_type": "code",
   "execution_count": 3,
   "metadata": {
    "execution": {
     "iopub.execute_input": "2021-08-23T13:58:32.554630Z",
     "iopub.status.busy": "2021-08-23T13:58:32.553335Z",
     "iopub.status.idle": "2021-08-23T13:58:32.637039Z",
     "shell.execute_reply": "2021-08-23T13:58:32.638094Z"
    }
   },
   "outputs": [
    {
     "data": {
      "text/html": [
       "<div>\n",
       "<style scoped>\n",
       "    .dataframe tbody tr th:only-of-type {\n",
       "        vertical-align: middle;\n",
       "    }\n",
       "\n",
       "    .dataframe tbody tr th {\n",
       "        vertical-align: top;\n",
       "    }\n",
       "\n",
       "    .dataframe thead th {\n",
       "        text-align: right;\n",
       "    }\n",
       "</style>\n",
       "<table border=\"1\" class=\"dataframe\">\n",
       "  <thead>\n",
       "    <tr style=\"text-align: right;\">\n",
       "      <th></th>\n",
       "      <th>BrNum</th>\n",
       "      <th>RNum</th>\n",
       "      <th>Region</th>\n",
       "      <th>RIN</th>\n",
       "      <th>Age</th>\n",
       "      <th>Sex</th>\n",
       "      <th>Race</th>\n",
       "      <th>Dx</th>\n",
       "      <th>mitoRate</th>\n",
       "      <th>rRNA_rate</th>\n",
       "      <th>overallMapRate</th>\n",
       "    </tr>\n",
       "  </thead>\n",
       "  <tbody>\n",
       "    <tr>\n",
       "      <th>R12864</th>\n",
       "      <td>Br1303</td>\n",
       "      <td>R12864</td>\n",
       "      <td>Caudate</td>\n",
       "      <td>9.6</td>\n",
       "      <td>42.98</td>\n",
       "      <td>F</td>\n",
       "      <td>AA</td>\n",
       "      <td>Schizo</td>\n",
       "      <td>0.032654</td>\n",
       "      <td>0.000087</td>\n",
       "      <td>0.909350</td>\n",
       "    </tr>\n",
       "    <tr>\n",
       "      <th>R12865</th>\n",
       "      <td>Br1320</td>\n",
       "      <td>R12865</td>\n",
       "      <td>Caudate</td>\n",
       "      <td>9.5</td>\n",
       "      <td>53.12</td>\n",
       "      <td>M</td>\n",
       "      <td>AA</td>\n",
       "      <td>Schizo</td>\n",
       "      <td>0.019787</td>\n",
       "      <td>0.000070</td>\n",
       "      <td>0.873484</td>\n",
       "    </tr>\n",
       "    <tr>\n",
       "      <th>R12866</th>\n",
       "      <td>Br1321</td>\n",
       "      <td>R12866</td>\n",
       "      <td>Caudate</td>\n",
       "      <td>9.1</td>\n",
       "      <td>57.13</td>\n",
       "      <td>F</td>\n",
       "      <td>AA</td>\n",
       "      <td>Schizo</td>\n",
       "      <td>0.013006</td>\n",
       "      <td>0.000040</td>\n",
       "      <td>0.905505</td>\n",
       "    </tr>\n",
       "    <tr>\n",
       "      <th>R12867</th>\n",
       "      <td>Br1326</td>\n",
       "      <td>R12867</td>\n",
       "      <td>Caudate</td>\n",
       "      <td>9.2</td>\n",
       "      <td>74.56</td>\n",
       "      <td>M</td>\n",
       "      <td>AA</td>\n",
       "      <td>Schizo</td>\n",
       "      <td>0.032594</td>\n",
       "      <td>0.000038</td>\n",
       "      <td>0.910551</td>\n",
       "    </tr>\n",
       "    <tr>\n",
       "      <th>R12868</th>\n",
       "      <td>Br1418</td>\n",
       "      <td>R12868</td>\n",
       "      <td>Caudate</td>\n",
       "      <td>9.5</td>\n",
       "      <td>43.35</td>\n",
       "      <td>M</td>\n",
       "      <td>AA</td>\n",
       "      <td>Schizo</td>\n",
       "      <td>0.052347</td>\n",
       "      <td>0.000056</td>\n",
       "      <td>0.748659</td>\n",
       "    </tr>\n",
       "  </tbody>\n",
       "</table>\n",
       "</div>"
      ],
      "text/plain": [
       "         BrNum    RNum   Region  RIN    Age Sex Race      Dx  mitoRate  \\\n",
       "R12864  Br1303  R12864  Caudate  9.6  42.98   F   AA  Schizo  0.032654   \n",
       "R12865  Br1320  R12865  Caudate  9.5  53.12   M   AA  Schizo  0.019787   \n",
       "R12866  Br1321  R12866  Caudate  9.1  57.13   F   AA  Schizo  0.013006   \n",
       "R12867  Br1326  R12867  Caudate  9.2  74.56   M   AA  Schizo  0.032594   \n",
       "R12868  Br1418  R12868  Caudate  9.5  43.35   M   AA  Schizo  0.052347   \n",
       "\n",
       "        rRNA_rate  overallMapRate  \n",
       "R12864   0.000087        0.909350  \n",
       "R12865   0.000070        0.873484  \n",
       "R12866   0.000040        0.905505  \n",
       "R12867   0.000038        0.910551  \n",
       "R12868   0.000056        0.748659  "
      ]
     },
     "execution_count": 1,
     "metadata": {},
     "output_type": "execute_result"
    }
   ],
   "source": [
    "df = pd.read_csv(\"../../input/phenotypes/merged/_m/merged_phenotypes.csv\", index_col=0)\n",
    "df = df[df[\"Race\"].isin([\"AA\", \"CAUC\"]) & (df[\"Dx\"].isin([\"Control\", \"Schizo\"]))].copy()\n",
    "df.Race = df.Race.astype(\"category\").cat.rename_categories({'CAUC': 'EA'})\n",
    "df.head()"
   ]
  },
  {
   "cell_type": "code",
   "execution_count": 4,
   "metadata": {
    "execution": {
     "iopub.execute_input": "2021-08-23T13:58:32.647493Z",
     "iopub.status.busy": "2021-08-23T13:58:32.646209Z",
     "iopub.status.idle": "2021-08-23T13:58:32.650489Z",
     "shell.execute_reply": "2021-08-23T13:58:32.651521Z"
    }
   },
   "outputs": [
    {
     "data": {
      "text/plain": [
       "Region\n",
       "Caudate         420\n",
       "DLPFC           434\n",
       "DentateGyrus    161\n",
       "HIPPO           447\n",
       "dtype: int64"
      ]
     },
     "execution_count": 1,
     "metadata": {},
     "output_type": "execute_result"
    }
   ],
   "source": [
    "df.groupby(\"Region\").size()"
   ]
  },
  {
   "cell_type": "code",
   "execution_count": 5,
   "metadata": {
    "execution": {
     "iopub.execute_input": "2021-08-23T13:58:32.659766Z",
     "iopub.status.busy": "2021-08-23T13:58:32.658527Z",
     "iopub.status.idle": "2021-08-23T13:58:32.674870Z",
     "shell.execute_reply": "2021-08-23T13:58:32.675915Z"
    }
   },
   "outputs": [
    {
     "data": {
      "text/html": [
       "<div>\n",
       "<style scoped>\n",
       "    .dataframe tbody tr th:only-of-type {\n",
       "        vertical-align: middle;\n",
       "    }\n",
       "\n",
       "    .dataframe tbody tr th {\n",
       "        vertical-align: top;\n",
       "    }\n",
       "\n",
       "    .dataframe thead th {\n",
       "        text-align: right;\n",
       "    }\n",
       "</style>\n",
       "<table border=\"1\" class=\"dataframe\">\n",
       "  <thead>\n",
       "    <tr style=\"text-align: right;\">\n",
       "      <th></th>\n",
       "      <th>Region</th>\n",
       "      <th>Race</th>\n",
       "      <th>N</th>\n",
       "    </tr>\n",
       "  </thead>\n",
       "  <tbody>\n",
       "    <tr>\n",
       "      <th>0</th>\n",
       "      <td>Caudate</td>\n",
       "      <td>AA</td>\n",
       "      <td>217</td>\n",
       "    </tr>\n",
       "    <tr>\n",
       "      <th>1</th>\n",
       "      <td>Caudate</td>\n",
       "      <td>EA</td>\n",
       "      <td>203</td>\n",
       "    </tr>\n",
       "    <tr>\n",
       "      <th>2</th>\n",
       "      <td>DLPFC</td>\n",
       "      <td>AA</td>\n",
       "      <td>241</td>\n",
       "    </tr>\n",
       "    <tr>\n",
       "      <th>3</th>\n",
       "      <td>DLPFC</td>\n",
       "      <td>EA</td>\n",
       "      <td>193</td>\n",
       "    </tr>\n",
       "    <tr>\n",
       "      <th>4</th>\n",
       "      <td>DentateGyrus</td>\n",
       "      <td>AA</td>\n",
       "      <td>78</td>\n",
       "    </tr>\n",
       "    <tr>\n",
       "      <th>5</th>\n",
       "      <td>DentateGyrus</td>\n",
       "      <td>EA</td>\n",
       "      <td>83</td>\n",
       "    </tr>\n",
       "    <tr>\n",
       "      <th>6</th>\n",
       "      <td>HIPPO</td>\n",
       "      <td>AA</td>\n",
       "      <td>248</td>\n",
       "    </tr>\n",
       "    <tr>\n",
       "      <th>7</th>\n",
       "      <td>HIPPO</td>\n",
       "      <td>EA</td>\n",
       "      <td>199</td>\n",
       "    </tr>\n",
       "  </tbody>\n",
       "</table>\n",
       "</div>"
      ],
      "text/plain": [
       "         Region Race    N\n",
       "0       Caudate   AA  217\n",
       "1       Caudate   EA  203\n",
       "2         DLPFC   AA  241\n",
       "3         DLPFC   EA  193\n",
       "4  DentateGyrus   AA   78\n",
       "5  DentateGyrus   EA   83\n",
       "6         HIPPO   AA  248\n",
       "7         HIPPO   EA  199"
      ]
     },
     "execution_count": 1,
     "metadata": {},
     "output_type": "execute_result"
    }
   ],
   "source": [
    "data = df.groupby([\"Region\", \"Race\"]).size().reset_index().rename(columns={0:\"N\"})\n",
    "data"
   ]
  },
  {
   "cell_type": "code",
   "execution_count": 6,
   "metadata": {
    "execution": {
     "iopub.execute_input": "2021-08-23T13:58:32.694534Z",
     "iopub.status.busy": "2021-08-23T13:58:32.690439Z",
     "iopub.status.idle": "2021-08-23T13:58:32.698239Z",
     "shell.execute_reply": "2021-08-23T13:58:32.697097Z"
    }
   },
   "outputs": [],
   "source": [
    "caudate = data[(data[\"Region\"] == \"Caudate\")].drop(\"Region\", axis=1).set_index(\"Race\")\n",
    "dlpfc = data[(data[\"Region\"] == \"DLPFC\")].drop(\"Region\", axis=1).set_index(\"Race\")\n",
    "gyrus = data[(data[\"Region\"] == \"DentateGyrus\")].drop(\"Region\", axis=1).set_index(\"Race\")\n",
    "hippocampus = data[(data[\"Region\"] == \"HIPPO\")].drop(\"Region\", axis=1).set_index(\"Race\")"
   ]
  },
  {
   "cell_type": "code",
   "execution_count": 7,
   "metadata": {
    "execution": {
     "iopub.execute_input": "2021-08-23T13:58:32.705114Z",
     "iopub.status.busy": "2021-08-23T13:58:32.703883Z",
     "iopub.status.idle": "2021-08-23T13:58:32.869763Z",
     "shell.execute_reply": "2021-08-23T13:58:32.868628Z"
    }
   },
   "outputs": [
    {
     "data": {
      "image/png": "[encoded data removed]",
      "text/plain": [
       "<Figure size 432x288 with 1 Axes>"
      ]
     },
     "metadata": {},
     "output_type": "display_data"
    }
   ],
   "source": [
    "caudate.N.plot.pie(autopct=\"%.1f%%\")\n",
    "plt.savefig('caudate_pie.pdf')"
   ]
  },
  {
   "cell_type": "code",
   "execution_count": 8,
   "metadata": {
    "execution": {
     "iopub.execute_input": "2021-08-23T13:58:32.891726Z",
     "iopub.status.busy": "2021-08-23T13:58:32.890476Z",
     "iopub.status.idle": "2021-08-23T13:58:32.980279Z",
     "shell.execute_reply": "2021-08-23T13:58:32.979133Z"
    }
   },
   "outputs": [
    {
     "data": {
      "image/png": "[encoded data removed]",
      "text/plain": [
       "<Figure size 432x288 with 1 Axes>"
      ]
     },
     "metadata": {},
     "output_type": "display_data"
    }
   ],
   "source": [
    "dlpfc.N.plot.pie(autopct=\"%.1f%%\");\n",
    "plt.savefig('dlpfc_pie.pdf')"
   ]
  },
  {
   "cell_type": "code",
   "execution_count": 9,
   "metadata": {
    "execution": {
     "iopub.execute_input": "2021-08-23T13:58:33.002114Z",
     "iopub.status.busy": "2021-08-23T13:58:33.000505Z",
     "iopub.status.idle": "2021-08-23T13:58:33.075535Z",
     "shell.execute_reply": "2021-08-23T13:58:33.076598Z"
    }
   },
   "outputs": [
    {
     "data": {
      "image/png": "[encoded data removed]",
      "text/plain": [
       "<Figure size 432x288 with 1 Axes>"
      ]
     },
     "metadata": {},
     "output_type": "display_data"
    }
   ],
   "source": [
    "gyrus.N.plot.pie(autopct=\"%.1f%%\");\n",
    "plt.savefig('dentate_gyrus_pie.pdf')"
   ]
  },
  {
   "cell_type": "code",
   "execution_count": 10,
   "metadata": {
    "execution": {
     "iopub.execute_input": "2021-08-23T13:58:33.132914Z",
     "iopub.status.busy": "2021-08-23T13:58:33.131650Z",
     "iopub.status.idle": "2021-08-23T13:58:33.208028Z",
     "shell.execute_reply": "2021-08-23T13:58:33.209088Z"
    }
   },
   "outputs": [
    {
     "data": {
      "image/png": "[encoded data removed]",
      "text/plain": [
       "<Figure size 432x288 with 1 Axes>"
      ]
     },
     "metadata": {},
     "output_type": "display_data"
    }
   ],
   "source": [
    "hippocampus.N.plot.pie(autopct=\"%.1f%%\")\n",
    "plt.savefig('hippocampus_pie.pdf')"
   ]
  },
  {
   "cell_type": "code",
   "execution_count": null,
   "metadata": {},
   "outputs": [],
   "source": []
  }
 ],
 "metadata": {
  "kernelspec": {
   "display_name": "Python 3",
   "language": "python",
   "name": "python3"
  },
  "language_info": {
   "codemirror_mode": {
    "name": "ipython",
    "version": 3
   },
   "file_extension": ".py",
   "mimetype": "text/x-python",
   "name": "python",
   "nbconvert_exporter": "python",
   "pygments_lexer": "ipython3",
   "version": "3.9.1"
  }
 },
 "nbformat": 4,
 "nbformat_minor": 4
}
