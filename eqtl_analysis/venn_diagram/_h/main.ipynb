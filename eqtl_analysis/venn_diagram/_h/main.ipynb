{
 "cells": [
  {
   "cell_type": "markdown",
   "metadata": {},
   "source": [
    "# Fine-mapped eQTL comparison across brain regions"
   ]
  },
  {
   "cell_type": "code",
   "execution_count": null,
   "metadata": {},
   "outputs": [],
   "source": [
    "import numpy as np\n",
    "import pandas as pd\n",
    "from venn import venn\n",
    "from matplotlib import pyplot as plt"
   ]
  },
  {
   "cell_type": "markdown",
   "metadata": {},
   "source": [
    "## Prepare data"
   ]
  },
  {
   "cell_type": "code",
   "execution_count": null,
   "metadata": {},
   "outputs": [],
   "source": [
    "def get_data(feature):\n",
    "    cc = pd.read_csv(\"../../_m/caudate/eqtl_%s.Caudate.EA_AA.NC_SZ\" % feature+\\\n",
    "                     \".age13.fm.index_q0.05.log10bf_2.csv.gz\")\n",
    "    dg = pd.read_csv(\"../../_m/dentateGyrus/eqtl_%s.DG.EA_AA.NC_SZ\" % feature+\\\n",
    "                     \".age13.fm.index_q0.05.log10bf_2.csv.gz\")\n",
    "    dd = pd.read_csv(\"../../_m/dlpfc/eqtl_%s.DLPFC.EA_AA.NC_SZ\" % feature+\\\n",
    "                     \".age13.fm.index_q0.05.log10bf_2.csv.gz\")\n",
    "    hh = pd.read_csv(\"../../_m/hippocampus/eqtl_%s.HIPPO.EA_AA.NC_SZ\" % feature+\\\n",
    "                     \".age13.fm.index_q0.05.log10bf_2.csv.gz\")\n",
    "    return cc, dg, dd, hh"
   ]
  },
  {
   "cell_type": "markdown",
   "metadata": {},
   "source": [
    "## Venn diagrams"
   ]
  },
  {
   "cell_type": "markdown",
   "metadata": {},
   "source": [
    "### Genes"
   ]
  },
  {
   "cell_type": "code",
   "execution_count": null,
   "metadata": {},
   "outputs": [],
   "source": [
    "feature = \"gene\"\n",
    "cc, dg, dd, hh = get_data(feature)\n",
    "tissues = {\n",
    "    'Caudate': set(cc.gene),\n",
    "    'Dentate Gyrus': set(dg.gene),\n",
    "    'DLPFC': set(dd.gene),\n",
    "    'Hippocampus': set(hh.gene),\n",
    "}"
   ]
  },
  {
   "cell_type": "code",
   "execution_count": null,
   "metadata": {},
   "outputs": [],
   "source": [
    "venn(tissues, fmt=\"{size}\\n{percentage:0.1f}%\", fontsize=18, legend_loc=\"best\", \n",
    "     figsize=(12, 12), cmap=['red', 'green', 'blue', 'purple'])\n",
    "plt.savefig('eqtl_finemap_%s.png' % feature)\n",
    "plt.savefig('eqtl_finemap_%s.pdf' % feature)\n",
    "plt.show()"
   ]
  },
  {
   "cell_type": "markdown",
   "metadata": {},
   "source": [
    "### Transcripts"
   ]
  },
  {
   "cell_type": "code",
   "execution_count": null,
   "metadata": {},
   "outputs": [],
   "source": [
    "feature = \"tx\"\n",
    "cc, dg, dd, hh = get_data(feature)\n",
    "tissues = {\n",
    "    'Caudate': set(cc.gene),\n",
    "    'Dentate Gyrus': set(dg.gene),\n",
    "    'DLPFC': set(dd.gene),\n",
    "    'Hippocampus': set(hh.gene),\n",
    "}"
   ]
  },
  {
   "cell_type": "code",
   "execution_count": null,
   "metadata": {},
   "outputs": [],
   "source": [
    "venn(tissues, fmt=\"{size}\\n{percentage:0.1f}%\", fontsize=18, legend_loc=\"best\", \n",
    "     figsize=(12, 12), cmap=['red', 'green', 'blue', 'purple'])\n",
    "plt.savefig('eqtl_finemap_%s.png' % feature)\n",
    "plt.savefig('eqtl_finemap_%s.pdf' % feature)\n",
    "plt.show()"
   ]
  },
  {
   "cell_type": "markdown",
   "metadata": {},
   "source": [
    "### Exons"
   ]
  },
  {
   "cell_type": "code",
   "execution_count": null,
   "metadata": {},
   "outputs": [],
   "source": [
    "feature = \"exon\"\n",
    "cc, dg, dd, hh = get_data(feature)\n",
    "tissues = {\n",
    "    'Caudate': set(cc.gene),\n",
    "    'Dentate Gyrus': set(dg.gene),\n",
    "    'DLPFC': set(dd.gene),\n",
    "    'Hippocampus': set(hh.gene),\n",
    "}"
   ]
  },
  {
   "cell_type": "code",
   "execution_count": null,
   "metadata": {},
   "outputs": [],
   "source": [
    "venn(tissues, fmt=\"{size}\\n{percentage:0.1f}%\", fontsize=18, legend_loc=\"best\", \n",
    "     figsize=(12, 12), cmap=['red', 'green', 'blue', 'purple'])\n",
    "plt.savefig('eqtl_finemap_%s.png' % feature)\n",
    "plt.savefig('eqtl_finemap_%s.pdf' % feature)\n",
    "plt.show()"
   ]
  },
  {
   "cell_type": "markdown",
   "metadata": {},
   "source": [
    "### Junctions"
   ]
  },
  {
   "cell_type": "code",
   "execution_count": null,
   "metadata": {},
   "outputs": [],
   "source": [
    "feature = \"jxn\"\n",
    "cc, dg, dd, hh = get_data(feature)\n",
    "tissues = {\n",
    "    'Caudate': set(cc.gene),\n",
    "    'Dentate Gyrus': set(dg.gene),\n",
    "    'DLPFC': set(dd.gene),\n",
    "    'Hippocampus': set(hh.gene),\n",
    "}"
   ]
  },
  {
   "cell_type": "code",
   "execution_count": null,
   "metadata": {},
   "outputs": [],
   "source": [
    "venn(tissues, fmt=\"{size}\\n{percentage:0.1f}%\", fontsize=18, legend_loc=\"best\", \n",
    "     figsize=(12, 12), cmap=['red', 'green', 'blue', 'purple'])\n",
    "plt.savefig('eqtl_finemap_%s.png' % feature)\n",
    "plt.savefig('eqtl_finemap_%s.pdf' % feature)\n",
    "plt.show()"
   ]
  },
  {
   "cell_type": "markdown",
   "metadata": {},
   "source": [
    "## Session Information"
   ]
  },
  {
   "cell_type": "code",
   "execution_count": null,
   "metadata": {},
   "outputs": [],
   "source": [
    "import types\n",
    "from IPython import sys_info\n",
    "\n",
    "def imports():\n",
    "    for name, val in globals().items():\n",
    "        if isinstance(val, types.ModuleType):\n",
    "            yield val.__name__\n",
    "\n",
    "#exclude all modules not listed by `!pip freeze`\n",
    "excludes = ['__builtin__', 'types', 'IPython.core.shadowns', 'sys', 'os']\n",
    "function_modules = [\"venn\", \"matplotlib\"]\n",
    "imported_modules = [module for module in imports() if module not in excludes] + function_modules\n",
    "pip_modules = !pip freeze #you could also use `!conda list` with anaconda\n",
    "pip_modules = [item for item in pip_modules if \"@\" not in item]"
   ]
  },
  {
   "cell_type": "code",
   "execution_count": null,
   "metadata": {},
   "outputs": [],
   "source": [
    "print(sys_info())\n",
    "#print the names and versions of the imported modules\n",
    "print(\"\\nImported Modules:\")\n",
    "for module in pip_modules:\n",
    "    name, version = module.split('==')\n",
    "    if name in imported_modules:\n",
    "        print(name + ':\\t' + version)"
   ]
  },
  {
   "cell_type": "code",
   "execution_count": null,
   "metadata": {},
   "outputs": [],
   "source": []
  }
 ],
 "metadata": {
  "kernelspec": {
   "display_name": "Python 3 (ipykernel)",
   "language": "python",
   "name": "python3"
  },
  "language_info": {
   "codemirror_mode": {
    "name": "ipython",
    "version": 3
   },
   "file_extension": ".py",
   "mimetype": "text/x-python",
   "name": "python",
   "nbconvert_exporter": "python",
   "pygments_lexer": "ipython3",
   "version": "3.9.7"
  }
 },
 "nbformat": 4,
 "nbformat_minor": 4
}
