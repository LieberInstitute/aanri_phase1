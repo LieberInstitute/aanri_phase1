{
 "cells": [
  {
   "cell_type": "markdown",
   "metadata": {},
   "source": [
    "# Cell type enrichment analysis"
   ]
  },
  {
   "cell_type": "code",
   "execution_count": 1,
   "metadata": {},
   "outputs": [],
   "source": [
    "import functools\n",
    "import numpy as np\n",
    "import pandas as pd\n",
    "from scipy.stats import fisher_exact\n",
    "from statsmodels.stats.multitest import fdrcorrection"
   ]
  },
  {
   "cell_type": "code",
   "execution_count": 14,
   "metadata": {},
   "outputs": [],
   "source": [
    "config = {\n",
    "    'gene_background': '../../../../../input/celltypes/_h/cell_type/mouse2human_gene.txt',\n",
    "    'deg_file': '../../_m/genes/diffExpr_EAvsAA_full.txt',\n",
    "    'ki1_high': '../../../../../input/celltypes/_m/KI_level1_human_specificity_0.4.txt',\n",
    "    'ki1_low': '../../../../../input/celltypes/_m/KI_level1_human_specificity_0.2.txt',\n",
    "    'ki2_high': '../../../../../input/celltypes/_m/KI_level2_human_specificity_0.4.txt',\n",
    "    'ki2_low': '../../../../../input/celltypes/_m/KI_level2_human_specificity_0.2.txt'\n",
    "}"
   ]
  },
  {
   "cell_type": "code",
   "execution_count": 3,
   "metadata": {},
   "outputs": [],
   "source": [
    "@functools.lru_cache()\n",
    "def get_gene_background():\n",
    "    return pd.read_csv(config['gene_background'], sep='\\t')\n",
    "\n",
    "\n",
    "@functools.lru_cache()\n",
    "def get_deg():\n",
    "    return pd.read_csv(config['deg_file'], sep='\\t')\n",
    "\n",
    "\n",
    "@functools.lru_cache()\n",
    "def get_celltype_ki(fn):\n",
    "    return pd.read_csv(fn, sep='\\t')"
   ]
  },
  {
   "cell_type": "code",
   "execution_count": 4,
   "metadata": {},
   "outputs": [],
   "source": [
    "def cal_fishers(celltype, fn):\n",
    "    deg = get_deg()\n",
    "    ct = get_celltype_ki(fn)\n",
    "    ctp = ct[(ct['cell_type'] == celltype)].copy()\n",
    "    ctm = set(get_gene_background().Symbol_human) - set(ctp.Symbol_human)\n",
    "    table = [[len(set(deg[(deg['adj.P.Val']<0.05)].Symbol) & set(ctp.Symbol_human)),\n",
    "              len(set(deg[(deg['adj.P.Val']<0.05)].Symbol) & ctm)], \n",
    "             [len(set(deg[(deg['adj.P.Val']>0.05)].Symbol) & set(ctp.Symbol_human)),\n",
    "              len(set(deg[(deg['adj.P.Val']>0.05)].Symbol) & ctm)]]\n",
    "    #print(table)\n",
    "    return fisher_exact(table)\n",
    "\n",
    "\n",
    "def cal_fishers_direction(celltype, direction, fn):\n",
    "    deg = get_deg()\n",
    "    if direction == 'Up':\n",
    "        deg = deg[(deg['t'] > 0)].copy()\n",
    "    else:\n",
    "        deg = deg[(deg['t'] < 0)].copy()\n",
    "    ct = get_celltype_ki(fn)\n",
    "    ctp = ct[(ct['cell_type'] == celltype)].copy()\n",
    "    ctm = set(get_gene_background().Symbol_human) - set(ctp.Symbol_human)\n",
    "    table = [[len(set(deg[(deg['adj.P.Val']<0.05)].Symbol) & set(ctp.Symbol_human)),\n",
    "              len(set(deg[(deg['adj.P.Val']<0.05)].Symbol) & ctm)], \n",
    "             [len(set(deg[(deg['adj.P.Val']>0.05)].Symbol) & set(ctp.Symbol_human)),\n",
    "              len(set(deg[(deg['adj.P.Val']>0.05)].Symbol) & ctm)]]\n",
    "    #print(table)\n",
    "    return fisher_exact(table)"
   ]
  },
  {
   "cell_type": "code",
   "execution_count": 21,
   "metadata": {},
   "outputs": [],
   "source": [
    "def cal_fisher_by_celltype(fn):\n",
    "    unique_celltypes = get_celltype_ki(fn).cell_type.unique()\n",
    "    ct_lt = []; pval_lt = []; oddratio_lt = []; dir_lt = [];\n",
    "    for celltype in unique_celltypes:\n",
    "        odd_ratio, pval = cal_fishers(celltype, fn)\n",
    "        ct_lt.append(celltype); pval_lt.append(pval);\n",
    "        oddratio_lt.append(odd_ratio); dir_lt.append('All')\n",
    "        if pval < 0.05:\n",
    "            print(\"There is a significant enrichment (p-value < %.1e) of %s!\" % \n",
    "                  (pval, celltype))\n",
    "\n",
    "    for celltype in unique_celltypes:\n",
    "        odd_ratio, pval = cal_fishers_direction(celltype, \"Up\", fn)\n",
    "        ct_lt.append(celltype); pval_lt.append(pval);\n",
    "        oddratio_lt.append(odd_ratio); dir_lt.append('Up')\n",
    "        if pval < 0.05:\n",
    "            print(\"There is a significant enrichment of up-regulated genes (p-value < %.1e) of %s!\" %\n",
    "                  (pval, celltype))\n",
    "        \n",
    "    for celltype in unique_celltypes:\n",
    "        odd_ratio, pval = cal_fishers_direction(celltype, \"Down\", fn)\n",
    "        ct_lt.append(celltype); pval_lt.append(pval);\n",
    "        oddratio_lt.append(odd_ratio); dir_lt.append('Down')\n",
    "        if pval < 0.05:\n",
    "            print(\"There is a significant enrichment of down-regulated genes (p-value < %.1e) of %s!\" % \n",
    "                  (pval, celltype))\n",
    "    return pd.DataFrame({'Cell_type': ct_lt, 'OR': oddratio_lt, \n",
    "                         'PValue': pval_lt, 'Direction': dir_lt})"
   ]
  },
  {
   "cell_type": "markdown",
   "metadata": {},
   "source": [
    "## Calculated fisher's exact for each version of cell types "
   ]
  },
  {
   "cell_type": "markdown",
   "metadata": {},
   "source": [
    "### KI level1, high specificity"
   ]
  },
  {
   "cell_type": "code",
   "execution_count": 24,
   "metadata": {},
   "outputs": [
    {
     "name": "stdout",
     "output_type": "stream",
     "text": [
      "There is a significant enrichment (p-value < 1.5e-02) of endothelial-mural!\n",
      "There is a significant enrichment (p-value < 1.5e-02) of pyramidalSS!\n",
      "There is a significant enrichment (p-value < 5.0e-04) of DopaminergicAdult!\n",
      "There is a significant enrichment (p-value < 1.8e-02) of interneurons!\n",
      "There is a significant enrichment of up-regulated genes (p-value < 2.4e-03) of DopaminergicAdult!\n",
      "There is a significant enrichment of down-regulated genes (p-value < 1.1e-02) of endothelial-mural!\n",
      "There is a significant enrichment of down-regulated genes (p-value < 6.6e-03) of OxytocinandVasopressinExpressingNeurons!\n",
      "There is a significant enrichment of down-regulated genes (p-value < 4.0e-02) of DopaminergicAdult!\n",
      "There is a significant enrichment of down-regulated genes (p-value < 4.3e-02) of NeuralProgenitors!\n"
     ]
    }
   ],
   "source": [
    "df1 = cal_fisher_by_celltype(config['ki1_high'])\n",
    "df1['List'] = 'KI1'\n",
    "df1['Specificity'] = 0.4\n",
    "_, fdr = fdrcorrection(df1.PValue)\n",
    "df1['FDR'] = fdr"
   ]
  },
  {
   "cell_type": "markdown",
   "metadata": {},
   "source": [
    "### KI level1, low specificity"
   ]
  },
  {
   "cell_type": "code",
   "execution_count": 23,
   "metadata": {},
   "outputs": [
    {
     "name": "stdout",
     "output_type": "stream",
     "text": [
      "There is a significant enrichment (p-value < 1.9e-03) of endothelial-mural!\n",
      "There is a significant enrichment (p-value < 1.0e-02) of Embryonicmidbrainnucleusneurons!\n",
      "There is a significant enrichment (p-value < 3.3e-02) of interneurons!\n",
      "There is a significant enrichment of up-regulated genes (p-value < 3.5e-02) of pyramidalCA1!\n",
      "There is a significant enrichment of up-regulated genes (p-value < 1.3e-02) of DopaminergicNeuroblast!\n",
      "There is a significant enrichment of up-regulated genes (p-value < 1.1e-02) of Embryonicmidbrainnucleusneurons!\n",
      "There is a significant enrichment of up-regulated genes (p-value < 1.8e-03) of Neuroblasts!\n",
      "There is a significant enrichment of down-regulated genes (p-value < 1.6e-03) of endothelial-mural!\n",
      "There is a significant enrichment of down-regulated genes (p-value < 2.0e-02) of pyramidalCA1!\n",
      "There is a significant enrichment of down-regulated genes (p-value < 6.8e-03) of MediumSpinyNeuron!\n"
     ]
    }
   ],
   "source": [
    "df2 = cal_fisher_by_celltype(config['ki1_low'])\n",
    "df2['List'] = 'KI1'\n",
    "df2['Specificity'] = 0.2\n",
    "_, fdr = fdrcorrection(df2.PValue)\n",
    "df2['FDR'] = fdr"
   ]
  },
  {
   "cell_type": "markdown",
   "metadata": {},
   "source": [
    "### KI level2, high specificity"
   ]
  },
  {
   "cell_type": "code",
   "execution_count": 27,
   "metadata": {},
   "outputs": [
    {
     "name": "stdout",
     "output_type": "stream",
     "text": [
      "There is a significant enrichment (p-value < 2.6e-02) of HypothalamicVglut2;Cnr1;Ninl;Rfx5;Zfp346Neuron!\n",
      "There is a significant enrichment of up-regulated genes (p-value < 2.8e-02) of Pvm1!\n"
     ]
    }
   ],
   "source": [
    "df3 = cal_fisher_by_celltype(config['ki2_high'])\n",
    "df3['List'] = 'KI2'\n",
    "df3['Specificity'] = 0.4\n",
    "_, fdr = fdrcorrection(df3.PValue)\n",
    "df3['FDR'] = fdr"
   ]
  },
  {
   "cell_type": "markdown",
   "metadata": {},
   "source": [
    "### KI level2, low specificity"
   ]
  },
  {
   "cell_type": "code",
   "execution_count": 28,
   "metadata": {},
   "outputs": [
    {
     "name": "stdout",
     "output_type": "stream",
     "text": [
      "There is a significant enrichment (p-value < 2.3e-02) of ClauPyr!\n",
      "There is a significant enrichment (p-value < 1.8e-03) of Vend1!\n",
      "There is a significant enrichment (p-value < 1.5e-02) of HypothalamicVglut2;Cnr1;Ninl;Rfx5;Zfp346Neuron!\n",
      "There is a significant enrichment (p-value < 2.6e-02) of HypothalamicNpvfNeuron!\n",
      "There is a significant enrichment (p-value < 8.2e-03) of HypothalamicAdcyap1;Tac1(VMH)Neuron!\n",
      "There is a significant enrichment (p-value < 2.3e-02) of HypothalamicQrfpNeuron!\n",
      "There is a significant enrichment (p-value < 3.9e-02) of LateralNeuroblasts1!\n",
      "There is a significant enrichment (p-value < 3.9e-02) of Int16!\n",
      "There is a significant enrichment (p-value < 3.9e-02) of Int4!\n",
      "There is a significant enrichment (p-value < 5.9e-04) of Committedoligodendrocyteprecursors!\n",
      "There is a significant enrichment of up-regulated genes (p-value < 4.5e-02) of HypothalamicSst-high;Cartpt;Galr1Neuron!\n",
      "There is a significant enrichment of up-regulated genes (p-value < 3.1e-02) of HypothalamicVglut2;A930013F10Rik;Pou2f2Neuron!\n",
      "There is a significant enrichment of up-regulated genes (p-value < 2.8e-02) of HypothalamicVglut2;Gpr149(PVH;VMH)Neuron!\n",
      "There is a significant enrichment of up-regulated genes (p-value < 4.8e-02) of HypothalamicNpy-medium;Gad1;Gad2Neuron!\n",
      "There is a significant enrichment of up-regulated genes (p-value < 4.8e-02) of MedialNeuroblasts!\n",
      "There is a significant enrichment of up-regulated genes (p-value < 4.5e-02) of Int2!\n",
      "There is a significant enrichment of down-regulated genes (p-value < 3.4e-03) of Vend1!\n",
      "There is a significant enrichment of down-regulated genes (p-value < 3.7e-02) of HypothalamicVglut2;Cnr1;Ninl;Rfx5;Zfp346Neuron!\n",
      "There is a significant enrichment of down-regulated genes (p-value < 3.0e-02) of HypothalamicAdcyap1;Tac1(VMH)Neuron!\n",
      "There is a significant enrichment of down-regulated genes (p-value < 2.0e-02) of HypothalamicQrfpNeuron!\n",
      "There is a significant enrichment of down-regulated genes (p-value < 3.0e-03) of Committedoligodendrocyteprecursors!\n"
     ]
    }
   ],
   "source": [
    "df4 = cal_fisher_by_celltype(config['ki2_low'])\n",
    "df4['List'] = 'KI2'\n",
    "df4['Specificity'] = 0.2\n",
    "_, fdr = fdrcorrection(df4.PValue)\n",
    "df4['FDR'] = fdr"
   ]
  },
  {
   "cell_type": "markdown",
   "metadata": {},
   "source": [
    "## Merge data"
   ]
  },
  {
   "cell_type": "code",
   "execution_count": 30,
   "metadata": {},
   "outputs": [],
   "source": [
    "df = pd.concat([df1, df2, df3, df4], axis=0)\n",
    "df.to_csv('celltype_enrichment_analysis.txt', sep='\\t', index=False)\n",
    "df[(df.FDR <= 0.05)]"
   ]
  },
  {
   "cell_type": "code",
   "execution_count": null,
   "metadata": {},
   "outputs": [],
   "source": []
  }
 ],
 "metadata": {
  "kernelspec": {
   "display_name": "Python 3",
   "language": "python",
   "name": "python3"
  },
  "language_info": {
   "codemirror_mode": {
    "name": "ipython",
    "version": 3
   },
   "file_extension": ".py",
   "mimetype": "text/x-python",
   "name": "python",
   "nbconvert_exporter": "python",
   "pygments_lexer": "ipython3",
   "version": "3.8.1"
  }
 },
 "nbformat": 4,
 "nbformat_minor": 4
}
