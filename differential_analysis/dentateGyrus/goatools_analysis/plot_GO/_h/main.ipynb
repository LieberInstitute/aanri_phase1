{
 "cells": [
  {
   "cell_type": "markdown",
   "metadata": {},
   "source": [
    "# Visualize GO analysis"
   ]
  },
  {
   "cell_type": "code",
   "execution_count": 4,
   "metadata": {},
   "outputs": [],
   "source": [
    "import numpy as np\n",
    "import pandas as pd"
   ]
  },
  {
   "cell_type": "code",
   "execution_count": 10,
   "metadata": {},
   "outputs": [],
   "source": [
    "def get_top_GO(tissue, fn, label):\n",
    "    df = pd.read_excel(fn).sort_values('p_uncorrected').head(10)\n",
    "    df['Log10'] = -np.log10(df['p_fdr_bh'])\n",
    "    df['Tissue'] = tissue\n",
    "    df['Bias'] = label\n",
    "    return df"
   ]
  },
  {
   "cell_type": "code",
   "execution_count": 11,
   "metadata": {},
   "outputs": [],
   "source": [
    "tissue = 'dentateGyrus'\n",
    "config = {\n",
    "    'All': '../../_m/GO_analysis_allDEG.xlsx',\n",
    "    'AA': '../../_m/GO_analysis_downregulated.xlsx',\n",
    "    'EA': '../../_m/GO_analysis_upregulated.xlsx',\n",
    "}\n",
    "\n",
    "df = pd.DataFrame()\n",
    "for bias in ['All', 'AA', 'EA']:\n",
    "    df = pd.concat([df, get_top_GO(tissue, config[bias], bias)], axis=0)\n",
    "\n",
    "fac = []\n",
    "for ii in range(df.shape[0]):\n",
    "    xx, yy = df[['ratio_in_study']].iloc[ii, 0].split('/')\n",
    "    fac.append((int(xx) / int(yy)) * 2)\n",
    "    \n",
    "df['geneRatio'] = fac\n",
    "print(np.min(fac), np.max(fac))"
   ]
  },
  {
   "cell_type": "code",
   "execution_count": null,
   "metadata": {},
   "outputs": [],
   "source": [
    "df.to_csv(\"%s_GO_analysis.tsv\" % tissue, sep='\\t', index=False)"
   ]
  },
  {
   "cell_type": "markdown",
   "metadata": {},
   "source": [
    "## Plot "
   ]
  },
  {
   "cell_type": "code",
   "execution_count": 21,
   "metadata": {},
   "outputs": [],
   "source": [
    "%load_ext rpy2.ipython"
   ]
  },
  {
   "cell_type": "code",
   "execution_count": 28,
   "metadata": {},
   "outputs": [],
   "source": [
    "%%R -i df\n",
    "library(ggplot2)\n",
    "library(tidyverse)\n",
    "\n",
    "save_plot <- function(p, fn, w, h){\n",
    "    for(ext in c('.svg', '.png', '.pdf')){\n",
    "        ggsave(file=paste0(fn,ext), plot=p, width=w, height=h)\n",
    "    }\n",
    "}\n",
    "\n",
    "plot_GO <- function(){\n",
    "    cbPalette <- c(\"#000000\", \"Red\", \"Blue\")\n",
    "    gg1 = df %>%\n",
    "        ggplot(aes(x=Log10, y=name, color=Bias, size=geneRatio)) + \n",
    "        geom_point(shape=18, alpha=0.8) + labs(y='', x='-Log10 (FDR)') + \n",
    "        theme_bw() + \n",
    "        scale_colour_manual(name=\"Ethnicity\", values=cbPalette, \n",
    "                            labels=c(\"All\", \"AA Bias\", \"EA Bias\")) +\n",
    "        geom_vline(xintercept = -log10(0.05), linetype = \"dotted\") +\n",
    "        theme(axis.text=element_text(size=14),\n",
    "              axis.title=element_text(size=18, face='bold'),\n",
    "              strip.text=element_text(size=18, face='bold'))\n",
    "    return(gg1)\n",
    "}"
   ]
  },
  {
   "cell_type": "code",
   "execution_count": 29,
   "metadata": {},
   "outputs": [
    {
     "data": {
      "image/png": "[encoded data removed]"
     },
     "metadata": {},
     "output_type": "display_data"
    }
   ],
   "source": [
    "%%R\n",
    "gg1 = plot_GO()\n",
    "print(gg1)\n",
    "save_plot(gg1, \"ethnicity_GO_top10_stacked\", 14, 6)"
   ]
  },
  {
   "cell_type": "code",
   "execution_count": null,
   "metadata": {},
   "outputs": [],
   "source": []
  }
 ],
 "metadata": {
  "kernelspec": {
   "display_name": "Python 3",
   "language": "python",
   "name": "python3"
  },
  "language_info": {
   "codemirror_mode": {
    "name": "ipython",
    "version": 3
   },
   "file_extension": ".py",
   "mimetype": "text/x-python",
   "name": "python",
   "nbconvert_exporter": "python",
   "pygments_lexer": "ipython3",
   "version": "3.9.1"
  }
 },
 "nbformat": 4,
 "nbformat_minor": 4
}
