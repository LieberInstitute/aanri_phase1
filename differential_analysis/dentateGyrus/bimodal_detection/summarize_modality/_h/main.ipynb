{
 "cells": [
  {
   "cell_type": "markdown",
   "metadata": {},
   "source": [
    "# Summarize modality of DEGs "
   ]
  },
  {
   "cell_type": "code",
   "execution_count": 1,
   "metadata": {},
   "outputs": [],
   "source": [
    "import numpy as np\n",
    "import pandas as pd\n",
    "import matplotlib.pyplot as plt\n",
    "from scipy.stats import fisher_exact"
   ]
  },
  {
   "cell_type": "markdown",
   "metadata": {},
   "source": [
    "## Load modality analysis"
   ]
  },
  {
   "cell_type": "code",
   "execution_count": 2,
   "metadata": {},
   "outputs": [
    {
     "data": {
      "text/html": [
       "<div>\n",
       "<style scoped>\n",
       "    .dataframe tbody tr th:only-of-type {\n",
       "        vertical-align: middle;\n",
       "    }\n",
       "\n",
       "    .dataframe tbody tr th {\n",
       "        vertical-align: top;\n",
       "    }\n",
       "\n",
       "    .dataframe thead th {\n",
       "        text-align: right;\n",
       "    }\n",
       "</style>\n",
       "<table border=\"1\" class=\"dataframe\">\n",
       "  <thead>\n",
       "    <tr style=\"text-align: right;\">\n",
       "      <th></th>\n",
       "      <th>Length</th>\n",
       "      <th>gencodeID</th>\n",
       "      <th>ensemblID</th>\n",
       "      <th>gene_type</th>\n",
       "      <th>Symbol</th>\n",
       "      <th>EntrezID</th>\n",
       "      <th>Class</th>\n",
       "      <th>meanExprs</th>\n",
       "      <th>NumTx</th>\n",
       "      <th>gencodeTx</th>\n",
       "      <th>logFC</th>\n",
       "      <th>AveExpr</th>\n",
       "      <th>t</th>\n",
       "      <th>P.Value</th>\n",
       "      <th>adj.P.Val</th>\n",
       "      <th>B</th>\n",
       "      <th>Modality_AA</th>\n",
       "      <th>Modality_EA</th>\n",
       "    </tr>\n",
       "  </thead>\n",
       "  <tbody>\n",
       "    <tr>\n",
       "      <th>ENSG00000154237.12</th>\n",
       "      <td>17600</td>\n",
       "      <td>ENSG00000154237.12</td>\n",
       "      <td>ENSG00000154237</td>\n",
       "      <td>protein_coding</td>\n",
       "      <td>LRRK1</td>\n",
       "      <td>79705.0</td>\n",
       "      <td>InGen</td>\n",
       "      <td>0.276253</td>\n",
       "      <td>11</td>\n",
       "      <td>ENST00000388948.7|ENST00000534045.5|ENST000005...</td>\n",
       "      <td>-1.116997</td>\n",
       "      <td>4.135360</td>\n",
       "      <td>-13.621754</td>\n",
       "      <td>4.660148e-28</td>\n",
       "      <td>9.920990e-24</td>\n",
       "      <td>53.11471</td>\n",
       "      <td>1</td>\n",
       "      <td>1</td>\n",
       "    </tr>\n",
       "    <tr>\n",
       "      <th>ENSG00000230076.1</th>\n",
       "      <td>318</td>\n",
       "      <td>ENSG00000230076.1</td>\n",
       "      <td>ENSG00000230076</td>\n",
       "      <td>processed_pseudogene</td>\n",
       "      <td>NaN</td>\n",
       "      <td>NaN</td>\n",
       "      <td>InGen</td>\n",
       "      <td>0.598932</td>\n",
       "      <td>1</td>\n",
       "      <td>ENST00000457497.1</td>\n",
       "      <td>-3.861304</td>\n",
       "      <td>-2.091205</td>\n",
       "      <td>-12.567775</td>\n",
       "      <td>3.081205e-25</td>\n",
       "      <td>3.279788e-21</td>\n",
       "      <td>41.41311</td>\n",
       "      <td>2</td>\n",
       "      <td>1</td>\n",
       "    </tr>\n",
       "  </tbody>\n",
       "</table>\n",
       "</div>"
      ],
      "text/plain": [
       "                    Length           gencodeID        ensemblID  \\\n",
       "ENSG00000154237.12   17600  ENSG00000154237.12  ENSG00000154237   \n",
       "ENSG00000230076.1      318   ENSG00000230076.1  ENSG00000230076   \n",
       "\n",
       "                               gene_type Symbol  EntrezID  Class  meanExprs  \\\n",
       "ENSG00000154237.12        protein_coding  LRRK1   79705.0  InGen   0.276253   \n",
       "ENSG00000230076.1   processed_pseudogene    NaN       NaN  InGen   0.598932   \n",
       "\n",
       "                    NumTx                                          gencodeTx  \\\n",
       "ENSG00000154237.12     11  ENST00000388948.7|ENST00000534045.5|ENST000005...   \n",
       "ENSG00000230076.1       1                                  ENST00000457497.1   \n",
       "\n",
       "                       logFC   AveExpr          t       P.Value     adj.P.Val  \\\n",
       "ENSG00000154237.12 -1.116997  4.135360 -13.621754  4.660148e-28  9.920990e-24   \n",
       "ENSG00000230076.1  -3.861304 -2.091205 -12.567775  3.081205e-25  3.279788e-21   \n",
       "\n",
       "                           B  Modality_AA  Modality_EA  \n",
       "ENSG00000154237.12  53.11471            1            1  \n",
       "ENSG00000230076.1   41.41311            2            1  "
      ]
     },
     "execution_count": 2,
     "metadata": {},
     "output_type": "execute_result"
    }
   ],
   "source": [
    "df = pd.read_csv(\"../../_m/degs_with_modality.txt\", sep='\\t', index_col=0)\n",
    "df.head(2)"
   ]
  },
  {
   "cell_type": "markdown",
   "metadata": {},
   "source": [
    "### Subset and select columns of interest"
   ]
  },
  {
   "cell_type": "code",
   "execution_count": 3,
   "metadata": {},
   "outputs": [
    {
     "data": {
      "text/html": [
       "<div>\n",
       "<style scoped>\n",
       "    .dataframe tbody tr th:only-of-type {\n",
       "        vertical-align: middle;\n",
       "    }\n",
       "\n",
       "    .dataframe tbody tr th {\n",
       "        vertical-align: top;\n",
       "    }\n",
       "\n",
       "    .dataframe thead th {\n",
       "        text-align: right;\n",
       "    }\n",
       "</style>\n",
       "<table border=\"1\" class=\"dataframe\">\n",
       "  <thead>\n",
       "    <tr style=\"text-align: right;\">\n",
       "      <th></th>\n",
       "      <th>gencodeID</th>\n",
       "      <th>Symbol</th>\n",
       "      <th>logFC</th>\n",
       "      <th>t</th>\n",
       "      <th>adj.P.Val</th>\n",
       "      <th>Modality_AA</th>\n",
       "      <th>Modality_EA</th>\n",
       "    </tr>\n",
       "  </thead>\n",
       "  <tbody>\n",
       "    <tr>\n",
       "      <th>ENSG00000154237.12</th>\n",
       "      <td>ENSG00000154237.12</td>\n",
       "      <td>LRRK1</td>\n",
       "      <td>-1.116997</td>\n",
       "      <td>-13.621754</td>\n",
       "      <td>9.920990e-24</td>\n",
       "      <td>1</td>\n",
       "      <td>1</td>\n",
       "    </tr>\n",
       "    <tr>\n",
       "      <th>ENSG00000230076.1</th>\n",
       "      <td>ENSG00000230076.1</td>\n",
       "      <td>NaN</td>\n",
       "      <td>-3.861304</td>\n",
       "      <td>-12.567775</td>\n",
       "      <td>3.279788e-21</td>\n",
       "      <td>2</td>\n",
       "      <td>1</td>\n",
       "    </tr>\n",
       "    <tr>\n",
       "      <th>ENSG00000233913.7</th>\n",
       "      <td>ENSG00000233913.7</td>\n",
       "      <td>NaN</td>\n",
       "      <td>-2.272833</td>\n",
       "      <td>-11.622463</td>\n",
       "      <td>7.527018e-19</td>\n",
       "      <td>2</td>\n",
       "      <td>2</td>\n",
       "    </tr>\n",
       "    <tr>\n",
       "      <th>ENSG00000226278.1</th>\n",
       "      <td>ENSG00000226278.1</td>\n",
       "      <td>PSPHP1</td>\n",
       "      <td>-4.320438</td>\n",
       "      <td>-11.566503</td>\n",
       "      <td>7.975422e-19</td>\n",
       "      <td>2</td>\n",
       "      <td>2</td>\n",
       "    </tr>\n",
       "    <tr>\n",
       "      <th>ENSG00000259583.2</th>\n",
       "      <td>ENSG00000259583.2</td>\n",
       "      <td>NaN</td>\n",
       "      <td>-1.017516</td>\n",
       "      <td>-11.006935</td>\n",
       "      <td>2.009161e-17</td>\n",
       "      <td>1</td>\n",
       "      <td>1</td>\n",
       "    </tr>\n",
       "  </tbody>\n",
       "</table>\n",
       "</div>"
      ],
      "text/plain": [
       "                             gencodeID  Symbol     logFC          t  \\\n",
       "ENSG00000154237.12  ENSG00000154237.12   LRRK1 -1.116997 -13.621754   \n",
       "ENSG00000230076.1    ENSG00000230076.1     NaN -3.861304 -12.567775   \n",
       "ENSG00000233913.7    ENSG00000233913.7     NaN -2.272833 -11.622463   \n",
       "ENSG00000226278.1    ENSG00000226278.1  PSPHP1 -4.320438 -11.566503   \n",
       "ENSG00000259583.2    ENSG00000259583.2     NaN -1.017516 -11.006935   \n",
       "\n",
       "                       adj.P.Val  Modality_AA  Modality_EA  \n",
       "ENSG00000154237.12  9.920990e-24            1            1  \n",
       "ENSG00000230076.1   3.279788e-21            2            1  \n",
       "ENSG00000233913.7   7.527018e-19            2            2  \n",
       "ENSG00000226278.1   7.975422e-19            2            2  \n",
       "ENSG00000259583.2   2.009161e-17            1            1  "
      ]
     },
     "execution_count": 3,
     "metadata": {},
     "output_type": "execute_result"
    }
   ],
   "source": [
    "degs = df[(df['adj.P.Val'] <= 0.05)].loc[:, ['gencodeID', 'Symbol', 'logFC', 't', \n",
    "                                             'adj.P.Val', 'Modality_AA', 'Modality_EA']].copy()\n",
    "degs.head()"
   ]
  },
  {
   "cell_type": "markdown",
   "metadata": {},
   "source": [
    "## Summarize modalities"
   ]
  },
  {
   "cell_type": "markdown",
   "metadata": {},
   "source": [
    "### AA"
   ]
  },
  {
   "cell_type": "code",
   "execution_count": 4,
   "metadata": {},
   "outputs": [
    {
     "data": {
      "text/plain": [
       "Modality_AA\n",
       "1    2174\n",
       "2     375\n",
       "3     117\n",
       "4      22\n",
       "5       4\n",
       "dtype: int64"
      ]
     },
     "execution_count": 4,
     "metadata": {},
     "output_type": "execute_result"
    }
   ],
   "source": [
    "degs.groupby(['Modality_AA']).size()"
   ]
  },
  {
   "cell_type": "markdown",
   "metadata": {},
   "source": [
    "### EA"
   ]
  },
  {
   "cell_type": "code",
   "execution_count": 5,
   "metadata": {},
   "outputs": [
    {
     "data": {
      "text/plain": [
       "Modality_EA\n",
       "1    2292\n",
       "2     326\n",
       "3      65\n",
       "4       6\n",
       "5       3\n",
       "dtype: int64"
      ]
     },
     "execution_count": 5,
     "metadata": {},
     "output_type": "execute_result"
    }
   ],
   "source": [
    "degs.groupby(['Modality_EA']).size()"
   ]
  },
  {
   "cell_type": "markdown",
   "metadata": {},
   "source": [
    "## Plot histogram"
   ]
  },
  {
   "cell_type": "markdown",
   "metadata": {},
   "source": [
    "### AA"
   ]
  },
  {
   "cell_type": "code",
   "execution_count": 6,
   "metadata": {},
   "outputs": [
    {
     "data": {
      "image/png": "[encoded data removed]",
      "text/plain": [
       "<Figure size 432x288 with 1 Axes>"
      ]
     },
     "metadata": {
      "needs_background": "light"
     },
     "output_type": "display_data"
    }
   ],
   "source": [
    "ax = degs['Modality_AA'].value_counts().plot(kind='barh', facecolor='red', title='AA Modality in DEG')\n",
    "ax.figure.savefig(\"AA_modality.pdf\")\n",
    "ax.figure.savefig(\"AA_modality.png\")\n",
    "ax.figure.savefig(\"AA_modality.svg\")"
   ]
  },
  {
   "cell_type": "markdown",
   "metadata": {},
   "source": [
    "### EA"
   ]
  },
  {
   "cell_type": "code",
   "execution_count": 8,
   "metadata": {},
   "outputs": [
    {
     "data": {
      "image/png": "[encoded data removed]",
      "text/plain": [
       "<Figure size 432x288 with 1 Axes>"
      ]
     },
     "metadata": {
      "needs_background": "light"
     },
     "output_type": "display_data"
    }
   ],
   "source": [
    "ax = degs['Modality_EA'].value_counts().plot(kind='barh', facecolor='blue', title='EA Modality in DEG')\n",
    "ax.figure.savefig(\"EA_modality.pdf\")\n",
    "ax.figure.savefig(\"EA_modality.png\")\n",
    "ax.figure.savefig(\"EA_modality.svg\")"
   ]
  },
  {
   "cell_type": "markdown",
   "metadata": {},
   "source": [
    "## Categories of modality"
   ]
  },
  {
   "cell_type": "code",
   "execution_count": 7,
   "metadata": {},
   "outputs": [
    {
     "data": {
      "text/plain": [
       "[[1888, 286], [404, 114]]"
      ]
     },
     "execution_count": 7,
     "metadata": {},
     "output_type": "execute_result"
    }
   ],
   "source": [
    "table = [[np.sum((degs['Modality_AA'] == 1) & (degs[\"Modality_EA\"] == 1)), # One vs One (grouping)\n",
    "          np.sum((degs['Modality_AA'] == 1) & (degs[\"Modality_EA\"] >= 2))], # One AA vs multiple EA\n",
    "         [np.sum((degs['Modality_AA'] >= 2) & (degs[\"Modality_EA\"] == 1)), # Multiple AA vs One EA\n",
    "          np.sum((degs['Modality_AA'] >= 2) & (degs[\"Modality_EA\"] >= 2))]] # Multiple vs Multiple\n",
    "table"
   ]
  },
  {
   "cell_type": "code",
   "execution_count": 8,
   "metadata": {},
   "outputs": [
    {
     "data": {
      "text/plain": [
       "(1.8627708924738628, 1.2757975909025135e-06)"
      ]
     },
     "execution_count": 8,
     "metadata": {},
     "output_type": "execute_result"
    }
   ],
   "source": [
    "fisher_exact(table)"
   ]
  },
  {
   "cell_type": "code",
   "execution_count": 12,
   "metadata": {},
   "outputs": [],
   "source": [
    "mod_cat = [];\n",
    "for index, row in degs.iterrows():\n",
    "    if row['Modality_AA'] == 1:\n",
    "        if row['Modality_EA'] == 1:\n",
    "            mod_cat.append(\"One_vs_One\")\n",
    "        else:\n",
    "            mod_cat.append(\"One_vs_Multi\")\n",
    "    else:\n",
    "        if row['Modality_EA'] == 1:\n",
    "            mod_cat.append(\"Multi_vs_One\")\n",
    "        else:\n",
    "            mod_cat.append(\"Multi_vs_Multi\")\n",
    "degs[\"Modal_Category\"] = mod_cat"
   ]
  },
  {
   "cell_type": "code",
   "execution_count": 14,
   "metadata": {},
   "outputs": [
    {
     "data": {
      "text/plain": [
       "Modal_Category\n",
       "Multi_vs_Multi     547\n",
       "Multi_vs_One       784\n",
       "One_vs_Multi       551\n",
       "One_vs_One        3221\n",
       "dtype: int64"
      ]
     },
     "execution_count": 14,
     "metadata": {},
     "output_type": "execute_result"
    }
   ],
   "source": [
    "degs.groupby(\"Modal_Category\").size()"
   ]
  },
  {
   "cell_type": "code",
   "execution_count": null,
   "metadata": {},
   "outputs": [],
   "source": [
    "degs[\"Tissue\"] = \"Dentate_Gyrus\"\n",
    "degs.to_csv(\"diffExpr_AAvsEA_annotated_modality.tsv\", sep='\\t')"
   ]
  }
 ],
 "metadata": {
  "kernelspec": {
   "display_name": "Python 3",
   "language": "python",
   "name": "python3"
  },
  "language_info": {
   "codemirror_mode": {
    "name": "ipython",
    "version": 3
   },
   "file_extension": ".py",
   "mimetype": "text/x-python",
   "name": "python",
   "nbconvert_exporter": "python",
   "pygments_lexer": "ipython3",
   "version": "3.8.6"
  }
 },
 "nbformat": 4,
 "nbformat_minor": 4
}
