{
 "cells": [
  {
   "cell_type": "markdown",
   "metadata": {},
   "source": [
    "# Cell type enrichment analysis"
   ]
  },
  {
   "cell_type": "code",
   "execution_count": 1,
   "metadata": {},
   "outputs": [],
   "source": [
    "import functools\n",
    "import numpy as np\n",
    "import pandas as pd\n",
    "from scipy.stats import fisher_exact\n",
    "from statsmodels.stats.multitest import fdrcorrection"
   ]
  },
  {
   "cell_type": "code",
   "execution_count": 2,
   "metadata": {},
   "outputs": [],
   "source": [
    "config = {\n",
    "    'celltype': '../../../../../input/celltypes/_m/Zeisel_single_cell.tsv',\n",
    "    'deg_file': '../../_m/genes/diffExpr_EAvsAA_full.txt',\n",
    "}"
   ]
  },
  {
   "cell_type": "code",
   "execution_count": 3,
   "metadata": {},
   "outputs": [],
   "source": [
    "@functools.lru_cache()\n",
    "def get_celltype_genes():\n",
    "    return pd.read_csv(config['celltype'], sep='\\t', index_col=0)\n",
    "\n",
    "\n",
    "@functools.lru_cache()\n",
    "def get_deg():\n",
    "    return pd.read_csv(config['deg_file'], sep='\\t', index_col=0)\n",
    "\n",
    "\n",
    "@functools.lru_cache()\n",
    "def merge_dataframe(celltype):\n",
    "    deg = get_deg()\n",
    "    ct = get_celltype_genes()\n",
    "    ctp = ct.loc[:, [celltype]]\n",
    "    return pd.merge(deg, ctp, left_on='Symbol', right_index=True)"
   ]
  },
  {
   "cell_type": "code",
   "execution_count": 6,
   "metadata": {},
   "outputs": [],
   "source": [
    "def cal_fishers_direction(celltype, direction):\n",
    "    df = merge_dataframe(celltype)\n",
    "    if direction == 'Up':\n",
    "        df = df[(df['t'] > 0)].copy()\n",
    "    elif direction == 'Down':\n",
    "        df = df[(df['t'] < 0)].copy()\n",
    "    else:\n",
    "        df = df\n",
    "    \n",
    "    table = [[np.sum((df['adj.P.Val']<0.05) & (df[celltype] == 1)), \n",
    "              np.sum((df['adj.P.Val']<0.05) & (df[celltype] == 0))],\n",
    "             [np.sum((df['adj.P.Val']>0.05) & (df[celltype] == 1)), \n",
    "              np.sum((df['adj.P.Val']>0.05) & (df[celltype] == 0))]]\n",
    "    #print(table)\n",
    "    return fisher_exact(table)"
   ]
  },
  {
   "cell_type": "markdown",
   "metadata": {},
   "source": [
    "## Calculate enrichment"
   ]
  },
  {
   "cell_type": "code",
   "execution_count": 7,
   "metadata": {},
   "outputs": [],
   "source": [
    "unique_celltypes = get_celltype_genes().columns.unique()\n",
    "dir_lt = []; ct_lt = []; pval_lt = []; oddratio_lt = []\n",
    "for direction in ['Up', 'Down', 'All']:\n",
    "    for celltype in unique_celltypes:\n",
    "        odd_ratio, pval = cal_fishers_direction(celltype, direction)\n",
    "        ct_lt.append(celltype); pval_lt.append(pval);\n",
    "        oddratio_lt.append(odd_ratio); dir_lt.append(direction)\n",
    "\n",
    "dt = pd.DataFrame({'Cell_type': ct_lt, 'OR': oddratio_lt, \n",
    "                   'PValue': pval_lt, 'Direction': dir_lt})\n",
    "_, fdr = fdrcorrection(dt.PValue)\n",
    "dt['FDR'] = fdr"
   ]
  },
  {
   "cell_type": "code",
   "execution_count": 8,
   "metadata": {},
   "outputs": [
    {
     "data": {
      "text/html": [
       "<div>\n",
       "<style scoped>\n",
       "    .dataframe tbody tr th:only-of-type {\n",
       "        vertical-align: middle;\n",
       "    }\n",
       "\n",
       "    .dataframe tbody tr th {\n",
       "        vertical-align: top;\n",
       "    }\n",
       "\n",
       "    .dataframe thead th {\n",
       "        text-align: right;\n",
       "    }\n",
       "</style>\n",
       "<table border=\"1\" class=\"dataframe\">\n",
       "  <thead>\n",
       "    <tr style=\"text-align: right;\">\n",
       "      <th></th>\n",
       "      <th>Cell_type</th>\n",
       "      <th>OR</th>\n",
       "      <th>PValue</th>\n",
       "      <th>Direction</th>\n",
       "      <th>FDR</th>\n",
       "    </tr>\n",
       "  </thead>\n",
       "  <tbody>\n",
       "    <tr>\n",
       "      <th>33</th>\n",
       "      <td>Telencephalon inhibitory interneurons</td>\n",
       "      <td>0.640266</td>\n",
       "      <td>0.000848</td>\n",
       "      <td>Up</td>\n",
       "      <td>0.033062</td>\n",
       "    </tr>\n",
       "    <tr>\n",
       "      <th>55</th>\n",
       "      <td>Olfactory inhibitory neurons</td>\n",
       "      <td>0.592414</td>\n",
       "      <td>0.000103</td>\n",
       "      <td>Down</td>\n",
       "      <td>0.012067</td>\n",
       "    </tr>\n",
       "    <tr>\n",
       "      <th>90</th>\n",
       "      <td>Hindbrain neurons</td>\n",
       "      <td>0.731664</td>\n",
       "      <td>0.000562</td>\n",
       "      <td>All</td>\n",
       "      <td>0.032895</td>\n",
       "    </tr>\n",
       "  </tbody>\n",
       "</table>\n",
       "</div>"
      ],
      "text/plain": [
       "                                Cell_type        OR    PValue Direction  \\\n",
       "33  Telencephalon inhibitory interneurons  0.640266  0.000848        Up   \n",
       "55           Olfactory inhibitory neurons  0.592414  0.000103      Down   \n",
       "90                      Hindbrain neurons  0.731664  0.000562       All   \n",
       "\n",
       "         FDR  \n",
       "33  0.033062  \n",
       "55  0.012067  \n",
       "90  0.032895  "
      ]
     },
     "execution_count": 8,
     "metadata": {},
     "output_type": "execute_result"
    }
   ],
   "source": [
    "dt.to_csv('celltype_enrichment_analysis.txt', sep='\\t', index=False)\n",
    "dt[(dt.FDR <= 0.05)]"
   ]
  },
  {
   "cell_type": "code",
   "execution_count": null,
   "metadata": {},
   "outputs": [],
   "source": []
  }
 ],
 "metadata": {
  "kernelspec": {
   "display_name": "Python 3",
   "language": "python",
   "name": "python3"
  },
  "language_info": {
   "codemirror_mode": {
    "name": "ipython",
    "version": 3
   },
   "file_extension": ".py",
   "mimetype": "text/x-python",
   "name": "python",
   "nbconvert_exporter": "python",
   "pygments_lexer": "ipython3",
   "version": "3.9.1"
  }
 },
 "nbformat": 4,
 "nbformat_minor": 4
}
