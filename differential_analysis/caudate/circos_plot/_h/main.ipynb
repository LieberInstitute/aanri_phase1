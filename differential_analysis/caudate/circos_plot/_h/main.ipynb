{
 "cells": [
  {
   "cell_type": "markdown",
   "metadata": {},
   "source": [
    "# Generate circlized plot for gender only analysis DEG results"
   ]
  },
  {
   "cell_type": "code",
   "execution_count": 1,
   "metadata": {},
   "outputs": [
    {
     "name": "stderr",
     "output_type": "stream",
     "text": [
      "========================================\n",
      "circlize version 0.4.12\n",
      "CRAN page: https://cran.r-project.org/package=circlize\n",
      "Github page: https://github.com/jokergoo/circlize\n",
      "Documentation: https://jokergoo.github.io/circlize_book/book/\n",
      "\n",
      "If you use it in published research, please cite:\n",
      "Gu, Z. circlize implements and enhances circular visualization\n",
      "  in R. Bioinformatics 2014.\n",
      "\n",
      "This message can be suppressed by:\n",
      "  suppressPackageStartupMessages(library(circlize))\n",
      "========================================\n",
      "\n",
      "\n",
      "-- \u001b[1mAttaching packages\u001b[22m ----------------------------------------------------------------------------------------------------------------------------------------------------------------------------------------------------- tidyverse 1.3.0 --\n",
      "\n",
      "\u001b[32mv\u001b[39m \u001b[34mggplot2\u001b[39m 3.3.3     \u001b[32mv\u001b[39m \u001b[34mpurrr  \u001b[39m 0.3.4\n",
      "\u001b[32mv\u001b[39m \u001b[34mtibble \u001b[39m 3.1.0     \u001b[32mv\u001b[39m \u001b[34mdplyr  \u001b[39m 1.0.5\n",
      "\u001b[32mv\u001b[39m \u001b[34mtidyr  \u001b[39m 1.1.3     \u001b[32mv\u001b[39m \u001b[34mstringr\u001b[39m 1.4.0\n",
      "\u001b[32mv\u001b[39m \u001b[34mreadr  \u001b[39m 1.4.0     \u001b[32mv\u001b[39m \u001b[34mforcats\u001b[39m 0.5.1\n",
      "\n",
      "-- \u001b[1mConflicts\u001b[22m -------------------------------------------------------------------------------------------------------------------------------------------------------------------------------------------------------- tidyverse_conflicts() --\n",
      "\u001b[31mx\u001b[39m \u001b[34mdplyr\u001b[39m::\u001b[32mfilter()\u001b[39m masks \u001b[34mstats\u001b[39m::filter()\n",
      "\u001b[31mx\u001b[39m \u001b[34mdplyr\u001b[39m::\u001b[32mlag()\u001b[39m    masks \u001b[34mstats\u001b[39m::lag()\n",
      "\u001b[31mx\u001b[39m \u001b[34mdplyr\u001b[39m::\u001b[32mselect()\u001b[39m masks \u001b[34mbiomaRt\u001b[39m::select()\n",
      "\n",
      "Loading required package: grid\n",
      "\n",
      "========================================\n",
      "ComplexHeatmap version 2.6.2\n",
      "Bioconductor page: http://bioconductor.org/packages/ComplexHeatmap/\n",
      "Github page: https://github.com/jokergoo/ComplexHeatmap\n",
      "Documentation: http://jokergoo.github.io/ComplexHeatmap-reference\n",
      "\n",
      "If you use it in published research, please cite:\n",
      "Gu, Z. Complex heatmaps reveal patterns and correlations in multidimensional \n",
      "  genomic data. Bioinformatics 2016.\n",
      "\n",
      "This message can be suppressed by:\n",
      "  suppressPackageStartupMessages(library(ComplexHeatmap))\n",
      "========================================\n",
      "\n",
      "\n"
     ]
    }
   ],
   "source": [
    "library(biomaRt)\n",
    "library(circlize)\n",
    "library(tidyverse)\n",
    "library(ComplexHeatmap)"
   ]
  },
  {
   "cell_type": "markdown",
   "metadata": {},
   "source": [
    "## Prepare data"
   ]
  },
  {
   "cell_type": "markdown",
   "metadata": {},
   "source": [
    "### Get gene annotation"
   ]
  },
  {
   "cell_type": "code",
   "execution_count": 2,
   "metadata": {},
   "outputs": [
    {
     "data": {
      "text/html": [
       "<table class=\"dataframe\">\n",
       "<caption>A data.frame: 2 × 4</caption>\n",
       "<thead>\n",
       "\t<tr><th></th><th scope=col>ensembl_gene_id</th><th scope=col>chromosome_name</th><th scope=col>start_position</th><th scope=col>end_position</th></tr>\n",
       "\t<tr><th></th><th scope=col>&lt;chr&gt;</th><th scope=col>&lt;chr&gt;</th><th scope=col>&lt;int&gt;</th><th scope=col>&lt;int&gt;</th></tr>\n",
       "</thead>\n",
       "<tbody>\n",
       "\t<tr><th scope=row>1</th><td>ENSG00000210049</td><td>MT</td><td>577</td><td> 647</td></tr>\n",
       "\t<tr><th scope=row>2</th><td>ENSG00000211459</td><td>MT</td><td>648</td><td>1601</td></tr>\n",
       "</tbody>\n",
       "</table>\n"
      ],
      "text/latex": [
       "A data.frame: 2 × 4\n",
       "\\begin{tabular}{r|llll}\n",
       "  & ensembl\\_gene\\_id & chromosome\\_name & start\\_position & end\\_position\\\\\n",
       "  & <chr> & <chr> & <int> & <int>\\\\\n",
       "\\hline\n",
       "\t1 & ENSG00000210049 & MT & 577 &  647\\\\\n",
       "\t2 & ENSG00000211459 & MT & 648 & 1601\\\\\n",
       "\\end{tabular}\n"
      ],
      "text/markdown": [
       "\n",
       "A data.frame: 2 × 4\n",
       "\n",
       "| <!--/--> | ensembl_gene_id &lt;chr&gt; | chromosome_name &lt;chr&gt; | start_position &lt;int&gt; | end_position &lt;int&gt; |\n",
       "|---|---|---|---|---|\n",
       "| 1 | ENSG00000210049 | MT | 577 |  647 |\n",
       "| 2 | ENSG00000211459 | MT | 648 | 1601 |\n",
       "\n"
      ],
      "text/plain": [
       "  ensembl_gene_id chromosome_name start_position end_position\n",
       "1 ENSG00000210049 MT              577             647        \n",
       "2 ENSG00000211459 MT              648            1601        "
      ]
     },
     "metadata": {},
     "output_type": "display_data"
    }
   ],
   "source": [
    "ensembl = useEnsembl(biomart=\"ensembl\", dataset=\"hsapiens_gene_ensembl\")\n",
    "biomart = getBM(attributes=c('ensembl_gene_id', 'chromosome_name', \n",
    "                         'start_position', 'end_position'),\n",
    "            mart=ensembl)\n",
    "biomart %>% head(2)"
   ]
  },
  {
   "cell_type": "markdown",
   "metadata": {},
   "source": [
    "### Get logFC for differential expression analysis"
   ]
  },
  {
   "cell_type": "code",
   "execution_count": 3,
   "metadata": {},
   "outputs": [
    {
     "data": {
      "text/html": [
       "<table class=\"dataframe\">\n",
       "<caption>A data.table: 2 × 5</caption>\n",
       "<thead>\n",
       "\t<tr><th scope=col>gencodeID</th><th scope=col>ensemblID</th><th scope=col>Symbol</th><th scope=col>logFC</th><th scope=col>adj.P.Val</th></tr>\n",
       "\t<tr><th scope=col>&lt;chr&gt;</th><th scope=col>&lt;chr&gt;</th><th scope=col>&lt;chr&gt;</th><th scope=col>&lt;dbl&gt;</th><th scope=col>&lt;dbl&gt;</th></tr>\n",
       "</thead>\n",
       "<tbody>\n",
       "\t<tr><td>ENSG00000272977.1</td><td>ENSG00000272977</td><td></td><td> 2.197155</td><td>1.293546e-22</td></tr>\n",
       "\t<tr><td>ENSG00000233913.7</td><td>ENSG00000233913</td><td></td><td>-2.941671</td><td>1.511451e-22</td></tr>\n",
       "</tbody>\n",
       "</table>\n"
      ],
      "text/latex": [
       "A data.table: 2 × 5\n",
       "\\begin{tabular}{lllll}\n",
       " gencodeID & ensemblID & Symbol & logFC & adj.P.Val\\\\\n",
       " <chr> & <chr> & <chr> & <dbl> & <dbl>\\\\\n",
       "\\hline\n",
       "\t ENSG00000272977.1 & ENSG00000272977 &  &  2.197155 & 1.293546e-22\\\\\n",
       "\t ENSG00000233913.7 & ENSG00000233913 &  & -2.941671 & 1.511451e-22\\\\\n",
       "\\end{tabular}\n"
      ],
      "text/markdown": [
       "\n",
       "A data.table: 2 × 5\n",
       "\n",
       "| gencodeID &lt;chr&gt; | ensemblID &lt;chr&gt; | Symbol &lt;chr&gt; | logFC &lt;dbl&gt; | adj.P.Val &lt;dbl&gt; |\n",
       "|---|---|---|---|---|\n",
       "| ENSG00000272977.1 | ENSG00000272977 | <!----> |  2.197155 | 1.293546e-22 |\n",
       "| ENSG00000233913.7 | ENSG00000233913 | <!----> | -2.941671 | 1.511451e-22 |\n",
       "\n"
      ],
      "text/plain": [
       "  gencodeID         ensemblID       Symbol logFC     adj.P.Val   \n",
       "1 ENSG00000272977.1 ENSG00000272977         2.197155 1.293546e-22\n",
       "2 ENSG00000233913.7 ENSG00000233913        -2.941671 1.511451e-22"
      ]
     },
     "metadata": {},
     "output_type": "display_data"
    }
   ],
   "source": [
    "deg = data.table::fread(\"../../_m/genes/diffExpr_EAvsAA_full.txt\") %>%\n",
    "    select(gencodeID, ensemblID, Symbol, logFC, \"adj.P.Val\")\n",
    "deg %>% head(2)"
   ]
  },
  {
   "cell_type": "markdown",
   "metadata": {},
   "source": [
    "### Merge data and select regions"
   ]
  },
  {
   "cell_type": "code",
   "execution_count": 4,
   "metadata": {},
   "outputs": [],
   "source": [
    "bed = deg %>% \n",
    "    inner_join(biomart, by=c(\"ensemblID\"=\"ensembl_gene_id\")) %>%\n",
    "    select(chromosome_name, start_position, end_position, logFC, \"adj.P.Val\") %>%\n",
    "    mutate(chromosome_name=paste0('chr', chromosome_name))\n",
    "\n",
    "bed_ea = bed %>% filter(logFC > 0, adj.P.Val < 0.05)\n",
    "bed_aa = bed %>% filter(logFC < 0, adj.P.Val < 0.05)\n",
    "bed_nonsig = bed %>% filter(adj.P.Val > 0.05)"
   ]
  },
  {
   "cell_type": "markdown",
   "metadata": {},
   "source": [
    "## Circos Plot"
   ]
  },
  {
   "cell_type": "code",
   "execution_count": 5,
   "metadata": {},
   "outputs": [],
   "source": [
    "plot_circos <- function(bed_list, colors, tissue_name){\n",
    "    lgd_points = Legend(at=c(\"Upregulation in AA\", \"Upregulation in Bias\"), type=\"points\", \n",
    "                        legend_gp=gpar(col = c(\"red\", \"blue\")), \n",
    "                        title_position=\"topleft\", title=\"Ethnicity\", \n",
    "                        background=\"#FFFFFF\")\n",
    "    circos.clear() # clear plot if there is any\n",
    "    circos.par(\"start.degree\" = 90) # rotate 90 degrees\n",
    "    # initialize with ideogram\n",
    "    # use hg38, default is hg19\n",
    "    circos.initializeWithIdeogram(species=\"hg38\") \n",
    "    # add logFC as a genomic track\n",
    "    circos.genomicTrack(bed_list, track.height=inches_h(1),\n",
    "                        text(0, 0, tissue_name, cex = 1),\n",
    "                        panel.fun = function(region, value, ...) {\n",
    "                            i = getI(...)\n",
    "                            circos.genomicPoints(region, value, pch = 16, \n",
    "                                                 cex = 0.6, col = colors[i], ...)\n",
    "    })\n",
    "    draw(lgd_points, x=unit(5, \"mm\"), y=unit(5, \"mm\"), just=c(\"left\", \"bottom\"))\n",
    "}"
   ]
  },
  {
   "cell_type": "code",
   "execution_count": 6,
   "metadata": {},
   "outputs": [],
   "source": [
    "tissue = 'Caudate Nucleus'\n",
    "tissue_name = gsub(\" \", \"_\", tissue)"
   ]
  },
  {
   "cell_type": "code",
   "execution_count": null,
   "metadata": {},
   "outputs": [],
   "source": [
    "plot_circos(list(bed_aa, bed_ea), c(\"red\", \"blue\"), tissue)"
   ]
  },
  {
   "cell_type": "code",
   "execution_count": 23,
   "metadata": {},
   "outputs": [
    {
     "data": {
      "text/html": [
       "<strong>png:</strong> 2"
      ],
      "text/latex": [
       "\\textbf{png:} 2"
      ],
      "text/markdown": [
       "**png:** 2"
      ],
      "text/plain": [
       "png \n",
       "  2 "
      ]
     },
     "metadata": {},
     "output_type": "display_data"
    },
    {
     "data": {
      "text/html": [
       "<strong>png:</strong> 2"
      ],
      "text/latex": [
       "\\textbf{png:} 2"
      ],
      "text/markdown": [
       "**png:** 2"
      ],
      "text/plain": [
       "png \n",
       "  2 "
      ]
     },
     "metadata": {},
     "output_type": "display_data"
    },
    {
     "data": {
      "text/html": [
       "<strong>png:</strong> 2"
      ],
      "text/latex": [
       "\\textbf{png:} 2"
      ],
      "text/markdown": [
       "**png:** 2"
      ],
      "text/plain": [
       "png \n",
       "  2 "
      ]
     },
     "metadata": {},
     "output_type": "display_data"
    }
   ],
   "source": [
    "png(filename = paste0(\"significant_circos_plot_\", tissue_name, \".png\"))\n",
    "plot_circos(list(bed_aa, bed_ea), c(\"red\", \"blue\"), tissue)\n",
    "dev.off()\n",
    "\n",
    "pdf(file = paste0(\"significant_circos_plot_\", tissue_name, \".pdf\"))\n",
    "plot_circos(list(bed_aa, bed_ea), c(\"red\", \"blue\"), tissue)\n",
    "dev.off()\n",
    "\n",
    "svg(filename = paste0(\"significant_circos_plot_\", tissue_name, \".svg\"))\n",
    "plot_circos(list(bed_aa, bed_ea), c(\"red\", \"blue\"), tissue)\n",
    "dev.off()"
   ]
  },
  {
   "cell_type": "code",
   "execution_count": null,
   "metadata": {},
   "outputs": [],
   "source": [
    "plot_circos(list(bed_nonsig, bed_aa, bed_ea), \n",
    "            c(\"gray\", \"red\", \"blue\"), tissue)"
   ]
  },
  {
   "cell_type": "code",
   "execution_count": null,
   "metadata": {},
   "outputs": [],
   "source": [
    "png(filename = paste0(\"allGenes_circos_plot_\", tissue_name, \".png\"))\n",
    "plot_circos(list(bed_nonsig, bed_aa, bed_ea), \n",
    "            c('gray', 'red', 'blue'), tissue)\n",
    "dev.off()\n",
    "\n",
    "pdf(file = paste0(\"allGenes_circos_plot_\", tissue_name, \".pdf\"))\n",
    "plot_circos(list(bed_nonsig, bed_aa, bed_ea), \n",
    "            c('gray', 'red', 'blue'), tissue)\n",
    "dev.off()\n",
    "\n",
    "svg(filename = paste0(\"allGenes_circos_plot_\", tissue_name, \".svg\"))\n",
    "plot_circos(list(bed_nonsig, bed_aa, bed_ea), \n",
    "            c('gray', 'red', 'blue'), tissue)\n",
    "dev.off()"
   ]
  }
 ],
 "metadata": {
  "kernelspec": {
   "display_name": "R",
   "language": "R",
   "name": "ir"
  },
  "language_info": {
   "codemirror_mode": "r",
   "file_extension": ".r",
   "mimetype": "text/x-r-source",
   "name": "R",
   "pygments_lexer": "r",
   "version": "4.0.3"
  }
 },
 "nbformat": 4,
 "nbformat_minor": 4
}
