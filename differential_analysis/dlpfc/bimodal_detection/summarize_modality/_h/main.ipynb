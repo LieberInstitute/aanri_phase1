{
 "cells": [
  {
   "cell_type": "markdown",
   "metadata": {},
   "source": [
    "# Summarize modality of DEGs "
   ]
  },
  {
   "cell_type": "code",
   "execution_count": 8,
   "metadata": {},
   "outputs": [],
   "source": [
    "import numpy as np\n",
    "import pandas as pd\n",
    "import matplotlib.pyplot as plt\n",
    "from scipy.stats import fisher_exact"
   ]
  },
  {
   "cell_type": "markdown",
   "metadata": {},
   "source": [
    "## Load modality analysis"
   ]
  },
  {
   "cell_type": "code",
   "execution_count": 2,
   "metadata": {},
   "outputs": [
    {
     "data": {
      "text/html": [
       "<div>\n",
       "<style scoped>\n",
       "    .dataframe tbody tr th:only-of-type {\n",
       "        vertical-align: middle;\n",
       "    }\n",
       "\n",
       "    .dataframe tbody tr th {\n",
       "        vertical-align: top;\n",
       "    }\n",
       "\n",
       "    .dataframe thead th {\n",
       "        text-align: right;\n",
       "    }\n",
       "</style>\n",
       "<table border=\"1\" class=\"dataframe\">\n",
       "  <thead>\n",
       "    <tr style=\"text-align: right;\">\n",
       "      <th></th>\n",
       "      <th>Length</th>\n",
       "      <th>gencodeID</th>\n",
       "      <th>ensemblID</th>\n",
       "      <th>gene_type</th>\n",
       "      <th>Symbol</th>\n",
       "      <th>EntrezID</th>\n",
       "      <th>Class</th>\n",
       "      <th>meanExprs</th>\n",
       "      <th>NumTx</th>\n",
       "      <th>gencodeTx</th>\n",
       "      <th>logFC</th>\n",
       "      <th>AveExpr</th>\n",
       "      <th>t</th>\n",
       "      <th>P.Value</th>\n",
       "      <th>adj.P.Val</th>\n",
       "      <th>B</th>\n",
       "      <th>Modality_AA</th>\n",
       "      <th>Modality_EA</th>\n",
       "    </tr>\n",
       "  </thead>\n",
       "  <tbody>\n",
       "    <tr>\n",
       "      <th>ENSG00000272977.1</th>\n",
       "      <td>3754</td>\n",
       "      <td>ENSG00000272977.1</td>\n",
       "      <td>ENSG00000272977</td>\n",
       "      <td>sense_intronic</td>\n",
       "      <td>NaN</td>\n",
       "      <td>NaN</td>\n",
       "      <td>InGen</td>\n",
       "      <td>0.447451</td>\n",
       "      <td>1</td>\n",
       "      <td>ENST00000609475.1</td>\n",
       "      <td>1.743231</td>\n",
       "      <td>1.228220</td>\n",
       "      <td>15.822663</td>\n",
       "      <td>1.335410e-43</td>\n",
       "      <td>2.997861e-39</td>\n",
       "      <td>87.873753</td>\n",
       "      <td>2</td>\n",
       "      <td>1</td>\n",
       "    </tr>\n",
       "    <tr>\n",
       "      <th>ENSG00000182698.11</th>\n",
       "      <td>1140</td>\n",
       "      <td>ENSG00000182698.11</td>\n",
       "      <td>ENSG00000182698</td>\n",
       "      <td>protein_coding</td>\n",
       "      <td>RESP18</td>\n",
       "      <td>389075.0</td>\n",
       "      <td>InGen</td>\n",
       "      <td>2.821051</td>\n",
       "      <td>3</td>\n",
       "      <td>ENST00000470719.1|ENST00000392083.5|ENST000003...</td>\n",
       "      <td>2.730990</td>\n",
       "      <td>1.408244</td>\n",
       "      <td>15.346213</td>\n",
       "      <td>1.242416e-41</td>\n",
       "      <td>1.394549e-37</td>\n",
       "      <td>83.539264</td>\n",
       "      <td>2</td>\n",
       "      <td>2</td>\n",
       "    </tr>\n",
       "  </tbody>\n",
       "</table>\n",
       "</div>"
      ],
      "text/plain": [
       "                    Length           gencodeID        ensemblID  \\\n",
       "ENSG00000272977.1     3754   ENSG00000272977.1  ENSG00000272977   \n",
       "ENSG00000182698.11    1140  ENSG00000182698.11  ENSG00000182698   \n",
       "\n",
       "                         gene_type  Symbol  EntrezID  Class  meanExprs  NumTx  \\\n",
       "ENSG00000272977.1   sense_intronic     NaN       NaN  InGen   0.447451      1   \n",
       "ENSG00000182698.11  protein_coding  RESP18  389075.0  InGen   2.821051      3   \n",
       "\n",
       "                                                            gencodeTx  \\\n",
       "ENSG00000272977.1                                   ENST00000609475.1   \n",
       "ENSG00000182698.11  ENST00000470719.1|ENST00000392083.5|ENST000003...   \n",
       "\n",
       "                       logFC   AveExpr          t       P.Value     adj.P.Val  \\\n",
       "ENSG00000272977.1   1.743231  1.228220  15.822663  1.335410e-43  2.997861e-39   \n",
       "ENSG00000182698.11  2.730990  1.408244  15.346213  1.242416e-41  1.394549e-37   \n",
       "\n",
       "                            B  Modality_AA  Modality_EA  \n",
       "ENSG00000272977.1   87.873753            2            1  \n",
       "ENSG00000182698.11  83.539264            2            2  "
      ]
     },
     "execution_count": 2,
     "metadata": {},
     "output_type": "execute_result"
    }
   ],
   "source": [
    "df = pd.read_csv(\"../../_m/degs_with_modality.txt\", sep='\\t', index_col=0)\n",
    "df.head(2)"
   ]
  },
  {
   "cell_type": "markdown",
   "metadata": {},
   "source": [
    "### Subset and select columns of interest"
   ]
  },
  {
   "cell_type": "code",
   "execution_count": 3,
   "metadata": {},
   "outputs": [
    {
     "data": {
      "text/html": [
       "<div>\n",
       "<style scoped>\n",
       "    .dataframe tbody tr th:only-of-type {\n",
       "        vertical-align: middle;\n",
       "    }\n",
       "\n",
       "    .dataframe tbody tr th {\n",
       "        vertical-align: top;\n",
       "    }\n",
       "\n",
       "    .dataframe thead th {\n",
       "        text-align: right;\n",
       "    }\n",
       "</style>\n",
       "<table border=\"1\" class=\"dataframe\">\n",
       "  <thead>\n",
       "    <tr style=\"text-align: right;\">\n",
       "      <th></th>\n",
       "      <th>gencodeID</th>\n",
       "      <th>Symbol</th>\n",
       "      <th>logFC</th>\n",
       "      <th>t</th>\n",
       "      <th>adj.P.Val</th>\n",
       "      <th>Modality_AA</th>\n",
       "      <th>Modality_EA</th>\n",
       "    </tr>\n",
       "  </thead>\n",
       "  <tbody>\n",
       "    <tr>\n",
       "      <th>ENSG00000272977.1</th>\n",
       "      <td>ENSG00000272977.1</td>\n",
       "      <td>NaN</td>\n",
       "      <td>1.743231</td>\n",
       "      <td>15.822663</td>\n",
       "      <td>2.997861e-39</td>\n",
       "      <td>2</td>\n",
       "      <td>1</td>\n",
       "    </tr>\n",
       "    <tr>\n",
       "      <th>ENSG00000182698.11</th>\n",
       "      <td>ENSG00000182698.11</td>\n",
       "      <td>RESP18</td>\n",
       "      <td>2.730990</td>\n",
       "      <td>15.346213</td>\n",
       "      <td>1.394549e-37</td>\n",
       "      <td>2</td>\n",
       "      <td>2</td>\n",
       "    </tr>\n",
       "    <tr>\n",
       "      <th>ENSG00000233913.7</th>\n",
       "      <td>ENSG00000233913.7</td>\n",
       "      <td>NaN</td>\n",
       "      <td>-2.239773</td>\n",
       "      <td>-15.183986</td>\n",
       "      <td>4.321772e-37</td>\n",
       "      <td>2</td>\n",
       "      <td>2</td>\n",
       "    </tr>\n",
       "    <tr>\n",
       "      <th>ENSG00000068654.15</th>\n",
       "      <td>ENSG00000068654.15</td>\n",
       "      <td>POLR1A</td>\n",
       "      <td>0.223029</td>\n",
       "      <td>14.959146</td>\n",
       "      <td>2.709253e-36</td>\n",
       "      <td>1</td>\n",
       "      <td>1</td>\n",
       "    </tr>\n",
       "    <tr>\n",
       "      <th>ENSG00000204894.4</th>\n",
       "      <td>ENSG00000204894.4</td>\n",
       "      <td>NaN</td>\n",
       "      <td>-3.613206</td>\n",
       "      <td>-14.466756</td>\n",
       "      <td>2.203634e-34</td>\n",
       "      <td>2</td>\n",
       "      <td>2</td>\n",
       "    </tr>\n",
       "  </tbody>\n",
       "</table>\n",
       "</div>"
      ],
      "text/plain": [
       "                             gencodeID  Symbol     logFC          t  \\\n",
       "ENSG00000272977.1    ENSG00000272977.1     NaN  1.743231  15.822663   \n",
       "ENSG00000182698.11  ENSG00000182698.11  RESP18  2.730990  15.346213   \n",
       "ENSG00000233913.7    ENSG00000233913.7     NaN -2.239773 -15.183986   \n",
       "ENSG00000068654.15  ENSG00000068654.15  POLR1A  0.223029  14.959146   \n",
       "ENSG00000204894.4    ENSG00000204894.4     NaN -3.613206 -14.466756   \n",
       "\n",
       "                       adj.P.Val  Modality_AA  Modality_EA  \n",
       "ENSG00000272977.1   2.997861e-39            2            1  \n",
       "ENSG00000182698.11  1.394549e-37            2            2  \n",
       "ENSG00000233913.7   4.321772e-37            2            2  \n",
       "ENSG00000068654.15  2.709253e-36            1            1  \n",
       "ENSG00000204894.4   2.203634e-34            2            2  "
      ]
     },
     "execution_count": 3,
     "metadata": {},
     "output_type": "execute_result"
    }
   ],
   "source": [
    "degs = df[(df['adj.P.Val'] <= 0.05)].loc[:, ['gencodeID', 'Symbol', 'logFC', 't', \n",
    "                                             'adj.P.Val', 'Modality_AA', 'Modality_EA']].copy()\n",
    "degs.head()"
   ]
  },
  {
   "cell_type": "markdown",
   "metadata": {},
   "source": [
    "## Summarize modalities"
   ]
  },
  {
   "cell_type": "markdown",
   "metadata": {},
   "source": [
    "### AA"
   ]
  },
  {
   "cell_type": "code",
   "execution_count": 4,
   "metadata": {},
   "outputs": [
    {
     "data": {
      "text/plain": [
       "Modality_AA\n",
       "1    3772\n",
       "2    1253\n",
       "3      71\n",
       "4       6\n",
       "6       1\n",
       "dtype: int64"
      ]
     },
     "execution_count": 4,
     "metadata": {},
     "output_type": "execute_result"
    }
   ],
   "source": [
    "degs.groupby(['Modality_AA']).size()"
   ]
  },
  {
   "cell_type": "markdown",
   "metadata": {},
   "source": [
    "### EA"
   ]
  },
  {
   "cell_type": "code",
   "execution_count": 5,
   "metadata": {},
   "outputs": [
    {
     "data": {
      "text/plain": [
       "Modality_EA\n",
       "1    4005\n",
       "2    1031\n",
       "3      55\n",
       "4      12\n",
       "dtype: int64"
      ]
     },
     "execution_count": 5,
     "metadata": {},
     "output_type": "execute_result"
    }
   ],
   "source": [
    "degs.groupby(['Modality_EA']).size()"
   ]
  },
  {
   "cell_type": "markdown",
   "metadata": {},
   "source": [
    "## Plot histogram"
   ]
  },
  {
   "cell_type": "markdown",
   "metadata": {},
   "source": [
    "### AA"
   ]
  },
  {
   "cell_type": "code",
   "execution_count": 7,
   "metadata": {},
   "outputs": [
    {
     "data": {
      "image/png": "[encoded data removed]",
      "text/plain": [
       "<Figure size 432x288 with 1 Axes>"
      ]
     },
     "metadata": {
      "needs_background": "light"
     },
     "output_type": "display_data"
    }
   ],
   "source": [
    "ax = degs['Modality_AA'].value_counts().plot(kind='barh', facecolor='red', title='AA Modality in DEG')\n",
    "ax.figure.savefig(\"AA_modality.pdf\")\n",
    "ax.figure.savefig(\"AA_modality.png\")\n",
    "ax.figure.savefig(\"AA_modality.svg\")"
   ]
  },
  {
   "cell_type": "markdown",
   "metadata": {},
   "source": [
    "### EA"
   ]
  },
  {
   "cell_type": "code",
   "execution_count": 8,
   "metadata": {},
   "outputs": [
    {
     "data": {
      "image/png": "[encoded data removed]",
      "text/plain": [
       "<Figure size 432x288 with 1 Axes>"
      ]
     },
     "metadata": {
      "needs_background": "light"
     },
     "output_type": "display_data"
    }
   ],
   "source": [
    "ax = degs['Modality_EA'].value_counts().plot(kind='barh', facecolor='blue', title='EA Modality in DEG')\n",
    "ax.figure.savefig(\"EA_modality.pdf\")\n",
    "ax.figure.savefig(\"EA_modality.png\")\n",
    "ax.figure.savefig(\"EA_modality.svg\")"
   ]
  },
  {
   "cell_type": "markdown",
   "metadata": {},
   "source": [
    "## Categories of modality"
   ]
  },
  {
   "cell_type": "code",
   "execution_count": 15,
   "metadata": {},
   "outputs": [
    {
     "data": {
      "text/plain": [
       "[[3221, 551], [784, 547]]"
      ]
     },
     "execution_count": 15,
     "metadata": {},
     "output_type": "execute_result"
    }
   ],
   "source": [
    "table = [[np.sum((degs['Modality_AA'] == 1) & (degs[\"Modality_EA\"] == 1)), # One vs One (grouping)\n",
    "          np.sum((degs['Modality_AA'] == 1) & (degs[\"Modality_EA\"] >= 2))], # One AA vs multiple EA\n",
    "         [np.sum((degs['Modality_AA'] >= 2) & (degs[\"Modality_EA\"] == 1)), # Multiple AA vs One EA\n",
    "          np.sum((degs['Modality_AA'] >= 2) & (degs[\"Modality_EA\"] >= 2))]] # Multiple vs Multiple\n",
    "table"
   ]
  },
  {
   "cell_type": "code",
   "execution_count": 16,
   "metadata": {},
   "outputs": [
    {
     "data": {
      "text/plain": [
       "(4.078593188636616, 2.1532876913659984e-83)"
      ]
     },
     "execution_count": 16,
     "metadata": {},
     "output_type": "execute_result"
    }
   ],
   "source": [
    "fisher_exact(table)"
   ]
  },
  {
   "cell_type": "code",
   "execution_count": 12,
   "metadata": {},
   "outputs": [],
   "source": [
    "mod_cat = [];\n",
    "for index, row in degs.iterrows():\n",
    "    if row['Modality_AA'] == 1:\n",
    "        if row['Modality_EA'] == 1:\n",
    "            mod_cat.append(\"One_vs_One\")\n",
    "        else:\n",
    "            mod_cat.append(\"One_vs_Multi\")\n",
    "    else:\n",
    "        if row['Modality_EA'] == 1:\n",
    "            mod_cat.append(\"Multi_vs_One\")\n",
    "        else:\n",
    "            mod_cat.append(\"Multi_vs_Multi\")\n",
    "degs[\"Modal_Category\"] = mod_cat"
   ]
  },
  {
   "cell_type": "code",
   "execution_count": 14,
   "metadata": {},
   "outputs": [
    {
     "data": {
      "text/plain": [
       "Modal_Category\n",
       "Multi_vs_Multi     547\n",
       "Multi_vs_One       784\n",
       "One_vs_Multi       551\n",
       "One_vs_One        3221\n",
       "dtype: int64"
      ]
     },
     "execution_count": 14,
     "metadata": {},
     "output_type": "execute_result"
    }
   ],
   "source": [
    "degs.groupby(\"Modal_Category\").size()"
   ]
  },
  {
   "cell_type": "code",
   "execution_count": null,
   "metadata": {},
   "outputs": [],
   "source": [
    "degs[\"Tissue\"] = \"DLPFC\"\n",
    "degs.to_csv(\"diffExpr_AAvsEA_annotated_modality.tsv\", sep='\\t')"
   ]
  }
 ],
 "metadata": {
  "kernelspec": {
   "display_name": "Python 3",
   "language": "python",
   "name": "python3"
  },
  "language_info": {
   "codemirror_mode": {
    "name": "ipython",
    "version": 3
   },
   "file_extension": ".py",
   "mimetype": "text/x-python",
   "name": "python",
   "nbconvert_exporter": "python",
   "pygments_lexer": "ipython3",
   "version": "3.8.6"
  }
 },
 "nbformat": 4,
 "nbformat_minor": 4
}
