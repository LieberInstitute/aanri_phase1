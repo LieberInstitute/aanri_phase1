{
 "cells": [
  {
   "cell_type": "markdown",
   "metadata": {},
   "source": [
    "# Visualize results, local splicing"
   ]
  },
  {
   "cell_type": "markdown",
   "metadata": {},
   "source": [
    "## Load Libraries"
   ]
  },
  {
   "cell_type": "code",
   "execution_count": 1,
   "metadata": {
    "execution": {
     "iopub.execute_input": "2021-08-20T23:27:36.513729Z",
     "iopub.status.busy": "2021-08-20T23:27:36.510841Z",
     "iopub.status.idle": "2021-08-20T23:27:41.644040Z",
     "shell.execute_reply": "2021-08-20T23:27:41.642661Z"
    }
   },
   "outputs": [
    {
     "name": "stderr",
     "output_type": "stream",
     "text": [
      "── \u001b[1mAttaching packages\u001b[22m ─────────────────────────────────────── tidyverse 1.3.1 ──\n",
      "\n",
      "\u001b[32m✔\u001b[39m \u001b[34mggplot2\u001b[39m 3.3.5     \u001b[32m✔\u001b[39m \u001b[34mpurrr  \u001b[39m 0.3.4\n",
      "\u001b[32m✔\u001b[39m \u001b[34mtibble \u001b[39m 3.1.2     \u001b[32m✔\u001b[39m \u001b[34mdplyr  \u001b[39m 1.0.7\n",
      "\u001b[32m✔\u001b[39m \u001b[34mtidyr  \u001b[39m 1.1.3     \u001b[32m✔\u001b[39m \u001b[34mstringr\u001b[39m 1.4.0\n",
      "\u001b[32m✔\u001b[39m \u001b[34mreadr  \u001b[39m 1.4.0     \u001b[32m✔\u001b[39m \u001b[34mforcats\u001b[39m 0.5.1\n",
      "\n",
      "── \u001b[1mConflicts\u001b[22m ────────────────────────────────────────── tidyverse_conflicts() ──\n",
      "\u001b[31m✖\u001b[39m \u001b[34mdplyr\u001b[39m::\u001b[32mfilter()\u001b[39m masks \u001b[34mstats\u001b[39m::filter()\n",
      "\u001b[31m✖\u001b[39m \u001b[34mdplyr\u001b[39m::\u001b[32mlag()\u001b[39m    masks \u001b[34mstats\u001b[39m::lag()\n",
      "\n",
      "Loading required package: Rcpp\n",
      "\n",
      "\n",
      "Attaching package: ‘reshape2’\n",
      "\n",
      "\n",
      "The following object is masked from ‘package:tidyr’:\n",
      "\n",
      "    smiths\n",
      "\n",
      "\n",
      "\n",
      "Attaching package: ‘gridExtra’\n",
      "\n",
      "\n",
      "The following object is masked from ‘package:dplyr’:\n",
      "\n",
      "    combine\n",
      "\n",
      "\n",
      "\n",
      "Attaching package: ‘intervals’\n",
      "\n",
      "\n",
      "The following object is masked from ‘package:purrr’:\n",
      "\n",
      "    reduce\n",
      "\n",
      "\n",
      "The following object is masked from ‘package:tidyr’:\n",
      "\n",
      "    expand\n",
      "\n",
      "\n",
      "\n",
      "Attaching package: ‘foreach’\n",
      "\n",
      "\n",
      "The following objects are masked from ‘package:purrr’:\n",
      "\n",
      "    accumulate, when\n",
      "\n",
      "\n"
     ]
    }
   ],
   "source": [
    "library(tidyverse)\n",
    "library(ggplot2)\n",
    "library(DT)\n",
    "library(leafcutter)\n",
    "library(reshape2)\n",
    "library(gridExtra)\n",
    "library(intervals) # needed for pretty strand arrow placement\n",
    "library(foreach)\n",
    "library(grid)\n",
    "library(gtable)\n",
    "library(ggrepel)"
   ]
  },
  {
   "cell_type": "markdown",
   "metadata": {},
   "source": [
    "## Summary of results"
   ]
  },
  {
   "cell_type": "code",
   "execution_count": 2,
   "metadata": {
    "execution": {
     "iopub.execute_input": "2021-08-20T23:27:41.685315Z",
     "iopub.status.busy": "2021-08-20T23:27:41.649800Z",
     "iopub.status.idle": "2021-08-20T23:27:50.094129Z",
     "shell.execute_reply": "2021-08-20T23:27:50.092686Z"
    }
   },
   "outputs": [
    {
     "data": {
      "text/html": [
       "<style>\n",
       ".list-inline {list-style: none; margin:0; padding: 0}\n",
       ".list-inline>li {display: inline-block}\n",
       ".list-inline>li:not(:last-child)::after {content: \"\\00b7\"; padding: 0 .5ex}\n",
       "</style>\n",
       "<ol class=list-inline><li>'introns'</li><li>'clusters'</li><li>'counts'</li><li>'meta'</li><li>'exons_table'</li><li>'pca'</li><li>'intron_summary'</li><li>'cluster_summary'</li><li>'introns_to_plot'</li><li>'cluster_ids'</li><li>'sample_table'</li><li>'annotation_code'</li><li>'code'</li></ol>\n"
      ],
      "text/latex": [
       "\\begin{enumerate*}\n",
       "\\item 'introns'\n",
       "\\item 'clusters'\n",
       "\\item 'counts'\n",
       "\\item 'meta'\n",
       "\\item 'exons\\_table'\n",
       "\\item 'pca'\n",
       "\\item 'intron\\_summary'\n",
       "\\item 'cluster\\_summary'\n",
       "\\item 'introns\\_to\\_plot'\n",
       "\\item 'cluster\\_ids'\n",
       "\\item 'sample\\_table'\n",
       "\\item 'annotation\\_code'\n",
       "\\item 'code'\n",
       "\\end{enumerate*}\n"
      ],
      "text/markdown": [
       "1. 'introns'\n",
       "2. 'clusters'\n",
       "3. 'counts'\n",
       "4. 'meta'\n",
       "5. 'exons_table'\n",
       "6. 'pca'\n",
       "7. 'intron_summary'\n",
       "8. 'cluster_summary'\n",
       "9. 'introns_to_plot'\n",
       "10. 'cluster_ids'\n",
       "11. 'sample_table'\n",
       "12. 'annotation_code'\n",
       "13. 'code'\n",
       "\n",
       "\n"
      ],
      "text/plain": [
       " [1] \"introns\"         \"clusters\"        \"counts\"          \"meta\"           \n",
       " [5] \"exons_table\"     \"pca\"             \"intron_summary\"  \"cluster_summary\"\n",
       " [9] \"introns_to_plot\" \"cluster_ids\"     \"sample_table\"    \"annotation_code\"\n",
       "[13] \"code\"           "
      ]
     },
     "metadata": {},
     "output_type": "display_data"
    }
   ],
   "source": [
    "lname = load('../../_m/leafviz.RData')\n",
    "lname"
   ]
  },
  {
   "cell_type": "code",
   "execution_count": 3,
   "metadata": {
    "execution": {
     "iopub.execute_input": "2021-08-20T23:27:50.101255Z",
     "iopub.status.busy": "2021-08-20T23:27:50.099804Z",
     "iopub.status.idle": "2021-08-20T23:27:50.123603Z",
     "shell.execute_reply": "2021-08-20T23:27:50.122129Z"
    }
   },
   "outputs": [
    {
     "data": {
      "text/html": [
       "<table class=\"dataframe\">\n",
       "<caption>A data.frame: 2 × 2</caption>\n",
       "<thead>\n",
       "\t<tr><th scope=col>group</th><th scope=col>count</th></tr>\n",
       "\t<tr><th scope=col>&lt;chr&gt;</th><th scope=col>&lt;int&gt;</th></tr>\n",
       "</thead>\n",
       "<tbody>\n",
       "\t<tr><td>AA</td><td>123</td></tr>\n",
       "\t<tr><td>EA</td><td> 88</td></tr>\n",
       "</tbody>\n",
       "</table>\n"
      ],
      "text/latex": [
       "A data.frame: 2 × 2\n",
       "\\begin{tabular}{ll}\n",
       " group & count\\\\\n",
       " <chr> & <int>\\\\\n",
       "\\hline\n",
       "\t AA & 123\\\\\n",
       "\t EA &  88\\\\\n",
       "\\end{tabular}\n"
      ],
      "text/markdown": [
       "\n",
       "A data.frame: 2 × 2\n",
       "\n",
       "| group &lt;chr&gt; | count &lt;int&gt; |\n",
       "|---|---|\n",
       "| AA | 123 |\n",
       "| EA |  88 |\n",
       "\n"
      ],
      "text/plain": [
       "  group count\n",
       "1 AA    123  \n",
       "2 EA     88  "
      ]
     },
     "metadata": {},
     "output_type": "display_data"
    }
   ],
   "source": [
    "sample_table"
   ]
  },
  {
   "cell_type": "code",
   "execution_count": 4,
   "metadata": {
    "execution": {
     "iopub.execute_input": "2021-08-20T23:27:50.130429Z",
     "iopub.status.busy": "2021-08-20T23:27:50.128934Z",
     "iopub.status.idle": "2021-08-20T23:27:50.149487Z",
     "shell.execute_reply": "2021-08-20T23:27:50.147717Z"
    }
   },
   "outputs": [
    {
     "data": {
      "text/html": [
       "<table class=\"dataframe\">\n",
       "<caption>A data.frame: 3 × 2</caption>\n",
       "<thead>\n",
       "\t<tr><th scope=col>Results</th><th scope=col>n</th></tr>\n",
       "\t<tr><th scope=col>&lt;chr&gt;</th><th scope=col>&lt;int&gt;</th></tr>\n",
       "</thead>\n",
       "<tbody>\n",
       "\t<tr><td>Number of differentially spliced clusters at FDR = 0.05</td><td>1345</td></tr>\n",
       "\t<tr><td>Fully annotated                                        </td><td> 451</td></tr>\n",
       "\t<tr><td>Contain unannotated junctions                          </td><td> 894</td></tr>\n",
       "</tbody>\n",
       "</table>\n"
      ],
      "text/latex": [
       "A data.frame: 3 × 2\n",
       "\\begin{tabular}{ll}\n",
       " Results & n\\\\\n",
       " <chr> & <int>\\\\\n",
       "\\hline\n",
       "\t Number of differentially spliced clusters at FDR = 0.05 & 1345\\\\\n",
       "\t Fully annotated                                         &  451\\\\\n",
       "\t Contain unannotated junctions                           &  894\\\\\n",
       "\\end{tabular}\n"
      ],
      "text/markdown": [
       "\n",
       "A data.frame: 3 × 2\n",
       "\n",
       "| Results &lt;chr&gt; | n &lt;int&gt; |\n",
       "|---|---|\n",
       "| Number of differentially spliced clusters at FDR = 0.05 | 1345 |\n",
       "| Fully annotated                                         |  451 |\n",
       "| Contain unannotated junctions                           |  894 |\n",
       "\n"
      ],
      "text/plain": [
       "  Results                                                 n   \n",
       "1 Number of differentially spliced clusters at FDR = 0.05 1345\n",
       "2 Fully annotated                                          451\n",
       "3 Contain unannotated junctions                            894"
      ]
     },
     "metadata": {},
     "output_type": "display_data"
    }
   ],
   "source": [
    "cluster_summary"
   ]
  },
  {
   "cell_type": "code",
   "execution_count": 5,
   "metadata": {
    "execution": {
     "iopub.execute_input": "2021-08-20T23:27:50.156426Z",
     "iopub.status.busy": "2021-08-20T23:27:50.154931Z",
     "iopub.status.idle": "2021-08-20T23:27:50.176264Z",
     "shell.execute_reply": "2021-08-20T23:27:50.174799Z"
    }
   },
   "outputs": [
    {
     "data": {
      "text/html": [
       "<table class=\"dataframe\">\n",
       "<caption>A data.frame: 5 × 2</caption>\n",
       "<thead>\n",
       "\t<tr><th scope=col>Results</th><th scope=col>n</th></tr>\n",
       "\t<tr><th scope=col>&lt;chr&gt;</th><th scope=col>&lt;int&gt;</th></tr>\n",
       "</thead>\n",
       "<tbody>\n",
       "\t<tr><td>Number of fully annotated junctions                              </td><td>4273</td></tr>\n",
       "\t<tr><td>Number of junctions with cryptic 5' splice site                  </td><td> 920</td></tr>\n",
       "\t<tr><td>Number of junctions with cryptic 3' splice site                  </td><td>1005</td></tr>\n",
       "\t<tr><td>Number of junctions with two cryptic splice sites                </td><td> 514</td></tr>\n",
       "\t<tr><td>Number of novel junctions that connect two annotated splice sites</td><td> 622</td></tr>\n",
       "</tbody>\n",
       "</table>\n"
      ],
      "text/latex": [
       "A data.frame: 5 × 2\n",
       "\\begin{tabular}{ll}\n",
       " Results & n\\\\\n",
       " <chr> & <int>\\\\\n",
       "\\hline\n",
       "\t Number of fully annotated junctions                               & 4273\\\\\n",
       "\t Number of junctions with cryptic 5' splice site                   &  920\\\\\n",
       "\t Number of junctions with cryptic 3' splice site                   & 1005\\\\\n",
       "\t Number of junctions with two cryptic splice sites                 &  514\\\\\n",
       "\t Number of novel junctions that connect two annotated splice sites &  622\\\\\n",
       "\\end{tabular}\n"
      ],
      "text/markdown": [
       "\n",
       "A data.frame: 5 × 2\n",
       "\n",
       "| Results &lt;chr&gt; | n &lt;int&gt; |\n",
       "|---|---|\n",
       "| Number of fully annotated junctions                               | 4273 |\n",
       "| Number of junctions with cryptic 5' splice site                   |  920 |\n",
       "| Number of junctions with cryptic 3' splice site                   | 1005 |\n",
       "| Number of junctions with two cryptic splice sites                 |  514 |\n",
       "| Number of novel junctions that connect two annotated splice sites |  622 |\n",
       "\n"
      ],
      "text/plain": [
       "  Results                                                           n   \n",
       "1 Number of fully annotated junctions                               4273\n",
       "2 Number of junctions with cryptic 5' splice site                    920\n",
       "3 Number of junctions with cryptic 3' splice site                   1005\n",
       "4 Number of junctions with two cryptic splice sites                  514\n",
       "5 Number of novel junctions that connect two annotated splice sites  622"
      ]
     },
     "metadata": {},
     "output_type": "display_data"
    }
   ],
   "source": [
    "intron_summary"
   ]
  },
  {
   "cell_type": "code",
   "execution_count": 6,
   "metadata": {
    "execution": {
     "iopub.execute_input": "2021-08-20T23:27:50.183079Z",
     "iopub.status.busy": "2021-08-20T23:27:50.181590Z",
     "iopub.status.idle": "2021-08-20T23:27:50.211961Z",
     "shell.execute_reply": "2021-08-20T23:27:50.210550Z"
    }
   },
   "outputs": [
    {
     "data": {
      "text/html": [
       "<table class=\"dataframe\">\n",
       "<caption>A data.frame: 6 × 6</caption>\n",
       "<thead>\n",
       "\t<tr><th></th><th scope=col>clusterID</th><th scope=col>N</th><th scope=col>coord</th><th scope=col>gene</th><th scope=col>annotation</th><th scope=col>FDR</th></tr>\n",
       "\t<tr><th></th><th scope=col>&lt;chr&gt;</th><th scope=col>&lt;dbl&gt;</th><th scope=col>&lt;chr&gt;</th><th scope=col>&lt;chr&gt;</th><th scope=col>&lt;chr&gt;</th><th scope=col>&lt;dbl&gt;</th></tr>\n",
       "</thead>\n",
       "<tbody>\n",
       "\t<tr><th scope=row>1256</th><td>clu_15424_- </td><td>10</td><td>chr8:101719648-101915809 </td><td>NCALD </td><td>cryptic</td><td>5.90e-107</td></tr>\n",
       "\t<tr><th scope=row>1108</th><td>clu_107876_+</td><td>14</td><td>chr6:26365217-26443957   </td><td>BTN3A3</td><td>cryptic</td><td> 1.72e-77</td></tr>\n",
       "\t<tr><th scope=row>431</th><td>clu_133646_+</td><td> 4</td><td>chr15:25240212-25242072  </td><td>SNHG14</td><td>cryptic</td><td> 1.96e-77</td></tr>\n",
       "\t<tr><th scope=row>960</th><td>clu_86769_+ </td><td> 7</td><td>chr3:129488397-129499902 </td><td>IFT122</td><td>cryptic</td><td> 1.20e-74</td></tr>\n",
       "\t<tr><th scope=row>320</th><td>clu_98593_? </td><td>12</td><td>chr12:124911899-124913724</td><td>UBC   </td><td>cryptic</td><td> 1.37e-74</td></tr>\n",
       "\t<tr><th scope=row>570</th><td>clu_156833_+</td><td>23</td><td>chr17:55774859-55965579  </td><td>PCTP  </td><td>cryptic</td><td> 1.37e-68</td></tr>\n",
       "</tbody>\n",
       "</table>\n"
      ],
      "text/latex": [
       "A data.frame: 6 × 6\n",
       "\\begin{tabular}{r|llllll}\n",
       "  & clusterID & N & coord & gene & annotation & FDR\\\\\n",
       "  & <chr> & <dbl> & <chr> & <chr> & <chr> & <dbl>\\\\\n",
       "\\hline\n",
       "\t1256 & clu\\_15424\\_-  & 10 & chr8:101719648-101915809  & NCALD  & cryptic & 5.90e-107\\\\\n",
       "\t1108 & clu\\_107876\\_+ & 14 & chr6:26365217-26443957    & BTN3A3 & cryptic &  1.72e-77\\\\\n",
       "\t431 & clu\\_133646\\_+ &  4 & chr15:25240212-25242072   & SNHG14 & cryptic &  1.96e-77\\\\\n",
       "\t960 & clu\\_86769\\_+  &  7 & chr3:129488397-129499902  & IFT122 & cryptic &  1.20e-74\\\\\n",
       "\t320 & clu\\_98593\\_?  & 12 & chr12:124911899-124913724 & UBC    & cryptic &  1.37e-74\\\\\n",
       "\t570 & clu\\_156833\\_+ & 23 & chr17:55774859-55965579   & PCTP   & cryptic &  1.37e-68\\\\\n",
       "\\end{tabular}\n"
      ],
      "text/markdown": [
       "\n",
       "A data.frame: 6 × 6\n",
       "\n",
       "| <!--/--> | clusterID &lt;chr&gt; | N &lt;dbl&gt; | coord &lt;chr&gt; | gene &lt;chr&gt; | annotation &lt;chr&gt; | FDR &lt;dbl&gt; |\n",
       "|---|---|---|---|---|---|---|\n",
       "| 1256 | clu_15424_-  | 10 | chr8:101719648-101915809  | NCALD  | cryptic | 5.90e-107 |\n",
       "| 1108 | clu_107876_+ | 14 | chr6:26365217-26443957    | BTN3A3 | cryptic |  1.72e-77 |\n",
       "| 431 | clu_133646_+ |  4 | chr15:25240212-25242072   | SNHG14 | cryptic |  1.96e-77 |\n",
       "| 960 | clu_86769_+  |  7 | chr3:129488397-129499902  | IFT122 | cryptic |  1.20e-74 |\n",
       "| 320 | clu_98593_?  | 12 | chr12:124911899-124913724 | UBC    | cryptic |  1.37e-74 |\n",
       "| 570 | clu_156833_+ | 23 | chr17:55774859-55965579   | PCTP   | cryptic |  1.37e-68 |\n",
       "\n"
      ],
      "text/plain": [
       "     clusterID    N  coord                     gene   annotation FDR      \n",
       "1256 clu_15424_-  10 chr8:101719648-101915809  NCALD  cryptic    5.90e-107\n",
       "1108 clu_107876_+ 14 chr6:26365217-26443957    BTN3A3 cryptic     1.72e-77\n",
       "431  clu_133646_+  4 chr15:25240212-25242072   SNHG14 cryptic     1.96e-77\n",
       "960  clu_86769_+   7 chr3:129488397-129499902  IFT122 cryptic     1.20e-74\n",
       "320  clu_98593_?  12 chr12:124911899-124913724 UBC    cryptic     1.37e-74\n",
       "570  clu_156833_+ 23 chr17:55774859-55965579   PCTP   cryptic     1.37e-68"
      ]
     },
     "metadata": {},
     "output_type": "display_data"
    }
   ],
   "source": [
    "clusters['gene'] <- gsub(\"</i>\", \"\", gsub(\"<i>\", \"\", clusters$gene))\n",
    "head(clusters)"
   ]
  },
  {
   "cell_type": "code",
   "execution_count": 7,
   "metadata": {
    "execution": {
     "iopub.execute_input": "2021-08-20T23:27:50.218820Z",
     "iopub.status.busy": "2021-08-20T23:27:50.217372Z",
     "iopub.status.idle": "2021-08-20T23:27:50.239004Z",
     "shell.execute_reply": "2021-08-20T23:27:50.237574Z"
    }
   },
   "outputs": [],
   "source": [
    "write.table(clusters, file=\"cluster_ds_results_annotated.txt\", sep=\"\\t\", quote=FALSE, row.names=FALSE)"
   ]
  },
  {
   "cell_type": "markdown",
   "metadata": {},
   "source": [
    "## Generate plots"
   ]
  },
  {
   "cell_type": "markdown",
   "metadata": {},
   "source": [
    "### Define functions"
   ]
  },
  {
   "cell_type": "code",
   "execution_count": 8,
   "metadata": {
    "execution": {
     "iopub.execute_input": "2021-08-20T23:27:50.246845Z",
     "iopub.status.busy": "2021-08-20T23:27:50.244795Z",
     "iopub.status.idle": "2021-08-20T23:27:50.263008Z",
     "shell.execute_reply": "2021-08-20T23:27:50.261529Z"
    }
   },
   "outputs": [],
   "source": [
    "filter_intron_table <- function(introns, clu){\n",
    "    d < - introns %>% filter(clusterID == clu) %>% \n",
    "        select(chr, start, end, verdict, deltapsi) %>%\n",
    "        arrange(desc(abs(deltapsi))) %>%\n",
    "        rename(\"ΔPSI\" = deltapsi)\n",
    "    row.names(d) <- letters[1:nrow(d)] # letters is just a:z\n",
    "    return(d)\n",
    "}\n",
    "\n",
    "\n",
    "getGeneLength <- function(gene_name, exons_table){\n",
    "    exons      <- exons_table[ exons_table$gene_name == gene_name, ]\n",
    "    geneStart  <- min(exons$start)\n",
    "    geneEnd    <- max(exons$end)\n",
    "    geneLength <- geneEnd - geneStart\n",
    "    if( geneLength >1e6){\n",
    "        pixels <- 5000\n",
    "    } else if ( geneLength > 5e5 & geneLength < 1e6){\n",
    "        pixels <- 3000\n",
    "    } else if ( geneLength > 1.5e5 & geneLength <= 5e5){\n",
    "        pixels <- 2000\n",
    "    } else {\n",
    "        stopifnot(geneLength <= 1.5e5)\n",
    "        pixels <- \"auto\"\n",
    "    }\n",
    "    return(pixels)\n",
    "}\n",
    "\n",
    "\n",
    "select_data <- function(sel, clusters, exons_table){\n",
    "    gene <- clusters[ sel, ]$gene\n",
    "    width <- getGeneLength(gene, exons_table)\n",
    "    clusterID <- clusters[ sel, ]$clusterID\n",
    "    coord <- clusters[ sel, ]$coord\n",
    "    return(list(gene = gene, width = width, cluster = clusterID, coord = coord))\n",
    "}"
   ]
  },
  {
   "cell_type": "markdown",
   "metadata": {},
   "source": [
    "### Plotting functions"
   ]
  },
  {
   "cell_type": "code",
   "execution_count": 9,
   "metadata": {
    "execution": {
     "iopub.execute_input": "2021-08-20T23:27:50.270153Z",
     "iopub.status.busy": "2021-08-20T23:27:50.268626Z",
     "iopub.status.idle": "2021-08-20T23:27:50.282809Z",
     "shell.execute_reply": "2021-08-20T23:27:50.281322Z"
    }
   },
   "outputs": [],
   "source": [
    "plot_cluster <- function(num, clusters, dir='./'){\n",
    "    mydata = select_data(num, clusters, exons_table)\n",
    "    while(mydata$gene == '.'){\n",
    "        num = num+1\n",
    "        mydata = select_data(num, clusters, exons_table)\n",
    "    }\n",
    "    gene_name = mydata$gene\n",
    "    plotTitle <- paste0(gene_name, '_', mydata$cluster, '_top_',num,'.pdf')\n",
    "    pdf(file=paste0(dir, plotTitle), width = 10, height = 5)\n",
    "    print(make_cluster_plot(mydata$cluster,\n",
    "                            main_title = plotTitle,\n",
    "                            meta = meta,\n",
    "                            cluster_ids = cluster_ids,\n",
    "                            exons_table = exons_table,\n",
    "                            counts = counts,\n",
    "                            introns = introns))\n",
    "    dev.off()\n",
    "\n",
    "    if (is.numeric(mydata$width)) {\n",
    "        new_width = mydata$width / 100\n",
    "    } else {\n",
    "        new_width = mydata$width\n",
    "    }\n",
    "\n",
    "    pdf(file=paste0(dir, gene_name, '_allClusters_top_',num,'.pdf'), \n",
    "        width=new_width, height=6)\n",
    "    print(make_gene_plot(mydata$gene,\n",
    "                         counts = counts,\n",
    "                         introns = introns,\n",
    "                         exons_table = exons_table,\n",
    "                         cluster_list = clusters,\n",
    "                         clusterID = mydata$clusterID,\n",
    "                         introns_to_plot = introns_to_plot, debug=F))\n",
    "    dev.off()\n",
    "}\n"
   ]
  },
  {
   "cell_type": "markdown",
   "metadata": {},
   "source": [
    "### Plot splicing"
   ]
  },
  {
   "cell_type": "code",
   "execution_count": 10,
   "metadata": {
    "execution": {
     "iopub.execute_input": "2021-08-20T23:27:50.289919Z",
     "iopub.status.busy": "2021-08-20T23:27:50.288404Z",
     "iopub.status.idle": "2021-08-20T23:28:21.161726Z",
     "shell.execute_reply": "2021-08-20T23:28:21.160643Z"
    }
   },
   "outputs": [
    {
     "name": "stderr",
     "output_type": "stream",
     "text": [
      "Warning message:\n",
      "“`guides(<scale> = FALSE)` is deprecated. Please use `guides(<scale> = \"none\")` instead.”\n"
     ]
    },
    {
     "name": "stdout",
     "output_type": "stream",
     "text": [
      "TableGrob (2 x 1) \"arrange\": 2 grobs\n",
      "  z     cells    name           grob\n",
      "1 1 (1-1,1-1) arrange gtable[layout]\n",
      "2 2 (2-2,1-1) arrange gtable[layout]\n"
     ]
    },
    {
     "name": "stderr",
     "output_type": "stream",
     "text": [
      "Warning message:\n",
      "“`guides(<scale> = FALSE)` is deprecated. Please use `guides(<scale> = \"none\")` instead.”\n"
     ]
    },
    {
     "name": "stdout",
     "output_type": "stream",
     "text": [
      "TableGrob (2 x 1) \"arrange\": 2 grobs\n",
      "  z     cells    name           grob\n",
      "1 1 (1-1,1-1) arrange gtable[layout]\n",
      "2 2 (2-2,1-1) arrange gtable[layout]\n"
     ]
    },
    {
     "name": "stderr",
     "output_type": "stream",
     "text": [
      "Warning message:\n",
      "“‘mode(width)’ differs between new and previous\n",
      "\t ==> NOT changing ‘width’”\n",
      "Warning message:\n",
      "“`guides(<scale> = FALSE)` is deprecated. Please use `guides(<scale> = \"none\")` instead.”\n"
     ]
    },
    {
     "name": "stdout",
     "output_type": "stream",
     "text": [
      "TableGrob (2 x 1) \"arrange\": 2 grobs\n",
      "  z     cells    name           grob\n",
      "1 1 (1-1,1-1) arrange gtable[layout]\n",
      "2 2 (2-2,1-1) arrange gtable[layout]\n"
     ]
    },
    {
     "name": "stderr",
     "output_type": "stream",
     "text": [
      "Warning message:\n",
      "“ggrepel: 118 unlabeled data points (too many overlaps). Consider increasing max.overlaps”\n",
      "Warning message:\n",
      "“`guides(<scale> = FALSE)` is deprecated. Please use `guides(<scale> = \"none\")` instead.”\n"
     ]
    },
    {
     "name": "stdout",
     "output_type": "stream",
     "text": [
      "TableGrob (2 x 1) \"arrange\": 2 grobs\n",
      "  z     cells    name           grob\n",
      "1 1 (1-1,1-1) arrange gtable[layout]\n",
      "2 2 (2-2,1-1) arrange gtable[layout]\n"
     ]
    },
    {
     "name": "stderr",
     "output_type": "stream",
     "text": [
      "Warning message:\n",
      "“‘mode(width)’ differs between new and previous\n",
      "\t ==> NOT changing ‘width’”\n",
      "Warning message:\n",
      "“`guides(<scale> = FALSE)` is deprecated. Please use `guides(<scale> = \"none\")` instead.”\n"
     ]
    },
    {
     "name": "stdout",
     "output_type": "stream",
     "text": [
      "TableGrob (2 x 1) \"arrange\": 2 grobs\n",
      "  z     cells    name           grob\n",
      "1 1 (1-1,1-1) arrange gtable[layout]\n",
      "2 2 (2-2,1-1) arrange gtable[layout]\n"
     ]
    },
    {
     "name": "stderr",
     "output_type": "stream",
     "text": [
      "Warning message:\n",
      "“‘mode(width)’ differs between new and previous\n",
      "\t ==> NOT changing ‘width’”\n",
      "Warning message:\n",
      "“ggrepel: 19 unlabeled data points (too many overlaps). Consider increasing max.overlaps”\n",
      "Warning message:\n",
      "“`guides(<scale> = FALSE)` is deprecated. Please use `guides(<scale> = \"none\")` instead.”\n"
     ]
    },
    {
     "name": "stdout",
     "output_type": "stream",
     "text": [
      "TableGrob (2 x 1) \"arrange\": 2 grobs\n",
      "  z     cells    name           grob\n",
      "1 1 (1-1,1-1) arrange gtable[layout]\n",
      "2 2 (2-2,1-1) arrange gtable[layout]\n"
     ]
    },
    {
     "name": "stderr",
     "output_type": "stream",
     "text": [
      "Warning message:\n",
      "“‘mode(width)’ differs between new and previous\n",
      "\t ==> NOT changing ‘width’”\n",
      "Warning message:\n",
      "“`guides(<scale> = FALSE)` is deprecated. Please use `guides(<scale> = \"none\")` instead.”\n"
     ]
    },
    {
     "name": "stdout",
     "output_type": "stream",
     "text": [
      "TableGrob (2 x 1) \"arrange\": 2 grobs\n",
      "  z     cells    name           grob\n",
      "1 1 (1-1,1-1) arrange gtable[layout]\n",
      "2 2 (2-2,1-1) arrange gtable[layout]\n"
     ]
    },
    {
     "name": "stderr",
     "output_type": "stream",
     "text": [
      "Warning message:\n",
      "“‘mode(width)’ differs between new and previous\n",
      "\t ==> NOT changing ‘width’”\n",
      "Warning message:\n",
      "“`guides(<scale> = FALSE)` is deprecated. Please use `guides(<scale> = \"none\")` instead.”\n"
     ]
    },
    {
     "name": "stdout",
     "output_type": "stream",
     "text": [
      "TableGrob (2 x 1) \"arrange\": 2 grobs\n",
      "  z     cells    name           grob\n",
      "1 1 (1-1,1-1) arrange gtable[layout]\n",
      "2 2 (2-2,1-1) arrange gtable[layout]\n"
     ]
    },
    {
     "name": "stderr",
     "output_type": "stream",
     "text": [
      "Warning message:\n",
      "“‘mode(width)’ differs between new and previous\n",
      "\t ==> NOT changing ‘width’”\n",
      "Warning message:\n",
      "“`guides(<scale> = FALSE)` is deprecated. Please use `guides(<scale> = \"none\")` instead.”\n"
     ]
    },
    {
     "name": "stdout",
     "output_type": "stream",
     "text": [
      "TableGrob (2 x 1) \"arrange\": 2 grobs\n",
      "  z     cells    name           grob\n",
      "1 1 (1-1,1-1) arrange gtable[layout]\n",
      "2 2 (2-2,1-1) arrange gtable[layout]\n"
     ]
    },
    {
     "name": "stderr",
     "output_type": "stream",
     "text": [
      "Warning message:\n",
      "“‘mode(width)’ differs between new and previous\n",
      "\t ==> NOT changing ‘width’”\n",
      "Warning message:\n",
      "“`guides(<scale> = FALSE)` is deprecated. Please use `guides(<scale> = \"none\")` instead.”\n"
     ]
    },
    {
     "name": "stdout",
     "output_type": "stream",
     "text": [
      "TableGrob (2 x 1) \"arrange\": 2 grobs\n",
      "  z     cells    name           grob\n",
      "1 1 (1-1,1-1) arrange gtable[layout]\n",
      "2 2 (2-2,1-1) arrange gtable[layout]\n"
     ]
    },
    {
     "name": "stderr",
     "output_type": "stream",
     "text": [
      "Warning message:\n",
      "“‘mode(width)’ differs between new and previous\n",
      "\t ==> NOT changing ‘width’”\n"
     ]
    }
   ],
   "source": [
    "dir.create(\"top10\")\n",
    "for(num in 1:10){\n",
    "    plot_cluster(num, clusters, \"top10/\")\n",
    "}"
   ]
  },
  {
   "cell_type": "code",
   "execution_count": null,
   "metadata": {},
   "outputs": [],
   "source": []
  }
 ],
 "metadata": {
  "kernelspec": {
   "display_name": "R",
   "language": "R",
   "name": "ir"
  },
  "language_info": {
   "codemirror_mode": "r",
   "file_extension": ".r",
   "mimetype": "text/x-r-source",
   "name": "R",
   "pygments_lexer": "r",
   "version": "4.0.3"
  }
 },
 "nbformat": 4,
 "nbformat_minor": 4
}
