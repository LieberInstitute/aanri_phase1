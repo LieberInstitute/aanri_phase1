{
 "cells": [
  {
   "cell_type": "markdown",
   "metadata": {},
   "source": [
    "# Cell type enrichment analysis"
   ]
  },
  {
   "cell_type": "code",
   "execution_count": 1,
   "metadata": {},
   "outputs": [],
   "source": [
    "import functools\n",
    "import numpy as np\n",
    "import pandas as pd\n",
    "from scipy.stats import fisher_exact\n",
    "from statsmodels.stats.multitest import fdrcorrection"
   ]
  },
  {
   "cell_type": "code",
   "execution_count": 2,
   "metadata": {},
   "outputs": [],
   "source": [
    "config = {\n",
    "    'celltype': '../../../../../input/celltypes/_m/Zeisel_single_cell.tsv',\n",
    "    'deg_file': '../../_m/genes/diffExpr_EAvsAA_full.txt',\n",
    "}"
   ]
  },
  {
   "cell_type": "code",
   "execution_count": 3,
   "metadata": {},
   "outputs": [],
   "source": [
    "@functools.lru_cache()\n",
    "def get_celltype_genes():\n",
    "    return pd.read_csv(config['celltype'], sep='\\t', index_col=0)\n",
    "\n",
    "\n",
    "@functools.lru_cache()\n",
    "def get_deg():\n",
    "    return pd.read_csv(config['deg_file'], sep='\\t', index_col=0)\n",
    "\n",
    "\n",
    "@functools.lru_cache()\n",
    "def merge_dataframe(celltype):\n",
    "    deg = get_deg()\n",
    "    ct = get_celltype_genes()\n",
    "    ctp = ct.loc[:, [celltype]]\n",
    "    return pd.merge(deg, ctp, left_on='Symbol', right_index=True)"
   ]
  },
  {
   "cell_type": "code",
   "execution_count": 4,
   "metadata": {},
   "outputs": [],
   "source": [
    "def cal_fishers_direction(celltype, direction):\n",
    "    df = merge_dataframe(celltype)\n",
    "    if direction == 'Up':\n",
    "        df = df[(df['t'] > 0)].copy()\n",
    "    elif direction == 'Down':\n",
    "        df = df[(df['t'] < 0)].copy()\n",
    "    else:\n",
    "        df = df\n",
    "    \n",
    "    table = [[np.sum((df['adj.P.Val']<0.05) & (df[celltype] == 1)), \n",
    "              np.sum((df['adj.P.Val']<0.05) & (df[celltype] == 0))],\n",
    "             [np.sum((df['adj.P.Val']>0.05) & (df[celltype] == 1)), \n",
    "              np.sum((df['adj.P.Val']>0.05) & (df[celltype] == 0))]]\n",
    "    #print(table)\n",
    "    return fisher_exact(table)"
   ]
  },
  {
   "cell_type": "markdown",
   "metadata": {},
   "source": [
    "## Calculate enrichment"
   ]
  },
  {
   "cell_type": "code",
   "execution_count": 6,
   "metadata": {},
   "outputs": [],
   "source": [
    "unique_celltypes = get_celltype_genes().columns.unique()\n",
    "dir_lt = []; ct_lt = []; pval_lt = []; oddratio_lt = []\n",
    "for direction in ['Up', 'Down', 'All']:\n",
    "    for celltype in unique_celltypes:\n",
    "        odd_ratio, pval = cal_fishers_direction(celltype, direction)\n",
    "        ct_lt.append(celltype); pval_lt.append(pval);\n",
    "        oddratio_lt.append(odd_ratio); dir_lt.append(direction)\n",
    "\n",
    "dt = pd.DataFrame({'Cell_type': ct_lt, 'OR': oddratio_lt, \n",
    "                   'PValue': pval_lt, 'Direction': dir_lt})\n",
    "_, fdr = fdrcorrection(dt.PValue)\n",
    "dt['FDR'] = fdr"
   ]
  },
  {
   "cell_type": "code",
   "execution_count": 30,
   "metadata": {},
   "outputs": [],
   "source": [
    "dt.to_csv('celltype_enrichment_analysis.txt', sep='\\t', index=False)\n",
    "dt[(dt.FDR <= 0.05)]"
   ]
  },
  {
   "cell_type": "code",
   "execution_count": null,
   "metadata": {},
   "outputs": [],
   "source": []
  }
 ],
 "metadata": {
  "kernelspec": {
   "display_name": "Python 3",
   "language": "python",
   "name": "python3"
  },
  "language_info": {
   "codemirror_mode": {
    "name": "ipython",
    "version": 3
   },
   "file_extension": ".py",
   "mimetype": "text/x-python",
   "name": "python",
   "nbconvert_exporter": "python",
   "pygments_lexer": "ipython3",
   "version": "3.8.6"
  }
 },
 "nbformat": 4,
 "nbformat_minor": 4
}
