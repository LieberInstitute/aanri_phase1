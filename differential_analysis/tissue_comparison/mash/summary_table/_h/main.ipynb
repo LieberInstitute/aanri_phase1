{
 "cells": [
  {
   "cell_type": "markdown",
   "metadata": {},
   "source": [
    "# Summary of interacting cis-eQTL analysis"
   ]
  },
  {
   "cell_type": "code",
   "execution_count": null,
   "metadata": {},
   "outputs": [],
   "source": [
    "import functools\n",
    "import pandas as pd"
   ]
  },
  {
   "cell_type": "markdown",
   "metadata": {},
   "source": [
    "## Functions"
   ]
  },
  {
   "cell_type": "markdown",
   "metadata": {},
   "source": [
    "### Cached functions"
   ]
  },
  {
   "cell_type": "code",
   "execution_count": null,
   "metadata": {},
   "outputs": [],
   "source": [
    "@functools.lru_cache()\n",
    "def get_mashr_degs(feature, tissue):\n",
    "    df = pd.read_csv(\"../../_m/%s/lfsr_feature_4tissues.txt.gz\" % feature, \n",
    "                     sep='\\t').loc[:, [\"Effect\", tissue]]\n",
    "    return df[(df[tissue] < 0.05)].rename(columns={tissue: \"lfsr\"})\n",
    "\n",
    "\n",
    "@functools.lru_cache()\n",
    "def annotate_degs(feature, tissue):\n",
    "    config = {\n",
    "        \"genes\": \"/ceph/projects/v4_phase3_paper/inputs/counts/text_files_counts/_m/caudate/gene_annotation.tsv\",\n",
    "        \"transcripts\": \"/ceph/projects/v4_phase3_paper/inputs/counts/text_files_counts/_m/caudate/tx_annotation.tsv\", \n",
    "        \"exons\": \"/ceph/projects/v4_phase3_paper/inputs/counts/text_files_counts/_m/caudate/exon_annotation.tsv\",\n",
    "        \"junctions\": \"/ceph/projects/v4_phase3_paper/inputs/counts/text_files_counts/_m/caudate/jxn_annotation.tsv\",\n",
    "    }\n",
    "    annot = pd.read_csv(config[feature], sep='\\t').loc[:, [\"names\", \"seqnames\", \"gencodeID\"]]\n",
    "    return get_mashr_degs(feature, tissue).merge(annot, left_on=\"Effect\", \n",
    "                                                 right_on=\"names\").drop([\"names\"], axis=1)\n"
   ]
  },
  {
   "cell_type": "markdown",
   "metadata": {},
   "source": [
    "### Simple functions"
   ]
  },
  {
   "cell_type": "code",
   "execution_count": null,
   "metadata": {},
   "outputs": [],
   "source": [
    "def extract_features(tissue):\n",
    "    ## Extract significant eQTL using mashr\n",
    "    genes = annotate_degs(\"genes\", tissue)\n",
    "    trans = annotate_degs(\"transcripts\", tissue)\n",
    "    exons = annotate_degs(\"exons\", tissue)\n",
    "    juncs = annotate_degs(\"junctions\", tissue)\n",
    "    return genes, trans, exons, juncs\n",
    "\n",
    "\n",
    "def output_summary(tissue, variable):\n",
    "    ## Extract eQTL using mashr\n",
    "    genes, trans, exons, juncs = extract_features(tissue)\n",
    "    ## Total significant eQTLs\n",
    "    gg = len(set(genes[variable]))\n",
    "    tt = len(set(trans[variable]))\n",
    "    ee = len(set(exons[variable]))\n",
    "    jj = len(set(juncs[variable]))\n",
    "    print(\"\\nGene:\\t\\t%d\\nTranscript:\\t%d\\nExon:\\t\\t%d\\nJunction:\\t%d\" % \n",
    "          (gg, tt, ee, jj)) \n",
    "    \n",
    "    \n",
    "def get_DEGs_result_by_tissue(tissue):\n",
    "    genes, trans, exons, juncs = extract_features(tissue)\n",
    "    genes[\"Type\"] = \"Gene\"\n",
    "    trans[\"Type\"] = \"Transcript\"\n",
    "    exons[\"Type\"] = \"Exon\"\n",
    "    juncs[\"Type\"] = \"Junction\"\n",
    "    df = pd.concat([genes, trans, exons, juncs])\n",
    "    df[\"Type\"] = df.Type.astype(\"category\").cat.reorder_categories([\"Gene\", \"Transcript\", \"Exon\", \"Junction\"])\n",
    "    df[\"Tissue\"] = tissue.replace(\".\", \" \")\n",
    "    return df"
   ]
  },
  {
   "cell_type": "markdown",
   "metadata": {},
   "source": [
    "## Feature Summary"
   ]
  },
  {
   "cell_type": "markdown",
   "metadata": {},
   "source": [
    "### Summarize results mashr (local false sign rate < 0.05)"
   ]
  },
  {
   "cell_type": "code",
   "execution_count": null,
   "metadata": {},
   "outputs": [],
   "source": [
    "for tissue in [\"Caudate\", \"Dentate.Gyrus\", \"DLPFC\", \"Hippocampus\"]:\n",
    "    print(\"\")\n",
    "    print(tissue)\n",
    "    ## significant Features\n",
    "    print(\"\\nFeatures\")\n",
    "    output_summary(tissue, \"Effect\")\n",
    "    print(\"\\nGeneid\")\n",
    "    ## significant Geneid\n",
    "    output_summary(tissue, \"gencodeID\")"
   ]
  },
  {
   "cell_type": "code",
   "execution_count": null,
   "metadata": {},
   "outputs": [],
   "source": [
    "caud8 = get_DEGs_result_by_tissue(\"Caudate\")\n",
    "gyrus = get_DEGs_result_by_tissue(\"Dentate.Gyrus\")\n",
    "dlpfc = get_DEGs_result_by_tissue(\"DLPFC\")\n",
    "hippo = get_DEGs_result_by_tissue(\"Hippocampus\")"
   ]
  },
  {
   "cell_type": "markdown",
   "metadata": {},
   "source": [
    "## Save significant results"
   ]
  },
  {
   "cell_type": "code",
   "execution_count": null,
   "metadata": {},
   "outputs": [],
   "source": [
    "pd.concat([caud8, gyrus, dlpfc, hippo])\\\n",
    "  .sort_values([\"Tissue\", \"Type\", \"lfsr\"])\\\n",
    "  .loc[:, [\"Tissue\", \"Effect\", \"gencodeID\", \"seqnames\", \"lfsr\", \"Type\"]]\\\n",
    "  .to_csv(\"BrainSeq_ancestry_4features_4regions.txt.gz\", sep='\\t', index=False)"
   ]
  },
  {
   "cell_type": "code",
   "execution_count": null,
   "metadata": {},
   "outputs": [],
   "source": []
  }
 ],
 "metadata": {
  "kernelspec": {
   "display_name": "Python 3",
   "language": "python",
   "name": "python3"
  },
  "language_info": {
   "codemirror_mode": {
    "name": "ipython",
    "version": 3
   },
   "file_extension": ".py",
   "mimetype": "text/x-python",
   "name": "python",
   "nbconvert_exporter": "python",
   "pygments_lexer": "ipython3",
   "version": "3.9.1"
  }
 },
 "nbformat": 4,
 "nbformat_minor": 4
}
