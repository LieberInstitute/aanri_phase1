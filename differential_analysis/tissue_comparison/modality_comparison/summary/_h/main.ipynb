{
 "cells": [
  {
   "cell_type": "markdown",
   "metadata": {},
   "source": [
    "# Summarize shared genes"
   ]
  },
  {
   "cell_type": "code",
   "execution_count": 1,
   "metadata": {},
   "outputs": [],
   "source": [
    "import functools\n",
    "import pandas as pd\n",
    "from gtfparse import read_gtf"
   ]
  },
  {
   "cell_type": "code",
   "execution_count": 2,
   "metadata": {},
   "outputs": [],
   "source": [
    "@functools.lru_cache()\n",
    "def get_gtf(gtf_file):\n",
    "    return read_gtf(gtf_file)\n"
   ]
  },
  {
   "cell_type": "code",
   "execution_count": 4,
   "metadata": {},
   "outputs": [],
   "source": [
    "def gene_annotation(gtf_file, feature):\n",
    "    gtf0 = get_gtf(gtf_file)\n",
    "    gtf = gtf0[gtf0[\"feature\"] == feature]\n",
    "    return gtf[[\"gene_id\", \"gene_name\", \"transcript_id\", \"exon_id\", \n",
    "                \"gene_type\", \"seqname\", \"start\", \"end\", \"strand\"]]"
   ]
  },
  {
   "cell_type": "code",
   "execution_count": 5,
   "metadata": {},
   "outputs": [
    {
     "name": "stderr",
     "output_type": "stream",
     "text": [
      "INFO:root:Extracted GTF attributes: ['gene_id', 'gene_type', 'gene_status', 'gene_name', 'level', 'havana_gene', 'transcript_id', 'transcript_type', 'transcript_status', 'transcript_name', 'transcript_support_level', 'tag', 'havana_transcript', 'exon_number', 'exon_id', 'ont', 'protein_id', 'ccdsid']\n"
     ]
    },
    {
     "data": {
      "text/html": [
       "<div>\n",
       "<style scoped>\n",
       "    .dataframe tbody tr th:only-of-type {\n",
       "        vertical-align: middle;\n",
       "    }\n",
       "\n",
       "    .dataframe tbody tr th {\n",
       "        vertical-align: top;\n",
       "    }\n",
       "\n",
       "    .dataframe thead th {\n",
       "        text-align: right;\n",
       "    }\n",
       "</style>\n",
       "<table border=\"1\" class=\"dataframe\">\n",
       "  <thead>\n",
       "    <tr style=\"text-align: right;\">\n",
       "      <th></th>\n",
       "      <th>gene_id</th>\n",
       "      <th>gene_name</th>\n",
       "      <th>transcript_id</th>\n",
       "      <th>exon_id</th>\n",
       "      <th>gene_type</th>\n",
       "      <th>seqname</th>\n",
       "      <th>start</th>\n",
       "      <th>end</th>\n",
       "      <th>strand</th>\n",
       "    </tr>\n",
       "  </thead>\n",
       "  <tbody>\n",
       "    <tr>\n",
       "      <th>0</th>\n",
       "      <td>ENSG00000223972.5</td>\n",
       "      <td>DDX11L1</td>\n",
       "      <td></td>\n",
       "      <td></td>\n",
       "      <td>transcribed_unprocessed_pseudogene</td>\n",
       "      <td>chr1</td>\n",
       "      <td>11869</td>\n",
       "      <td>14409</td>\n",
       "      <td>+</td>\n",
       "    </tr>\n",
       "    <tr>\n",
       "      <th>12</th>\n",
       "      <td>ENSG00000227232.5</td>\n",
       "      <td>WASH7P</td>\n",
       "      <td></td>\n",
       "      <td></td>\n",
       "      <td>unprocessed_pseudogene</td>\n",
       "      <td>chr1</td>\n",
       "      <td>14404</td>\n",
       "      <td>29570</td>\n",
       "      <td>-</td>\n",
       "    </tr>\n",
       "  </tbody>\n",
       "</table>\n",
       "</div>"
      ],
      "text/plain": [
       "              gene_id gene_name transcript_id exon_id  \\\n",
       "0   ENSG00000223972.5   DDX11L1                         \n",
       "12  ENSG00000227232.5    WASH7P                         \n",
       "\n",
       "                             gene_type seqname  start    end strand  \n",
       "0   transcribed_unprocessed_pseudogene    chr1  11869  14409      +  \n",
       "12              unprocessed_pseudogene    chr1  14404  29570      -  "
      ]
     },
     "execution_count": 5,
     "metadata": {},
     "output_type": "execute_result"
    }
   ],
   "source": [
    "gtf_file = '/ceph/genome/human/gencode25/gtf.CHR/_m/gencode.v25.annotation.gtf'\n",
    "gtf_annot = gene_annotation(gtf_file, 'gene')\n",
    "gtf_annot.head(2)"
   ]
  },
  {
   "cell_type": "code",
   "execution_count": 7,
   "metadata": {},
   "outputs": [
    {
     "data": {
      "text/html": [
       "<div>\n",
       "<style scoped>\n",
       "    .dataframe tbody tr th:only-of-type {\n",
       "        vertical-align: middle;\n",
       "    }\n",
       "\n",
       "    .dataframe tbody tr th {\n",
       "        vertical-align: top;\n",
       "    }\n",
       "\n",
       "    .dataframe thead th {\n",
       "        text-align: right;\n",
       "    }\n",
       "</style>\n",
       "<table border=\"1\" class=\"dataframe\">\n",
       "  <thead>\n",
       "    <tr style=\"text-align: right;\">\n",
       "      <th></th>\n",
       "      <th>gene_id</th>\n",
       "      <th>ensemblID</th>\n",
       "      <th>seqname</th>\n",
       "      <th>gene_name</th>\n",
       "      <th>Dir</th>\n",
       "      <th>transcript_id</th>\n",
       "      <th>exon_id</th>\n",
       "      <th>gene_type</th>\n",
       "      <th>start</th>\n",
       "      <th>end</th>\n",
       "      <th>strand</th>\n",
       "    </tr>\n",
       "  </thead>\n",
       "  <tbody>\n",
       "    <tr>\n",
       "      <th>0</th>\n",
       "      <td>ENSG00000272977.1</td>\n",
       "      <td>ENSG00000272977</td>\n",
       "      <td>chr22</td>\n",
       "      <td>CTA-390C10.10</td>\n",
       "      <td>1.0</td>\n",
       "      <td></td>\n",
       "      <td></td>\n",
       "      <td>sense_intronic</td>\n",
       "      <td>25476218</td>\n",
       "      <td>25479971</td>\n",
       "      <td>+</td>\n",
       "    </tr>\n",
       "    <tr>\n",
       "      <th>1</th>\n",
       "      <td>ENSG00000233913.7</td>\n",
       "      <td>ENSG00000233913</td>\n",
       "      <td>chr5</td>\n",
       "      <td>CTC-575D19.1</td>\n",
       "      <td>-1.0</td>\n",
       "      <td></td>\n",
       "      <td></td>\n",
       "      <td>processed_pseudogene</td>\n",
       "      <td>168616352</td>\n",
       "      <td>168616996</td>\n",
       "      <td>+</td>\n",
       "    </tr>\n",
       "  </tbody>\n",
       "</table>\n",
       "</div>"
      ],
      "text/plain": [
       "             gene_id        ensemblID seqname      gene_name  Dir  \\\n",
       "0  ENSG00000272977.1  ENSG00000272977   chr22  CTA-390C10.10  1.0   \n",
       "1  ENSG00000233913.7  ENSG00000233913    chr5   CTC-575D19.1 -1.0   \n",
       "\n",
       "  transcript_id exon_id             gene_type      start        end strand  \n",
       "0                              sense_intronic   25476218   25479971      +  \n",
       "1                        processed_pseudogene  168616352  168616996      +  "
      ]
     },
     "execution_count": 7,
     "metadata": {},
     "output_type": "execute_result"
    }
   ],
   "source": [
    "shared_file = \"../../../upset_plots/_m/BrainSeq_shared_degs_annotation.txt\"\n",
    "shared_df = pd.read_csv(shared_file, sep='\\t')\\\n",
    "              .merge(gtf_annot, on=['gene_id', 'gene_name', 'seqname'])\n",
    "shared_df.head(2)"
   ]
  },
  {
   "cell_type": "code",
   "execution_count": 19,
   "metadata": {},
   "outputs": [
    {
     "data": {
      "text/html": [
       "<div>\n",
       "<style scoped>\n",
       "    .dataframe tbody tr th:only-of-type {\n",
       "        vertical-align: middle;\n",
       "    }\n",
       "\n",
       "    .dataframe tbody tr th {\n",
       "        vertical-align: top;\n",
       "    }\n",
       "\n",
       "    .dataframe thead th {\n",
       "        text-align: right;\n",
       "    }\n",
       "</style>\n",
       "<table border=\"1\" class=\"dataframe\">\n",
       "  <thead>\n",
       "    <tr style=\"text-align: right;\">\n",
       "      <th></th>\n",
       "      <th>gene_type</th>\n",
       "      <th>counts</th>\n",
       "    </tr>\n",
       "  </thead>\n",
       "  <tbody>\n",
       "    <tr>\n",
       "      <th>0</th>\n",
       "      <td>Mt_tRNA</td>\n",
       "      <td>1</td>\n",
       "    </tr>\n",
       "    <tr>\n",
       "      <th>1</th>\n",
       "      <td>TEC</td>\n",
       "      <td>11</td>\n",
       "    </tr>\n",
       "  </tbody>\n",
       "</table>\n",
       "</div>"
      ],
      "text/plain": [
       "  gene_type  counts\n",
       "0   Mt_tRNA       1\n",
       "1       TEC      11"
      ]
     },
     "execution_count": 19,
     "metadata": {},
     "output_type": "execute_result"
    }
   ],
   "source": [
    "counts = shared_df.groupby('gene_type').size().reset_index().rename(columns={0:'counts'})\n",
    "counts.head(2)"
   ]
  },
  {
   "cell_type": "code",
   "execution_count": 23,
   "metadata": {},
   "outputs": [
    {
     "data": {
      "text/plain": [
       "<AxesSubplot:xlabel='gene_type'>"
      ]
     },
     "execution_count": 23,
     "metadata": {},
     "output_type": "execute_result"
    },
    {
     "data": {
      "image/png": "[encoded data removed]",
      "text/plain": [
       "<Figure size 432x288 with 1 Axes>"
      ]
     },
     "metadata": {
      "needs_background": "light"
     },
     "output_type": "display_data"
    }
   ],
   "source": [
    "counts.plot.bar(x='gene_type', y='counts')"
   ]
  },
  {
   "cell_type": "code",
   "execution_count": 33,
   "metadata": {},
   "outputs": [
    {
     "data": {
      "text/html": [
       "<div>\n",
       "<style scoped>\n",
       "    .dataframe tbody tr th:only-of-type {\n",
       "        vertical-align: middle;\n",
       "    }\n",
       "\n",
       "    .dataframe tbody tr th {\n",
       "        vertical-align: top;\n",
       "    }\n",
       "\n",
       "    .dataframe thead th {\n",
       "        text-align: right;\n",
       "    }\n",
       "</style>\n",
       "<table border=\"1\" class=\"dataframe\">\n",
       "  <thead>\n",
       "    <tr style=\"text-align: right;\">\n",
       "      <th></th>\n",
       "      <th>Modal_Category</th>\n",
       "      <th>gene_type</th>\n",
       "      <th>Tissue</th>\n",
       "      <th>counts</th>\n",
       "    </tr>\n",
       "  </thead>\n",
       "  <tbody>\n",
       "    <tr>\n",
       "      <th>0</th>\n",
       "      <td>Multi_vs_Multi</td>\n",
       "      <td>TEC</td>\n",
       "      <td>Caudate</td>\n",
       "      <td>1</td>\n",
       "    </tr>\n",
       "    <tr>\n",
       "      <th>1</th>\n",
       "      <td>Multi_vs_Multi</td>\n",
       "      <td>TEC</td>\n",
       "      <td>DLPFC</td>\n",
       "      <td>1</td>\n",
       "    </tr>\n",
       "  </tbody>\n",
       "</table>\n",
       "</div>"
      ],
      "text/plain": [
       "   Modal_Category gene_type   Tissue  counts\n",
       "0  Multi_vs_Multi       TEC  Caudate       1\n",
       "1  Multi_vs_Multi       TEC    DLPFC       1"
      ]
     },
     "execution_count": 33,
     "metadata": {},
     "output_type": "execute_result"
    }
   ],
   "source": [
    "modality = shared_df.merge(pd.read_csv(\"../../_m/shared_modality_annotated.tsv\", sep='\\t'), \n",
    "                           on=\"ensemblID\")\n",
    "new_counts = modality.groupby(['Modal_Category', 'gene_type', \"Tissue\"])\\\n",
    "                     .size().reset_index().rename(columns={0:'counts'})\n",
    "new_counts.head(2)"
   ]
  },
  {
   "cell_type": "code",
   "execution_count": 9,
   "metadata": {},
   "outputs": [],
   "source": [
    "%load_ext rpy2.ipython"
   ]
  },
  {
   "cell_type": "code",
   "execution_count": 107,
   "metadata": {},
   "outputs": [],
   "source": [
    "%%R -i new_counts\n",
    "library(ggpubr)\n",
    "library(tidyverse)\n",
    "\n",
    "save_ggplots <- function(p, fn, w, h){\n",
    "    for(ext in c('.pdf', '.png', '.svg')){\n",
    "        ggsave(paste0(fn, ext), plot=p, width=w, height=h)\n",
    "    }\n",
    "}\n",
    "\n",
    "plot_prop <- function(new_counts, mod_cat){\n",
    "    dt = new_counts %>% filter(Modal_Category == mod_cat) %>% \n",
    "        mutate_if(is.character, as.factor) %>% \n",
    "        group_by(Tissue, Modal_Category, gene_type) %>% \n",
    "        tally(counts) %>% mutate(prop = prop.table(n)) \n",
    "    bp = ggbarplot(dt, x=\"gene_type\", y=\"prop\", fill=\"Tissue\",\n",
    "               palette=\"npg\", facet.by=\"Modal_Category\", xlab=\"\", \n",
    "               ylab=\"Proportion\", position=position_dodge(), \n",
    "               panel.labs.font=list(face='bold', size=16), \n",
    "               legend=\"right\", orientation=\"horiz\") + ylim(0, 0.8) + \n",
    "        rotate_x_text(45) + font(\"xy.title\", size = 18, face = \"bold\") +\n",
    "        font(\"xy.text\", size = 16) + \n",
    "        font(\"legend.title\", size=18, face=\"bold\") +\n",
    "        font(\"legend.text\", size=16)\n",
    "    save_ggplots(bp, paste0(\"proportion_geneType_shared_DEGs_acrossRegion_\", \n",
    "                            mod_cat), 8, 4)\n",
    "    return(bp)\n",
    "}\n",
    "\n",
    "ovo <- plot_prop(new_counts, \"One_vs_One\")\n",
    "mvo <- plot_prop(new_counts, \"Multi_vs_One\")\n",
    "ovm <- plot_prop(new_counts, \"One_vs_Multi\")\n",
    "mvm <- plot_prop(new_counts, \"Multi_vs_Multi\")"
   ]
  },
  {
   "cell_type": "code",
   "execution_count": 108,
   "metadata": {},
   "outputs": [],
   "source": [
    "%%R\n",
    "fig = ggarrange(ovo, mvo, ovm, mvm, ncol = 2, nrow = 2, \n",
    "          common.legend = TRUE, legend=\"bottom\")\n",
    "save_ggplots(fig, \"allplots_proportion_shared\", 14, 9)"
   ]
  },
  {
   "cell_type": "code",
   "execution_count": null,
   "metadata": {},
   "outputs": [],
   "source": []
  }
 ],
 "metadata": {
  "kernelspec": {
   "display_name": "Python 3",
   "language": "python",
   "name": "python3"
  },
  "language_info": {
   "codemirror_mode": {
    "name": "ipython",
    "version": 3
   },
   "file_extension": ".py",
   "mimetype": "text/x-python",
   "name": "python",
   "nbconvert_exporter": "python",
   "pygments_lexer": "ipython3",
   "version": "3.9.1"
  }
 },
 "nbformat": 4,
 "nbformat_minor": 4
}
