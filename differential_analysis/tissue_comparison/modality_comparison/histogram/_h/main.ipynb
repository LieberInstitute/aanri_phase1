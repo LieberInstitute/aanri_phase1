{
 "cells": [
  {
   "cell_type": "markdown",
   "metadata": {},
   "source": [
    "# Histogram of modalities"
   ]
  },
  {
   "cell_type": "code",
   "execution_count": 1,
   "metadata": {},
   "outputs": [
    {
     "name": "stderr",
     "output_type": "stream",
     "text": [
      "Loading required package: ggplot2\n",
      "\n",
      "-- \u001b[1mAttaching packages\u001b[22m --------------------------------------------------------------------------------------------------------------------- tidyverse 1.3.0 --\n",
      "\n",
      "\u001b[32mv\u001b[39m \u001b[34mtibble \u001b[39m 3.0.5     \u001b[32mv\u001b[39m \u001b[34mdplyr  \u001b[39m 1.0.3\n",
      "\u001b[32mv\u001b[39m \u001b[34mtidyr  \u001b[39m 1.1.2     \u001b[32mv\u001b[39m \u001b[34mstringr\u001b[39m 1.4.0\n",
      "\u001b[32mv\u001b[39m \u001b[34mreadr  \u001b[39m 1.4.0     \u001b[32mv\u001b[39m \u001b[34mforcats\u001b[39m 0.5.0\n",
      "\u001b[32mv\u001b[39m \u001b[34mpurrr  \u001b[39m 0.3.4     \n",
      "\n",
      "-- \u001b[1mConflicts\u001b[22m ------------------------------------------------------------------------------------------------------------------------ tidyverse_conflicts() --\n",
      "\u001b[31mx\u001b[39m \u001b[34mdplyr\u001b[39m::\u001b[32mfilter()\u001b[39m masks \u001b[34mstats\u001b[39m::filter()\n",
      "\u001b[31mx\u001b[39m \u001b[34mdplyr\u001b[39m::\u001b[32mlag()\u001b[39m    masks \u001b[34mstats\u001b[39m::lag()\n",
      "\n"
     ]
    }
   ],
   "source": [
    "library(ggpubr)\n",
    "library(tidyverse)"
   ]
  },
  {
   "cell_type": "code",
   "execution_count": 5,
   "metadata": {},
   "outputs": [],
   "source": [
    "save_plot <- function(p, fn, w, h){\n",
    "    for(ext in c(\".pdf\", \".png\", \".svg\")){\n",
    "        ggsave(filename=paste0(fn,ext), plot=p, width=w, height=h)\n",
    "    }\n",
    "}\n",
    "\n",
    "get_modality_degs <- function(){\n",
    "    datalist = list()\n",
    "    for(tissue in c('Caudate', 'DLPFC', 'Hippocampus', 'Dentate Gyrus')){\n",
    "        if(tissue == 'Dentate Gyrus'){\n",
    "            fn = paste0(\"../../../../dentateGyrus/bimodal_detection/\",\n",
    "                        \"_m/degs_with_modality.txt\")\n",
    "        } else {\n",
    "            fn = paste0(\"../../../../\", tolower(tissue),\n",
    "                        \"/bimodal_detection/_m/degs_with_modality.txt\")\n",
    "        }\n",
    "        \n",
    "        dat = read_tsv(fn) \n",
    "        dat$Tissue <- tissue\n",
    "        datalist[[tissue]] <- dat\n",
    "    }\n",
    "    df = bind_rows(datalist)\n",
    "    return(df)\n",
    "}"
   ]
  },
  {
   "cell_type": "code",
   "execution_count": 9,
   "metadata": {},
   "outputs": [
    {
     "name": "stderr",
     "output_type": "stream",
     "text": [
      "Warning message:\n",
      "\"Missing column names filled in: 'X1' [1]\"\n",
      "\n",
      "\u001b[36m--\u001b[39m \u001b[1m\u001b[1mColumn specification\u001b[1m\u001b[22m \u001b[36m--------------------------------------------------------------------------------------------------------------------------------------\u001b[39m\n",
      "cols(\n",
      "  X1 = \u001b[31mcol_character()\u001b[39m,\n",
      "  Length = \u001b[32mcol_double()\u001b[39m,\n",
      "  gencodeID = \u001b[31mcol_character()\u001b[39m,\n",
      "  ensemblID = \u001b[31mcol_character()\u001b[39m,\n",
      "  gene_type = \u001b[31mcol_character()\u001b[39m,\n",
      "  Symbol = \u001b[31mcol_character()\u001b[39m,\n",
      "  EntrezID = \u001b[32mcol_double()\u001b[39m,\n",
      "  Class = \u001b[31mcol_character()\u001b[39m,\n",
      "  meanExprs = \u001b[32mcol_double()\u001b[39m,\n",
      "  NumTx = \u001b[32mcol_double()\u001b[39m,\n",
      "  gencodeTx = \u001b[31mcol_character()\u001b[39m,\n",
      "  logFC = \u001b[32mcol_double()\u001b[39m,\n",
      "  AveExpr = \u001b[32mcol_double()\u001b[39m,\n",
      "  t = \u001b[32mcol_double()\u001b[39m,\n",
      "  P.Value = \u001b[32mcol_double()\u001b[39m,\n",
      "  adj.P.Val = \u001b[32mcol_double()\u001b[39m,\n",
      "  B = \u001b[32mcol_double()\u001b[39m,\n",
      "  Modality_AA = \u001b[32mcol_double()\u001b[39m,\n",
      "  Modality_EA = \u001b[32mcol_double()\u001b[39m\n",
      ")\n",
      "\n",
      "\n",
      "Warning message:\n",
      "\"Missing column names filled in: 'X1' [1]\"\n",
      "\n",
      "\u001b[36m--\u001b[39m \u001b[1m\u001b[1mColumn specification\u001b[1m\u001b[22m \u001b[36m--------------------------------------------------------------------------------------------------------------------------------------\u001b[39m\n",
      "cols(\n",
      "  X1 = \u001b[31mcol_character()\u001b[39m,\n",
      "  Length = \u001b[32mcol_double()\u001b[39m,\n",
      "  gencodeID = \u001b[31mcol_character()\u001b[39m,\n",
      "  ensemblID = \u001b[31mcol_character()\u001b[39m,\n",
      "  gene_type = \u001b[31mcol_character()\u001b[39m,\n",
      "  Symbol = \u001b[31mcol_character()\u001b[39m,\n",
      "  EntrezID = \u001b[32mcol_double()\u001b[39m,\n",
      "  Class = \u001b[31mcol_character()\u001b[39m,\n",
      "  meanExprs = \u001b[32mcol_double()\u001b[39m,\n",
      "  NumTx = \u001b[32mcol_double()\u001b[39m,\n",
      "  gencodeTx = \u001b[31mcol_character()\u001b[39m,\n",
      "  logFC = \u001b[32mcol_double()\u001b[39m,\n",
      "  AveExpr = \u001b[32mcol_double()\u001b[39m,\n",
      "  t = \u001b[32mcol_double()\u001b[39m,\n",
      "  P.Value = \u001b[32mcol_double()\u001b[39m,\n",
      "  adj.P.Val = \u001b[32mcol_double()\u001b[39m,\n",
      "  B = \u001b[32mcol_double()\u001b[39m,\n",
      "  Modality_AA = \u001b[32mcol_double()\u001b[39m,\n",
      "  Modality_EA = \u001b[32mcol_double()\u001b[39m\n",
      ")\n",
      "\n",
      "\n",
      "Warning message:\n",
      "\"Missing column names filled in: 'X1' [1]\"\n",
      "\n",
      "\u001b[36m--\u001b[39m \u001b[1m\u001b[1mColumn specification\u001b[1m\u001b[22m \u001b[36m--------------------------------------------------------------------------------------------------------------------------------------\u001b[39m\n",
      "cols(\n",
      "  X1 = \u001b[31mcol_character()\u001b[39m,\n",
      "  Length = \u001b[32mcol_double()\u001b[39m,\n",
      "  gencodeID = \u001b[31mcol_character()\u001b[39m,\n",
      "  ensemblID = \u001b[31mcol_character()\u001b[39m,\n",
      "  gene_type = \u001b[31mcol_character()\u001b[39m,\n",
      "  Symbol = \u001b[31mcol_character()\u001b[39m,\n",
      "  EntrezID = \u001b[32mcol_double()\u001b[39m,\n",
      "  Class = \u001b[31mcol_character()\u001b[39m,\n",
      "  meanExprs = \u001b[32mcol_double()\u001b[39m,\n",
      "  NumTx = \u001b[32mcol_double()\u001b[39m,\n",
      "  gencodeTx = \u001b[31mcol_character()\u001b[39m,\n",
      "  logFC = \u001b[32mcol_double()\u001b[39m,\n",
      "  AveExpr = \u001b[32mcol_double()\u001b[39m,\n",
      "  t = \u001b[32mcol_double()\u001b[39m,\n",
      "  P.Value = \u001b[32mcol_double()\u001b[39m,\n",
      "  adj.P.Val = \u001b[32mcol_double()\u001b[39m,\n",
      "  B = \u001b[32mcol_double()\u001b[39m,\n",
      "  Modality_AA = \u001b[32mcol_double()\u001b[39m,\n",
      "  Modality_EA = \u001b[32mcol_double()\u001b[39m\n",
      ")\n",
      "\n",
      "\n",
      "Warning message:\n",
      "\"Missing column names filled in: 'X1' [1]\"\n",
      "\n",
      "\u001b[36m--\u001b[39m \u001b[1m\u001b[1mColumn specification\u001b[1m\u001b[22m \u001b[36m--------------------------------------------------------------------------------------------------------------------------------------\u001b[39m\n",
      "cols(\n",
      "  X1 = \u001b[31mcol_character()\u001b[39m,\n",
      "  Length = \u001b[32mcol_double()\u001b[39m,\n",
      "  gencodeID = \u001b[31mcol_character()\u001b[39m,\n",
      "  ensemblID = \u001b[31mcol_character()\u001b[39m,\n",
      "  gene_type = \u001b[31mcol_character()\u001b[39m,\n",
      "  Symbol = \u001b[31mcol_character()\u001b[39m,\n",
      "  EntrezID = \u001b[32mcol_double()\u001b[39m,\n",
      "  Class = \u001b[31mcol_character()\u001b[39m,\n",
      "  meanExprs = \u001b[32mcol_double()\u001b[39m,\n",
      "  NumTx = \u001b[32mcol_double()\u001b[39m,\n",
      "  gencodeTx = \u001b[31mcol_character()\u001b[39m,\n",
      "  logFC = \u001b[32mcol_double()\u001b[39m,\n",
      "  AveExpr = \u001b[32mcol_double()\u001b[39m,\n",
      "  t = \u001b[32mcol_double()\u001b[39m,\n",
      "  P.Value = \u001b[32mcol_double()\u001b[39m,\n",
      "  adj.P.Val = \u001b[32mcol_double()\u001b[39m,\n",
      "  B = \u001b[32mcol_double()\u001b[39m,\n",
      "  Modality_AA = \u001b[32mcol_double()\u001b[39m,\n",
      "  Modality_EA = \u001b[32mcol_double()\u001b[39m\n",
      ")\n",
      "\n",
      "\n"
     ]
    },
    {
     "data": {
      "text/html": [
       "<style>\n",
       ".list-inline {list-style: none; margin:0; padding: 0}\n",
       ".list-inline>li {display: inline-block}\n",
       ".list-inline>li:not(:last-child)::after {content: \"\\00b7\"; padding: 0 .5ex}\n",
       "</style>\n",
       "<ol class=list-inline><li>16308</li><li>20</li></ol>\n"
      ],
      "text/latex": [
       "\\begin{enumerate*}\n",
       "\\item 16308\n",
       "\\item 20\n",
       "\\end{enumerate*}\n"
      ],
      "text/markdown": [
       "1. 16308\n",
       "2. 20\n",
       "\n",
       "\n"
      ],
      "text/plain": [
       "[1] 16308    20"
      ]
     },
     "metadata": {},
     "output_type": "display_data"
    },
    {
     "data": {
      "text/html": [
       "<table>\n",
       "<caption>A tibble: 2 × 20</caption>\n",
       "<thead>\n",
       "\t<tr><th scope=col>X1</th><th scope=col>Length</th><th scope=col>gencodeID</th><th scope=col>ensemblID</th><th scope=col>gene_type</th><th scope=col>Symbol</th><th scope=col>EntrezID</th><th scope=col>Class</th><th scope=col>meanExprs</th><th scope=col>NumTx</th><th scope=col>gencodeTx</th><th scope=col>logFC</th><th scope=col>AveExpr</th><th scope=col>t</th><th scope=col>P.Value</th><th scope=col>adj.P.Val</th><th scope=col>B</th><th scope=col>Modality_AA</th><th scope=col>Modality_EA</th><th scope=col>Tissue</th></tr>\n",
       "\t<tr><th scope=col>&lt;chr&gt;</th><th scope=col>&lt;dbl&gt;</th><th scope=col>&lt;chr&gt;</th><th scope=col>&lt;chr&gt;</th><th scope=col>&lt;chr&gt;</th><th scope=col>&lt;chr&gt;</th><th scope=col>&lt;dbl&gt;</th><th scope=col>&lt;chr&gt;</th><th scope=col>&lt;dbl&gt;</th><th scope=col>&lt;dbl&gt;</th><th scope=col>&lt;chr&gt;</th><th scope=col>&lt;dbl&gt;</th><th scope=col>&lt;dbl&gt;</th><th scope=col>&lt;dbl&gt;</th><th scope=col>&lt;dbl&gt;</th><th scope=col>&lt;dbl&gt;</th><th scope=col>&lt;dbl&gt;</th><th scope=col>&lt;dbl&gt;</th><th scope=col>&lt;dbl&gt;</th><th scope=col>&lt;chr&gt;</th></tr>\n",
       "</thead>\n",
       "<tbody>\n",
       "\t<tr><td>ENSG00000272977.1 </td><td>3754</td><td>ENSG00000272977.1 </td><td>ENSG00000272977</td><td>sense_intronic</td><td>NA    </td><td>    NA</td><td>InGen</td><td>0.4474506</td><td>1</td><td>ENST00000609475.1                                    </td><td>1.743231</td><td>1.228220</td><td>15.82266</td><td>1.335410e-43</td><td>2.997861e-39</td><td>87.87375</td><td>2</td><td>1</td><td>Caudate</td></tr>\n",
       "\t<tr><td>ENSG00000182698.11</td><td>1140</td><td>ENSG00000182698.11</td><td>ENSG00000182698</td><td>protein_coding</td><td>RESP18</td><td>389075</td><td>InGen</td><td>2.8210515</td><td>3</td><td>ENST00000470719.1|ENST00000392083.5|ENST00000333527.5</td><td>2.730990</td><td>1.408244</td><td>15.34621</td><td>1.242416e-41</td><td>1.394549e-37</td><td>83.53926</td><td>2</td><td>2</td><td>Caudate</td></tr>\n",
       "</tbody>\n",
       "</table>\n"
      ],
      "text/latex": [
       "A tibble: 2 × 20\n",
       "\\begin{tabular}{llllllllllllllllllll}\n",
       " X1 & Length & gencodeID & ensemblID & gene\\_type & Symbol & EntrezID & Class & meanExprs & NumTx & gencodeTx & logFC & AveExpr & t & P.Value & adj.P.Val & B & Modality\\_AA & Modality\\_EA & Tissue\\\\\n",
       " <chr> & <dbl> & <chr> & <chr> & <chr> & <chr> & <dbl> & <chr> & <dbl> & <dbl> & <chr> & <dbl> & <dbl> & <dbl> & <dbl> & <dbl> & <dbl> & <dbl> & <dbl> & <chr>\\\\\n",
       "\\hline\n",
       "\t ENSG00000272977.1  & 3754 & ENSG00000272977.1  & ENSG00000272977 & sense\\_intronic & NA     &     NA & InGen & 0.4474506 & 1 & ENST00000609475.1                                     & 1.743231 & 1.228220 & 15.82266 & 1.335410e-43 & 2.997861e-39 & 87.87375 & 2 & 1 & Caudate\\\\\n",
       "\t ENSG00000182698.11 & 1140 & ENSG00000182698.11 & ENSG00000182698 & protein\\_coding & RESP18 & 389075 & InGen & 2.8210515 & 3 & ENST00000470719.1\\textbar{}ENST00000392083.5\\textbar{}ENST00000333527.5 & 2.730990 & 1.408244 & 15.34621 & 1.242416e-41 & 1.394549e-37 & 83.53926 & 2 & 2 & Caudate\\\\\n",
       "\\end{tabular}\n"
      ],
      "text/markdown": [
       "\n",
       "A tibble: 2 × 20\n",
       "\n",
       "| X1 &lt;chr&gt; | Length &lt;dbl&gt; | gencodeID &lt;chr&gt; | ensemblID &lt;chr&gt; | gene_type &lt;chr&gt; | Symbol &lt;chr&gt; | EntrezID &lt;dbl&gt; | Class &lt;chr&gt; | meanExprs &lt;dbl&gt; | NumTx &lt;dbl&gt; | gencodeTx &lt;chr&gt; | logFC &lt;dbl&gt; | AveExpr &lt;dbl&gt; | t &lt;dbl&gt; | P.Value &lt;dbl&gt; | adj.P.Val &lt;dbl&gt; | B &lt;dbl&gt; | Modality_AA &lt;dbl&gt; | Modality_EA &lt;dbl&gt; | Tissue &lt;chr&gt; |\n",
       "|---|---|---|---|---|---|---|---|---|---|---|---|---|---|---|---|---|---|---|---|\n",
       "| ENSG00000272977.1  | 3754 | ENSG00000272977.1  | ENSG00000272977 | sense_intronic | NA     |     NA | InGen | 0.4474506 | 1 | ENST00000609475.1                                     | 1.743231 | 1.228220 | 15.82266 | 1.335410e-43 | 2.997861e-39 | 87.87375 | 2 | 1 | Caudate |\n",
       "| ENSG00000182698.11 | 1140 | ENSG00000182698.11 | ENSG00000182698 | protein_coding | RESP18 | 389075 | InGen | 2.8210515 | 3 | ENST00000470719.1|ENST00000392083.5|ENST00000333527.5 | 2.730990 | 1.408244 | 15.34621 | 1.242416e-41 | 1.394549e-37 | 83.53926 | 2 | 2 | Caudate |\n",
       "\n"
      ],
      "text/plain": [
       "  X1                 Length gencodeID          ensemblID       gene_type     \n",
       "1 ENSG00000272977.1  3754   ENSG00000272977.1  ENSG00000272977 sense_intronic\n",
       "2 ENSG00000182698.11 1140   ENSG00000182698.11 ENSG00000182698 protein_coding\n",
       "  Symbol EntrezID Class meanExprs NumTx\n",
       "1 NA         NA   InGen 0.4474506 1    \n",
       "2 RESP18 389075   InGen 2.8210515 3    \n",
       "  gencodeTx                                             logFC    AveExpr \n",
       "1 ENST00000609475.1                                     1.743231 1.228220\n",
       "2 ENST00000470719.1|ENST00000392083.5|ENST00000333527.5 2.730990 1.408244\n",
       "  t        P.Value      adj.P.Val    B        Modality_AA Modality_EA Tissue \n",
       "1 15.82266 1.335410e-43 2.997861e-39 87.87375 2           1           Caudate\n",
       "2 15.34621 1.242416e-41 1.394549e-37 83.53926 2           2           Caudate"
      ]
     },
     "metadata": {},
     "output_type": "display_data"
    }
   ],
   "source": [
    "modality <- get_modality_degs() \n",
    "modality %>% dim\n",
    "modality %>% head(2)"
   ]
  },
  {
   "cell_type": "code",
   "execution_count": 10,
   "metadata": {},
   "outputs": [
    {
     "data": {
      "text/html": [
       "<table>\n",
       "<caption>A tibble: 2 × 9</caption>\n",
       "<thead>\n",
       "\t<tr><th scope=col>gencodeID</th><th scope=col>gene_type</th><th scope=col>Symbol</th><th scope=col>logFC</th><th scope=col>t</th><th scope=col>adj.P.Val</th><th scope=col>Modality_AA</th><th scope=col>Modality_EA</th><th scope=col>Tissue</th></tr>\n",
       "\t<tr><th scope=col>&lt;chr&gt;</th><th scope=col>&lt;chr&gt;</th><th scope=col>&lt;chr&gt;</th><th scope=col>&lt;dbl&gt;</th><th scope=col>&lt;dbl&gt;</th><th scope=col>&lt;dbl&gt;</th><th scope=col>&lt;dbl&gt;</th><th scope=col>&lt;dbl&gt;</th><th scope=col>&lt;chr&gt;</th></tr>\n",
       "</thead>\n",
       "<tbody>\n",
       "\t<tr><td>ENSG00000272977.1 </td><td>sense_intronic</td><td>NA    </td><td>1.743231</td><td>15.82266</td><td>2.997861e-39</td><td>2</td><td>1</td><td>Caudate</td></tr>\n",
       "\t<tr><td>ENSG00000182698.11</td><td>protein_coding</td><td>RESP18</td><td>2.730990</td><td>15.34621</td><td>1.394549e-37</td><td>2</td><td>2</td><td>Caudate</td></tr>\n",
       "</tbody>\n",
       "</table>\n"
      ],
      "text/latex": [
       "A tibble: 2 × 9\n",
       "\\begin{tabular}{lllllllll}\n",
       " gencodeID & gene\\_type & Symbol & logFC & t & adj.P.Val & Modality\\_AA & Modality\\_EA & Tissue\\\\\n",
       " <chr> & <chr> & <chr> & <dbl> & <dbl> & <dbl> & <dbl> & <dbl> & <chr>\\\\\n",
       "\\hline\n",
       "\t ENSG00000272977.1  & sense\\_intronic & NA     & 1.743231 & 15.82266 & 2.997861e-39 & 2 & 1 & Caudate\\\\\n",
       "\t ENSG00000182698.11 & protein\\_coding & RESP18 & 2.730990 & 15.34621 & 1.394549e-37 & 2 & 2 & Caudate\\\\\n",
       "\\end{tabular}\n"
      ],
      "text/markdown": [
       "\n",
       "A tibble: 2 × 9\n",
       "\n",
       "| gencodeID &lt;chr&gt; | gene_type &lt;chr&gt; | Symbol &lt;chr&gt; | logFC &lt;dbl&gt; | t &lt;dbl&gt; | adj.P.Val &lt;dbl&gt; | Modality_AA &lt;dbl&gt; | Modality_EA &lt;dbl&gt; | Tissue &lt;chr&gt; |\n",
       "|---|---|---|---|---|---|---|---|---|\n",
       "| ENSG00000272977.1  | sense_intronic | NA     | 1.743231 | 15.82266 | 2.997861e-39 | 2 | 1 | Caudate |\n",
       "| ENSG00000182698.11 | protein_coding | RESP18 | 2.730990 | 15.34621 | 1.394549e-37 | 2 | 2 | Caudate |\n",
       "\n"
      ],
      "text/plain": [
       "  gencodeID          gene_type      Symbol logFC    t        adj.P.Val   \n",
       "1 ENSG00000272977.1  sense_intronic NA     1.743231 15.82266 2.997861e-39\n",
       "2 ENSG00000182698.11 protein_coding RESP18 2.730990 15.34621 1.394549e-37\n",
       "  Modality_AA Modality_EA Tissue \n",
       "1 2           1           Caudate\n",
       "2 2           2           Caudate"
      ]
     },
     "metadata": {},
     "output_type": "display_data"
    }
   ],
   "source": [
    "modality <- modality %>% select(gencodeID, gene_type, Symbol, logFC, t, \n",
    "                                \"adj.P.Val\", starts_with(\"Modal\"), Tissue) \n",
    "modality %>% head(2)"
   ]
  },
  {
   "cell_type": "code",
   "execution_count": 25,
   "metadata": {},
   "outputs": [
    {
     "name": "stderr",
     "output_type": "stream",
     "text": [
      "Warning message:\n",
      "\"Using `bins = 30` by default. Pick better value with the argument `bins`.\"\n",
      "ERROR while rich displaying an object: Error: StatBin requires a continuous x variable: the x variable is discrete.Perhaps you want stat=\"count\"?\n",
      "\n",
      "Traceback:\n",
      "1. FUN(X[[i]], ...)\n",
      "2. tryCatch(withCallingHandlers({\n",
      " .     if (!mime %in% names(repr::mime2repr)) \n",
      " .         stop(\"No repr_* for mimetype \", mime, \" in repr::mime2repr\")\n",
      " .     rpr <- repr::mime2repr[[mime]](obj)\n",
      " .     if (is.null(rpr)) \n",
      " .         return(NULL)\n",
      " .     prepare_content(is.raw(rpr), rpr)\n",
      " . }, error = error_handler), error = outer_handler)\n",
      "3. tryCatchList(expr, classes, parentenv, handlers)\n",
      "4. tryCatchOne(expr, names, parentenv, handlers[[1L]])\n",
      "5. doTryCatch(return(expr), name, parentenv, handler)\n",
      "6. withCallingHandlers({\n",
      " .     if (!mime %in% names(repr::mime2repr)) \n",
      " .         stop(\"No repr_* for mimetype \", mime, \" in repr::mime2repr\")\n",
      " .     rpr <- repr::mime2repr[[mime]](obj)\n",
      " .     if (is.null(rpr)) \n",
      " .         return(NULL)\n",
      " .     prepare_content(is.raw(rpr), rpr)\n",
      " . }, error = error_handler)\n",
      "7. repr::mime2repr[[mime]](obj)\n",
      "8. repr_text.default(obj)\n",
      "9. paste(capture.output(print(obj)), collapse = \"\\n\")\n",
      "10. capture.output(print(obj))\n",
      "11. evalVis(expr)\n",
      "12. withVisible(eval(expr, pf))\n",
      "13. eval(expr, pf)\n",
      "14. eval(expr, pf)\n",
      "15. print(obj)\n",
      "16. print.ggplot(obj)\n",
      "17. ggplot_build(x)\n",
      "18. ggplot_build.ggplot(x)\n",
      "19. by_layer(function(l, d) l$compute_statistic(d, layout))\n",
      "20. f(l = layers[[i]], d = data[[i]])\n",
      "21. l$compute_statistic(d, layout)\n",
      "22. f(..., self = self)\n",
      "23. self$stat$setup_params(data, self$stat_params)\n",
      "24. f(...)\n",
      "25. abort(glue(\"StatBin requires a continuous {x} variable: the {x} variable is discrete.\", \n",
      "  .     \"Perhaps you want stat=\\\"count\\\"?\"))\n",
      "26. signal_abort(cnd)\n"
     ]
    },
    {
     "data": {
      "image/png": "[encoded data removed]",
      "text/plain": [
       "plot without title"
      ]
     },
     "metadata": {
      "image/png": {
       "height": 420,
       "width": 420
      }
     },
     "output_type": "display_data"
    }
   ],
   "source": [
    "modality %>% mutate_if(is.character, as.factor) %>% \n",
    "    mutate(Modality_AA = as.factor(Modality_AA), Modality_EA = as.factor(Modality_EA)) %>%\n",
    "    gghistogram(x=\"Modality_AA\")"
   ]
  },
  {
   "cell_type": "code",
   "execution_count": null,
   "metadata": {},
   "outputs": [],
   "source": []
  }
 ],
 "metadata": {
  "kernelspec": {
   "display_name": "R",
   "language": "R",
   "name": "ir"
  },
  "language_info": {
   "codemirror_mode": "r",
   "file_extension": ".r",
   "mimetype": "text/x-r-source",
   "name": "R",
   "pygments_lexer": "r",
   "version": "4.0.3"
  }
 },
 "nbformat": 4,
 "nbformat_minor": 4
}
