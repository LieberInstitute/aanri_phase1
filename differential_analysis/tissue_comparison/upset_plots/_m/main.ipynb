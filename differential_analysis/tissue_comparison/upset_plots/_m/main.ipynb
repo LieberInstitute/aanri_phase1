{
 "cells": [
  {
   "cell_type": "markdown",
   "metadata": {},
   "source": [
    "# Tissue comparison for differential expression analysis"
   ]
  },
  {
   "cell_type": "code",
   "execution_count": 1,
   "metadata": {
    "execution": {
     "iopub.execute_input": "2021-07-12T13:48:43.882353Z",
     "iopub.status.busy": "2021-07-12T13:48:43.881641Z",
     "iopub.status.idle": "2021-07-12T13:48:44.299522Z",
     "shell.execute_reply": "2021-07-12T13:48:44.300326Z"
    }
   },
   "outputs": [],
   "source": [
    "import functools\n",
    "import numpy as np\n",
    "import pandas as pd\n",
    "from gtfparse import read_gtf"
   ]
  },
  {
   "cell_type": "markdown",
   "metadata": {},
   "source": [
    "## Configuration dictionary"
   ]
  },
  {
   "cell_type": "code",
   "execution_count": 2,
   "metadata": {
    "execution": {
     "iopub.execute_input": "2021-07-12T13:48:44.303966Z",
     "iopub.status.busy": "2021-07-12T13:48:44.303176Z",
     "iopub.status.idle": "2021-07-12T13:48:44.306010Z",
     "shell.execute_reply": "2021-07-12T13:48:44.306832Z"
    }
   },
   "outputs": [],
   "source": [
    "config = {\n",
    "    'caudate': '../../../caudate/_m/genes/diffExpr_EAvsAA_full.txt',\n",
    "    'dlpfc': '../../../dlpfc/_m/genes/diffExpr_EAvsAA_full.txt',\n",
    "    'hippo': '../../../hippocampus/_m/genes/diffExpr_EAvsAA_full.txt',\n",
    "    'gyrus': '../../../dentateGyrus/_m/genes/diffExpr_EAvsAA_full.txt'\n",
    "}"
   ]
  },
  {
   "cell_type": "markdown",
   "metadata": {},
   "source": [
    "## Functions"
   ]
  },
  {
   "cell_type": "markdown",
   "metadata": {},
   "source": [
    "### Cached functions"
   ]
  },
  {
   "cell_type": "code",
   "execution_count": 3,
   "metadata": {
    "execution": {
     "iopub.execute_input": "2021-07-12T13:48:44.310160Z",
     "iopub.status.busy": "2021-07-12T13:48:44.309405Z",
     "iopub.status.idle": "2021-07-12T13:48:44.318188Z",
     "shell.execute_reply": "2021-07-12T13:48:44.318693Z"
    }
   },
   "outputs": [],
   "source": [
    "@functools.lru_cache()\n",
    "def get_gtf(gtf_file):\n",
    "    return read_gtf(gtf_file)\n",
    "\n",
    "\n",
    "@functools.lru_cache()\n",
    "def get_deg(filename):\n",
    "    dft = pd.read_csv(filename, sep='\\t', index_col=0)\n",
    "    dft['Feature'] = dft.index\n",
    "    dft['Dir'] = np.sign(dft['t'])\n",
    "    if 'gene_id' in dft.columns:\n",
    "        dft['ensemblID'] = dft.gene_id.str.replace('\\\\..*', '', regex=True)\n",
    "    elif 'ensembl_gene_id' in dft.columns:\n",
    "        dft.rename(columns={'ensembl_gene_id': 'ensemblID'}, inplace=True)\n",
    "    return dft[['Feature', 'ensemblID', 'adj.P.Val', 'logFC', 't', 'Dir']]\n",
    "\n",
    "@functools.lru_cache()\n",
    "def get_deg_sig(filename):\n",
    "    dft = get_deg(filename)\n",
    "    return dft[(dft['adj.P.Val'] < 0.05)]\n",
    "\n",
    "\n",
    "@functools.lru_cache()\n",
    "def merge_dataframes(tissue1, tissue2):\n",
    "    return get_deg(config[tissue1]).merge(get_deg(config[tissue2]), \n",
    "                                          on='Feature', \n",
    "                                          suffixes=['_%s' % tissue1, '_%s' % tissue2])\n",
    "\n",
    "\n",
    "@functools.lru_cache()\n",
    "def merge_dataframes_sig(tissue1, tissue2):\n",
    "    return get_deg_sig(config[tissue1]).merge(get_deg_sig(config[tissue2]), \n",
    "                                              on='Feature', \n",
    "                                              suffixes=['_%s' % tissue1, '_%s' % tissue2])"
   ]
  },
  {
   "cell_type": "markdown",
   "metadata": {},
   "source": [
    "### Simple functions"
   ]
  },
  {
   "cell_type": "code",
   "execution_count": 4,
   "metadata": {
    "execution": {
     "iopub.execute_input": "2021-07-12T13:48:44.321953Z",
     "iopub.status.busy": "2021-07-12T13:48:44.321188Z",
     "iopub.status.idle": "2021-07-12T13:48:44.326885Z",
     "shell.execute_reply": "2021-07-12T13:48:44.327403Z"
    }
   },
   "outputs": [],
   "source": [
    "def tissue_annotation(tissue):\n",
    "    return {'dlpfc': 'DLPFC', 'hippo': 'Hippocampus',\n",
    "            'caudate': 'Caudate', 'gyrus': 'Dentate Gyrus'}[tissue]\n",
    "\n",
    "\n",
    "def save_plot(p, fn, width=7, height=7):\n",
    "    '''Save plot as svg, png, and pdf with specific label and dimension.'''\n",
    "    for ext in ['.svg', '.png', '.pdf']:\n",
    "        p.save(fn+ext, width=width, height=height)\n",
    "        \n",
    "\n",
    "def gene_annotation(gtf_file, feature):\n",
    "    gtf0 = get_gtf(gtf_file)\n",
    "    gtf = gtf0[gtf0[\"feature\"] == feature]\n",
    "    return gtf[[\"gene_id\", \"gene_name\", \"transcript_id\", \"exon_id\", \n",
    "                \"gene_type\", \"seqname\", \"start\", \"end\", \"strand\"]]"
   ]
  },
  {
   "cell_type": "markdown",
   "metadata": {},
   "source": [
    "## Gene annotation"
   ]
  },
  {
   "cell_type": "code",
   "execution_count": 5,
   "metadata": {
    "execution": {
     "iopub.execute_input": "2021-07-12T13:48:44.330819Z",
     "iopub.status.busy": "2021-07-12T13:48:44.330052Z",
     "iopub.status.idle": "2021-07-12T13:50:12.633973Z",
     "shell.execute_reply": "2021-07-12T13:50:12.633292Z"
    }
   },
   "outputs": [
    {
     "name": "stderr",
     "output_type": "stream",
     "text": [
      "INFO:root:Extracted GTF attributes: ['gene_id', 'gene_type', 'gene_status', 'gene_name', 'level', 'havana_gene', 'transcript_id', 'transcript_type', 'transcript_status', 'transcript_name', 'transcript_support_level', 'tag', 'havana_transcript', 'exon_number', 'exon_id', 'ont', 'protein_id', 'ccdsid']\n"
     ]
    },
    {
     "data": {
      "text/html": [
       "<div>\n",
       "<style scoped>\n",
       "    .dataframe tbody tr th:only-of-type {\n",
       "        vertical-align: middle;\n",
       "    }\n",
       "\n",
       "    .dataframe tbody tr th {\n",
       "        vertical-align: top;\n",
       "    }\n",
       "\n",
       "    .dataframe thead th {\n",
       "        text-align: right;\n",
       "    }\n",
       "</style>\n",
       "<table border=\"1\" class=\"dataframe\">\n",
       "  <thead>\n",
       "    <tr style=\"text-align: right;\">\n",
       "      <th></th>\n",
       "      <th>gene_id</th>\n",
       "      <th>gene_name</th>\n",
       "      <th>transcript_id</th>\n",
       "      <th>exon_id</th>\n",
       "      <th>gene_type</th>\n",
       "      <th>seqname</th>\n",
       "      <th>start</th>\n",
       "      <th>end</th>\n",
       "      <th>strand</th>\n",
       "    </tr>\n",
       "  </thead>\n",
       "  <tbody>\n",
       "    <tr>\n",
       "      <th>0</th>\n",
       "      <td>ENSG00000223972.5</td>\n",
       "      <td>DDX11L1</td>\n",
       "      <td></td>\n",
       "      <td></td>\n",
       "      <td>transcribed_unprocessed_pseudogene</td>\n",
       "      <td>chr1</td>\n",
       "      <td>11869</td>\n",
       "      <td>14409</td>\n",
       "      <td>+</td>\n",
       "    </tr>\n",
       "    <tr>\n",
       "      <th>12</th>\n",
       "      <td>ENSG00000227232.5</td>\n",
       "      <td>WASH7P</td>\n",
       "      <td></td>\n",
       "      <td></td>\n",
       "      <td>unprocessed_pseudogene</td>\n",
       "      <td>chr1</td>\n",
       "      <td>14404</td>\n",
       "      <td>29570</td>\n",
       "      <td>-</td>\n",
       "    </tr>\n",
       "  </tbody>\n",
       "</table>\n",
       "</div>"
      ],
      "text/plain": [
       "              gene_id gene_name transcript_id exon_id  \\\n",
       "0   ENSG00000223972.5   DDX11L1                         \n",
       "12  ENSG00000227232.5    WASH7P                         \n",
       "\n",
       "                             gene_type seqname  start    end strand  \n",
       "0   transcribed_unprocessed_pseudogene    chr1  11869  14409      +  \n",
       "12              unprocessed_pseudogene    chr1  14404  29570      -  "
      ]
     },
     "execution_count": 1,
     "metadata": {},
     "output_type": "execute_result"
    }
   ],
   "source": [
    "gtf_file = '/ceph/genome/human/gencode25/gtf.CHR/_m/gencode.v25.annotation.gtf'\n",
    "gtf_annot = gene_annotation(gtf_file, 'gene')\n",
    "gtf_annot.head(2)"
   ]
  },
  {
   "cell_type": "markdown",
   "metadata": {},
   "source": [
    "## BrainSeq Comparison"
   ]
  },
  {
   "cell_type": "markdown",
   "metadata": {},
   "source": [
    "### Summary of DE results"
   ]
  },
  {
   "cell_type": "code",
   "execution_count": 6,
   "metadata": {
    "execution": {
     "iopub.execute_input": "2021-07-12T13:50:12.641760Z",
     "iopub.status.busy": "2021-07-12T13:50:12.641063Z",
     "iopub.status.idle": "2021-07-12T13:50:12.809034Z",
     "shell.execute_reply": "2021-07-12T13:50:12.808071Z"
    }
   },
   "outputs": [
    {
     "data": {
      "text/plain": [
       "Dir\n",
       "-1.0    10767\n",
       " 1.0    11607\n",
       "dtype: int64"
      ]
     },
     "execution_count": 1,
     "metadata": {},
     "output_type": "execute_result"
    }
   ],
   "source": [
    "caudate = get_deg(config['caudate'])\n",
    "caudate.groupby('Dir').size()"
   ]
  },
  {
   "cell_type": "code",
   "execution_count": 7,
   "metadata": {
    "execution": {
     "iopub.execute_input": "2021-07-12T13:50:12.817592Z",
     "iopub.status.busy": "2021-07-12T13:50:12.816947Z",
     "iopub.status.idle": "2021-07-12T13:50:12.823242Z",
     "shell.execute_reply": "2021-07-12T13:50:12.822337Z"
    }
   },
   "outputs": [
    {
     "data": {
      "text/plain": [
       "(2970, 6)"
      ]
     },
     "execution_count": 1,
     "metadata": {},
     "output_type": "execute_result"
    }
   ],
   "source": [
    "caudate[(caudate['adj.P.Val'] < 0.05)].shape"
   ]
  },
  {
   "cell_type": "code",
   "execution_count": 8,
   "metadata": {
    "execution": {
     "iopub.execute_input": "2021-07-12T13:50:12.827971Z",
     "iopub.status.busy": "2021-07-12T13:50:12.827299Z",
     "iopub.status.idle": "2021-07-12T13:50:12.993924Z",
     "shell.execute_reply": "2021-07-12T13:50:12.992978Z"
    }
   },
   "outputs": [
    {
     "data": {
      "text/plain": [
       "Dir\n",
       "-1.0    11691\n",
       " 1.0    10707\n",
       "dtype: int64"
      ]
     },
     "execution_count": 1,
     "metadata": {},
     "output_type": "execute_result"
    }
   ],
   "source": [
    "dlpfc = get_deg(config['dlpfc'])\n",
    "dlpfc.groupby('Dir').size()"
   ]
  },
  {
   "cell_type": "code",
   "execution_count": 9,
   "metadata": {
    "execution": {
     "iopub.execute_input": "2021-07-12T13:50:13.000221Z",
     "iopub.status.busy": "2021-07-12T13:50:12.999571Z",
     "iopub.status.idle": "2021-07-12T13:50:13.004720Z",
     "shell.execute_reply": "2021-07-12T13:50:13.005246Z"
    }
   },
   "outputs": [
    {
     "data": {
      "text/plain": [
       "(2760, 6)"
      ]
     },
     "execution_count": 1,
     "metadata": {},
     "output_type": "execute_result"
    }
   ],
   "source": [
    "dlpfc[(dlpfc['adj.P.Val'] < 0.05)].shape"
   ]
  },
  {
   "cell_type": "code",
   "execution_count": 10,
   "metadata": {
    "execution": {
     "iopub.execute_input": "2021-07-12T13:50:13.010203Z",
     "iopub.status.busy": "2021-07-12T13:50:13.009552Z",
     "iopub.status.idle": "2021-07-12T13:50:13.176523Z",
     "shell.execute_reply": "2021-07-12T13:50:13.175595Z"
    }
   },
   "outputs": [
    {
     "data": {
      "text/plain": [
       "Dir\n",
       "-1.0    11213\n",
       " 1.0    11056\n",
       "dtype: int64"
      ]
     },
     "execution_count": 1,
     "metadata": {},
     "output_type": "execute_result"
    }
   ],
   "source": [
    "hippo = get_deg(config['hippo'])\n",
    "hippo.groupby('Dir').size()"
   ]
  },
  {
   "cell_type": "code",
   "execution_count": 11,
   "metadata": {
    "execution": {
     "iopub.execute_input": "2021-07-12T13:50:13.182796Z",
     "iopub.status.busy": "2021-07-12T13:50:13.182164Z",
     "iopub.status.idle": "2021-07-12T13:50:13.188510Z",
     "shell.execute_reply": "2021-07-12T13:50:13.187588Z"
    }
   },
   "outputs": [
    {
     "data": {
      "text/plain": [
       "(2956, 6)"
      ]
     },
     "execution_count": 1,
     "metadata": {},
     "output_type": "execute_result"
    }
   ],
   "source": [
    "hippo[(hippo['adj.P.Val'] < 0.05)].shape"
   ]
  },
  {
   "cell_type": "code",
   "execution_count": 12,
   "metadata": {
    "execution": {
     "iopub.execute_input": "2021-07-12T13:50:13.193105Z",
     "iopub.status.busy": "2021-07-12T13:50:13.192466Z",
     "iopub.status.idle": "2021-07-12T13:50:13.351513Z",
     "shell.execute_reply": "2021-07-12T13:50:13.350825Z"
    }
   },
   "outputs": [
    {
     "data": {
      "text/plain": [
       "Dir\n",
       "-1.0    10855\n",
       " 1.0    10285\n",
       "dtype: int64"
      ]
     },
     "execution_count": 1,
     "metadata": {},
     "output_type": "execute_result"
    }
   ],
   "source": [
    "gyrus = get_deg(config['gyrus'])\n",
    "gyrus.groupby('Dir').size()"
   ]
  },
  {
   "cell_type": "code",
   "execution_count": 13,
   "metadata": {
    "execution": {
     "iopub.execute_input": "2021-07-12T13:50:13.357498Z",
     "iopub.status.busy": "2021-07-12T13:50:13.356739Z",
     "iopub.status.idle": "2021-07-12T13:50:13.361023Z",
     "shell.execute_reply": "2021-07-12T13:50:13.360360Z"
    }
   },
   "outputs": [
    {
     "data": {
      "text/plain": [
       "(786, 6)"
      ]
     },
     "execution_count": 1,
     "metadata": {},
     "output_type": "execute_result"
    }
   ],
   "source": [
    "gyrus[(gyrus['adj.P.Val'] < 0.05)].shape"
   ]
  },
  {
   "cell_type": "markdown",
   "metadata": {},
   "source": [
    "### Upset Plot"
   ]
  },
  {
   "cell_type": "code",
   "execution_count": 14,
   "metadata": {
    "execution": {
     "iopub.execute_input": "2021-07-12T13:50:13.382037Z",
     "iopub.status.busy": "2021-07-12T13:50:13.381387Z",
     "iopub.status.idle": "2021-07-12T13:50:13.384488Z",
     "shell.execute_reply": "2021-07-12T13:50:13.383827Z"
    }
   },
   "outputs": [],
   "source": [
    "phase2_dlpfc = dlpfc[(dlpfc['adj.P.Val'] < 0.05)].copy()\n",
    "phase2_dlpfc['DLPFC'] = 1\n",
    "phase2_dlpfc = phase2_dlpfc[['ensemblID', 'DLPFC']]\n",
    "\n",
    "phase2_hippo = hippo[(hippo['adj.P.Val'] < 0.05)].copy()\n",
    "phase2_hippo['Hippocampus'] = 1\n",
    "phase2_hippo = phase2_hippo[['ensemblID', 'Hippocampus']]\n",
    "\n",
    "phase3_caudate = caudate[(caudate['adj.P.Val'] < 0.05)].copy()\n",
    "phase3_caudate['Caudate'] = 1\n",
    "phase3_caudate = phase3_caudate[['ensemblID', 'Caudate']]\n",
    "\n",
    "dentate_gyrus = gyrus[(gyrus['adj.P.Val'] < 0.05)].copy()\n",
    "dentate_gyrus['Dentate Gyrus'] = 1\n",
    "dentate_gyrus = dentate_gyrus[['ensemblID', 'Dentate Gyrus']]"
   ]
  },
  {
   "cell_type": "code",
   "execution_count": 15,
   "metadata": {
    "execution": {
     "iopub.execute_input": "2021-07-12T13:50:13.398189Z",
     "iopub.status.busy": "2021-07-12T13:50:13.397538Z",
     "iopub.status.idle": "2021-07-12T13:50:18.532271Z",
     "shell.execute_reply": "2021-07-12T13:50:18.533313Z"
    }
   },
   "outputs": [
    {
     "name": "stdout",
     "output_type": "stream",
     "text": [
      "(6259, 2) (6259, 2) (6259, 2) (6259, 2)\n"
     ]
    }
   ],
   "source": [
    "geneList = pd.merge(phase3_caudate[['ensemblID']], \n",
    "                    phase2_dlpfc[['ensemblID']], \n",
    "                    on=['ensemblID'], how='outer')\\\n",
    "             .merge(phase2_hippo[['ensemblID']], \n",
    "                    on=['ensemblID'], how='outer')\\\n",
    "             .merge(dentate_gyrus[['ensemblID']], \n",
    "                    on=['ensemblID'], how='outer')\\\n",
    "             .groupby(['ensemblID']).first().reset_index()\n",
    "\n",
    "newC = pd.merge(geneList, phase3_caudate, on=['ensemblID'], \n",
    "                how='outer').fillna(0)\n",
    "newC['Caudate'] = newC['Caudate'].astype('int')\n",
    "\n",
    "newD1 = pd.merge(geneList, phase2_dlpfc, on=['ensemblID'], \n",
    "                 how='outer').fillna(0)\n",
    "newD1['DLPFC'] = newD1['DLPFC'].astype('int')\n",
    "\n",
    "newH = pd.merge(geneList, phase2_hippo, on=['ensemblID'], \n",
    "                how='outer').fillna(0)\n",
    "newH['Hippocampus'] = newH['Hippocampus'].astype('int')\n",
    "\n",
    "newG = pd.merge(geneList, dentate_gyrus, on=['ensemblID'], \n",
    "                how='outer').fillna(0)\n",
    "newG['Dentate Gyrus'] = newG['Dentate Gyrus'].astype('int')\n",
    "\n",
    "print(newC.shape, newH.shape, newD1.shape, newG.shape)"
   ]
  },
  {
   "cell_type": "code",
   "execution_count": 16,
   "metadata": {
    "execution": {
     "iopub.execute_input": "2021-07-12T13:50:18.544293Z",
     "iopub.status.busy": "2021-07-12T13:50:18.539703Z",
     "iopub.status.idle": "2021-07-12T13:50:18.552495Z",
     "shell.execute_reply": "2021-07-12T13:50:18.551451Z"
    }
   },
   "outputs": [
    {
     "data": {
      "text/html": [
       "<div>\n",
       "<style scoped>\n",
       "    .dataframe tbody tr th:only-of-type {\n",
       "        vertical-align: middle;\n",
       "    }\n",
       "\n",
       "    .dataframe tbody tr th {\n",
       "        vertical-align: top;\n",
       "    }\n",
       "\n",
       "    .dataframe thead th {\n",
       "        text-align: right;\n",
       "    }\n",
       "</style>\n",
       "<table border=\"1\" class=\"dataframe\">\n",
       "  <thead>\n",
       "    <tr style=\"text-align: right;\">\n",
       "      <th></th>\n",
       "      <th>Caudate</th>\n",
       "      <th>DLPFC</th>\n",
       "      <th>Hippocampus</th>\n",
       "      <th>Dentate Gyrus</th>\n",
       "    </tr>\n",
       "    <tr>\n",
       "      <th>ensemblID</th>\n",
       "      <th></th>\n",
       "      <th></th>\n",
       "      <th></th>\n",
       "      <th></th>\n",
       "    </tr>\n",
       "  </thead>\n",
       "  <tbody>\n",
       "    <tr>\n",
       "      <th>ENSG00000001084</th>\n",
       "      <td>0</td>\n",
       "      <td>0</td>\n",
       "      <td>1</td>\n",
       "      <td>1</td>\n",
       "    </tr>\n",
       "    <tr>\n",
       "      <th>ENSG00000001460</th>\n",
       "      <td>0</td>\n",
       "      <td>1</td>\n",
       "      <td>1</td>\n",
       "      <td>0</td>\n",
       "    </tr>\n",
       "  </tbody>\n",
       "</table>\n",
       "</div>"
      ],
      "text/plain": [
       "                 Caudate  DLPFC  Hippocampus  Dentate Gyrus\n",
       "ensemblID                                                  \n",
       "ENSG00000001084        0      0            1              1\n",
       "ENSG00000001460        0      1            1              0"
      ]
     },
     "execution_count": 1,
     "metadata": {},
     "output_type": "execute_result"
    }
   ],
   "source": [
    "df = pd.concat([newC.set_index(['ensemblID']), \n",
    "                newD1.set_index(['ensemblID']), \n",
    "                newH.set_index(['ensemblID']), \n",
    "                newG.set_index(['ensemblID'])], \n",
    "               axis=1, join='outer')\n",
    "df.head(2)"
   ]
  },
  {
   "cell_type": "code",
   "execution_count": 17,
   "metadata": {
    "execution": {
     "iopub.execute_input": "2021-07-12T13:50:18.558452Z",
     "iopub.status.busy": "2021-07-12T13:50:18.557237Z",
     "iopub.status.idle": "2021-07-12T13:50:19.336562Z",
     "shell.execute_reply": "2021-07-12T13:50:19.336017Z"
    }
   },
   "outputs": [],
   "source": [
    "%load_ext rpy2.ipython"
   ]
  },
  {
   "cell_type": "code",
   "execution_count": 18,
   "metadata": {
    "execution": {
     "iopub.execute_input": "2021-07-12T13:50:19.341287Z",
     "iopub.status.busy": "2021-07-12T13:50:19.340733Z",
     "iopub.status.idle": "2021-07-12T13:50:23.383360Z",
     "shell.execute_reply": "2021-07-12T13:50:23.384893Z"
    }
   },
   "outputs": [
    {
     "name": "stderr",
     "output_type": "stream",
     "text": [
      "WARNING:rpy2.rinterface_lib.callbacks:R[write to console]: Loading required package: grid\n",
      "\n",
      "WARNING:rpy2.rinterface_lib.callbacks:R[write to console]: ========================================\n",
      "ComplexHeatmap version 2.6.2\n",
      "Bioconductor page: http://bioconductor.org/packages/ComplexHeatmap/\n",
      "Github page: https://github.com/jokergoo/ComplexHeatmap\n",
      "Documentation: http://jokergoo.github.io/ComplexHeatmap-reference\n",
      "\n",
      "If you use it in published research, please cite:\n",
      "Gu, Z. Complex heatmaps reveal patterns and correlations in multidimensional \n",
      "  genomic data. Bioinformatics 2016.\n",
      "\n",
      "This message can be suppressed by:\n",
      "  suppressPackageStartupMessages(library(ComplexHeatmap))\n",
      "========================================\n",
      "\n",
      "\n"
     ]
    }
   ],
   "source": [
    "%%R\n",
    "#library(UpSetR)\n",
    "#upset(df, order.by=\"freq\", text.scale=c(3, 2.5, 2.4, 2.25, 2.6, 2.6), point.size=3.6, line.size=1.4)\n",
    "library(ComplexHeatmap)\n",
    "subset_pvalue <- function(filename, fdr_cutoff){\n",
    "    df <- subset(read.delim(filename, row.names=1, stringsAsFactors = F), \n",
    "                 adj.P.Val < fdr_cutoff)\n",
    "    if('gene_id' %in% colnames(df)){\n",
    "        df$ensemblID <- gsub('\\\\..*', '', df$gene_id)\n",
    "    } else if('ensembl_gene_id' %in% colnames(df)){\n",
    "        df <- dplyr::rename(df, ensemblID=ensembl_gene_id)\n",
    "    }\n",
    "    return(df$ensemblID)\n",
    "}\n",
    "\n",
    "caudate = subset_pvalue('../../../caudate/_m/genes/diffExpr_EAvsAA_full.txt', 0.05)\n",
    "dlpfc = subset_pvalue('../../../dlpfc/_m/genes/diffExpr_EAvsAA_full.txt', 0.05)\n",
    "hippo = subset_pvalue('../../../hippocampus/_m/genes/diffExpr_EAvsAA_full.txt', 0.05)\n",
    "gyrus = subset_pvalue(\"../../../dentateGyrus/_m/genes/diffExpr_EAvsAA_full.txt\", 0.05)\n",
    "\n",
    "lt = list(Caudate = caudate,\n",
    "          DLPFC = dlpfc,\n",
    "          Hippocampus = hippo, \n",
    "          `Dentate Gyrus` = gyrus)\n",
    "\n",
    "m = make_comb_mat(lt)\n",
    "cbb_palette <- c(\"#000000\", \"#E69F00\", \"#56B4E9\", \"#009E73\", \n",
    "                 \"#F0E442\", \"#0072B2\", \"#D55E00\", \"#CC79A7\")"
   ]
  },
  {
   "cell_type": "code",
   "execution_count": 19,
   "metadata": {
    "execution": {
     "iopub.execute_input": "2021-07-12T13:50:23.399146Z",
     "iopub.status.busy": "2021-07-12T13:50:23.397501Z",
     "iopub.status.idle": "2021-07-12T13:50:27.510143Z",
     "shell.execute_reply": "2021-07-12T13:50:27.509029Z"
    }
   },
   "outputs": [
    {
     "name": "stdout",
     "output_type": "stream",
     "text": [
      "png \n",
      "  2 \n"
     ]
    }
   ],
   "source": [
    "%%R\n",
    "right_annot = upset_right_annotation(\n",
    "    m, ylim = c(0, 4000),\n",
    "    gp = gpar(fill = \"black\"),\n",
    "    annotation_name_side = \"top\",\n",
    "    axis_param = list(side = \"top\"))\n",
    "\n",
    "top_annot = upset_top_annotation(\n",
    "    m, height=unit(7, \"cm\"), \n",
    "    ylim = c(0, 2000),\n",
    "    gp=gpar(fill=cbb_palette[comb_degree(m)]),\n",
    "    annotation_name_rot = 90)\n",
    "\n",
    "pdf('BrainSeq_race_tissue_upsetR_DEgenes.pdf', width=8, height=4)\n",
    "ht = draw(UpSet(m, pt_size=unit(4, \"mm\"), lwd=3, \n",
    "                comb_col=cbb_palette[comb_degree(m)], \n",
    "                set_order = c(\"Caudate\", \"DLPFC\", \"Hippocampus\", \"Dentate Gyrus\"), \n",
    "                comb_order = order(-comb_size(m)), \n",
    "                row_names_gp = gpar(fontsize = 14, fontface='bold'),\n",
    "                right_annotation = right_annot, \n",
    "                top_annotation = top_annot))\n",
    "od = column_order(ht)\n",
    "cs = comb_size(m)\n",
    "decorate_annotation(\"intersection_size\", {\n",
    "    grid.text(cs[od], x = seq_along(cs), y = unit(cs[od], \"native\") + \n",
    "              unit(6, \"pt\"), \n",
    "        default.units = \"native\", just = \"bottom\", gp = gpar(fontsize = 11))\n",
    "})\n",
    "dev.off()\n",
    "\n",
    "svg('BrainSeq_race_tissue_upsetR_DEgenes.svg', width=8, height=4)\n",
    "ht = draw(UpSet(m, pt_size=unit(4, \"mm\"), lwd=3, \n",
    "                comb_col=cbb_palette[comb_degree(m)], \n",
    "                set_order = c(\"Caudate\", \"DLPFC\", \"Hippocampus\", \"Dentate Gyrus\"), \n",
    "                comb_order = order(-comb_size(m)), \n",
    "                row_names_gp = gpar(fontsize = 14, fontface='bold'),\n",
    "                right_annotation = right_annot, \n",
    "                top_annotation = top_annot))\n",
    "od = column_order(ht)\n",
    "cs = comb_size(m)\n",
    "decorate_annotation(\"intersection_size\", {\n",
    "    grid.text(cs[od], x = seq_along(cs), y = unit(cs[od], \"native\") + \n",
    "              unit(6, \"pt\"), \n",
    "        default.units = \"native\", just = \"bottom\", gp = gpar(fontsize = 11))\n",
    "})\n",
    "dev.off()"
   ]
  },
  {
   "cell_type": "code",
   "execution_count": 20,
   "metadata": {
    "execution": {
     "iopub.execute_input": "2021-07-12T13:50:27.534482Z",
     "iopub.status.busy": "2021-07-12T13:50:27.532071Z",
     "iopub.status.idle": "2021-07-12T13:50:27.718668Z",
     "shell.execute_reply": "2021-07-12T13:50:27.717584Z"
    }
   },
   "outputs": [
    {
     "name": "stdout",
     "output_type": "stream",
     "text": [
      "png \n",
      "  2 \n"
     ]
    }
   ],
   "source": [
    "%%R\n",
    "right_ha = rowAnnotation(\n",
    "    \"Intersection\\nsize\" = anno_barplot(comb_size(m), border=F,\n",
    "                                        ylim = c(0, 2000), \n",
    "                                        gp=gpar(fill=cbb_palette[comb_degree(m)]),\n",
    "                                        width = unit(7, \"cm\")))\n",
    "top_ha = HeatmapAnnotation(\n",
    "    \"Set size\" = anno_barplot(set_size(m), border=F,\n",
    "                              ylim = c(0, 4000),\n",
    "                              gp = gpar(fill = \"black\"), \n",
    "                              height = unit(2, \"cm\")), \n",
    "    gap = unit(2, \"mm\"), annotation_name_side = \"left\", \n",
    "    annotation_name_rot = 90)\n",
    "\n",
    "\n",
    "pdf(\"BrainSeq_race_tissue_upsetR_DEgenes_transpose.pdf\", width=5, height=10)\n",
    "ht = draw(UpSet(t(m), pt_size=unit(5, \"mm\"), lwd=3,\n",
    "                comb_order = order(-comb_size(m)), \n",
    "                comb_col=cbb_palette[comb_degree(m)], \n",
    "                set_order = c(\"Caudate\", \"DLPFC\", \"Hippocampus\", \"Dentate Gyrus\"), \n",
    "                column_names_gp = gpar(fontsize = 16, fontface='bold'),\n",
    "                right_annotation = right_ha, top_annotation=top_ha))\n",
    "\n",
    "od = rev(row_order(ht))\n",
    "cs = comb_size(m)\n",
    "decorate_annotation(\"Intersection\\nsize\", {\n",
    "    grid.text(cs[od], y = seq_along(cs), x = unit(cs[od], \"native\") + \n",
    "              unit(6, \"pt\"), \n",
    "        default.units = \"native\", just = \"left\", gp = gpar(fontsize = 11))\n",
    "})\n",
    "dev.off()\n",
    "\n",
    "svg(\"BrainSeq_race_tissue_upsetR_DEgenes_transpose.svg\", width=5, height=10)\n",
    "ht = draw(UpSet(t(m), pt_size=unit(5, \"mm\"), lwd=3,\n",
    "                comb_order = order(-comb_size(m)), \n",
    "                comb_col=cbb_palette[comb_degree(m)], \n",
    "                set_order = c(\"Caudate\", \"DLPFC\", \"Hippocampus\", \"Dentate Gyrus\"), \n",
    "                column_names_gp = gpar(fontsize = 16, fontface='bold'),\n",
    "                right_annotation = right_ha, top_annotation=top_ha))\n",
    "\n",
    "od = rev(row_order(ht))\n",
    "cs = comb_size(m)\n",
    "decorate_annotation(\"Intersection\\nsize\", {\n",
    "    grid.text(cs[od], y = seq_along(cs), x = unit(cs[od], \"native\") + \n",
    "              unit(6, \"pt\"), \n",
    "        default.units = \"native\", just = \"left\", gp = gpar(fontsize = 11))\n",
    "})\n",
    "dev.off()"
   ]
  },
  {
   "cell_type": "markdown",
   "metadata": {},
   "source": [
    "## Annotate with gene information"
   ]
  },
  {
   "cell_type": "code",
   "execution_count": 21,
   "metadata": {
    "execution": {
     "iopub.execute_input": "2021-07-12T13:50:27.726317Z",
     "iopub.status.busy": "2021-07-12T13:50:27.725039Z",
     "iopub.status.idle": "2021-07-12T13:50:27.804221Z",
     "shell.execute_reply": "2021-07-12T13:50:27.804834Z"
    }
   },
   "outputs": [
    {
     "data": {
      "text/html": [
       "<div>\n",
       "<style scoped>\n",
       "    .dataframe tbody tr th:only-of-type {\n",
       "        vertical-align: middle;\n",
       "    }\n",
       "\n",
       "    .dataframe tbody tr th {\n",
       "        vertical-align: top;\n",
       "    }\n",
       "\n",
       "    .dataframe thead th {\n",
       "        text-align: right;\n",
       "    }\n",
       "</style>\n",
       "<table border=\"1\" class=\"dataframe\">\n",
       "  <thead>\n",
       "    <tr style=\"text-align: right;\">\n",
       "      <th></th>\n",
       "      <th>Feature</th>\n",
       "      <th>ensemblID</th>\n",
       "      <th>adj.P.Val</th>\n",
       "      <th>logFC</th>\n",
       "      <th>t</th>\n",
       "      <th>Dir</th>\n",
       "      <th>gene_id</th>\n",
       "      <th>gene_name</th>\n",
       "      <th>seqname</th>\n",
       "    </tr>\n",
       "  </thead>\n",
       "  <tbody>\n",
       "    <tr>\n",
       "      <th>2450534</th>\n",
       "      <td>ENSG00000272977.1</td>\n",
       "      <td>ENSG00000272977</td>\n",
       "      <td>1.293546e-22</td>\n",
       "      <td>2.197155</td>\n",
       "      <td>12.328222</td>\n",
       "      <td>1.0</td>\n",
       "      <td>ENSG00000272977.1</td>\n",
       "      <td>CTA-390C10.10</td>\n",
       "      <td>chr22</td>\n",
       "    </tr>\n",
       "    <tr>\n",
       "      <th>782182</th>\n",
       "      <td>ENSG00000233913.7</td>\n",
       "      <td>ENSG00000233913</td>\n",
       "      <td>1.511451e-22</td>\n",
       "      <td>-2.941671</td>\n",
       "      <td>-12.213021</td>\n",
       "      <td>-1.0</td>\n",
       "      <td>ENSG00000233913.7</td>\n",
       "      <td>CTC-575D19.1</td>\n",
       "      <td>chr5</td>\n",
       "    </tr>\n",
       "    <tr>\n",
       "      <th>1784411</th>\n",
       "      <td>ENSG00000259479.6</td>\n",
       "      <td>ENSG00000259479</td>\n",
       "      <td>2.536508e-22</td>\n",
       "      <td>-2.338783</td>\n",
       "      <td>-12.087500</td>\n",
       "      <td>-1.0</td>\n",
       "      <td>ENSG00000259479.6</td>\n",
       "      <td>SORD2P</td>\n",
       "      <td>chr15</td>\n",
       "    </tr>\n",
       "    <tr>\n",
       "      <th>295752</th>\n",
       "      <td>ENSG00000068654.15</td>\n",
       "      <td>ENSG00000068654</td>\n",
       "      <td>6.364724e-22</td>\n",
       "      <td>0.292087</td>\n",
       "      <td>11.922914</td>\n",
       "      <td>1.0</td>\n",
       "      <td>ENSG00000068654.15</td>\n",
       "      <td>POLR1A</td>\n",
       "      <td>chr2</td>\n",
       "    </tr>\n",
       "    <tr>\n",
       "      <th>47391</th>\n",
       "      <td>ENSG00000084628.9</td>\n",
       "      <td>ENSG00000084628</td>\n",
       "      <td>9.739085e-21</td>\n",
       "      <td>1.891807</td>\n",
       "      <td>11.518655</td>\n",
       "      <td>1.0</td>\n",
       "      <td>ENSG00000084628.9</td>\n",
       "      <td>NKAIN1</td>\n",
       "      <td>chr1</td>\n",
       "    </tr>\n",
       "  </tbody>\n",
       "</table>\n",
       "</div>"
      ],
      "text/plain": [
       "                    Feature        ensemblID     adj.P.Val     logFC  \\\n",
       "2450534   ENSG00000272977.1  ENSG00000272977  1.293546e-22  2.197155   \n",
       "782182    ENSG00000233913.7  ENSG00000233913  1.511451e-22 -2.941671   \n",
       "1784411   ENSG00000259479.6  ENSG00000259479  2.536508e-22 -2.338783   \n",
       "295752   ENSG00000068654.15  ENSG00000068654  6.364724e-22  0.292087   \n",
       "47391     ENSG00000084628.9  ENSG00000084628  9.739085e-21  1.891807   \n",
       "\n",
       "                 t  Dir             gene_id      gene_name seqname  \n",
       "2450534  12.328222  1.0   ENSG00000272977.1  CTA-390C10.10   chr22  \n",
       "782182  -12.213021 -1.0   ENSG00000233913.7   CTC-575D19.1    chr5  \n",
       "1784411 -12.087500 -1.0   ENSG00000259479.6         SORD2P   chr15  \n",
       "295752   11.922914  1.0  ENSG00000068654.15         POLR1A    chr2  \n",
       "47391    11.518655  1.0   ENSG00000084628.9         NKAIN1    chr1  "
      ]
     },
     "execution_count": 1,
     "metadata": {},
     "output_type": "execute_result"
    }
   ],
   "source": [
    "dft = caudate.merge(gtf_annot[['gene_id', 'gene_name', 'seqname']], \n",
    "                    left_index=True, right_on='gene_id')\n",
    "dft.head()"
   ]
  },
  {
   "cell_type": "code",
   "execution_count": 22,
   "metadata": {
    "execution": {
     "iopub.execute_input": "2021-07-12T13:50:27.815955Z",
     "iopub.status.busy": "2021-07-12T13:50:27.813624Z",
     "iopub.status.idle": "2021-07-12T13:50:27.862891Z",
     "shell.execute_reply": "2021-07-12T13:50:27.863387Z"
    }
   },
   "outputs": [
    {
     "data": {
      "text/html": [
       "<div>\n",
       "<style scoped>\n",
       "    .dataframe tbody tr th:only-of-type {\n",
       "        vertical-align: middle;\n",
       "    }\n",
       "\n",
       "    .dataframe tbody tr th {\n",
       "        vertical-align: top;\n",
       "    }\n",
       "\n",
       "    .dataframe thead th {\n",
       "        text-align: right;\n",
       "    }\n",
       "</style>\n",
       "<table border=\"1\" class=\"dataframe\">\n",
       "  <thead>\n",
       "    <tr style=\"text-align: right;\">\n",
       "      <th></th>\n",
       "      <th>gene_id</th>\n",
       "      <th>ensemblID</th>\n",
       "      <th>seqname</th>\n",
       "      <th>gene_name</th>\n",
       "      <th>Dir</th>\n",
       "    </tr>\n",
       "  </thead>\n",
       "  <tbody>\n",
       "    <tr>\n",
       "      <th>0</th>\n",
       "      <td>ENSG00000272977.1</td>\n",
       "      <td>ENSG00000272977</td>\n",
       "      <td>chr22</td>\n",
       "      <td>CTA-390C10.10</td>\n",
       "      <td>1.0</td>\n",
       "    </tr>\n",
       "    <tr>\n",
       "      <th>1</th>\n",
       "      <td>ENSG00000233913.7</td>\n",
       "      <td>ENSG00000233913</td>\n",
       "      <td>chr5</td>\n",
       "      <td>CTC-575D19.1</td>\n",
       "      <td>-1.0</td>\n",
       "    </tr>\n",
       "    <tr>\n",
       "      <th>2</th>\n",
       "      <td>ENSG00000259479.6</td>\n",
       "      <td>ENSG00000259479</td>\n",
       "      <td>chr15</td>\n",
       "      <td>SORD2P</td>\n",
       "      <td>-1.0</td>\n",
       "    </tr>\n",
       "    <tr>\n",
       "      <th>3</th>\n",
       "      <td>ENSG00000068654.15</td>\n",
       "      <td>ENSG00000068654</td>\n",
       "      <td>chr2</td>\n",
       "      <td>POLR1A</td>\n",
       "      <td>1.0</td>\n",
       "    </tr>\n",
       "    <tr>\n",
       "      <th>4</th>\n",
       "      <td>ENSG00000226278.1</td>\n",
       "      <td>ENSG00000226278</td>\n",
       "      <td>chr7</td>\n",
       "      <td>PSPHP1</td>\n",
       "      <td>-1.0</td>\n",
       "    </tr>\n",
       "  </tbody>\n",
       "</table>\n",
       "</div>"
      ],
      "text/plain": [
       "              gene_id        ensemblID seqname      gene_name  Dir\n",
       "0   ENSG00000272977.1  ENSG00000272977   chr22  CTA-390C10.10  1.0\n",
       "1   ENSG00000233913.7  ENSG00000233913    chr5   CTC-575D19.1 -1.0\n",
       "2   ENSG00000259479.6  ENSG00000259479   chr15         SORD2P -1.0\n",
       "3  ENSG00000068654.15  ENSG00000068654    chr2         POLR1A  1.0\n",
       "4   ENSG00000226278.1  ENSG00000226278    chr7         PSPHP1 -1.0"
      ]
     },
     "execution_count": 1,
     "metadata": {},
     "output_type": "execute_result"
    }
   ],
   "source": [
    "shared_df = dft.loc[:, ['gene_id', 'ensemblID', 'seqname', 'gene_name', 'Dir']]\\\n",
    "        .merge(pd.DataFrame({'ensemblID': list(set(phase2_dlpfc['ensemblID']) & \n",
    "                                               set(phase2_hippo['ensemblID']) & \n",
    "                                               set(phase3_caudate['ensemblID']) & \n",
    "                                               set(dentate_gyrus['ensemblID']))}), \n",
    "               on='ensemblID')\n",
    "shared_df.to_csv('BrainSeq_shared_degs_annotation.txt', \n",
    "                 sep='\\t', index=False, header=True)\n",
    "shared_df.head()"
   ]
  },
  {
   "cell_type": "code",
   "execution_count": 23,
   "metadata": {
    "execution": {
     "iopub.execute_input": "2021-07-12T13:50:27.869237Z",
     "iopub.status.busy": "2021-07-12T13:50:27.868447Z",
     "iopub.status.idle": "2021-07-12T13:50:27.871033Z",
     "shell.execute_reply": "2021-07-12T13:50:27.871499Z"
    }
   },
   "outputs": [
    {
     "name": "stdout",
     "output_type": "stream",
     "text": [
      "4.55% of shared DEG are allosomal!\n"
     ]
    }
   ],
   "source": [
    "dd = np.sum(shared_df.seqname.isin(['chrX', 'chrY'])) / shared_df.shape[0] * 100\n",
    "print(\"%0.2f%% of shared DEG are allosomal!\" % dd)"
   ]
  },
  {
   "cell_type": "code",
   "execution_count": 24,
   "metadata": {
    "execution": {
     "iopub.execute_input": "2021-07-12T13:50:27.885361Z",
     "iopub.status.busy": "2021-07-12T13:50:27.884059Z",
     "iopub.status.idle": "2021-07-12T13:50:28.018983Z",
     "shell.execute_reply": "2021-07-12T13:50:28.019482Z"
    }
   },
   "outputs": [
    {
     "name": "stderr",
     "output_type": "stream",
     "text": [
      "<ipython-input-1-4f417e935742>:1: FutureWarning: The default value of regex will change from True to False in a future version.\n",
      "  gtf_annot['ensemblID'] = gtf_annot.gene_id.str.replace(\"\\\\..*\", \"\")\n"
     ]
    }
   ],
   "source": [
    "gtf_annot['ensemblID'] = gtf_annot.gene_id.str.replace(\"\\\\..*\", \"\")\n",
    "gtf_annot[['gene_id', 'ensemblID', 'gene_name', 'seqname', 'gene_type']]\\\n",
    "    .merge(df, left_on='ensemblID', right_index=True)\\\n",
    "    .to_csv('brainseq_deg_across_tissues_comparison.csv', index=False)"
   ]
  },
  {
   "cell_type": "code",
   "execution_count": null,
   "metadata": {},
   "outputs": [],
   "source": []
  }
 ],
 "metadata": {
  "kernelspec": {
   "display_name": "Python 3",
   "language": "python",
   "name": "python3"
  },
  "language_info": {
   "codemirror_mode": {
    "name": "ipython",
    "version": 3
   },
   "file_extension": ".py",
   "mimetype": "text/x-python",
   "name": "python",
   "nbconvert_exporter": "python",
   "pygments_lexer": "ipython3",
   "version": "3.9.1"
  }
 },
 "nbformat": 4,
 "nbformat_minor": 4
}
