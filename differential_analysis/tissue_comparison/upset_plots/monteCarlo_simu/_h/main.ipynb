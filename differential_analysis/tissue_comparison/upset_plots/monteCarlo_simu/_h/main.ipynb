{
 "cells": [
  {
   "cell_type": "markdown",
   "metadata": {},
   "source": [
    "# Run a Monte Carlo simulation to determine significant overlap of DEGs between multiple brain regions"
   ]
  },
  {
   "cell_type": "code",
   "execution_count": 1,
   "metadata": {},
   "outputs": [
    {
     "name": "stderr",
     "output_type": "stream",
     "text": [
      "-- \u001b[1mAttaching packages\u001b[22m ----------------------------------------------------------------------------------------------------------------------------------------------------------------------------------------------------- tidyverse 1.3.0 --\n",
      "\n",
      "\u001b[32mv\u001b[39m \u001b[34mggplot2\u001b[39m 3.3.3     \u001b[32mv\u001b[39m \u001b[34mpurrr  \u001b[39m 0.3.4\n",
      "\u001b[32mv\u001b[39m \u001b[34mtibble \u001b[39m 3.1.0     \u001b[32mv\u001b[39m \u001b[34mdplyr  \u001b[39m 1.0.5\n",
      "\u001b[32mv\u001b[39m \u001b[34mtidyr  \u001b[39m 1.1.3     \u001b[32mv\u001b[39m \u001b[34mstringr\u001b[39m 1.4.0\n",
      "\u001b[32mv\u001b[39m \u001b[34mreadr  \u001b[39m 1.4.0     \u001b[32mv\u001b[39m \u001b[34mforcats\u001b[39m 0.5.1\n",
      "\n",
      "-- \u001b[1mConflicts\u001b[22m -------------------------------------------------------------------------------------------------------------------------------------------------------------------------------------------------------- tidyverse_conflicts() --\n",
      "\u001b[31mx\u001b[39m \u001b[34mdplyr\u001b[39m::\u001b[32mfilter()\u001b[39m masks \u001b[34mstats\u001b[39m::filter()\n",
      "\u001b[31mx\u001b[39m \u001b[34mdplyr\u001b[39m::\u001b[32mlag()\u001b[39m    masks \u001b[34mstats\u001b[39m::lag()\n",
      "\n"
     ]
    }
   ],
   "source": [
    "library(tidyverse)"
   ]
  },
  {
   "cell_type": "markdown",
   "metadata": {},
   "source": [
    "## Load overlap annotation"
   ]
  },
  {
   "cell_type": "code",
   "execution_count": 8,
   "metadata": {},
   "outputs": [
    {
     "data": {
      "text/html": [
       "<table class=\"dataframe\">\n",
       "<caption>A data.table: 2 × 9</caption>\n",
       "<thead>\n",
       "\t<tr><th scope=col>gene_id</th><th scope=col>ensemblID</th><th scope=col>gene_name</th><th scope=col>seqname</th><th scope=col>gene_type</th><th scope=col>Caudate</th><th scope=col>DLPFC</th><th scope=col>Hippocampus</th><th scope=col>Dentate Gyrus</th></tr>\n",
       "\t<tr><th scope=col>&lt;chr&gt;</th><th scope=col>&lt;chr&gt;</th><th scope=col>&lt;chr&gt;</th><th scope=col>&lt;chr&gt;</th><th scope=col>&lt;chr&gt;</th><th scope=col>&lt;int&gt;</th><th scope=col>&lt;int&gt;</th><th scope=col>&lt;int&gt;</th><th scope=col>&lt;int&gt;</th></tr>\n",
       "</thead>\n",
       "<tbody>\n",
       "\t<tr><td>ENSG00000227232.5</td><td>ENSG00000227232</td><td>WASH7P    </td><td>chr1</td><td>unprocessed_pseudogene</td><td>1</td><td>1</td><td>1</td><td>1</td></tr>\n",
       "\t<tr><td>ENSG00000279457.3</td><td>ENSG00000279457</td><td>FO538757.1</td><td>chr1</td><td>protein_coding        </td><td>1</td><td>1</td><td>1</td><td>1</td></tr>\n",
       "</tbody>\n",
       "</table>\n"
      ],
      "text/latex": [
       "A data.table: 2 × 9\n",
       "\\begin{tabular}{lllllllll}\n",
       " gene\\_id & ensemblID & gene\\_name & seqname & gene\\_type & Caudate & DLPFC & Hippocampus & Dentate Gyrus\\\\\n",
       " <chr> & <chr> & <chr> & <chr> & <chr> & <int> & <int> & <int> & <int>\\\\\n",
       "\\hline\n",
       "\t ENSG00000227232.5 & ENSG00000227232 & WASH7P     & chr1 & unprocessed\\_pseudogene & 1 & 1 & 1 & 1\\\\\n",
       "\t ENSG00000279457.3 & ENSG00000279457 & FO538757.1 & chr1 & protein\\_coding         & 1 & 1 & 1 & 1\\\\\n",
       "\\end{tabular}\n"
      ],
      "text/markdown": [
       "\n",
       "A data.table: 2 × 9\n",
       "\n",
       "| gene_id &lt;chr&gt; | ensemblID &lt;chr&gt; | gene_name &lt;chr&gt; | seqname &lt;chr&gt; | gene_type &lt;chr&gt; | Caudate &lt;int&gt; | DLPFC &lt;int&gt; | Hippocampus &lt;int&gt; | Dentate Gyrus &lt;int&gt; |\n",
       "|---|---|---|---|---|---|---|---|---|\n",
       "| ENSG00000227232.5 | ENSG00000227232 | WASH7P     | chr1 | unprocessed_pseudogene | 1 | 1 | 1 | 1 |\n",
       "| ENSG00000279457.3 | ENSG00000279457 | FO538757.1 | chr1 | protein_coding         | 1 | 1 | 1 | 1 |\n",
       "\n"
      ],
      "text/plain": [
       "  gene_id           ensemblID       gene_name  seqname gene_type             \n",
       "1 ENSG00000227232.5 ENSG00000227232 WASH7P     chr1    unprocessed_pseudogene\n",
       "2 ENSG00000279457.3 ENSG00000279457 FO538757.1 chr1    protein_coding        \n",
       "  Caudate DLPFC Hippocampus Dentate Gyrus\n",
       "1 1       1     1           1            \n",
       "2 1       1     1           1            "
      ]
     },
     "metadata": {},
     "output_type": "display_data"
    }
   ],
   "source": [
    "annot = data.table::fread(\"../../_m/brainseq_deg_across_tissues_comparison.csv\")\n",
    "annot %>% head(2)"
   ]
  },
  {
   "cell_type": "code",
   "execution_count": 3,
   "metadata": {},
   "outputs": [],
   "source": [
    "total = dim(annot)[1] ## Unique elements in the list\n",
    "caudate = dim(filter(annot, Caudate == 1))[1]\n",
    "dlpfc = dim(filter(annot, DLPFC == 1))[1]\n",
    "hippocampus = dim(filter(annot, Hippocampus == 1))[1]\n",
    "gyrus = dim(filter(annot, `Dentate Gyrus` == 1))[1]"
   ]
  },
  {
   "cell_type": "markdown",
   "metadata": {},
   "source": [
    "## Monte Carlo simulation"
   ]
  },
  {
   "cell_type": "markdown",
   "metadata": {},
   "source": [
    "### Four brain regions"
   ]
  },
  {
   "cell_type": "code",
   "execution_count": 4,
   "metadata": {},
   "outputs": [],
   "source": [
    "sim = unlist(lapply(1:10000, function(i){\n",
    "    C=sample(1:total, caudate); \n",
    "    D=sample(1:total, dlpfc); \n",
    "    H=sample(1:total, hippocampus); \n",
    "    G=sample(1:total, gyrus);\n",
    "    return(length(Reduce(intersect, list(C,D,H,G))))\n",
    "}))"
   ]
  },
  {
   "cell_type": "code",
   "execution_count": 5,
   "metadata": {},
   "outputs": [
    {
     "data": {
      "image/png": "[encoded data removed]",
      "text/plain": [
       "Plot with title \"Histogram of sim\""
      ]
     },
     "metadata": {
      "image/png": {
       "height": 420,
       "width": 420
      }
     },
     "output_type": "display_data"
    }
   ],
   "source": [
    "hist(sim)"
   ]
  },
  {
   "cell_type": "code",
   "execution_count": 6,
   "metadata": {},
   "outputs": [
    {
     "name": "stdout",
     "output_type": "stream",
     "text": [
      "[1] \"The max overlap from simulation: 115\"\n",
      "[1] \"The overlap is: 198\"\n",
      "[1] \"The p-value < 1e-05\"\n"
     ]
    }
   ],
   "source": [
    "shared = dim(filter(annot, Caudate == 1, DLPFC == 1, Hippocampus == 1, `Dentate Gyrus` == 1))[1]\n",
    "print(paste(\"The max overlap from simulation:\",max(sim)))\n",
    "print(paste(\"The overlap is:\", shared))\n",
    "## Zero instances are greater than overlap\n",
    "## So pvalues is 1 / (10000 + 1), adding my value into this\n",
    "pval1 = (sum(sim >= shared) + 1) / (10000 + 1)\n",
    "pval2 = (sum(sim <= shared) + 1) / (10000 + 1)\n",
    "print(paste(\"Enrichment p-value <\",format(pval1, digits=2)))\n",
    "print(paste(\"Depletion p-value <\",format(pval2, digits=2)))"
   ]
  },
  {
   "cell_type": "markdown",
   "metadata": {},
   "source": [
    "### Three brain regions"
   ]
  },
  {
   "cell_type": "markdown",
   "metadata": {},
   "source": [
    "#### Caudate vs DLPFC vs Hippocampus"
   ]
  },
  {
   "cell_type": "code",
   "execution_count": 11,
   "metadata": {},
   "outputs": [],
   "source": [
    "total = Reduce(union, list(filter(annot, Caudate == 1)$gene_id, \n",
    "                           filter(annot, DLPFC == 1)$gene_id, \n",
    "                           filter(annot, Hippocampus == 1)$gene_id)) %>% length\n",
    "\n",
    "sim = unlist(lapply(1:10000, function(i){\n",
    "    C=sample(1:total, caudate); \n",
    "    D=sample(1:total, dlpfc); \n",
    "    H=sample(1:total, hippocampus); \n",
    "    return(length(Reduce(intersect, list(C,D,H))))\n",
    "}))\n",
    "\n",
    "hist(sim)"
   ]
  },
  {
   "cell_type": "code",
   "execution_count": 13,
   "metadata": {},
   "outputs": [
    {
     "name": "stdout",
     "output_type": "stream",
     "text": [
      "[1] \"The max overlap from simulation: 754\"\n",
      "[1] \"The overlap is: 786\"\n",
      "[1] \"The p-value < 1e-04\"\n"
     ]
    }
   ],
   "source": [
    "shared = dim(filter(annot, Caudate == 1, DLPFC == 1, Hippocampus == 1))[1]\n",
    "print(paste(\"The max overlap from simulation:\",max(sim)))\n",
    "print(paste(\"The overlap is:\", shared))\n",
    "## Zero instances are greater than overlap\n",
    "## So pvalues is 1 / (10000 + 1), adding my value into this\n",
    "pval1 = (sum(sim >= shared) + 1) / (10000 + 1)\n",
    "pval2 = (sum(sim <= shared) + 1) / (10000 + 1)\n",
    "print(paste(\"Enrichment p-value <\",format(pval1, digits=2)))\n",
    "print(paste(\"Depletion p-value <\",format(pval2, digits=2)))"
   ]
  },
  {
   "cell_type": "markdown",
   "metadata": {},
   "source": [
    "#### Caudate vs DLPFC vs Dentate Gyrus"
   ]
  },
  {
   "cell_type": "code",
   "execution_count": 14,
   "metadata": {},
   "outputs": [
    {
     "data": {
      "image/png": "[encoded data removed]",
      "text/plain": [
       "Plot with title \"Histogram of sim\""
      ]
     },
     "metadata": {
      "image/png": {
       "height": 420,
       "width": 420
      }
     },
     "output_type": "display_data"
    }
   ],
   "source": [
    "total = Reduce(union, list(filter(annot, Caudate == 1)$gene_id, \n",
    "                           filter(annot, DLPFC == 1)$gene_id, \n",
    "                           filter(annot, `Dentate Gyrus` == 1)$gene_id)) %>% length\n",
    "\n",
    "sim = unlist(lapply(1:10000, function(i){\n",
    "    C=sample(1:total, caudate); \n",
    "    D=sample(1:total, dlpfc); \n",
    "    G=sample(1:total, gyrus);\n",
    "    return(length(Reduce(intersect, list(C,D,G))))\n",
    "}))\n",
    "\n",
    "hist(sim)"
   ]
  },
  {
   "cell_type": "code",
   "execution_count": 15,
   "metadata": {},
   "outputs": [
    {
     "name": "stdout",
     "output_type": "stream",
     "text": [
      "[1] \"The max overlap from simulation: 309\"\n",
      "[1] \"The overlap is: 225\"\n",
      "[1] \"The p-value < 1\"\n"
     ]
    }
   ],
   "source": [
    "shared = dim(filter(annot, Caudate == 1, DLPFC == 1, `Dentate Gyrus` == 1))[1]\n",
    "print(paste(\"The max overlap from simulation:\",max(sim)))\n",
    "print(paste(\"The overlap is:\", shared))\n",
    "## Zero instances are greater than overlap\n",
    "## So pvalues is 1 / (10000 + 1), adding my value into this\n",
    "pval1 = (sum(sim >= shared) + 1) / (10000 + 1)\n",
    "pval2 = (sum(sim <= shared) + 1) / (10000 + 1)\n",
    "print(paste(\"Enrichment p-value <\",format(pval1, digits=2)))\n",
    "print(paste(\"Depletion p-value <\",format(pval2, digits=2)))"
   ]
  },
  {
   "cell_type": "markdown",
   "metadata": {},
   "source": [
    "#### Caudate vs Hippocampus vs Dentate Gyrus"
   ]
  },
  {
   "cell_type": "code",
   "execution_count": 16,
   "metadata": {},
   "outputs": [
    {
     "data": {
      "image/png": "[encoded data removed]",
      "text/plain": [
       "Plot with title \"Histogram of sim\""
      ]
     },
     "metadata": {
      "image/png": {
       "height": 420,
       "width": 420
      }
     },
     "output_type": "display_data"
    }
   ],
   "source": [
    "total = Reduce(union, list(filter(annot, Caudate == 1)$gene_id, \n",
    "                           filter(annot, Hippocampus == 1)$gene_id, \n",
    "                           filter(annot, `Dentate Gyrus` == 1)$gene_id)) %>% length\n",
    "\n",
    "sim = unlist(lapply(1:10000, function(i){\n",
    "    C=sample(1:total, caudate); \n",
    "    H=sample(1:total, hippocampus); \n",
    "    G=sample(1:total, gyrus);\n",
    "    return(length(Reduce(intersect, list(C,H,G))))\n",
    "}))\n",
    "\n",
    "hist(sim)"
   ]
  },
  {
   "cell_type": "code",
   "execution_count": 17,
   "metadata": {},
   "outputs": [
    {
     "name": "stdout",
     "output_type": "stream",
     "text": [
      "[1] \"The max overlap from simulation: 309\"\n",
      "[1] \"The overlap is: 232\"\n",
      "[1] \"The p-value < 0.99\"\n"
     ]
    }
   ],
   "source": [
    "shared = dim(filter(annot, Caudate == 1, `Dentate Gyrus` == 1, Hippocampus == 1))[1]\n",
    "print(paste(\"The max overlap from simulation:\",max(sim)))\n",
    "print(paste(\"The overlap is:\", shared))\n",
    "## Zero instances are greater than overlap\n",
    "## So pvalues is 1 / (10000 + 1), adding my value into this\n",
    "pval1 = (sum(sim >= shared) + 1) / (10000 + 1)\n",
    "pval2 = (sum(sim <= shared) + 1) / (10000 + 1)\n",
    "print(paste(\"Enrichment p-value <\",format(pval1, digits=2)))\n",
    "print(paste(\"Depletion p-value <\",format(pval2, digits=2)))"
   ]
  },
  {
   "cell_type": "markdown",
   "metadata": {},
   "source": [
    "#### DLPFC vs Hippocampus vs Dentate Gyrus"
   ]
  },
  {
   "cell_type": "code",
   "execution_count": 18,
   "metadata": {},
   "outputs": [
    {
     "data": {
      "image/png": "[encoded data removed]",
      "text/plain": [
       "Plot with title \"Histogram of sim\""
      ]
     },
     "metadata": {
      "image/png": {
       "height": 420,
       "width": 420
      }
     },
     "output_type": "display_data"
    }
   ],
   "source": [
    "total = Reduce(union, list(filter(annot, Hippocampus == 1)$gene_id, \n",
    "                           filter(annot, DLPFC == 1)$gene_id, \n",
    "                           filter(annot, `Dentate Gyrus` == 1)$gene_id)) %>% length\n",
    "\n",
    "sim = unlist(lapply(1:10000, function(i){\n",
    "    D=sample(1:total, dlpfc); \n",
    "    H=sample(1:total, hippocampus); \n",
    "    G=sample(1:total, gyrus);\n",
    "    return(length(Reduce(intersect, list(D,H,G))))\n",
    "}))\n",
    "\n",
    "hist(sim)"
   ]
  },
  {
   "cell_type": "code",
   "execution_count": 19,
   "metadata": {},
   "outputs": [
    {
     "name": "stdout",
     "output_type": "stream",
     "text": [
      "[1] \"The max overlap from simulation: 328\"\n",
      "[1] \"The overlap is: 264\"\n",
      "[1] \"The p-value < 0.86\"\n"
     ]
    }
   ],
   "source": [
    "shared = dim(filter(annot, `Dentate Gyrus` == 1, DLPFC == 1, Hippocampus == 1))[1]\n",
    "print(paste(\"The max overlap from simulation:\",max(sim)))\n",
    "print(paste(\"The overlap is:\", shared))\n",
    "## Zero instances are greater than overlap\n",
    "## So pvalues is 1 / (10000 + 1), adding my value into this\n",
    "pval1 = (sum(sim >= shared) + 1) / (10000 + 1)\n",
    "pval2 = (sum(sim <= shared) + 1) / (10000 + 1)\n",
    "print(paste(\"Enrichment p-value <\",format(pval1, digits=2)))\n",
    "print(paste(\"Depletion p-value <\",format(pval2, digits=2)))"
   ]
  },
  {
   "cell_type": "markdown",
   "metadata": {},
   "source": [
    "### Two brain regions"
   ]
  },
  {
   "cell_type": "markdown",
   "metadata": {},
   "source": [
    "#### Caudate vs DLPFC"
   ]
  },
  {
   "cell_type": "code",
   "execution_count": 4,
   "metadata": {},
   "outputs": [],
   "source": [
    "total = Reduce(union, list(filter(annot, Caudate == 1)$gene_id, \n",
    "                           filter(annot, DLPFC == 1)$gene_id)) %>% length\n",
    "\n",
    "sim = unlist(lapply(1:10000, function(i){\n",
    "    C=sample(1:total, caudate); \n",
    "    D=sample(1:total, dlpfc); \n",
    "    return(length(Reduce(intersect, list(C,D))))\n",
    "}))\n",
    "\n",
    "hist(sim)"
   ]
  },
  {
   "cell_type": "code",
   "execution_count": 6,
   "metadata": {},
   "outputs": [
    {
     "name": "stdout",
     "output_type": "stream",
     "text": [
      "[1] \"The max overlap from simulation: 115\"\n",
      "[1] \"The overlap is: 198\"\n",
      "[1] \"The p-value < 1e-05\"\n"
     ]
    }
   ],
   "source": [
    "shared = dim(filter(annot, Caudate == 1, DLPFC == 1))[1]\n",
    "print(paste(\"The max overlap from simulation:\",max(sim)))\n",
    "print(paste(\"The overlap is:\", shared))\n",
    "## Zero instances are greater than overlap\n",
    "## So pvalues is 1 / (10000 + 1), adding my value into this\n",
    "pval1 = (sum(sim >= shared) + 1) / (10000 + 1)\n",
    "pval2 = (sum(sim <= shared) + 1) / (10000 + 1)\n",
    "print(paste(\"Enrichment p-value <\",format(pval1, digits=2)))\n",
    "print(paste(\"Depletion p-value <\",format(pval2, digits=2)))"
   ]
  },
  {
   "cell_type": "markdown",
   "metadata": {},
   "source": [
    "#### Caudate vs Hippocampus"
   ]
  },
  {
   "cell_type": "code",
   "execution_count": 4,
   "metadata": {},
   "outputs": [],
   "source": [
    "total = Reduce(union, list(filter(annot, Caudate == 1)$gene_id, \n",
    "                           filter(annot, Hippocampus == 1)$gene_id)) %>% length\n",
    "\n",
    "sim = unlist(lapply(1:10000, function(i){\n",
    "    C=sample(1:total, caudate); \n",
    "    H=sample(1:total, hippocampus); \n",
    "    return(length(Reduce(intersect, list(C,H))))\n",
    "}))\n",
    "\n",
    "hist(sim)"
   ]
  },
  {
   "cell_type": "code",
   "execution_count": 6,
   "metadata": {},
   "outputs": [
    {
     "name": "stdout",
     "output_type": "stream",
     "text": [
      "[1] \"The max overlap from simulation: 115\"\n",
      "[1] \"The overlap is: 198\"\n",
      "[1] \"The p-value < 1e-05\"\n"
     ]
    }
   ],
   "source": [
    "shared = dim(filter(annot, Caudate == 1, Hippocampus == 1))[1]\n",
    "print(paste(\"The max overlap from simulation:\",max(sim)))\n",
    "print(paste(\"The overlap is:\", shared))\n",
    "## Zero instances are greater than overlap\n",
    "## So pvalues is 1 / (10000 + 1), adding my value into this\n",
    "pval1 = (sum(sim >= shared) + 1) / (10000 + 1)\n",
    "pval2 = (sum(sim <= shared) + 1) / (10000 + 1)\n",
    "print(paste(\"Enrichment p-value <\",format(pval1, digits=2)))\n",
    "print(paste(\"Depletion p-value <\",format(pval2, digits=2)))"
   ]
  },
  {
   "cell_type": "markdown",
   "metadata": {},
   "source": [
    "#### Caudate vs Dentate Gyrus"
   ]
  },
  {
   "cell_type": "code",
   "execution_count": 4,
   "metadata": {},
   "outputs": [],
   "source": [
    "total = Reduce(union, list(filter(annot, Caudate == 1)$gene_id, \n",
    "                           filter(annot, `Dentate Gyrus` == 1)$gene_id)) %>% length\n",
    "\n",
    "sim = unlist(lapply(1:10000, function(i){\n",
    "    C=sample(1:total, caudate); \n",
    "    G=sample(1:total, gyrus);\n",
    "    return(length(Reduce(intersect, list(C,G))))\n",
    "}))\n",
    "\n",
    "hist(sim)"
   ]
  },
  {
   "cell_type": "code",
   "execution_count": 6,
   "metadata": {},
   "outputs": [
    {
     "name": "stdout",
     "output_type": "stream",
     "text": [
      "[1] \"The max overlap from simulation: 115\"\n",
      "[1] \"The overlap is: 198\"\n",
      "[1] \"The p-value < 1e-05\"\n"
     ]
    }
   ],
   "source": [
    "shared = dim(filter(annot, Caudate == 1, `Dentate Gyrus` == 1))[1]\n",
    "print(paste(\"The max overlap from simulation:\",max(sim)))\n",
    "print(paste(\"The overlap is:\", shared))\n",
    "## Zero instances are greater than overlap\n",
    "## So pvalues is 1 / (10000 + 1), adding my value into this\n",
    "pval1 = (sum(sim >= shared) + 1) / (10000 + 1)\n",
    "pval2 = (sum(sim <= shared) + 1) / (10000 + 1)\n",
    "print(paste(\"Enrichment p-value <\",format(pval1, digits=2)))\n",
    "print(paste(\"Depletion p-value <\",format(pval2, digits=2)))"
   ]
  },
  {
   "cell_type": "markdown",
   "metadata": {},
   "source": [
    "#### DLPFC vs Hippocampus"
   ]
  },
  {
   "cell_type": "code",
   "execution_count": 4,
   "metadata": {},
   "outputs": [],
   "source": [
    "total = Reduce(union, list(filter(annot, DLPFC == 1)$gene_id, \n",
    "                           filter(annot, Hippocampus == 1)$gene_id)) %>% length\n",
    "\n",
    "sim = unlist(lapply(1:10000, function(i){\n",
    "    D=sample(1:total, dlpfc); \n",
    "    H=sample(1:total, hippocampus); \n",
    "    return(length(Reduce(intersect, list(D,H))))\n",
    "}))\n",
    "\n",
    "hist(sim)"
   ]
  },
  {
   "cell_type": "code",
   "execution_count": 6,
   "metadata": {},
   "outputs": [
    {
     "name": "stdout",
     "output_type": "stream",
     "text": [
      "[1] \"The max overlap from simulation: 115\"\n",
      "[1] \"The overlap is: 198\"\n",
      "[1] \"The p-value < 1e-05\"\n"
     ]
    }
   ],
   "source": [
    "shared = dim(filter(annot, DLPFC == 1, Hippocampus == 1))[1]\n",
    "print(paste(\"The max overlap from simulation:\",max(sim)))\n",
    "print(paste(\"The overlap is:\", shared))\n",
    "## Zero instances are greater than overlap\n",
    "## So pvalues is 1 / (10000 + 1), adding my value into this\n",
    "pval1 = (sum(sim >= shared) + 1) / (10000 + 1)\n",
    "pval2 = (sum(sim <= shared) + 1) / (10000 + 1)\n",
    "print(paste(\"Enrichment p-value <\",format(pval1, digits=2)))\n",
    "print(paste(\"Depletion p-value <\",format(pval2, digits=2)))"
   ]
  },
  {
   "cell_type": "markdown",
   "metadata": {},
   "source": [
    "#### DLPFC vs Dentate Gyrus"
   ]
  },
  {
   "cell_type": "code",
   "execution_count": 4,
   "metadata": {},
   "outputs": [],
   "source": [
    "total = Reduce(union, list(filter(annot, DLPFC == 1)$gene_id, \n",
    "                           filter(annot, `Dentate Gyrus` == 1)$gene_id)) %>% length\n",
    "\n",
    "sim = unlist(lapply(1:10000, function(i){\n",
    "    D=sample(1:total, dlpfc); \n",
    "    G=sample(1:total, gyrus);\n",
    "    return(length(Reduce(intersect, list(D,G))))\n",
    "}))\n",
    "\n",
    "hist(sim)"
   ]
  },
  {
   "cell_type": "code",
   "execution_count": 6,
   "metadata": {},
   "outputs": [
    {
     "name": "stdout",
     "output_type": "stream",
     "text": [
      "[1] \"The max overlap from simulation: 115\"\n",
      "[1] \"The overlap is: 198\"\n",
      "[1] \"The p-value < 1e-05\"\n"
     ]
    }
   ],
   "source": [
    "shared = dim(filter(annot, DLPFC == 1, `Dentate Gyrus` == 1))[1]\n",
    "print(paste(\"The max overlap from simulation:\",max(sim)))\n",
    "print(paste(\"The overlap is:\", shared))\n",
    "## Zero instances are greater than overlap\n",
    "## So pvalues is 1 / (10000 + 1), adding my value into this\n",
    "pval1 = (sum(sim >= shared) + 1) / (10000 + 1)\n",
    "pval2 = (sum(sim <= shared) + 1) / (10000 + 1)\n",
    "print(paste(\"Enrichment p-value <\",format(pval1, digits=2)))\n",
    "print(paste(\"Depletion p-value <\",format(pval2, digits=2)))"
   ]
  },
  {
   "cell_type": "markdown",
   "metadata": {},
   "source": [
    "#### Hippocampus vs Dentate Gyrus"
   ]
  },
  {
   "cell_type": "code",
   "execution_count": 4,
   "metadata": {},
   "outputs": [],
   "source": [
    "total = Reduce(union, list(filter(annot, Hippocampus == 1)$gene_id, \n",
    "                           filter(annot, `Dentate Gyrus` == 1)$gene_id)) %>% length\n",
    "\n",
    "sim = unlist(lapply(1:10000, function(i){\n",
    "    H=sample(1:total, hippocampus); \n",
    "    G=sample(1:total, gyrus);\n",
    "    return(length(Reduce(intersect, list(H,G))))\n",
    "}))\n",
    "\n",
    "hist(sim)"
   ]
  },
  {
   "cell_type": "code",
   "execution_count": 6,
   "metadata": {},
   "outputs": [
    {
     "name": "stdout",
     "output_type": "stream",
     "text": [
      "[1] \"The max overlap from simulation: 115\"\n",
      "[1] \"The overlap is: 198\"\n",
      "[1] \"The p-value < 1e-05\"\n"
     ]
    }
   ],
   "source": [
    "shared = dim(filter(annot, Hippocampus == 1, `Dentate Gyrus` == 1))[1]\n",
    "print(paste(\"The max overlap from simulation:\",max(sim)))\n",
    "print(paste(\"The overlap is:\", shared))\n",
    "## Zero instances are greater than overlap\n",
    "## So pvalues is 1 / (10000 + 1), adding my value into this\n",
    "pval1 = (sum(sim >= shared) + 1) / (10000 + 1)\n",
    "pval2 = (sum(sim <= shared) + 1) / (10000 + 1)\n",
    "print(paste(\"Enrichment p-value <\",format(pval1, digits=2)))\n",
    "print(paste(\"Depletion p-value <\",format(pval2, digits=2)))"
   ]
  },
  {
   "cell_type": "markdown",
   "metadata": {},
   "source": [
    "## Reproducibility Information"
   ]
  },
  {
   "cell_type": "code",
   "execution_count": null,
   "metadata": {},
   "outputs": [],
   "source": [
    "print(\"Reproducibility Information:\")\n",
    "Sys.time()\n",
    "proc.time()\n",
    "options(width=120)\n",
    "sessioninfo::session_info()"
   ]
  }
 ],
 "metadata": {
  "kernelspec": {
   "display_name": "R",
   "language": "R",
   "name": "ir"
  },
  "language_info": {
   "codemirror_mode": "r",
   "file_extension": ".r",
   "mimetype": "text/x-r-source",
   "name": "R",
   "pygments_lexer": "r",
   "version": "4.0.3"
  }
 },
 "nbformat": 4,
 "nbformat_minor": 4
}
