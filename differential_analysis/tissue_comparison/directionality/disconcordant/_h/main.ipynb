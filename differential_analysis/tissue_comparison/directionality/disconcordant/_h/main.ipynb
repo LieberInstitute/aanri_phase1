{
 "cells": [
  {
   "cell_type": "markdown",
   "metadata": {},
   "source": [
    "# Examine genes that are disconcordant across brain regrions"
   ]
  },
  {
   "cell_type": "code",
   "execution_count": 1,
   "metadata": {},
   "outputs": [],
   "source": [
    "import functools\n",
    "import numpy as np\n",
    "import pandas as pd"
   ]
  },
  {
   "cell_type": "code",
   "execution_count": 2,
   "metadata": {},
   "outputs": [],
   "source": [
    "config = {\n",
    "    'caudate': '../../../../caudate/_m/genes/diffExpr_EAvsAA_full.txt',\n",
    "    'dlpfc': '../../../../dlpfc/_m/genes/diffExpr_EAvsAA_full.txt',\n",
    "    'hippo': '../../../../hippocampus/_m/genes/diffExpr_EAvsAA_full.txt',\n",
    "    'gyrus': '../../../../dentateGyrus/_m/genes/diffExpr_EAvsAA_full.txt',\n",
    "}"
   ]
  },
  {
   "cell_type": "code",
   "execution_count": 3,
   "metadata": {},
   "outputs": [],
   "source": [
    "@functools.lru_cache()\n",
    "def get_deg(tissue):\n",
    "    dft = pd.read_csv(config[tissue], sep='\\t', index_col=0)\n",
    "    dft['Feature'] = dft.index\n",
    "    dft['Dir'] = np.sign(dft['t'])\n",
    "    if 'gene_id' in dft.columns:\n",
    "        dft['ensemblID'] = dft.gene_id.str.replace('\\\\..*', '')\n",
    "    elif 'ensembl_gene_id' in dft.columns:\n",
    "        dft.rename(columns={'ensembl_gene_id': 'ensemblID'}, inplace=True)\n",
    "    return dft[['Feature', 'ensemblID', 'Symbol', 'adj.P.Val', 'logFC', 't', 'Dir']]\n",
    "\n",
    "\n",
    "@functools.lru_cache()\n",
    "def get_deg_sig(tissue, fdr):\n",
    "    dft = get_deg(tissue)\n",
    "    return dft[(dft['adj.P.Val'] < fdr)]\n",
    "\n",
    "\n",
    "@functools.lru_cache()\n",
    "def merge_dataframes(tissue1, tissue2):\n",
    "    return get_deg(tissue1).merge(get_deg(tissue2), on='Feature', \n",
    "                                  suffixes=['_%s' % tissue1, '_%s' % tissue2])\n",
    "\n",
    "\n",
    "@functools.lru_cache()\n",
    "def merge_dataframes_sig(tissue1, tissue2):\n",
    "    fdr1 = 0.05 if tissue1 != 'dlpfc' else 0.05\n",
    "    fdr2 = 0.05 if tissue2 != 'dlpfc' else 0.05\n",
    "    return get_deg_sig(tissue1, fdr1).merge(get_deg_sig(tissue2, fdr2), on='Feature', \n",
    "                                            suffixes=['_%s' % tissue1, '_%s' % tissue2])\n"
   ]
  },
  {
   "cell_type": "code",
   "execution_count": 4,
   "metadata": {},
   "outputs": [],
   "source": [
    "def extract_disconcordant(tissue1, tissue2):\n",
    "    df = merge_dataframes_sig(tissue1, tissue2)\n",
    "    df = df[((df['Dir_%s' % tissue1] == 1) & (df['Dir_%s' % tissue2] == -1)) | \n",
    "            ((df['Dir_%s' % tissue1] == -1) & (df['Dir_%s' % tissue2] == 1))]\n",
    "    return df.loc[:, ['Feature', 'Dir_%s' % tissue1, 'Dir_%s' % tissue2]]\\\n",
    "             .merge(get_deg(tissue1), on='Feature').drop('Dir', axis=1)"
   ]
  },
  {
   "cell_type": "markdown",
   "metadata": {},
   "source": [
    "## BrainSeq Tissue Comparison"
   ]
  },
  {
   "cell_type": "code",
   "execution_count": 5,
   "metadata": {},
   "outputs": [
    {
     "data": {
      "text/plain": [
       "(51, 8)"
      ]
     },
     "execution_count": 5,
     "metadata": {},
     "output_type": "execute_result"
    }
   ],
   "source": [
    "cd = extract_disconcordant('caudate', 'dlpfc')  \n",
    "cd.to_csv(\"disconcordant_genes_%s_%s.csv\" % ('caudate', 'dlpfc'), index=False)\n",
    "print(cd.shape)\n",
    "cd"
   ]
  },
  {
   "cell_type": "code",
   "execution_count": 6,
   "metadata": {},
   "outputs": [
    {
     "data": {
      "text/plain": [
       "(14, 8)"
      ]
     },
     "execution_count": 6,
     "metadata": {},
     "output_type": "execute_result"
    }
   ],
   "source": [
    "ch = extract_disconcordant('caudate', 'hippo')  \n",
    "ch.to_csv(\"disconcordant_genes_%s_%s.csv\" % ('caudate', 'hippo'), index=False)\n",
    "print(ch.shape)\n",
    "ch"
   ]
  },
  {
   "cell_type": "code",
   "execution_count": 7,
   "metadata": {},
   "outputs": [
    {
     "name": "stdout",
     "output_type": "stream",
     "text": [
      "There are 6 genes where caudate is different from both DLPFC and hippocampus!\n",
      "\n"
     ]
    },
    {
     "data": {
      "text/html": [
       "<div>\n",
       "<style scoped>\n",
       "    .dataframe tbody tr th:only-of-type {\n",
       "        vertical-align: middle;\n",
       "    }\n",
       "\n",
       "    .dataframe tbody tr th {\n",
       "        vertical-align: top;\n",
       "    }\n",
       "\n",
       "    .dataframe thead th {\n",
       "        text-align: right;\n",
       "    }\n",
       "</style>\n",
       "<table border=\"1\" class=\"dataframe\">\n",
       "  <thead>\n",
       "    <tr style=\"text-align: right;\">\n",
       "      <th></th>\n",
       "      <th>Feature</th>\n",
       "      <th>Dir_caudate</th>\n",
       "      <th>Dir_dlpfc</th>\n",
       "      <th>ensemblID</th>\n",
       "      <th>Symbol</th>\n",
       "      <th>adj.P.Val</th>\n",
       "      <th>logFC</th>\n",
       "      <th>t</th>\n",
       "    </tr>\n",
       "  </thead>\n",
       "  <tbody>\n",
       "    <tr>\n",
       "      <th>3</th>\n",
       "      <td>ENSG00000277883.1</td>\n",
       "      <td>1.0</td>\n",
       "      <td>-1.0</td>\n",
       "      <td>ENSG00000277883</td>\n",
       "      <td>NLRP3P1</td>\n",
       "      <td>0.000004</td>\n",
       "      <td>0.216787</td>\n",
       "      <td>5.410220</td>\n",
       "    </tr>\n",
       "    <tr>\n",
       "      <th>13</th>\n",
       "      <td>ENSG00000179889.18</td>\n",
       "      <td>-1.0</td>\n",
       "      <td>1.0</td>\n",
       "      <td>ENSG00000179889</td>\n",
       "      <td>PDXDC1</td>\n",
       "      <td>0.004927</td>\n",
       "      <td>-0.040339</td>\n",
       "      <td>-3.476557</td>\n",
       "    </tr>\n",
       "    <tr>\n",
       "      <th>31</th>\n",
       "      <td>ENSG00000143891.16</td>\n",
       "      <td>1.0</td>\n",
       "      <td>-1.0</td>\n",
       "      <td>ENSG00000143891</td>\n",
       "      <td>GALM</td>\n",
       "      <td>0.019087</td>\n",
       "      <td>0.094185</td>\n",
       "      <td>2.971990</td>\n",
       "    </tr>\n",
       "    <tr>\n",
       "      <th>33</th>\n",
       "      <td>ENSG00000143797.11</td>\n",
       "      <td>-1.0</td>\n",
       "      <td>1.0</td>\n",
       "      <td>ENSG00000143797</td>\n",
       "      <td>MBOAT2</td>\n",
       "      <td>0.020665</td>\n",
       "      <td>-0.042212</td>\n",
       "      <td>-2.938823</td>\n",
       "    </tr>\n",
       "    <tr>\n",
       "      <th>38</th>\n",
       "      <td>ENSG00000100302.6</td>\n",
       "      <td>1.0</td>\n",
       "      <td>-1.0</td>\n",
       "      <td>ENSG00000100302</td>\n",
       "      <td>RASD2</td>\n",
       "      <td>0.027692</td>\n",
       "      <td>0.090634</td>\n",
       "      <td>2.817245</td>\n",
       "    </tr>\n",
       "    <tr>\n",
       "      <th>41</th>\n",
       "      <td>ENSG00000065802.11</td>\n",
       "      <td>-1.0</td>\n",
       "      <td>1.0</td>\n",
       "      <td>ENSG00000065802</td>\n",
       "      <td>ASB1</td>\n",
       "      <td>0.034073</td>\n",
       "      <td>-0.033486</td>\n",
       "      <td>-2.725430</td>\n",
       "    </tr>\n",
       "  </tbody>\n",
       "</table>\n",
       "</div>"
      ],
      "text/plain": [
       "               Feature  Dir_caudate  Dir_dlpfc        ensemblID   Symbol  \\\n",
       "3    ENSG00000277883.1          1.0       -1.0  ENSG00000277883  NLRP3P1   \n",
       "13  ENSG00000179889.18         -1.0        1.0  ENSG00000179889   PDXDC1   \n",
       "31  ENSG00000143891.16          1.0       -1.0  ENSG00000143891     GALM   \n",
       "33  ENSG00000143797.11         -1.0        1.0  ENSG00000143797   MBOAT2   \n",
       "38   ENSG00000100302.6          1.0       -1.0  ENSG00000100302    RASD2   \n",
       "41  ENSG00000065802.11         -1.0        1.0  ENSG00000065802     ASB1   \n",
       "\n",
       "    adj.P.Val     logFC         t  \n",
       "3    0.000004  0.216787  5.410220  \n",
       "13   0.004927 -0.040339 -3.476557  \n",
       "31   0.019087  0.094185  2.971990  \n",
       "33   0.020665 -0.042212 -2.938823  \n",
       "38   0.027692  0.090634  2.817245  \n",
       "41   0.034073 -0.033486 -2.725430  "
      ]
     },
     "execution_count": 7,
     "metadata": {},
     "output_type": "execute_result"
    }
   ],
   "source": [
    "print(\"There are %d genes where caudate is different from both DLPFC and hippocampus!\\n\" % \n",
    " len(set(ch.ensemblID ) & set(cd.ensemblID)))\n",
    "\n",
    "cd[(cd['ensemblID'].isin(list(set(ch.ensemblID ) & set(cd.ensemblID))))]"
   ]
  },
  {
   "cell_type": "code",
   "execution_count": 8,
   "metadata": {},
   "outputs": [],
   "source": [
    "dh = extract_disconcordant('dlpfc', 'hippo')  \n",
    "dh.to_csv(\"disconcordant_genes_%s_%s.csv\" % ('dlpfc', 'hippo'), index=False)\n",
    "print(dh.shape)\n",
    "dh"
   ]
  },
  {
   "cell_type": "code",
   "execution_count": 10,
   "metadata": {},
   "outputs": [
    {
     "name": "stdout",
     "output_type": "stream",
     "text": [
      "There are 1 genes where hippocampus is different from both caudate and DLPFC!\n",
      "\n"
     ]
    },
    {
     "data": {
      "text/html": [
       "<div>\n",
       "<style scoped>\n",
       "    .dataframe tbody tr th:only-of-type {\n",
       "        vertical-align: middle;\n",
       "    }\n",
       "\n",
       "    .dataframe tbody tr th {\n",
       "        vertical-align: top;\n",
       "    }\n",
       "\n",
       "    .dataframe thead th {\n",
       "        text-align: right;\n",
       "    }\n",
       "</style>\n",
       "<table border=\"1\" class=\"dataframe\">\n",
       "  <thead>\n",
       "    <tr style=\"text-align: right;\">\n",
       "      <th></th>\n",
       "      <th>Feature</th>\n",
       "      <th>Dir_dlpfc</th>\n",
       "      <th>Dir_hippo</th>\n",
       "      <th>ensemblID</th>\n",
       "      <th>Symbol</th>\n",
       "      <th>adj.P.Val</th>\n",
       "      <th>logFC</th>\n",
       "      <th>t</th>\n",
       "    </tr>\n",
       "  </thead>\n",
       "  <tbody>\n",
       "    <tr>\n",
       "      <th>4</th>\n",
       "      <td>ENSG00000138207.13</td>\n",
       "      <td>1.0</td>\n",
       "      <td>-1.0</td>\n",
       "      <td>ENSG00000138207</td>\n",
       "      <td>RBP4</td>\n",
       "      <td>0.048067</td>\n",
       "      <td>0.069842</td>\n",
       "      <td>2.614497</td>\n",
       "    </tr>\n",
       "  </tbody>\n",
       "</table>\n",
       "</div>"
      ],
      "text/plain": [
       "              Feature  Dir_dlpfc  Dir_hippo        ensemblID Symbol  \\\n",
       "4  ENSG00000138207.13        1.0       -1.0  ENSG00000138207   RBP4   \n",
       "\n",
       "   adj.P.Val     logFC         t  \n",
       "4   0.048067  0.069842  2.614497  "
      ]
     },
     "execution_count": 10,
     "metadata": {},
     "output_type": "execute_result"
    }
   ],
   "source": [
    "print(\"There are %d genes where hippocampus is different from both caudate and DLPFC!\\n\" % \n",
    " len(set(dh.ensemblID ) & set(ch.ensemblID)))\n",
    "\n",
    "dh[(dh['ensemblID'].isin(list(set(dh.ensemblID ) & set(ch.ensemblID))))]"
   ]
  },
  {
   "cell_type": "code",
   "execution_count": 11,
   "metadata": {},
   "outputs": [
    {
     "name": "stdout",
     "output_type": "stream",
     "text": [
      "There are 0 genes where DLPFC is different from both caudate and hippocampus!\n",
      "\n"
     ]
    }
   ],
   "source": [
    "print(\"There are %d genes where DLPFC is different from both caudate and hippocampus!\\n\" % \n",
    " len(set(dh.ensemblID ) & set(cd.ensemblID)))"
   ]
  },
  {
   "cell_type": "code",
   "execution_count": 12,
   "metadata": {},
   "outputs": [
    {
     "data": {
      "text/plain": [
       "(92, 8)"
      ]
     },
     "execution_count": 12,
     "metadata": {},
     "output_type": "execute_result"
    }
   ],
   "source": [
    "cg = extract_disconcordant('caudate', 'gyrus')  \n",
    "cg.to_csv(\"disconcordant_genes_%s_%s.csv\" % ('caudate', 'gyrus'), index=False)\n",
    "print(cg.shape)\n",
    "cg"
   ]
  },
  {
   "cell_type": "code",
   "execution_count": 13,
   "metadata": {},
   "outputs": [
    {
     "data": {
      "text/plain": [
       "(39, 8)"
      ]
     },
     "execution_count": 13,
     "metadata": {},
     "output_type": "execute_result"
    }
   ],
   "source": [
    "dg = extract_disconcordant('dlpfc', 'gyrus')  \n",
    "dg.to_csv(\"disconcordant_genes_%s_%s.csv\" % ('dlpfc', 'gyrus'), index=False)\n",
    "print(dg.shape)\n",
    "dg"
   ]
  },
  {
   "cell_type": "code",
   "execution_count": 14,
   "metadata": {},
   "outputs": [
    {
     "name": "stdout",
     "output_type": "stream",
     "text": [
      "There are 10 genes where dentate gyrus is different from both caudate and DLPFC!\n",
      "\n"
     ]
    },
    {
     "data": {
      "text/html": [
       "<div>\n",
       "<style scoped>\n",
       "    .dataframe tbody tr th:only-of-type {\n",
       "        vertical-align: middle;\n",
       "    }\n",
       "\n",
       "    .dataframe tbody tr th {\n",
       "        vertical-align: top;\n",
       "    }\n",
       "\n",
       "    .dataframe thead th {\n",
       "        text-align: right;\n",
       "    }\n",
       "</style>\n",
       "<table border=\"1\" class=\"dataframe\">\n",
       "  <thead>\n",
       "    <tr style=\"text-align: right;\">\n",
       "      <th></th>\n",
       "      <th>Feature</th>\n",
       "      <th>Dir_caudate</th>\n",
       "      <th>Dir_gyrus</th>\n",
       "      <th>ensemblID</th>\n",
       "      <th>Symbol</th>\n",
       "      <th>adj.P.Val</th>\n",
       "      <th>logFC</th>\n",
       "      <th>t</th>\n",
       "    </tr>\n",
       "  </thead>\n",
       "  <tbody>\n",
       "    <tr>\n",
       "      <th>1</th>\n",
       "      <td>ENSG00000136235.15</td>\n",
       "      <td>1.0</td>\n",
       "      <td>-1.0</td>\n",
       "      <td>ENSG00000136235</td>\n",
       "      <td>GPNMB</td>\n",
       "      <td>1.324555e-10</td>\n",
       "      <td>0.684306</td>\n",
       "      <td>7.343311</td>\n",
       "    </tr>\n",
       "    <tr>\n",
       "      <th>2</th>\n",
       "      <td>ENSG00000106665.15</td>\n",
       "      <td>-1.0</td>\n",
       "      <td>1.0</td>\n",
       "      <td>ENSG00000106665</td>\n",
       "      <td>CLIP2</td>\n",
       "      <td>3.908762e-09</td>\n",
       "      <td>-0.112822</td>\n",
       "      <td>-6.752431</td>\n",
       "    </tr>\n",
       "    <tr>\n",
       "      <th>17</th>\n",
       "      <td>ENSG00000156076.9</td>\n",
       "      <td>1.0</td>\n",
       "      <td>-1.0</td>\n",
       "      <td>ENSG00000156076</td>\n",
       "      <td>WIF1</td>\n",
       "      <td>1.952671e-04</td>\n",
       "      <td>0.272261</td>\n",
       "      <td>4.448384</td>\n",
       "    </tr>\n",
       "    <tr>\n",
       "      <th>21</th>\n",
       "      <td>ENSG00000181240.13</td>\n",
       "      <td>-1.0</td>\n",
       "      <td>1.0</td>\n",
       "      <td>ENSG00000181240</td>\n",
       "      <td>SLC25A41</td>\n",
       "      <td>3.224138e-04</td>\n",
       "      <td>-0.372818</td>\n",
       "      <td>-4.311970</td>\n",
       "    </tr>\n",
       "    <tr>\n",
       "      <th>37</th>\n",
       "      <td>ENSG00000203797.9</td>\n",
       "      <td>-1.0</td>\n",
       "      <td>1.0</td>\n",
       "      <td>ENSG00000203797</td>\n",
       "      <td>DDO</td>\n",
       "      <td>5.034072e-03</td>\n",
       "      <td>-0.094586</td>\n",
       "      <td>-3.467339</td>\n",
       "    </tr>\n",
       "    <tr>\n",
       "      <th>41</th>\n",
       "      <td>ENSG00000171889.3</td>\n",
       "      <td>-1.0</td>\n",
       "      <td>1.0</td>\n",
       "      <td>ENSG00000171889</td>\n",
       "      <td>MIR31HG</td>\n",
       "      <td>5.740283e-03</td>\n",
       "      <td>-0.162430</td>\n",
       "      <td>-3.421673</td>\n",
       "    </tr>\n",
       "    <tr>\n",
       "      <th>44</th>\n",
       "      <td>ENSG00000174460.3</td>\n",
       "      <td>1.0</td>\n",
       "      <td>-1.0</td>\n",
       "      <td>ENSG00000174460</td>\n",
       "      <td>ZCCHC12</td>\n",
       "      <td>6.950915e-03</td>\n",
       "      <td>0.151884</td>\n",
       "      <td>3.351824</td>\n",
       "    </tr>\n",
       "    <tr>\n",
       "      <th>56</th>\n",
       "      <td>ENSG00000204624.7</td>\n",
       "      <td>-1.0</td>\n",
       "      <td>1.0</td>\n",
       "      <td>ENSG00000204624</td>\n",
       "      <td>DISP3</td>\n",
       "      <td>1.539536e-02</td>\n",
       "      <td>-0.094945</td>\n",
       "      <td>-3.059840</td>\n",
       "    </tr>\n",
       "    <tr>\n",
       "      <th>59</th>\n",
       "      <td>ENSG00000053371.12</td>\n",
       "      <td>1.0</td>\n",
       "      <td>-1.0</td>\n",
       "      <td>ENSG00000053371</td>\n",
       "      <td>AKR7A2</td>\n",
       "      <td>1.742177e-02</td>\n",
       "      <td>0.059218</td>\n",
       "      <td>3.011960</td>\n",
       "    </tr>\n",
       "    <tr>\n",
       "      <th>91</th>\n",
       "      <td>ENSG00000187122.16</td>\n",
       "      <td>-1.0</td>\n",
       "      <td>1.0</td>\n",
       "      <td>ENSG00000187122</td>\n",
       "      <td>SLIT1</td>\n",
       "      <td>4.881015e-02</td>\n",
       "      <td>-0.095963</td>\n",
       "      <td>-2.556815</td>\n",
       "    </tr>\n",
       "  </tbody>\n",
       "</table>\n",
       "</div>"
      ],
      "text/plain": [
       "               Feature  Dir_caudate  Dir_gyrus        ensemblID    Symbol  \\\n",
       "1   ENSG00000136235.15          1.0       -1.0  ENSG00000136235     GPNMB   \n",
       "2   ENSG00000106665.15         -1.0        1.0  ENSG00000106665     CLIP2   \n",
       "17   ENSG00000156076.9          1.0       -1.0  ENSG00000156076      WIF1   \n",
       "21  ENSG00000181240.13         -1.0        1.0  ENSG00000181240  SLC25A41   \n",
       "37   ENSG00000203797.9         -1.0        1.0  ENSG00000203797       DDO   \n",
       "41   ENSG00000171889.3         -1.0        1.0  ENSG00000171889   MIR31HG   \n",
       "44   ENSG00000174460.3          1.0       -1.0  ENSG00000174460   ZCCHC12   \n",
       "56   ENSG00000204624.7         -1.0        1.0  ENSG00000204624     DISP3   \n",
       "59  ENSG00000053371.12          1.0       -1.0  ENSG00000053371    AKR7A2   \n",
       "91  ENSG00000187122.16         -1.0        1.0  ENSG00000187122     SLIT1   \n",
       "\n",
       "       adj.P.Val     logFC         t  \n",
       "1   1.324555e-10  0.684306  7.343311  \n",
       "2   3.908762e-09 -0.112822 -6.752431  \n",
       "17  1.952671e-04  0.272261  4.448384  \n",
       "21  3.224138e-04 -0.372818 -4.311970  \n",
       "37  5.034072e-03 -0.094586 -3.467339  \n",
       "41  5.740283e-03 -0.162430 -3.421673  \n",
       "44  6.950915e-03  0.151884  3.351824  \n",
       "56  1.539536e-02 -0.094945 -3.059840  \n",
       "59  1.742177e-02  0.059218  3.011960  \n",
       "91  4.881015e-02 -0.095963 -2.556815  "
      ]
     },
     "execution_count": 14,
     "metadata": {},
     "output_type": "execute_result"
    }
   ],
   "source": [
    "print(\"There are %d genes where dentate gyrus is different from both caudate and DLPFC!\\n\" % \n",
    " len(set(cg.ensemblID ) & set(dg.ensemblID)))\n",
    "\n",
    "cg[(cg['ensemblID'].isin(list(set(dg.ensemblID ) & set(cg.ensemblID))))]"
   ]
  },
  {
   "cell_type": "code",
   "execution_count": 15,
   "metadata": {},
   "outputs": [],
   "source": [
    "hg = extract_disconcordant('hippo', 'gyrus')  \n",
    "hg.to_csv(\"disconcordant_genes_%s_%s.csv\" % ('hippo', 'gyrus'), index=False)\n",
    "print(hg.shape)\n",
    "hg"
   ]
  },
  {
   "cell_type": "code",
   "execution_count": 17,
   "metadata": {},
   "outputs": [
    {
     "name": "stdout",
     "output_type": "stream",
     "text": [
      "There are 5 genes where hippocampus is different from both caudate and DLPFC!\n",
      "\n"
     ]
    },
    {
     "data": {
      "text/html": [
       "<div>\n",
       "<style scoped>\n",
       "    .dataframe tbody tr th:only-of-type {\n",
       "        vertical-align: middle;\n",
       "    }\n",
       "\n",
       "    .dataframe tbody tr th {\n",
       "        vertical-align: top;\n",
       "    }\n",
       "\n",
       "    .dataframe thead th {\n",
       "        text-align: right;\n",
       "    }\n",
       "</style>\n",
       "<table border=\"1\" class=\"dataframe\">\n",
       "  <thead>\n",
       "    <tr style=\"text-align: right;\">\n",
       "      <th></th>\n",
       "      <th>Feature</th>\n",
       "      <th>Dir_hippo</th>\n",
       "      <th>Dir_gyrus</th>\n",
       "      <th>ensemblID</th>\n",
       "      <th>Symbol</th>\n",
       "      <th>adj.P.Val</th>\n",
       "      <th>logFC</th>\n",
       "      <th>t</th>\n",
       "    </tr>\n",
       "  </thead>\n",
       "  <tbody>\n",
       "    <tr>\n",
       "      <th>0</th>\n",
       "      <td>ENSG00000136235.15</td>\n",
       "      <td>1.0</td>\n",
       "      <td>-1.0</td>\n",
       "      <td>ENSG00000136235</td>\n",
       "      <td>GPNMB</td>\n",
       "      <td>4.364453e-07</td>\n",
       "      <td>0.487240</td>\n",
       "      <td>5.946357</td>\n",
       "    </tr>\n",
       "    <tr>\n",
       "      <th>1</th>\n",
       "      <td>ENSG00000127884.4</td>\n",
       "      <td>1.0</td>\n",
       "      <td>-1.0</td>\n",
       "      <td>ENSG00000127884</td>\n",
       "      <td>ECHS1</td>\n",
       "      <td>2.761830e-05</td>\n",
       "      <td>0.073086</td>\n",
       "      <td>5.023604</td>\n",
       "    </tr>\n",
       "    <tr>\n",
       "      <th>2</th>\n",
       "      <td>ENSG00000156076.9</td>\n",
       "      <td>1.0</td>\n",
       "      <td>-1.0</td>\n",
       "      <td>ENSG00000156076</td>\n",
       "      <td>WIF1</td>\n",
       "      <td>1.037661e-03</td>\n",
       "      <td>0.272336</td>\n",
       "      <td>4.056085</td>\n",
       "    </tr>\n",
       "    <tr>\n",
       "      <th>7</th>\n",
       "      <td>ENSG00000170776.20</td>\n",
       "      <td>1.0</td>\n",
       "      <td>-1.0</td>\n",
       "      <td>ENSG00000170776</td>\n",
       "      <td>AKAP13</td>\n",
       "      <td>1.097197e-02</td>\n",
       "      <td>0.069187</td>\n",
       "      <td>3.265853</td>\n",
       "    </tr>\n",
       "    <tr>\n",
       "      <th>9</th>\n",
       "      <td>ENSG00000053371.12</td>\n",
       "      <td>1.0</td>\n",
       "      <td>-1.0</td>\n",
       "      <td>ENSG00000053371</td>\n",
       "      <td>AKR7A2</td>\n",
       "      <td>1.237529e-02</td>\n",
       "      <td>0.056287</td>\n",
       "      <td>3.220799</td>\n",
       "    </tr>\n",
       "  </tbody>\n",
       "</table>\n",
       "</div>"
      ],
      "text/plain": [
       "              Feature  Dir_hippo  Dir_gyrus        ensemblID  Symbol  \\\n",
       "0  ENSG00000136235.15        1.0       -1.0  ENSG00000136235   GPNMB   \n",
       "1   ENSG00000127884.4        1.0       -1.0  ENSG00000127884   ECHS1   \n",
       "2   ENSG00000156076.9        1.0       -1.0  ENSG00000156076    WIF1   \n",
       "7  ENSG00000170776.20        1.0       -1.0  ENSG00000170776  AKAP13   \n",
       "9  ENSG00000053371.12        1.0       -1.0  ENSG00000053371  AKR7A2   \n",
       "\n",
       "      adj.P.Val     logFC         t  \n",
       "0  4.364453e-07  0.487240  5.946357  \n",
       "1  2.761830e-05  0.073086  5.023604  \n",
       "2  1.037661e-03  0.272336  4.056085  \n",
       "7  1.097197e-02  0.069187  3.265853  \n",
       "9  1.237529e-02  0.056287  3.220799  "
      ]
     },
     "execution_count": 17,
     "metadata": {},
     "output_type": "execute_result"
    }
   ],
   "source": [
    "print(\"There are %d genes where dentate gyrus is different from both DLPFC and hippocampus!\\n\" % \n",
    " len(set(hg.ensemblID ) & set(dg.ensemblID)))\n",
    "\n",
    "hg[(hg['ensemblID'].isin(list(set(hg.ensemblID ) & set(dg.ensemblID))))]"
   ]
  },
  {
   "cell_type": "code",
   "execution_count": 21,
   "metadata": {},
   "outputs": [
    {
     "name": "stdout",
     "output_type": "stream",
     "text": [
      "There are 3 genes where dentate gyrus is different from both caudate, DLPFC, and hippocampus!\n",
      "\n"
     ]
    },
    {
     "data": {
      "text/html": [
       "<div>\n",
       "<style scoped>\n",
       "    .dataframe tbody tr th:only-of-type {\n",
       "        vertical-align: middle;\n",
       "    }\n",
       "\n",
       "    .dataframe tbody tr th {\n",
       "        vertical-align: top;\n",
       "    }\n",
       "\n",
       "    .dataframe thead th {\n",
       "        text-align: right;\n",
       "    }\n",
       "</style>\n",
       "<table border=\"1\" class=\"dataframe\">\n",
       "  <thead>\n",
       "    <tr style=\"text-align: right;\">\n",
       "      <th></th>\n",
       "      <th>Feature</th>\n",
       "      <th>Dir_caudate</th>\n",
       "      <th>Dir_gyrus</th>\n",
       "      <th>ensemblID</th>\n",
       "      <th>Symbol</th>\n",
       "      <th>adj.P.Val</th>\n",
       "      <th>logFC</th>\n",
       "      <th>t</th>\n",
       "    </tr>\n",
       "  </thead>\n",
       "  <tbody>\n",
       "    <tr>\n",
       "      <th>1</th>\n",
       "      <td>ENSG00000136235.15</td>\n",
       "      <td>1.0</td>\n",
       "      <td>-1.0</td>\n",
       "      <td>ENSG00000136235</td>\n",
       "      <td>GPNMB</td>\n",
       "      <td>1.324555e-10</td>\n",
       "      <td>0.684306</td>\n",
       "      <td>7.343311</td>\n",
       "    </tr>\n",
       "    <tr>\n",
       "      <th>17</th>\n",
       "      <td>ENSG00000156076.9</td>\n",
       "      <td>1.0</td>\n",
       "      <td>-1.0</td>\n",
       "      <td>ENSG00000156076</td>\n",
       "      <td>WIF1</td>\n",
       "      <td>1.952671e-04</td>\n",
       "      <td>0.272261</td>\n",
       "      <td>4.448384</td>\n",
       "    </tr>\n",
       "    <tr>\n",
       "      <th>59</th>\n",
       "      <td>ENSG00000053371.12</td>\n",
       "      <td>1.0</td>\n",
       "      <td>-1.0</td>\n",
       "      <td>ENSG00000053371</td>\n",
       "      <td>AKR7A2</td>\n",
       "      <td>1.742177e-02</td>\n",
       "      <td>0.059218</td>\n",
       "      <td>3.011960</td>\n",
       "    </tr>\n",
       "  </tbody>\n",
       "</table>\n",
       "</div>"
      ],
      "text/plain": [
       "               Feature  Dir_caudate  Dir_gyrus        ensemblID  Symbol  \\\n",
       "1   ENSG00000136235.15          1.0       -1.0  ENSG00000136235   GPNMB   \n",
       "17   ENSG00000156076.9          1.0       -1.0  ENSG00000156076    WIF1   \n",
       "59  ENSG00000053371.12          1.0       -1.0  ENSG00000053371  AKR7A2   \n",
       "\n",
       "       adj.P.Val     logFC         t  \n",
       "1   1.324555e-10  0.684306  7.343311  \n",
       "17  1.952671e-04  0.272261  4.448384  \n",
       "59  1.742177e-02  0.059218  3.011960  "
      ]
     },
     "execution_count": 21,
     "metadata": {},
     "output_type": "execute_result"
    }
   ],
   "source": [
    "print(\"There are %d genes where dentate gyrus is different from both caudate, DLPFC, and hippocampus!\\n\" % \n",
    "      len(set(cg.ensemblID) & set(dg.ensemblID) & set(hg.ensemblID)))\n",
    "\n",
    "cg[(cg['ensemblID'].isin(list(set(cg.ensemblID) & set(dg.ensemblID) & set(hg.ensemblID))))]"
   ]
  },
  {
   "cell_type": "code",
   "execution_count": null,
   "metadata": {},
   "outputs": [],
   "source": []
  }
 ],
 "metadata": {
  "kernelspec": {
   "display_name": "Python 3",
   "language": "python",
   "name": "python3"
  },
  "language_info": {
   "codemirror_mode": {
    "name": "ipython",
    "version": 3
   },
   "file_extension": ".py",
   "mimetype": "text/x-python",
   "name": "python",
   "nbconvert_exporter": "python",
   "pygments_lexer": "ipython3",
   "version": "3.9.1"
  }
 },
 "nbformat": 4,
 "nbformat_minor": 4
}
