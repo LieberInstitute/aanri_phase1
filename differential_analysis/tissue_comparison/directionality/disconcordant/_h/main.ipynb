{
 "cells": [
  {
   "cell_type": "markdown",
   "metadata": {},
   "source": [
    "# Examine genes that are disconcordant across brain regrions"
   ]
  },
  {
   "cell_type": "code",
   "execution_count": null,
   "metadata": {},
   "outputs": [],
   "source": [
    "import functools\n",
    "import numpy as np\n",
    "import pandas as pd"
   ]
  },
  {
   "cell_type": "code",
   "execution_count": null,
   "metadata": {},
   "outputs": [],
   "source": [
    "config = {\n",
    "    'caudate': '../../../../caudate/_m/genes/diffExpr_EAvsAA_full.txt',\n",
    "    'dlpfc': '../../../../dlpfc/_m/genes/diffExpr_EAvsAA_full.txt',\n",
    "    'hippo': '../../../../hippocampus/_m/genes/diffExpr_EAvsAA_full.txt',\n",
    "    'gyrus': '../../../../dentateGyrus/_m/genes/diffExpr_EAvsAA_full.txt',\n",
    "}"
   ]
  },
  {
   "cell_type": "code",
   "execution_count": null,
   "metadata": {},
   "outputs": [],
   "source": [
    "@functools.lru_cache()\n",
    "def get_deg(tissue):\n",
    "    dft = pd.read_csv(config[tissue], sep='\\t', index_col=0)\n",
    "    dft['Feature'] = dft.index\n",
    "    dft['Dir'] = np.sign(dft['t'])\n",
    "    if 'gene_id' in dft.columns:\n",
    "        dft['ensemblID'] = dft.gene_id.str.replace('\\\\..*', '', regex=True)\n",
    "    elif 'ensembl_gene_id' in dft.columns:\n",
    "        dft.rename(columns={'ensembl_gene_id': 'ensemblID'}, inplace=True)\n",
    "    return dft[['Feature', 'ensemblID', 'Symbol', 'adj.P.Val', 'logFC', 't', 'Dir']]\n",
    "\n",
    "\n",
    "@functools.lru_cache()\n",
    "def get_deg_sig(tissue, fdr):\n",
    "    dft = get_deg(tissue)\n",
    "    return dft[(dft['adj.P.Val'] < fdr)]\n",
    "\n",
    "\n",
    "@functools.lru_cache()\n",
    "def merge_dataframes(tissue1, tissue2):\n",
    "    return get_deg(tissue1).merge(get_deg(tissue2), on='Feature', \n",
    "                                  suffixes=['_%s' % tissue1, '_%s' % tissue2])\n",
    "\n",
    "\n",
    "@functools.lru_cache()\n",
    "def merge_dataframes_sig(tissue1, tissue2):\n",
    "    fdr1 = 0.05 if tissue1 != 'dlpfc' else 0.05\n",
    "    fdr2 = 0.05 if tissue2 != 'dlpfc' else 0.05\n",
    "    return get_deg_sig(tissue1, fdr1).merge(get_deg_sig(tissue2, fdr2), on='Feature', \n",
    "                                            suffixes=['_%s' % tissue1, '_%s' % tissue2])\n"
   ]
  },
  {
   "cell_type": "code",
   "execution_count": null,
   "metadata": {},
   "outputs": [],
   "source": [
    "def extract_disconcordant(tissue1, tissue2):\n",
    "    df = merge_dataframes_sig(tissue1, tissue2)\n",
    "    df = df[((df['Dir_%s' % tissue1] == 1) & (df['Dir_%s' % tissue2] == -1)) | \n",
    "            ((df['Dir_%s' % tissue1] == -1) & (df['Dir_%s' % tissue2] == 1))]\n",
    "    return df.loc[:, ['Feature', 'Dir_%s' % tissue1, 'Dir_%s' % tissue2]]\\\n",
    "             .merge(get_deg(tissue1), on='Feature').drop('Dir', axis=1)"
   ]
  },
  {
   "cell_type": "markdown",
   "metadata": {},
   "source": [
    "## BrainSeq Tissue Comparison"
   ]
  },
  {
   "cell_type": "code",
   "execution_count": null,
   "metadata": {},
   "outputs": [],
   "source": [
    "cd = extract_disconcordant('caudate', 'dlpfc')  \n",
    "cd.to_csv(\"disconcordant_genes_%s_%s.csv\" % ('caudate', 'dlpfc'), index=False)\n",
    "print(cd.shape)\n",
    "cd"
   ]
  },
  {
   "cell_type": "code",
   "execution_count": null,
   "metadata": {},
   "outputs": [],
   "source": [
    "ch = extract_disconcordant('caudate', 'hippo')  \n",
    "ch.to_csv(\"disconcordant_genes_%s_%s.csv\" % ('caudate', 'hippo'), index=False)\n",
    "print(ch.shape)\n",
    "ch"
   ]
  },
  {
   "cell_type": "code",
   "execution_count": null,
   "metadata": {},
   "outputs": [],
   "source": [
    "print(\"There are %d genes where caudate is different from both DLPFC and hippocampus!\\n\" % \n",
    " len(set(ch.ensemblID ) & set(cd.ensemblID)))\n",
    "\n",
    "cd[(cd['ensemblID'].isin(list(set(ch.ensemblID ) & set(cd.ensemblID))))]"
   ]
  },
  {
   "cell_type": "code",
   "execution_count": null,
   "metadata": {},
   "outputs": [],
   "source": [
    "dh = extract_disconcordant('dlpfc', 'hippo')  \n",
    "dh.to_csv(\"disconcordant_genes_%s_%s.csv\" % ('dlpfc', 'hippo'), index=False)\n",
    "print(dh.shape)\n",
    "dh"
   ]
  },
  {
   "cell_type": "code",
   "execution_count": null,
   "metadata": {},
   "outputs": [],
   "source": [
    "print(\"There are %d genes where hippocampus is different from both caudate and DLPFC!\\n\" % \n",
    " len(set(dh.ensemblID ) & set(ch.ensemblID)))\n",
    "\n",
    "dh[(dh['ensemblID'].isin(list(set(dh.ensemblID ) & set(ch.ensemblID))))]"
   ]
  },
  {
   "cell_type": "code",
   "execution_count": null,
   "metadata": {},
   "outputs": [],
   "source": [
    "print(\"There are %d genes where DLPFC is different from both caudate and hippocampus!\\n\" % \n",
    " len(set(dh.ensemblID ) & set(cd.ensemblID)))"
   ]
  },
  {
   "cell_type": "code",
   "execution_count": null,
   "metadata": {},
   "outputs": [],
   "source": [
    "cg = extract_disconcordant('caudate', 'gyrus')  \n",
    "cg.to_csv(\"disconcordant_genes_%s_%s.csv\" % ('caudate', 'gyrus'), index=False)\n",
    "print(cg.shape)\n",
    "cg"
   ]
  },
  {
   "cell_type": "code",
   "execution_count": null,
   "metadata": {},
   "outputs": [],
   "source": [
    "dg = extract_disconcordant('dlpfc', 'gyrus')  \n",
    "dg.to_csv(\"disconcordant_genes_%s_%s.csv\" % ('dlpfc', 'gyrus'), index=False)\n",
    "print(dg.shape)\n",
    "dg"
   ]
  },
  {
   "cell_type": "code",
   "execution_count": null,
   "metadata": {},
   "outputs": [],
   "source": [
    "print(\"There are %d genes where dentate gyrus is different from both caudate and DLPFC!\\n\" % \n",
    " len(set(cg.ensemblID ) & set(dg.ensemblID)))\n",
    "\n",
    "cg[(cg['ensemblID'].isin(list(set(dg.ensemblID ) & set(cg.ensemblID))))]"
   ]
  },
  {
   "cell_type": "code",
   "execution_count": null,
   "metadata": {},
   "outputs": [],
   "source": [
    "hg = extract_disconcordant('hippo', 'gyrus')  \n",
    "hg.to_csv(\"disconcordant_genes_%s_%s.csv\" % ('hippo', 'gyrus'), index=False)\n",
    "print(hg.shape)\n",
    "hg"
   ]
  },
  {
   "cell_type": "code",
   "execution_count": null,
   "metadata": {},
   "outputs": [],
   "source": [
    "print(\"There are %d genes where dentate gyrus is different from both DLPFC and hippocampus!\\n\" % \n",
    " len(set(hg.ensemblID ) & set(dg.ensemblID)))\n",
    "\n",
    "hg[(hg['ensemblID'].isin(list(set(hg.ensemblID ) & set(dg.ensemblID))))]"
   ]
  },
  {
   "cell_type": "code",
   "execution_count": null,
   "metadata": {},
   "outputs": [],
   "source": [
    "print(\"There are %d genes where dentate gyrus is different from both caudate, DLPFC, and hippocampus!\\n\" % \n",
    "      len(set(cg.ensemblID) & set(dg.ensemblID) & set(hg.ensemblID)))\n",
    "\n",
    "cg[(cg['ensemblID'].isin(list(set(cg.ensemblID) & set(dg.ensemblID) & set(hg.ensemblID))))]"
   ]
  },
  {
   "cell_type": "code",
   "execution_count": null,
   "metadata": {},
   "outputs": [],
   "source": []
  }
 ],
 "metadata": {
  "kernelspec": {
   "display_name": "Python 3",
   "language": "python",
   "name": "python3"
  },
  "language_info": {
   "codemirror_mode": {
    "name": "ipython",
    "version": 3
   },
   "file_extension": ".py",
   "mimetype": "text/x-python",
   "name": "python",
   "nbconvert_exporter": "python",
   "pygments_lexer": "ipython3",
   "version": "3.9.1"
  }
 },
 "nbformat": 4,
 "nbformat_minor": 4
}
