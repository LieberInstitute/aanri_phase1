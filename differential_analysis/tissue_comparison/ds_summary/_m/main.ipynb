{
 "cells": [
  {
   "cell_type": "markdown",
   "metadata": {},
   "source": [
    "# Generate supplementary data for DEGs"
   ]
  },
  {
   "cell_type": "code",
   "execution_count": 1,
   "metadata": {
    "execution": {
     "iopub.execute_input": "2021-08-21T16:26:12.783771Z",
     "iopub.status.busy": "2021-08-21T16:26:12.782380Z",
     "iopub.status.idle": "2021-08-21T16:26:13.331402Z",
     "shell.execute_reply": "2021-08-21T16:26:13.332435Z"
    }
   },
   "outputs": [],
   "source": [
    "import functools\n",
    "import numpy as np\n",
    "import pandas as pd\n",
    "from scipy.stats import fisher_exact\n",
    "from statsmodels.stats.multitest import multipletests"
   ]
  },
  {
   "cell_type": "markdown",
   "metadata": {},
   "source": [
    "## Function"
   ]
  },
  {
   "cell_type": "markdown",
   "metadata": {},
   "source": [
    "### Cached functions"
   ]
  },
  {
   "cell_type": "code",
   "execution_count": 2,
   "metadata": {
    "execution": {
     "iopub.execute_input": "2021-08-21T16:26:13.339569Z",
     "iopub.status.busy": "2021-08-21T16:26:13.338189Z",
     "iopub.status.idle": "2021-08-21T16:26:13.341861Z",
     "shell.execute_reply": "2021-08-21T16:26:13.340817Z"
    }
   },
   "outputs": [],
   "source": [
    "@functools.lru_cache()\n",
    "def get_de():\n",
    "    return pd.read_csv(\"../../deg_summary/_m/diffExpr_ancestry_full_4regions.tsv\", sep='\\t')\n",
    "\n",
    "\n",
    "@functools.lru_cache()\n",
    "def feature_map(feature):\n",
    "    return {\"genes\": \"Gene\", \"transcripts\": \"Transcript\", \n",
    "            \"exons\": \"Exon\", \"junctions\": \"Junction\"}[feature]"
   ]
  },
  {
   "cell_type": "markdown",
   "metadata": {},
   "source": [
    "### Simple functinos"
   ]
  },
  {
   "cell_type": "code",
   "execution_count": 3,
   "metadata": {
    "execution": {
     "iopub.execute_input": "2021-08-21T16:26:13.354751Z",
     "iopub.status.busy": "2021-08-21T16:26:13.350696Z",
     "iopub.status.idle": "2021-08-21T16:26:13.357255Z",
     "shell.execute_reply": "2021-08-21T16:26:13.356158Z"
    }
   },
   "outputs": [],
   "source": [
    "def get_tissues_DS(tissue):\n",
    "    cols = [\"Feature\", \"gencodeID\", \"ensemblID\", \"Symbol\", \"logFC\", \n",
    "            \"AveExpr\", \"t\", \"P.Value\", \"adj.P.Val\", \"Type\"]\n",
    "    tissue_map = {\"Caudate\": \"caudate\", \"Dentate Gyrus\": \"dentateGyrus\", \n",
    "                  \"DLPFC\": \"dlpfc\", \"Hippocampus\": \"hippocampus\"}\n",
    "    ## Load local splicing results\n",
    "    ds = pd.read_csv(\"../../../%s/localsplicing/visualization/_m/cluster_ds_results_annotated.txt\" % \n",
    "                     tissue_map[tissue], sep='\\t')\\\n",
    "           .rename(columns={\"gene_name\": \"Symbol\"})\n",
    "    ds['chr'] = ds.coord.str.split(\":\", expand=True)[0]\n",
    "    ds[\"Type\"] = \"DTU\"\n",
    "    ds[\"Tissue\"] = tissue\n",
    "    return ds\n",
    "\n",
    "\n",
    "def print_overlap(feature, tissue, ds):\n",
    "    dx = get_de()[(get_de()[\"adj.P.Val\"] < 0.05) & \n",
    "                  (get_de()[\"Type\"] == feature_map(feature)) & \n",
    "                  (get_de()[\"Tissue\"] == tissue)].copy()\n",
    "    dft = ds[(ds[\"Tissue\"] == tissue)].copy()\n",
    "    overlap = len(set(dx.Symbol) & set(dft.gene))\n",
    "    print(\"There are {} ({:.1%}) DS overlapping DE {}.\"\\\n",
    "          .format(overlap, overlap/len(dft.gene.unique()), feature))\n",
    "    \n",
    "\n",
    "def subset_de(feature, tissue):\n",
    "    dx = get_de()[(get_de()[\"Type\"] == feature_map(feature)) & \n",
    "                  (get_de()[\"Tissue\"] == tissue)].copy()\n",
    "    return dx.loc[:, [\"Symbol\", \"adj.P.Val\"]].dropna()\n",
    "\n",
    "\n",
    "def merge_data(feature, tissue, ds):\n",
    "    df = ds[(ds[\"Tissue\"] == tissue)].copy()\n",
    "    return df.loc[:, [\"gene\", \"FDR\", \"annotation\"]].drop_duplicates(subset=\"gene\")\\\n",
    "             .merge(subset_de(feature, tissue), left_on=\"gene\", right_on=\"Symbol\", how=\"outer\")\\\n",
    "             .fillna(1)\n",
    "\n",
    "\n",
    "def cal_fishers(feature, tissue, ds):\n",
    "    dt = merge_data(feature, tissue, ds)\n",
    "    table = [[np.sum((dt['adj.P.Val']<0.05) & ((dt['FDR']<0.05))),\n",
    "              np.sum((dt['adj.P.Val']<0.05) & ((dt['FDR']>=0.05)))],\n",
    "             [np.sum((dt['adj.P.Val']>=0.05) & ((dt['FDR']<0.05))),\n",
    "              np.sum((dt['adj.P.Val']>=0.05) & ((dt['FDR']>=0.05)))]]\n",
    "    #print(table)\n",
    "    return fisher_exact(table)\n"
   ]
  },
  {
   "cell_type": "markdown",
   "metadata": {},
   "source": [
    "## Summary"
   ]
  },
  {
   "cell_type": "code",
   "execution_count": 4,
   "metadata": {
    "execution": {
     "iopub.execute_input": "2021-08-21T16:26:13.363948Z",
     "iopub.status.busy": "2021-08-21T16:26:13.362672Z",
     "iopub.status.idle": "2021-08-21T16:26:13.423893Z",
     "shell.execute_reply": "2021-08-21T16:26:13.422682Z"
    }
   },
   "outputs": [
    {
     "name": "stdout",
     "output_type": "stream",
     "text": [
      "(5233, 9)\n"
     ]
    },
    {
     "data": {
      "text/html": [
       "<div>\n",
       "<style scoped>\n",
       "    .dataframe tbody tr th:only-of-type {\n",
       "        vertical-align: middle;\n",
       "    }\n",
       "\n",
       "    .dataframe tbody tr th {\n",
       "        vertical-align: top;\n",
       "    }\n",
       "\n",
       "    .dataframe thead th {\n",
       "        text-align: right;\n",
       "    }\n",
       "</style>\n",
       "<table border=\"1\" class=\"dataframe\">\n",
       "  <thead>\n",
       "    <tr style=\"text-align: right;\">\n",
       "      <th></th>\n",
       "      <th>clusterID</th>\n",
       "      <th>N</th>\n",
       "      <th>coord</th>\n",
       "      <th>gene</th>\n",
       "      <th>annotation</th>\n",
       "      <th>FDR</th>\n",
       "      <th>chr</th>\n",
       "      <th>Type</th>\n",
       "      <th>Tissue</th>\n",
       "    </tr>\n",
       "  </thead>\n",
       "  <tbody>\n",
       "    <tr>\n",
       "      <th>0</th>\n",
       "      <td>clu_128031_-</td>\n",
       "      <td>14</td>\n",
       "      <td>chr12:124911899-124913724</td>\n",
       "      <td>UBC</td>\n",
       "      <td>cryptic</td>\n",
       "      <td>0.000000e+00</td>\n",
       "      <td>chr12</td>\n",
       "      <td>DTU</td>\n",
       "      <td>Caudate</td>\n",
       "    </tr>\n",
       "    <tr>\n",
       "      <th>1</th>\n",
       "      <td>clu_105375_?</td>\n",
       "      <td>13</td>\n",
       "      <td>chr12:124911899-124913724</td>\n",
       "      <td>UBC</td>\n",
       "      <td>cryptic</td>\n",
       "      <td>2.510000e-170</td>\n",
       "      <td>chr12</td>\n",
       "      <td>DTU</td>\n",
       "      <td>Caudate</td>\n",
       "    </tr>\n",
       "  </tbody>\n",
       "</table>\n",
       "</div>"
      ],
      "text/plain": [
       "      clusterID   N                      coord gene annotation            FDR  \\\n",
       "0  clu_128031_-  14  chr12:124911899-124913724  UBC    cryptic   0.000000e+00   \n",
       "1  clu_105375_?  13  chr12:124911899-124913724  UBC    cryptic  2.510000e-170   \n",
       "\n",
       "     chr Type   Tissue  \n",
       "0  chr12  DTU  Caudate  \n",
       "1  chr12  DTU  Caudate  "
      ]
     },
     "execution_count": 1,
     "metadata": {},
     "output_type": "execute_result"
    }
   ],
   "source": [
    "caudate = get_tissues_DS(\"Caudate\")\n",
    "dlpfc = get_tissues_DS(\"DLPFC\")\n",
    "gyrus = get_tissues_DS(\"Dentate Gyrus\")\n",
    "hippo = get_tissues_DS(\"Hippocampus\")\n",
    "ds = pd.concat([caudate, dlpfc, gyrus, hippo], axis=0)\n",
    "print(ds.shape)\n",
    "ds.head(2)"
   ]
  },
  {
   "cell_type": "code",
   "execution_count": 5,
   "metadata": {
    "execution": {
     "iopub.execute_input": "2021-08-21T16:26:13.430555Z",
     "iopub.status.busy": "2021-08-21T16:26:13.429273Z",
     "iopub.status.idle": "2021-08-21T16:26:13.433563Z",
     "shell.execute_reply": "2021-08-21T16:26:13.434600Z"
    }
   },
   "outputs": [
    {
     "data": {
      "text/plain": [
       "Tissue\n",
       "Caudate          1901\n",
       "DLPFC            1345\n",
       "Dentate Gyrus     655\n",
       "Hippocampus      1332\n",
       "dtype: int64"
      ]
     },
     "execution_count": 1,
     "metadata": {},
     "output_type": "execute_result"
    }
   ],
   "source": [
    "ds.groupby([\"Tissue\"]).size()"
   ]
  },
  {
   "cell_type": "markdown",
   "metadata": {},
   "source": [
    "### Save files"
   ]
  },
  {
   "cell_type": "code",
   "execution_count": 6,
   "metadata": {
    "execution": {
     "iopub.execute_input": "2021-08-21T16:26:13.440337Z",
     "iopub.status.busy": "2021-08-21T16:26:13.439079Z",
     "iopub.status.idle": "2021-08-21T16:26:13.465245Z",
     "shell.execute_reply": "2021-08-21T16:26:13.466220Z"
    }
   },
   "outputs": [],
   "source": [
    "ds.to_csv(\"diffSplicing_ancestry_FDR05_4regions.tsv\", sep='\\t', index=False)"
   ]
  },
  {
   "cell_type": "markdown",
   "metadata": {},
   "source": [
    "## Overlap with DE"
   ]
  },
  {
   "cell_type": "code",
   "execution_count": 7,
   "metadata": {
    "execution": {
     "iopub.execute_input": "2021-08-21T16:26:13.472574Z",
     "iopub.status.busy": "2021-08-21T16:26:13.471317Z",
     "iopub.status.idle": "2021-08-21T16:26:23.215897Z",
     "shell.execute_reply": "2021-08-21T16:26:23.216964Z"
    }
   },
   "outputs": [
    {
     "name": "stdout",
     "output_type": "stream",
     "text": [
      "Caudate\n",
      "There are 357 (23.2%) DS overlapping DE genes.\n",
      "There are 594 (38.5%) DS overlapping DE transcripts.\n",
      "There are 684 (44.4%) DS overlapping DE exons.\n",
      "There are 654 (42.4%) DS overlapping DE junctions.\n",
      "\n",
      "Dentate Gyrus\n",
      "There are 48 (9.0%) DS overlapping DE genes.\n",
      "There are 62 (11.7%) DS overlapping DE transcripts.\n",
      "There are 89 (16.7%) DS overlapping DE exons.\n",
      "There are 92 (17.3%) DS overlapping DE junctions.\n",
      "\n",
      "DLPFC\n",
      "There are 239 (21.6%) DS overlapping DE genes.\n",
      "There are 388 (35.1%) DS overlapping DE transcripts.\n",
      "There are 479 (43.3%) DS overlapping DE exons.\n",
      "There are 411 (37.2%) DS overlapping DE junctions.\n",
      "\n",
      "Hippocampus\n",
      "There are 216 (19.2%) DS overlapping DE genes.\n",
      "There are 399 (35.5%) DS overlapping DE transcripts.\n",
      "There are 513 (45.6%) DS overlapping DE exons.\n",
      "There are 410 (36.5%) DS overlapping DE junctions.\n",
      "\n"
     ]
    }
   ],
   "source": [
    "for tissue in [\"Caudate\", \"Dentate Gyrus\", \"DLPFC\", \"Hippocampus\"]:\n",
    "    print(tissue)\n",
    "    for feature in [\"genes\", \"transcripts\", \"exons\", \"junctions\"]:\n",
    "        print_overlap(feature, tissue, ds)\n",
    "    print(\"\")"
   ]
  },
  {
   "cell_type": "markdown",
   "metadata": {},
   "source": [
    "## Enrichment analysis"
   ]
  },
  {
   "cell_type": "code",
   "execution_count": 8,
   "metadata": {
    "execution": {
     "iopub.execute_input": "2021-08-21T16:26:23.227203Z",
     "iopub.status.busy": "2021-08-21T16:26:23.225924Z",
     "iopub.status.idle": "2021-08-21T16:26:30.891047Z",
     "shell.execute_reply": "2021-08-21T16:26:30.889800Z"
    }
   },
   "outputs": [
    {
     "name": "stdout",
     "output_type": "stream",
     "text": [
      "Caudate\n",
      "Enrichment of DS within DE for Gene:\n",
      "Odd Ratio: 2.11; P-value: 1.1e-27\n",
      "\n",
      "Enrichment of DS within DE for Transcript:\n",
      "Odd Ratio: 2.84; P-value: 1.5e-139\n",
      "\n",
      "Enrichment of DS within DE for Exon:\n",
      "Odd Ratio: 2.77; P-value: 0.0e+00\n",
      "\n",
      "Enrichment of DS within DE for Junction:\n",
      "Odd Ratio: 3.38; P-value: 0.0e+00\n",
      "\n",
      "\n",
      "Dentate Gyrus\n",
      "Enrichment of DS within DE for Gene:\n",
      "Odd Ratio: 2.66; P-value: 2.1e-08\n",
      "\n",
      "Enrichment of DS within DE for Transcript:\n",
      "Odd Ratio: 4.17; P-value: 1.0e-23\n",
      "\n",
      "Enrichment of DS within DE for Exon:\n",
      "Odd Ratio: 3.90; P-value: 7.2e-106\n",
      "\n",
      "Enrichment of DS within DE for Junction:\n",
      "Odd Ratio: 5.08; P-value: 2.7e-66\n",
      "\n",
      "\n",
      "DLPFC\n",
      "Enrichment of DS within DE for Gene:\n",
      "Odd Ratio: 1.98; P-value: 2.9e-17\n",
      "\n",
      "Enrichment of DS within DE for Transcript:\n",
      "Odd Ratio: 3.32; P-value: 4.8e-113\n",
      "\n",
      "Enrichment of DS within DE for Exon:\n",
      "Odd Ratio: 3.11; P-value: 0.0e+00\n",
      "\n",
      "Enrichment of DS within DE for Junction:\n",
      "Odd Ratio: 4.06; P-value: 1.2e-252\n",
      "\n",
      "\n",
      "Hippocampus\n",
      "Enrichment of DS within DE for Gene:\n",
      "Odd Ratio: 1.57; P-value: 3.4e-08\n",
      "\n",
      "Enrichment of DS within DE for Transcript:\n",
      "Odd Ratio: 2.65; P-value: 1.6e-83\n",
      "\n",
      "Enrichment of DS within DE for Exon:\n",
      "Odd Ratio: 2.52; P-value: 0.0e+00\n",
      "\n",
      "Enrichment of DS within DE for Junction:\n",
      "Odd Ratio: 3.50; P-value: 8.8e-221\n",
      "\n",
      "\n"
     ]
    }
   ],
   "source": [
    "feature_lt = []; pval_lt = []; oddratio_lt = []; tissue_lt = []\n",
    "for tissue in [\"Caudate\", \"Dentate Gyrus\", \"DLPFC\", \"Hippocampus\"]:\n",
    "    print(tissue)\n",
    "    for feature in [\"genes\", \"transcripts\", \"exons\", \"junctions\"]:\n",
    "        oddratio, pval = cal_fishers(feature, tissue, ds)\n",
    "        feature_lt.append(feature_map(feature))\n",
    "        pval_lt.append(pval)\n",
    "        oddratio_lt.append(oddratio)\n",
    "        tissue_lt.append(tissue)\n",
    "        print(\"Enrichment of DS within DE for {}:\\nOdd Ratio: {:.2f}; P-value: {:.1e}\\n\"\\\n",
    "              .format(feature_map(feature), oddratio, pval))\n",
    "    print(\"\")\n",
    "pval_lt = [1e-323 if x == 0 else x for x in pval_lt]\n",
    "_, fdr, _, _ = multipletests(pval_lt, method='fdr_bh')\n",
    "df = pd.DataFrame({\"Tissue\": tissue_lt, \"Feature\": feature_lt,\n",
    "                   \"OR\": oddratio_lt, \"PValue\": pval_lt, \"FDR\": fdr})\n",
    "df.to_csv('diffSplice_enrichment_analysis.txt', sep='\\t', index=False)"
   ]
  },
  {
   "cell_type": "code",
   "execution_count": null,
   "metadata": {},
   "outputs": [],
   "source": []
  }
 ],
 "metadata": {
  "kernelspec": {
   "display_name": "Python 3",
   "language": "python",
   "name": "python3"
  },
  "language_info": {
   "codemirror_mode": {
    "name": "ipython",
    "version": 3
   },
   "file_extension": ".py",
   "mimetype": "text/x-python",
   "name": "python",
   "nbconvert_exporter": "python",
   "pygments_lexer": "ipython3",
   "version": "3.9.1"
  }
 },
 "nbformat": 4,
 "nbformat_minor": 4
}
