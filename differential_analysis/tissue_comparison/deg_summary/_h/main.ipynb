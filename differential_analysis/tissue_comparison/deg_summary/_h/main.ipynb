{
 "cells": [
  {
   "cell_type": "markdown",
   "metadata": {},
   "source": [
    "# Generate supplementary data for DEGs"
   ]
  },
  {
   "cell_type": "code",
   "execution_count": 1,
   "metadata": {},
   "outputs": [],
   "source": [
    "import pandas as pd"
   ]
  },
  {
   "cell_type": "markdown",
   "metadata": {},
   "source": [
    "## Function"
   ]
  },
  {
   "cell_type": "code",
   "execution_count": 2,
   "metadata": {},
   "outputs": [],
   "source": [
    "def get_tissues_DEG(tissue):\n",
    "    cols = [\"Feature\", \"gencodeID\", \"ensemblID\", \"Symbol\", \"logFC\", \n",
    "            \"AveExpr\", \"t\", \"P.Value\", \"adj.P.Val\", \"Type\"]\n",
    "    tissue_map = {\"Caudate\": \"caudate\", \"Dentate Gyrus\": \"dentateGyrus\", \n",
    "                  \"DLPFC\": \"dlpfc\", \"Hippocampus\": \"hippocampus\"}\n",
    "    gg = pd.read_csv(\"../../../%s/_m/genes/diffExpr_EAvsAA_full.txt\" % tissue_map[tissue], \n",
    "                     sep='\\t', index_col=0)\n",
    "    gg[\"Feature\"] = gg.index; gg[\"Type\"] = \"Gene\"\n",
    "    tt = pd.read_csv(\"../../../%s/_m/transcripts/diffExpr_EAvsAA_full.txt\" % tissue_map[tissue], \n",
    "                     sep='\\t', index_col=0)\\\n",
    "           .rename(columns={\"gene_id\": \"gencodeID\", \"gene_name\": \"Symbol\"})\n",
    "    tt[\"ensemblID\"] = tt.gencodeID.str.replace(\"\\\\..*\", \"\", regex=True)\n",
    "    tt[\"Feature\"] = tt.index; tt[\"Type\"] = \"Transcript\"\n",
    "    ee = pd.read_csv(\"../../../%s/_m/exons/diffExpr_EAvsAA_full.txt\" % tissue_map[tissue], \n",
    "                     sep='\\t', index_col=0)\n",
    "    ee[\"Feature\"] = ee.index; ee[\"Type\"] = \"Exon\"\n",
    "    jj = pd.read_csv(\"../../../%s/_m/junctions/diffExpr_EAvsAA_full.txt\" % tissue_map[tissue],\n",
    "                     sep='\\t', index_col=0)\\\n",
    "           .drop([\"Symbol\"], axis=1)\\\n",
    "           .rename(columns={\"newGeneID\": \"gencodeID\", \"newGeneSymbol\": \"Symbol\"})\n",
    "    jj[\"ensemblID\"] = jj.gencodeID.str.replace(\"\\\\..*\", \"\", regex=True)\n",
    "    jj[\"Feature\"] = jj.index; jj[\"Type\"] = \"Junction\"\n",
    "    df = pd.concat([gg.reset_index().loc[:, cols], tt.reset_index().loc[:, cols], \n",
    "                    ee.reset_index().loc[:, cols], jj.reset_index().loc[:, cols]], axis=0)\n",
    "    df[\"Tissue\"] = tissue\n",
    "    return df"
   ]
  },
  {
   "cell_type": "markdown",
   "metadata": {},
   "source": [
    "## Main"
   ]
  },
  {
   "cell_type": "code",
   "execution_count": 3,
   "metadata": {},
   "outputs": [],
   "source": [
    "caudate = get_tissues_DEG(\"Caudate\")\n",
    "dlpfc = get_tissues_DEG(\"DLPFC\")\n",
    "gyrus = get_tissues_DEG(\"Dentate Gyrus\")\n",
    "hippo = get_tissues_DEG(\"Hippocampus\")"
   ]
  },
  {
   "cell_type": "code",
   "execution_count": null,
   "metadata": {},
   "outputs": [],
   "source": [
    "df = pd.concat([caudate, dlpfc, gyrus, hippo], axis=0)\n",
    "df.shape"
   ]
  },
  {
   "cell_type": "code",
   "execution_count": null,
   "metadata": {},
   "outputs": [],
   "source": [
    "df.groupby([\"Tissue\", \"Type\"]).size()"
   ]
  },
  {
   "cell_type": "markdown",
   "metadata": {},
   "source": [
    "### Save files"
   ]
  },
  {
   "cell_type": "code",
   "execution_count": null,
   "metadata": {},
   "outputs": [],
   "source": [
    "df.to_csv(\"diffExpr_ancestry_full_4regions.tsv\", sep='\\t', index=False)"
   ]
  },
  {
   "cell_type": "code",
   "execution_count": null,
   "metadata": {},
   "outputs": [],
   "source": [
    "df[(df[\"adj.P.Val\"] < 0.05)].to_csv(\"diffExpr_ancestry_FDR05_4regions.tsv\", sep='\\t', index=False)"
   ]
  }
 ],
 "metadata": {
  "kernelspec": {
   "display_name": "Python 3",
   "language": "python",
   "name": "python3"
  },
  "language_info": {
   "codemirror_mode": {
    "name": "ipython",
    "version": 3
   },
   "file_extension": ".py",
   "mimetype": "text/x-python",
   "name": "python",
   "nbconvert_exporter": "python",
   "pygments_lexer": "ipython3",
   "version": "3.9.1"
  }
 },
 "nbformat": 4,
 "nbformat_minor": 4
}
