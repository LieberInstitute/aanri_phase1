{
 "cells": [
  {
   "cell_type": "markdown",
   "metadata": {},
   "source": [
    "# Summary of features for interaction analysis"
   ]
  },
  {
   "cell_type": "code",
   "execution_count": null,
   "metadata": {},
   "outputs": [],
   "source": [
    "import pandas as pd"
   ]
  },
  {
   "cell_type": "markdown",
   "metadata": {},
   "source": [
    "## Function"
   ]
  },
  {
   "cell_type": "code",
   "execution_count": null,
   "metadata": {},
   "outputs": [],
   "source": [
    "def get_summary(feature):\n",
    "    fn = \"../../_m/%s/brainseq_ancestry_4tissues_mashr.tsv\" % feature\n",
    "    df = pd.read_csv(fn, sep='\\t')\n",
    "    cc = df[(df[\"Caudate\"] == 1)].copy()\n",
    "    gg = df[(df[\"Dentate Gyrus\"] == 1)].copy()\n",
    "    dd = df[(df[\"DLPFC\"] == 1)].copy()\n",
    "    hh = df[(df[\"Hippocampus\"] == 1)].copy()\n",
    "    sig = df[(df[\"N_Regions_Shared\"] != 0)].copy()\n",
    "    print(feature.upper())\n",
    "    #print(df.groupby(\"N_Regions_Shared\").size())\n",
    "    print(\"There are {} ({:.1%}) Caudate specific eFeatures!\".format(cc[(cc[\"N_Regions_Shared\"] == 1)].shape[0], \n",
    "                                                                    cc[(cc[\"N_Regions_Shared\"] == 1)].shape[0]/cc.shape[0]))\n",
    "    print(\"There are {} ({:.1%}) Dentate Gyrus specific eFeatures!\".format(gg[(gg[\"N_Regions_Shared\"] == 1)].shape[0], \n",
    "                                                                          gg[(gg[\"N_Regions_Shared\"] == 1)].shape[0]/gg.shape[0]))\n",
    "    print(\"There are {} ({:.1%}) DLPFC specific eFeatures!\".format(dd[(dd[\"N_Regions_Shared\"] == 1)].shape[0], \n",
    "                                                                  dd[(dd[\"N_Regions_Shared\"] == 1)].shape[0]/dd.shape[0]))\n",
    "    print(\"There are {} ({:.1%}) Hippocampus specific eFeatures!\\n\".format(hh[(hh[\"N_Regions_Shared\"] == 1)].shape[0], \n",
    "                                                                          hh[(hh[\"N_Regions_Shared\"] == 1)].shape[0]/hh.shape[0]))\n",
    "    print(\"There are {} ({:.1%}) DE {} shared between two brain regions!\".format(df.groupby(\"N_Regions_Shared\").size()[2],\n",
    "                                                                                 df.groupby(\"N_Regions_Shared\").size()[2]/sig.shape[0], \n",
    "                                                                                 feature))\n",
    "    print(\"There are {} ({:.1%}) DE {} shared across three brain regions!\".format(df.groupby(\"N_Regions_Shared\").size()[3],\n",
    "                                                                                      df.groupby(\"N_Regions_Shared\").size()[3]/sig.shape[0], \n",
    "                                                                                      feature))\n",
    "    print(\"There are {} ({:.1%}) DE {} shared across four brain regions!\\n\".format(df.groupby(\"N_Regions_Shared\").size()[4],\n",
    "                                                                                       df.groupby(\"N_Regions_Shared\").size()[4]/sig.shape[0], \n",
    "                                                                                       feature))"
   ]
  },
  {
   "cell_type": "markdown",
   "metadata": {},
   "source": [
    "## Summary"
   ]
  },
  {
   "cell_type": "code",
   "execution_count": null,
   "metadata": {},
   "outputs": [],
   "source": [
    "for feature in [\"genes\", \"transcripts\", \"exons\", \"junctions\"]:\n",
    "    get_summary(feature)"
   ]
  },
  {
   "cell_type": "code",
   "execution_count": null,
   "metadata": {},
   "outputs": [],
   "source": []
  }
 ],
 "metadata": {
  "kernelspec": {
   "display_name": "Python 3",
   "language": "python",
   "name": "python3"
  },
  "language_info": {
   "codemirror_mode": {
    "name": "ipython",
    "version": 3
   },
   "file_extension": ".py",
   "mimetype": "text/x-python",
   "name": "python",
   "nbconvert_exporter": "python",
   "pygments_lexer": "ipython3",
   "version": "3.9.1"
  }
 },
 "nbformat": 4,
 "nbformat_minor": 4
}
