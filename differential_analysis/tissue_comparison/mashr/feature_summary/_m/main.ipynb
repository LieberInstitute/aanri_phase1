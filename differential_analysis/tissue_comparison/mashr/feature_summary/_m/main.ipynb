{
 "cells": [
  {
   "cell_type": "markdown",
   "metadata": {},
   "source": [
    "# Summary of features for interaction analysis"
   ]
  },
  {
   "cell_type": "code",
   "execution_count": 1,
   "metadata": {
    "execution": {
     "iopub.execute_input": "2021-09-27T18:56:31.377122Z",
     "iopub.status.busy": "2021-09-27T18:56:31.375504Z",
     "iopub.status.idle": "2021-09-27T18:56:31.695791Z",
     "shell.execute_reply": "2021-09-27T18:56:31.694018Z"
    }
   },
   "outputs": [],
   "source": [
    "import pandas as pd"
   ]
  },
  {
   "cell_type": "markdown",
   "metadata": {},
   "source": [
    "## Function"
   ]
  },
  {
   "cell_type": "code",
   "execution_count": 2,
   "metadata": {
    "execution": {
     "iopub.execute_input": "2021-09-27T18:56:31.708245Z",
     "iopub.status.busy": "2021-09-27T18:56:31.705272Z",
     "iopub.status.idle": "2021-09-27T18:56:31.712196Z",
     "shell.execute_reply": "2021-09-27T18:56:31.711028Z"
    }
   },
   "outputs": [],
   "source": [
    "def get_summary(feature):\n",
    "    fn = \"../../_m/%s/brainseq_ancestry_4tissues_mashr.tsv\" % feature\n",
    "    df = pd.read_csv(fn, sep='\\t')\n",
    "    cc = df[(df[\"Caudate\"] == 1)].copy()\n",
    "    gg = df[(df[\"Dentate Gyrus\"] == 1)].copy()\n",
    "    dd = df[(df[\"DLPFC\"] == 1)].copy()\n",
    "    hh = df[(df[\"Hippocampus\"] == 1)].copy()\n",
    "    sig = df[(df[\"N_Regions_Shared\"] != 0)].copy()\n",
    "    print(feature.upper())\n",
    "    #print(df.groupby(\"N_Regions_Shared\").size())\n",
    "    print(\"There are {} ({:.1%}) Caudate specific eFeatures!\".format(cc[(cc[\"N_Regions_Shared\"] == 1)].shape[0], \n",
    "                                                                    cc[(cc[\"N_Regions_Shared\"] == 1)].shape[0]/cc.shape[0]))\n",
    "    print(\"There are {} ({:.1%}) Dentate Gyrus specific eFeatures!\".format(gg[(gg[\"N_Regions_Shared\"] == 1)].shape[0], \n",
    "                                                                          gg[(gg[\"N_Regions_Shared\"] == 1)].shape[0]/gg.shape[0]))\n",
    "    print(\"There are {} ({:.1%}) DLPFC specific eFeatures!\".format(dd[(dd[\"N_Regions_Shared\"] == 1)].shape[0], \n",
    "                                                                  dd[(dd[\"N_Regions_Shared\"] == 1)].shape[0]/dd.shape[0]))\n",
    "    print(\"There are {} ({:.1%}) Hippocampus specific eFeatures!\\n\".format(hh[(hh[\"N_Regions_Shared\"] == 1)].shape[0], \n",
    "                                                                          hh[(hh[\"N_Regions_Shared\"] == 1)].shape[0]/hh.shape[0]))\n",
    "    print(\"There are {} ({:.1%}) DE {} shared between two brain regions!\".format(df.groupby(\"N_Regions_Shared\").size()[2],\n",
    "                                                                                 df.groupby(\"N_Regions_Shared\").size()[2]/sig.shape[0], \n",
    "                                                                                 feature))\n",
    "    print(\"There are {} ({:.1%}) DE {} shared across three brain regions!\".format(df.groupby(\"N_Regions_Shared\").size()[3],\n",
    "                                                                                      df.groupby(\"N_Regions_Shared\").size()[3]/sig.shape[0], \n",
    "                                                                                      feature))\n",
    "    print(\"There are {} ({:.1%}) DE {} shared across four brain regions!\\n\".format(df.groupby(\"N_Regions_Shared\").size()[4],\n",
    "                                                                                       df.groupby(\"N_Regions_Shared\").size()[4]/sig.shape[0], \n",
    "                                                                                       feature))"
   ]
  },
  {
   "cell_type": "markdown",
   "metadata": {},
   "source": [
    "## Summary"
   ]
  },
  {
   "cell_type": "code",
   "execution_count": 3,
   "metadata": {
    "execution": {
     "iopub.execute_input": "2021-09-27T18:56:31.718842Z",
     "iopub.status.busy": "2021-09-27T18:56:31.717554Z",
     "iopub.status.idle": "2021-09-27T18:56:32.260142Z",
     "shell.execute_reply": "2021-09-27T18:56:32.258874Z"
    }
   },
   "outputs": [
    {
     "name": "stdout",
     "output_type": "stream",
     "text": [
      "GENES\n",
      "There are 930 (18.7%) Caudate specific eFeatures!\n",
      "There are 907 (21.8%) Dentate Gyrus specific eFeatures!\n",
      "There are 790 (15.9%) DLPFC specific eFeatures!\n",
      "There are 808 (16.1%) Hippocampus specific eFeatures!\n",
      "\n",
      "There are 2387 (26.6%) DE genes shared between two brain regions!\n",
      "There are 1731 (19.3%) DE genes shared across three brain regions!\n",
      "There are 1434 (16.0%) DE genes shared across four brain regions!\n",
      "\n",
      "TRANSCRIPTS\n",
      "There are 2162 (24.2%) Caudate specific eFeatures!\n",
      "There are 3549 (33.6%) Dentate Gyrus specific eFeatures!\n",
      "There are 2402 (23.5%) DLPFC specific eFeatures!\n",
      "There are 2732 (25.4%) Hippocampus specific eFeatures!\n",
      "\n",
      "There are 6055 (27.3%) DE transcripts shared between two brain regions!\n",
      "There are 3702 (16.7%) DE transcripts shared across three brain regions!\n",
      "There are 1614 (7.3%) DE transcripts shared across four brain regions!\n",
      "\n",
      "EXONS\n",
      "There are 10388 (27.3%) Caudate specific eFeatures!\n",
      "There are 11647 (37.5%) Dentate Gyrus specific eFeatures!\n",
      "There are 11385 (29.0%) DLPFC specific eFeatures!\n",
      "There are 10077 (26.4%) Hippocampus specific eFeatures!\n",
      "\n",
      "There are 17001 (21.1%) DE exons shared between two brain regions!\n",
      "There are 11513 (14.3%) DE exons shared across three brain regions!\n",
      "There are 8647 (10.7%) DE exons shared across four brain regions!\n",
      "\n",
      "JUNCTIONS\n",
      "There are 3214 (27.1%) Caudate specific eFeatures!\n",
      "There are 4107 (39.4%) Dentate Gyrus specific eFeatures!\n",
      "There are 3917 (31.6%) DLPFC specific eFeatures!\n",
      "There are 3187 (26.7%) Hippocampus specific eFeatures!\n",
      "\n",
      "There are 5323 (20.5%) DE junctions shared between two brain regions!\n",
      "There are 3429 (13.2%) DE junctions shared across three brain regions!\n",
      "There are 2819 (10.8%) DE junctions shared across four brain regions!\n",
      "\n"
     ]
    }
   ],
   "source": [
    "for feature in [\"genes\", \"transcripts\", \"exons\", \"junctions\"]:\n",
    "    get_summary(feature)"
   ]
  },
  {
   "cell_type": "code",
   "execution_count": null,
   "metadata": {},
   "outputs": [],
   "source": []
  }
 ],
 "metadata": {
  "kernelspec": {
   "display_name": "Python 3",
   "language": "python",
   "name": "python3"
  },
  "language_info": {
   "codemirror_mode": {
    "name": "ipython",
    "version": 3
   },
   "file_extension": ".py",
   "mimetype": "text/x-python",
   "name": "python",
   "nbconvert_exporter": "python",
   "pygments_lexer": "ipython3",
   "version": "3.9.1"
  }
 },
 "nbformat": 4,
 "nbformat_minor": 4
}
