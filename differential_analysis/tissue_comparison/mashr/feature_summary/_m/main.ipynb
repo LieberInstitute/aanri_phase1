{
 "cells": [
  {
   "cell_type": "markdown",
   "metadata": {},
   "source": [
    "# Summary of features for interaction analysis"
   ]
  },
  {
   "cell_type": "code",
   "execution_count": 1,
   "metadata": {
    "execution": {
     "iopub.execute_input": "2021-08-23T21:16:40.913036Z",
     "iopub.status.busy": "2021-08-23T21:16:40.911665Z",
     "iopub.status.idle": "2021-08-23T21:16:41.246390Z",
     "shell.execute_reply": "2021-08-23T21:16:41.245056Z"
    }
   },
   "outputs": [],
   "source": [
    "import pandas as pd"
   ]
  },
  {
   "cell_type": "markdown",
   "metadata": {},
   "source": [
    "## Function"
   ]
  },
  {
   "cell_type": "code",
   "execution_count": 2,
   "metadata": {
    "execution": {
     "iopub.execute_input": "2021-08-23T21:16:41.257829Z",
     "iopub.status.busy": "2021-08-23T21:16:41.256499Z",
     "iopub.status.idle": "2021-08-23T21:16:41.259162Z",
     "shell.execute_reply": "2021-08-23T21:16:41.260183Z"
    }
   },
   "outputs": [],
   "source": [
    "def get_summary(feature):\n",
    "    fn = \"../../_m/%s/brainseq_ancestry_4tissues_mashr.tsv\" % feature\n",
    "    df = pd.read_csv(fn, sep='\\t')\n",
    "    cc = df[(df[\"N_Regions_Shared\"] == 1) & (df[\"Caudate\"] == 1)].shape[0]\n",
    "    gg = df[(df[\"N_Regions_Shared\"] == 1) & (df[\"Dentate Gyrus\"] == 1)].shape[0]\n",
    "    dd = df[(df[\"N_Regions_Shared\"] == 1) & (df[\"DLPFC\"] == 1)].shape[0]\n",
    "    hh = df[(df[\"N_Regions_Shared\"] == 1) & (df[\"Hippocampus\"] == 1)].shape[0]\n",
    "    sig = df[(df[\"N_Regions_Shared\"] != 0)].copy()\n",
    "    print(feature.upper())\n",
    "    #print(df.groupby(\"N_Regions_Shared\").size())\n",
    "    print(\"There are %d Caudate specific eFeatures!\" % cc)\n",
    "    print(\"There are %d Dentate Gyrus specific eFeatures!\" % gg)\n",
    "    print(\"There are %d DLPFC specific eFeatures!\" % dd)\n",
    "    print(\"There are %d Hippocampus specific eFeatures!\\n\" % hh)\n",
    "    print(\"There are {} ({:.1%}) DE {} shared between two brain regions!\".format(df.groupby(\"N_Regions_Shared\").size()[2],\n",
    "                                                                                 df.groupby(\"N_Regions_Shared\").size()[2]/sig.shape[0], \n",
    "                                                                                 feature))\n",
    "    print(\"There are {} ({:.1%}) DE {} shared across three brain regions!\".format(df.groupby(\"N_Regions_Shared\").size()[3],\n",
    "                                                                                      df.groupby(\"N_Regions_Shared\").size()[3]/sig.shape[0], \n",
    "                                                                                      feature))\n",
    "    print(\"There are {} ({:.1%}) DE {} shared across four brain regions!\\n\".format(df.groupby(\"N_Regions_Shared\").size()[4],\n",
    "                                                                                       df.groupby(\"N_Regions_Shared\").size()[4]/sig.shape[0], \n",
    "                                                                                       feature))"
   ]
  },
  {
   "cell_type": "markdown",
   "metadata": {},
   "source": [
    "## Summary"
   ]
  },
  {
   "cell_type": "code",
   "execution_count": 3,
   "metadata": {
    "execution": {
     "iopub.execute_input": "2021-08-23T21:16:41.266267Z",
     "iopub.status.busy": "2021-08-23T21:16:41.264995Z",
     "iopub.status.idle": "2021-08-23T21:16:41.718319Z",
     "shell.execute_reply": "2021-08-23T21:16:41.719376Z"
    }
   },
   "outputs": [
    {
     "name": "stdout",
     "output_type": "stream",
     "text": [
      "GENES\n",
      "There are 930 Caudate specific eFeatures!\n",
      "There are 907 Dentate Gyrus specific eFeatures!\n",
      "There are 790 DLPFC specific eFeatures!\n",
      "There are 808 Hippocampus specific eFeatures!\n",
      "\n",
      "There are 2387 (26.6%) DE genes shared between two brain regions!\n",
      "There are 1731 (19.3%) DE genes shared across three brain regions!\n",
      "There are 1434 (16.0%) DE genes shared across four brain regions!\n",
      "\n",
      "TRANSCRIPTS\n",
      "There are 2162 Caudate specific eFeatures!\n",
      "There are 3549 Dentate Gyrus specific eFeatures!\n",
      "There are 2402 DLPFC specific eFeatures!\n",
      "There are 2732 Hippocampus specific eFeatures!\n",
      "\n",
      "There are 6055 (27.3%) DE transcripts shared between two brain regions!\n",
      "There are 3702 (16.7%) DE transcripts shared across three brain regions!\n",
      "There are 1614 (7.3%) DE transcripts shared across four brain regions!\n",
      "\n",
      "EXONS\n",
      "There are 10388 Caudate specific eFeatures!\n",
      "There are 11647 Dentate Gyrus specific eFeatures!\n",
      "There are 11385 DLPFC specific eFeatures!\n",
      "There are 10077 Hippocampus specific eFeatures!\n",
      "\n",
      "There are 17001 (21.1%) DE exons shared between two brain regions!\n",
      "There are 11513 (14.3%) DE exons shared across three brain regions!\n",
      "There are 8647 (10.7%) DE exons shared across four brain regions!\n",
      "\n",
      "JUNCTIONS\n",
      "There are 3214 Caudate specific eFeatures!\n",
      "There are 4107 Dentate Gyrus specific eFeatures!\n",
      "There are 3917 DLPFC specific eFeatures!\n",
      "There are 3187 Hippocampus specific eFeatures!\n",
      "\n",
      "There are 5323 (20.5%) DE junctions shared between two brain regions!\n",
      "There are 3429 (13.2%) DE junctions shared across three brain regions!\n",
      "There are 2819 (10.8%) DE junctions shared across four brain regions!\n",
      "\n"
     ]
    }
   ],
   "source": [
    "for feature in [\"genes\", \"transcripts\", \"exons\", \"junctions\"]:\n",
    "    get_summary(feature)"
   ]
  },
  {
   "cell_type": "code",
   "execution_count": null,
   "metadata": {},
   "outputs": [],
   "source": []
  }
 ],
 "metadata": {
  "kernelspec": {
   "display_name": "Python 3",
   "language": "python",
   "name": "python3"
  },
  "language_info": {
   "codemirror_mode": {
    "name": "ipython",
    "version": 3
   },
   "file_extension": ".py",
   "mimetype": "text/x-python",
   "name": "python",
   "nbconvert_exporter": "python",
   "pygments_lexer": "ipython3",
   "version": "3.9.1"
  }
 },
 "nbformat": 4,
 "nbformat_minor": 4
}
