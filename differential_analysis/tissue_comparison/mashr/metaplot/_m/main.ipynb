{
 "cells": [
  {
   "cell_type": "markdown",
   "metadata": {},
   "source": [
    "# Examine discordant plots with mashr"
   ]
  },
  {
   "cell_type": "code",
   "execution_count": 1,
   "metadata": {
    "execution": {
     "iopub.execute_input": "2021-08-24T01:22:48.744441Z",
     "iopub.status.busy": "2021-08-24T01:22:48.741304Z",
     "iopub.status.idle": "2021-08-24T01:22:50.258137Z",
     "shell.execute_reply": "2021-08-24T01:22:50.256601Z"
    }
   },
   "outputs": [
    {
     "name": "stderr",
     "output_type": "stream",
     "text": [
      "\n",
      "Attaching package: ‘dplyr’\n",
      "\n",
      "\n",
      "The following objects are masked from ‘package:stats’:\n",
      "\n",
      "    filter, lag\n",
      "\n",
      "\n",
      "The following objects are masked from ‘package:base’:\n",
      "\n",
      "    intersect, setdiff, setequal, union\n",
      "\n",
      "\n",
      "Loading required package: ashr\n",
      "\n"
     ]
    }
   ],
   "source": [
    "library(dplyr)\n",
    "library(mashr)"
   ]
  },
  {
   "cell_type": "code",
   "execution_count": 2,
   "metadata": {
    "execution": {
     "iopub.execute_input": "2021-08-24T01:22:50.296569Z",
     "iopub.status.busy": "2021-08-24T01:22:50.263443Z",
     "iopub.status.idle": "2021-08-24T01:22:50.506966Z",
     "shell.execute_reply": "2021-08-24T01:22:50.505647Z"
    }
   },
   "outputs": [],
   "source": [
    "load(\"../../_m/genes/mashr_meta_results.RData\")\n",
    "labs = c(\"Caudate\", \"Dentate Gyrus\", \"DLPFC\", \"Hippocampus\")"
   ]
  },
  {
   "cell_type": "markdown",
   "metadata": {},
   "source": [
    "## Generate metaplots"
   ]
  },
  {
   "cell_type": "markdown",
   "metadata": {},
   "source": [
    "### Interaction model"
   ]
  },
  {
   "cell_type": "code",
   "execution_count": 3,
   "metadata": {
    "execution": {
     "iopub.execute_input": "2021-08-24T01:22:50.513229Z",
     "iopub.status.busy": "2021-08-24T01:22:50.511952Z",
     "iopub.status.idle": "2021-08-24T01:22:50.996501Z",
     "shell.execute_reply": "2021-08-24T01:22:50.995150Z"
    }
   },
   "outputs": [
    {
     "name": "stdout",
     "output_type": "stream",
     "text": [
      "      Caudate Dentate Gyrus         DLPFC   Hippocampus \n",
      " -0.001690241  -0.847451830  -0.139797758  -0.114973805 \n"
     ]
    },
    {
     "data": {
      "text/html": [
       "<dl>\n",
       "\t<dt>$png</dt>\n",
       "\t\t<dd>'figures/metaplot_LRRK1.png'</dd>\n",
       "\t<dt>$pdf</dt>\n",
       "\t\t<dd>'figures/metaplot_LRRK1.pdf'</dd>\n",
       "</dl>\n"
      ],
      "text/latex": [
       "\\begin{description}\n",
       "\\item[\\$png] 'figures/metaplot\\_LRRK1.png'\n",
       "\\item[\\$pdf] 'figures/metaplot\\_LRRK1.pdf'\n",
       "\\end{description}\n"
      ],
      "text/markdown": [
       "$png\n",
       ":   'figures/metaplot_LRRK1.png'\n",
       "$pdf\n",
       ":   'figures/metaplot_LRRK1.pdf'\n",
       "\n",
       "\n"
      ],
      "text/plain": [
       "$png\n",
       "[1] \"figures/metaplot_LRRK1.png\"\n",
       "\n",
       "$pdf\n",
       "[1] \"figures/metaplot_LRRK1.pdf\"\n"
      ]
     },
     "metadata": {},
     "output_type": "display_data"
    }
   ],
   "source": [
    "print(m$result$PosteriorMean[\"ENSG00000154237.12\",])\n",
    "R.devices::devEval(c(\"png\", \"pdf\"), name=\"metaplot_LRRK1\", {\n",
    "    mash_plot_meta(m, get_significant_results(m)[\"ENSG00000154237.12\"], \n",
    "                   ylab=\"\", xlim=c(-1.5, 1.5), labels=labs)\n",
    "})"
   ]
  },
  {
   "cell_type": "code",
   "execution_count": 4,
   "metadata": {
    "execution": {
     "iopub.execute_input": "2021-08-24T01:22:51.002541Z",
     "iopub.status.busy": "2021-08-24T01:22:51.001283Z",
     "iopub.status.idle": "2021-08-24T01:22:51.345245Z",
     "shell.execute_reply": "2021-08-24T01:22:51.343951Z"
    }
   },
   "outputs": [
    {
     "name": "stdout",
     "output_type": "stream",
     "text": [
      "      Caudate Dentate Gyrus         DLPFC   Hippocampus \n",
      "    0.3406456    -0.6868438     0.4267937     0.3528242 \n"
     ]
    },
    {
     "data": {
      "text/html": [
       "<dl>\n",
       "\t<dt>$png</dt>\n",
       "\t\t<dd>'figures/metaplot_WIF1.png'</dd>\n",
       "\t<dt>$pdf</dt>\n",
       "\t\t<dd>'figures/metaplot_WIF1.pdf'</dd>\n",
       "</dl>\n"
      ],
      "text/latex": [
       "\\begin{description}\n",
       "\\item[\\$png] 'figures/metaplot\\_WIF1.png'\n",
       "\\item[\\$pdf] 'figures/metaplot\\_WIF1.pdf'\n",
       "\\end{description}\n"
      ],
      "text/markdown": [
       "$png\n",
       ":   'figures/metaplot_WIF1.png'\n",
       "$pdf\n",
       ":   'figures/metaplot_WIF1.pdf'\n",
       "\n",
       "\n"
      ],
      "text/plain": [
       "$png\n",
       "[1] \"figures/metaplot_WIF1.png\"\n",
       "\n",
       "$pdf\n",
       "[1] \"figures/metaplot_WIF1.pdf\"\n"
      ]
     },
     "metadata": {},
     "output_type": "display_data"
    }
   ],
   "source": [
    "print(m$result$PosteriorMean[\"ENSG00000156076.9\",])\n",
    "R.devices::devEval(c(\"png\", \"pdf\"), name=\"metaplot_WIF1\", {\n",
    "    mash_plot_meta(m, get_significant_results(m)[\"ENSG00000156076.9\"], \n",
    "                   ylab=\"\", xlim=c(-1.5, 1.5), labels=labs)\n",
    "})"
   ]
  },
  {
   "cell_type": "code",
   "execution_count": 5,
   "metadata": {
    "execution": {
     "iopub.execute_input": "2021-08-24T01:22:51.352072Z",
     "iopub.status.busy": "2021-08-24T01:22:51.350287Z",
     "iopub.status.idle": "2021-08-24T01:22:51.613439Z",
     "shell.execute_reply": "2021-08-24T01:22:51.612124Z"
    }
   },
   "outputs": [
    {
     "name": "stdout",
     "output_type": "stream",
     "text": [
      "      Caudate Dentate Gyrus         DLPFC   Hippocampus \n",
      "  -0.16576285    0.88211766   -0.02449369    0.09022575 \n"
     ]
    },
    {
     "data": {
      "text/html": [
       "<dl>\n",
       "\t<dt>$png</dt>\n",
       "\t\t<dd>'figures/metaplot_GRIN3A.png'</dd>\n",
       "\t<dt>$pdf</dt>\n",
       "\t\t<dd>'figures/metaplot_GRIN3A.pdf'</dd>\n",
       "</dl>\n"
      ],
      "text/latex": [
       "\\begin{description}\n",
       "\\item[\\$png] 'figures/metaplot\\_GRIN3A.png'\n",
       "\\item[\\$pdf] 'figures/metaplot\\_GRIN3A.pdf'\n",
       "\\end{description}\n"
      ],
      "text/markdown": [
       "$png\n",
       ":   'figures/metaplot_GRIN3A.png'\n",
       "$pdf\n",
       ":   'figures/metaplot_GRIN3A.pdf'\n",
       "\n",
       "\n"
      ],
      "text/plain": [
       "$png\n",
       "[1] \"figures/metaplot_GRIN3A.png\"\n",
       "\n",
       "$pdf\n",
       "[1] \"figures/metaplot_GRIN3A.pdf\"\n"
      ]
     },
     "metadata": {},
     "output_type": "display_data"
    }
   ],
   "source": [
    "print(m$result$PosteriorMean[\"ENSG00000198785.4\",])\n",
    "R.devices::devEval(c(\"png\", \"pdf\"), name=\"metaplot_GRIN3A\", {\n",
    "    mash_plot_meta(m, get_significant_results(m)[\"ENSG00000198785.4\"], \n",
    "                   ylab=\"\", xlim=c(-1.5, 1.5), labels=labs)\n",
    "})"
   ]
  },
  {
   "cell_type": "code",
   "execution_count": 6,
   "metadata": {
    "execution": {
     "iopub.execute_input": "2021-08-24T01:22:51.624957Z",
     "iopub.status.busy": "2021-08-24T01:22:51.623638Z",
     "iopub.status.idle": "2021-08-24T01:22:51.818572Z",
     "shell.execute_reply": "2021-08-24T01:22:51.817307Z"
    }
   },
   "outputs": [
    {
     "name": "stdout",
     "output_type": "stream",
     "text": [
      "      Caudate Dentate Gyrus         DLPFC   Hippocampus \n",
      "    1.8142698    -0.0430491     0.7540760     0.8479841 \n"
     ]
    },
    {
     "data": {
      "text/html": [
       "<dl>\n",
       "\t<dt>$png</dt>\n",
       "\t\t<dd>'figures/metaplot_NKAIN1.png'</dd>\n",
       "\t<dt>$pdf</dt>\n",
       "\t\t<dd>'figures/metaplot_NKAIN1.pdf'</dd>\n",
       "</dl>\n"
      ],
      "text/latex": [
       "\\begin{description}\n",
       "\\item[\\$png] 'figures/metaplot\\_NKAIN1.png'\n",
       "\\item[\\$pdf] 'figures/metaplot\\_NKAIN1.pdf'\n",
       "\\end{description}\n"
      ],
      "text/markdown": [
       "$png\n",
       ":   'figures/metaplot_NKAIN1.png'\n",
       "$pdf\n",
       ":   'figures/metaplot_NKAIN1.pdf'\n",
       "\n",
       "\n"
      ],
      "text/plain": [
       "$png\n",
       "[1] \"figures/metaplot_NKAIN1.png\"\n",
       "\n",
       "$pdf\n",
       "[1] \"figures/metaplot_NKAIN1.pdf\"\n"
      ]
     },
     "metadata": {},
     "output_type": "display_data"
    }
   ],
   "source": [
    "print(m$result$PosteriorMean[\"ENSG00000084628.9\",])\n",
    "R.devices::devEval(c(\"png\", \"pdf\"), name=\"metaplot_NKAIN1\", {\n",
    "    mash_plot_meta(m, get_significant_results(m)[\"ENSG00000084628.9\"], \n",
    "                   ylab=\"\", xlim=c(-1.5, 1.5), labels=labs)\n",
    "})"
   ]
  },
  {
   "cell_type": "markdown",
   "metadata": {},
   "source": [
    "### Tissue specific"
   ]
  },
  {
   "cell_type": "code",
   "execution_count": 7,
   "metadata": {
    "execution": {
     "iopub.execute_input": "2021-08-24T01:22:51.824555Z",
     "iopub.status.busy": "2021-08-24T01:22:51.823305Z",
     "iopub.status.idle": "2021-08-24T01:22:52.026556Z",
     "shell.execute_reply": "2021-08-24T01:22:52.024965Z"
    }
   },
   "outputs": [
    {
     "name": "stdout",
     "output_type": "stream",
     "text": [
      "      Caudate Dentate Gyrus         DLPFC   Hippocampus \n",
      "  -0.91581948   -0.08091849   -0.10940589   -0.19317280 \n"
     ]
    },
    {
     "data": {
      "text/html": [
       "<dl>\n",
       "\t<dt>$png</dt>\n",
       "\t\t<dd>'figures/metaplot_PDE1A_caudate.png'</dd>\n",
       "\t<dt>$pdf</dt>\n",
       "\t\t<dd>'figures/metaplot_PDE1A_caudate.pdf'</dd>\n",
       "</dl>\n"
      ],
      "text/latex": [
       "\\begin{description}\n",
       "\\item[\\$png] 'figures/metaplot\\_PDE1A\\_caudate.png'\n",
       "\\item[\\$pdf] 'figures/metaplot\\_PDE1A\\_caudate.pdf'\n",
       "\\end{description}\n"
      ],
      "text/markdown": [
       "$png\n",
       ":   'figures/metaplot_PDE1A_caudate.png'\n",
       "$pdf\n",
       ":   'figures/metaplot_PDE1A_caudate.pdf'\n",
       "\n",
       "\n"
      ],
      "text/plain": [
       "$png\n",
       "[1] \"figures/metaplot_PDE1A_caudate.png\"\n",
       "\n",
       "$pdf\n",
       "[1] \"figures/metaplot_PDE1A_caudate.pdf\"\n"
      ]
     },
     "metadata": {},
     "output_type": "display_data"
    }
   ],
   "source": [
    "print(m$result$PosteriorMean[\"ENSG00000115252.18\",])\n",
    "R.devices::devEval(c(\"png\", \"pdf\"), name=\"metaplot_PDE1A_caudate\", {\n",
    "    mash_plot_meta(m, get_significant_results(m)[\"ENSG00000115252.18\"], \n",
    "                   ylab=\"\", xlim=c(-1.5, 1.5), labels=labs)\n",
    "})"
   ]
  },
  {
   "cell_type": "code",
   "execution_count": 8,
   "metadata": {
    "execution": {
     "iopub.execute_input": "2021-08-24T01:22:52.032590Z",
     "iopub.status.busy": "2021-08-24T01:22:52.031333Z",
     "iopub.status.idle": "2021-08-24T01:22:52.226350Z",
     "shell.execute_reply": "2021-08-24T01:22:52.225071Z"
    }
   },
   "outputs": [
    {
     "name": "stdout",
     "output_type": "stream",
     "text": [
      "      Caudate Dentate Gyrus         DLPFC   Hippocampus \n",
      "   -0.2336895    -0.6044583    -0.1567356    -0.1979330 \n"
     ]
    },
    {
     "data": {
      "text/html": [
       "<dl>\n",
       "\t<dt>$png</dt>\n",
       "\t\t<dd>'figures/metaplot_EMX2OS_dg.png'</dd>\n",
       "\t<dt>$pdf</dt>\n",
       "\t\t<dd>'figures/metaplot_EMX2OS_dg.pdf'</dd>\n",
       "</dl>\n"
      ],
      "text/latex": [
       "\\begin{description}\n",
       "\\item[\\$png] 'figures/metaplot\\_EMX2OS\\_dg.png'\n",
       "\\item[\\$pdf] 'figures/metaplot\\_EMX2OS\\_dg.pdf'\n",
       "\\end{description}\n"
      ],
      "text/markdown": [
       "$png\n",
       ":   'figures/metaplot_EMX2OS_dg.png'\n",
       "$pdf\n",
       ":   'figures/metaplot_EMX2OS_dg.pdf'\n",
       "\n",
       "\n"
      ],
      "text/plain": [
       "$png\n",
       "[1] \"figures/metaplot_EMX2OS_dg.png\"\n",
       "\n",
       "$pdf\n",
       "[1] \"figures/metaplot_EMX2OS_dg.pdf\"\n"
      ]
     },
     "metadata": {},
     "output_type": "display_data"
    }
   ],
   "source": [
    "print(m$result$PosteriorMean[\"ENSG00000229847.8\",])\n",
    "R.devices::devEval(c(\"png\", \"pdf\"), name=\"metaplot_EMX2OS_dg\", {\n",
    "    mash_plot_meta(m, get_significant_results(m)[\"ENSG00000229847.8\"], \n",
    "                   ylab=\"\", xlim=c(-1.5, 1.5), labels=labs)\n",
    "})"
   ]
  },
  {
   "cell_type": "code",
   "execution_count": 9,
   "metadata": {
    "execution": {
     "iopub.execute_input": "2021-08-24T01:22:52.232326Z",
     "iopub.status.busy": "2021-08-24T01:22:52.231082Z",
     "iopub.status.idle": "2021-08-24T01:22:52.434284Z",
     "shell.execute_reply": "2021-08-24T01:22:52.433036Z"
    }
   },
   "outputs": [
    {
     "name": "stdout",
     "output_type": "stream",
     "text": [
      "      Caudate Dentate Gyrus         DLPFC   Hippocampus \n",
      "  -0.09317784   -0.03110818   -0.15314163   -0.08099345 \n"
     ]
    },
    {
     "data": {
      "text/html": [
       "<dl>\n",
       "\t<dt>$png</dt>\n",
       "\t\t<dd>'figures/metaplot_PSPH_dlpfc.png'</dd>\n",
       "\t<dt>$pdf</dt>\n",
       "\t\t<dd>'figures/metaplot_PSPH_dlpfc.pdf'</dd>\n",
       "</dl>\n"
      ],
      "text/latex": [
       "\\begin{description}\n",
       "\\item[\\$png] 'figures/metaplot\\_PSPH\\_dlpfc.png'\n",
       "\\item[\\$pdf] 'figures/metaplot\\_PSPH\\_dlpfc.pdf'\n",
       "\\end{description}\n"
      ],
      "text/markdown": [
       "$png\n",
       ":   'figures/metaplot_PSPH_dlpfc.png'\n",
       "$pdf\n",
       ":   'figures/metaplot_PSPH_dlpfc.pdf'\n",
       "\n",
       "\n"
      ],
      "text/plain": [
       "$png\n",
       "[1] \"figures/metaplot_PSPH_dlpfc.png\"\n",
       "\n",
       "$pdf\n",
       "[1] \"figures/metaplot_PSPH_dlpfc.pdf\"\n"
      ]
     },
     "metadata": {},
     "output_type": "display_data"
    }
   ],
   "source": [
    "print(m$result$PosteriorMean[\"ENSG00000146733.13\",])\n",
    "R.devices::devEval(c(\"png\", \"pdf\"), name=\"metaplot_PSPH_dlpfc\", {\n",
    "    mash_plot_meta(m, get_significant_results(m)[\"ENSG00000146733.13\"], \n",
    "                   ylab=\"\", xlim=c(-0.6, 0.6), labels=labs)\n",
    "})"
   ]
  },
  {
   "cell_type": "code",
   "execution_count": 10,
   "metadata": {
    "execution": {
     "iopub.execute_input": "2021-08-24T01:22:52.440248Z",
     "iopub.status.busy": "2021-08-24T01:22:52.438947Z",
     "iopub.status.idle": "2021-08-24T01:22:52.637297Z",
     "shell.execute_reply": "2021-08-24T01:22:52.636041Z"
    }
   },
   "outputs": [
    {
     "name": "stdout",
     "output_type": "stream",
     "text": [
      "      Caudate Dentate Gyrus         DLPFC   Hippocampus \n",
      "  -0.06596027   -0.01336499   -0.05620551   -0.05845180 \n"
     ]
    },
    {
     "data": {
      "text/html": [
       "<dl>\n",
       "\t<dt>$png</dt>\n",
       "\t\t<dd>'figures/metaplot_PLRG1_hippocampus.png'</dd>\n",
       "\t<dt>$pdf</dt>\n",
       "\t\t<dd>'figures/metaplot_PLRG1_hippocampus.pdf'</dd>\n",
       "</dl>\n"
      ],
      "text/latex": [
       "\\begin{description}\n",
       "\\item[\\$png] 'figures/metaplot\\_PLRG1\\_hippocampus.png'\n",
       "\\item[\\$pdf] 'figures/metaplot\\_PLRG1\\_hippocampus.pdf'\n",
       "\\end{description}\n"
      ],
      "text/markdown": [
       "$png\n",
       ":   'figures/metaplot_PLRG1_hippocampus.png'\n",
       "$pdf\n",
       ":   'figures/metaplot_PLRG1_hippocampus.pdf'\n",
       "\n",
       "\n"
      ],
      "text/plain": [
       "$png\n",
       "[1] \"figures/metaplot_PLRG1_hippocampus.png\"\n",
       "\n",
       "$pdf\n",
       "[1] \"figures/metaplot_PLRG1_hippocampus.pdf\"\n"
      ]
     },
     "metadata": {},
     "output_type": "display_data"
    }
   ],
   "source": [
    "print(m$result$PosteriorMean[\"ENSG00000171566.11\",])\n",
    "R.devices::devEval(c(\"png\", \"pdf\"), name=\"metaplot_PLRG1_hippocampus\", {\n",
    "    mash_plot_meta(m, get_significant_results(m)[\"ENSG00000171566.11\"], \n",
    "                   ylab=\"\", xlim=c(-0.6, 0.6), labels=labs)\n",
    "})"
   ]
  },
  {
   "cell_type": "markdown",
   "metadata": {},
   "source": [
    "## Reproducibility"
   ]
  },
  {
   "cell_type": "code",
   "execution_count": 11,
   "metadata": {
    "execution": {
     "iopub.execute_input": "2021-08-24T01:22:52.643420Z",
     "iopub.status.busy": "2021-08-24T01:22:52.642168Z",
     "iopub.status.idle": "2021-08-24T01:22:53.014230Z",
     "shell.execute_reply": "2021-08-24T01:22:53.012239Z"
    }
   },
   "outputs": [
    {
     "data": {
      "text/plain": [
       "[1] \"2021-08-23 21:22:52 EDT\""
      ]
     },
     "metadata": {},
     "output_type": "display_data"
    },
    {
     "data": {
      "text/plain": [
       "   user  system elapsed \n",
       "  4.258   0.253   4.776 "
      ]
     },
     "metadata": {},
     "output_type": "display_data"
    },
    {
     "data": {
      "text/plain": [
       "─ Session info ───────────────────────────────────────────────────────────────────────────────────────────────────────\n",
       " setting  value                       \n",
       " version  R version 4.0.3 (2020-10-10)\n",
       " os       Arch Linux                  \n",
       " system   x86_64, linux-gnu           \n",
       " ui       X11                         \n",
       " language (EN)                        \n",
       " collate  en_US.UTF-8                 \n",
       " ctype    en_US.UTF-8                 \n",
       " tz       America/New_York            \n",
       " date     2021-08-23                  \n",
       "\n",
       "─ Packages ───────────────────────────────────────────────────────────────────────────────────────────────────────────\n",
       " package     * version  date       lib source                            \n",
       " abind         1.4-5    2016-07-21 [1] CRAN (R 4.0.2)                    \n",
       " ashr        * 2.2-51   2021-07-22 [1] Github (stephens999/ashr@23ba36a) \n",
       " assertthat    0.2.1    2019-03-21 [1] CRAN (R 4.0.2)                    \n",
       " base64enc     0.1-3    2015-07-28 [1] CRAN (R 4.0.2)                    \n",
       " Cairo         1.5-12.2 2020-07-07 [1] CRAN (R 4.0.2)                    \n",
       " cli           3.0.0    2021-06-30 [1] CRAN (R 4.0.3)                    \n",
       " crayon        1.4.1    2021-02-08 [1] CRAN (R 4.0.3)                    \n",
       " DBI           1.1.1    2021-01-15 [1] CRAN (R 4.0.2)                    \n",
       " digest        0.6.27   2020-10-24 [1] CRAN (R 4.0.2)                    \n",
       " dplyr       * 1.0.7    2021-06-18 [1] CRAN (R 4.0.3)                    \n",
       " ellipsis      0.3.2    2021-04-29 [1] CRAN (R 4.0.3)                    \n",
       " evaluate      0.14     2019-05-28 [1] CRAN (R 4.0.2)                    \n",
       " fansi         0.5.0    2021-05-25 [1] CRAN (R 4.0.3)                    \n",
       " generics      0.1.0    2020-10-31 [1] CRAN (R 4.0.2)                    \n",
       " glue          1.4.2    2020-08-27 [1] CRAN (R 4.0.2)                    \n",
       " htmltools     0.5.1.1  2021-01-22 [1] CRAN (R 4.0.2)                    \n",
       " invgamma      1.1      2017-05-07 [1] CRAN (R 4.0.3)                    \n",
       " IRdisplay     1.0      2021-01-20 [1] CRAN (R 4.0.2)                    \n",
       " IRkernel      1.2      2021-05-11 [1] CRAN (R 4.0.3)                    \n",
       " irlba         2.3.3    2019-02-05 [1] CRAN (R 4.0.2)                    \n",
       " jsonlite      1.7.2    2020-12-09 [1] CRAN (R 4.0.2)                    \n",
       " lattice       0.20-41  2020-04-02 [2] CRAN (R 4.0.3)                    \n",
       " lifecycle     1.0.0    2021-02-15 [1] CRAN (R 4.0.3)                    \n",
       " magrittr      2.0.1    2020-11-17 [1] CRAN (R 4.0.2)                    \n",
       " mashr       * 0.2.50   2021-07-22 [1] Github (stephenslab/mashr@a54162b)\n",
       " Matrix        1.3-4    2021-06-01 [1] CRAN (R 4.0.3)                    \n",
       " mixsqp        0.3-43   2020-05-14 [1] CRAN (R 4.0.3)                    \n",
       " mvtnorm       1.1-2    2021-06-07 [1] CRAN (R 4.0.3)                    \n",
       " pbdZMQ        0.3-5    2021-02-10 [1] CRAN (R 4.0.3)                    \n",
       " pillar        1.6.1    2021-05-16 [1] CRAN (R 4.0.3)                    \n",
       " pkgconfig     2.0.3    2019-09-22 [1] CRAN (R 4.0.2)                    \n",
       " plyr          1.8.6    2020-03-03 [1] CRAN (R 4.0.2)                    \n",
       " purrr         0.3.4    2020-04-17 [1] CRAN (R 4.0.2)                    \n",
       " R.devices     2.17.0   2021-01-19 [1] CRAN (R 4.0.3)                    \n",
       " R.methodsS3   1.8.1    2020-08-26 [1] CRAN (R 4.0.3)                    \n",
       " R.oo          1.24.0   2020-08-26 [1] CRAN (R 4.0.3)                    \n",
       " R.utils       2.10.1   2020-08-26 [1] CRAN (R 4.0.3)                    \n",
       " R6            2.5.0    2020-10-28 [1] CRAN (R 4.0.2)                    \n",
       " Rcpp          1.0.7    2021-07-07 [1] CRAN (R 4.0.3)                    \n",
       " repr          1.1.3    2021-01-21 [1] CRAN (R 4.0.2)                    \n",
       " rlang         0.4.11   2021-04-30 [1] CRAN (R 4.0.3)                    \n",
       " rmeta         3.0      2018-03-20 [1] CRAN (R 4.0.3)                    \n",
       " sessioninfo   1.1.1    2018-11-05 [1] CRAN (R 4.0.2)                    \n",
       " softImpute    1.4-1    2021-05-09 [1] CRAN (R 4.0.3)                    \n",
       " SQUAREM       2021.1   2021-01-13 [1] CRAN (R 4.0.3)                    \n",
       " tibble        3.1.2    2021-05-16 [1] CRAN (R 4.0.3)                    \n",
       " tidyselect    1.1.1    2021-04-30 [1] CRAN (R 4.0.3)                    \n",
       " truncnorm     1.0-8    2018-02-27 [1] CRAN (R 4.0.3)                    \n",
       " utf8          1.2.1    2021-03-12 [1] CRAN (R 4.0.3)                    \n",
       " uuid          0.1-4    2020-02-26 [1] CRAN (R 4.0.2)                    \n",
       " vctrs         0.3.8    2021-04-29 [1] CRAN (R 4.0.3)                    \n",
       " withr         2.4.2    2021-04-18 [1] CRAN (R 4.0.3)                    \n",
       "\n",
       "[1] /home/jbenja13/R/x86_64-pc-linux-gnu-library/4.0\n",
       "[2] /usr/lib/R/library"
      ]
     },
     "metadata": {},
     "output_type": "display_data"
    }
   ],
   "source": [
    "Sys.time()\n",
    "proc.time()\n",
    "options(width=120)\n",
    "sessioninfo::session_info()"
   ]
  }
 ],
 "metadata": {
  "kernelspec": {
   "display_name": "R",
   "language": "R",
   "name": "ir"
  },
  "language_info": {
   "codemirror_mode": "r",
   "file_extension": ".r",
   "mimetype": "text/x-r-source",
   "name": "R",
   "pygments_lexer": "r",
   "version": "4.0.3"
  }
 },
 "nbformat": 4,
 "nbformat_minor": 4
}
