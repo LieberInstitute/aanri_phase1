{
 "cells": [
  {
   "cell_type": "markdown",
   "metadata": {},
   "source": [
    "# Summary of interacting cis-eQTL analysis"
   ]
  },
  {
   "cell_type": "code",
   "execution_count": 1,
   "metadata": {
    "execution": {
     "iopub.execute_input": "2021-09-27T16:55:42.060004Z",
     "iopub.status.busy": "2021-09-27T16:55:42.058576Z",
     "iopub.status.idle": "2021-09-27T16:55:42.423212Z",
     "shell.execute_reply": "2021-09-27T16:55:42.421804Z"
    }
   },
   "outputs": [],
   "source": [
    "import functools\n",
    "import pandas as pd"
   ]
  },
  {
   "cell_type": "markdown",
   "metadata": {},
   "source": [
    "## Functions"
   ]
  },
  {
   "cell_type": "markdown",
   "metadata": {},
   "source": [
    "### Cached functions"
   ]
  },
  {
   "cell_type": "code",
   "execution_count": 2,
   "metadata": {
    "execution": {
     "iopub.execute_input": "2021-09-27T16:55:42.432918Z",
     "iopub.status.busy": "2021-09-27T16:55:42.431603Z",
     "iopub.status.idle": "2021-09-27T16:55:42.434235Z",
     "shell.execute_reply": "2021-09-27T16:55:42.435261Z"
    }
   },
   "outputs": [],
   "source": [
    "@functools.lru_cache()\n",
    "def get_mashr_degs(feature, tissue):\n",
    "    df = pd.read_csv(\"../../_m/%s/lfsr_feature_4tissues.txt.gz\" % feature, \n",
    "                     sep='\\t').loc[:, [\"Effect\", tissue]]\n",
    "    return df[(df[tissue] < 0.05)].rename(columns={tissue: \"lfsr\"})\n",
    "\n",
    "\n",
    "@functools.lru_cache()\n",
    "def annotate_degs(feature, tissue):\n",
    "    config = {\n",
    "        \"genes\": \"/ceph/projects/v4_phase3_paper/inputs/counts/text_files_counts/_m/caudate/gene_annotation.tsv\",\n",
    "        \"transcripts\": \"/ceph/projects/v4_phase3_paper/inputs/counts/text_files_counts/_m/caudate/tx_annotation.tsv\", \n",
    "        \"exons\": \"/ceph/projects/v4_phase3_paper/inputs/counts/text_files_counts/_m/caudate/exon_annotation.tsv\",\n",
    "        \"junctions\": \"/ceph/projects/v4_phase3_paper/inputs/counts/text_files_counts/_m/caudate/jxn_annotation.tsv\",\n",
    "    }\n",
    "    annot = pd.read_csv(config[feature], sep='\\t').loc[:, [\"names\", \"seqnames\", \"gencodeID\"]]\n",
    "    return get_mashr_degs(feature, tissue).merge(annot, left_on=\"Effect\", \n",
    "                                                 right_on=\"names\").drop([\"names\"], axis=1)\n"
   ]
  },
  {
   "cell_type": "markdown",
   "metadata": {},
   "source": [
    "### Simple functions"
   ]
  },
  {
   "cell_type": "code",
   "execution_count": 3,
   "metadata": {
    "execution": {
     "iopub.execute_input": "2021-09-27T16:55:42.446001Z",
     "iopub.status.busy": "2021-09-27T16:55:42.444696Z",
     "iopub.status.idle": "2021-09-27T16:55:42.448491Z",
     "shell.execute_reply": "2021-09-27T16:55:42.447336Z"
    }
   },
   "outputs": [],
   "source": [
    "def extract_features(tissue):\n",
    "    ## Extract significant eQTL using mashr\n",
    "    genes = annotate_degs(\"genes\", tissue)\n",
    "    trans = annotate_degs(\"transcripts\", tissue)\n",
    "    exons = annotate_degs(\"exons\", tissue)\n",
    "    juncs = annotate_degs(\"junctions\", tissue)\n",
    "    return genes, trans, exons, juncs\n",
    "\n",
    "\n",
    "def output_summary(tissue, variable):\n",
    "    ## Extract eQTL using mashr\n",
    "    genes, trans, exons, juncs = extract_features(tissue)\n",
    "    ## Total significant eQTLs\n",
    "    gg = len(set(genes[variable]))\n",
    "    tt = len(set(trans[variable]))\n",
    "    ee = len(set(exons[variable]))\n",
    "    jj = len(set(juncs[variable]))\n",
    "    print(\"\\nGene:\\t\\t%d\\nTranscript:\\t%d\\nExon:\\t\\t%d\\nJunction:\\t%d\" % \n",
    "          (gg, tt, ee, jj)) \n",
    "    \n",
    "    \n",
    "def get_DEGs_result_by_tissue(tissue):\n",
    "    genes, trans, exons, juncs = extract_features(tissue)\n",
    "    genes[\"Type\"] = \"Gene\"\n",
    "    trans[\"Type\"] = \"Transcript\"\n",
    "    exons[\"Type\"] = \"Exon\"\n",
    "    juncs[\"Type\"] = \"Junction\"\n",
    "    df = pd.concat([genes, trans, exons, juncs])\n",
    "    df[\"Type\"] = df.Type.astype(\"category\").cat.reorder_categories([\"Gene\", \"Transcript\", \"Exon\", \"Junction\"])\n",
    "    df[\"Tissue\"] = tissue.replace(\".\", \" \")\n",
    "    return df"
   ]
  },
  {
   "cell_type": "markdown",
   "metadata": {},
   "source": [
    "## Feature Summary"
   ]
  },
  {
   "cell_type": "markdown",
   "metadata": {},
   "source": [
    "### Summarize results mashr (local false sign rate < 0.05)"
   ]
  },
  {
   "cell_type": "code",
   "execution_count": 4,
   "metadata": {
    "execution": {
     "iopub.execute_input": "2021-09-27T16:55:42.455847Z",
     "iopub.status.busy": "2021-09-27T16:55:42.454582Z",
     "iopub.status.idle": "2021-09-27T16:56:00.137523Z",
     "shell.execute_reply": "2021-09-27T16:56:00.138574Z"
    }
   },
   "outputs": [
    {
     "name": "stdout",
     "output_type": "stream",
     "text": [
      "\n",
      "Caudate\n",
      "\n",
      "Features\n",
      "\n",
      "Gene:\t\t4979\n",
      "Transcript:\t8951\n",
      "Exon:\t\t38057\n",
      "Junction:\t11841\n",
      "\n",
      "Geneid\n",
      "\n",
      "Gene:\t\t4979\n",
      "Transcript:\t6071\n",
      "Exon:\t\t10195\n",
      "Junction:\t4722\n",
      "\n",
      "Dentate.Gyrus\n",
      "\n",
      "Features\n",
      "\n",
      "Gene:\t\t4170\n",
      "Transcript:\t10578\n",
      "Exon:\t\t31058\n",
      "Junction:\t10435\n",
      "\n",
      "Geneid\n",
      "\n",
      "Gene:\t\t4170\n",
      "Transcript:\t6971\n",
      "Exon:\t\t9393\n",
      "Junction:\t4635\n",
      "\n",
      "DLPFC\n",
      "\n",
      "Features\n",
      "\n",
      "Gene:\t\t4960\n",
      "Transcript:\t10229\n",
      "Exon:\t\t39318\n",
      "Junction:\t12404\n",
      "\n",
      "Geneid\n",
      "\n",
      "Gene:\t\t4960\n",
      "Transcript:\t6787\n",
      "Exon:\t\t10529\n",
      "Junction:\t5087\n",
      "\n",
      "Hippocampus\n",
      "\n",
      "Features\n",
      "\n",
      "Gene:\t\t5029\n",
      "Transcript:\t10759\n",
      "Exon:\t\t38193\n",
      "Junction:\t11954\n",
      "\n",
      "Geneid\n",
      "\n",
      "Gene:\t\t5029\n",
      "Transcript:\t6945\n",
      "Exon:\t\t10312\n",
      "Junction:\t4868\n"
     ]
    }
   ],
   "source": [
    "for tissue in [\"Caudate\", \"Dentate.Gyrus\", \"DLPFC\", \"Hippocampus\"]:\n",
    "    print(\"\")\n",
    "    print(tissue)\n",
    "    ## significant Features\n",
    "    print(\"\\nFeatures\")\n",
    "    output_summary(tissue, \"Effect\")\n",
    "    print(\"\\nGeneid\")\n",
    "    ## significant Geneid\n",
    "    output_summary(tissue, \"gencodeID\")"
   ]
  },
  {
   "cell_type": "code",
   "execution_count": 5,
   "metadata": {
    "execution": {
     "iopub.execute_input": "2021-09-27T16:56:00.148247Z",
     "iopub.status.busy": "2021-09-27T16:56:00.146903Z",
     "iopub.status.idle": "2021-09-27T16:56:00.252392Z",
     "shell.execute_reply": "2021-09-27T16:56:00.251291Z"
    }
   },
   "outputs": [],
   "source": [
    "caud8 = get_DEGs_result_by_tissue(\"Caudate\")\n",
    "gyrus = get_DEGs_result_by_tissue(\"Dentate.Gyrus\")\n",
    "dlpfc = get_DEGs_result_by_tissue(\"DLPFC\")\n",
    "hippo = get_DEGs_result_by_tissue(\"Hippocampus\")"
   ]
  },
  {
   "cell_type": "markdown",
   "metadata": {},
   "source": [
    "## Save significant results"
   ]
  },
  {
   "cell_type": "code",
   "execution_count": 6,
   "metadata": {
    "execution": {
     "iopub.execute_input": "2021-09-27T16:56:00.260114Z",
     "iopub.status.busy": "2021-09-27T16:56:00.258084Z",
     "iopub.status.idle": "2021-09-27T16:56:03.693561Z",
     "shell.execute_reply": "2021-09-27T16:56:03.692383Z"
    }
   },
   "outputs": [],
   "source": [
    "pd.concat([caud8, gyrus, dlpfc, hippo])\\\n",
    "  .sort_values([\"Tissue\", \"Type\", \"lfsr\"])\\\n",
    "  .loc[:, [\"Tissue\", \"Effect\", \"gencodeID\", \"seqnames\", \"lfsr\", \"Type\"]]\\\n",
    "  .to_csv(\"BrainSeq_ancestry_4features_4regions.txt.gz\", sep='\\t', index=False)"
   ]
  },
  {
   "cell_type": "code",
   "execution_count": null,
   "metadata": {},
   "outputs": [],
   "source": []
  }
 ],
 "metadata": {
  "kernelspec": {
   "display_name": "Python 3",
   "language": "python",
   "name": "python3"
  },
  "language_info": {
   "codemirror_mode": {
    "name": "ipython",
    "version": 3
   },
   "file_extension": ".py",
   "mimetype": "text/x-python",
   "name": "python",
   "nbconvert_exporter": "python",
   "pygments_lexer": "ipython3",
   "version": "3.9.1"
  }
 },
 "nbformat": 4,
 "nbformat_minor": 4
}
