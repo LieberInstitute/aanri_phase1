{
 "cells": [
  {
   "cell_type": "markdown",
   "metadata": {},
   "source": [
    "# Visualize results, local splicing"
   ]
  },
  {
   "cell_type": "markdown",
   "metadata": {},
   "source": [
    "## Load Libraries"
   ]
  },
  {
   "cell_type": "code",
   "execution_count": 1,
   "metadata": {
    "execution": {
     "iopub.execute_input": "2021-08-21T01:28:13.096231Z",
     "iopub.status.busy": "2021-08-21T01:28:13.093948Z",
     "iopub.status.idle": "2021-08-21T01:28:17.470174Z",
     "shell.execute_reply": "2021-08-21T01:28:17.468493Z"
    }
   },
   "outputs": [
    {
     "name": "stderr",
     "output_type": "stream",
     "text": [
      "── \u001b[1mAttaching packages\u001b[22m ─────────────────────────────────────── tidyverse 1.3.1 ──\n",
      "\n",
      "\u001b[32m✔\u001b[39m \u001b[34mggplot2\u001b[39m 3.3.5     \u001b[32m✔\u001b[39m \u001b[34mpurrr  \u001b[39m 0.3.4\n",
      "\u001b[32m✔\u001b[39m \u001b[34mtibble \u001b[39m 3.1.2     \u001b[32m✔\u001b[39m \u001b[34mdplyr  \u001b[39m 1.0.7\n",
      "\u001b[32m✔\u001b[39m \u001b[34mtidyr  \u001b[39m 1.1.3     \u001b[32m✔\u001b[39m \u001b[34mstringr\u001b[39m 1.4.0\n",
      "\u001b[32m✔\u001b[39m \u001b[34mreadr  \u001b[39m 1.4.0     \u001b[32m✔\u001b[39m \u001b[34mforcats\u001b[39m 0.5.1\n",
      "\n",
      "── \u001b[1mConflicts\u001b[22m ────────────────────────────────────────── tidyverse_conflicts() ──\n",
      "\u001b[31m✖\u001b[39m \u001b[34mdplyr\u001b[39m::\u001b[32mfilter()\u001b[39m masks \u001b[34mstats\u001b[39m::filter()\n",
      "\u001b[31m✖\u001b[39m \u001b[34mdplyr\u001b[39m::\u001b[32mlag()\u001b[39m    masks \u001b[34mstats\u001b[39m::lag()\n",
      "\n",
      "Loading required package: Rcpp\n",
      "\n",
      "\n",
      "Attaching package: ‘reshape2’\n",
      "\n",
      "\n",
      "The following object is masked from ‘package:tidyr’:\n",
      "\n",
      "    smiths\n",
      "\n",
      "\n",
      "\n",
      "Attaching package: ‘gridExtra’\n",
      "\n",
      "\n",
      "The following object is masked from ‘package:dplyr’:\n",
      "\n",
      "    combine\n",
      "\n",
      "\n",
      "\n",
      "Attaching package: ‘intervals’\n",
      "\n",
      "\n",
      "The following object is masked from ‘package:purrr’:\n",
      "\n",
      "    reduce\n",
      "\n",
      "\n",
      "The following object is masked from ‘package:tidyr’:\n",
      "\n",
      "    expand\n",
      "\n",
      "\n",
      "\n",
      "Attaching package: ‘foreach’\n",
      "\n",
      "\n",
      "The following objects are masked from ‘package:purrr’:\n",
      "\n",
      "    accumulate, when\n",
      "\n",
      "\n"
     ]
    }
   ],
   "source": [
    "library(tidyverse)\n",
    "library(ggplot2)\n",
    "library(DT)\n",
    "library(leafcutter)\n",
    "library(reshape2)\n",
    "library(gridExtra)\n",
    "library(intervals) # needed for pretty strand arrow placement\n",
    "library(foreach)\n",
    "library(grid)\n",
    "library(gtable)\n",
    "library(ggrepel)"
   ]
  },
  {
   "cell_type": "markdown",
   "metadata": {},
   "source": [
    "## Summary of results"
   ]
  },
  {
   "cell_type": "code",
   "execution_count": 2,
   "metadata": {
    "execution": {
     "iopub.execute_input": "2021-08-21T01:28:17.506510Z",
     "iopub.status.busy": "2021-08-21T01:28:17.475361Z",
     "iopub.status.idle": "2021-08-21T01:28:25.416258Z",
     "shell.execute_reply": "2021-08-21T01:28:25.414906Z"
    }
   },
   "outputs": [
    {
     "data": {
      "text/html": [
       "<style>\n",
       ".list-inline {list-style: none; margin:0; padding: 0}\n",
       ".list-inline>li {display: inline-block}\n",
       ".list-inline>li:not(:last-child)::after {content: \"\\00b7\"; padding: 0 .5ex}\n",
       "</style>\n",
       "<ol class=list-inline><li>'introns'</li><li>'clusters'</li><li>'counts'</li><li>'meta'</li><li>'exons_table'</li><li>'pca'</li><li>'intron_summary'</li><li>'cluster_summary'</li><li>'introns_to_plot'</li><li>'cluster_ids'</li><li>'sample_table'</li><li>'annotation_code'</li><li>'code'</li></ol>\n"
      ],
      "text/latex": [
       "\\begin{enumerate*}\n",
       "\\item 'introns'\n",
       "\\item 'clusters'\n",
       "\\item 'counts'\n",
       "\\item 'meta'\n",
       "\\item 'exons\\_table'\n",
       "\\item 'pca'\n",
       "\\item 'intron\\_summary'\n",
       "\\item 'cluster\\_summary'\n",
       "\\item 'introns\\_to\\_plot'\n",
       "\\item 'cluster\\_ids'\n",
       "\\item 'sample\\_table'\n",
       "\\item 'annotation\\_code'\n",
       "\\item 'code'\n",
       "\\end{enumerate*}\n"
      ],
      "text/markdown": [
       "1. 'introns'\n",
       "2. 'clusters'\n",
       "3. 'counts'\n",
       "4. 'meta'\n",
       "5. 'exons_table'\n",
       "6. 'pca'\n",
       "7. 'intron_summary'\n",
       "8. 'cluster_summary'\n",
       "9. 'introns_to_plot'\n",
       "10. 'cluster_ids'\n",
       "11. 'sample_table'\n",
       "12. 'annotation_code'\n",
       "13. 'code'\n",
       "\n",
       "\n"
      ],
      "text/plain": [
       " [1] \"introns\"         \"clusters\"        \"counts\"          \"meta\"           \n",
       " [5] \"exons_table\"     \"pca\"             \"intron_summary\"  \"cluster_summary\"\n",
       " [9] \"introns_to_plot\" \"cluster_ids\"     \"sample_table\"    \"annotation_code\"\n",
       "[13] \"code\"           "
      ]
     },
     "metadata": {},
     "output_type": "display_data"
    }
   ],
   "source": [
    "lname = load('../../_m/leafviz.RData')\n",
    "lname"
   ]
  },
  {
   "cell_type": "code",
   "execution_count": 3,
   "metadata": {
    "execution": {
     "iopub.execute_input": "2021-08-21T01:28:25.422245Z",
     "iopub.status.busy": "2021-08-21T01:28:25.420998Z",
     "iopub.status.idle": "2021-08-21T01:28:25.442796Z",
     "shell.execute_reply": "2021-08-21T01:28:25.441489Z"
    }
   },
   "outputs": [
    {
     "data": {
      "text/html": [
       "<table class=\"dataframe\">\n",
       "<caption>A data.frame: 2 × 2</caption>\n",
       "<thead>\n",
       "\t<tr><th scope=col>group</th><th scope=col>count</th></tr>\n",
       "\t<tr><th scope=col>&lt;chr&gt;</th><th scope=col>&lt;int&gt;</th></tr>\n",
       "</thead>\n",
       "<tbody>\n",
       "\t<tr><td>AA</td><td>133</td></tr>\n",
       "\t<tr><td>EA</td><td>109</td></tr>\n",
       "</tbody>\n",
       "</table>\n"
      ],
      "text/latex": [
       "A data.frame: 2 × 2\n",
       "\\begin{tabular}{ll}\n",
       " group & count\\\\\n",
       " <chr> & <int>\\\\\n",
       "\\hline\n",
       "\t AA & 133\\\\\n",
       "\t EA & 109\\\\\n",
       "\\end{tabular}\n"
      ],
      "text/markdown": [
       "\n",
       "A data.frame: 2 × 2\n",
       "\n",
       "| group &lt;chr&gt; | count &lt;int&gt; |\n",
       "|---|---|\n",
       "| AA | 133 |\n",
       "| EA | 109 |\n",
       "\n"
      ],
      "text/plain": [
       "  group count\n",
       "1 AA    133  \n",
       "2 EA    109  "
      ]
     },
     "metadata": {},
     "output_type": "display_data"
    }
   ],
   "source": [
    "sample_table"
   ]
  },
  {
   "cell_type": "code",
   "execution_count": 4,
   "metadata": {
    "execution": {
     "iopub.execute_input": "2021-08-21T01:28:25.448762Z",
     "iopub.status.busy": "2021-08-21T01:28:25.447511Z",
     "iopub.status.idle": "2021-08-21T01:28:25.466428Z",
     "shell.execute_reply": "2021-08-21T01:28:25.465147Z"
    }
   },
   "outputs": [
    {
     "data": {
      "text/html": [
       "<table class=\"dataframe\">\n",
       "<caption>A data.frame: 3 × 2</caption>\n",
       "<thead>\n",
       "\t<tr><th scope=col>Results</th><th scope=col>n</th></tr>\n",
       "\t<tr><th scope=col>&lt;chr&gt;</th><th scope=col>&lt;int&gt;</th></tr>\n",
       "</thead>\n",
       "<tbody>\n",
       "\t<tr><td>Number of differentially spliced clusters at FDR = 0.05</td><td>1332</td></tr>\n",
       "\t<tr><td>Fully annotated                                        </td><td> 454</td></tr>\n",
       "\t<tr><td>Contain unannotated junctions                          </td><td> 878</td></tr>\n",
       "</tbody>\n",
       "</table>\n"
      ],
      "text/latex": [
       "A data.frame: 3 × 2\n",
       "\\begin{tabular}{ll}\n",
       " Results & n\\\\\n",
       " <chr> & <int>\\\\\n",
       "\\hline\n",
       "\t Number of differentially spliced clusters at FDR = 0.05 & 1332\\\\\n",
       "\t Fully annotated                                         &  454\\\\\n",
       "\t Contain unannotated junctions                           &  878\\\\\n",
       "\\end{tabular}\n"
      ],
      "text/markdown": [
       "\n",
       "A data.frame: 3 × 2\n",
       "\n",
       "| Results &lt;chr&gt; | n &lt;int&gt; |\n",
       "|---|---|\n",
       "| Number of differentially spliced clusters at FDR = 0.05 | 1332 |\n",
       "| Fully annotated                                         |  454 |\n",
       "| Contain unannotated junctions                           |  878 |\n",
       "\n"
      ],
      "text/plain": [
       "  Results                                                 n   \n",
       "1 Number of differentially spliced clusters at FDR = 0.05 1332\n",
       "2 Fully annotated                                          454\n",
       "3 Contain unannotated junctions                            878"
      ]
     },
     "metadata": {},
     "output_type": "display_data"
    }
   ],
   "source": [
    "cluster_summary"
   ]
  },
  {
   "cell_type": "code",
   "execution_count": 5,
   "metadata": {
    "execution": {
     "iopub.execute_input": "2021-08-21T01:28:25.472405Z",
     "iopub.status.busy": "2021-08-21T01:28:25.471149Z",
     "iopub.status.idle": "2021-08-21T01:28:25.490905Z",
     "shell.execute_reply": "2021-08-21T01:28:25.489634Z"
    }
   },
   "outputs": [
    {
     "data": {
      "text/html": [
       "<table class=\"dataframe\">\n",
       "<caption>A data.frame: 5 × 2</caption>\n",
       "<thead>\n",
       "\t<tr><th scope=col>Results</th><th scope=col>n</th></tr>\n",
       "\t<tr><th scope=col>&lt;chr&gt;</th><th scope=col>&lt;int&gt;</th></tr>\n",
       "</thead>\n",
       "<tbody>\n",
       "\t<tr><td>Number of fully annotated junctions                              </td><td>4149</td></tr>\n",
       "\t<tr><td>Number of junctions with cryptic 5' splice site                  </td><td> 821</td></tr>\n",
       "\t<tr><td>Number of junctions with cryptic 3' splice site                  </td><td> 941</td></tr>\n",
       "\t<tr><td>Number of junctions with two cryptic splice sites                </td><td> 382</td></tr>\n",
       "\t<tr><td>Number of novel junctions that connect two annotated splice sites</td><td> 538</td></tr>\n",
       "</tbody>\n",
       "</table>\n"
      ],
      "text/latex": [
       "A data.frame: 5 × 2\n",
       "\\begin{tabular}{ll}\n",
       " Results & n\\\\\n",
       " <chr> & <int>\\\\\n",
       "\\hline\n",
       "\t Number of fully annotated junctions                               & 4149\\\\\n",
       "\t Number of junctions with cryptic 5' splice site                   &  821\\\\\n",
       "\t Number of junctions with cryptic 3' splice site                   &  941\\\\\n",
       "\t Number of junctions with two cryptic splice sites                 &  382\\\\\n",
       "\t Number of novel junctions that connect two annotated splice sites &  538\\\\\n",
       "\\end{tabular}\n"
      ],
      "text/markdown": [
       "\n",
       "A data.frame: 5 × 2\n",
       "\n",
       "| Results &lt;chr&gt; | n &lt;int&gt; |\n",
       "|---|---|\n",
       "| Number of fully annotated junctions                               | 4149 |\n",
       "| Number of junctions with cryptic 5' splice site                   |  821 |\n",
       "| Number of junctions with cryptic 3' splice site                   |  941 |\n",
       "| Number of junctions with two cryptic splice sites                 |  382 |\n",
       "| Number of novel junctions that connect two annotated splice sites |  538 |\n",
       "\n"
      ],
      "text/plain": [
       "  Results                                                           n   \n",
       "1 Number of fully annotated junctions                               4149\n",
       "2 Number of junctions with cryptic 5' splice site                    821\n",
       "3 Number of junctions with cryptic 3' splice site                    941\n",
       "4 Number of junctions with two cryptic splice sites                  382\n",
       "5 Number of novel junctions that connect two annotated splice sites  538"
      ]
     },
     "metadata": {},
     "output_type": "display_data"
    }
   ],
   "source": [
    "intron_summary"
   ]
  },
  {
   "cell_type": "code",
   "execution_count": 6,
   "metadata": {
    "execution": {
     "iopub.execute_input": "2021-08-21T01:28:25.496875Z",
     "iopub.status.busy": "2021-08-21T01:28:25.495632Z",
     "iopub.status.idle": "2021-08-21T01:28:25.524144Z",
     "shell.execute_reply": "2021-08-21T01:28:25.522885Z"
    }
   },
   "outputs": [
    {
     "data": {
      "text/html": [
       "<table class=\"dataframe\">\n",
       "<caption>A data.frame: 6 × 6</caption>\n",
       "<thead>\n",
       "\t<tr><th></th><th scope=col>clusterID</th><th scope=col>N</th><th scope=col>coord</th><th scope=col>gene</th><th scope=col>annotation</th><th scope=col>FDR</th></tr>\n",
       "\t<tr><th></th><th scope=col>&lt;chr&gt;</th><th scope=col>&lt;dbl&gt;</th><th scope=col>&lt;chr&gt;</th><th scope=col>&lt;chr&gt;</th><th scope=col>&lt;chr&gt;</th><th scope=col>&lt;dbl&gt;</th></tr>\n",
       "</thead>\n",
       "<tbody>\n",
       "\t<tr><th scope=row>880</th><td>clu_64405_+ </td><td>16</td><td>chr22:45323427-45330603  </td><td>FAM118A</td><td>cryptic</td><td>8.63e-131</td></tr>\n",
       "\t<tr><th scope=row>272</th><td>clu_111929_-</td><td>11</td><td>chr12:124911899-124913724</td><td>UBC    </td><td>cryptic</td><td>1.13e-130</td></tr>\n",
       "\t<tr><th scope=row>273</th><td>clu_111930_-</td><td>26</td><td>chr12:124911952-124913549</td><td>UBC    </td><td>cryptic</td><td> 5.02e-88</td></tr>\n",
       "\t<tr><th scope=row>1233</th><td>clu_14450_- </td><td>11</td><td>chr8:101719648-101915809 </td><td>NCALD  </td><td>cryptic</td><td> 5.02e-88</td></tr>\n",
       "\t<tr><th scope=row>312</th><td>clu_92553_? </td><td>14</td><td>chr12:124911899-124913725</td><td>UBC    </td><td>cryptic</td><td> 4.06e-77</td></tr>\n",
       "\t<tr><th scope=row>555</th><td>clu_146837_+</td><td>20</td><td>chr17:55774859-55965579  </td><td>PCTP   </td><td>cryptic</td><td> 1.59e-69</td></tr>\n",
       "</tbody>\n",
       "</table>\n"
      ],
      "text/latex": [
       "A data.frame: 6 × 6\n",
       "\\begin{tabular}{r|llllll}\n",
       "  & clusterID & N & coord & gene & annotation & FDR\\\\\n",
       "  & <chr> & <dbl> & <chr> & <chr> & <chr> & <dbl>\\\\\n",
       "\\hline\n",
       "\t880 & clu\\_64405\\_+  & 16 & chr22:45323427-45330603   & FAM118A & cryptic & 8.63e-131\\\\\n",
       "\t272 & clu\\_111929\\_- & 11 & chr12:124911899-124913724 & UBC     & cryptic & 1.13e-130\\\\\n",
       "\t273 & clu\\_111930\\_- & 26 & chr12:124911952-124913549 & UBC     & cryptic &  5.02e-88\\\\\n",
       "\t1233 & clu\\_14450\\_-  & 11 & chr8:101719648-101915809  & NCALD   & cryptic &  5.02e-88\\\\\n",
       "\t312 & clu\\_92553\\_?  & 14 & chr12:124911899-124913725 & UBC     & cryptic &  4.06e-77\\\\\n",
       "\t555 & clu\\_146837\\_+ & 20 & chr17:55774859-55965579   & PCTP    & cryptic &  1.59e-69\\\\\n",
       "\\end{tabular}\n"
      ],
      "text/markdown": [
       "\n",
       "A data.frame: 6 × 6\n",
       "\n",
       "| <!--/--> | clusterID &lt;chr&gt; | N &lt;dbl&gt; | coord &lt;chr&gt; | gene &lt;chr&gt; | annotation &lt;chr&gt; | FDR &lt;dbl&gt; |\n",
       "|---|---|---|---|---|---|---|\n",
       "| 880 | clu_64405_+  | 16 | chr22:45323427-45330603   | FAM118A | cryptic | 8.63e-131 |\n",
       "| 272 | clu_111929_- | 11 | chr12:124911899-124913724 | UBC     | cryptic | 1.13e-130 |\n",
       "| 273 | clu_111930_- | 26 | chr12:124911952-124913549 | UBC     | cryptic |  5.02e-88 |\n",
       "| 1233 | clu_14450_-  | 11 | chr8:101719648-101915809  | NCALD   | cryptic |  5.02e-88 |\n",
       "| 312 | clu_92553_?  | 14 | chr12:124911899-124913725 | UBC     | cryptic |  4.06e-77 |\n",
       "| 555 | clu_146837_+ | 20 | chr17:55774859-55965579   | PCTP    | cryptic |  1.59e-69 |\n",
       "\n"
      ],
      "text/plain": [
       "     clusterID    N  coord                     gene    annotation FDR      \n",
       "880  clu_64405_+  16 chr22:45323427-45330603   FAM118A cryptic    8.63e-131\n",
       "272  clu_111929_- 11 chr12:124911899-124913724 UBC     cryptic    1.13e-130\n",
       "273  clu_111930_- 26 chr12:124911952-124913549 UBC     cryptic     5.02e-88\n",
       "1233 clu_14450_-  11 chr8:101719648-101915809  NCALD   cryptic     5.02e-88\n",
       "312  clu_92553_?  14 chr12:124911899-124913725 UBC     cryptic     4.06e-77\n",
       "555  clu_146837_+ 20 chr17:55774859-55965579   PCTP    cryptic     1.59e-69"
      ]
     },
     "metadata": {},
     "output_type": "display_data"
    }
   ],
   "source": [
    "clusters['gene'] <- gsub(\"</i>\", \"\", gsub(\"<i>\", \"\", clusters$gene))\n",
    "head(clusters)"
   ]
  },
  {
   "cell_type": "code",
   "execution_count": 7,
   "metadata": {
    "execution": {
     "iopub.execute_input": "2021-08-21T01:28:25.530098Z",
     "iopub.status.busy": "2021-08-21T01:28:25.528844Z",
     "iopub.status.idle": "2021-08-21T01:28:25.548833Z",
     "shell.execute_reply": "2021-08-21T01:28:25.547517Z"
    }
   },
   "outputs": [],
   "source": [
    "write.table(clusters, file=\"cluster_ds_results_annotated.txt\", sep=\"\\t\", quote=FALSE, row.names=FALSE)"
   ]
  },
  {
   "cell_type": "markdown",
   "metadata": {},
   "source": [
    "## Generate plots"
   ]
  },
  {
   "cell_type": "markdown",
   "metadata": {},
   "source": [
    "### Define functions"
   ]
  },
  {
   "cell_type": "code",
   "execution_count": 8,
   "metadata": {
    "execution": {
     "iopub.execute_input": "2021-08-21T01:28:25.555549Z",
     "iopub.status.busy": "2021-08-21T01:28:25.553880Z",
     "iopub.status.idle": "2021-08-21T01:28:25.570807Z",
     "shell.execute_reply": "2021-08-21T01:28:25.569527Z"
    }
   },
   "outputs": [],
   "source": [
    "filter_intron_table <- function(introns, clu){\n",
    "    d < - introns %>% filter(clusterID == clu) %>% \n",
    "        select(chr, start, end, verdict, deltapsi) %>%\n",
    "        arrange(desc(abs(deltapsi))) %>%\n",
    "        rename(\"ΔPSI\" = deltapsi)\n",
    "    row.names(d) <- letters[1:nrow(d)] # letters is just a:z\n",
    "    return(d)\n",
    "}\n",
    "\n",
    "\n",
    "getGeneLength <- function(gene_name, exons_table){\n",
    "    exons      <- exons_table[ exons_table$gene_name == gene_name, ]\n",
    "    geneStart  <- min(exons$start)\n",
    "    geneEnd    <- max(exons$end)\n",
    "    geneLength <- geneEnd - geneStart\n",
    "    if( geneLength >1e6){\n",
    "        pixels <- 5000\n",
    "    } else if ( geneLength > 5e5 & geneLength < 1e6){\n",
    "        pixels <- 3000\n",
    "    } else if ( geneLength > 1.5e5 & geneLength <= 5e5){\n",
    "        pixels <- 2000\n",
    "    } else {\n",
    "        stopifnot(geneLength <= 1.5e5)\n",
    "        pixels <- \"auto\"\n",
    "    }\n",
    "    return(pixels)\n",
    "}\n",
    "\n",
    "\n",
    "select_data <- function(sel, clusters, exons_table){\n",
    "    gene <- clusters[ sel, ]$gene\n",
    "    width <- getGeneLength(gene, exons_table)\n",
    "    clusterID <- clusters[ sel, ]$clusterID\n",
    "    coord <- clusters[ sel, ]$coord\n",
    "    return(list(gene = gene, width = width, cluster = clusterID, coord = coord))\n",
    "}"
   ]
  },
  {
   "cell_type": "markdown",
   "metadata": {},
   "source": [
    "### Plotting functions"
   ]
  },
  {
   "cell_type": "code",
   "execution_count": 9,
   "metadata": {
    "execution": {
     "iopub.execute_input": "2021-08-21T01:28:25.577116Z",
     "iopub.status.busy": "2021-08-21T01:28:25.575770Z",
     "iopub.status.idle": "2021-08-21T01:28:25.588993Z",
     "shell.execute_reply": "2021-08-21T01:28:25.587705Z"
    }
   },
   "outputs": [],
   "source": [
    "plot_cluster <- function(num, clusters, dir='./'){\n",
    "    mydata = select_data(num, clusters, exons_table)\n",
    "    while(mydata$gene == '.'){\n",
    "        num = num+1\n",
    "        mydata = select_data(num, clusters, exons_table)\n",
    "    }\n",
    "    gene_name = mydata$gene\n",
    "    plotTitle <- paste0(gene_name, '_', mydata$cluster, '_top_',num,'.pdf')\n",
    "    pdf(file=paste0(dir, plotTitle), width = 10, height = 5)\n",
    "    print(make_cluster_plot(mydata$cluster,\n",
    "                            main_title = plotTitle,\n",
    "                            meta = meta,\n",
    "                            cluster_ids = cluster_ids,\n",
    "                            exons_table = exons_table,\n",
    "                            counts = counts,\n",
    "                            introns = introns))\n",
    "    dev.off()\n",
    "\n",
    "    if (is.numeric(mydata$width)) {\n",
    "        new_width = mydata$width / 100\n",
    "    } else {\n",
    "        new_width = mydata$width\n",
    "    }\n",
    "\n",
    "    pdf(file=paste0(dir, gene_name, '_allClusters_top_',num,'.pdf'), \n",
    "        width=new_width, height=6)\n",
    "    print(make_gene_plot(mydata$gene,\n",
    "                         counts = counts,\n",
    "                         introns = introns,\n",
    "                         exons_table = exons_table,\n",
    "                         cluster_list = clusters,\n",
    "                         clusterID = mydata$clusterID,\n",
    "                         introns_to_plot = introns_to_plot, debug=F))\n",
    "    dev.off()\n",
    "}\n"
   ]
  },
  {
   "cell_type": "markdown",
   "metadata": {},
   "source": [
    "### Plot splicing"
   ]
  },
  {
   "cell_type": "code",
   "execution_count": 10,
   "metadata": {
    "execution": {
     "iopub.execute_input": "2021-08-21T01:28:25.595122Z",
     "iopub.status.busy": "2021-08-21T01:28:25.593731Z",
     "iopub.status.idle": "2021-08-21T01:28:53.735509Z",
     "shell.execute_reply": "2021-08-21T01:28:53.733866Z"
    }
   },
   "outputs": [
    {
     "name": "stderr",
     "output_type": "stream",
     "text": [
      "Warning message:\n",
      "“`guides(<scale> = FALSE)` is deprecated. Please use `guides(<scale> = \"none\")` instead.”\n"
     ]
    },
    {
     "name": "stdout",
     "output_type": "stream",
     "text": [
      "TableGrob (2 x 1) \"arrange\": 2 grobs\n",
      "  z     cells    name           grob\n",
      "1 1 (1-1,1-1) arrange gtable[layout]\n",
      "2 2 (2-2,1-1) arrange gtable[layout]\n"
     ]
    },
    {
     "name": "stderr",
     "output_type": "stream",
     "text": [
      "Warning message:\n",
      "“‘mode(width)’ differs between new and previous\n",
      "\t ==> NOT changing ‘width’”\n",
      "Warning message:\n",
      "“`guides(<scale> = FALSE)` is deprecated. Please use `guides(<scale> = \"none\")` instead.”\n"
     ]
    },
    {
     "name": "stdout",
     "output_type": "stream",
     "text": [
      "TableGrob (2 x 1) \"arrange\": 2 grobs\n",
      "  z     cells    name           grob\n",
      "1 1 (1-1,1-1) arrange gtable[layout]\n",
      "2 2 (2-2,1-1) arrange gtable[layout]\n"
     ]
    },
    {
     "name": "stderr",
     "output_type": "stream",
     "text": [
      "Warning message:\n",
      "“‘mode(width)’ differs between new and previous\n",
      "\t ==> NOT changing ‘width’”\n",
      "Warning message:\n",
      "“ggrepel: 20 unlabeled data points (too many overlaps). Consider increasing max.overlaps”\n",
      "Warning message:\n",
      "“`guides(<scale> = FALSE)` is deprecated. Please use `guides(<scale> = \"none\")` instead.”\n",
      "Warning message:\n",
      "“Removed 1 row(s) containing missing values (geom_path).”\n",
      "Warning message:\n",
      "“Removed 1 row(s) containing missing values (geom_path).”\n"
     ]
    },
    {
     "name": "stdout",
     "output_type": "stream",
     "text": [
      "TableGrob (2 x 1) \"arrange\": 2 grobs\n",
      "  z     cells    name           grob\n",
      "1 1 (1-1,1-1) arrange gtable[layout]\n",
      "2 2 (2-2,1-1) arrange gtable[layout]\n"
     ]
    },
    {
     "name": "stderr",
     "output_type": "stream",
     "text": [
      "Warning message:\n",
      "“‘mode(width)’ differs between new and previous\n",
      "\t ==> NOT changing ‘width’”\n",
      "Warning message:\n",
      "“ggrepel: 20 unlabeled data points (too many overlaps). Consider increasing max.overlaps”\n",
      "Warning message:\n",
      "“`guides(<scale> = FALSE)` is deprecated. Please use `guides(<scale> = \"none\")` instead.”\n"
     ]
    },
    {
     "name": "stdout",
     "output_type": "stream",
     "text": [
      "TableGrob (2 x 1) \"arrange\": 2 grobs\n",
      "  z     cells    name           grob\n",
      "1 1 (1-1,1-1) arrange gtable[layout]\n",
      "2 2 (2-2,1-1) arrange gtable[layout]\n"
     ]
    },
    {
     "name": "stderr",
     "output_type": "stream",
     "text": [
      "Warning message:\n",
      "“`guides(<scale> = FALSE)` is deprecated. Please use `guides(<scale> = \"none\")` instead.”\n"
     ]
    },
    {
     "name": "stdout",
     "output_type": "stream",
     "text": [
      "TableGrob (2 x 1) \"arrange\": 2 grobs\n",
      "  z     cells    name           grob\n",
      "1 1 (1-1,1-1) arrange gtable[layout]\n",
      "2 2 (2-2,1-1) arrange gtable[layout]\n"
     ]
    },
    {
     "name": "stderr",
     "output_type": "stream",
     "text": [
      "Warning message:\n",
      "“‘mode(width)’ differs between new and previous\n",
      "\t ==> NOT changing ‘width’”\n",
      "Warning message:\n",
      "“ggrepel: 20 unlabeled data points (too many overlaps). Consider increasing max.overlaps”\n",
      "Warning message:\n",
      "“`guides(<scale> = FALSE)` is deprecated. Please use `guides(<scale> = \"none\")` instead.”\n"
     ]
    },
    {
     "name": "stdout",
     "output_type": "stream",
     "text": [
      "TableGrob (2 x 1) \"arrange\": 2 grobs\n",
      "  z     cells    name           grob\n",
      "1 1 (1-1,1-1) arrange gtable[layout]\n",
      "2 2 (2-2,1-1) arrange gtable[layout]\n"
     ]
    },
    {
     "name": "stderr",
     "output_type": "stream",
     "text": [
      "Warning message:\n",
      "“‘mode(width)’ differs between new and previous\n",
      "\t ==> NOT changing ‘width’”\n",
      "Warning message:\n",
      "“`guides(<scale> = FALSE)` is deprecated. Please use `guides(<scale> = \"none\")` instead.”\n"
     ]
    },
    {
     "name": "stdout",
     "output_type": "stream",
     "text": [
      "TableGrob (2 x 1) \"arrange\": 2 grobs\n",
      "  z     cells    name           grob\n",
      "1 1 (1-1,1-1) arrange gtable[layout]\n",
      "2 2 (2-2,1-1) arrange gtable[layout]\n"
     ]
    },
    {
     "name": "stderr",
     "output_type": "stream",
     "text": [
      "Warning message:\n",
      "“‘mode(width)’ differs between new and previous\n",
      "\t ==> NOT changing ‘width’”\n",
      "Warning message:\n",
      "“`guides(<scale> = FALSE)` is deprecated. Please use `guides(<scale> = \"none\")` instead.”\n"
     ]
    },
    {
     "name": "stdout",
     "output_type": "stream",
     "text": [
      "TableGrob (2 x 1) \"arrange\": 2 grobs\n",
      "  z     cells    name           grob\n",
      "1 1 (1-1,1-1) arrange gtable[layout]\n",
      "2 2 (2-2,1-1) arrange gtable[layout]\n"
     ]
    },
    {
     "name": "stderr",
     "output_type": "stream",
     "text": [
      "Warning message:\n",
      "“‘mode(width)’ differs between new and previous\n",
      "\t ==> NOT changing ‘width’”\n",
      "Warning message in min(exons$start):\n",
      "“no non-missing arguments to min; returning Inf”\n",
      "Warning message in max(exons$end):\n",
      "“no non-missing arguments to max; returning -Inf”\n",
      "Warning message:\n",
      "“`guides(<scale> = FALSE)` is deprecated. Please use `guides(<scale> = \"none\")` instead.”\n"
     ]
    },
    {
     "name": "stdout",
     "output_type": "stream",
     "text": [
      "TableGrob (2 x 1) \"arrange\": 2 grobs\n",
      "  z     cells    name           grob\n",
      "1 1 (1-1,1-1) arrange gtable[layout]\n",
      "2 2 (2-2,1-1) arrange gtable[layout]\n"
     ]
    },
    {
     "name": "stderr",
     "output_type": "stream",
     "text": [
      "Warning message:\n",
      "“‘mode(width)’ differs between new and previous\n",
      "\t ==> NOT changing ‘width’”\n",
      "Warning message:\n",
      "“`guides(<scale> = FALSE)` is deprecated. Please use `guides(<scale> = \"none\")` instead.”\n"
     ]
    },
    {
     "name": "stdout",
     "output_type": "stream",
     "text": [
      "TableGrob (2 x 1) \"arrange\": 2 grobs\n",
      "  z     cells    name           grob\n",
      "1 1 (1-1,1-1) arrange gtable[layout]\n",
      "2 2 (2-2,1-1) arrange gtable[layout]\n"
     ]
    },
    {
     "name": "stderr",
     "output_type": "stream",
     "text": [
      "Warning message:\n",
      "“‘mode(width)’ differs between new and previous\n",
      "\t ==> NOT changing ‘width’”\n"
     ]
    }
   ],
   "source": [
    "dir.create(\"top10\")\n",
    "for(num in 1:10){\n",
    "    plot_cluster(num, clusters, \"top10/\")\n",
    "}"
   ]
  },
  {
   "cell_type": "code",
   "execution_count": null,
   "metadata": {},
   "outputs": [],
   "source": []
  }
 ],
 "metadata": {
  "kernelspec": {
   "display_name": "R",
   "language": "R",
   "name": "ir"
  },
  "language_info": {
   "codemirror_mode": "r",
   "file_extension": ".r",
   "mimetype": "text/x-r-source",
   "name": "R",
   "pygments_lexer": "r",
   "version": "4.0.3"
  }
 },
 "nbformat": 4,
 "nbformat_minor": 4
}
