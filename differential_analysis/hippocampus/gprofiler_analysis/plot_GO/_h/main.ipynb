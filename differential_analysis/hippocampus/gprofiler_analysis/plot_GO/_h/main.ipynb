{
 "cells": [
  {
   "cell_type": "markdown",
   "metadata": {},
   "source": [
    "# Visualize GO analysis"
   ]
  },
  {
   "cell_type": "code",
   "execution_count": 1,
   "metadata": {},
   "outputs": [],
   "source": [
    "import numpy as np\n",
    "import pandas as pd"
   ]
  },
  {
   "cell_type": "code",
   "execution_count": 13,
   "metadata": {},
   "outputs": [],
   "source": [
    "def get_top_GO(tissue, fn, label):\n",
    "    df = pd.read_csv(fn, sep='\\t')\n",
    "    df = df[(df[\"source\"].isin([\"GO:MF\", \"GO:BP\", \"KEGG\", \"WP\"]))]\\\n",
    "    .sort_values('p_value').sort_values('p_value').head(10)\n",
    "    df['Log10'] = -np.log10(df['p_value'])\n",
    "    df['Tissue'] = tissue\n",
    "    df['Bias'] = label\n",
    "    return df"
   ]
  },
  {
   "cell_type": "code",
   "execution_count": 14,
   "metadata": {},
   "outputs": [],
   "source": [
    "tissue = 'hippocampus'\n",
    "config = {\n",
    "    'All': '../../_m/allDEGs_functional_enrichment.txt',\n",
    "    'AA': '../../_m/aa_bias_DEGs_functional_enrichment.txt',\n",
    "    'EA': '../../_m/ea_bias_DEGs_functional_enrichment.txt',\n",
    "}\n",
    "\n",
    "df = pd.DataFrame()\n",
    "for bias in ['All', 'AA', 'EA']:\n",
    "    df = pd.concat([df, get_top_GO(tissue, config[bias], bias)], axis=0)"
   ]
  },
  {
   "cell_type": "code",
   "execution_count": 4,
   "metadata": {},
   "outputs": [],
   "source": [
    "df.to_csv(\"%s_functional_analysis.txt\" % tissue, sep='\\t', index=False)"
   ]
  },
  {
   "cell_type": "code",
   "execution_count": 11,
   "metadata": {},
   "outputs": [
    {
     "data": {
      "text/plain": [
       "(30, 17)"
      ]
     },
     "execution_count": 11,
     "metadata": {},
     "output_type": "execute_result"
    }
   ],
   "source": [
    "df.shape"
   ]
  },
  {
   "cell_type": "markdown",
   "metadata": {},
   "source": [
    "## Plot "
   ]
  },
  {
   "cell_type": "code",
   "execution_count": 5,
   "metadata": {},
   "outputs": [],
   "source": [
    "%load_ext rpy2.ipython"
   ]
  },
  {
   "cell_type": "code",
   "execution_count": 6,
   "metadata": {},
   "outputs": [
    {
     "name": "stderr",
     "output_type": "stream",
     "text": [
      "R[write to console]: -- \u001b[1mAttaching packages\u001b[22m --------------------------------------------------------------------------------------------------------------------- tidyverse 1.3.0 --\n",
      "\n",
      "R[write to console]: \u001b[32mv\u001b[39m \u001b[34mtibble \u001b[39m 3.0.5     \u001b[32mv\u001b[39m \u001b[34mdplyr  \u001b[39m 1.0.3\n",
      "\u001b[32mv\u001b[39m \u001b[34mtidyr  \u001b[39m 1.1.2     \u001b[32mv\u001b[39m \u001b[34mstringr\u001b[39m 1.4.0\n",
      "\u001b[32mv\u001b[39m \u001b[34mreadr  \u001b[39m 1.4.0     \u001b[32mv\u001b[39m \u001b[34mforcats\u001b[39m 0.5.0\n",
      "\u001b[32mv\u001b[39m \u001b[34mpurrr  \u001b[39m 0.3.4     \n",
      "\n",
      "R[write to console]: -- \u001b[1mConflicts\u001b[22m ------------------------------------------------------------------------------------------------------------------------ tidyverse_conflicts() --\n",
      "\u001b[31mx\u001b[39m \u001b[34mdplyr\u001b[39m::\u001b[32mfilter()\u001b[39m masks \u001b[34mstats\u001b[39m::filter()\n",
      "\u001b[31mx\u001b[39m \u001b[34mdplyr\u001b[39m::\u001b[32mlag()\u001b[39m    masks \u001b[34mstats\u001b[39m::lag()\n",
      "\n"
     ]
    }
   ],
   "source": [
    "%%R -i df\n",
    "library(ggplot2)\n",
    "library(tidyverse)\n",
    "\n",
    "save_plot <- function(p, fn, w, h){\n",
    "    for(ext in c('.svg', '.png', '.pdf')){\n",
    "        ggsave(file=paste0(fn,ext), plot=p, width=w, height=h)\n",
    "    }\n",
    "}\n",
    "\n",
    "plot_GO <- function(){\n",
    "    cbPalette <- c(\"#000000\", \"Red\", \"Blue\")\n",
    "    gg1 = df %>%\n",
    "        ggplot(aes(x=Log10, y=term_name, color=Bias)) + \n",
    "        geom_point(shape=18, alpha=0.8, size=4) + labs(y='', x='-Log10 (p adjust)') + \n",
    "        theme_bw() + \n",
    "        scale_colour_manual(name=\"Ethnicity\", values=cbPalette, \n",
    "                            labels=c(\"All\", \"AA Bias\", \"EA Bias\")) +\n",
    "        geom_vline(xintercept = -log10(0.05), linetype = \"dotted\") +\n",
    "        theme(axis.text=element_text(size=14),\n",
    "              axis.title=element_text(size=18, face='bold'),\n",
    "              strip.text=element_text(size=18, face='bold'))\n",
    "    return(gg1)\n",
    "}"
   ]
  },
  {
   "cell_type": "code",
   "execution_count": 8,
   "metadata": {},
   "outputs": [
    {
     "data": {
      "image/png": "[encoded data removed]"
     },
     "metadata": {},
     "output_type": "display_data"
    }
   ],
   "source": [
    "%%R\n",
    "gg1 = plot_GO()\n",
    "print(gg1)\n",
    "save_plot(gg1, \"ethnicity_GO_top10_stacked\", 10, 6)"
   ]
  },
  {
   "cell_type": "code",
   "execution_count": null,
   "metadata": {},
   "outputs": [],
   "source": []
  }
 ],
 "metadata": {
  "kernelspec": {
   "display_name": "Python 3",
   "language": "python",
   "name": "python3"
  },
  "language_info": {
   "codemirror_mode": {
    "name": "ipython",
    "version": 3
   },
   "file_extension": ".py",
   "mimetype": "text/x-python",
   "name": "python",
   "nbconvert_exporter": "python",
   "pygments_lexer": "ipython3",
   "version": "3.8.6"
  }
 },
 "nbformat": 4,
 "nbformat_minor": 4
}
