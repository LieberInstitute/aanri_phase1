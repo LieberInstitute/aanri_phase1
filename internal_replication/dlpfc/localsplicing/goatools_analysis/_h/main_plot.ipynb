{
 "cells": [
  {
   "cell_type": "markdown",
   "metadata": {},
   "source": [
    "# Visualize GO analysis"
   ]
  },
  {
   "cell_type": "code",
   "execution_count": 1,
   "metadata": {},
   "outputs": [],
   "source": [
    "import numpy as np\n",
    "import pandas as pd"
   ]
  },
  {
   "cell_type": "code",
   "execution_count": 2,
   "metadata": {},
   "outputs": [],
   "source": [
    "def get_top_GO(tissue, fn, label):\n",
    "    df = pd.read_excel(fn).sort_values('p_uncorrected').head(10)\n",
    "    df['Log10'] = -np.log10(df['p_fdr_bh'])\n",
    "    df['Tissue'] = tissue\n",
    "    df['Bias'] = label\n",
    "    return df"
   ]
  },
  {
   "cell_type": "code",
   "execution_count": 4,
   "metadata": {},
   "outputs": [
    {
     "name": "stdout",
     "output_type": "stream",
     "text": [
      "There is no enrichment for EA!\n",
      "0.2347417840375587 0.717948717948718\n"
     ]
    }
   ],
   "source": [
    "tissue = 'dlpfc'\n",
    "config = {\n",
    "    'All': 'GO_analysis_allDEG.xlsx',\n",
    "    'AA': 'GO_analysis_downregulated.xlsx',\n",
    "    'EA': 'GO_analysis_upregulated.xlsx',\n",
    "}\n",
    "\n",
    "df = pd.DataFrame()\n",
    "for bias in ['All', 'AA', 'EA']:\n",
    "    try:\n",
    "        df = pd.concat([df, get_top_GO(tissue, config[bias], bias)], axis=0)\n",
    "    except FileNotFoundError:\n",
    "        print(\"There is no enrichment for {}!\".format(bias))\n",
    "\n",
    "fac = []\n",
    "for ii in range(df.shape[0]):\n",
    "    xx, yy = df[['ratio_in_study']].iloc[ii, 0].split('/')\n",
    "    fac.append((int(xx) / int(yy)) * 2)\n",
    "    \n",
    "df['geneRatio'] = fac\n",
    "print(np.min(fac), np.max(fac))"
   ]
  },
  {
   "cell_type": "code",
   "execution_count": 5,
   "metadata": {},
   "outputs": [],
   "source": [
    "df.to_csv(\"%s_GO_analysis.tsv\" % tissue, sep='\\t', index=False)"
   ]
  },
  {
   "cell_type": "markdown",
   "metadata": {},
   "source": [
    "## Plot "
   ]
  },
  {
   "cell_type": "code",
   "execution_count": 6,
   "metadata": {},
   "outputs": [],
   "source": [
    "%load_ext rpy2.ipython"
   ]
  },
  {
   "cell_type": "code",
   "execution_count": 7,
   "metadata": {},
   "outputs": [
    {
     "name": "stderr",
     "output_type": "stream",
     "text": [
      "R[write to console]: -- \u001b[1mAttaching packages\u001b[22m ----------------------------------------------------------------------------------------------------------------------------------------------------------------------------------------------------- tidyverse 1.3.1 --\n",
      "\n",
      "R[write to console]: \u001b[32mv\u001b[39m \u001b[34mtibble \u001b[39m 3.1.2     \u001b[32mv\u001b[39m \u001b[34mdplyr  \u001b[39m 1.0.7\n",
      "\u001b[32mv\u001b[39m \u001b[34mtidyr  \u001b[39m 1.1.3     \u001b[32mv\u001b[39m \u001b[34mstringr\u001b[39m 1.4.0\n",
      "\u001b[32mv\u001b[39m \u001b[34mreadr  \u001b[39m 1.4.0     \u001b[32mv\u001b[39m \u001b[34mforcats\u001b[39m 0.5.1\n",
      "\u001b[32mv\u001b[39m \u001b[34mpurrr  \u001b[39m 0.3.4     \n",
      "\n",
      "R[write to console]: -- \u001b[1mConflicts\u001b[22m -------------------------------------------------------------------------------------------------------------------------------------------------------------------------------------------------------- tidyverse_conflicts() --\n",
      "\u001b[31mx\u001b[39m \u001b[34mdplyr\u001b[39m::\u001b[32mfilter()\u001b[39m masks \u001b[34mstats\u001b[39m::filter()\n",
      "\u001b[31mx\u001b[39m \u001b[34mdplyr\u001b[39m::\u001b[32mlag()\u001b[39m    masks \u001b[34mstats\u001b[39m::lag()\n",
      "\n"
     ]
    }
   ],
   "source": [
    "%%R -i df\n",
    "library(ggplot2)\n",
    "library(tidyverse)\n",
    "\n",
    "save_plot <- function(p, fn, w, h){\n",
    "    for(ext in c('.svg', '.png', '.pdf')){\n",
    "        ggsave(file=paste0(fn,ext), plot=p, width=w, height=h)\n",
    "    }\n",
    "}\n",
    "\n",
    "plot_GO <- function(){\n",
    "    cbPalette <- c(\"#000000\", \"Red\", \"Blue\")\n",
    "    gg1 = df %>%\n",
    "        ggplot(aes(x=Log10, y=name, color=Bias, size=geneRatio)) + \n",
    "        geom_point(shape=18, alpha=0.8) + labs(y='', x='-Log10 (FDR)') + \n",
    "        theme_bw(base_size=15) + \n",
    "        scale_colour_manual(name=\"Ancestry\", values=cbPalette, \n",
    "                            labels=c(\"All\", \"AA Bias\", \"EA Bias\")) +\n",
    "        geom_vline(xintercept = -log10(0.05), linetype = \"dotted\") +\n",
    "        theme(axis.title=element_text(face='bold'),\n",
    "              strip.text=element_text(face='bold'))\n",
    "    return(gg1)\n",
    "}"
   ]
  },
  {
   "cell_type": "code",
   "execution_count": 8,
   "metadata": {},
   "outputs": [
    {
     "data": {
      "image/png": "[encoded data removed]"
     },
     "metadata": {},
     "output_type": "display_data"
    }
   ],
   "source": [
    "%%R\n",
    "gg1 = plot_GO()\n",
    "print(gg1)\n",
    "save_plot(gg1, \"ancestry_DTU_GO_top10_stacked\", 6, 6)"
   ]
  },
  {
   "cell_type": "code",
   "execution_count": null,
   "metadata": {},
   "outputs": [],
   "source": []
  }
 ],
 "metadata": {
  "kernelspec": {
   "display_name": "Python 3",
   "language": "python",
   "name": "python3"
  },
  "language_info": {
   "codemirror_mode": {
    "name": "ipython",
    "version": 3
   },
   "file_extension": ".py",
   "mimetype": "text/x-python",
   "name": "python",
   "nbconvert_exporter": "python",
   "pygments_lexer": "ipython3",
   "version": "3.9.1"
  }
 },
 "nbformat": 4,
 "nbformat_minor": 4
}
