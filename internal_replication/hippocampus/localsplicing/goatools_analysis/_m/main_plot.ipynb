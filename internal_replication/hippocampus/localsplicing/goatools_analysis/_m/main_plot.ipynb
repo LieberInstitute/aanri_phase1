{
 "cells": [
  {
   "cell_type": "markdown",
   "metadata": {},
   "source": [
    "# Visualize GO analysis"
   ]
  },
  {
   "cell_type": "code",
   "execution_count": 1,
   "metadata": {
    "execution": {
     "iopub.execute_input": "2021-08-23T17:41:49.826537Z",
     "iopub.status.busy": "2021-08-23T17:41:49.825153Z",
     "iopub.status.idle": "2021-08-23T17:41:50.154729Z",
     "shell.execute_reply": "2021-08-23T17:41:50.155181Z"
    }
   },
   "outputs": [],
   "source": [
    "import numpy as np\n",
    "import pandas as pd"
   ]
  },
  {
   "cell_type": "code",
   "execution_count": 2,
   "metadata": {
    "execution": {
     "iopub.execute_input": "2021-08-23T17:41:50.163046Z",
     "iopub.status.busy": "2021-08-23T17:41:50.161832Z",
     "iopub.status.idle": "2021-08-23T17:41:50.164308Z",
     "shell.execute_reply": "2021-08-23T17:41:50.165294Z"
    }
   },
   "outputs": [],
   "source": [
    "def get_top_GO(tissue, fn, label):\n",
    "    df = pd.read_excel(fn).sort_values('p_uncorrected').head(10)\n",
    "    df['Log10'] = -np.log10(df['p_fdr_bh'])\n",
    "    df['Tissue'] = tissue\n",
    "    df['Bias'] = label\n",
    "    return df"
   ]
  },
  {
   "cell_type": "code",
   "execution_count": 3,
   "metadata": {
    "execution": {
     "iopub.execute_input": "2021-08-23T17:41:50.175291Z",
     "iopub.status.busy": "2021-08-23T17:41:50.174061Z",
     "iopub.status.idle": "2021-08-23T17:41:50.375010Z",
     "shell.execute_reply": "2021-08-23T17:41:50.373959Z"
    }
   },
   "outputs": [
    {
     "name": "stdout",
     "output_type": "stream",
     "text": [
      "There is no enrichment for EA!\n",
      "0.03125 0.7291666666666666\n"
     ]
    }
   ],
   "source": [
    "tissue = 'hippocampus'\n",
    "config = {\n",
    "    'All': 'GO_analysis_allDEG.xlsx',\n",
    "    'AA': 'GO_analysis_downregulated.xlsx',\n",
    "    'EA': 'GO_analysis_upregulated.xlsx',\n",
    "}\n",
    "\n",
    "df = pd.DataFrame()\n",
    "for bias in ['All', 'AA', 'EA']:\n",
    "    try:\n",
    "        df = pd.concat([df, get_top_GO(tissue, config[bias], bias)], axis=0)\n",
    "    except FileNotFoundError:\n",
    "        print(\"There is no enrichment for {}!\".format(bias))\n",
    "\n",
    "fac = []\n",
    "for ii in range(df.shape[0]):\n",
    "    xx, yy = df[['ratio_in_study']].iloc[ii, 0].split('/')\n",
    "    fac.append((int(xx) / int(yy)) * 2)\n",
    "    \n",
    "df['geneRatio'] = fac\n",
    "print(np.min(fac), np.max(fac))"
   ]
  },
  {
   "cell_type": "code",
   "execution_count": 4,
   "metadata": {
    "execution": {
     "iopub.execute_input": "2021-08-23T17:41:50.381020Z",
     "iopub.status.busy": "2021-08-23T17:41:50.379701Z",
     "iopub.status.idle": "2021-08-23T17:41:50.386303Z",
     "shell.execute_reply": "2021-08-23T17:41:50.385112Z"
    }
   },
   "outputs": [],
   "source": [
    "df.to_csv(\"%s_GO_analysis.tsv\" % tissue, sep='\\t', index=False)"
   ]
  },
  {
   "cell_type": "markdown",
   "metadata": {},
   "source": [
    "## Plot "
   ]
  },
  {
   "cell_type": "code",
   "execution_count": 5,
   "metadata": {
    "execution": {
     "iopub.execute_input": "2021-08-23T17:41:50.392160Z",
     "iopub.status.busy": "2021-08-23T17:41:50.390898Z",
     "iopub.status.idle": "2021-08-23T17:41:51.169217Z",
     "shell.execute_reply": "2021-08-23T17:41:51.168122Z"
    }
   },
   "outputs": [],
   "source": [
    "%load_ext rpy2.ipython"
   ]
  },
  {
   "cell_type": "code",
   "execution_count": 6,
   "metadata": {
    "execution": {
     "iopub.execute_input": "2021-08-23T17:41:51.176626Z",
     "iopub.status.busy": "2021-08-23T17:41:51.175262Z",
     "iopub.status.idle": "2021-08-23T17:41:52.898215Z",
     "shell.execute_reply": "2021-08-23T17:41:52.896931Z"
    }
   },
   "outputs": [
    {
     "name": "stderr",
     "output_type": "stream",
     "text": [
      "R[write to console]: ── Attaching packages ─────────────────────────────────────── tidyverse 1.3.1 ──\n",
      "\n",
      "R[write to console]: ✔ tibble  3.1.2     ✔ dplyr   1.0.7\n",
      "✔ tidyr   1.1.3     ✔ stringr 1.4.0\n",
      "✔ readr   1.4.0     ✔ forcats 0.5.1\n",
      "✔ purrr   0.3.4     \n",
      "\n",
      "R[write to console]: ── Conflicts ────────────────────────────────────────── tidyverse_conflicts() ──\n",
      "✖ dplyr::filter() masks stats::filter()\n",
      "✖ dplyr::lag()    masks stats::lag()\n",
      "\n"
     ]
    }
   ],
   "source": [
    "%%R -i df\n",
    "library(ggplot2)\n",
    "library(tidyverse)\n",
    "\n",
    "save_plot <- function(p, fn, w, h){\n",
    "    for(ext in c('.svg', '.png', '.pdf')){\n",
    "        ggsave(file=paste0(fn,ext), plot=p, width=w, height=h)\n",
    "    }\n",
    "}\n",
    "\n",
    "plot_GO <- function(){\n",
    "    cbPalette <- c(\"#000000\", \"Red\", \"Blue\")\n",
    "    gg1 = df %>%\n",
    "        ggplot(aes(x=Log10, y=name, color=Bias, size=geneRatio)) + \n",
    "        geom_point(shape=18, alpha=0.8) + labs(y='', x='-Log10 (FDR)') + \n",
    "        theme_bw(base_size=15) + \n",
    "        scale_colour_manual(name=\"Ancestry\", values=cbPalette, \n",
    "                            labels=c(\"All\", \"AA Bias\", \"EA Bias\")) +\n",
    "        geom_vline(xintercept = -log10(0.05), linetype = \"dotted\") +\n",
    "        theme(axis.title=element_text(face='bold'),\n",
    "              strip.text=element_text(face='bold'))\n",
    "    return(gg1)\n",
    "}"
   ]
  },
  {
   "cell_type": "code",
   "execution_count": 7,
   "metadata": {
    "execution": {
     "iopub.execute_input": "2021-08-23T17:41:52.907103Z",
     "iopub.status.busy": "2021-08-23T17:41:52.905876Z",
     "iopub.status.idle": "2021-08-23T17:41:54.253168Z",
     "shell.execute_reply": "2021-08-23T17:41:54.252076Z"
    }
   },
   "outputs": [
    {
     "data": {
      "image/png": "[encoded data removed]"
     },
     "metadata": {},
     "output_type": "display_data"
    }
   ],
   "source": [
    "%%R\n",
    "gg1 = plot_GO()\n",
    "print(gg1)\n",
    "save_plot(gg1, \"ancestry_DTU_GO_top10_stacked\", 6, 6)"
   ]
  },
  {
   "cell_type": "code",
   "execution_count": null,
   "metadata": {},
   "outputs": [],
   "source": []
  }
 ],
 "metadata": {
  "kernelspec": {
   "display_name": "Python 3",
   "language": "python",
   "name": "python3"
  },
  "language_info": {
   "codemirror_mode": {
    "name": "ipython",
    "version": 3
   },
   "file_extension": ".py",
   "mimetype": "text/x-python",
   "name": "python",
   "nbconvert_exporter": "python",
   "pygments_lexer": "ipython3",
   "version": "3.9.1"
  }
 },
 "nbformat": 4,
 "nbformat_minor": 4
}
