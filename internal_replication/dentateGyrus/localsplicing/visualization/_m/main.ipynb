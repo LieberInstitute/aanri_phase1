{
 "cells": [
  {
   "cell_type": "markdown",
   "metadata": {},
   "source": [
    "# Visualize results, local splicing"
   ]
  },
  {
   "cell_type": "markdown",
   "metadata": {},
   "source": [
    "## Load Libraries"
   ]
  },
  {
   "cell_type": "code",
   "execution_count": 1,
   "metadata": {
    "execution": {
     "iopub.execute_input": "2021-08-21T01:27:21.423458Z",
     "iopub.status.busy": "2021-08-21T01:27:21.421431Z",
     "iopub.status.idle": "2021-08-21T01:27:26.004711Z",
     "shell.execute_reply": "2021-08-21T01:27:26.003150Z"
    }
   },
   "outputs": [
    {
     "name": "stderr",
     "output_type": "stream",
     "text": [
      "── \u001b[1mAttaching packages\u001b[22m ─────────────────────────────────────── tidyverse 1.3.1 ──\n",
      "\n",
      "\u001b[32m✔\u001b[39m \u001b[34mggplot2\u001b[39m 3.3.5     \u001b[32m✔\u001b[39m \u001b[34mpurrr  \u001b[39m 0.3.4\n",
      "\u001b[32m✔\u001b[39m \u001b[34mtibble \u001b[39m 3.1.2     \u001b[32m✔\u001b[39m \u001b[34mdplyr  \u001b[39m 1.0.7\n",
      "\u001b[32m✔\u001b[39m \u001b[34mtidyr  \u001b[39m 1.1.3     \u001b[32m✔\u001b[39m \u001b[34mstringr\u001b[39m 1.4.0\n",
      "\u001b[32m✔\u001b[39m \u001b[34mreadr  \u001b[39m 1.4.0     \u001b[32m✔\u001b[39m \u001b[34mforcats\u001b[39m 0.5.1\n",
      "\n",
      "── \u001b[1mConflicts\u001b[22m ────────────────────────────────────────── tidyverse_conflicts() ──\n",
      "\u001b[31m✖\u001b[39m \u001b[34mdplyr\u001b[39m::\u001b[32mfilter()\u001b[39m masks \u001b[34mstats\u001b[39m::filter()\n",
      "\u001b[31m✖\u001b[39m \u001b[34mdplyr\u001b[39m::\u001b[32mlag()\u001b[39m    masks \u001b[34mstats\u001b[39m::lag()\n",
      "\n",
      "Loading required package: Rcpp\n",
      "\n",
      "\n",
      "Attaching package: ‘reshape2’\n",
      "\n",
      "\n",
      "The following object is masked from ‘package:tidyr’:\n",
      "\n",
      "    smiths\n",
      "\n",
      "\n",
      "\n",
      "Attaching package: ‘gridExtra’\n",
      "\n",
      "\n",
      "The following object is masked from ‘package:dplyr’:\n",
      "\n",
      "    combine\n",
      "\n",
      "\n",
      "\n",
      "Attaching package: ‘intervals’\n",
      "\n",
      "\n",
      "The following object is masked from ‘package:purrr’:\n",
      "\n",
      "    reduce\n",
      "\n",
      "\n",
      "The following object is masked from ‘package:tidyr’:\n",
      "\n",
      "    expand\n",
      "\n",
      "\n",
      "\n",
      "Attaching package: ‘foreach’\n",
      "\n",
      "\n",
      "The following objects are masked from ‘package:purrr’:\n",
      "\n",
      "    accumulate, when\n",
      "\n",
      "\n"
     ]
    }
   ],
   "source": [
    "library(tidyverse)\n",
    "library(ggplot2)\n",
    "library(DT)\n",
    "library(leafcutter)\n",
    "library(reshape2)\n",
    "library(gridExtra)\n",
    "library(intervals) # needed for pretty strand arrow placement\n",
    "library(foreach)\n",
    "library(grid)\n",
    "library(gtable)\n",
    "library(ggrepel)"
   ]
  },
  {
   "cell_type": "markdown",
   "metadata": {},
   "source": [
    "## Summary of results"
   ]
  },
  {
   "cell_type": "code",
   "execution_count": 2,
   "metadata": {
    "execution": {
     "iopub.execute_input": "2021-08-21T01:27:26.041391Z",
     "iopub.status.busy": "2021-08-21T01:27:26.009727Z",
     "iopub.status.idle": "2021-08-21T01:27:30.827044Z",
     "shell.execute_reply": "2021-08-21T01:27:30.825539Z"
    }
   },
   "outputs": [
    {
     "data": {
      "text/html": [
       "<style>\n",
       ".list-inline {list-style: none; margin:0; padding: 0}\n",
       ".list-inline>li {display: inline-block}\n",
       ".list-inline>li:not(:last-child)::after {content: \"\\00b7\"; padding: 0 .5ex}\n",
       "</style>\n",
       "<ol class=list-inline><li>'introns'</li><li>'clusters'</li><li>'counts'</li><li>'meta'</li><li>'exons_table'</li><li>'pca'</li><li>'intron_summary'</li><li>'cluster_summary'</li><li>'introns_to_plot'</li><li>'cluster_ids'</li><li>'sample_table'</li><li>'annotation_code'</li><li>'code'</li></ol>\n"
      ],
      "text/latex": [
       "\\begin{enumerate*}\n",
       "\\item 'introns'\n",
       "\\item 'clusters'\n",
       "\\item 'counts'\n",
       "\\item 'meta'\n",
       "\\item 'exons\\_table'\n",
       "\\item 'pca'\n",
       "\\item 'intron\\_summary'\n",
       "\\item 'cluster\\_summary'\n",
       "\\item 'introns\\_to\\_plot'\n",
       "\\item 'cluster\\_ids'\n",
       "\\item 'sample\\_table'\n",
       "\\item 'annotation\\_code'\n",
       "\\item 'code'\n",
       "\\end{enumerate*}\n"
      ],
      "text/markdown": [
       "1. 'introns'\n",
       "2. 'clusters'\n",
       "3. 'counts'\n",
       "4. 'meta'\n",
       "5. 'exons_table'\n",
       "6. 'pca'\n",
       "7. 'intron_summary'\n",
       "8. 'cluster_summary'\n",
       "9. 'introns_to_plot'\n",
       "10. 'cluster_ids'\n",
       "11. 'sample_table'\n",
       "12. 'annotation_code'\n",
       "13. 'code'\n",
       "\n",
       "\n"
      ],
      "text/plain": [
       " [1] \"introns\"         \"clusters\"        \"counts\"          \"meta\"           \n",
       " [5] \"exons_table\"     \"pca\"             \"intron_summary\"  \"cluster_summary\"\n",
       " [9] \"introns_to_plot\" \"cluster_ids\"     \"sample_table\"    \"annotation_code\"\n",
       "[13] \"code\"           "
      ]
     },
     "metadata": {},
     "output_type": "display_data"
    }
   ],
   "source": [
    "lname = load('../../_m/leafviz.RData')\n",
    "lname"
   ]
  },
  {
   "cell_type": "code",
   "execution_count": 3,
   "metadata": {
    "execution": {
     "iopub.execute_input": "2021-08-21T01:27:30.832996Z",
     "iopub.status.busy": "2021-08-21T01:27:30.831739Z",
     "iopub.status.idle": "2021-08-21T01:27:30.853562Z",
     "shell.execute_reply": "2021-08-21T01:27:30.852260Z"
    }
   },
   "outputs": [
    {
     "data": {
      "text/html": [
       "<table class=\"dataframe\">\n",
       "<caption>A data.frame: 2 × 2</caption>\n",
       "<thead>\n",
       "\t<tr><th scope=col>group</th><th scope=col>count</th></tr>\n",
       "\t<tr><th scope=col>&lt;chr&gt;</th><th scope=col>&lt;int&gt;</th></tr>\n",
       "</thead>\n",
       "<tbody>\n",
       "\t<tr><td>AA</td><td>47</td></tr>\n",
       "\t<tr><td>EA</td><td>43</td></tr>\n",
       "</tbody>\n",
       "</table>\n"
      ],
      "text/latex": [
       "A data.frame: 2 × 2\n",
       "\\begin{tabular}{ll}\n",
       " group & count\\\\\n",
       " <chr> & <int>\\\\\n",
       "\\hline\n",
       "\t AA & 47\\\\\n",
       "\t EA & 43\\\\\n",
       "\\end{tabular}\n"
      ],
      "text/markdown": [
       "\n",
       "A data.frame: 2 × 2\n",
       "\n",
       "| group &lt;chr&gt; | count &lt;int&gt; |\n",
       "|---|---|\n",
       "| AA | 47 |\n",
       "| EA | 43 |\n",
       "\n"
      ],
      "text/plain": [
       "  group count\n",
       "1 AA    47   \n",
       "2 EA    43   "
      ]
     },
     "metadata": {},
     "output_type": "display_data"
    }
   ],
   "source": [
    "sample_table"
   ]
  },
  {
   "cell_type": "code",
   "execution_count": 4,
   "metadata": {
    "execution": {
     "iopub.execute_input": "2021-08-21T01:27:30.859410Z",
     "iopub.status.busy": "2021-08-21T01:27:30.858139Z",
     "iopub.status.idle": "2021-08-21T01:27:30.877259Z",
     "shell.execute_reply": "2021-08-21T01:27:30.875971Z"
    }
   },
   "outputs": [
    {
     "data": {
      "text/html": [
       "<table class=\"dataframe\">\n",
       "<caption>A data.frame: 3 × 2</caption>\n",
       "<thead>\n",
       "\t<tr><th scope=col>Results</th><th scope=col>n</th></tr>\n",
       "\t<tr><th scope=col>&lt;chr&gt;</th><th scope=col>&lt;int&gt;</th></tr>\n",
       "</thead>\n",
       "<tbody>\n",
       "\t<tr><td>Number of differentially spliced clusters at FDR = 0.05</td><td>655</td></tr>\n",
       "\t<tr><td>Fully annotated                                        </td><td>208</td></tr>\n",
       "\t<tr><td>Contain unannotated junctions                          </td><td>447</td></tr>\n",
       "</tbody>\n",
       "</table>\n"
      ],
      "text/latex": [
       "A data.frame: 3 × 2\n",
       "\\begin{tabular}{ll}\n",
       " Results & n\\\\\n",
       " <chr> & <int>\\\\\n",
       "\\hline\n",
       "\t Number of differentially spliced clusters at FDR = 0.05 & 655\\\\\n",
       "\t Fully annotated                                         & 208\\\\\n",
       "\t Contain unannotated junctions                           & 447\\\\\n",
       "\\end{tabular}\n"
      ],
      "text/markdown": [
       "\n",
       "A data.frame: 3 × 2\n",
       "\n",
       "| Results &lt;chr&gt; | n &lt;int&gt; |\n",
       "|---|---|\n",
       "| Number of differentially spliced clusters at FDR = 0.05 | 655 |\n",
       "| Fully annotated                                         | 208 |\n",
       "| Contain unannotated junctions                           | 447 |\n",
       "\n"
      ],
      "text/plain": [
       "  Results                                                 n  \n",
       "1 Number of differentially spliced clusters at FDR = 0.05 655\n",
       "2 Fully annotated                                         208\n",
       "3 Contain unannotated junctions                           447"
      ]
     },
     "metadata": {},
     "output_type": "display_data"
    }
   ],
   "source": [
    "cluster_summary"
   ]
  },
  {
   "cell_type": "code",
   "execution_count": 5,
   "metadata": {
    "execution": {
     "iopub.execute_input": "2021-08-21T01:27:30.883097Z",
     "iopub.status.busy": "2021-08-21T01:27:30.881817Z",
     "iopub.status.idle": "2021-08-21T01:27:30.901915Z",
     "shell.execute_reply": "2021-08-21T01:27:30.900587Z"
    }
   },
   "outputs": [
    {
     "data": {
      "text/html": [
       "<table class=\"dataframe\">\n",
       "<caption>A data.frame: 5 × 2</caption>\n",
       "<thead>\n",
       "\t<tr><th scope=col>Results</th><th scope=col>n</th></tr>\n",
       "\t<tr><th scope=col>&lt;chr&gt;</th><th scope=col>&lt;int&gt;</th></tr>\n",
       "</thead>\n",
       "<tbody>\n",
       "\t<tr><td>Number of fully annotated junctions                              </td><td>1850</td></tr>\n",
       "\t<tr><td>Number of junctions with cryptic 5' splice site                  </td><td> 430</td></tr>\n",
       "\t<tr><td>Number of junctions with cryptic 3' splice site                  </td><td> 479</td></tr>\n",
       "\t<tr><td>Number of junctions with two cryptic splice sites                </td><td> 296</td></tr>\n",
       "\t<tr><td>Number of novel junctions that connect two annotated splice sites</td><td> 336</td></tr>\n",
       "</tbody>\n",
       "</table>\n"
      ],
      "text/latex": [
       "A data.frame: 5 × 2\n",
       "\\begin{tabular}{ll}\n",
       " Results & n\\\\\n",
       " <chr> & <int>\\\\\n",
       "\\hline\n",
       "\t Number of fully annotated junctions                               & 1850\\\\\n",
       "\t Number of junctions with cryptic 5' splice site                   &  430\\\\\n",
       "\t Number of junctions with cryptic 3' splice site                   &  479\\\\\n",
       "\t Number of junctions with two cryptic splice sites                 &  296\\\\\n",
       "\t Number of novel junctions that connect two annotated splice sites &  336\\\\\n",
       "\\end{tabular}\n"
      ],
      "text/markdown": [
       "\n",
       "A data.frame: 5 × 2\n",
       "\n",
       "| Results &lt;chr&gt; | n &lt;int&gt; |\n",
       "|---|---|\n",
       "| Number of fully annotated junctions                               | 1850 |\n",
       "| Number of junctions with cryptic 5' splice site                   |  430 |\n",
       "| Number of junctions with cryptic 3' splice site                   |  479 |\n",
       "| Number of junctions with two cryptic splice sites                 |  296 |\n",
       "| Number of novel junctions that connect two annotated splice sites |  336 |\n",
       "\n"
      ],
      "text/plain": [
       "  Results                                                           n   \n",
       "1 Number of fully annotated junctions                               1850\n",
       "2 Number of junctions with cryptic 5' splice site                    430\n",
       "3 Number of junctions with cryptic 3' splice site                    479\n",
       "4 Number of junctions with two cryptic splice sites                  296\n",
       "5 Number of novel junctions that connect two annotated splice sites  336"
      ]
     },
     "metadata": {},
     "output_type": "display_data"
    }
   ],
   "source": [
    "intron_summary"
   ]
  },
  {
   "cell_type": "code",
   "execution_count": 6,
   "metadata": {
    "execution": {
     "iopub.execute_input": "2021-08-21T01:27:30.907815Z",
     "iopub.status.busy": "2021-08-21T01:27:30.906518Z",
     "iopub.status.idle": "2021-08-21T01:27:30.934248Z",
     "shell.execute_reply": "2021-08-21T01:27:30.932958Z"
    }
   },
   "outputs": [
    {
     "data": {
      "text/html": [
       "<table class=\"dataframe\">\n",
       "<caption>A data.frame: 6 × 6</caption>\n",
       "<thead>\n",
       "\t<tr><th></th><th scope=col>clusterID</th><th scope=col>N</th><th scope=col>coord</th><th scope=col>gene</th><th scope=col>annotation</th><th scope=col>FDR</th></tr>\n",
       "\t<tr><th></th><th scope=col>&lt;chr&gt;</th><th scope=col>&lt;dbl&gt;</th><th scope=col>&lt;chr&gt;</th><th scope=col>&lt;chr&gt;</th><th scope=col>&lt;chr&gt;</th><th scope=col>&lt;dbl&gt;</th></tr>\n",
       "</thead>\n",
       "<tbody>\n",
       "\t<tr><th scope=row>464</th><td>clu_71861_+ </td><td> 6</td><td>chr3:129488397-129499902 </td><td>IFT122    </td><td>cryptic</td><td>9.94e-66</td></tr>\n",
       "\t<tr><th scope=row>165</th><td>clu_97155_- </td><td>12</td><td>chr12:124911899-124913725</td><td>UBC       </td><td>cryptic</td><td>2.23e-61</td></tr>\n",
       "\t<tr><th scope=row>432</th><td>clu_56723_+ </td><td>19</td><td>chr22:45323427-45332425  </td><td>FAM118A   </td><td>cryptic</td><td>1.12e-58</td></tr>\n",
       "\t<tr><th scope=row>166</th><td>clu_97156_- </td><td>24</td><td>chr12:124911952-124913549</td><td>UBC       </td><td>cryptic</td><td>7.89e-49</td></tr>\n",
       "\t<tr><th scope=row>557</th><td>clu_87410_+ </td><td>10</td><td>chr6:26440648-26443957   </td><td>BTN3A3    </td><td>cryptic</td><td>8.92e-49</td></tr>\n",
       "\t<tr><th scope=row>343</th><td>clu_112823_+</td><td>18</td><td>chr2:39518710-39665202   </td><td>AC007246.3</td><td>cryptic</td><td>1.12e-37</td></tr>\n",
       "</tbody>\n",
       "</table>\n"
      ],
      "text/latex": [
       "A data.frame: 6 × 6\n",
       "\\begin{tabular}{r|llllll}\n",
       "  & clusterID & N & coord & gene & annotation & FDR\\\\\n",
       "  & <chr> & <dbl> & <chr> & <chr> & <chr> & <dbl>\\\\\n",
       "\\hline\n",
       "\t464 & clu\\_71861\\_+  &  6 & chr3:129488397-129499902  & IFT122     & cryptic & 9.94e-66\\\\\n",
       "\t165 & clu\\_97155\\_-  & 12 & chr12:124911899-124913725 & UBC        & cryptic & 2.23e-61\\\\\n",
       "\t432 & clu\\_56723\\_+  & 19 & chr22:45323427-45332425   & FAM118A    & cryptic & 1.12e-58\\\\\n",
       "\t166 & clu\\_97156\\_-  & 24 & chr12:124911952-124913549 & UBC        & cryptic & 7.89e-49\\\\\n",
       "\t557 & clu\\_87410\\_+  & 10 & chr6:26440648-26443957    & BTN3A3     & cryptic & 8.92e-49\\\\\n",
       "\t343 & clu\\_112823\\_+ & 18 & chr2:39518710-39665202    & AC007246.3 & cryptic & 1.12e-37\\\\\n",
       "\\end{tabular}\n"
      ],
      "text/markdown": [
       "\n",
       "A data.frame: 6 × 6\n",
       "\n",
       "| <!--/--> | clusterID &lt;chr&gt; | N &lt;dbl&gt; | coord &lt;chr&gt; | gene &lt;chr&gt; | annotation &lt;chr&gt; | FDR &lt;dbl&gt; |\n",
       "|---|---|---|---|---|---|---|\n",
       "| 464 | clu_71861_+  |  6 | chr3:129488397-129499902  | IFT122     | cryptic | 9.94e-66 |\n",
       "| 165 | clu_97155_-  | 12 | chr12:124911899-124913725 | UBC        | cryptic | 2.23e-61 |\n",
       "| 432 | clu_56723_+  | 19 | chr22:45323427-45332425   | FAM118A    | cryptic | 1.12e-58 |\n",
       "| 166 | clu_97156_-  | 24 | chr12:124911952-124913549 | UBC        | cryptic | 7.89e-49 |\n",
       "| 557 | clu_87410_+  | 10 | chr6:26440648-26443957    | BTN3A3     | cryptic | 8.92e-49 |\n",
       "| 343 | clu_112823_+ | 18 | chr2:39518710-39665202    | AC007246.3 | cryptic | 1.12e-37 |\n",
       "\n"
      ],
      "text/plain": [
       "    clusterID    N  coord                     gene       annotation FDR     \n",
       "464 clu_71861_+   6 chr3:129488397-129499902  IFT122     cryptic    9.94e-66\n",
       "165 clu_97155_-  12 chr12:124911899-124913725 UBC        cryptic    2.23e-61\n",
       "432 clu_56723_+  19 chr22:45323427-45332425   FAM118A    cryptic    1.12e-58\n",
       "166 clu_97156_-  24 chr12:124911952-124913549 UBC        cryptic    7.89e-49\n",
       "557 clu_87410_+  10 chr6:26440648-26443957    BTN3A3     cryptic    8.92e-49\n",
       "343 clu_112823_+ 18 chr2:39518710-39665202    AC007246.3 cryptic    1.12e-37"
      ]
     },
     "metadata": {},
     "output_type": "display_data"
    }
   ],
   "source": [
    "clusters['gene'] <- gsub(\"</i>\", \"\", gsub(\"<i>\", \"\", clusters$gene))\n",
    "head(clusters)"
   ]
  },
  {
   "cell_type": "code",
   "execution_count": 7,
   "metadata": {
    "execution": {
     "iopub.execute_input": "2021-08-21T01:27:30.940031Z",
     "iopub.status.busy": "2021-08-21T01:27:30.938711Z",
     "iopub.status.idle": "2021-08-21T01:27:30.956244Z",
     "shell.execute_reply": "2021-08-21T01:27:30.954908Z"
    }
   },
   "outputs": [],
   "source": [
    "write.table(clusters, file=\"cluster_ds_results_annotated.txt\", sep=\"\\t\", quote=FALSE, row.names=FALSE)"
   ]
  },
  {
   "cell_type": "markdown",
   "metadata": {},
   "source": [
    "## Generate plots"
   ]
  },
  {
   "cell_type": "markdown",
   "metadata": {},
   "source": [
    "### Define functions"
   ]
  },
  {
   "cell_type": "code",
   "execution_count": 8,
   "metadata": {
    "execution": {
     "iopub.execute_input": "2021-08-21T01:27:30.962927Z",
     "iopub.status.busy": "2021-08-21T01:27:30.961162Z",
     "iopub.status.idle": "2021-08-21T01:27:30.978307Z",
     "shell.execute_reply": "2021-08-21T01:27:30.977028Z"
    }
   },
   "outputs": [],
   "source": [
    "filter_intron_table <- function(introns, clu){\n",
    "    d < - introns %>% filter(clusterID == clu) %>% \n",
    "        select(chr, start, end, verdict, deltapsi) %>%\n",
    "        arrange(desc(abs(deltapsi))) %>%\n",
    "        rename(\"ΔPSI\" = deltapsi)\n",
    "    row.names(d) <- letters[1:nrow(d)] # letters is just a:z\n",
    "    return(d)\n",
    "}\n",
    "\n",
    "\n",
    "getGeneLength <- function(gene_name, exons_table){\n",
    "    exons      <- exons_table[ exons_table$gene_name == gene_name, ]\n",
    "    geneStart  <- min(exons$start)\n",
    "    geneEnd    <- max(exons$end)\n",
    "    geneLength <- geneEnd - geneStart\n",
    "    if( geneLength >1e6){\n",
    "        pixels <- 5000\n",
    "    } else if ( geneLength > 5e5 & geneLength < 1e6){\n",
    "        pixels <- 3000\n",
    "    } else if ( geneLength > 1.5e5 & geneLength <= 5e5){\n",
    "        pixels <- 2000\n",
    "    } else {\n",
    "        stopifnot(geneLength <= 1.5e5)\n",
    "        pixels <- \"auto\"\n",
    "    }\n",
    "    return(pixels)\n",
    "}\n",
    "\n",
    "\n",
    "select_data <- function(sel, clusters, exons_table){\n",
    "    gene <- clusters[ sel, ]$gene\n",
    "    width <- getGeneLength(gene, exons_table)\n",
    "    clusterID <- clusters[ sel, ]$clusterID\n",
    "    coord <- clusters[ sel, ]$coord\n",
    "    return(list(gene = gene, width = width, cluster = clusterID, coord = coord))\n",
    "}"
   ]
  },
  {
   "cell_type": "markdown",
   "metadata": {},
   "source": [
    "### Plotting functions"
   ]
  },
  {
   "cell_type": "code",
   "execution_count": 9,
   "metadata": {
    "execution": {
     "iopub.execute_input": "2021-08-21T01:27:30.984382Z",
     "iopub.status.busy": "2021-08-21T01:27:30.983095Z",
     "iopub.status.idle": "2021-08-21T01:27:30.996453Z",
     "shell.execute_reply": "2021-08-21T01:27:30.995082Z"
    }
   },
   "outputs": [],
   "source": [
    "plot_cluster <- function(num, clusters, dir='./'){\n",
    "    mydata = select_data(num, clusters, exons_table)\n",
    "    while(mydata$gene == '.'){\n",
    "        num = num+1\n",
    "        mydata = select_data(num, clusters, exons_table)\n",
    "    }\n",
    "    gene_name = mydata$gene\n",
    "    plotTitle <- paste0(gene_name, '_', mydata$cluster, '_top_',num,'.pdf')\n",
    "    pdf(file=paste0(dir, plotTitle), width = 10, height = 5)\n",
    "    print(make_cluster_plot(mydata$cluster,\n",
    "                            main_title = plotTitle,\n",
    "                            meta = meta,\n",
    "                            cluster_ids = cluster_ids,\n",
    "                            exons_table = exons_table,\n",
    "                            counts = counts,\n",
    "                            introns = introns))\n",
    "    dev.off()\n",
    "\n",
    "    if (is.numeric(mydata$width)) {\n",
    "        new_width = mydata$width / 100\n",
    "    } else {\n",
    "        new_width = mydata$width\n",
    "    }\n",
    "\n",
    "    pdf(file=paste0(dir, gene_name, '_allClusters_top_',num,'.pdf'), \n",
    "        width=new_width, height=6)\n",
    "    print(make_gene_plot(mydata$gene,\n",
    "                         counts = counts,\n",
    "                         introns = introns,\n",
    "                         exons_table = exons_table,\n",
    "                         cluster_list = clusters,\n",
    "                         clusterID = mydata$clusterID,\n",
    "                         introns_to_plot = introns_to_plot, debug=F))\n",
    "    dev.off()\n",
    "}\n"
   ]
  },
  {
   "cell_type": "markdown",
   "metadata": {},
   "source": [
    "### Plot splicing"
   ]
  },
  {
   "cell_type": "code",
   "execution_count": 10,
   "metadata": {
    "execution": {
     "iopub.execute_input": "2021-08-21T01:27:31.002494Z",
     "iopub.status.busy": "2021-08-21T01:27:31.001100Z",
     "iopub.status.idle": "2021-08-21T01:27:58.389029Z",
     "shell.execute_reply": "2021-08-21T01:27:58.387352Z"
    }
   },
   "outputs": [
    {
     "name": "stderr",
     "output_type": "stream",
     "text": [
      "Warning message:\n",
      "“`guides(<scale> = FALSE)` is deprecated. Please use `guides(<scale> = \"none\")` instead.”\n"
     ]
    },
    {
     "name": "stdout",
     "output_type": "stream",
     "text": [
      "TableGrob (2 x 1) \"arrange\": 2 grobs\n",
      "  z     cells    name           grob\n",
      "1 1 (1-1,1-1) arrange gtable[layout]\n",
      "2 2 (2-2,1-1) arrange gtable[layout]\n"
     ]
    },
    {
     "name": "stderr",
     "output_type": "stream",
     "text": [
      "Warning message:\n",
      "“‘mode(width)’ differs between new and previous\n",
      "\t ==> NOT changing ‘width’”\n",
      "Warning message:\n",
      "“`guides(<scale> = FALSE)` is deprecated. Please use `guides(<scale> = \"none\")` instead.”\n"
     ]
    },
    {
     "name": "stdout",
     "output_type": "stream",
     "text": [
      "TableGrob (2 x 1) \"arrange\": 2 grobs\n",
      "  z     cells    name           grob\n",
      "1 1 (1-1,1-1) arrange gtable[layout]\n",
      "2 2 (2-2,1-1) arrange gtable[layout]\n"
     ]
    },
    {
     "name": "stderr",
     "output_type": "stream",
     "text": [
      "Warning message:\n",
      "“‘mode(width)’ differs between new and previous\n",
      "\t ==> NOT changing ‘width’”\n",
      "Warning message:\n",
      "“ggrepel: 22 unlabeled data points (too many overlaps). Consider increasing max.overlaps”\n",
      "Warning message:\n",
      "“`guides(<scale> = FALSE)` is deprecated. Please use `guides(<scale> = \"none\")` instead.”\n"
     ]
    },
    {
     "name": "stdout",
     "output_type": "stream",
     "text": [
      "TableGrob (2 x 1) \"arrange\": 2 grobs\n",
      "  z     cells    name           grob\n",
      "1 1 (1-1,1-1) arrange gtable[layout]\n",
      "2 2 (2-2,1-1) arrange gtable[layout]\n"
     ]
    },
    {
     "name": "stderr",
     "output_type": "stream",
     "text": [
      "Warning message:\n",
      "“‘mode(width)’ differs between new and previous\n",
      "\t ==> NOT changing ‘width’”\n",
      "Warning message:\n",
      "“`guides(<scale> = FALSE)` is deprecated. Please use `guides(<scale> = \"none\")` instead.”\n",
      "Warning message:\n",
      "“Removed 1 row(s) containing missing values (geom_path).”\n",
      "Warning message:\n",
      "“Removed 1 row(s) containing missing values (geom_path).”\n"
     ]
    },
    {
     "name": "stdout",
     "output_type": "stream",
     "text": [
      "TableGrob (2 x 1) \"arrange\": 2 grobs\n",
      "  z     cells    name           grob\n",
      "1 1 (1-1,1-1) arrange gtable[layout]\n",
      "2 2 (2-2,1-1) arrange gtable[layout]\n"
     ]
    },
    {
     "name": "stderr",
     "output_type": "stream",
     "text": [
      "Warning message:\n",
      "“‘mode(width)’ differs between new and previous\n",
      "\t ==> NOT changing ‘width’”\n",
      "Warning message:\n",
      "“ggrepel: 22 unlabeled data points (too many overlaps). Consider increasing max.overlaps”\n",
      "Warning message:\n",
      "“`guides(<scale> = FALSE)` is deprecated. Please use `guides(<scale> = \"none\")` instead.”\n"
     ]
    },
    {
     "name": "stdout",
     "output_type": "stream",
     "text": [
      "TableGrob (2 x 1) \"arrange\": 2 grobs\n",
      "  z     cells    name           grob\n",
      "1 1 (1-1,1-1) arrange gtable[layout]\n",
      "2 2 (2-2,1-1) arrange gtable[layout]\n"
     ]
    },
    {
     "name": "stderr",
     "output_type": "stream",
     "text": [
      "Warning message:\n",
      "“‘mode(width)’ differs between new and previous\n",
      "\t ==> NOT changing ‘width’”\n",
      "Warning message:\n",
      "“`guides(<scale> = FALSE)` is deprecated. Please use `guides(<scale> = \"none\")` instead.”\n"
     ]
    },
    {
     "name": "stdout",
     "output_type": "stream",
     "text": [
      "TableGrob (2 x 1) \"arrange\": 2 grobs\n",
      "  z     cells    name           grob\n",
      "1 1 (1-1,1-1) arrange gtable[layout]\n",
      "2 2 (2-2,1-1) arrange gtable[layout]\n"
     ]
    },
    {
     "name": "stderr",
     "output_type": "stream",
     "text": [
      "Warning message:\n",
      "“`guides(<scale> = FALSE)` is deprecated. Please use `guides(<scale> = \"none\")` instead.”\n"
     ]
    },
    {
     "name": "stdout",
     "output_type": "stream",
     "text": [
      "TableGrob (2 x 1) \"arrange\": 2 grobs\n",
      "  z     cells    name           grob\n",
      "1 1 (1-1,1-1) arrange gtable[layout]\n",
      "2 2 (2-2,1-1) arrange gtable[layout]\n"
     ]
    },
    {
     "name": "stderr",
     "output_type": "stream",
     "text": [
      "Warning message:\n",
      "“‘mode(width)’ differs between new and previous\n",
      "\t ==> NOT changing ‘width’”\n",
      "Warning message:\n",
      "“`guides(<scale> = FALSE)` is deprecated. Please use `guides(<scale> = \"none\")` instead.”\n"
     ]
    },
    {
     "name": "stdout",
     "output_type": "stream",
     "text": [
      "TableGrob (2 x 1) \"arrange\": 2 grobs\n",
      "  z     cells    name           grob\n",
      "1 1 (1-1,1-1) arrange gtable[layout]\n",
      "2 2 (2-2,1-1) arrange gtable[layout]\n"
     ]
    },
    {
     "name": "stderr",
     "output_type": "stream",
     "text": [
      "Warning message:\n",
      "“‘mode(width)’ differs between new and previous\n",
      "\t ==> NOT changing ‘width’”\n",
      "Warning message:\n",
      "“`guides(<scale> = FALSE)` is deprecated. Please use `guides(<scale> = \"none\")` instead.”\n"
     ]
    },
    {
     "name": "stdout",
     "output_type": "stream",
     "text": [
      "TableGrob (2 x 1) \"arrange\": 2 grobs\n",
      "  z     cells    name           grob\n",
      "1 1 (1-1,1-1) arrange gtable[layout]\n",
      "2 2 (2-2,1-1) arrange gtable[layout]\n"
     ]
    },
    {
     "name": "stderr",
     "output_type": "stream",
     "text": [
      "Warning message:\n",
      "“ggrepel: 178 unlabeled data points (too many overlaps). Consider increasing max.overlaps”\n",
      "Warning message:\n",
      "“`guides(<scale> = FALSE)` is deprecated. Please use `guides(<scale> = \"none\")` instead.”\n"
     ]
    },
    {
     "name": "stdout",
     "output_type": "stream",
     "text": [
      "TableGrob (2 x 1) \"arrange\": 2 grobs\n",
      "  z     cells    name           grob\n",
      "1 1 (1-1,1-1) arrange gtable[layout]\n",
      "2 2 (2-2,1-1) arrange gtable[layout]\n"
     ]
    },
    {
     "name": "stderr",
     "output_type": "stream",
     "text": [
      "Warning message:\n",
      "“‘mode(width)’ differs between new and previous\n",
      "\t ==> NOT changing ‘width’”\n"
     ]
    }
   ],
   "source": [
    "dir.create(\"top10\")\n",
    "for(num in 1:10){\n",
    "    plot_cluster(num, clusters, \"top10/\")\n",
    "}"
   ]
  },
  {
   "cell_type": "code",
   "execution_count": null,
   "metadata": {},
   "outputs": [],
   "source": []
  }
 ],
 "metadata": {
  "kernelspec": {
   "display_name": "R",
   "language": "R",
   "name": "ir"
  },
  "language_info": {
   "codemirror_mode": "r",
   "file_extension": ".r",
   "mimetype": "text/x-r-source",
   "name": "R",
   "pygments_lexer": "r",
   "version": "4.0.3"
  }
 },
 "nbformat": 4,
 "nbformat_minor": 4
}
