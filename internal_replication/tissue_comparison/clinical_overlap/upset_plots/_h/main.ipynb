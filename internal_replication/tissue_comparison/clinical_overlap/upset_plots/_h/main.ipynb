{
 "cells": [
  {
   "cell_type": "markdown",
   "id": "11744366-916a-4793-b3f6-8ca023a0732c",
   "metadata": {},
   "source": [
    "# Generate upsetplots per tissue for dataset comparison"
   ]
  },
  {
   "cell_type": "code",
   "execution_count": null,
   "id": "36aa43c1-46d3-4879-b2fa-077a4d7f9673",
   "metadata": {},
   "outputs": [],
   "source": [
    "library(ComplexHeatmap)\n",
    "library(dplyr)"
   ]
  },
  {
   "cell_type": "markdown",
   "id": "5bd53aec-8b11-4084-a6ff-a0472e3d5507",
   "metadata": {},
   "source": [
    "## Functions"
   ]
  },
  {
   "cell_type": "code",
   "execution_count": null,
   "id": "6cccb3e4-81fe-4c39-8369-e32f664dbeff",
   "metadata": {},
   "outputs": [],
   "source": [
    "subset_data <- function(tissue, direction, method){\n",
    "    dt = data.table::fread(\"../../_m/clinical_overlap_ancestryDEGs.txt.gz\") %>%\n",
    "        filter(Tissue == tissue, Direction == direction, Method == method) %>%\n",
    "        select(Dataset, Genes) #%>% tibble::column_to_rownames(\"Dataset\")\n",
    "    return(dt)\n",
    "}"
   ]
  },
  {
   "cell_type": "code",
   "execution_count": null,
   "id": "ae52c813-cbed-42c1-afe7-b6bbd1eb58d6",
   "metadata": {},
   "outputs": [],
   "source": [
    "get_annotation <- function(tissue, direction, method){\n",
    "    ta = c(200, 60, 200, 250, 100, 40, 75, 125, 150, 40, 125, 150,\n",
    "           100, 20, 75, 100, 50, 20, 40, 50, 50, 20, 40, 40)\n",
    "    ra = c(500, 150, 500, 600, 250, 75, 250, 300, 300, 100, 300, 300, \n",
    "           150, 30, 150, 150, 75, 20, 75, 75, 75, 20, 75, 75)\n",
    "    annot = data.table::fread(\"../../_m/clinical_overlap_ancestryDEGs.txt.gz\") %>% \n",
    "        select(-c(Genes, Dataset)) %>% distinct %>% mutate(TA=ta, RA=ra) %>%\n",
    "        filter(Tissue == tissue, Direction == direction, Method == method) %>%\n",
    "        select(TA, RA)\n",
    "    return(annot)\n",
    "}\n",
    "\n",
    "get_data <- function(tissue, direction, method){\n",
    "    datasets = c('BS_Caudate_SZ','BS_DLPFC_SZ','BS_Hippocampus_SZ','CMC_DLPFC_SZ', 'PSY_SZ',\n",
    "             'BS_Amyg_BD', 'BS_sACC_BD', 'PSY_BD', 'Parkinsons', 'PSY_ASD',\n",
    "             'MAYO_AD', 'MSBB_MD10_AD','MSBB_MD22_AD','MSBB_MD36_AD','MSBB_MD44_AD','ROSMAP_AD')\n",
    "    lt = list()\n",
    "    for(dataset in datasets){\n",
    "        #print(dataset)\n",
    "        dt = subset_data(tissue, direction, method) %>% filter(Dataset == dataset)\n",
    "        lt[[dataset]] <- dt$Genes\n",
    "    }\n",
    "    m = make_comb_mat(lt)\n",
    "    return(m)\n",
    "}\n",
    "\n",
    "plot_upsetplot <- function(tissue, direction, method){\n",
    "    annot <- get_annotation(tissue, direction, method)\n",
    "    datasets = c('BS_Caudate_SZ','BS_DLPFC_SZ','BS_Hippocampus_SZ','CMC_DLPFC_SZ', 'PSY_SZ',\n",
    "             'BS_Amyg_BD', 'BS_sACC_BD', 'PSY_BD', 'Parkinsons', 'PSY_ASD',\n",
    "             'MAYO_AD', 'MSBB_MD10_AD','MSBB_MD22_AD','MSBB_MD36_AD','MSBB_MD44_AD','ROSMAP_AD')\n",
    "    m <- get_data(tissue, direction, method)\n",
    "    cbb_palette <- ggpubr::get_palette(palette=\"npg\", 16)\n",
    "    label = gsub(\" \", \"_\", paste(tolower(tissue), tolower(direction), tolower(method), sep=\"_\"))\n",
    "    fn = paste0(label, \".pdf\")\n",
    "    ## Annotate\n",
    "    right_annot = upset_right_annotation(m, ylim = c(0, annot$RA), gp = gpar(fill = \"black\"),\n",
    "                                         annotation_name_side = \"top\", axis_param = list(side = \"top\"))\n",
    "    top_annot = upset_top_annotation(m, height=unit(8, \"cm\"), ylim = c(0, annot$TA),\n",
    "                                     gp=gpar(fill=cbb_palette[comb_degree(m)]), annotation_name_rot = 90)\n",
    "    ## Save plot as PDF\n",
    "    pdf(fn, width=18, height=6)\n",
    "    ht = draw(UpSet(m, pt_size=unit(3, \"mm\"), lwd=3, comb_col=cbb_palette[comb_degree(m)], \n",
    "                    set_order = datasets, comb_order = order(-comb_size(m)), \n",
    "                    row_names_gp = gpar(fontsize = 12, fontface='bold'),\n",
    "                    right_annotation = right_annot, top_annotation = top_annot))\n",
    "    od = column_order(ht); cs = comb_size(m)\n",
    "    decorate_annotation(\"intersection_size\", {\n",
    "        grid.text(cs[od], x = seq_along(cs), y = unit(cs[od], \"native\") + unit(6, \"pt\"), \n",
    "        default.units = \"native\", just = \"bottom\", gp = gpar(fontsize = 9))\n",
    "    })\n",
    "    dev.off()\n",
    "}"
   ]
  },
  {
   "cell_type": "markdown",
   "id": "b8e2342f-5d15-4969-9ef2-1542ff0a68ad",
   "metadata": {},
   "source": [
    "## Main"
   ]
  },
  {
   "cell_type": "code",
   "execution_count": null,
   "id": "55053891-edb1-4aa6-aecc-cd036cd4b724",
   "metadata": {},
   "outputs": [],
   "source": [
    "for(tissue in c(\"Caudate\", \"Dentate Gyrus\", \"DLPFC\", \"Hippocampus\")){\n",
    "    for(direction in c(\"All\", \"AA Bias\", \"EA Bias\")){\n",
    "        for(method in c(\"DEG\", \"TWAS\")){\n",
    "            plot_upsetplot(tissue, direction, method)\n",
    "        }\n",
    "    }\n",
    "}"
   ]
  },
  {
   "cell_type": "markdown",
   "id": "ec6483a2-be12-4df5-887d-dd0d1b5318f8",
   "metadata": {
    "tags": []
   },
   "source": [
    "## Reproducibility Information"
   ]
  },
  {
   "cell_type": "code",
   "execution_count": null,
   "id": "0b79af27-e30c-49af-9105-39893947d413",
   "metadata": {},
   "outputs": [],
   "source": [
    "Sys.time()\n",
    "proc.time()\n",
    "options(width = 120)\n",
    "sessioninfo::session_info()"
   ]
  }
 ],
 "metadata": {
  "kernelspec": {
   "display_name": "R",
   "language": "R",
   "name": "ir"
  },
  "language_info": {
   "codemirror_mode": "r",
   "file_extension": ".r",
   "mimetype": "text/x-r-source",
   "name": "R",
   "pygments_lexer": "r",
   "version": "4.1.2"
  }
 },
 "nbformat": 4,
 "nbformat_minor": 5
}
