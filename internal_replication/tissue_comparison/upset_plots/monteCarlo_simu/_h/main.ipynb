{
 "cells": [
  {
   "cell_type": "markdown",
   "metadata": {},
   "source": [
    "# Run a Monte Carlo simulation to determine significant overlap of DEGs between multiple brain regions"
   ]
  },
  {
   "cell_type": "code",
   "execution_count": null,
   "metadata": {},
   "outputs": [],
   "source": [
    "library(tidyverse)"
   ]
  },
  {
   "cell_type": "markdown",
   "metadata": {},
   "source": [
    "## Load overlap annotation"
   ]
  },
  {
   "cell_type": "code",
   "execution_count": null,
   "metadata": {},
   "outputs": [],
   "source": [
    "annot = data.table::fread(\"../../_m/brainseq_deg_across_tissues_comparison.csv\")\n",
    "annot %>% head(2)"
   ]
  },
  {
   "cell_type": "code",
   "execution_count": null,
   "metadata": {},
   "outputs": [],
   "source": [
    "total = dim(annot)[1] ## Unique elements in the list\n",
    "caudate = dim(filter(annot, Caudate == 1))[1]\n",
    "dlpfc = dim(filter(annot, DLPFC == 1))[1]\n",
    "hippocampus = dim(filter(annot, Hippocampus == 1))[1]\n",
    "gyrus = dim(filter(annot, `Dentate Gyrus` == 1))[1]"
   ]
  },
  {
   "cell_type": "markdown",
   "metadata": {},
   "source": [
    "## Monte Carlo simulation"
   ]
  },
  {
   "cell_type": "markdown",
   "metadata": {},
   "source": [
    "### Four brain regions"
   ]
  },
  {
   "cell_type": "code",
   "execution_count": null,
   "metadata": {},
   "outputs": [],
   "source": [
    "sim = unlist(lapply(1:10000, function(i){\n",
    "    C=sample(1:total, caudate); \n",
    "    D=sample(1:total, dlpfc); \n",
    "    H=sample(1:total, hippocampus); \n",
    "    G=sample(1:total, gyrus);\n",
    "    return(length(Reduce(intersect, list(C,D,H,G))))\n",
    "}))"
   ]
  },
  {
   "cell_type": "code",
   "execution_count": null,
   "metadata": {},
   "outputs": [],
   "source": [
    "hist(sim)"
   ]
  },
  {
   "cell_type": "code",
   "execution_count": null,
   "metadata": {},
   "outputs": [],
   "source": [
    "shared = dim(filter(annot, Caudate == 1, DLPFC == 1, \n",
    "                    Hippocampus == 1, `Dentate Gyrus` == 1))[1]\n",
    "print(paste(\"The max overlap from simulation:\",max(sim)))\n",
    "print(paste(\"The overlap is:\", shared))\n",
    "## Zero instances are greater than overlap\n",
    "## So pvalues is 1 / (10000 + 1), adding my value into this\n",
    "pval1 = (sum(sim >= shared) + 1) / (10000 + 1)\n",
    "pval2 = (sum(sim <= shared) + 1) / (10000 + 1)\n",
    "print(paste(\"Enrichment p-value <\",format(pval1, digits=2)))\n",
    "print(paste(\"Depletion p-value <\",format(pval2, digits=2)))"
   ]
  },
  {
   "cell_type": "markdown",
   "metadata": {},
   "source": [
    "### Three brain regions"
   ]
  },
  {
   "cell_type": "markdown",
   "metadata": {},
   "source": [
    "#### Caudate vs DLPFC vs Hippocampus"
   ]
  },
  {
   "cell_type": "code",
   "execution_count": null,
   "metadata": {},
   "outputs": [],
   "source": [
    "total = Reduce(union, list(filter(annot, Caudate == 1)$gene_id, \n",
    "                           filter(annot, DLPFC == 1)$gene_id, \n",
    "                           filter(annot, Hippocampus == 1)$gene_id)) %>% length\n",
    "\n",
    "sim = unlist(lapply(1:10000, function(i){\n",
    "    C=sample(1:total, caudate); \n",
    "    D=sample(1:total, dlpfc); \n",
    "    H=sample(1:total, hippocampus); \n",
    "    return(length(Reduce(intersect, list(C,D,H))))\n",
    "}))\n",
    "\n",
    "hist(sim)"
   ]
  },
  {
   "cell_type": "code",
   "execution_count": null,
   "metadata": {},
   "outputs": [],
   "source": [
    "shared = dim(filter(annot, Caudate == 1, DLPFC == 1, Hippocampus == 1))[1]\n",
    "print(paste(\"The max overlap from simulation:\",max(sim)))\n",
    "print(paste(\"The overlap is:\", shared))\n",
    "## Zero instances are greater than overlap\n",
    "## So pvalues is 1 / (10000 + 1), adding my value into this\n",
    "pval1 = (sum(sim >= shared) + 1) / (10000 + 1)\n",
    "pval2 = (sum(sim <= shared) + 1) / (10000 + 1)\n",
    "print(paste(\"Enrichment p-value <\",format(pval1, digits=2)))\n",
    "print(paste(\"Depletion p-value <\",format(pval2, digits=2)))"
   ]
  },
  {
   "cell_type": "markdown",
   "metadata": {},
   "source": [
    "#### Caudate vs DLPFC vs Dentate Gyrus"
   ]
  },
  {
   "cell_type": "code",
   "execution_count": null,
   "metadata": {},
   "outputs": [],
   "source": [
    "total = Reduce(union, list(filter(annot, Caudate == 1)$gene_id, \n",
    "                           filter(annot, DLPFC == 1)$gene_id, \n",
    "                           filter(annot, `Dentate Gyrus` == 1)$gene_id)) %>% length\n",
    "\n",
    "sim = unlist(lapply(1:10000, function(i){\n",
    "    C=sample(1:total, caudate); \n",
    "    D=sample(1:total, dlpfc); \n",
    "    G=sample(1:total, gyrus);\n",
    "    return(length(Reduce(intersect, list(C,D,G))))\n",
    "}))\n",
    "\n",
    "hist(sim)"
   ]
  },
  {
   "cell_type": "code",
   "execution_count": null,
   "metadata": {},
   "outputs": [],
   "source": [
    "shared = dim(filter(annot, Caudate == 1, DLPFC == 1, `Dentate Gyrus` == 1))[1]\n",
    "print(paste(\"The max overlap from simulation:\",max(sim)))\n",
    "print(paste(\"The overlap is:\", shared))\n",
    "## Zero instances are greater than overlap\n",
    "## So pvalues is 1 / (10000 + 1), adding my value into this\n",
    "pval1 = (sum(sim >= shared) + 1) / (10000 + 1)\n",
    "pval2 = (sum(sim <= shared) + 1) / (10000 + 1)\n",
    "print(paste(\"Enrichment p-value <\",format(pval1, digits=2)))\n",
    "print(paste(\"Depletion p-value <\",format(pval2, digits=2)))"
   ]
  },
  {
   "cell_type": "markdown",
   "metadata": {},
   "source": [
    "#### Caudate vs Hippocampus vs Dentate Gyrus"
   ]
  },
  {
   "cell_type": "code",
   "execution_count": null,
   "metadata": {},
   "outputs": [],
   "source": [
    "total = Reduce(union, list(filter(annot, Caudate == 1)$gene_id, \n",
    "                           filter(annot, Hippocampus == 1)$gene_id, \n",
    "                           filter(annot, `Dentate Gyrus` == 1)$gene_id)) %>% length\n",
    "\n",
    "sim = unlist(lapply(1:10000, function(i){\n",
    "    C=sample(1:total, caudate); \n",
    "    H=sample(1:total, hippocampus); \n",
    "    G=sample(1:total, gyrus);\n",
    "    return(length(Reduce(intersect, list(C,H,G))))\n",
    "}))\n",
    "\n",
    "hist(sim)"
   ]
  },
  {
   "cell_type": "code",
   "execution_count": null,
   "metadata": {},
   "outputs": [],
   "source": [
    "shared = dim(filter(annot, Caudate == 1, `Dentate Gyrus` == 1, Hippocampus == 1))[1]\n",
    "print(paste(\"The max overlap from simulation:\",max(sim)))\n",
    "print(paste(\"The overlap is:\", shared))\n",
    "## Zero instances are greater than overlap\n",
    "## So pvalues is 1 / (10000 + 1), adding my value into this\n",
    "pval1 = (sum(sim >= shared) + 1) / (10000 + 1)\n",
    "pval2 = (sum(sim <= shared) + 1) / (10000 + 1)\n",
    "print(paste(\"Enrichment p-value <\",format(pval1, digits=2)))\n",
    "print(paste(\"Depletion p-value <\",format(pval2, digits=2)))"
   ]
  },
  {
   "cell_type": "markdown",
   "metadata": {},
   "source": [
    "#### DLPFC vs Hippocampus vs Dentate Gyrus"
   ]
  },
  {
   "cell_type": "code",
   "execution_count": null,
   "metadata": {},
   "outputs": [],
   "source": [
    "total = Reduce(union, list(filter(annot, Hippocampus == 1)$gene_id, \n",
    "                           filter(annot, DLPFC == 1)$gene_id, \n",
    "                           filter(annot, `Dentate Gyrus` == 1)$gene_id)) %>% length\n",
    "\n",
    "sim = unlist(lapply(1:10000, function(i){\n",
    "    D=sample(1:total, dlpfc); \n",
    "    H=sample(1:total, hippocampus); \n",
    "    G=sample(1:total, gyrus);\n",
    "    return(length(Reduce(intersect, list(D,H,G))))\n",
    "}))\n",
    "\n",
    "hist(sim)"
   ]
  },
  {
   "cell_type": "code",
   "execution_count": null,
   "metadata": {},
   "outputs": [],
   "source": [
    "shared = dim(filter(annot, `Dentate Gyrus` == 1, DLPFC == 1, Hippocampus == 1))[1]\n",
    "print(paste(\"The max overlap from simulation:\",max(sim)))\n",
    "print(paste(\"The overlap is:\", shared))\n",
    "## Zero instances are greater than overlap\n",
    "## So pvalues is 1 / (10000 + 1), adding my value into this\n",
    "pval1 = (sum(sim >= shared) + 1) / (10000 + 1)\n",
    "pval2 = (sum(sim <= shared) + 1) / (10000 + 1)\n",
    "print(paste(\"Enrichment p-value <\",format(pval1, digits=2)))\n",
    "print(paste(\"Depletion p-value <\",format(pval2, digits=2)))"
   ]
  },
  {
   "cell_type": "markdown",
   "metadata": {},
   "source": [
    "### Two brain regions"
   ]
  },
  {
   "cell_type": "markdown",
   "metadata": {},
   "source": [
    "#### Caudate vs DLPFC"
   ]
  },
  {
   "cell_type": "code",
   "execution_count": null,
   "metadata": {},
   "outputs": [],
   "source": [
    "total = Reduce(union, list(filter(annot, Caudate == 1)$gene_id, \n",
    "                           filter(annot, DLPFC == 1)$gene_id)) %>% length\n",
    "\n",
    "sim = unlist(lapply(1:10000, function(i){\n",
    "    C=sample(1:total, caudate); \n",
    "    D=sample(1:total, dlpfc); \n",
    "    return(length(Reduce(intersect, list(C,D))))\n",
    "}))\n",
    "\n",
    "hist(sim)"
   ]
  },
  {
   "cell_type": "code",
   "execution_count": null,
   "metadata": {},
   "outputs": [],
   "source": [
    "shared = dim(filter(annot, Caudate == 1, DLPFC == 1))[1]\n",
    "print(paste(\"The max overlap from simulation:\",max(sim)))\n",
    "print(paste(\"The overlap is:\", shared))\n",
    "## Zero instances are greater than overlap\n",
    "## So pvalues is 1 / (10000 + 1), adding my value into this\n",
    "pval1 = (sum(sim >= shared) + 1) / (10000 + 1)\n",
    "pval2 = (sum(sim <= shared) + 1) / (10000 + 1)\n",
    "print(paste(\"Enrichment p-value <\",format(pval1, digits=2)))\n",
    "print(paste(\"Depletion p-value <\",format(pval2, digits=2)))"
   ]
  },
  {
   "cell_type": "markdown",
   "metadata": {},
   "source": [
    "#### Caudate vs Hippocampus"
   ]
  },
  {
   "cell_type": "code",
   "execution_count": null,
   "metadata": {},
   "outputs": [],
   "source": [
    "total = Reduce(union, list(filter(annot, Caudate == 1)$gene_id, \n",
    "                           filter(annot, Hippocampus == 1)$gene_id)) %>% length\n",
    "\n",
    "sim = unlist(lapply(1:10000, function(i){\n",
    "    C=sample(1:total, caudate); \n",
    "    H=sample(1:total, hippocampus); \n",
    "    return(length(Reduce(intersect, list(C,H))))\n",
    "}))\n",
    "\n",
    "hist(sim)"
   ]
  },
  {
   "cell_type": "code",
   "execution_count": null,
   "metadata": {},
   "outputs": [],
   "source": [
    "shared = dim(filter(annot, Caudate == 1, Hippocampus == 1))[1]\n",
    "print(paste(\"The max overlap from simulation:\",max(sim)))\n",
    "print(paste(\"The overlap is:\", shared))\n",
    "## Zero instances are greater than overlap\n",
    "## So pvalues is 1 / (10000 + 1), adding my value into this\n",
    "pval1 = (sum(sim >= shared) + 1) / (10000 + 1)\n",
    "pval2 = (sum(sim <= shared) + 1) / (10000 + 1)\n",
    "print(paste(\"Enrichment p-value <\",format(pval1, digits=2)))\n",
    "print(paste(\"Depletion p-value <\",format(pval2, digits=2)))"
   ]
  },
  {
   "cell_type": "markdown",
   "metadata": {},
   "source": [
    "#### Caudate vs Dentate Gyrus"
   ]
  },
  {
   "cell_type": "code",
   "execution_count": null,
   "metadata": {},
   "outputs": [],
   "source": [
    "total = Reduce(union, list(filter(annot, Caudate == 1)$gene_id, \n",
    "                           filter(annot, `Dentate Gyrus` == 1)$gene_id)) %>% length\n",
    "\n",
    "sim = unlist(lapply(1:10000, function(i){\n",
    "    C=sample(1:total, caudate); \n",
    "    G=sample(1:total, gyrus);\n",
    "    return(length(Reduce(intersect, list(C,G))))\n",
    "}))\n",
    "\n",
    "hist(sim)"
   ]
  },
  {
   "cell_type": "code",
   "execution_count": null,
   "metadata": {},
   "outputs": [],
   "source": [
    "shared = dim(filter(annot, Caudate == 1, `Dentate Gyrus` == 1))[1]\n",
    "print(paste(\"The max overlap from simulation:\",max(sim)))\n",
    "print(paste(\"The overlap is:\", shared))\n",
    "## Zero instances are greater than overlap\n",
    "## So pvalues is 1 / (10000 + 1), adding my value into this\n",
    "pval1 = (sum(sim >= shared) + 1) / (10000 + 1)\n",
    "pval2 = (sum(sim <= shared) + 1) / (10000 + 1)\n",
    "print(paste(\"Enrichment p-value <\",format(pval1, digits=2)))\n",
    "print(paste(\"Depletion p-value <\",format(pval2, digits=2)))"
   ]
  },
  {
   "cell_type": "markdown",
   "metadata": {},
   "source": [
    "#### DLPFC vs Hippocampus"
   ]
  },
  {
   "cell_type": "code",
   "execution_count": null,
   "metadata": {},
   "outputs": [],
   "source": [
    "total = Reduce(union, list(filter(annot, DLPFC == 1)$gene_id, \n",
    "                           filter(annot, Hippocampus == 1)$gene_id)) %>% length\n",
    "\n",
    "sim = unlist(lapply(1:10000, function(i){\n",
    "    D=sample(1:total, dlpfc); \n",
    "    H=sample(1:total, hippocampus); \n",
    "    return(length(Reduce(intersect, list(D,H))))\n",
    "}))\n",
    "\n",
    "hist(sim)"
   ]
  },
  {
   "cell_type": "code",
   "execution_count": null,
   "metadata": {},
   "outputs": [],
   "source": [
    "shared = dim(filter(annot, DLPFC == 1, Hippocampus == 1))[1]\n",
    "print(paste(\"The max overlap from simulation:\",max(sim)))\n",
    "print(paste(\"The overlap is:\", shared))\n",
    "## Zero instances are greater than overlap\n",
    "## So pvalues is 1 / (10000 + 1), adding my value into this\n",
    "pval1 = (sum(sim >= shared) + 1) / (10000 + 1)\n",
    "pval2 = (sum(sim <= shared) + 1) / (10000 + 1)\n",
    "print(paste(\"Enrichment p-value <\",format(pval1, digits=2)))\n",
    "print(paste(\"Depletion p-value <\",format(pval2, digits=2)))"
   ]
  },
  {
   "cell_type": "markdown",
   "metadata": {},
   "source": [
    "#### DLPFC vs Dentate Gyrus"
   ]
  },
  {
   "cell_type": "code",
   "execution_count": null,
   "metadata": {},
   "outputs": [],
   "source": [
    "total = Reduce(union, list(filter(annot, DLPFC == 1)$gene_id, \n",
    "                           filter(annot, `Dentate Gyrus` == 1)$gene_id)) %>% length\n",
    "\n",
    "sim = unlist(lapply(1:10000, function(i){\n",
    "    D=sample(1:total, dlpfc); \n",
    "    G=sample(1:total, gyrus);\n",
    "    return(length(Reduce(intersect, list(D,G))))\n",
    "}))\n",
    "\n",
    "hist(sim)"
   ]
  },
  {
   "cell_type": "code",
   "execution_count": null,
   "metadata": {},
   "outputs": [],
   "source": [
    "shared = dim(filter(annot, DLPFC == 1, `Dentate Gyrus` == 1))[1]\n",
    "print(paste(\"The max overlap from simulation:\",max(sim)))\n",
    "print(paste(\"The overlap is:\", shared))\n",
    "## Zero instances are greater than overlap\n",
    "## So pvalues is 1 / (10000 + 1), adding my value into this\n",
    "pval1 = (sum(sim >= shared) + 1) / (10000 + 1)\n",
    "pval2 = (sum(sim <= shared) + 1) / (10000 + 1)\n",
    "print(paste(\"Enrichment p-value <\",format(pval1, digits=2)))\n",
    "print(paste(\"Depletion p-value <\",format(pval2, digits=2)))"
   ]
  },
  {
   "cell_type": "markdown",
   "metadata": {},
   "source": [
    "#### Hippocampus vs Dentate Gyrus"
   ]
  },
  {
   "cell_type": "code",
   "execution_count": null,
   "metadata": {},
   "outputs": [],
   "source": [
    "total = Reduce(union, list(filter(annot, Hippocampus == 1)$gene_id, \n",
    "                           filter(annot, `Dentate Gyrus` == 1)$gene_id)) %>% length\n",
    "\n",
    "sim = unlist(lapply(1:10000, function(i){\n",
    "    H=sample(1:total, hippocampus); \n",
    "    G=sample(1:total, gyrus);\n",
    "    return(length(Reduce(intersect, list(H,G))))\n",
    "}))\n",
    "\n",
    "hist(sim)"
   ]
  },
  {
   "cell_type": "code",
   "execution_count": null,
   "metadata": {},
   "outputs": [],
   "source": [
    "shared = dim(filter(annot, Hippocampus == 1, `Dentate Gyrus` == 1))[1]\n",
    "print(paste(\"The max overlap from simulation:\",max(sim)))\n",
    "print(paste(\"The overlap is:\", shared))\n",
    "## Zero instances are greater than overlap\n",
    "## So pvalues is 1 / (10000 + 1), adding my value into this\n",
    "pval1 = (sum(sim >= shared) + 1) / (10000 + 1)\n",
    "pval2 = (sum(sim <= shared) + 1) / (10000 + 1)\n",
    "print(paste(\"Enrichment p-value <\",format(pval1, digits=2)))\n",
    "print(paste(\"Depletion p-value <\",format(pval2, digits=2)))"
   ]
  },
  {
   "cell_type": "markdown",
   "metadata": {},
   "source": [
    "## Reproducibility Information"
   ]
  },
  {
   "cell_type": "code",
   "execution_count": null,
   "metadata": {},
   "outputs": [],
   "source": [
    "print(\"Reproducibility Information:\")\n",
    "Sys.time()\n",
    "proc.time()\n",
    "options(width=120)\n",
    "sessioninfo::session_info()"
   ]
  }
 ],
 "metadata": {
  "kernelspec": {
   "display_name": "R",
   "language": "R",
   "name": "ir"
  },
  "language_info": {
   "codemirror_mode": "r",
   "file_extension": ".r",
   "mimetype": "text/x-r-source",
   "name": "R",
   "pygments_lexer": "r",
   "version": "4.0.3"
  }
 },
 "nbformat": 4,
 "nbformat_minor": 4
}
