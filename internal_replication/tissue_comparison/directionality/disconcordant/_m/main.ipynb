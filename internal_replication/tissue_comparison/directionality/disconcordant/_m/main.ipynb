{
 "cells": [
  {
   "cell_type": "markdown",
   "metadata": {},
   "source": [
    "# Examine genes that are disconcordant across brain regrions"
   ]
  },
  {
   "cell_type": "code",
   "execution_count": 1,
   "metadata": {
    "execution": {
     "iopub.execute_input": "2021-07-12T13:42:21.501661Z",
     "iopub.status.busy": "2021-07-12T13:42:21.500930Z",
     "iopub.status.idle": "2021-07-12T13:42:21.902203Z",
     "shell.execute_reply": "2021-07-12T13:42:21.901217Z"
    }
   },
   "outputs": [],
   "source": [
    "import functools\n",
    "import numpy as np\n",
    "import pandas as pd"
   ]
  },
  {
   "cell_type": "code",
   "execution_count": 2,
   "metadata": {
    "execution": {
     "iopub.execute_input": "2021-07-12T13:42:21.906997Z",
     "iopub.status.busy": "2021-07-12T13:42:21.906317Z",
     "iopub.status.idle": "2021-07-12T13:42:21.909244Z",
     "shell.execute_reply": "2021-07-12T13:42:21.908663Z"
    }
   },
   "outputs": [],
   "source": [
    "config = {\n",
    "    'caudate': '../../../../caudate/_m/genes/diffExpr_EAvsAA_full.txt',\n",
    "    'dlpfc': '../../../../dlpfc/_m/genes/diffExpr_EAvsAA_full.txt',\n",
    "    'hippo': '../../../../hippocampus/_m/genes/diffExpr_EAvsAA_full.txt',\n",
    "    'gyrus': '../../../../dentateGyrus/_m/genes/diffExpr_EAvsAA_full.txt',\n",
    "}"
   ]
  },
  {
   "cell_type": "code",
   "execution_count": 3,
   "metadata": {
    "execution": {
     "iopub.execute_input": "2021-07-12T13:42:21.919221Z",
     "iopub.status.busy": "2021-07-12T13:42:21.918578Z",
     "iopub.status.idle": "2021-07-12T13:42:21.921424Z",
     "shell.execute_reply": "2021-07-12T13:42:21.920852Z"
    }
   },
   "outputs": [],
   "source": [
    "@functools.lru_cache()\n",
    "def get_deg(tissue):\n",
    "    dft = pd.read_csv(config[tissue], sep='\\t', index_col=0)\n",
    "    dft['Feature'] = dft.index\n",
    "    dft['Dir'] = np.sign(dft['t'])\n",
    "    if 'gene_id' in dft.columns:\n",
    "        dft['ensemblID'] = dft.gene_id.str.replace('\\\\..*', '', regex=True)\n",
    "    elif 'ensembl_gene_id' in dft.columns:\n",
    "        dft.rename(columns={'ensembl_gene_id': 'ensemblID'}, inplace=True)\n",
    "    return dft[['Feature', 'ensemblID', 'Symbol', 'adj.P.Val', 'logFC', 't', 'Dir']]\n",
    "\n",
    "\n",
    "@functools.lru_cache()\n",
    "def get_deg_sig(tissue, fdr):\n",
    "    dft = get_deg(tissue)\n",
    "    return dft[(dft['adj.P.Val'] < fdr)]\n",
    "\n",
    "\n",
    "@functools.lru_cache()\n",
    "def merge_dataframes(tissue1, tissue2):\n",
    "    return get_deg(tissue1).merge(get_deg(tissue2), on='Feature', \n",
    "                                  suffixes=['_%s' % tissue1, '_%s' % tissue2])\n",
    "\n",
    "\n",
    "@functools.lru_cache()\n",
    "def merge_dataframes_sig(tissue1, tissue2):\n",
    "    fdr1 = 0.05 if tissue1 != 'dlpfc' else 0.05\n",
    "    fdr2 = 0.05 if tissue2 != 'dlpfc' else 0.05\n",
    "    return get_deg_sig(tissue1, fdr1).merge(get_deg_sig(tissue2, fdr2), on='Feature', \n",
    "                                            suffixes=['_%s' % tissue1, '_%s' % tissue2])\n"
   ]
  },
  {
   "cell_type": "code",
   "execution_count": 4,
   "metadata": {
    "execution": {
     "iopub.execute_input": "2021-07-12T13:42:21.927390Z",
     "iopub.status.busy": "2021-07-12T13:42:21.926739Z",
     "iopub.status.idle": "2021-07-12T13:42:21.929481Z",
     "shell.execute_reply": "2021-07-12T13:42:21.928814Z"
    }
   },
   "outputs": [],
   "source": [
    "def extract_disconcordant(tissue1, tissue2):\n",
    "    df = merge_dataframes_sig(tissue1, tissue2)\n",
    "    df = df[((df['Dir_%s' % tissue1] == 1) & (df['Dir_%s' % tissue2] == -1)) | \n",
    "            ((df['Dir_%s' % tissue1] == -1) & (df['Dir_%s' % tissue2] == 1))]\n",
    "    return df.loc[:, ['Feature', 'Dir_%s' % tissue1, 'Dir_%s' % tissue2]]\\\n",
    "             .merge(get_deg(tissue1), on='Feature').drop('Dir', axis=1)"
   ]
  },
  {
   "cell_type": "markdown",
   "metadata": {},
   "source": [
    "## BrainSeq Tissue Comparison"
   ]
  },
  {
   "cell_type": "code",
   "execution_count": 5,
   "metadata": {
    "execution": {
     "iopub.execute_input": "2021-07-12T13:42:21.934815Z",
     "iopub.status.busy": "2021-07-12T13:42:21.934170Z",
     "iopub.status.idle": "2021-07-12T13:42:22.312280Z",
     "shell.execute_reply": "2021-07-12T13:42:22.312829Z"
    }
   },
   "outputs": [
    {
     "name": "stdout",
     "output_type": "stream",
     "text": [
      "(8, 8)\n"
     ]
    },
    {
     "data": {
      "text/html": [
       "<div>\n",
       "<style scoped>\n",
       "    .dataframe tbody tr th:only-of-type {\n",
       "        vertical-align: middle;\n",
       "    }\n",
       "\n",
       "    .dataframe tbody tr th {\n",
       "        vertical-align: top;\n",
       "    }\n",
       "\n",
       "    .dataframe thead th {\n",
       "        text-align: right;\n",
       "    }\n",
       "</style>\n",
       "<table border=\"1\" class=\"dataframe\">\n",
       "  <thead>\n",
       "    <tr style=\"text-align: right;\">\n",
       "      <th></th>\n",
       "      <th>Feature</th>\n",
       "      <th>Dir_caudate</th>\n",
       "      <th>Dir_dlpfc</th>\n",
       "      <th>ensemblID</th>\n",
       "      <th>Symbol</th>\n",
       "      <th>adj.P.Val</th>\n",
       "      <th>logFC</th>\n",
       "      <th>t</th>\n",
       "    </tr>\n",
       "  </thead>\n",
       "  <tbody>\n",
       "    <tr>\n",
       "      <th>0</th>\n",
       "      <td>ENSG00000277883.1</td>\n",
       "      <td>1.0</td>\n",
       "      <td>-1.0</td>\n",
       "      <td>ENSG00000277883</td>\n",
       "      <td>NLRP3P1</td>\n",
       "      <td>6.562210e-07</td>\n",
       "      <td>0.404942</td>\n",
       "      <td>6.067922</td>\n",
       "    </tr>\n",
       "    <tr>\n",
       "      <th>1</th>\n",
       "      <td>ENSG00000070601.9</td>\n",
       "      <td>1.0</td>\n",
       "      <td>-1.0</td>\n",
       "      <td>ENSG00000070601</td>\n",
       "      <td>FRMPD1</td>\n",
       "      <td>1.220536e-02</td>\n",
       "      <td>0.205316</td>\n",
       "      <td>3.352644</td>\n",
       "    </tr>\n",
       "    <tr>\n",
       "      <th>2</th>\n",
       "      <td>ENSG00000006625.17</td>\n",
       "      <td>-1.0</td>\n",
       "      <td>1.0</td>\n",
       "      <td>ENSG00000006625</td>\n",
       "      <td>GGCT</td>\n",
       "      <td>1.784174e-02</td>\n",
       "      <td>-0.106137</td>\n",
       "      <td>-3.200556</td>\n",
       "    </tr>\n",
       "    <tr>\n",
       "      <th>3</th>\n",
       "      <td>ENSG00000100302.6</td>\n",
       "      <td>1.0</td>\n",
       "      <td>-1.0</td>\n",
       "      <td>ENSG00000100302</td>\n",
       "      <td>RASD2</td>\n",
       "      <td>2.019820e-02</td>\n",
       "      <td>0.179923</td>\n",
       "      <td>3.146998</td>\n",
       "    </tr>\n",
       "    <tr>\n",
       "      <th>4</th>\n",
       "      <td>ENSG00000198034.10</td>\n",
       "      <td>-1.0</td>\n",
       "      <td>1.0</td>\n",
       "      <td>ENSG00000198034</td>\n",
       "      <td>RPS4X</td>\n",
       "      <td>2.940114e-02</td>\n",
       "      <td>-0.060516</td>\n",
       "      <td>-2.981437</td>\n",
       "    </tr>\n",
       "    <tr>\n",
       "      <th>5</th>\n",
       "      <td>ENSG00000027075.13</td>\n",
       "      <td>-1.0</td>\n",
       "      <td>1.0</td>\n",
       "      <td>ENSG00000027075</td>\n",
       "      <td>PRKCH</td>\n",
       "      <td>3.445104e-02</td>\n",
       "      <td>-0.130863</td>\n",
       "      <td>-2.912396</td>\n",
       "    </tr>\n",
       "    <tr>\n",
       "      <th>6</th>\n",
       "      <td>ENSG00000161544.9</td>\n",
       "      <td>1.0</td>\n",
       "      <td>-1.0</td>\n",
       "      <td>ENSG00000161544</td>\n",
       "      <td>CYGB</td>\n",
       "      <td>4.099586e-02</td>\n",
       "      <td>0.176233</td>\n",
       "      <td>2.835293</td>\n",
       "    </tr>\n",
       "    <tr>\n",
       "      <th>7</th>\n",
       "      <td>ENSG00000133574.9</td>\n",
       "      <td>-1.0</td>\n",
       "      <td>1.0</td>\n",
       "      <td>ENSG00000133574</td>\n",
       "      <td>GIMAP4</td>\n",
       "      <td>4.672012e-02</td>\n",
       "      <td>-0.156888</td>\n",
       "      <td>-2.774555</td>\n",
       "    </tr>\n",
       "  </tbody>\n",
       "</table>\n",
       "</div>"
      ],
      "text/plain": [
       "              Feature  Dir_caudate  Dir_dlpfc        ensemblID   Symbol  \\\n",
       "0   ENSG00000277883.1          1.0       -1.0  ENSG00000277883  NLRP3P1   \n",
       "1   ENSG00000070601.9          1.0       -1.0  ENSG00000070601   FRMPD1   \n",
       "2  ENSG00000006625.17         -1.0        1.0  ENSG00000006625     GGCT   \n",
       "3   ENSG00000100302.6          1.0       -1.0  ENSG00000100302    RASD2   \n",
       "4  ENSG00000198034.10         -1.0        1.0  ENSG00000198034    RPS4X   \n",
       "5  ENSG00000027075.13         -1.0        1.0  ENSG00000027075    PRKCH   \n",
       "6   ENSG00000161544.9          1.0       -1.0  ENSG00000161544     CYGB   \n",
       "7   ENSG00000133574.9         -1.0        1.0  ENSG00000133574   GIMAP4   \n",
       "\n",
       "      adj.P.Val     logFC         t  \n",
       "0  6.562210e-07  0.404942  6.067922  \n",
       "1  1.220536e-02  0.205316  3.352644  \n",
       "2  1.784174e-02 -0.106137 -3.200556  \n",
       "3  2.019820e-02  0.179923  3.146998  \n",
       "4  2.940114e-02 -0.060516 -2.981437  \n",
       "5  3.445104e-02 -0.130863 -2.912396  \n",
       "6  4.099586e-02  0.176233  2.835293  \n",
       "7  4.672012e-02 -0.156888 -2.774555  "
      ]
     },
     "execution_count": 1,
     "metadata": {},
     "output_type": "execute_result"
    }
   ],
   "source": [
    "cd = extract_disconcordant('caudate', 'dlpfc')  \n",
    "cd.to_csv(\"disconcordant_genes_%s_%s.csv\" % ('caudate', 'dlpfc'), index=False)\n",
    "print(cd.shape)\n",
    "cd"
   ]
  },
  {
   "cell_type": "code",
   "execution_count": 6,
   "metadata": {
    "execution": {
     "iopub.execute_input": "2021-07-12T13:42:22.317463Z",
     "iopub.status.busy": "2021-07-12T13:42:22.316802Z",
     "iopub.status.idle": "2021-07-12T13:42:22.516605Z",
     "shell.execute_reply": "2021-07-12T13:42:22.517246Z"
    }
   },
   "outputs": [
    {
     "name": "stdout",
     "output_type": "stream",
     "text": [
      "(7, 8)\n"
     ]
    },
    {
     "data": {
      "text/html": [
       "<div>\n",
       "<style scoped>\n",
       "    .dataframe tbody tr th:only-of-type {\n",
       "        vertical-align: middle;\n",
       "    }\n",
       "\n",
       "    .dataframe tbody tr th {\n",
       "        vertical-align: top;\n",
       "    }\n",
       "\n",
       "    .dataframe thead th {\n",
       "        text-align: right;\n",
       "    }\n",
       "</style>\n",
       "<table border=\"1\" class=\"dataframe\">\n",
       "  <thead>\n",
       "    <tr style=\"text-align: right;\">\n",
       "      <th></th>\n",
       "      <th>Feature</th>\n",
       "      <th>Dir_caudate</th>\n",
       "      <th>Dir_hippo</th>\n",
       "      <th>ensemblID</th>\n",
       "      <th>Symbol</th>\n",
       "      <th>adj.P.Val</th>\n",
       "      <th>logFC</th>\n",
       "      <th>t</th>\n",
       "    </tr>\n",
       "  </thead>\n",
       "  <tbody>\n",
       "    <tr>\n",
       "      <th>0</th>\n",
       "      <td>ENSG00000130558.19</td>\n",
       "      <td>-1.0</td>\n",
       "      <td>1.0</td>\n",
       "      <td>ENSG00000130558</td>\n",
       "      <td>OLFM1</td>\n",
       "      <td>0.000019</td>\n",
       "      <td>-0.228691</td>\n",
       "      <td>-5.292123</td>\n",
       "    </tr>\n",
       "    <tr>\n",
       "      <th>1</th>\n",
       "      <td>ENSG00000106952.7</td>\n",
       "      <td>-1.0</td>\n",
       "      <td>1.0</td>\n",
       "      <td>ENSG00000106952</td>\n",
       "      <td>TNFSF8</td>\n",
       "      <td>0.000043</td>\n",
       "      <td>-0.412720</td>\n",
       "      <td>-5.081967</td>\n",
       "    </tr>\n",
       "    <tr>\n",
       "      <th>2</th>\n",
       "      <td>ENSG00000196455.7</td>\n",
       "      <td>1.0</td>\n",
       "      <td>-1.0</td>\n",
       "      <td>ENSG00000196455</td>\n",
       "      <td>PIK3R4</td>\n",
       "      <td>0.000243</td>\n",
       "      <td>0.111391</td>\n",
       "      <td>4.617778</td>\n",
       "    </tr>\n",
       "    <tr>\n",
       "      <th>3</th>\n",
       "      <td>ENSG00000138207.13</td>\n",
       "      <td>1.0</td>\n",
       "      <td>-1.0</td>\n",
       "      <td>ENSG00000138207</td>\n",
       "      <td>RBP4</td>\n",
       "      <td>0.001274</td>\n",
       "      <td>0.220448</td>\n",
       "      <td>4.142458</td>\n",
       "    </tr>\n",
       "    <tr>\n",
       "      <th>4</th>\n",
       "      <td>ENSG00000104044.15</td>\n",
       "      <td>-1.0</td>\n",
       "      <td>1.0</td>\n",
       "      <td>ENSG00000104044</td>\n",
       "      <td>OCA2</td>\n",
       "      <td>0.006757</td>\n",
       "      <td>-0.289518</td>\n",
       "      <td>-3.585903</td>\n",
       "    </tr>\n",
       "    <tr>\n",
       "      <th>5</th>\n",
       "      <td>ENSG00000139719.9</td>\n",
       "      <td>1.0</td>\n",
       "      <td>-1.0</td>\n",
       "      <td>ENSG00000139719</td>\n",
       "      <td>VPS33A</td>\n",
       "      <td>0.019055</td>\n",
       "      <td>0.068472</td>\n",
       "      <td>3.169776</td>\n",
       "    </tr>\n",
       "    <tr>\n",
       "      <th>6</th>\n",
       "      <td>ENSG00000123329.17</td>\n",
       "      <td>-1.0</td>\n",
       "      <td>1.0</td>\n",
       "      <td>ENSG00000123329</td>\n",
       "      <td>ARHGAP9</td>\n",
       "      <td>0.040745</td>\n",
       "      <td>-0.166918</td>\n",
       "      <td>-2.839868</td>\n",
       "    </tr>\n",
       "  </tbody>\n",
       "</table>\n",
       "</div>"
      ],
      "text/plain": [
       "              Feature  Dir_caudate  Dir_hippo        ensemblID   Symbol  \\\n",
       "0  ENSG00000130558.19         -1.0        1.0  ENSG00000130558    OLFM1   \n",
       "1   ENSG00000106952.7         -1.0        1.0  ENSG00000106952   TNFSF8   \n",
       "2   ENSG00000196455.7          1.0       -1.0  ENSG00000196455   PIK3R4   \n",
       "3  ENSG00000138207.13          1.0       -1.0  ENSG00000138207     RBP4   \n",
       "4  ENSG00000104044.15         -1.0        1.0  ENSG00000104044     OCA2   \n",
       "5   ENSG00000139719.9          1.0       -1.0  ENSG00000139719   VPS33A   \n",
       "6  ENSG00000123329.17         -1.0        1.0  ENSG00000123329  ARHGAP9   \n",
       "\n",
       "   adj.P.Val     logFC         t  \n",
       "0   0.000019 -0.228691 -5.292123  \n",
       "1   0.000043 -0.412720 -5.081967  \n",
       "2   0.000243  0.111391  4.617778  \n",
       "3   0.001274  0.220448  4.142458  \n",
       "4   0.006757 -0.289518 -3.585903  \n",
       "5   0.019055  0.068472  3.169776  \n",
       "6   0.040745 -0.166918 -2.839868  "
      ]
     },
     "execution_count": 1,
     "metadata": {},
     "output_type": "execute_result"
    }
   ],
   "source": [
    "ch = extract_disconcordant('caudate', 'hippo')  \n",
    "ch.to_csv(\"disconcordant_genes_%s_%s.csv\" % ('caudate', 'hippo'), index=False)\n",
    "print(ch.shape)\n",
    "ch"
   ]
  },
  {
   "cell_type": "code",
   "execution_count": 7,
   "metadata": {
    "execution": {
     "iopub.execute_input": "2021-07-12T13:42:22.527937Z",
     "iopub.status.busy": "2021-07-12T13:42:22.527297Z",
     "iopub.status.idle": "2021-07-12T13:42:22.530906Z",
     "shell.execute_reply": "2021-07-12T13:42:22.530325Z"
    }
   },
   "outputs": [
    {
     "name": "stdout",
     "output_type": "stream",
     "text": [
      "There are 0 genes where caudate is different from both DLPFC and hippocampus!\n",
      "\n"
     ]
    },
    {
     "data": {
      "text/html": [
       "<div>\n",
       "<style scoped>\n",
       "    .dataframe tbody tr th:only-of-type {\n",
       "        vertical-align: middle;\n",
       "    }\n",
       "\n",
       "    .dataframe tbody tr th {\n",
       "        vertical-align: top;\n",
       "    }\n",
       "\n",
       "    .dataframe thead th {\n",
       "        text-align: right;\n",
       "    }\n",
       "</style>\n",
       "<table border=\"1\" class=\"dataframe\">\n",
       "  <thead>\n",
       "    <tr style=\"text-align: right;\">\n",
       "      <th></th>\n",
       "      <th>Feature</th>\n",
       "      <th>Dir_caudate</th>\n",
       "      <th>Dir_dlpfc</th>\n",
       "      <th>ensemblID</th>\n",
       "      <th>Symbol</th>\n",
       "      <th>adj.P.Val</th>\n",
       "      <th>logFC</th>\n",
       "      <th>t</th>\n",
       "    </tr>\n",
       "  </thead>\n",
       "  <tbody>\n",
       "  </tbody>\n",
       "</table>\n",
       "</div>"
      ],
      "text/plain": [
       "Empty DataFrame\n",
       "Columns: [Feature, Dir_caudate, Dir_dlpfc, ensemblID, Symbol, adj.P.Val, logFC, t]\n",
       "Index: []"
      ]
     },
     "execution_count": 1,
     "metadata": {},
     "output_type": "execute_result"
    }
   ],
   "source": [
    "print(\"There are %d genes where caudate is different from both DLPFC and hippocampus!\\n\" % \n",
    " len(set(ch.ensemblID ) & set(cd.ensemblID)))\n",
    "\n",
    "cd[(cd['ensemblID'].isin(list(set(ch.ensemblID ) & set(cd.ensemblID))))]"
   ]
  },
  {
   "cell_type": "code",
   "execution_count": 8,
   "metadata": {
    "execution": {
     "iopub.execute_input": "2021-07-12T13:42:22.538015Z",
     "iopub.status.busy": "2021-07-12T13:42:22.537369Z",
     "iopub.status.idle": "2021-07-12T13:42:22.569206Z",
     "shell.execute_reply": "2021-07-12T13:42:22.569785Z"
    }
   },
   "outputs": [
    {
     "name": "stdout",
     "output_type": "stream",
     "text": [
      "(3, 8)\n"
     ]
    },
    {
     "data": {
      "text/html": [
       "<div>\n",
       "<style scoped>\n",
       "    .dataframe tbody tr th:only-of-type {\n",
       "        vertical-align: middle;\n",
       "    }\n",
       "\n",
       "    .dataframe tbody tr th {\n",
       "        vertical-align: top;\n",
       "    }\n",
       "\n",
       "    .dataframe thead th {\n",
       "        text-align: right;\n",
       "    }\n",
       "</style>\n",
       "<table border=\"1\" class=\"dataframe\">\n",
       "  <thead>\n",
       "    <tr style=\"text-align: right;\">\n",
       "      <th></th>\n",
       "      <th>Feature</th>\n",
       "      <th>Dir_dlpfc</th>\n",
       "      <th>Dir_hippo</th>\n",
       "      <th>ensemblID</th>\n",
       "      <th>Symbol</th>\n",
       "      <th>adj.P.Val</th>\n",
       "      <th>logFC</th>\n",
       "      <th>t</th>\n",
       "    </tr>\n",
       "  </thead>\n",
       "  <tbody>\n",
       "    <tr>\n",
       "      <th>0</th>\n",
       "      <td>ENSG00000078902.15</td>\n",
       "      <td>-1.0</td>\n",
       "      <td>1.0</td>\n",
       "      <td>ENSG00000078902</td>\n",
       "      <td>TOLLIP</td>\n",
       "      <td>0.019953</td>\n",
       "      <td>-0.082392</td>\n",
       "      <td>-3.188057</td>\n",
       "    </tr>\n",
       "    <tr>\n",
       "      <th>1</th>\n",
       "      <td>ENSG00000114670.13</td>\n",
       "      <td>-1.0</td>\n",
       "      <td>1.0</td>\n",
       "      <td>ENSG00000114670</td>\n",
       "      <td>NEK11</td>\n",
       "      <td>0.025698</td>\n",
       "      <td>-0.078108</td>\n",
       "      <td>-3.078731</td>\n",
       "    </tr>\n",
       "    <tr>\n",
       "      <th>2</th>\n",
       "      <td>ENSG00000138207.13</td>\n",
       "      <td>1.0</td>\n",
       "      <td>-1.0</td>\n",
       "      <td>ENSG00000138207</td>\n",
       "      <td>RBP4</td>\n",
       "      <td>0.040661</td>\n",
       "      <td>0.132448</td>\n",
       "      <td>2.866446</td>\n",
       "    </tr>\n",
       "  </tbody>\n",
       "</table>\n",
       "</div>"
      ],
      "text/plain": [
       "              Feature  Dir_dlpfc  Dir_hippo        ensemblID  Symbol  \\\n",
       "0  ENSG00000078902.15       -1.0        1.0  ENSG00000078902  TOLLIP   \n",
       "1  ENSG00000114670.13       -1.0        1.0  ENSG00000114670   NEK11   \n",
       "2  ENSG00000138207.13        1.0       -1.0  ENSG00000138207    RBP4   \n",
       "\n",
       "   adj.P.Val     logFC         t  \n",
       "0   0.019953 -0.082392 -3.188057  \n",
       "1   0.025698 -0.078108 -3.078731  \n",
       "2   0.040661  0.132448  2.866446  "
      ]
     },
     "execution_count": 1,
     "metadata": {},
     "output_type": "execute_result"
    }
   ],
   "source": [
    "dh = extract_disconcordant('dlpfc', 'hippo')  \n",
    "dh.to_csv(\"disconcordant_genes_%s_%s.csv\" % ('dlpfc', 'hippo'), index=False)\n",
    "print(dh.shape)\n",
    "dh"
   ]
  },
  {
   "cell_type": "code",
   "execution_count": 9,
   "metadata": {
    "execution": {
     "iopub.execute_input": "2021-07-12T13:42:22.583911Z",
     "iopub.status.busy": "2021-07-12T13:42:22.583265Z",
     "iopub.status.idle": "2021-07-12T13:42:22.587263Z",
     "shell.execute_reply": "2021-07-12T13:42:22.586597Z"
    }
   },
   "outputs": [
    {
     "name": "stdout",
     "output_type": "stream",
     "text": [
      "There are 1 genes where hippocampus is different from both caudate and DLPFC!\n",
      "\n"
     ]
    },
    {
     "data": {
      "text/html": [
       "<div>\n",
       "<style scoped>\n",
       "    .dataframe tbody tr th:only-of-type {\n",
       "        vertical-align: middle;\n",
       "    }\n",
       "\n",
       "    .dataframe tbody tr th {\n",
       "        vertical-align: top;\n",
       "    }\n",
       "\n",
       "    .dataframe thead th {\n",
       "        text-align: right;\n",
       "    }\n",
       "</style>\n",
       "<table border=\"1\" class=\"dataframe\">\n",
       "  <thead>\n",
       "    <tr style=\"text-align: right;\">\n",
       "      <th></th>\n",
       "      <th>Feature</th>\n",
       "      <th>Dir_dlpfc</th>\n",
       "      <th>Dir_hippo</th>\n",
       "      <th>ensemblID</th>\n",
       "      <th>Symbol</th>\n",
       "      <th>adj.P.Val</th>\n",
       "      <th>logFC</th>\n",
       "      <th>t</th>\n",
       "    </tr>\n",
       "  </thead>\n",
       "  <tbody>\n",
       "    <tr>\n",
       "      <th>2</th>\n",
       "      <td>ENSG00000138207.13</td>\n",
       "      <td>1.0</td>\n",
       "      <td>-1.0</td>\n",
       "      <td>ENSG00000138207</td>\n",
       "      <td>RBP4</td>\n",
       "      <td>0.040661</td>\n",
       "      <td>0.132448</td>\n",
       "      <td>2.866446</td>\n",
       "    </tr>\n",
       "  </tbody>\n",
       "</table>\n",
       "</div>"
      ],
      "text/plain": [
       "              Feature  Dir_dlpfc  Dir_hippo        ensemblID Symbol  \\\n",
       "2  ENSG00000138207.13        1.0       -1.0  ENSG00000138207   RBP4   \n",
       "\n",
       "   adj.P.Val     logFC         t  \n",
       "2   0.040661  0.132448  2.866446  "
      ]
     },
     "execution_count": 1,
     "metadata": {},
     "output_type": "execute_result"
    }
   ],
   "source": [
    "print(\"There are %d genes where hippocampus is different from both caudate and DLPFC!\\n\" % \n",
    " len(set(dh.ensemblID ) & set(ch.ensemblID)))\n",
    "\n",
    "dh[(dh['ensemblID'].isin(list(set(dh.ensemblID ) & set(ch.ensemblID))))]"
   ]
  },
  {
   "cell_type": "code",
   "execution_count": 10,
   "metadata": {
    "execution": {
     "iopub.execute_input": "2021-07-12T13:42:22.592178Z",
     "iopub.status.busy": "2021-07-12T13:42:22.591545Z",
     "iopub.status.idle": "2021-07-12T13:42:22.594307Z",
     "shell.execute_reply": "2021-07-12T13:42:22.593658Z"
    }
   },
   "outputs": [
    {
     "name": "stdout",
     "output_type": "stream",
     "text": [
      "There are 0 genes where DLPFC is different from both caudate and hippocampus!\n",
      "\n"
     ]
    }
   ],
   "source": [
    "print(\"There are %d genes where DLPFC is different from both caudate and hippocampus!\\n\" % \n",
    " len(set(dh.ensemblID ) & set(cd.ensemblID)))"
   ]
  },
  {
   "cell_type": "code",
   "execution_count": 11,
   "metadata": {
    "execution": {
     "iopub.execute_input": "2021-07-12T13:42:22.599353Z",
     "iopub.status.busy": "2021-07-12T13:42:22.598720Z",
     "iopub.status.idle": "2021-07-12T13:42:22.793052Z",
     "shell.execute_reply": "2021-07-12T13:42:22.792374Z"
    }
   },
   "outputs": [
    {
     "name": "stdout",
     "output_type": "stream",
     "text": [
      "(13, 8)\n"
     ]
    },
    {
     "data": {
      "text/html": [
       "<div>\n",
       "<style scoped>\n",
       "    .dataframe tbody tr th:only-of-type {\n",
       "        vertical-align: middle;\n",
       "    }\n",
       "\n",
       "    .dataframe tbody tr th {\n",
       "        vertical-align: top;\n",
       "    }\n",
       "\n",
       "    .dataframe thead th {\n",
       "        text-align: right;\n",
       "    }\n",
       "</style>\n",
       "<table border=\"1\" class=\"dataframe\">\n",
       "  <thead>\n",
       "    <tr style=\"text-align: right;\">\n",
       "      <th></th>\n",
       "      <th>Feature</th>\n",
       "      <th>Dir_caudate</th>\n",
       "      <th>Dir_gyrus</th>\n",
       "      <th>ensemblID</th>\n",
       "      <th>Symbol</th>\n",
       "      <th>adj.P.Val</th>\n",
       "      <th>logFC</th>\n",
       "      <th>t</th>\n",
       "    </tr>\n",
       "  </thead>\n",
       "  <tbody>\n",
       "    <tr>\n",
       "      <th>0</th>\n",
       "      <td>ENSG00000277883.1</td>\n",
       "      <td>1.0</td>\n",
       "      <td>-1.0</td>\n",
       "      <td>ENSG00000277883</td>\n",
       "      <td>NLRP3P1</td>\n",
       "      <td>6.562210e-07</td>\n",
       "      <td>0.404942</td>\n",
       "      <td>6.067922</td>\n",
       "    </tr>\n",
       "    <tr>\n",
       "      <th>1</th>\n",
       "      <td>ENSG00000075234.16</td>\n",
       "      <td>-1.0</td>\n",
       "      <td>1.0</td>\n",
       "      <td>ENSG00000075234</td>\n",
       "      <td>TTC38</td>\n",
       "      <td>7.654728e-06</td>\n",
       "      <td>-0.301819</td>\n",
       "      <td>-5.508393</td>\n",
       "    </tr>\n",
       "    <tr>\n",
       "      <th>2</th>\n",
       "      <td>ENSG00000134265.12</td>\n",
       "      <td>1.0</td>\n",
       "      <td>-1.0</td>\n",
       "      <td>ENSG00000134265</td>\n",
       "      <td>NAPG</td>\n",
       "      <td>1.247357e-03</td>\n",
       "      <td>0.080082</td>\n",
       "      <td>4.149428</td>\n",
       "    </tr>\n",
       "    <tr>\n",
       "      <th>3</th>\n",
       "      <td>ENSG00000101224.17</td>\n",
       "      <td>-1.0</td>\n",
       "      <td>1.0</td>\n",
       "      <td>ENSG00000101224</td>\n",
       "      <td>CDC25B</td>\n",
       "      <td>1.598725e-03</td>\n",
       "      <td>-0.118644</td>\n",
       "      <td>-4.069179</td>\n",
       "    </tr>\n",
       "    <tr>\n",
       "      <th>4</th>\n",
       "      <td>ENSG00000068831.18</td>\n",
       "      <td>1.0</td>\n",
       "      <td>-1.0</td>\n",
       "      <td>ENSG00000068831</td>\n",
       "      <td>RASGRP2</td>\n",
       "      <td>2.788749e-03</td>\n",
       "      <td>0.139554</td>\n",
       "      <td>3.891750</td>\n",
       "    </tr>\n",
       "    <tr>\n",
       "      <th>5</th>\n",
       "      <td>ENSG00000256537.4</td>\n",
       "      <td>1.0</td>\n",
       "      <td>-1.0</td>\n",
       "      <td>ENSG00000256537</td>\n",
       "      <td>SMIM10L1</td>\n",
       "      <td>2.984501e-03</td>\n",
       "      <td>0.111219</td>\n",
       "      <td>3.870464</td>\n",
       "    </tr>\n",
       "    <tr>\n",
       "      <th>6</th>\n",
       "      <td>ENSG00000125845.6</td>\n",
       "      <td>-1.0</td>\n",
       "      <td>1.0</td>\n",
       "      <td>ENSG00000125845</td>\n",
       "      <td>BMP2</td>\n",
       "      <td>1.131502e-02</td>\n",
       "      <td>-0.209347</td>\n",
       "      <td>-3.383479</td>\n",
       "    </tr>\n",
       "    <tr>\n",
       "      <th>7</th>\n",
       "      <td>ENSG00000105700.10</td>\n",
       "      <td>-1.0</td>\n",
       "      <td>1.0</td>\n",
       "      <td>ENSG00000105700</td>\n",
       "      <td>KXD1</td>\n",
       "      <td>1.440904e-02</td>\n",
       "      <td>-0.071441</td>\n",
       "      <td>-3.288598</td>\n",
       "    </tr>\n",
       "    <tr>\n",
       "      <th>8</th>\n",
       "      <td>ENSG00000189376.11</td>\n",
       "      <td>1.0</td>\n",
       "      <td>-1.0</td>\n",
       "      <td>ENSG00000189376</td>\n",
       "      <td>C8orf76</td>\n",
       "      <td>1.626238e-02</td>\n",
       "      <td>0.145713</td>\n",
       "      <td>3.239705</td>\n",
       "    </tr>\n",
       "    <tr>\n",
       "      <th>9</th>\n",
       "      <td>ENSG00000228624.7</td>\n",
       "      <td>-1.0</td>\n",
       "      <td>1.0</td>\n",
       "      <td>ENSG00000228624</td>\n",
       "      <td>NaN</td>\n",
       "      <td>1.774571e-02</td>\n",
       "      <td>-0.110123</td>\n",
       "      <td>-3.202949</td>\n",
       "    </tr>\n",
       "    <tr>\n",
       "      <th>10</th>\n",
       "      <td>ENSG00000106069.20</td>\n",
       "      <td>1.0</td>\n",
       "      <td>-1.0</td>\n",
       "      <td>ENSG00000106069</td>\n",
       "      <td>CHN2</td>\n",
       "      <td>2.118743e-02</td>\n",
       "      <td>0.144669</td>\n",
       "      <td>3.124922</td>\n",
       "    </tr>\n",
       "    <tr>\n",
       "      <th>11</th>\n",
       "      <td>ENSG00000071991.8</td>\n",
       "      <td>1.0</td>\n",
       "      <td>-1.0</td>\n",
       "      <td>ENSG00000071991</td>\n",
       "      <td>CDH19</td>\n",
       "      <td>4.012544e-02</td>\n",
       "      <td>0.190290</td>\n",
       "      <td>2.847467</td>\n",
       "    </tr>\n",
       "    <tr>\n",
       "      <th>12</th>\n",
       "      <td>ENSG00000138640.14</td>\n",
       "      <td>-1.0</td>\n",
       "      <td>1.0</td>\n",
       "      <td>ENSG00000138640</td>\n",
       "      <td>FAM13A</td>\n",
       "      <td>4.715735e-02</td>\n",
       "      <td>-0.078567</td>\n",
       "      <td>-2.769428</td>\n",
       "    </tr>\n",
       "  </tbody>\n",
       "</table>\n",
       "</div>"
      ],
      "text/plain": [
       "               Feature  Dir_caudate  Dir_gyrus        ensemblID    Symbol  \\\n",
       "0    ENSG00000277883.1          1.0       -1.0  ENSG00000277883   NLRP3P1   \n",
       "1   ENSG00000075234.16         -1.0        1.0  ENSG00000075234     TTC38   \n",
       "2   ENSG00000134265.12          1.0       -1.0  ENSG00000134265      NAPG   \n",
       "3   ENSG00000101224.17         -1.0        1.0  ENSG00000101224    CDC25B   \n",
       "4   ENSG00000068831.18          1.0       -1.0  ENSG00000068831   RASGRP2   \n",
       "5    ENSG00000256537.4          1.0       -1.0  ENSG00000256537  SMIM10L1   \n",
       "6    ENSG00000125845.6         -1.0        1.0  ENSG00000125845      BMP2   \n",
       "7   ENSG00000105700.10         -1.0        1.0  ENSG00000105700      KXD1   \n",
       "8   ENSG00000189376.11          1.0       -1.0  ENSG00000189376   C8orf76   \n",
       "9    ENSG00000228624.7         -1.0        1.0  ENSG00000228624       NaN   \n",
       "10  ENSG00000106069.20          1.0       -1.0  ENSG00000106069      CHN2   \n",
       "11   ENSG00000071991.8          1.0       -1.0  ENSG00000071991     CDH19   \n",
       "12  ENSG00000138640.14         -1.0        1.0  ENSG00000138640    FAM13A   \n",
       "\n",
       "       adj.P.Val     logFC         t  \n",
       "0   6.562210e-07  0.404942  6.067922  \n",
       "1   7.654728e-06 -0.301819 -5.508393  \n",
       "2   1.247357e-03  0.080082  4.149428  \n",
       "3   1.598725e-03 -0.118644 -4.069179  \n",
       "4   2.788749e-03  0.139554  3.891750  \n",
       "5   2.984501e-03  0.111219  3.870464  \n",
       "6   1.131502e-02 -0.209347 -3.383479  \n",
       "7   1.440904e-02 -0.071441 -3.288598  \n",
       "8   1.626238e-02  0.145713  3.239705  \n",
       "9   1.774571e-02 -0.110123 -3.202949  \n",
       "10  2.118743e-02  0.144669  3.124922  \n",
       "11  4.012544e-02  0.190290  2.847467  \n",
       "12  4.715735e-02 -0.078567 -2.769428  "
      ]
     },
     "execution_count": 1,
     "metadata": {},
     "output_type": "execute_result"
    }
   ],
   "source": [
    "cg = extract_disconcordant('caudate', 'gyrus')  \n",
    "cg.to_csv(\"disconcordant_genes_%s_%s.csv\" % ('caudate', 'gyrus'), index=False)\n",
    "print(cg.shape)\n",
    "cg"
   ]
  },
  {
   "cell_type": "code",
   "execution_count": 12,
   "metadata": {
    "execution": {
     "iopub.execute_input": "2021-07-12T13:42:22.812530Z",
     "iopub.status.busy": "2021-07-12T13:42:22.807385Z",
     "iopub.status.idle": "2021-07-12T13:42:22.831636Z",
     "shell.execute_reply": "2021-07-12T13:42:22.830804Z"
    }
   },
   "outputs": [
    {
     "name": "stdout",
     "output_type": "stream",
     "text": [
      "(3, 8)\n"
     ]
    },
    {
     "data": {
      "text/html": [
       "<div>\n",
       "<style scoped>\n",
       "    .dataframe tbody tr th:only-of-type {\n",
       "        vertical-align: middle;\n",
       "    }\n",
       "\n",
       "    .dataframe tbody tr th {\n",
       "        vertical-align: top;\n",
       "    }\n",
       "\n",
       "    .dataframe thead th {\n",
       "        text-align: right;\n",
       "    }\n",
       "</style>\n",
       "<table border=\"1\" class=\"dataframe\">\n",
       "  <thead>\n",
       "    <tr style=\"text-align: right;\">\n",
       "      <th></th>\n",
       "      <th>Feature</th>\n",
       "      <th>Dir_dlpfc</th>\n",
       "      <th>Dir_gyrus</th>\n",
       "      <th>ensemblID</th>\n",
       "      <th>Symbol</th>\n",
       "      <th>adj.P.Val</th>\n",
       "      <th>logFC</th>\n",
       "      <th>t</th>\n",
       "    </tr>\n",
       "  </thead>\n",
       "  <tbody>\n",
       "    <tr>\n",
       "      <th>0</th>\n",
       "      <td>ENSG00000147251.15</td>\n",
       "      <td>1.0</td>\n",
       "      <td>-1.0</td>\n",
       "      <td>ENSG00000147251</td>\n",
       "      <td>DOCK11</td>\n",
       "      <td>0.000729</td>\n",
       "      <td>0.138798</td>\n",
       "      <td>4.368086</td>\n",
       "    </tr>\n",
       "    <tr>\n",
       "      <th>1</th>\n",
       "      <td>ENSG00000188386.6</td>\n",
       "      <td>-1.0</td>\n",
       "      <td>1.0</td>\n",
       "      <td>ENSG00000188386</td>\n",
       "      <td>PPP3R2</td>\n",
       "      <td>0.013399</td>\n",
       "      <td>-0.240428</td>\n",
       "      <td>-3.343980</td>\n",
       "    </tr>\n",
       "    <tr>\n",
       "      <th>2</th>\n",
       "      <td>ENSG00000280294.1</td>\n",
       "      <td>-1.0</td>\n",
       "      <td>1.0</td>\n",
       "      <td>ENSG00000280294</td>\n",
       "      <td>NaN</td>\n",
       "      <td>0.022723</td>\n",
       "      <td>-0.118239</td>\n",
       "      <td>-3.132760</td>\n",
       "    </tr>\n",
       "  </tbody>\n",
       "</table>\n",
       "</div>"
      ],
      "text/plain": [
       "              Feature  Dir_dlpfc  Dir_gyrus        ensemblID  Symbol  \\\n",
       "0  ENSG00000147251.15        1.0       -1.0  ENSG00000147251  DOCK11   \n",
       "1   ENSG00000188386.6       -1.0        1.0  ENSG00000188386  PPP3R2   \n",
       "2   ENSG00000280294.1       -1.0        1.0  ENSG00000280294     NaN   \n",
       "\n",
       "   adj.P.Val     logFC         t  \n",
       "0   0.000729  0.138798  4.368086  \n",
       "1   0.013399 -0.240428 -3.343980  \n",
       "2   0.022723 -0.118239 -3.132760  "
      ]
     },
     "execution_count": 1,
     "metadata": {},
     "output_type": "execute_result"
    }
   ],
   "source": [
    "dg = extract_disconcordant('dlpfc', 'gyrus')  \n",
    "dg.to_csv(\"disconcordant_genes_%s_%s.csv\" % ('dlpfc', 'gyrus'), index=False)\n",
    "print(dg.shape)\n",
    "dg"
   ]
  },
  {
   "cell_type": "code",
   "execution_count": 13,
   "metadata": {
    "execution": {
     "iopub.execute_input": "2021-07-12T13:42:22.841705Z",
     "iopub.status.busy": "2021-07-12T13:42:22.841061Z",
     "iopub.status.idle": "2021-07-12T13:42:22.844918Z",
     "shell.execute_reply": "2021-07-12T13:42:22.844259Z"
    }
   },
   "outputs": [
    {
     "name": "stdout",
     "output_type": "stream",
     "text": [
      "There are 0 genes where dentate gyrus is different from both caudate and DLPFC!\n",
      "\n"
     ]
    },
    {
     "data": {
      "text/html": [
       "<div>\n",
       "<style scoped>\n",
       "    .dataframe tbody tr th:only-of-type {\n",
       "        vertical-align: middle;\n",
       "    }\n",
       "\n",
       "    .dataframe tbody tr th {\n",
       "        vertical-align: top;\n",
       "    }\n",
       "\n",
       "    .dataframe thead th {\n",
       "        text-align: right;\n",
       "    }\n",
       "</style>\n",
       "<table border=\"1\" class=\"dataframe\">\n",
       "  <thead>\n",
       "    <tr style=\"text-align: right;\">\n",
       "      <th></th>\n",
       "      <th>Feature</th>\n",
       "      <th>Dir_caudate</th>\n",
       "      <th>Dir_gyrus</th>\n",
       "      <th>ensemblID</th>\n",
       "      <th>Symbol</th>\n",
       "      <th>adj.P.Val</th>\n",
       "      <th>logFC</th>\n",
       "      <th>t</th>\n",
       "    </tr>\n",
       "  </thead>\n",
       "  <tbody>\n",
       "  </tbody>\n",
       "</table>\n",
       "</div>"
      ],
      "text/plain": [
       "Empty DataFrame\n",
       "Columns: [Feature, Dir_caudate, Dir_gyrus, ensemblID, Symbol, adj.P.Val, logFC, t]\n",
       "Index: []"
      ]
     },
     "execution_count": 1,
     "metadata": {},
     "output_type": "execute_result"
    }
   ],
   "source": [
    "print(\"There are %d genes where dentate gyrus is different from both caudate and DLPFC!\\n\" % \n",
    " len(set(cg.ensemblID ) & set(dg.ensemblID)))\n",
    "\n",
    "cg[(cg['ensemblID'].isin(list(set(dg.ensemblID ) & set(cg.ensemblID))))]"
   ]
  },
  {
   "cell_type": "code",
   "execution_count": 14,
   "metadata": {
    "execution": {
     "iopub.execute_input": "2021-07-12T13:42:22.863806Z",
     "iopub.status.busy": "2021-07-12T13:42:22.863167Z",
     "iopub.status.idle": "2021-07-12T13:42:22.882558Z",
     "shell.execute_reply": "2021-07-12T13:42:22.881897Z"
    }
   },
   "outputs": [
    {
     "name": "stdout",
     "output_type": "stream",
     "text": [
      "(4, 8)\n"
     ]
    },
    {
     "data": {
      "text/html": [
       "<div>\n",
       "<style scoped>\n",
       "    .dataframe tbody tr th:only-of-type {\n",
       "        vertical-align: middle;\n",
       "    }\n",
       "\n",
       "    .dataframe tbody tr th {\n",
       "        vertical-align: top;\n",
       "    }\n",
       "\n",
       "    .dataframe thead th {\n",
       "        text-align: right;\n",
       "    }\n",
       "</style>\n",
       "<table border=\"1\" class=\"dataframe\">\n",
       "  <thead>\n",
       "    <tr style=\"text-align: right;\">\n",
       "      <th></th>\n",
       "      <th>Feature</th>\n",
       "      <th>Dir_hippo</th>\n",
       "      <th>Dir_gyrus</th>\n",
       "      <th>ensemblID</th>\n",
       "      <th>Symbol</th>\n",
       "      <th>adj.P.Val</th>\n",
       "      <th>logFC</th>\n",
       "      <th>t</th>\n",
       "    </tr>\n",
       "  </thead>\n",
       "  <tbody>\n",
       "    <tr>\n",
       "      <th>0</th>\n",
       "      <td>ENSG00000101224.17</td>\n",
       "      <td>-1.0</td>\n",
       "      <td>1.0</td>\n",
       "      <td>ENSG00000101224</td>\n",
       "      <td>CDC25B</td>\n",
       "      <td>0.000833</td>\n",
       "      <td>-0.137511</td>\n",
       "      <td>-4.293268</td>\n",
       "    </tr>\n",
       "    <tr>\n",
       "      <th>1</th>\n",
       "      <td>ENSG00000075234.16</td>\n",
       "      <td>-1.0</td>\n",
       "      <td>1.0</td>\n",
       "      <td>ENSG00000075234</td>\n",
       "      <td>TTC38</td>\n",
       "      <td>0.012194</td>\n",
       "      <td>-0.165073</td>\n",
       "      <td>-3.367048</td>\n",
       "    </tr>\n",
       "    <tr>\n",
       "      <th>2</th>\n",
       "      <td>ENSG00000165410.14</td>\n",
       "      <td>-1.0</td>\n",
       "      <td>1.0</td>\n",
       "      <td>ENSG00000165410</td>\n",
       "      <td>CFL2</td>\n",
       "      <td>0.031319</td>\n",
       "      <td>-0.111948</td>\n",
       "      <td>-2.967453</td>\n",
       "    </tr>\n",
       "    <tr>\n",
       "      <th>3</th>\n",
       "      <td>ENSG00000214140.10</td>\n",
       "      <td>-1.0</td>\n",
       "      <td>1.0</td>\n",
       "      <td>ENSG00000214140</td>\n",
       "      <td>PRCD</td>\n",
       "      <td>0.043470</td>\n",
       "      <td>-0.165288</td>\n",
       "      <td>-2.808149</td>\n",
       "    </tr>\n",
       "  </tbody>\n",
       "</table>\n",
       "</div>"
      ],
      "text/plain": [
       "              Feature  Dir_hippo  Dir_gyrus        ensemblID  Symbol  \\\n",
       "0  ENSG00000101224.17       -1.0        1.0  ENSG00000101224  CDC25B   \n",
       "1  ENSG00000075234.16       -1.0        1.0  ENSG00000075234   TTC38   \n",
       "2  ENSG00000165410.14       -1.0        1.0  ENSG00000165410    CFL2   \n",
       "3  ENSG00000214140.10       -1.0        1.0  ENSG00000214140    PRCD   \n",
       "\n",
       "   adj.P.Val     logFC         t  \n",
       "0   0.000833 -0.137511 -4.293268  \n",
       "1   0.012194 -0.165073 -3.367048  \n",
       "2   0.031319 -0.111948 -2.967453  \n",
       "3   0.043470 -0.165288 -2.808149  "
      ]
     },
     "execution_count": 1,
     "metadata": {},
     "output_type": "execute_result"
    }
   ],
   "source": [
    "hg = extract_disconcordant('hippo', 'gyrus')  \n",
    "hg.to_csv(\"disconcordant_genes_%s_%s.csv\" % ('hippo', 'gyrus'), index=False)\n",
    "print(hg.shape)\n",
    "hg"
   ]
  },
  {
   "cell_type": "code",
   "execution_count": 15,
   "metadata": {
    "execution": {
     "iopub.execute_input": "2021-07-12T13:42:22.892348Z",
     "iopub.status.busy": "2021-07-12T13:42:22.891727Z",
     "iopub.status.idle": "2021-07-12T13:42:22.895487Z",
     "shell.execute_reply": "2021-07-12T13:42:22.894830Z"
    }
   },
   "outputs": [
    {
     "name": "stdout",
     "output_type": "stream",
     "text": [
      "There are 0 genes where dentate gyrus is different from both DLPFC and hippocampus!\n",
      "\n"
     ]
    },
    {
     "data": {
      "text/html": [
       "<div>\n",
       "<style scoped>\n",
       "    .dataframe tbody tr th:only-of-type {\n",
       "        vertical-align: middle;\n",
       "    }\n",
       "\n",
       "    .dataframe tbody tr th {\n",
       "        vertical-align: top;\n",
       "    }\n",
       "\n",
       "    .dataframe thead th {\n",
       "        text-align: right;\n",
       "    }\n",
       "</style>\n",
       "<table border=\"1\" class=\"dataframe\">\n",
       "  <thead>\n",
       "    <tr style=\"text-align: right;\">\n",
       "      <th></th>\n",
       "      <th>Feature</th>\n",
       "      <th>Dir_hippo</th>\n",
       "      <th>Dir_gyrus</th>\n",
       "      <th>ensemblID</th>\n",
       "      <th>Symbol</th>\n",
       "      <th>adj.P.Val</th>\n",
       "      <th>logFC</th>\n",
       "      <th>t</th>\n",
       "    </tr>\n",
       "  </thead>\n",
       "  <tbody>\n",
       "  </tbody>\n",
       "</table>\n",
       "</div>"
      ],
      "text/plain": [
       "Empty DataFrame\n",
       "Columns: [Feature, Dir_hippo, Dir_gyrus, ensemblID, Symbol, adj.P.Val, logFC, t]\n",
       "Index: []"
      ]
     },
     "execution_count": 1,
     "metadata": {},
     "output_type": "execute_result"
    }
   ],
   "source": [
    "print(\"There are %d genes where dentate gyrus is different from both DLPFC and hippocampus!\\n\" % \n",
    " len(set(hg.ensemblID ) & set(dg.ensemblID)))\n",
    "\n",
    "hg[(hg['ensemblID'].isin(list(set(hg.ensemblID ) & set(dg.ensemblID))))]"
   ]
  },
  {
   "cell_type": "code",
   "execution_count": 16,
   "metadata": {
    "execution": {
     "iopub.execute_input": "2021-07-12T13:42:22.905365Z",
     "iopub.status.busy": "2021-07-12T13:42:22.904730Z",
     "iopub.status.idle": "2021-07-12T13:42:22.912132Z",
     "shell.execute_reply": "2021-07-12T13:42:22.911563Z"
    }
   },
   "outputs": [
    {
     "name": "stdout",
     "output_type": "stream",
     "text": [
      "There are 0 genes where dentate gyrus is different from both caudate, DLPFC, and hippocampus!\n",
      "\n"
     ]
    },
    {
     "data": {
      "text/html": [
       "<div>\n",
       "<style scoped>\n",
       "    .dataframe tbody tr th:only-of-type {\n",
       "        vertical-align: middle;\n",
       "    }\n",
       "\n",
       "    .dataframe tbody tr th {\n",
       "        vertical-align: top;\n",
       "    }\n",
       "\n",
       "    .dataframe thead th {\n",
       "        text-align: right;\n",
       "    }\n",
       "</style>\n",
       "<table border=\"1\" class=\"dataframe\">\n",
       "  <thead>\n",
       "    <tr style=\"text-align: right;\">\n",
       "      <th></th>\n",
       "      <th>Feature</th>\n",
       "      <th>Dir_caudate</th>\n",
       "      <th>Dir_gyrus</th>\n",
       "      <th>ensemblID</th>\n",
       "      <th>Symbol</th>\n",
       "      <th>adj.P.Val</th>\n",
       "      <th>logFC</th>\n",
       "      <th>t</th>\n",
       "    </tr>\n",
       "  </thead>\n",
       "  <tbody>\n",
       "  </tbody>\n",
       "</table>\n",
       "</div>"
      ],
      "text/plain": [
       "Empty DataFrame\n",
       "Columns: [Feature, Dir_caudate, Dir_gyrus, ensemblID, Symbol, adj.P.Val, logFC, t]\n",
       "Index: []"
      ]
     },
     "execution_count": 1,
     "metadata": {},
     "output_type": "execute_result"
    }
   ],
   "source": [
    "print(\"There are %d genes where dentate gyrus is different from both caudate, DLPFC, and hippocampus!\\n\" % \n",
    "      len(set(cg.ensemblID) & set(dg.ensemblID) & set(hg.ensemblID)))\n",
    "\n",
    "cg[(cg['ensemblID'].isin(list(set(cg.ensemblID) & set(dg.ensemblID) & set(hg.ensemblID))))]"
   ]
  },
  {
   "cell_type": "code",
   "execution_count": null,
   "metadata": {},
   "outputs": [],
   "source": []
  }
 ],
 "metadata": {
  "kernelspec": {
   "display_name": "Python 3",
   "language": "python",
   "name": "python3"
  },
  "language_info": {
   "codemirror_mode": {
    "name": "ipython",
    "version": 3
   },
   "file_extension": ".py",
   "mimetype": "text/x-python",
   "name": "python",
   "nbconvert_exporter": "python",
   "pygments_lexer": "ipython3",
   "version": "3.9.1"
  }
 },
 "nbformat": 4,
 "nbformat_minor": 4
}
