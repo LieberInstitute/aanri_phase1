{
 "cells": [
  {
   "cell_type": "markdown",
   "metadata": {},
   "source": [
    "# Test for enrichment of mashr results with DTU"
   ]
  },
  {
   "cell_type": "code",
   "execution_count": 1,
   "metadata": {},
   "outputs": [],
   "source": [
    "import functools\n",
    "import numpy as np\n",
    "import pandas as pd\n",
    "from pybiomart import Dataset\n",
    "from scipy.stats import fisher_exact\n",
    "from statsmodels.stats.multitest import multipletests"
   ]
  },
  {
   "cell_type": "markdown",
   "metadata": {},
   "source": [
    "## Function"
   ]
  },
  {
   "cell_type": "markdown",
   "metadata": {},
   "source": [
    "### Cached functions"
   ]
  },
  {
   "cell_type": "code",
   "execution_count": 13,
   "metadata": {},
   "outputs": [],
   "source": [
    "@functools.lru_cache()\n",
    "def get_mashr_results(feature):\n",
    "    return pd.read_csv(\"../../_m/%s/brainseq_ancestry_4tissues_mashr.tsv\" % \n",
    "                       feature, sep='\\t')\n",
    "\n",
    "\n",
    "@functools.lru_cache()\n",
    "def get_mashr_results_by_tissue(tissue, feature):\n",
    "    return get_mashr_results(feature).loc[:, [\"Feature\", tissue]]\n",
    "\n",
    "\n",
    "@functools.lru_cache()\n",
    "def get_mashr_sig_genes(tissue, feature):\n",
    "    return get_mashr_results(feature)[(get_mashr_results(feature)[tissue] == 1)].loc[:, [\"Feature\", tissue]]\n",
    "\n",
    "\n",
    "@functools.lru_cache()\n",
    "def get_mashr_tissue_specific(tissue, feature):\n",
    "    return get_mashr_results(feature)[(get_mashr_results(feature)[\"N_Regions_Shared\"] == 1) & \n",
    "                                      (get_mashr_results(feature)[tissue] == 1)].loc[:, [\"Feature\", tissue]]\n",
    "\n",
    "\n",
    "@functools.lru_cache()\n",
    "def feature_map(feature):\n",
    "    return {\"genes\": \"Gene\", \"transcripts\": \"Transcript\", \n",
    "            \"exons\": \"Exon\", \"junctions\": \"Junction\"}[feature]\n",
    "\n",
    "\n",
    "@functools.lru_cache()\n",
    "def tissue_map(tissue):\n",
    "    return {\"Caudate\": \"caudate\", \"Dentate Gyrus\": \"dentateGyrus\", \n",
    "            \"DLPFC\": \"dlpfc\", \"Hippocampus\": \"hippocampus\"}[tissue]\n",
    "\n",
    "\n",
    "@functools.lru_cache()\n",
    "def get_annot(tissue, feature):\n",
    "    fn = \"../../../../%s/_m/%s/diffExpr_EAvsAA_full.txt\" % (tissue_map(tissue), feature)\n",
    "    symbols = {\"gene_name\": \"Symbol\", \"newGeneSymbol\": \"Symbol\", \"index\": \"Feature\"}\n",
    "    if tissue == \"Caudate\":\n",
    "        tx = \"gene_name\"\n",
    "    else:\n",
    "        tx = \"Symbol\"\n",
    "    symbol_map = {\"transcripts\": tx, \"junctions\": \"newGeneSymbol\", \n",
    "                  \"genes\": \"Symbol\", \"exons\": \"Symbol\"}\n",
    "    return pd.read_csv(fn, sep='\\t', index_col=0).loc[:, [symbol_map[feature]]]\\\n",
    "             .reset_index().rename(columns=symbols)\n",
    "\n",
    "\n",
    "@functools.lru_cache()\n",
    "def get_DS(tissue):\n",
    "    ## Load local splicing results\n",
    "    return pd.read_csv(\"../../../../%s/localsplicing/visualization/_m/cluster_ds_results_annotated.txt\" % \n",
    "                       tissue_map(tissue), sep='\\t')\\\n",
    "             .rename(columns={\"gene\": \"Symbol\"})\n",
    "\n",
    "\n",
    "@functools.lru_cache()\n",
    "def annotate_ds(tissue, feature):\n",
    "    df = get_DS(tissue).merge(get_annot(tissue, feature), on=\"Symbol\")\n",
    "    df[tissue] = 1\n",
    "    return df"
   ]
  },
  {
   "cell_type": "markdown",
   "metadata": {},
   "source": [
    "### Simple functions"
   ]
  },
  {
   "cell_type": "code",
   "execution_count": 22,
   "metadata": {},
   "outputs": [],
   "source": [
    "def print_overlap(feature, tissue, fnc):\n",
    "    overlap = len(set(fnc(tissue, feature).Feature) & \n",
    "                  set(annotate_ds(tissue, feature).Feature))\n",
    "    print(\"There are {} ({:.1%}) DS overlapping DE {}.\"\\\n",
    "          .format(overlap, overlap/len(annotate_ds(tissue, feature).Feature.unique()), feature))\n",
    "    \n",
    "\n",
    "def merge_data(feature, tissue):\n",
    "    return annotate_ds(tissue, feature).loc[:, [\"Feature\", tissue, \"annotation\"]]\\\n",
    "                                       .drop_duplicates(subset=\"Feature\")\\\n",
    "                                       .merge(get_mashr_results_by_tissue(tissue, feature), \n",
    "                                              on=\"Feature\", how=\"outer\", suffixes=[\"_ds\", \"_mashr\"])\\\n",
    "                                       .fillna(0)\n",
    "\n",
    "\n",
    "def cal_fishers(feature, tissue):\n",
    "    dt = merge_data(feature, tissue)\n",
    "    table = [[np.sum((dt['%s_ds' % tissue]==1) & ((dt['%s_mashr' % tissue]==1))),\n",
    "              np.sum((dt['%s_ds' % tissue]==1) & ((dt['%s_mashr' % tissue]==0)))],\n",
    "             [np.sum((dt['%s_ds' % tissue]==0) & ((dt['%s_mashr' % tissue]==1))),\n",
    "              np.sum((dt['%s_ds' % tissue]==0) & ((dt['%s_mashr' % tissue]==0)))]]\n",
    "    #print(table)\n",
    "    return fisher_exact(table)"
   ]
  },
  {
   "cell_type": "markdown",
   "metadata": {},
   "source": [
    "## Overlap with DE"
   ]
  },
  {
   "cell_type": "code",
   "execution_count": 20,
   "metadata": {},
   "outputs": [
    {
     "name": "stdout",
     "output_type": "stream",
     "text": [
      "Caudate\n",
      "There are 398 (27.7%) DS overlapping DE genes.\n",
      "There are 1552 (14.4%) DS overlapping DE transcripts.\n",
      "There are 7702 (17.1%) DS overlapping DE exons.\n",
      "There are 2918 (13.5%) DS overlapping DE junctions.\n",
      "\n",
      "Caudate-specific\n",
      "There are 71 (4.9%) DS overlapping DE genes.\n",
      "There are 271 (2.5%) DS overlapping DE transcripts.\n",
      "There are 1551 (3.4%) DS overlapping DE exons.\n",
      "There are 547 (2.5%) DS overlapping DE junctions.\n",
      "\n",
      "Dentate Gyrus\n",
      "There are 111 (22.4%) DS overlapping DE genes.\n",
      "There are 650 (21.2%) DS overlapping DE transcripts.\n",
      "There are 2629 (15.7%) DS overlapping DE exons.\n",
      "There are 1326 (15.9%) DS overlapping DE junctions.\n",
      "\n",
      "Dentate Gyrus-specific\n",
      "There are 11 (2.2%) DS overlapping DE genes.\n",
      "There are 132 (4.3%) DS overlapping DE transcripts.\n",
      "There are 546 (3.3%) DS overlapping DE exons.\n",
      "There are 285 (3.4%) DS overlapping DE junctions.\n",
      "\n",
      "DLPFC\n",
      "There are 300 (28.7%) DS overlapping DE genes.\n",
      "There are 1338 (18.9%) DS overlapping DE transcripts.\n",
      "There are 6291 (19.1%) DS overlapping DE exons.\n",
      "There are 2611 (16.4%) DS overlapping DE junctions.\n",
      "\n",
      "DLPFC-specific\n",
      "There are 41 (3.9%) DS overlapping DE genes.\n",
      "There are 214 (3.0%) DS overlapping DE transcripts.\n",
      "There are 1098 (3.3%) DS overlapping DE exons.\n",
      "There are 440 (2.8%) DS overlapping DE junctions.\n",
      "\n",
      "Hippocampus\n",
      "There are 279 (26.3%) DS overlapping DE genes.\n",
      "There are 1443 (20.4%) DS overlapping DE transcripts.\n",
      "There are 5979 (17.8%) DS overlapping DE exons.\n",
      "There are 2406 (15.5%) DS overlapping DE junctions.\n",
      "\n",
      "Hippocampus-specific\n",
      "There are 50 (4.7%) DS overlapping DE genes.\n",
      "There are 280 (4.0%) DS overlapping DE transcripts.\n",
      "There are 1155 (3.4%) DS overlapping DE exons.\n",
      "There are 444 (2.9%) DS overlapping DE junctions.\n",
      "\n"
     ]
    }
   ],
   "source": [
    "for tissue in [\"Caudate\", \"Dentate Gyrus\", \"DLPFC\", \"Hippocampus\"]:\n",
    "    print(\"{}\".format(tissue))\n",
    "    for feature in [\"genes\", \"transcripts\", \"exons\", \"junctions\"]:\n",
    "        print_overlap(feature, tissue, get_mashr_sig_genes)\n",
    "    print(\"\\n{}-specific\".format(tissue))\n",
    "    for feature in [\"genes\", \"transcripts\", \"exons\", \"junctions\"]:\n",
    "        print_overlap(feature, tissue, get_mashr_tissue_specific)\n",
    "    print(\"\")"
   ]
  },
  {
   "cell_type": "markdown",
   "metadata": {},
   "source": [
    "## Enrichment analysis"
   ]
  },
  {
   "cell_type": "code",
   "execution_count": 26,
   "metadata": {},
   "outputs": [
    {
     "name": "stdout",
     "output_type": "stream",
     "text": [
      "Caudate\n",
      "Enrichment of DS within DE for Gene:\n",
      "\tOdd Ratio: 1.09; P-value: 1.5e-01\n",
      "Enrichment of DS within DE for Transcript:\n",
      "\tOdd Ratio: 0.93; P-value: 1.1e-02\n",
      "Enrichment of DS within DE for Exon:\n",
      "\tOdd Ratio: 1.45; P-value: 1.9e-146\n",
      "Enrichment of DS within DE for Junction:\n",
      "\tOdd Ratio: 1.52; P-value: 1.8e-70\n",
      "\n",
      "Dentate Gyrus\n",
      "Enrichment of DS within DE for Gene:\n",
      "\tOdd Ratio: 1.03; P-value: 7.8e-01\n",
      "Enrichment of DS within DE for Transcript:\n",
      "\tOdd Ratio: 1.15; P-value: 2.5e-03\n",
      "Enrichment of DS within DE for Exon:\n",
      "\tOdd Ratio: 1.55; P-value: 9.7e-80\n",
      "Enrichment of DS within DE for Junction:\n",
      "\tOdd Ratio: 1.97; P-value: 4.2e-89\n",
      "\n",
      "DLPFC\n",
      "Enrichment of DS within DE for Gene:\n",
      "\tOdd Ratio: 1.16; P-value: 4.2e-02\n",
      "Enrichment of DS within DE for Transcript:\n",
      "\tOdd Ratio: 1.07; P-value: 3.7e-02\n",
      "Enrichment of DS within DE for Exon:\n",
      "\tOdd Ratio: 1.56; P-value: 3.4e-176\n",
      "Enrichment of DS within DE for Junction:\n",
      "\tOdd Ratio: 1.78; P-value: 7.3e-119\n",
      "\n",
      "Hippocampus\n",
      "Enrichment of DS within DE for Gene:\n",
      "\tOdd Ratio: 1.00; P-value: 1.0e+00\n",
      "Enrichment of DS within DE for Transcript:\n",
      "\tOdd Ratio: 1.11; P-value: 8.8e-04\n",
      "Enrichment of DS within DE for Exon:\n",
      "\tOdd Ratio: 1.47; P-value: 5.1e-128\n",
      "Enrichment of DS within DE for Junction:\n",
      "\tOdd Ratio: 1.72; P-value: 6.0e-100\n",
      "\n"
     ]
    }
   ],
   "source": [
    "feature_lt = []; pval_lt = []; oddratio_lt = []; tissue_lt = []\n",
    "for tissue in [\"Caudate\", \"Dentate Gyrus\", \"DLPFC\", \"Hippocampus\"]:\n",
    "    print(tissue)\n",
    "    for feature in [\"genes\", \"transcripts\", \"exons\", \"junctions\"]:\n",
    "        oddratio, pval = cal_fishers(feature, tissue)\n",
    "        feature_lt.append(feature_map(feature))\n",
    "        pval_lt.append(pval)\n",
    "        oddratio_lt.append(oddratio)\n",
    "        tissue_lt.append(tissue)\n",
    "        print(\"Enrichment of DS within DE for {}:\\n\\tOdd Ratio: {:.2f}; P-value: {:.1e}\"\\\n",
    "              .format(feature_map(feature), oddratio, pval))\n",
    "    print(\"\")\n",
    "pval_lt = [1e-323 if x == 0 else x for x in pval_lt]\n",
    "_, fdr, _, _ = multipletests(pval_lt, method='fdr_bh')\n",
    "df = pd.DataFrame({\"Tissue\": tissue_lt, \"Feature\": feature_lt,\n",
    "                   \"OR\": oddratio_lt, \"PValue\": pval_lt, \"FDR\": fdr})"
   ]
  },
  {
   "cell_type": "code",
   "execution_count": 28,
   "metadata": {},
   "outputs": [],
   "source": [
    "df.to_csv('diffSplice_enrichment_analysis.txt', sep='\\t', index=False)"
   ]
  },
  {
   "cell_type": "code",
   "execution_count": null,
   "metadata": {},
   "outputs": [],
   "source": []
  }
 ],
 "metadata": {
  "kernelspec": {
   "display_name": "Python 3 (ipykernel)",
   "language": "python",
   "name": "python3"
  },
  "language_info": {
   "codemirror_mode": {
    "name": "ipython",
    "version": 3
   },
   "file_extension": ".py",
   "mimetype": "text/x-python",
   "name": "python",
   "nbconvert_exporter": "python",
   "pygments_lexer": "ipython3",
   "version": "3.9.7"
  }
 },
 "nbformat": 4,
 "nbformat_minor": 4
}
