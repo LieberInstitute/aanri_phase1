{
 "cells": [
  {
   "cell_type": "markdown",
   "metadata": {},
   "source": [
    "# Cell deconvolution comparison and quality control\n",
    "**Performed by Louise Huuki**"
   ]
  },
  {
   "cell_type": "code",
   "execution_count": null,
   "metadata": {},
   "outputs": [],
   "source": [
    "library(tidyverse)\n",
    "library(ggpubr)"
   ]
  },
  {
   "cell_type": "markdown",
   "metadata": {},
   "source": [
    "## Functions"
   ]
  },
  {
   "cell_type": "code",
   "execution_count": null,
   "metadata": {},
   "outputs": [],
   "source": [
    "get_pheno <- function(){\n",
    "    baseloc = \"../../../input\"\n",
    "    ancestry <- paste0(baseloc,\"/ancestry_structure/structure.out_ancestry\",\n",
    "                       \"_proportion_raceDemo_compare\")\n",
    "    fname = paste0(baseloc,\"/phenotypes/merged/_m/merged_phenotypes.csv\")\n",
    "    df = data.table::fread(fname) %>% select(-V1) %>%\n",
    "        filter(Dx %in% c(\"Control\"), Age > 17,\n",
    "               Race %in% c(\"AA\", \"CAUC\")) %>%\n",
    "        inner_join(data.table::fread(ancestry),\n",
    "                   by=c(\"BrNum\"=\"id\", \"Race\"=\"group\")) %>%\n",
    "        mutate(Race = gsub(\"CAUC\", \"EA\", Race))\n",
    "    return(df)\n",
    "}\n",
    "memPHENO <- memoise::memoise(get_pheno)\n",
    "\n",
    "save_img <- function(image, fn, w, h){\n",
    "    for(ext in c(\".svg\", \".pdf\", \".png\")){\n",
    "        ggsave(file=paste0(fn, ext), plot=image, width=w, height=h)\n",
    "    }\n",
    "}"
   ]
  },
  {
   "cell_type": "markdown",
   "metadata": {},
   "source": [
    "## Prepare data"
   ]
  },
  {
   "cell_type": "code",
   "execution_count": null,
   "metadata": {},
   "outputs": [],
   "source": [
    "load(\"../../_m/est_prop_Bisque.v2.Rdata\", verbose = TRUE)\n",
    "names(est_prop_bisque)"
   ]
  },
  {
   "cell_type": "code",
   "execution_count": null,
   "metadata": {},
   "outputs": [],
   "source": [
    "cc = est_prop_bisque$caudate$Est.prop.long %>% \n",
    "    inner_join(memPHENO(), by=c(\"sample\"=\"RNum\")) %>%\n",
    "    mutate_if(is.character, as.factor) %>%\n",
    "    rename(\"Proportion\"=\"prop\") %>% mutate(Tissue=\"Caudate\")\n",
    "dd = est_prop_bisque$dlpfc$Est.prop.long %>% \n",
    "    inner_join(memPHENO(), by=c(\"sample\"=\"RNum\")) %>%\n",
    "    mutate_if(is.character, as.factor) %>%\n",
    "    rename(\"Proportion\"=\"prop\") %>% mutate(Tissue=\"DLPFC\")\n",
    "hh = est_prop_bisque$hippo$Est.prop.long %>% \n",
    "    inner_join(memPHENO(), by=c(\"sample\"=\"RNum\")) %>%\n",
    "    mutate_if(is.character, as.factor) %>%\n",
    "    rename(\"Proportion\"=\"prop\") %>% mutate(Tissue=\"Hippocampus\")\n",
    "gg = est_prop_bisque$dg$Est.prop.long %>% \n",
    "    separate(sample, c(\"sample\", \"batch\")) %>% \n",
    "    inner_join(memPHENO(), by=c(\"sample\"=\"RNum\")) %>%\n",
    "    mutate_if(is.character, as.factor) %>%\n",
    "    rename(\"Proportion\"=\"prop\") %>% mutate(Tissue=\"Dentate Gyrus\")\n",
    "\n",
    "df = bind_rows(cc, dd, hh, gg)\n",
    "df %>% head(2)"
   ]
  },
  {
   "cell_type": "markdown",
   "metadata": {},
   "source": [
    "## Cell type proportion plots"
   ]
  },
  {
   "cell_type": "code",
   "execution_count": null,
   "metadata": {},
   "outputs": [],
   "source": [
    "bxp = df %>% ggboxplot(x=\"cell_type\", y=\"Proportion\", color=\"Afr\", facet.by=\"Tissue\",\n",
    "                 panel.labs.font=list(face='bold', size = 14), #palette=\"npg\", \n",
    "                 outlier.shape=NA, ylab='Cell Type Proportion', add='jitter', \n",
    "                 add.params=list(alpha=0.5), ylim=c(0, 1), xlab=\"Cell Types\", \n",
    "                       legend=\"bottom\") +\n",
    "    font(\"xy.text\", size=12) + font(\"xy.title\", size=16, face=\"bold\") + \n",
    "    rotate_x_text(45)\n",
    "print(bxp)\n",
    "#save_img(bxp, paste0(\"boxplot_celltypes_ancestry\"), w=7, h=6)"
   ]
  },
  {
   "cell_type": "code",
   "execution_count": null,
   "metadata": {},
   "outputs": [],
   "source": [
    "bxp = df %>%\n",
    "    ggscatter(x=\"Afr\", y=\"Proportion\", color=\"Afr\", facet.by=c(\"cell_type\",\"Region\"),\n",
    "              panel.labs.font=list(face='bold', size = 14), #palette=\"npg\", \n",
    "              ylab='Cell Type Proportion', add='reg.line', ncol=4, \n",
    "              add.params=list(color=\"blue\", fill=\"lightgray\"), conf.int=TRUE, \n",
    "              cor.coef=TRUE, xlab=\"Genetic Ancestry\") +\n",
    "    font(\"xy.text\", size=12) + font(\"xy.title\", size=16, face=\"bold\")\n",
    "print(bxp)\n",
    "fn = \"scatterplot_ancestryBYcelltype\"\n",
    "save_img(bxp, fn, w=9, h=12)"
   ]
  },
  {
   "cell_type": "markdown",
   "metadata": {},
   "source": [
    "## Reproducibility Information"
   ]
  },
  {
   "cell_type": "code",
   "execution_count": null,
   "metadata": {},
   "outputs": [],
   "source": [
    "Sys.time()\n",
    "proc.time()\n",
    "options(width = 120)\n",
    "sessioninfo::session_info()"
   ]
  }
 ],
 "metadata": {
  "kernelspec": {
   "display_name": "R",
   "language": "R",
   "name": "ir"
  },
  "language_info": {
   "codemirror_mode": "r",
   "file_extension": ".r",
   "mimetype": "text/x-r-source",
   "name": "R",
   "pygments_lexer": "r",
   "version": "4.2.1"
  }
 },
 "nbformat": 4,
 "nbformat_minor": 4
}
