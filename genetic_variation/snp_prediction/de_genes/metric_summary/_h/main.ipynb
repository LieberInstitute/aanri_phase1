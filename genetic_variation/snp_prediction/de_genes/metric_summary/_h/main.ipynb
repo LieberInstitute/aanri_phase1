{
 "cells": [
  {
   "cell_type": "markdown",
   "metadata": {},
   "source": [
    "# Summary of prediction analysis for DE genes"
   ]
  },
  {
   "cell_type": "code",
   "execution_count": null,
   "metadata": {},
   "outputs": [],
   "source": [
    "import os, errno\n",
    "import pandas as pd\n",
    "import seaborn as sns\n",
    "from venn import venn\n",
    "import matplotlib.pyplot as plt"
   ]
  },
  {
   "cell_type": "markdown",
   "metadata": {},
   "source": [
    "## Functions"
   ]
  },
  {
   "cell_type": "code",
   "execution_count": null,
   "metadata": {},
   "outputs": [],
   "source": [
    "def mkdir_p(directory):\n",
    "    \"\"\"\n",
    "    Make a directory if it does not already exist.\n",
    "\n",
    "    Input: Directory name\n",
    "    \"\"\"\n",
    "    try:\n",
    "        os.makedirs(directory)\n",
    "    except OSError as e:\n",
    "        if e.errno != errno.EEXIST:\n",
    "            raise"
   ]
  },
  {
   "cell_type": "markdown",
   "metadata": {},
   "source": [
    "## Summary of features"
   ]
  },
  {
   "cell_type": "code",
   "execution_count": null,
   "metadata": {},
   "outputs": [],
   "source": [
    "degs = pd.read_csv(\"../../../../_m/degs_annotation.txt\", sep='\\t', index_col=0)\n",
    "dtu = pd.read_csv(\"../../../../../differential_analysis/tissue_comparison/ds_summary/_m/diffSplicing_ancestry_FDR05_4regions.tsv\", sep='\\t')\n",
    "dtu.groupby(\"Tissue\").size()"
   ]
  },
  {
   "cell_type": "code",
   "execution_count": null,
   "metadata": {},
   "outputs": [],
   "source": [
    "for tissue in [\"Caudate\", \"Dentate Gyrus\", \"DLPFC\", \"Hippocampus\"]:\n",
    "    overlap = len(set(degs[(degs[\"Tissue\"] == tissue)].gene_name) & \n",
    "                  set(dtu[(dtu[\"Tissue\"] == tissue)].gene))\n",
    "    print(\"There are {} overlapping DTU in DEGs for {}!\".format(overlap, tissue))"
   ]
  },
  {
   "cell_type": "markdown",
   "metadata": {},
   "source": [
    "## Load and prep summary files"
   ]
  },
  {
   "cell_type": "markdown",
   "metadata": {},
   "source": [
    "### Load files"
   ]
  },
  {
   "cell_type": "code",
   "execution_count": null,
   "metadata": {},
   "outputs": [],
   "source": [
    "rf0 = pd.read_csv(\"../../rf/summary_10Folds_allTissues.tsv\", sep='\\t')\n",
    "enet0 = pd.read_csv(\"../../enet/summary_10Folds_allTissues.tsv\", sep='\\t')"
   ]
  },
  {
   "cell_type": "markdown",
   "metadata": {},
   "source": [
    "### Group, select, and clean summary results"
   ]
  },
  {
   "cell_type": "code",
   "execution_count": null,
   "metadata": {},
   "outputs": [],
   "source": [
    "## Extract median of model metrics over 10 folds\n",
    "rf = rf0.groupby([\"tissue\", \"feature\"]).median()\\\n",
    "        .loc[:, [\"n_features\", \"test_score_r2\"]].reset_index()\n",
    "rf.feature = rf.feature.str.replace(\"_\", \".\", regex=True)\n",
    "rf[\"Model\"] = \"Random Forest\"\n",
    "enet = enet0.groupby([\"tissue\", \"feature\"]).median()\\\n",
    "        .loc[:, [\"n_features\", \"test_score_r2\"]].reset_index()\n",
    "enet.feature = enet.feature.str.replace(\"_\", \".\", regex=True)\n",
    "enet[\"Model\"] = \"Elastic Net\"\n",
    "\n",
    "df = pd.concat([rf, enet], axis=0)\n",
    "df.head(2)"
   ]
  },
  {
   "cell_type": "markdown",
   "metadata": {},
   "source": [
    "### Overlap with DTU"
   ]
  },
  {
   "cell_type": "code",
   "execution_count": null,
   "metadata": {},
   "outputs": [],
   "source": [
    "dx = df.merge(degs[[\"gene_name\"]], left_on=\"feature\", right_index=True).drop_duplicates()\n",
    "for tissue in [\"Caudate\", \"Dentate Gyrus\", \"DLPFC\", \"Hippocampus\"]:\n",
    "    overlap = len(set(dx[(dx[\"tissue\"] == tissue)].gene_name) & \n",
    "                  set(dtu[(dtu[\"Tissue\"] == tissue)].gene))\n",
    "    print(\"There are {} overlapping DTU in DEGs for {}!\".format(overlap, tissue))"
   ]
  },
  {
   "cell_type": "markdown",
   "metadata": {},
   "source": [
    "### Add partial r2 results"
   ]
  },
  {
   "cell_type": "code",
   "execution_count": null,
   "metadata": {},
   "outputs": [],
   "source": [
    "partial = pd.read_csv(\"../../partial_r2/rf_partial_r2_metrics.tsv\", sep='\\t')\\\n",
    "            .rename(columns={\"Geneid\": \"Feature\"})\n",
    "partial.columns = partial.columns.str.lower()\n",
    "partial[\"test_score_r2\"] = partial.partial_r2\n",
    "partial[\"Model\"] = \"Partial R2\"\n",
    "partial = partial.loc[:, ['tissue', 'feature', 'n_features', 'test_score_r2', 'Model']]\n",
    "partial.head(2)"
   ]
  },
  {
   "cell_type": "code",
   "execution_count": null,
   "metadata": {},
   "outputs": [],
   "source": [
    "df2 = pd.concat([df, partial], axis=0)\n",
    "df2.groupby([\"tissue\", \"Model\"]).size()"
   ]
  },
  {
   "cell_type": "markdown",
   "metadata": {},
   "source": [
    "## Summary of results"
   ]
  },
  {
   "cell_type": "markdown",
   "metadata": {},
   "source": [
    "### Histogram of R2 (median test R2 score)"
   ]
  },
  {
   "cell_type": "code",
   "execution_count": null,
   "metadata": {},
   "outputs": [],
   "source": [
    "grid = sns.FacetGrid(df, col=\"tissue\", col_wrap=2, hue=\"Model\")\n",
    "grid.map(sns.histplot, \"test_score_r2\")\n",
    "grid.set_axis_labels(\"R2 (Test Score)\", \"Count (Genes)\")\n",
    "grid.set_titles(col_template=\"{col_name}\")\n",
    "grid.add_legend()\n",
    "grid.tight_layout()\n",
    "grid.savefig(\"histogram_test_r2.pdf\")\n",
    "grid.savefig(\"histogram_test_r2.png\")\n",
    "grid.savefig(\"histogram_test_r2.svg\")"
   ]
  },
  {
   "cell_type": "code",
   "execution_count": null,
   "metadata": {},
   "outputs": [],
   "source": [
    "grid = sns.FacetGrid(df2, col=\"tissue\", col_wrap=2, hue=\"Model\")\n",
    "grid.map(sns.histplot, \"test_score_r2\")\n",
    "grid.set_axis_labels(\"R2 {Test and Partial}\", \"Count (Genes)\")\n",
    "grid.set_titles(col_template=\"{col_name}\")\n",
    "grid.add_legend()\n",
    "grid.tight_layout()\n",
    "grid.savefig(\"histogram_test_N_partial_r2.pdf\")\n",
    "grid.savefig(\"histogram_test_N_partial_r2.png\")\n",
    "grid.savefig(\"histogram_test_N_partial_r2.svg\")"
   ]
  },
  {
   "cell_type": "markdown",
   "metadata": {},
   "source": [
    "### What number of DEGs do not have any SNPs within 20 Kbp of gene body?"
   ]
  },
  {
   "cell_type": "code",
   "execution_count": null,
   "metadata": {},
   "outputs": [],
   "source": [
    "for tissue in [\"Caudate\", \"DLPFC\", \"Hippocampus\", \"Dentate Gyrus\"]:\n",
    "    xx = set(df[(df[\"tissue\"] == tissue)].feature)\n",
    "    yy = set(degs[(degs[\"Tissue\"] == tissue)].index)\n",
    "    txt = \"{} of {} ({:.1%}) of DE genes do not have SNPs within 20Kbp.\"\n",
    "    print(txt.format(len(yy) - len(xx), len(yy), (len(yy) - len(xx)) / len(yy)))"
   ]
  },
  {
   "cell_type": "markdown",
   "metadata": {},
   "source": [
    "### Number of ancestry DE genes expression that can be predictive with SNP"
   ]
  },
  {
   "cell_type": "code",
   "execution_count": null,
   "metadata": {},
   "outputs": [],
   "source": [
    "df[(df[\"test_score_r2\"] >= 0.5)].groupby([\"tissue\", \"Model\"]).size()"
   ]
  },
  {
   "cell_type": "code",
   "execution_count": null,
   "metadata": {},
   "outputs": [],
   "source": [
    "df[(df[\"test_score_r2\"] >= 0.75)].groupby([\"tissue\", \"Model\"]).size()"
   ]
  },
  {
   "cell_type": "code",
   "execution_count": null,
   "metadata": {},
   "outputs": [],
   "source": [
    "print(df[(df[\"test_score_r2\"] >= 0.85)].groupby([\"tissue\", \"Model\"]).size().reset_index())\n",
    "df[(df[\"test_score_r2\"] >= 0.85)]"
   ]
  },
  {
   "cell_type": "code",
   "execution_count": null,
   "metadata": {},
   "outputs": [],
   "source": [
    "set(df[(df[\"test_score_r2\"] >= 0.85)].feature)"
   ]
  },
  {
   "cell_type": "markdown",
   "metadata": {},
   "source": [
    "- **ENSG00000166435.15** is *XRRA1* one of the most significant eQTLs in the brain\n",
    "- **ENSG00000013573.16** is *DDX11*\n",
    "- **ENSG00000226278.1** is *PSPHP1* a pseudogene\n",
    "- **ENSG00000256274.1** is *TAS2R64P* anohter pseudogene"
   ]
  },
  {
   "cell_type": "code",
   "execution_count": null,
   "metadata": {},
   "outputs": [],
   "source": [
    "print(df[(df[\"test_score_r2\"] >= 0.9)].groupby([\"tissue\", \"Model\"]).size().reset_index())\n",
    "df[(df[\"test_score_r2\"] >= 0.9)]"
   ]
  },
  {
   "cell_type": "markdown",
   "metadata": {},
   "source": [
    "### Overlapping with DTU"
   ]
  },
  {
   "cell_type": "code",
   "execution_count": null,
   "metadata": {},
   "outputs": [],
   "source": [
    "df3 = dx.merge(dtu, left_on=[\"gene_name\", \"tissue\"], right_on=[\"gene\", \"Tissue\"])\n",
    "df3[(df3[\"test_score_r2\"] >= 0.5)].groupby([\"Tissue\", \"Model\"]).size()"
   ]
  },
  {
   "cell_type": "code",
   "execution_count": null,
   "metadata": {},
   "outputs": [],
   "source": [
    "df3[(df3[\"test_score_r2\"] >= 0.75)].groupby([\"Tissue\", \"Model\"]).size()"
   ]
  },
  {
   "cell_type": "code",
   "execution_count": null,
   "metadata": {},
   "outputs": [],
   "source": [
    "df3[(df3[\"test_score_r2\"] >= 0.75)]"
   ]
  },
  {
   "cell_type": "markdown",
   "metadata": {},
   "source": [
    "### What is the overlap between models?"
   ]
  },
  {
   "cell_type": "code",
   "execution_count": null,
   "metadata": {},
   "outputs": [],
   "source": [
    "for tissue in [\"Caudate\", \"DLPFC\", \"Hippocampus\", \"Dentate Gyrus\"]:\n",
    "    print(tissue)\n",
    "    for r2 in [0, 0.2, 0.5, 0.6, 0.7, 0.75, 0.8, 0.825]:\n",
    "        ee = enet[(enet[\"tissue\"] == tissue) & (enet[\"test_score_r2\"] >= r2)].copy()\n",
    "        rr = rf[(rf[\"tissue\"] == tissue) & (rf[\"test_score_r2\"] >= r2)].copy()\n",
    "        oo = len(set(ee.feature) & set(rr.feature))\n",
    "        txt = \"There is {} out of {} and {} genes overlapping between enet and rf - at R2 > {}\"\n",
    "        print(txt.format(oo, len(set(ee.feature)), len(set(rr.feature)), r2))\n",
    "    print(\"\")"
   ]
  },
  {
   "cell_type": "code",
   "execution_count": null,
   "metadata": {},
   "outputs": [],
   "source": [
    "dirname = \"model_venn_diagrams\"\n",
    "mkdir_p(dirname)\n",
    "for tissue in [\"Caudate\", \"DLPFC\", \"Hippocampus\", \"Dentate Gyrus\"]:\n",
    "    #print(tissue)\n",
    "    for r2 in [0, 0.2, 0.5, 0.6, 0.7, 0.75, 0.8]:\n",
    "        ee = enet[(enet[\"tissue\"] == tissue) & (enet[\"test_score_r2\"] >= r2)].copy()\n",
    "        rr = rf[(rf[\"tissue\"] == tissue) & (rf[\"test_score_r2\"] >= r2)].copy()\n",
    "        model_set = {\"Elastic Net\": set(ee.feature), \"Random Forest\": set(rr.feature),}\n",
    "        venn(model_set, fmt=\"{percentage:.1f}%\", fontsize=12)\n",
    "        tt = tissue.lower().replace(\" \", \"_\")\n",
    "        plt.savefig(\"{}/venn_diagram_modelOverlap_{}_r2_{}.png\".format(dirname, tt, r2))\n",
    "        plt.savefig(\"{}/venn_diagram_modelOverlap_{}_r2_{}.pdf\".format(dirname, tt, r2))\n",
    "        plt.savefig(\"{}/venn_diagram_modelOverlap_{}_r2_{}.svg\".format(dirname, tt, r2))"
   ]
  },
  {
   "cell_type": "markdown",
   "metadata": {},
   "source": [
    "### What is the overlap between brain regions?"
   ]
  },
  {
   "cell_type": "code",
   "execution_count": null,
   "metadata": {},
   "outputs": [],
   "source": [
    "dirname = \"tissue_venn_diagrams\"\n",
    "mkdir_p(dirname)\n",
    "for modeln in [\"Elastic Net\", \"Random Forest\"]:\n",
    "    #print(modeln)\n",
    "    dft = df[(df['Model'] == modeln)].copy()\n",
    "    for r2 in [0, 0.2, 0.4, 0.5, 0.6, 0.7, 0.75, 0.8]:\n",
    "        cc = dft[(dft[\"tissue\"] == \"Caudate\") & (dft[\"test_score_r2\"] >= r2)].copy()\n",
    "        dd = dft[(dft[\"tissue\"] == \"DLPFC\") & (dft[\"test_score_r2\"] >= r2)].copy()\n",
    "        hh = dft[(dft[\"tissue\"] == \"Hippocampus\") & (dft[\"test_score_r2\"] >= r2)].copy()\n",
    "        gg = dft[(dft[\"tissue\"] == \"Dentate Gyrus\") & (dft[\"test_score_r2\"] >= r2)].copy()\n",
    "        tissues = {\"Caudate\": set(cc.feature), \"DLPFC\": set(dd.feature), \n",
    "                   \"Hippocampus\": set(hh.feature), \"Dentate Gyrus\": set(gg.feature)}\n",
    "        venn(tissues, fmt=\"{percentage:.1f}%\", fontsize=12)\n",
    "        mm = modeln.lower().replace(\" \", \"_\")\n",
    "        plt.savefig(\"{}/venn_diagram_tissueOverlap_{}_r2_{}.png\".format(dirname, mm, r2))\n",
    "        plt.savefig(\"{}/venn_diagram_tissueOverlap_{}_r2_{}.pdf\".format(dirname, mm, r2))\n",
    "        plt.savefig(\"{}/venn_diagram_tissueOverlap_{}_r2_{}.svg\".format(dirname, mm, r2))"
   ]
  },
  {
   "cell_type": "markdown",
   "metadata": {},
   "source": [
    "## Examining partial R2 results using most predictive SNPs"
   ]
  },
  {
   "cell_type": "code",
   "execution_count": null,
   "metadata": {},
   "outputs": [],
   "source": [
    "partial.groupby(\"tissue\").describe().T"
   ]
  },
  {
   "cell_type": "code",
   "execution_count": null,
   "metadata": {},
   "outputs": [],
   "source": [
    "partial[(partial[\"test_score_r2\"] > 0.88)]"
   ]
  },
  {
   "cell_type": "markdown",
   "metadata": {},
   "source": [
    "- *GLP2R* (ENSG00000065325) Glucagon Like Peptide 2 Receptor"
   ]
  },
  {
   "cell_type": "code",
   "execution_count": null,
   "metadata": {},
   "outputs": [],
   "source": [
    "idv_partial = pd.read_csv(\"../../partial_r2/individual_partial_r2_metrics.tsv\", sep='\\t')\n",
    "idv_partial.head(2)"
   ]
  },
  {
   "cell_type": "code",
   "execution_count": null,
   "metadata": {},
   "outputs": [],
   "source": [
    "idv_partial[[\"Partial_R2\", \"Tissue\", \"Geneid\"]].groupby(\"Tissue\").describe().T"
   ]
  },
  {
   "cell_type": "markdown",
   "metadata": {},
   "source": [
    "#### The vast majority of SNPs to not hold a lot of information (partial r2 < 0.01) with 25% close to 0."
   ]
  },
  {
   "cell_type": "code",
   "execution_count": null,
   "metadata": {},
   "outputs": [],
   "source": [
    "idv_partial.loc[(idv_partial[\"Partial_R2\"] >= 0.8), [\"Tissue\", \"Partial_R2\", \"Geneid\"]].groupby(\"Tissue\").size()"
   ]
  },
  {
   "cell_type": "code",
   "execution_count": null,
   "metadata": {},
   "outputs": [],
   "source": [
    "idv_partial.loc[(idv_partial[\"Partial_R2\"] >= 0.8), [\"Tissue\", \"Partial_R2\", \"Geneid\"]].groupby(\"Geneid\").size()"
   ]
  },
  {
   "cell_type": "code",
   "execution_count": null,
   "metadata": {},
   "outputs": [],
   "source": [
    "idv_partial.loc[(idv_partial[\"Partial_R2\"] >= 0.8), [\"Tissue\", \"Partial_R2\", \"Geneid\"]].groupby([\"Geneid\", \"Tissue\"]).size()"
   ]
  },
  {
   "cell_type": "code",
   "execution_count": null,
   "metadata": {},
   "outputs": [],
   "source": []
  }
 ],
 "metadata": {
  "kernelspec": {
   "display_name": "Python 3",
   "language": "python",
   "name": "python3"
  },
  "language_info": {
   "codemirror_mode": {
    "name": "ipython",
    "version": 3
   },
   "file_extension": ".py",
   "mimetype": "text/x-python",
   "name": "python",
   "nbconvert_exporter": "python",
   "pygments_lexer": "ipython3",
   "version": "3.9.1"
  }
 },
 "nbformat": 4,
 "nbformat_minor": 4
}
