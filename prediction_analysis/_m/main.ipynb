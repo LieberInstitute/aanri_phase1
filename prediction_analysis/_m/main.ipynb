{
 "cells": [
  {
   "cell_type": "markdown",
   "metadata": {},
   "source": [
    "# Annotated predictive feature with start and end information"
   ]
  },
  {
   "cell_type": "code",
   "execution_count": 1,
   "metadata": {
    "execution": {
     "iopub.execute_input": "2021-07-13T17:25:27.248794Z",
     "iopub.status.busy": "2021-07-13T17:25:27.247403Z",
     "iopub.status.idle": "2021-07-13T17:25:27.580299Z",
     "shell.execute_reply": "2021-07-13T17:25:27.578964Z"
    }
   },
   "outputs": [],
   "source": [
    "import functools\n",
    "import numpy as np\n",
    "import pandas as pd\n",
    "from gtfparse import read_gtf"
   ]
  },
  {
   "cell_type": "markdown",
   "metadata": {},
   "source": [
    "## Functions"
   ]
  },
  {
   "cell_type": "code",
   "execution_count": 2,
   "metadata": {
    "execution": {
     "iopub.execute_input": "2021-07-13T17:25:27.588448Z",
     "iopub.status.busy": "2021-07-13T17:25:27.587182Z",
     "iopub.status.idle": "2021-07-13T17:25:27.589766Z",
     "shell.execute_reply": "2021-07-13T17:25:27.590894Z"
    }
   },
   "outputs": [],
   "source": [
    "@functools.lru_cache()\n",
    "def get_gtf(gtf_file):\n",
    "    return read_gtf(gtf_file)\n",
    "\n",
    "\n",
    "def gene_annotation(gtf_file):\n",
    "    gtf0 = get_gtf(gtf_file)\n",
    "    gtf = gtf0[gtf0[\"feature\"] == \"gene\"]\n",
    "    return gtf[[\"gene_id\", \"gene_name\", \"gene_type\",\n",
    "                \"seqname\", \"start\", \"end\", \"strand\"]]\n",
    "\n",
    "\n",
    "def get_tissue_map(tissue):\n",
    "    return {\"Caudate\": 'caudate', 'DLPFC': 'dlpfc', \n",
    "            'Dentate Gyrus': 'dentateGyrus', 'Hippocampus': 'hippocampus'}[tissue]"
   ]
  },
  {
   "cell_type": "markdown",
   "metadata": {},
   "source": [
    "## Generate gene annotation"
   ]
  },
  {
   "cell_type": "code",
   "execution_count": 3,
   "metadata": {
    "execution": {
     "iopub.execute_input": "2021-07-13T17:25:27.597628Z",
     "iopub.status.busy": "2021-07-13T17:25:27.596364Z",
     "iopub.status.idle": "2021-07-13T17:26:42.087005Z",
     "shell.execute_reply": "2021-07-13T17:26:42.087786Z"
    }
   },
   "outputs": [
    {
     "name": "stderr",
     "output_type": "stream",
     "text": [
      "INFO:root:Extracted GTF attributes: ['gene_id', 'gene_type', 'gene_status', 'gene_name', 'level', 'havana_gene', 'transcript_id', 'transcript_type', 'transcript_status', 'transcript_name', 'transcript_support_level', 'tag', 'havana_transcript', 'exon_number', 'exon_id', 'ont', 'protein_id', 'ccdsid']\n"
     ]
    },
    {
     "data": {
      "text/html": [
       "<div>\n",
       "<style scoped>\n",
       "    .dataframe tbody tr th:only-of-type {\n",
       "        vertical-align: middle;\n",
       "    }\n",
       "\n",
       "    .dataframe tbody tr th {\n",
       "        vertical-align: top;\n",
       "    }\n",
       "\n",
       "    .dataframe thead th {\n",
       "        text-align: right;\n",
       "    }\n",
       "</style>\n",
       "<table border=\"1\" class=\"dataframe\">\n",
       "  <thead>\n",
       "    <tr style=\"text-align: right;\">\n",
       "      <th></th>\n",
       "      <th>gene_id</th>\n",
       "      <th>gene_name</th>\n",
       "      <th>gene_type</th>\n",
       "      <th>chr</th>\n",
       "      <th>start</th>\n",
       "      <th>end</th>\n",
       "      <th>strand</th>\n",
       "      <th>ensemblID</th>\n",
       "      <th>length</th>\n",
       "    </tr>\n",
       "  </thead>\n",
       "  <tbody>\n",
       "    <tr>\n",
       "      <th>0</th>\n",
       "      <td>ENSG00000223972.5</td>\n",
       "      <td>DDX11L1</td>\n",
       "      <td>transcribed_unprocessed_pseudogene</td>\n",
       "      <td>chr1</td>\n",
       "      <td>11869</td>\n",
       "      <td>14409</td>\n",
       "      <td>+</td>\n",
       "      <td>ENSG00000223972</td>\n",
       "      <td>2540</td>\n",
       "    </tr>\n",
       "    <tr>\n",
       "      <th>12</th>\n",
       "      <td>ENSG00000227232.5</td>\n",
       "      <td>WASH7P</td>\n",
       "      <td>unprocessed_pseudogene</td>\n",
       "      <td>chr1</td>\n",
       "      <td>14404</td>\n",
       "      <td>29570</td>\n",
       "      <td>-</td>\n",
       "      <td>ENSG00000227232</td>\n",
       "      <td>15166</td>\n",
       "    </tr>\n",
       "  </tbody>\n",
       "</table>\n",
       "</div>"
      ],
      "text/plain": [
       "              gene_id gene_name                           gene_type   chr  \\\n",
       "0   ENSG00000223972.5   DDX11L1  transcribed_unprocessed_pseudogene  chr1   \n",
       "12  ENSG00000227232.5    WASH7P              unprocessed_pseudogene  chr1   \n",
       "\n",
       "    start    end strand        ensemblID  length  \n",
       "0   11869  14409      +  ENSG00000223972    2540  \n",
       "12  14404  29570      -  ENSG00000227232   15166  "
      ]
     },
     "execution_count": 1,
     "metadata": {},
     "output_type": "execute_result"
    }
   ],
   "source": [
    "gtf_file = \"/ceph/genome/human/gencode25/gtf.CHR/_m/gencode.v25.annotation.gtf\"\n",
    "annot = gene_annotation(gtf_file).rename(columns={'seqname': 'chr'})\n",
    "annot['ensemblID'] = annot.gene_id.str.replace(\"\\\\..*\", \"\", regex=True)\n",
    "annot[\"length\"] = np.abs(annot.start - annot.end)\n",
    "annot.head(2)"
   ]
  },
  {
   "cell_type": "code",
   "execution_count": 4,
   "metadata": {
    "execution": {
     "iopub.execute_input": "2021-07-13T17:26:42.095613Z",
     "iopub.status.busy": "2021-07-13T17:26:42.094712Z",
     "iopub.status.idle": "2021-07-13T17:26:42.136543Z",
     "shell.execute_reply": "2021-07-13T17:26:42.137010Z"
    }
   },
   "outputs": [
    {
     "data": {
      "text/html": [
       "<div>\n",
       "<style scoped>\n",
       "    .dataframe tbody tr th:only-of-type {\n",
       "        vertical-align: middle;\n",
       "    }\n",
       "\n",
       "    .dataframe tbody tr th {\n",
       "        vertical-align: top;\n",
       "    }\n",
       "\n",
       "    .dataframe thead th {\n",
       "        text-align: right;\n",
       "    }\n",
       "</style>\n",
       "<table border=\"1\" class=\"dataframe\">\n",
       "  <thead>\n",
       "    <tr style=\"text-align: right;\">\n",
       "      <th></th>\n",
       "      <th>ensemblID</th>\n",
       "      <th>gene_name</th>\n",
       "      <th>chr</th>\n",
       "      <th>start</th>\n",
       "      <th>end</th>\n",
       "      <th>length</th>\n",
       "      <th>strand</th>\n",
       "    </tr>\n",
       "    <tr>\n",
       "      <th>gene_id</th>\n",
       "      <th></th>\n",
       "      <th></th>\n",
       "      <th></th>\n",
       "      <th></th>\n",
       "      <th></th>\n",
       "      <th></th>\n",
       "      <th></th>\n",
       "    </tr>\n",
       "  </thead>\n",
       "  <tbody>\n",
       "    <tr>\n",
       "      <th>ENSG00000223972.5</th>\n",
       "      <td>ENSG00000223972</td>\n",
       "      <td>DDX11L1</td>\n",
       "      <td>chr1</td>\n",
       "      <td>11869</td>\n",
       "      <td>14409</td>\n",
       "      <td>2540</td>\n",
       "      <td>+</td>\n",
       "    </tr>\n",
       "    <tr>\n",
       "      <th>ENSG00000227232.5</th>\n",
       "      <td>ENSG00000227232</td>\n",
       "      <td>WASH7P</td>\n",
       "      <td>chr1</td>\n",
       "      <td>14404</td>\n",
       "      <td>29570</td>\n",
       "      <td>15166</td>\n",
       "      <td>-</td>\n",
       "    </tr>\n",
       "  </tbody>\n",
       "</table>\n",
       "</div>"
      ],
      "text/plain": [
       "                         ensemblID gene_name   chr  start    end  length  \\\n",
       "gene_id                                                                    \n",
       "ENSG00000223972.5  ENSG00000223972   DDX11L1  chr1  11869  14409    2540   \n",
       "ENSG00000227232.5  ENSG00000227232    WASH7P  chr1  14404  29570   15166   \n",
       "\n",
       "                  strand  \n",
       "gene_id                   \n",
       "ENSG00000223972.5      +  \n",
       "ENSG00000227232.5      -  "
      ]
     },
     "execution_count": 1,
     "metadata": {},
     "output_type": "execute_result"
    }
   ],
   "source": [
    "annot = annot[[\"gene_id\", \"ensemblID\", \"gene_name\", \"chr\", \n",
    "               \"start\", \"end\", \"length\", \"strand\"]]\\\n",
    "    .set_index(\"gene_id\")\n",
    "annot.head(2)"
   ]
  },
  {
   "cell_type": "markdown",
   "metadata": {},
   "source": [
    "## Load DEG summary"
   ]
  },
  {
   "cell_type": "code",
   "execution_count": 5,
   "metadata": {
    "execution": {
     "iopub.execute_input": "2021-07-13T17:26:42.142527Z",
     "iopub.status.busy": "2021-07-13T17:26:42.141960Z",
     "iopub.status.idle": "2021-07-13T17:26:49.252285Z",
     "shell.execute_reply": "2021-07-13T17:26:49.253298Z"
    }
   },
   "outputs": [
    {
     "name": "stdout",
     "output_type": "stream",
     "text": [
      "Tissue\n",
      "Caudate          22374\n",
      "DLPFC            22398\n",
      "Dentate Gyrus    21140\n",
      "Hippocampus      22269\n",
      "dtype: int64\n"
     ]
    },
    {
     "data": {
      "text/html": [
       "<div>\n",
       "<style scoped>\n",
       "    .dataframe tbody tr th:only-of-type {\n",
       "        vertical-align: middle;\n",
       "    }\n",
       "\n",
       "    .dataframe tbody tr th {\n",
       "        vertical-align: top;\n",
       "    }\n",
       "\n",
       "    .dataframe thead th {\n",
       "        text-align: right;\n",
       "    }\n",
       "</style>\n",
       "<table border=\"1\" class=\"dataframe\">\n",
       "  <thead>\n",
       "    <tr style=\"text-align: right;\">\n",
       "      <th></th>\n",
       "      <th>logFC</th>\n",
       "      <th>AveExpr</th>\n",
       "      <th>t</th>\n",
       "      <th>adj.P.Val</th>\n",
       "      <th>Type</th>\n",
       "      <th>Tissue</th>\n",
       "    </tr>\n",
       "    <tr>\n",
       "      <th>Feature</th>\n",
       "      <th></th>\n",
       "      <th></th>\n",
       "      <th></th>\n",
       "      <th></th>\n",
       "      <th></th>\n",
       "      <th></th>\n",
       "    </tr>\n",
       "  </thead>\n",
       "  <tbody>\n",
       "    <tr>\n",
       "      <th>ENSG00000147118.11</th>\n",
       "      <td>-0.000004</td>\n",
       "      <td>2.869577</td>\n",
       "      <td>-0.000160</td>\n",
       "      <td>0.999915</td>\n",
       "      <td>Gene</td>\n",
       "      <td>Hippocampus</td>\n",
       "    </tr>\n",
       "    <tr>\n",
       "      <th>ENSG00000077942.18</th>\n",
       "      <td>-0.000012</td>\n",
       "      <td>4.470327</td>\n",
       "      <td>-0.000107</td>\n",
       "      <td>0.999915</td>\n",
       "      <td>Gene</td>\n",
       "      <td>Hippocampus</td>\n",
       "    </tr>\n",
       "  </tbody>\n",
       "</table>\n",
       "</div>"
      ],
      "text/plain": [
       "                       logFC   AveExpr         t  adj.P.Val  Type       Tissue\n",
       "Feature                                                                       \n",
       "ENSG00000147118.11 -0.000004  2.869577 -0.000160   0.999915  Gene  Hippocampus\n",
       "ENSG00000077942.18 -0.000012  4.470327 -0.000107   0.999915  Gene  Hippocampus"
      ]
     },
     "execution_count": 1,
     "metadata": {},
     "output_type": "execute_result"
    }
   ],
   "source": [
    "deg_file = \"../../differential_analysis/tissue_comparison/deg_summary/\"+\\\n",
    "          \"_m/diffExpr_ancestry_full_4regions.tsv\"\n",
    "df = pd.read_csv(deg_file, sep='\\t', index_col=0)\\\n",
    "       .loc[:, [\"logFC\", \"AveExpr\", \"t\", \"adj.P.Val\", \"Type\", \"Tissue\"]]\n",
    "df = df[(df[\"Type\"] == \"Gene\")].copy()\n",
    "print(df.groupby([\"Tissue\"]).size())\n",
    "df.tail(2)"
   ]
  },
  {
   "cell_type": "markdown",
   "metadata": {},
   "source": [
    "## Merge files and clean data"
   ]
  },
  {
   "cell_type": "code",
   "execution_count": 6,
   "metadata": {
    "execution": {
     "iopub.execute_input": "2021-07-13T17:26:49.291173Z",
     "iopub.status.busy": "2021-07-13T17:26:49.274301Z",
     "iopub.status.idle": "2021-07-13T17:26:49.614313Z",
     "shell.execute_reply": "2021-07-13T17:26:49.613712Z"
    }
   },
   "outputs": [
    {
     "name": "stdout",
     "output_type": "stream",
     "text": [
      "(88181, 14)\n"
     ]
    },
    {
     "data": {
      "text/html": [
       "<div>\n",
       "<style scoped>\n",
       "    .dataframe tbody tr th:only-of-type {\n",
       "        vertical-align: middle;\n",
       "    }\n",
       "\n",
       "    .dataframe tbody tr th {\n",
       "        vertical-align: top;\n",
       "    }\n",
       "\n",
       "    .dataframe thead th {\n",
       "        text-align: right;\n",
       "    }\n",
       "</style>\n",
       "<table border=\"1\" class=\"dataframe\">\n",
       "  <thead>\n",
       "    <tr style=\"text-align: right;\">\n",
       "      <th></th>\n",
       "      <th>ensemblID</th>\n",
       "      <th>gene_name</th>\n",
       "      <th>chr</th>\n",
       "      <th>start</th>\n",
       "      <th>end</th>\n",
       "      <th>length</th>\n",
       "      <th>strand</th>\n",
       "      <th>logFC</th>\n",
       "      <th>AveExpr</th>\n",
       "      <th>t</th>\n",
       "      <th>adj.P.Val</th>\n",
       "      <th>Type</th>\n",
       "      <th>Tissue</th>\n",
       "      <th>New_Tissue</th>\n",
       "    </tr>\n",
       "  </thead>\n",
       "  <tbody>\n",
       "    <tr>\n",
       "      <th>ENSG00000272977.1</th>\n",
       "      <td>ENSG00000272977</td>\n",
       "      <td>CTA-390C10.10</td>\n",
       "      <td>chr22</td>\n",
       "      <td>25476218</td>\n",
       "      <td>25479971</td>\n",
       "      <td>3753</td>\n",
       "      <td>+</td>\n",
       "      <td>2.197155</td>\n",
       "      <td>1.176962</td>\n",
       "      <td>12.328222</td>\n",
       "      <td>1.293546e-22</td>\n",
       "      <td>Gene</td>\n",
       "      <td>Caudate</td>\n",
       "      <td>caudate</td>\n",
       "    </tr>\n",
       "    <tr>\n",
       "      <th>ENSG00000233913.7</th>\n",
       "      <td>ENSG00000233913</td>\n",
       "      <td>CTC-575D19.1</td>\n",
       "      <td>chr5</td>\n",
       "      <td>168616352</td>\n",
       "      <td>168616996</td>\n",
       "      <td>644</td>\n",
       "      <td>+</td>\n",
       "      <td>-2.941671</td>\n",
       "      <td>3.106682</td>\n",
       "      <td>-12.213021</td>\n",
       "      <td>1.511451e-22</td>\n",
       "      <td>Gene</td>\n",
       "      <td>Caudate</td>\n",
       "      <td>caudate</td>\n",
       "    </tr>\n",
       "    <tr>\n",
       "      <th>ENSG00000259479.6</th>\n",
       "      <td>ENSG00000259479</td>\n",
       "      <td>SORD2P</td>\n",
       "      <td>chr15</td>\n",
       "      <td>44825747</td>\n",
       "      <td>44884694</td>\n",
       "      <td>58947</td>\n",
       "      <td>-</td>\n",
       "      <td>-2.338783</td>\n",
       "      <td>-0.546410</td>\n",
       "      <td>-12.087500</td>\n",
       "      <td>2.536508e-22</td>\n",
       "      <td>Gene</td>\n",
       "      <td>Caudate</td>\n",
       "      <td>caudate</td>\n",
       "    </tr>\n",
       "    <tr>\n",
       "      <th>ENSG00000068654.15</th>\n",
       "      <td>ENSG00000068654</td>\n",
       "      <td>POLR1A</td>\n",
       "      <td>chr2</td>\n",
       "      <td>86020216</td>\n",
       "      <td>86106155</td>\n",
       "      <td>85939</td>\n",
       "      <td>-</td>\n",
       "      <td>0.292087</td>\n",
       "      <td>5.940820</td>\n",
       "      <td>11.922914</td>\n",
       "      <td>6.364724e-22</td>\n",
       "      <td>Gene</td>\n",
       "      <td>Caudate</td>\n",
       "      <td>caudate</td>\n",
       "    </tr>\n",
       "    <tr>\n",
       "      <th>ENSG00000084628.9</th>\n",
       "      <td>ENSG00000084628</td>\n",
       "      <td>NKAIN1</td>\n",
       "      <td>chr1</td>\n",
       "      <td>31179745</td>\n",
       "      <td>31239554</td>\n",
       "      <td>59809</td>\n",
       "      <td>-</td>\n",
       "      <td>1.891807</td>\n",
       "      <td>1.657673</td>\n",
       "      <td>11.518655</td>\n",
       "      <td>9.739085e-21</td>\n",
       "      <td>Gene</td>\n",
       "      <td>Caudate</td>\n",
       "      <td>caudate</td>\n",
       "    </tr>\n",
       "    <tr>\n",
       "      <th>ENSG00000204894.4</th>\n",
       "      <td>ENSG00000204894</td>\n",
       "      <td>RP11-208G20.2</td>\n",
       "      <td>chr7</td>\n",
       "      <td>152367171</td>\n",
       "      <td>152367260</td>\n",
       "      <td>89</td>\n",
       "      <td>+</td>\n",
       "      <td>-4.696103</td>\n",
       "      <td>-1.835114</td>\n",
       "      <td>-11.306024</td>\n",
       "      <td>3.795494e-20</td>\n",
       "      <td>Gene</td>\n",
       "      <td>Caudate</td>\n",
       "      <td>caudate</td>\n",
       "    </tr>\n",
       "    <tr>\n",
       "      <th>ENSG00000226278.1</th>\n",
       "      <td>ENSG00000226278</td>\n",
       "      <td>PSPHP1</td>\n",
       "      <td>chr7</td>\n",
       "      <td>55764797</td>\n",
       "      <td>55773288</td>\n",
       "      <td>8491</td>\n",
       "      <td>+</td>\n",
       "      <td>-5.659256</td>\n",
       "      <td>-0.002860</td>\n",
       "      <td>-10.998267</td>\n",
       "      <td>2.993636e-19</td>\n",
       "      <td>Gene</td>\n",
       "      <td>Caudate</td>\n",
       "      <td>caudate</td>\n",
       "    </tr>\n",
       "    <tr>\n",
       "      <th>ENSG00000271361.1</th>\n",
       "      <td>ENSG00000271361</td>\n",
       "      <td>HTATSF1P2</td>\n",
       "      <td>chr6</td>\n",
       "      <td>3023142</td>\n",
       "      <td>3023772</td>\n",
       "      <td>630</td>\n",
       "      <td>-</td>\n",
       "      <td>3.418221</td>\n",
       "      <td>-2.870529</td>\n",
       "      <td>10.931060</td>\n",
       "      <td>4.243489e-19</td>\n",
       "      <td>Gene</td>\n",
       "      <td>Caudate</td>\n",
       "      <td>caudate</td>\n",
       "    </tr>\n",
       "    <tr>\n",
       "      <th>ENSG00000230076.1</th>\n",
       "      <td>ENSG00000230076</td>\n",
       "      <td>AC016708.2</td>\n",
       "      <td>chr2</td>\n",
       "      <td>214847128</td>\n",
       "      <td>214847445</td>\n",
       "      <td>317</td>\n",
       "      <td>+</td>\n",
       "      <td>-4.536309</td>\n",
       "      <td>0.001767</td>\n",
       "      <td>-10.914092</td>\n",
       "      <td>4.260014e-19</td>\n",
       "      <td>Gene</td>\n",
       "      <td>Caudate</td>\n",
       "      <td>caudate</td>\n",
       "    </tr>\n",
       "    <tr>\n",
       "      <th>ENSG00000140263.13</th>\n",
       "      <td>ENSG00000140263</td>\n",
       "      <td>SORD</td>\n",
       "      <td>chr15</td>\n",
       "      <td>45023104</td>\n",
       "      <td>45077185</td>\n",
       "      <td>54081</td>\n",
       "      <td>+</td>\n",
       "      <td>0.626047</td>\n",
       "      <td>3.449221</td>\n",
       "      <td>10.892127</td>\n",
       "      <td>4.487638e-19</td>\n",
       "      <td>Gene</td>\n",
       "      <td>Caudate</td>\n",
       "      <td>caudate</td>\n",
       "    </tr>\n",
       "  </tbody>\n",
       "</table>\n",
       "</div>"
      ],
      "text/plain": [
       "                          ensemblID      gene_name    chr      start  \\\n",
       "ENSG00000272977.1   ENSG00000272977  CTA-390C10.10  chr22   25476218   \n",
       "ENSG00000233913.7   ENSG00000233913   CTC-575D19.1   chr5  168616352   \n",
       "ENSG00000259479.6   ENSG00000259479         SORD2P  chr15   44825747   \n",
       "ENSG00000068654.15  ENSG00000068654         POLR1A   chr2   86020216   \n",
       "ENSG00000084628.9   ENSG00000084628         NKAIN1   chr1   31179745   \n",
       "ENSG00000204894.4   ENSG00000204894  RP11-208G20.2   chr7  152367171   \n",
       "ENSG00000226278.1   ENSG00000226278         PSPHP1   chr7   55764797   \n",
       "ENSG00000271361.1   ENSG00000271361      HTATSF1P2   chr6    3023142   \n",
       "ENSG00000230076.1   ENSG00000230076     AC016708.2   chr2  214847128   \n",
       "ENSG00000140263.13  ENSG00000140263           SORD  chr15   45023104   \n",
       "\n",
       "                          end  length strand     logFC   AveExpr          t  \\\n",
       "ENSG00000272977.1    25479971    3753      +  2.197155  1.176962  12.328222   \n",
       "ENSG00000233913.7   168616996     644      + -2.941671  3.106682 -12.213021   \n",
       "ENSG00000259479.6    44884694   58947      - -2.338783 -0.546410 -12.087500   \n",
       "ENSG00000068654.15   86106155   85939      -  0.292087  5.940820  11.922914   \n",
       "ENSG00000084628.9    31239554   59809      -  1.891807  1.657673  11.518655   \n",
       "ENSG00000204894.4   152367260      89      + -4.696103 -1.835114 -11.306024   \n",
       "ENSG00000226278.1    55773288    8491      + -5.659256 -0.002860 -10.998267   \n",
       "ENSG00000271361.1     3023772     630      -  3.418221 -2.870529  10.931060   \n",
       "ENSG00000230076.1   214847445     317      + -4.536309  0.001767 -10.914092   \n",
       "ENSG00000140263.13   45077185   54081      +  0.626047  3.449221  10.892127   \n",
       "\n",
       "                       adj.P.Val  Type   Tissue New_Tissue  \n",
       "ENSG00000272977.1   1.293546e-22  Gene  Caudate    caudate  \n",
       "ENSG00000233913.7   1.511451e-22  Gene  Caudate    caudate  \n",
       "ENSG00000259479.6   2.536508e-22  Gene  Caudate    caudate  \n",
       "ENSG00000068654.15  6.364724e-22  Gene  Caudate    caudate  \n",
       "ENSG00000084628.9   9.739085e-21  Gene  Caudate    caudate  \n",
       "ENSG00000204894.4   3.795494e-20  Gene  Caudate    caudate  \n",
       "ENSG00000226278.1   2.993636e-19  Gene  Caudate    caudate  \n",
       "ENSG00000271361.1   4.243489e-19  Gene  Caudate    caudate  \n",
       "ENSG00000230076.1   4.260014e-19  Gene  Caudate    caudate  \n",
       "ENSG00000140263.13  4.487638e-19  Gene  Caudate    caudate  "
      ]
     },
     "execution_count": 1,
     "metadata": {},
     "output_type": "execute_result"
    }
   ],
   "source": [
    "dft = annot.merge(df, left_index=True, right_index=True)\\\n",
    "           .sort_values([\"Tissue\", \"adj.P.Val\"])\n",
    "dft[\"New_Tissue\"] = [get_tissue_map(x) for x in dft.Tissue]\n",
    "print(dft.shape)\n",
    "dft.head(10)"
   ]
  },
  {
   "cell_type": "code",
   "execution_count": 7,
   "metadata": {
    "execution": {
     "iopub.execute_input": "2021-07-13T17:26:49.619771Z",
     "iopub.status.busy": "2021-07-13T17:26:49.619209Z",
     "iopub.status.idle": "2021-07-13T17:26:49.741967Z",
     "shell.execute_reply": "2021-07-13T17:26:49.743051Z"
    }
   },
   "outputs": [],
   "source": [
    "dft[(dft[\"adj.P.Val\"] < 0.05)].to_csv(\"degs_annotation.txt\", \n",
    "                                      sep='\\t', index=True, header=True)"
   ]
  },
  {
   "cell_type": "markdown",
   "metadata": {},
   "source": [
    "## Get random genes based on adjusted P-value"
   ]
  },
  {
   "cell_type": "markdown",
   "metadata": {},
   "source": [
    "### Select genes"
   ]
  },
  {
   "cell_type": "code",
   "execution_count": 8,
   "metadata": {
    "execution": {
     "iopub.execute_input": "2021-07-13T17:26:49.750548Z",
     "iopub.status.busy": "2021-07-13T17:26:49.749300Z",
     "iopub.status.idle": "2021-07-13T17:26:49.765328Z",
     "shell.execute_reply": "2021-07-13T17:26:49.766372Z"
    }
   },
   "outputs": [
    {
     "data": {
      "text/html": [
       "<div>\n",
       "<style scoped>\n",
       "    .dataframe tbody tr th:only-of-type {\n",
       "        vertical-align: middle;\n",
       "    }\n",
       "\n",
       "    .dataframe tbody tr th {\n",
       "        vertical-align: top;\n",
       "    }\n",
       "\n",
       "    .dataframe thead th {\n",
       "        text-align: right;\n",
       "    }\n",
       "</style>\n",
       "<table border=\"1\" class=\"dataframe\">\n",
       "  <thead>\n",
       "    <tr style=\"text-align: right;\">\n",
       "      <th></th>\n",
       "      <th>gene_name</th>\n",
       "    </tr>\n",
       "    <tr>\n",
       "      <th>Tissue</th>\n",
       "      <th></th>\n",
       "    </tr>\n",
       "  </thead>\n",
       "  <tbody>\n",
       "    <tr>\n",
       "      <th>Caudate</th>\n",
       "      <td>2970</td>\n",
       "    </tr>\n",
       "    <tr>\n",
       "      <th>DLPFC</th>\n",
       "      <td>2760</td>\n",
       "    </tr>\n",
       "    <tr>\n",
       "      <th>Dentate Gyrus</th>\n",
       "      <td>786</td>\n",
       "    </tr>\n",
       "    <tr>\n",
       "      <th>Hippocampus</th>\n",
       "      <td>2956</td>\n",
       "    </tr>\n",
       "  </tbody>\n",
       "</table>\n",
       "</div>"
      ],
      "text/plain": [
       "               gene_name\n",
       "Tissue                  \n",
       "Caudate             2970\n",
       "DLPFC               2760\n",
       "Dentate Gyrus        786\n",
       "Hippocampus         2956"
      ]
     },
     "execution_count": 1,
     "metadata": {},
     "output_type": "execute_result"
    }
   ],
   "source": [
    "dft.loc[(dft[\"adj.P.Val\"] < 0.05), [\"gene_name\", \"Tissue\"]]\\\n",
    "   .groupby(\"Tissue\").count()"
   ]
  },
  {
   "cell_type": "code",
   "execution_count": 9,
   "metadata": {
    "execution": {
     "iopub.execute_input": "2021-07-13T17:26:49.781227Z",
     "iopub.status.busy": "2021-07-13T17:26:49.779880Z",
     "iopub.status.idle": "2021-07-13T17:26:49.870941Z",
     "shell.execute_reply": "2021-07-13T17:26:49.870066Z"
    }
   },
   "outputs": [
    {
     "name": "stdout",
     "output_type": "stream",
     "text": [
      "(2970, 14)\n",
      "(2760, 14)\n",
      "(2956, 14)\n",
      "(786, 14)\n"
     ]
    }
   ],
   "source": [
    "caudate = dft[(dft[\"adj.P.Val\"] > 0.05) & (dft[\"Tissue\"] == \"Caudate\")]\\\n",
    "        .sort_values([\"adj.P.Val\"], ascending=False).head(2970)\n",
    "print(caudate.shape)\n",
    "dlpfc = dft[(dft[\"adj.P.Val\"] > 0.05) & (dft[\"Tissue\"] == \"DLPFC\")]\\\n",
    "        .sort_values([\"adj.P.Val\"], ascending=False).head(2760)\n",
    "print(dlpfc.shape)\n",
    "hippo = dft[(dft[\"adj.P.Val\"] > 0.05) & (dft[\"Tissue\"] == \"Hippocampus\")]\\\n",
    "        .sort_values([\"adj.P.Val\"], ascending=False).head(2956)\n",
    "print(hippo.shape)\n",
    "gyrus = dft[(dft[\"adj.P.Val\"] > 0.05) & (dft[\"Tissue\"] == \"Dentate Gyrus\")]\\\n",
    "        .sort_values([\"adj.P.Val\"], ascending=False).head(786)\n",
    "print(gyrus.shape)"
   ]
  },
  {
   "cell_type": "markdown",
   "metadata": {},
   "source": [
    "### Merge data and save"
   ]
  },
  {
   "cell_type": "code",
   "execution_count": 10,
   "metadata": {
    "execution": {
     "iopub.execute_input": "2021-07-13T17:26:49.878799Z",
     "iopub.status.busy": "2021-07-13T17:26:49.878000Z",
     "iopub.status.idle": "2021-07-13T17:26:49.906105Z",
     "shell.execute_reply": "2021-07-13T17:26:49.905364Z"
    }
   },
   "outputs": [
    {
     "name": "stdout",
     "output_type": "stream",
     "text": [
      "(9472, 14)\n"
     ]
    },
    {
     "data": {
      "text/html": [
       "<div>\n",
       "<style scoped>\n",
       "    .dataframe tbody tr th:only-of-type {\n",
       "        vertical-align: middle;\n",
       "    }\n",
       "\n",
       "    .dataframe tbody tr th {\n",
       "        vertical-align: top;\n",
       "    }\n",
       "\n",
       "    .dataframe thead th {\n",
       "        text-align: right;\n",
       "    }\n",
       "</style>\n",
       "<table border=\"1\" class=\"dataframe\">\n",
       "  <thead>\n",
       "    <tr style=\"text-align: right;\">\n",
       "      <th></th>\n",
       "      <th>ensemblID</th>\n",
       "      <th>gene_name</th>\n",
       "      <th>chr</th>\n",
       "      <th>start</th>\n",
       "      <th>end</th>\n",
       "      <th>length</th>\n",
       "      <th>strand</th>\n",
       "      <th>logFC</th>\n",
       "      <th>AveExpr</th>\n",
       "      <th>t</th>\n",
       "      <th>adj.P.Val</th>\n",
       "      <th>Type</th>\n",
       "      <th>Tissue</th>\n",
       "      <th>New_Tissue</th>\n",
       "    </tr>\n",
       "  </thead>\n",
       "  <tbody>\n",
       "    <tr>\n",
       "      <th>ENSG00000145734.18</th>\n",
       "      <td>ENSG00000145734</td>\n",
       "      <td>BDP1</td>\n",
       "      <td>chr5</td>\n",
       "      <td>71455615</td>\n",
       "      <td>71567820</td>\n",
       "      <td>112205</td>\n",
       "      <td>+</td>\n",
       "      <td>-7.434530e-07</td>\n",
       "      <td>7.263799</td>\n",
       "      <td>-0.000035</td>\n",
       "      <td>0.999972</td>\n",
       "      <td>Gene</td>\n",
       "      <td>Caudate</td>\n",
       "      <td>caudate</td>\n",
       "    </tr>\n",
       "    <tr>\n",
       "      <th>ENSG00000179262.9</th>\n",
       "      <td>ENSG00000179262</td>\n",
       "      <td>RAD23A</td>\n",
       "      <td>chr19</td>\n",
       "      <td>12945855</td>\n",
       "      <td>12953642</td>\n",
       "      <td>7787</td>\n",
       "      <td>+</td>\n",
       "      <td>-2.245137e-06</td>\n",
       "      <td>5.726987</td>\n",
       "      <td>-0.000098</td>\n",
       "      <td>0.999967</td>\n",
       "      <td>Gene</td>\n",
       "      <td>Caudate</td>\n",
       "      <td>caudate</td>\n",
       "    </tr>\n",
       "    <tr>\n",
       "      <th>ENSG00000177076.5</th>\n",
       "      <td>ENSG00000177076</td>\n",
       "      <td>ACER2</td>\n",
       "      <td>chr9</td>\n",
       "      <td>19409059</td>\n",
       "      <td>19452020</td>\n",
       "      <td>42961</td>\n",
       "      <td>+</td>\n",
       "      <td>-9.871997e-06</td>\n",
       "      <td>2.633614</td>\n",
       "      <td>-0.000197</td>\n",
       "      <td>0.999932</td>\n",
       "      <td>Gene</td>\n",
       "      <td>Caudate</td>\n",
       "      <td>caudate</td>\n",
       "    </tr>\n",
       "    <tr>\n",
       "      <th>ENSG00000277954.1</th>\n",
       "      <td>ENSG00000277954</td>\n",
       "      <td>RP11-679B19.1</td>\n",
       "      <td>chr16</td>\n",
       "      <td>79202624</td>\n",
       "      <td>79206739</td>\n",
       "      <td>4115</td>\n",
       "      <td>-</td>\n",
       "      <td>3.533458e-05</td>\n",
       "      <td>1.977845</td>\n",
       "      <td>0.000542</td>\n",
       "      <td>0.999702</td>\n",
       "      <td>Gene</td>\n",
       "      <td>Caudate</td>\n",
       "      <td>caudate</td>\n",
       "    </tr>\n",
       "    <tr>\n",
       "      <th>ENSG00000104228.12</th>\n",
       "      <td>ENSG00000104228</td>\n",
       "      <td>TRIM35</td>\n",
       "      <td>chr8</td>\n",
       "      <td>27284887</td>\n",
       "      <td>27311319</td>\n",
       "      <td>26432</td>\n",
       "      <td>-</td>\n",
       "      <td>1.857056e-05</td>\n",
       "      <td>4.853768</td>\n",
       "      <td>0.000635</td>\n",
       "      <td>0.999673</td>\n",
       "      <td>Gene</td>\n",
       "      <td>Caudate</td>\n",
       "      <td>caudate</td>\n",
       "    </tr>\n",
       "  </tbody>\n",
       "</table>\n",
       "</div>"
      ],
      "text/plain": [
       "                          ensemblID      gene_name    chr     start       end  \\\n",
       "ENSG00000145734.18  ENSG00000145734           BDP1   chr5  71455615  71567820   \n",
       "ENSG00000179262.9   ENSG00000179262         RAD23A  chr19  12945855  12953642   \n",
       "ENSG00000177076.5   ENSG00000177076          ACER2   chr9  19409059  19452020   \n",
       "ENSG00000277954.1   ENSG00000277954  RP11-679B19.1  chr16  79202624  79206739   \n",
       "ENSG00000104228.12  ENSG00000104228         TRIM35   chr8  27284887  27311319   \n",
       "\n",
       "                    length strand         logFC   AveExpr         t  \\\n",
       "ENSG00000145734.18  112205      + -7.434530e-07  7.263799 -0.000035   \n",
       "ENSG00000179262.9     7787      + -2.245137e-06  5.726987 -0.000098   \n",
       "ENSG00000177076.5    42961      + -9.871997e-06  2.633614 -0.000197   \n",
       "ENSG00000277954.1     4115      -  3.533458e-05  1.977845  0.000542   \n",
       "ENSG00000104228.12   26432      -  1.857056e-05  4.853768  0.000635   \n",
       "\n",
       "                    adj.P.Val  Type   Tissue New_Tissue  \n",
       "ENSG00000145734.18   0.999972  Gene  Caudate    caudate  \n",
       "ENSG00000179262.9    0.999967  Gene  Caudate    caudate  \n",
       "ENSG00000177076.5    0.999932  Gene  Caudate    caudate  \n",
       "ENSG00000277954.1    0.999702  Gene  Caudate    caudate  \n",
       "ENSG00000104228.12   0.999673  Gene  Caudate    caudate  "
      ]
     },
     "execution_count": 1,
     "metadata": {},
     "output_type": "execute_result"
    }
   ],
   "source": [
    "ran_df = pd.concat([caudate, gyrus, dlpfc, hippo], axis=0)\n",
    "print(ran_df.shape)\n",
    "ran_df.head()"
   ]
  },
  {
   "cell_type": "code",
   "execution_count": 11,
   "metadata": {
    "execution": {
     "iopub.execute_input": "2021-07-13T17:26:49.912429Z",
     "iopub.status.busy": "2021-07-13T17:26:49.911587Z",
     "iopub.status.idle": "2021-07-13T17:26:50.015206Z",
     "shell.execute_reply": "2021-07-13T17:26:50.014478Z"
    }
   },
   "outputs": [],
   "source": [
    "ran_df.to_csv(\"randomGenes_annotation.txt\", sep='\\t', index=True, header=True)"
   ]
  },
  {
   "cell_type": "code",
   "execution_count": null,
   "metadata": {},
   "outputs": [],
   "source": []
  }
 ],
 "metadata": {
  "kernelspec": {
   "display_name": "Python 3",
   "language": "python",
   "name": "python3"
  },
  "language_info": {
   "codemirror_mode": {
    "name": "ipython",
    "version": 3
   },
   "file_extension": ".py",
   "mimetype": "text/x-python",
   "name": "python",
   "nbconvert_exporter": "python",
   "pygments_lexer": "ipython3",
   "version": "3.9.1"
  }
 },
 "nbformat": 4,
 "nbformat_minor": 4
}
