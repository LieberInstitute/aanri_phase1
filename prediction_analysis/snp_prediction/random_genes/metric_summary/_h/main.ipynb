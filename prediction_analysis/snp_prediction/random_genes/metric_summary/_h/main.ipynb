{
 "cells": [
  {
   "cell_type": "markdown",
   "metadata": {},
   "source": [
    "# Summary of prediction analysis for random genes"
   ]
  },
  {
   "cell_type": "code",
   "execution_count": 1,
   "metadata": {},
   "outputs": [],
   "source": [
    "import os, errno\n",
    "import pandas as pd\n",
    "import seaborn as sns\n",
    "from venn import venn\n",
    "import matplotlib.pyplot as plt"
   ]
  },
  {
   "cell_type": "markdown",
   "metadata": {},
   "source": [
    "## Functions"
   ]
  },
  {
   "cell_type": "code",
   "execution_count": 2,
   "metadata": {},
   "outputs": [],
   "source": [
    "def mkdir_p(directory):\n",
    "    \"\"\"\n",
    "    Make a directory if it does not already exist.\n",
    "\n",
    "    Input: Directory name\n",
    "    \"\"\"\n",
    "    try:\n",
    "        os.makedirs(directory)\n",
    "    except OSError as e:\n",
    "        if e.errno != errno.EEXIST:\n",
    "            raise"
   ]
  },
  {
   "cell_type": "markdown",
   "metadata": {},
   "source": [
    "## Summary of features"
   ]
  },
  {
   "cell_type": "code",
   "execution_count": 3,
   "metadata": {},
   "outputs": [
    {
     "data": {
      "text/plain": [
       "Tissue\n",
       "Caudate          1901\n",
       "DLPFC            1345\n",
       "Dentate Gyrus     655\n",
       "Hippocampus      1332\n",
       "dtype: int64"
      ]
     },
     "execution_count": 3,
     "metadata": {},
     "output_type": "execute_result"
    }
   ],
   "source": [
    "degs = pd.read_csv(\"../../../../_m/randomGenes_annotation.txt\", sep='\\t', index_col=0)\n",
    "dtu = pd.read_csv(\"../../../../../differential_analysis/tissue_comparison/ds_summary/_m/diffSplicing_ancestry_FDR05_4regions.tsv\", sep='\\t')\n",
    "dtu.groupby(\"Tissue\").size()"
   ]
  },
  {
   "cell_type": "code",
   "execution_count": 4,
   "metadata": {},
   "outputs": [
    {
     "name": "stdout",
     "output_type": "stream",
     "text": [
      "There are 167 overlapping DTU in DEGs for Caudate!\n",
      "There are 16 overlapping DTU in DEGs for Dentate Gyrus!\n",
      "There are 105 overlapping DTU in DEGs for DLPFC!\n",
      "There are 109 overlapping DTU in DEGs for Hippocampus!\n"
     ]
    }
   ],
   "source": [
    "for tissue in [\"Caudate\", \"Dentate Gyrus\", \"DLPFC\", \"Hippocampus\"]:\n",
    "    overlap = len(set(degs[(degs[\"Tissue\"] == tissue)].gene_name) & \n",
    "                  set(dtu[(dtu[\"Tissue\"] == tissue)].gene))\n",
    "    print(\"There are {} overlapping DTU in DEGs for {}!\".format(overlap, tissue))"
   ]
  },
  {
   "cell_type": "markdown",
   "metadata": {},
   "source": [
    "## Load and prep summary files"
   ]
  },
  {
   "cell_type": "markdown",
   "metadata": {},
   "source": [
    "### Load files"
   ]
  },
  {
   "cell_type": "code",
   "execution_count": 5,
   "metadata": {},
   "outputs": [],
   "source": [
    "rf0 = pd.read_csv(\"../../rf/summary_10Folds_allTissues.tsv\", sep='\\t')\n",
    "enet0 = pd.read_csv(\"../../enet/summary_10Folds_allTissues.tsv\", sep='\\t')"
   ]
  },
  {
   "cell_type": "markdown",
   "metadata": {},
   "source": [
    "### Group, select, and clean summary results"
   ]
  },
  {
   "cell_type": "code",
   "execution_count": 6,
   "metadata": {},
   "outputs": [
    {
     "data": {
      "text/html": [
       "<div>\n",
       "<style scoped>\n",
       "    .dataframe tbody tr th:only-of-type {\n",
       "        vertical-align: middle;\n",
       "    }\n",
       "\n",
       "    .dataframe tbody tr th {\n",
       "        vertical-align: top;\n",
       "    }\n",
       "\n",
       "    .dataframe thead th {\n",
       "        text-align: right;\n",
       "    }\n",
       "</style>\n",
       "<table border=\"1\" class=\"dataframe\">\n",
       "  <thead>\n",
       "    <tr style=\"text-align: right;\">\n",
       "      <th></th>\n",
       "      <th>tissue</th>\n",
       "      <th>feature</th>\n",
       "      <th>n_features</th>\n",
       "      <th>test_score_r2</th>\n",
       "      <th>Model</th>\n",
       "    </tr>\n",
       "  </thead>\n",
       "  <tbody>\n",
       "    <tr>\n",
       "      <th>0</th>\n",
       "      <td>Caudate</td>\n",
       "      <td>ENSG00000001084.10</td>\n",
       "      <td>19.5</td>\n",
       "      <td>-0.097849</td>\n",
       "      <td>Random Forest</td>\n",
       "    </tr>\n",
       "    <tr>\n",
       "      <th>1</th>\n",
       "      <td>Caudate</td>\n",
       "      <td>ENSG00000001630.15</td>\n",
       "      <td>3.0</td>\n",
       "      <td>-0.110874</td>\n",
       "      <td>Random Forest</td>\n",
       "    </tr>\n",
       "  </tbody>\n",
       "</table>\n",
       "</div>"
      ],
      "text/plain": [
       "    tissue             feature  n_features  test_score_r2          Model\n",
       "0  Caudate  ENSG00000001084.10        19.5      -0.097849  Random Forest\n",
       "1  Caudate  ENSG00000001630.15         3.0      -0.110874  Random Forest"
      ]
     },
     "execution_count": 6,
     "metadata": {},
     "output_type": "execute_result"
    }
   ],
   "source": [
    "## Extract median of model metrics over 10 folds\n",
    "rf = rf0.groupby([\"tissue\", \"feature\"]).median()\\\n",
    "        .loc[:, [\"n_features\", \"test_score_r2\"]].reset_index()\n",
    "rf.feature = rf.feature.str.replace(\"_\", \".\", regex=True)\n",
    "rf[\"Model\"] = \"Random Forest\"\n",
    "enet = enet0.groupby([\"tissue\", \"feature\"]).median()\\\n",
    "        .loc[:, [\"n_features\", \"test_score_r2\"]].reset_index()\n",
    "enet.feature = enet.feature.str.replace(\"_\", \".\", regex=True)\n",
    "enet[\"Model\"] = \"Elastic Net\"\n",
    "\n",
    "df = pd.concat([rf, enet], axis=0)\n",
    "df.head(2)"
   ]
  },
  {
   "cell_type": "markdown",
   "metadata": {},
   "source": [
    "### Overlap with DTU"
   ]
  },
  {
   "cell_type": "code",
   "execution_count": 7,
   "metadata": {},
   "outputs": [
    {
     "name": "stdout",
     "output_type": "stream",
     "text": [
      "There are 166 overlapping DTU in DEGs for Caudate!\n",
      "There are 16 overlapping DTU in DEGs for Dentate Gyrus!\n",
      "There are 103 overlapping DTU in DEGs for DLPFC!\n",
      "There are 108 overlapping DTU in DEGs for Hippocampus!\n"
     ]
    }
   ],
   "source": [
    "dx = df.merge(degs[[\"gene_name\"]], left_on=\"feature\", right_index=True).drop_duplicates()\n",
    "for tissue in [\"Caudate\", \"Dentate Gyrus\", \"DLPFC\", \"Hippocampus\"]:\n",
    "    overlap = len(set(dx[(dx[\"tissue\"] == tissue)].gene_name) & \n",
    "                  set(dtu[(dtu[\"Tissue\"] == tissue)].gene))\n",
    "    print(\"There are {} overlapping DTU in DEGs for {}!\".format(overlap, tissue))"
   ]
  },
  {
   "cell_type": "markdown",
   "metadata": {},
   "source": [
    "### Add partial r2 results"
   ]
  },
  {
   "cell_type": "code",
   "execution_count": 8,
   "metadata": {},
   "outputs": [
    {
     "data": {
      "text/html": [
       "<div>\n",
       "<style scoped>\n",
       "    .dataframe tbody tr th:only-of-type {\n",
       "        vertical-align: middle;\n",
       "    }\n",
       "\n",
       "    .dataframe tbody tr th {\n",
       "        vertical-align: top;\n",
       "    }\n",
       "\n",
       "    .dataframe thead th {\n",
       "        text-align: right;\n",
       "    }\n",
       "</style>\n",
       "<table border=\"1\" class=\"dataframe\">\n",
       "  <thead>\n",
       "    <tr style=\"text-align: right;\">\n",
       "      <th></th>\n",
       "      <th>tissue</th>\n",
       "      <th>feature</th>\n",
       "      <th>n_features</th>\n",
       "      <th>test_score_r2</th>\n",
       "      <th>Model</th>\n",
       "    </tr>\n",
       "  </thead>\n",
       "  <tbody>\n",
       "    <tr>\n",
       "      <th>0</th>\n",
       "      <td>Caudate</td>\n",
       "      <td>ENSG00000001084.10</td>\n",
       "      <td>18</td>\n",
       "      <td>0.173658</td>\n",
       "      <td>Partial R2</td>\n",
       "    </tr>\n",
       "    <tr>\n",
       "      <th>1</th>\n",
       "      <td>Caudate</td>\n",
       "      <td>ENSG00000001630.15</td>\n",
       "      <td>2</td>\n",
       "      <td>0.006768</td>\n",
       "      <td>Partial R2</td>\n",
       "    </tr>\n",
       "  </tbody>\n",
       "</table>\n",
       "</div>"
      ],
      "text/plain": [
       "    tissue             feature  n_features  test_score_r2       Model\n",
       "0  Caudate  ENSG00000001084.10          18       0.173658  Partial R2\n",
       "1  Caudate  ENSG00000001630.15           2       0.006768  Partial R2"
      ]
     },
     "execution_count": 8,
     "metadata": {},
     "output_type": "execute_result"
    }
   ],
   "source": [
    "partial = pd.read_csv(\"../../partial_r2/rf_partial_r2_metrics.tsv\", sep='\\t')\\\n",
    "            .rename(columns={\"Geneid\": \"Feature\"})\n",
    "partial.columns = partial.columns.str.lower()\n",
    "partial[\"test_score_r2\"] = partial.partial_r2\n",
    "partial[\"Model\"] = \"Partial R2\"\n",
    "partial = partial.loc[:, ['tissue', 'feature', 'n_features', 'test_score_r2', 'Model']]\n",
    "partial.head(2)"
   ]
  },
  {
   "cell_type": "code",
   "execution_count": 9,
   "metadata": {},
   "outputs": [
    {
     "data": {
      "text/plain": [
       "tissue         Model        \n",
       "Caudate        Elastic Net      2947\n",
       "               Partial R2       2789\n",
       "               Random Forest    2947\n",
       "DLPFC          Elastic Net      2745\n",
       "               Partial R2       2624\n",
       "               Random Forest    2745\n",
       "Dentate Gyrus  Elastic Net       780\n",
       "               Partial R2        772\n",
       "               Random Forest     780\n",
       "Hippocampus    Elastic Net      2938\n",
       "               Partial R2       2745\n",
       "               Random Forest    2938\n",
       "dtype: int64"
      ]
     },
     "execution_count": 9,
     "metadata": {},
     "output_type": "execute_result"
    }
   ],
   "source": [
    "df2 = pd.concat([df, partial], axis=0)\n",
    "df2.groupby([\"tissue\", \"Model\"]).size()"
   ]
  },
  {
   "cell_type": "markdown",
   "metadata": {},
   "source": [
    "## Summary of results"
   ]
  },
  {
   "cell_type": "markdown",
   "metadata": {},
   "source": [
    "### Histogram of R2 (median test R2 score)"
   ]
  },
  {
   "cell_type": "code",
   "execution_count": null,
   "metadata": {},
   "outputs": [],
   "source": [
    "grid = sns.FacetGrid(df, col=\"tissue\", col_wrap=2, hue=\"Model\")\n",
    "grid.map(sns.histplot, \"test_score_r2\")\n",
    "grid.set_axis_labels(\"R2 (Test Score)\", \"Count (Genes)\")\n",
    "grid.set_titles(col_template=\"{col_name}\")\n",
    "grid.add_legend()\n",
    "grid.tight_layout()\n",
    "grid.savefig(\"histogram_test_r2.pdf\")\n",
    "grid.savefig(\"histogram_test_r2.png\")\n",
    "grid.savefig(\"histogram_test_r2.svg\")"
   ]
  },
  {
   "cell_type": "code",
   "execution_count": null,
   "metadata": {},
   "outputs": [],
   "source": [
    "grid = sns.FacetGrid(df2, col=\"tissue\", col_wrap=2, hue=\"Model\")\n",
    "grid.map(sns.histplot, \"test_score_r2\")\n",
    "grid.set_axis_labels(\"R2 {Test and Partial}\", \"Count (Genes)\")\n",
    "grid.set_titles(col_template=\"{col_name}\")\n",
    "grid.add_legend()\n",
    "grid.tight_layout()\n",
    "grid.savefig(\"histogram_test_N_partial_r2.pdf\")\n",
    "grid.savefig(\"histogram_test_N_partial_r2.png\")\n",
    "grid.savefig(\"histogram_test_N_partial_r2.svg\")"
   ]
  },
  {
   "cell_type": "markdown",
   "metadata": {},
   "source": [
    "### What number of random genes do not have any SNPs within 20 Kbp of gene body?"
   ]
  },
  {
   "cell_type": "code",
   "execution_count": 10,
   "metadata": {},
   "outputs": [
    {
     "name": "stdout",
     "output_type": "stream",
     "text": [
      "23 of 2970 (0.8%) of random genes do not have SNPs within 20Kbp.\n",
      "15 of 2760 (0.5%) of random genes do not have SNPs within 20Kbp.\n",
      "18 of 2956 (0.6%) of random genes do not have SNPs within 20Kbp.\n",
      "6 of 786 (0.8%) of random genes do not have SNPs within 20Kbp.\n"
     ]
    }
   ],
   "source": [
    "for tissue in [\"Caudate\", \"DLPFC\", \"Hippocampus\", \"Dentate Gyrus\"]:\n",
    "    xx = set(df[(df[\"tissue\"] == tissue)].feature)\n",
    "    yy = set(degs[(degs[\"Tissue\"] == tissue)].index)\n",
    "    txt = \"{} of {} ({:.1%}) of random genes do not have SNPs within 20Kbp.\"\n",
    "    print(txt.format(len(yy) - len(xx), len(yy), (len(yy) - len(xx)) / len(yy)))"
   ]
  },
  {
   "cell_type": "markdown",
   "metadata": {},
   "source": [
    "### Number of ancestry random genes expression that can be predictive with SNP"
   ]
  },
  {
   "cell_type": "code",
   "execution_count": 11,
   "metadata": {},
   "outputs": [
    {
     "data": {
      "text/plain": [
       "tissue         Model        \n",
       "Caudate        Elastic Net      17\n",
       "               Random Forest    15\n",
       "DLPFC          Elastic Net      15\n",
       "               Random Forest    10\n",
       "Dentate Gyrus  Elastic Net       2\n",
       "               Random Forest     2\n",
       "Hippocampus    Elastic Net      11\n",
       "               Random Forest     5\n",
       "dtype: int64"
      ]
     },
     "execution_count": 11,
     "metadata": {},
     "output_type": "execute_result"
    }
   ],
   "source": [
    "df[(df[\"test_score_r2\"] >= 0.5)].groupby([\"tissue\", \"Model\"]).size()"
   ]
  },
  {
   "cell_type": "code",
   "execution_count": 12,
   "metadata": {},
   "outputs": [
    {
     "data": {
      "text/plain": [
       "tissue   Model        \n",
       "Caudate  Elastic Net      1\n",
       "         Random Forest    2\n",
       "dtype: int64"
      ]
     },
     "execution_count": 12,
     "metadata": {},
     "output_type": "execute_result"
    }
   ],
   "source": [
    "df[(df[\"test_score_r2\"] >= 0.75)].groupby([\"tissue\", \"Model\"]).size()"
   ]
  },
  {
   "cell_type": "code",
   "execution_count": 13,
   "metadata": {},
   "outputs": [
    {
     "data": {
      "text/html": [
       "<div>\n",
       "<style scoped>\n",
       "    .dataframe tbody tr th:only-of-type {\n",
       "        vertical-align: middle;\n",
       "    }\n",
       "\n",
       "    .dataframe tbody tr th {\n",
       "        vertical-align: top;\n",
       "    }\n",
       "\n",
       "    .dataframe thead th {\n",
       "        text-align: right;\n",
       "    }\n",
       "</style>\n",
       "<table border=\"1\" class=\"dataframe\">\n",
       "  <thead>\n",
       "    <tr style=\"text-align: right;\">\n",
       "      <th></th>\n",
       "      <th>tissue</th>\n",
       "      <th>feature</th>\n",
       "      <th>n_features</th>\n",
       "      <th>test_score_r2</th>\n",
       "      <th>Model</th>\n",
       "    </tr>\n",
       "  </thead>\n",
       "  <tbody>\n",
       "    <tr>\n",
       "      <th>947</th>\n",
       "      <td>Caudate</td>\n",
       "      <td>ENSG00000144115.16</td>\n",
       "      <td>41.5</td>\n",
       "      <td>0.819213</td>\n",
       "      <td>Random Forest</td>\n",
       "    </tr>\n",
       "    <tr>\n",
       "      <th>2134</th>\n",
       "      <td>Caudate</td>\n",
       "      <td>ENSG00000230795.3</td>\n",
       "      <td>30.5</td>\n",
       "      <td>0.762742</td>\n",
       "      <td>Random Forest</td>\n",
       "    </tr>\n",
       "    <tr>\n",
       "      <th>947</th>\n",
       "      <td>Caudate</td>\n",
       "      <td>ENSG00000144115.16</td>\n",
       "      <td>40.0</td>\n",
       "      <td>0.813873</td>\n",
       "      <td>Elastic Net</td>\n",
       "    </tr>\n",
       "  </tbody>\n",
       "</table>\n",
       "</div>"
      ],
      "text/plain": [
       "       tissue             feature  n_features  test_score_r2          Model\n",
       "947   Caudate  ENSG00000144115.16        41.5       0.819213  Random Forest\n",
       "2134  Caudate   ENSG00000230795.3        30.5       0.762742  Random Forest\n",
       "947   Caudate  ENSG00000144115.16        40.0       0.813873    Elastic Net"
      ]
     },
     "execution_count": 13,
     "metadata": {},
     "output_type": "execute_result"
    }
   ],
   "source": [
    "df[(df[\"test_score_r2\"] >= 0.75)]"
   ]
  },
  {
   "cell_type": "markdown",
   "metadata": {},
   "source": [
    "### Overlapping with DTU"
   ]
  },
  {
   "cell_type": "code",
   "execution_count": 23,
   "metadata": {},
   "outputs": [
    {
     "data": {
      "text/plain": [
       "Tissue       Model        \n",
       "Caudate      Elastic Net      1\n",
       "DLPFC        Elastic Net      4\n",
       "             Random Forest    1\n",
       "Hippocampus  Elastic Net      1\n",
       "             Random Forest    1\n",
       "dtype: int64"
      ]
     },
     "execution_count": 23,
     "metadata": {},
     "output_type": "execute_result"
    }
   ],
   "source": [
    "df3 = dx.merge(dtu, left_on=[\"gene_name\", \"tissue\"], right_on=[\"gene\", \"Tissue\"])\n",
    "df3[(df3[\"test_score_r2\"] >= 0.5)].groupby([\"Tissue\", \"Model\"]).size()"
   ]
  },
  {
   "cell_type": "code",
   "execution_count": 24,
   "metadata": {},
   "outputs": [
    {
     "data": {
      "text/html": [
       "<div>\n",
       "<style scoped>\n",
       "    .dataframe tbody tr th:only-of-type {\n",
       "        vertical-align: middle;\n",
       "    }\n",
       "\n",
       "    .dataframe tbody tr th {\n",
       "        vertical-align: top;\n",
       "    }\n",
       "\n",
       "    .dataframe thead th {\n",
       "        text-align: right;\n",
       "    }\n",
       "</style>\n",
       "<table border=\"1\" class=\"dataframe\">\n",
       "  <thead>\n",
       "    <tr style=\"text-align: right;\">\n",
       "      <th></th>\n",
       "      <th>tissue</th>\n",
       "      <th>feature</th>\n",
       "      <th>n_features</th>\n",
       "      <th>test_score_r2</th>\n",
       "      <th>Model</th>\n",
       "      <th>gene_name</th>\n",
       "      <th>clusterID</th>\n",
       "      <th>N</th>\n",
       "      <th>coord</th>\n",
       "      <th>gene</th>\n",
       "      <th>annotation</th>\n",
       "      <th>FDR</th>\n",
       "      <th>chr</th>\n",
       "      <th>Type</th>\n",
       "      <th>Tissue</th>\n",
       "    </tr>\n",
       "  </thead>\n",
       "  <tbody>\n",
       "    <tr>\n",
       "      <th>325</th>\n",
       "      <td>DLPFC</td>\n",
       "      <td>ENSG00000170074.19</td>\n",
       "      <td>17.5</td>\n",
       "      <td>0.504119</td>\n",
       "      <td>Elastic Net</td>\n",
       "      <td>FAM153A</td>\n",
       "      <td>clu_26850_-</td>\n",
       "      <td>8</td>\n",
       "      <td>chr5:177713916-177717163</td>\n",
       "      <td>FAM153A</td>\n",
       "      <td>cryptic</td>\n",
       "      <td>8.930000e-11</td>\n",
       "      <td>chr5</td>\n",
       "      <td>DTU</td>\n",
       "      <td>DLPFC</td>\n",
       "    </tr>\n",
       "    <tr>\n",
       "      <th>409</th>\n",
       "      <td>Caudate</td>\n",
       "      <td>ENSG00000234585.6</td>\n",
       "      <td>44.0</td>\n",
       "      <td>0.540765</td>\n",
       "      <td>Elastic Net</td>\n",
       "      <td>CCT6P3</td>\n",
       "      <td>clu_185708_+</td>\n",
       "      <td>2</td>\n",
       "      <td>chr7:65073514-65078624</td>\n",
       "      <td>CCT6P3</td>\n",
       "      <td>cryptic</td>\n",
       "      <td>2.460000e-07</td>\n",
       "      <td>chr7</td>\n",
       "      <td>DTU</td>\n",
       "      <td>Caudate</td>\n",
       "    </tr>\n",
       "    <tr>\n",
       "      <th>410</th>\n",
       "      <td>DLPFC</td>\n",
       "      <td>ENSG00000234585.6</td>\n",
       "      <td>100.5</td>\n",
       "      <td>0.689523</td>\n",
       "      <td>Random Forest</td>\n",
       "      <td>CCT6P3</td>\n",
       "      <td>clu_176176_+</td>\n",
       "      <td>2</td>\n",
       "      <td>chr7:65073514-65078624</td>\n",
       "      <td>CCT6P3</td>\n",
       "      <td>cryptic</td>\n",
       "      <td>4.530000e-08</td>\n",
       "      <td>chr7</td>\n",
       "      <td>DTU</td>\n",
       "      <td>DLPFC</td>\n",
       "    </tr>\n",
       "    <tr>\n",
       "      <th>411</th>\n",
       "      <td>DLPFC</td>\n",
       "      <td>ENSG00000234585.6</td>\n",
       "      <td>63.5</td>\n",
       "      <td>0.588457</td>\n",
       "      <td>Elastic Net</td>\n",
       "      <td>CCT6P3</td>\n",
       "      <td>clu_176176_+</td>\n",
       "      <td>2</td>\n",
       "      <td>chr7:65073514-65078624</td>\n",
       "      <td>CCT6P3</td>\n",
       "      <td>cryptic</td>\n",
       "      <td>4.530000e-08</td>\n",
       "      <td>chr7</td>\n",
       "      <td>DTU</td>\n",
       "      <td>DLPFC</td>\n",
       "    </tr>\n",
       "    <tr>\n",
       "      <th>412</th>\n",
       "      <td>Hippocampus</td>\n",
       "      <td>ENSG00000234585.6</td>\n",
       "      <td>44.0</td>\n",
       "      <td>0.624863</td>\n",
       "      <td>Random Forest</td>\n",
       "      <td>CCT6P3</td>\n",
       "      <td>clu_164468_+</td>\n",
       "      <td>2</td>\n",
       "      <td>chr7:65073514-65078624</td>\n",
       "      <td>CCT6P3</td>\n",
       "      <td>cryptic</td>\n",
       "      <td>2.560000e-07</td>\n",
       "      <td>chr7</td>\n",
       "      <td>DTU</td>\n",
       "      <td>Hippocampus</td>\n",
       "    </tr>\n",
       "    <tr>\n",
       "      <th>413</th>\n",
       "      <td>Hippocampus</td>\n",
       "      <td>ENSG00000234585.6</td>\n",
       "      <td>71.0</td>\n",
       "      <td>0.587100</td>\n",
       "      <td>Elastic Net</td>\n",
       "      <td>CCT6P3</td>\n",
       "      <td>clu_164468_+</td>\n",
       "      <td>2</td>\n",
       "      <td>chr7:65073514-65078624</td>\n",
       "      <td>CCT6P3</td>\n",
       "      <td>cryptic</td>\n",
       "      <td>2.560000e-07</td>\n",
       "      <td>chr7</td>\n",
       "      <td>DTU</td>\n",
       "      <td>Hippocampus</td>\n",
       "    </tr>\n",
       "    <tr>\n",
       "      <th>553</th>\n",
       "      <td>DLPFC</td>\n",
       "      <td>ENSG00000148290.9</td>\n",
       "      <td>36.0</td>\n",
       "      <td>0.537059</td>\n",
       "      <td>Elastic Net</td>\n",
       "      <td>SURF1</td>\n",
       "      <td>clu_43950_-</td>\n",
       "      <td>2</td>\n",
       "      <td>chr9:133352142-133352446</td>\n",
       "      <td>SURF1</td>\n",
       "      <td>cryptic</td>\n",
       "      <td>2.930000e-03</td>\n",
       "      <td>chr9</td>\n",
       "      <td>DTU</td>\n",
       "      <td>DLPFC</td>\n",
       "    </tr>\n",
       "    <tr>\n",
       "      <th>601</th>\n",
       "      <td>DLPFC</td>\n",
       "      <td>ENSG00000177984.6</td>\n",
       "      <td>30.0</td>\n",
       "      <td>0.501914</td>\n",
       "      <td>Elastic Net</td>\n",
       "      <td>LCN15</td>\n",
       "      <td>clu_44147_-</td>\n",
       "      <td>19</td>\n",
       "      <td>chr9:136763965-136770598</td>\n",
       "      <td>LCN15</td>\n",
       "      <td>cryptic</td>\n",
       "      <td>1.150000e-02</td>\n",
       "      <td>chr9</td>\n",
       "      <td>DTU</td>\n",
       "      <td>DLPFC</td>\n",
       "    </tr>\n",
       "  </tbody>\n",
       "</table>\n",
       "</div>"
      ],
      "text/plain": [
       "          tissue             feature  n_features  test_score_r2  \\\n",
       "325        DLPFC  ENSG00000170074.19        17.5       0.504119   \n",
       "409      Caudate   ENSG00000234585.6        44.0       0.540765   \n",
       "410        DLPFC   ENSG00000234585.6       100.5       0.689523   \n",
       "411        DLPFC   ENSG00000234585.6        63.5       0.588457   \n",
       "412  Hippocampus   ENSG00000234585.6        44.0       0.624863   \n",
       "413  Hippocampus   ENSG00000234585.6        71.0       0.587100   \n",
       "553        DLPFC   ENSG00000148290.9        36.0       0.537059   \n",
       "601        DLPFC   ENSG00000177984.6        30.0       0.501914   \n",
       "\n",
       "             Model gene_name     clusterID   N                     coord  \\\n",
       "325    Elastic Net   FAM153A   clu_26850_-   8  chr5:177713916-177717163   \n",
       "409    Elastic Net    CCT6P3  clu_185708_+   2    chr7:65073514-65078624   \n",
       "410  Random Forest    CCT6P3  clu_176176_+   2    chr7:65073514-65078624   \n",
       "411    Elastic Net    CCT6P3  clu_176176_+   2    chr7:65073514-65078624   \n",
       "412  Random Forest    CCT6P3  clu_164468_+   2    chr7:65073514-65078624   \n",
       "413    Elastic Net    CCT6P3  clu_164468_+   2    chr7:65073514-65078624   \n",
       "553    Elastic Net     SURF1   clu_43950_-   2  chr9:133352142-133352446   \n",
       "601    Elastic Net     LCN15   clu_44147_-  19  chr9:136763965-136770598   \n",
       "\n",
       "        gene annotation           FDR   chr Type       Tissue  \n",
       "325  FAM153A    cryptic  8.930000e-11  chr5  DTU        DLPFC  \n",
       "409   CCT6P3    cryptic  2.460000e-07  chr7  DTU      Caudate  \n",
       "410   CCT6P3    cryptic  4.530000e-08  chr7  DTU        DLPFC  \n",
       "411   CCT6P3    cryptic  4.530000e-08  chr7  DTU        DLPFC  \n",
       "412   CCT6P3    cryptic  2.560000e-07  chr7  DTU  Hippocampus  \n",
       "413   CCT6P3    cryptic  2.560000e-07  chr7  DTU  Hippocampus  \n",
       "553    SURF1    cryptic  2.930000e-03  chr9  DTU        DLPFC  \n",
       "601    LCN15    cryptic  1.150000e-02  chr9  DTU        DLPFC  "
      ]
     },
     "execution_count": 24,
     "metadata": {},
     "output_type": "execute_result"
    }
   ],
   "source": [
    "df3[(df3[\"test_score_r2\"] >= 0.5)]"
   ]
  },
  {
   "cell_type": "markdown",
   "metadata": {},
   "source": [
    "### What is the overlap between models?"
   ]
  },
  {
   "cell_type": "code",
   "execution_count": null,
   "metadata": {},
   "outputs": [],
   "source": [
    "for tissue in [\"Caudate\", \"DLPFC\", \"Hippocampus\", \"Dentate Gyrus\"]:\n",
    "    print(tissue)\n",
    "    for r2 in [0, 0.2, 0.5, 0.6, 0.7, 0.75]:\n",
    "        ee = enet[(enet[\"tissue\"] == tissue) & (enet[\"test_score_r2\"] >= r2)].copy()\n",
    "        rr = rf[(rf[\"tissue\"] == tissue) & (rf[\"test_score_r2\"] >= r2)].copy()\n",
    "        oo = len(set(ee.feature) & set(rr.feature))\n",
    "        txt = \"There is {} out of {} and {} genes overlapping between enet and rf - at R2 > {}\"\n",
    "        print(txt.format(oo, len(set(ee.feature)), len(set(rr.feature)), r2))\n",
    "    print(\"\")"
   ]
  },
  {
   "cell_type": "code",
   "execution_count": null,
   "metadata": {},
   "outputs": [],
   "source": [
    "dirname = \"model_venn_diagrams\"\n",
    "mkdir_p(dirname)\n",
    "for tissue in [\"Caudate\", \"DLPFC\", \"Hippocampus\", \"Dentate Gyrus\"]:\n",
    "    #print(tissue)\n",
    "    for r2 in [0, 0.2, 0.5, 0.6, 0.7, 0.75]:\n",
    "        ee = enet[(enet[\"tissue\"] == tissue) & (enet[\"test_score_r2\"] >= r2)].copy()\n",
    "        rr = rf[(rf[\"tissue\"] == tissue) & (rf[\"test_score_r2\"] >= r2)].copy()\n",
    "        model_set = {\"Elastic Net\": set(ee.feature), \"Random Forest\": set(rr.feature),}\n",
    "        try:\n",
    "            venn(model_set, fmt=\"{percentage:.1f}%\", fontsize=12)\n",
    "            tt = tissue.lower().replace(\" \", \"_\")\n",
    "            plt.savefig(\"{}/venn_diagram_modelOverlap_{}_r2_{}.png\".format(dirname, tt, r2))\n",
    "            plt.savefig(\"{}/venn_diagram_modelOverlap_{}_r2_{}.pdf\".format(dirname, tt, r2))\n",
    "            plt.savefig(\"{}/venn_diagram_modelOverlap_{}_r2_{}.svg\".format(dirname, tt, r2))\n",
    "        except ZeroDivisionError:\n",
    "            print(\"There are no features to plot!\")"
   ]
  },
  {
   "cell_type": "markdown",
   "metadata": {},
   "source": [
    "### What is the overlap between brain regions?"
   ]
  },
  {
   "cell_type": "code",
   "execution_count": null,
   "metadata": {},
   "outputs": [],
   "source": [
    "dirname = \"tissue_venn_diagrams\"\n",
    "mkdir_p(dirname)\n",
    "for modeln in [\"Elastic Net\", \"Random Forest\"]:\n",
    "    #print(modeln)\n",
    "    dft = df[(df['Model'] == modeln)].copy()\n",
    "    for r2 in [0, 0.2, 0.4, 0.5, 0.6, 0.7, 0.75, 0.8]:\n",
    "        cc = dft[(dft[\"tissue\"] == \"Caudate\") & (dft[\"test_score_r2\"] >= r2)].copy()\n",
    "        dd = dft[(dft[\"tissue\"] == \"DLPFC\") & (dft[\"test_score_r2\"] >= r2)].copy()\n",
    "        hh = dft[(dft[\"tissue\"] == \"Hippocampus\") & (dft[\"test_score_r2\"] >= r2)].copy()\n",
    "        gg = dft[(dft[\"tissue\"] == \"Dentate Gyrus\") & (dft[\"test_score_r2\"] >= r2)].copy()\n",
    "        tissues = {\"Caudate\": set(cc.feature), \"DLPFC\": set(dd.feature), \n",
    "                   \"Hippocampus\": set(hh.feature), \"Dentate Gyrus\": set(gg.feature)}\n",
    "        try: \n",
    "            venn(tissues, fmt=\"{percentage:.1f}%\", fontsize=12)\n",
    "            mm = modeln.lower().replace(\" \", \"_\")\n",
    "            plt.savefig(\"{}/venn_diagram_tissueOverlap_{}_r2_{}.png\".format(dirname, mm, r2))\n",
    "            plt.savefig(\"{}/venn_diagram_tissueOverlap_{}_r2_{}.pdf\".format(dirname, mm, r2))\n",
    "            plt.savefig(\"{}/venn_diagram_tissueOverlap_{}_r2_{}.svg\".format(dirname, mm, r2))\n",
    "        except ZeroDivisionError:\n",
    "            print(\"There are no features to plot!\")"
   ]
  },
  {
   "cell_type": "markdown",
   "metadata": {},
   "source": [
    "## Examining partial R2 results using most predictive SNPs"
   ]
  },
  {
   "cell_type": "code",
   "execution_count": 17,
   "metadata": {},
   "outputs": [
    {
     "data": {
      "text/html": [
       "<div>\n",
       "<style scoped>\n",
       "    .dataframe tbody tr th:only-of-type {\n",
       "        vertical-align: middle;\n",
       "    }\n",
       "\n",
       "    .dataframe tbody tr th {\n",
       "        vertical-align: top;\n",
       "    }\n",
       "\n",
       "    .dataframe thead th {\n",
       "        text-align: right;\n",
       "    }\n",
       "</style>\n",
       "<table border=\"1\" class=\"dataframe\">\n",
       "  <thead>\n",
       "    <tr style=\"text-align: right;\">\n",
       "      <th></th>\n",
       "      <th>tissue</th>\n",
       "      <th>Caudate</th>\n",
       "      <th>DLPFC</th>\n",
       "      <th>Dentate Gyrus</th>\n",
       "      <th>Hippocampus</th>\n",
       "    </tr>\n",
       "  </thead>\n",
       "  <tbody>\n",
       "    <tr>\n",
       "      <th rowspan=\"8\" valign=\"top\">n_features</th>\n",
       "      <th>count</th>\n",
       "      <td>2789.000000</td>\n",
       "      <td>2624.000000</td>\n",
       "      <td>772.000000</td>\n",
       "      <td>2745.000000</td>\n",
       "    </tr>\n",
       "    <tr>\n",
       "      <th>mean</th>\n",
       "      <td>7.690929</td>\n",
       "      <td>8.452363</td>\n",
       "      <td>10.274611</td>\n",
       "      <td>7.286703</td>\n",
       "    </tr>\n",
       "    <tr>\n",
       "      <th>std</th>\n",
       "      <td>15.340090</td>\n",
       "      <td>18.184341</td>\n",
       "      <td>15.633189</td>\n",
       "      <td>15.029555</td>\n",
       "    </tr>\n",
       "    <tr>\n",
       "      <th>min</th>\n",
       "      <td>1.000000</td>\n",
       "      <td>1.000000</td>\n",
       "      <td>1.000000</td>\n",
       "      <td>1.000000</td>\n",
       "    </tr>\n",
       "    <tr>\n",
       "      <th>25%</th>\n",
       "      <td>2.000000</td>\n",
       "      <td>2.000000</td>\n",
       "      <td>3.000000</td>\n",
       "      <td>2.000000</td>\n",
       "    </tr>\n",
       "    <tr>\n",
       "      <th>50%</th>\n",
       "      <td>3.000000</td>\n",
       "      <td>3.000000</td>\n",
       "      <td>5.000000</td>\n",
       "      <td>3.000000</td>\n",
       "    </tr>\n",
       "    <tr>\n",
       "      <th>75%</th>\n",
       "      <td>6.000000</td>\n",
       "      <td>7.000000</td>\n",
       "      <td>11.000000</td>\n",
       "      <td>6.000000</td>\n",
       "    </tr>\n",
       "    <tr>\n",
       "      <th>max</th>\n",
       "      <td>292.000000</td>\n",
       "      <td>566.000000</td>\n",
       "      <td>170.000000</td>\n",
       "      <td>311.000000</td>\n",
       "    </tr>\n",
       "    <tr>\n",
       "      <th rowspan=\"8\" valign=\"top\">test_score_r2</th>\n",
       "      <th>count</th>\n",
       "      <td>2789.000000</td>\n",
       "      <td>2624.000000</td>\n",
       "      <td>772.000000</td>\n",
       "      <td>2745.000000</td>\n",
       "    </tr>\n",
       "    <tr>\n",
       "      <th>mean</th>\n",
       "      <td>0.054626</td>\n",
       "      <td>0.058206</td>\n",
       "      <td>0.122879</td>\n",
       "      <td>0.045879</td>\n",
       "    </tr>\n",
       "    <tr>\n",
       "      <th>std</th>\n",
       "      <td>0.096283</td>\n",
       "      <td>0.096488</td>\n",
       "      <td>0.148699</td>\n",
       "      <td>0.081363</td>\n",
       "    </tr>\n",
       "    <tr>\n",
       "      <th>min</th>\n",
       "      <td>0.000000</td>\n",
       "      <td>0.000000</td>\n",
       "      <td>0.000000</td>\n",
       "      <td>0.000000</td>\n",
       "    </tr>\n",
       "    <tr>\n",
       "      <th>25%</th>\n",
       "      <td>0.004133</td>\n",
       "      <td>0.005200</td>\n",
       "      <td>0.022749</td>\n",
       "      <td>0.003604</td>\n",
       "    </tr>\n",
       "    <tr>\n",
       "      <th>50%</th>\n",
       "      <td>0.016997</td>\n",
       "      <td>0.020229</td>\n",
       "      <td>0.072473</td>\n",
       "      <td>0.014305</td>\n",
       "    </tr>\n",
       "    <tr>\n",
       "      <th>75%</th>\n",
       "      <td>0.060415</td>\n",
       "      <td>0.067633</td>\n",
       "      <td>0.165373</td>\n",
       "      <td>0.051384</td>\n",
       "    </tr>\n",
       "    <tr>\n",
       "      <th>max</th>\n",
       "      <td>0.910508</td>\n",
       "      <td>0.853312</td>\n",
       "      <td>0.986161</td>\n",
       "      <td>0.940874</td>\n",
       "    </tr>\n",
       "  </tbody>\n",
       "</table>\n",
       "</div>"
      ],
      "text/plain": [
       "tissue                   Caudate        DLPFC  Dentate Gyrus  Hippocampus\n",
       "n_features    count  2789.000000  2624.000000     772.000000  2745.000000\n",
       "              mean      7.690929     8.452363      10.274611     7.286703\n",
       "              std      15.340090    18.184341      15.633189    15.029555\n",
       "              min       1.000000     1.000000       1.000000     1.000000\n",
       "              25%       2.000000     2.000000       3.000000     2.000000\n",
       "              50%       3.000000     3.000000       5.000000     3.000000\n",
       "              75%       6.000000     7.000000      11.000000     6.000000\n",
       "              max     292.000000   566.000000     170.000000   311.000000\n",
       "test_score_r2 count  2789.000000  2624.000000     772.000000  2745.000000\n",
       "              mean      0.054626     0.058206       0.122879     0.045879\n",
       "              std       0.096283     0.096488       0.148699     0.081363\n",
       "              min       0.000000     0.000000       0.000000     0.000000\n",
       "              25%       0.004133     0.005200       0.022749     0.003604\n",
       "              50%       0.016997     0.020229       0.072473     0.014305\n",
       "              75%       0.060415     0.067633       0.165373     0.051384\n",
       "              max       0.910508     0.853312       0.986161     0.940874"
      ]
     },
     "execution_count": 17,
     "metadata": {},
     "output_type": "execute_result"
    }
   ],
   "source": [
    "partial.groupby(\"tissue\").describe().T"
   ]
  },
  {
   "cell_type": "code",
   "execution_count": 18,
   "metadata": {},
   "outputs": [
    {
     "data": {
      "text/html": [
       "<div>\n",
       "<style scoped>\n",
       "    .dataframe tbody tr th:only-of-type {\n",
       "        vertical-align: middle;\n",
       "    }\n",
       "\n",
       "    .dataframe tbody tr th {\n",
       "        vertical-align: top;\n",
       "    }\n",
       "\n",
       "    .dataframe thead th {\n",
       "        text-align: right;\n",
       "    }\n",
       "</style>\n",
       "<table border=\"1\" class=\"dataframe\">\n",
       "  <thead>\n",
       "    <tr style=\"text-align: right;\">\n",
       "      <th></th>\n",
       "      <th>tissue</th>\n",
       "      <th>feature</th>\n",
       "      <th>n_features</th>\n",
       "      <th>test_score_r2</th>\n",
       "      <th>Model</th>\n",
       "    </tr>\n",
       "  </thead>\n",
       "  <tbody>\n",
       "    <tr>\n",
       "      <th>893</th>\n",
       "      <td>Caudate</td>\n",
       "      <td>ENSG00000144115.16</td>\n",
       "      <td>41</td>\n",
       "      <td>0.910508</td>\n",
       "      <td>Partial R2</td>\n",
       "    </tr>\n",
       "    <tr>\n",
       "      <th>1484</th>\n",
       "      <td>Caudate</td>\n",
       "      <td>ENSG00000179344.16</td>\n",
       "      <td>16</td>\n",
       "      <td>0.805721</td>\n",
       "      <td>Partial R2</td>\n",
       "    </tr>\n",
       "    <tr>\n",
       "      <th>4764</th>\n",
       "      <td>DLPFC</td>\n",
       "      <td>ENSG00000234585.6</td>\n",
       "      <td>100</td>\n",
       "      <td>0.853312</td>\n",
       "      <td>Partial R2</td>\n",
       "    </tr>\n",
       "    <tr>\n",
       "      <th>5058</th>\n",
       "      <td>DLPFC</td>\n",
       "      <td>ENSG00000259520.5</td>\n",
       "      <td>64</td>\n",
       "      <td>0.825024</td>\n",
       "      <td>Partial R2</td>\n",
       "    </tr>\n",
       "    <tr>\n",
       "      <th>6633</th>\n",
       "      <td>Hippocampus</td>\n",
       "      <td>ENSG00000164308.16</td>\n",
       "      <td>267</td>\n",
       "      <td>0.940874</td>\n",
       "      <td>Partial R2</td>\n",
       "    </tr>\n",
       "    <tr>\n",
       "      <th>8416</th>\n",
       "      <td>Dentate Gyrus</td>\n",
       "      <td>ENSG00000149679.11</td>\n",
       "      <td>110</td>\n",
       "      <td>0.986161</td>\n",
       "      <td>Partial R2</td>\n",
       "    </tr>\n",
       "    <tr>\n",
       "      <th>8490</th>\n",
       "      <td>Dentate Gyrus</td>\n",
       "      <td>ENSG00000166441.12</td>\n",
       "      <td>104</td>\n",
       "      <td>0.818569</td>\n",
       "      <td>Partial R2</td>\n",
       "    </tr>\n",
       "    <tr>\n",
       "      <th>8633</th>\n",
       "      <td>Dentate Gyrus</td>\n",
       "      <td>ENSG00000203279.3</td>\n",
       "      <td>66</td>\n",
       "      <td>0.865353</td>\n",
       "      <td>Partial R2</td>\n",
       "    </tr>\n",
       "    <tr>\n",
       "      <th>8659</th>\n",
       "      <td>Dentate Gyrus</td>\n",
       "      <td>ENSG00000213694.3</td>\n",
       "      <td>115</td>\n",
       "      <td>0.877320</td>\n",
       "      <td>Partial R2</td>\n",
       "    </tr>\n",
       "    <tr>\n",
       "      <th>8714</th>\n",
       "      <td>Dentate Gyrus</td>\n",
       "      <td>ENSG00000231515.1</td>\n",
       "      <td>84</td>\n",
       "      <td>0.916175</td>\n",
       "      <td>Partial R2</td>\n",
       "    </tr>\n",
       "    <tr>\n",
       "      <th>8738</th>\n",
       "      <td>Dentate Gyrus</td>\n",
       "      <td>ENSG00000236611.1</td>\n",
       "      <td>134</td>\n",
       "      <td>0.917312</td>\n",
       "      <td>Partial R2</td>\n",
       "    </tr>\n",
       "    <tr>\n",
       "      <th>8884</th>\n",
       "      <td>Dentate Gyrus</td>\n",
       "      <td>ENSG00000273295.1</td>\n",
       "      <td>25</td>\n",
       "      <td>0.830508</td>\n",
       "      <td>Partial R2</td>\n",
       "    </tr>\n",
       "  </tbody>\n",
       "</table>\n",
       "</div>"
      ],
      "text/plain": [
       "             tissue             feature  n_features  test_score_r2       Model\n",
       "893         Caudate  ENSG00000144115.16          41       0.910508  Partial R2\n",
       "1484        Caudate  ENSG00000179344.16          16       0.805721  Partial R2\n",
       "4764          DLPFC   ENSG00000234585.6         100       0.853312  Partial R2\n",
       "5058          DLPFC   ENSG00000259520.5          64       0.825024  Partial R2\n",
       "6633    Hippocampus  ENSG00000164308.16         267       0.940874  Partial R2\n",
       "8416  Dentate Gyrus  ENSG00000149679.11         110       0.986161  Partial R2\n",
       "8490  Dentate Gyrus  ENSG00000166441.12         104       0.818569  Partial R2\n",
       "8633  Dentate Gyrus   ENSG00000203279.3          66       0.865353  Partial R2\n",
       "8659  Dentate Gyrus   ENSG00000213694.3         115       0.877320  Partial R2\n",
       "8714  Dentate Gyrus   ENSG00000231515.1          84       0.916175  Partial R2\n",
       "8738  Dentate Gyrus   ENSG00000236611.1         134       0.917312  Partial R2\n",
       "8884  Dentate Gyrus   ENSG00000273295.1          25       0.830508  Partial R2"
      ]
     },
     "execution_count": 18,
     "metadata": {},
     "output_type": "execute_result"
    }
   ],
   "source": [
    "partial[(partial[\"test_score_r2\"] > 0.8)]"
   ]
  },
  {
   "cell_type": "markdown",
   "metadata": {},
   "source": [
    "- *GLP2R* (ENSG00000065325) Glucagon Like Peptide 2 Receptor"
   ]
  },
  {
   "cell_type": "code",
   "execution_count": 2,
   "metadata": {},
   "outputs": [
    {
     "data": {
      "text/html": [
       "<div>\n",
       "<style scoped>\n",
       "    .dataframe tbody tr th:only-of-type {\n",
       "        vertical-align: middle;\n",
       "    }\n",
       "\n",
       "    .dataframe tbody tr th {\n",
       "        vertical-align: top;\n",
       "    }\n",
       "\n",
       "    .dataframe thead th {\n",
       "        text-align: right;\n",
       "    }\n",
       "</style>\n",
       "<table border=\"1\" class=\"dataframe\">\n",
       "  <thead>\n",
       "    <tr style=\"text-align: right;\">\n",
       "      <th></th>\n",
       "      <th>SNP</th>\n",
       "      <th>Partial_R2</th>\n",
       "      <th>Full_R2</th>\n",
       "      <th>Reduced_R2</th>\n",
       "      <th>Tissue</th>\n",
       "      <th>Geneid</th>\n",
       "    </tr>\n",
       "  </thead>\n",
       "  <tbody>\n",
       "    <tr>\n",
       "      <th>0</th>\n",
       "      <td>chr4_46016437_C_G_0</td>\n",
       "      <td>0.000000</td>\n",
       "      <td>237.957568</td>\n",
       "      <td>237.957568</td>\n",
       "      <td>Caudate</td>\n",
       "      <td>ENSG00000163285.7</td>\n",
       "    </tr>\n",
       "    <tr>\n",
       "      <th>1</th>\n",
       "      <td>chr4_46016437_C_G_1</td>\n",
       "      <td>0.035396</td>\n",
       "      <td>229.534884</td>\n",
       "      <td>237.957568</td>\n",
       "      <td>Caudate</td>\n",
       "      <td>ENSG00000163285.7</td>\n",
       "    </tr>\n",
       "  </tbody>\n",
       "</table>\n",
       "</div>"
      ],
      "text/plain": [
       "                   SNP  Partial_R2     Full_R2  Reduced_R2   Tissue  \\\n",
       "0  chr4_46016437_C_G_0    0.000000  237.957568  237.957568  Caudate   \n",
       "1  chr4_46016437_C_G_1    0.035396  229.534884  237.957568  Caudate   \n",
       "\n",
       "              Geneid  \n",
       "0  ENSG00000163285.7  \n",
       "1  ENSG00000163285.7  "
      ]
     },
     "execution_count": 2,
     "metadata": {},
     "output_type": "execute_result"
    }
   ],
   "source": [
    "idv_partial = pd.read_csv(\"../../partial_r2/individual_partial_r2_metrics.tsv\", sep='\\t')\n",
    "idv_partial.head(2)"
   ]
  },
  {
   "cell_type": "code",
   "execution_count": 3,
   "metadata": {},
   "outputs": [
    {
     "data": {
      "text/html": [
       "<div>\n",
       "<style scoped>\n",
       "    .dataframe tbody tr th:only-of-type {\n",
       "        vertical-align: middle;\n",
       "    }\n",
       "\n",
       "    .dataframe tbody tr th {\n",
       "        vertical-align: top;\n",
       "    }\n",
       "\n",
       "    .dataframe thead th {\n",
       "        text-align: right;\n",
       "    }\n",
       "</style>\n",
       "<table border=\"1\" class=\"dataframe\">\n",
       "  <thead>\n",
       "    <tr style=\"text-align: right;\">\n",
       "      <th></th>\n",
       "      <th>Tissue</th>\n",
       "      <th>Caudate</th>\n",
       "      <th>DLPFC</th>\n",
       "      <th>Dentate Gyrus</th>\n",
       "      <th>Hippocampus</th>\n",
       "    </tr>\n",
       "  </thead>\n",
       "  <tbody>\n",
       "    <tr>\n",
       "      <th rowspan=\"8\" valign=\"top\">Partial_R2</th>\n",
       "      <th>count</th>\n",
       "      <td>1.655003e+06</td>\n",
       "      <td>1.564008e+06</td>\n",
       "      <td>442840.000000</td>\n",
       "      <td>1.680743e+06</td>\n",
       "    </tr>\n",
       "    <tr>\n",
       "      <th>mean</th>\n",
       "      <td>6.729416e-03</td>\n",
       "      <td>6.555777e-03</td>\n",
       "      <td>0.012156</td>\n",
       "      <td>5.680127e-03</td>\n",
       "    </tr>\n",
       "    <tr>\n",
       "      <th>std</th>\n",
       "      <td>2.134155e-02</td>\n",
       "      <td>1.839053e-02</td>\n",
       "      <td>0.027188</td>\n",
       "      <td>1.663068e-02</td>\n",
       "    </tr>\n",
       "    <tr>\n",
       "      <th>min</th>\n",
       "      <td>0.000000e+00</td>\n",
       "      <td>0.000000e+00</td>\n",
       "      <td>0.000000</td>\n",
       "      <td>0.000000e+00</td>\n",
       "    </tr>\n",
       "    <tr>\n",
       "      <th>25%</th>\n",
       "      <td>0.000000e+00</td>\n",
       "      <td>0.000000e+00</td>\n",
       "      <td>0.000000</td>\n",
       "      <td>0.000000e+00</td>\n",
       "    </tr>\n",
       "    <tr>\n",
       "      <th>50%</th>\n",
       "      <td>8.106873e-04</td>\n",
       "      <td>8.096635e-04</td>\n",
       "      <td>0.001384</td>\n",
       "      <td>7.594009e-04</td>\n",
       "    </tr>\n",
       "    <tr>\n",
       "      <th>75%</th>\n",
       "      <td>5.699962e-03</td>\n",
       "      <td>5.958581e-03</td>\n",
       "      <td>0.012475</td>\n",
       "      <td>5.274174e-03</td>\n",
       "    </tr>\n",
       "    <tr>\n",
       "      <th>max</th>\n",
       "      <td>7.354638e-01</td>\n",
       "      <td>6.980796e-01</td>\n",
       "      <td>0.829183</td>\n",
       "      <td>7.105518e-01</td>\n",
       "    </tr>\n",
       "  </tbody>\n",
       "</table>\n",
       "</div>"
      ],
      "text/plain": [
       "Tissue                 Caudate         DLPFC  Dentate Gyrus   Hippocampus\n",
       "Partial_R2 count  1.655003e+06  1.564008e+06  442840.000000  1.680743e+06\n",
       "           mean   6.729416e-03  6.555777e-03       0.012156  5.680127e-03\n",
       "           std    2.134155e-02  1.839053e-02       0.027188  1.663068e-02\n",
       "           min    0.000000e+00  0.000000e+00       0.000000  0.000000e+00\n",
       "           25%    0.000000e+00  0.000000e+00       0.000000  0.000000e+00\n",
       "           50%    8.106873e-04  8.096635e-04       0.001384  7.594009e-04\n",
       "           75%    5.699962e-03  5.958581e-03       0.012475  5.274174e-03\n",
       "           max    7.354638e-01  6.980796e-01       0.829183  7.105518e-01"
      ]
     },
     "execution_count": 3,
     "metadata": {},
     "output_type": "execute_result"
    }
   ],
   "source": [
    "idv_partial[[\"Partial_R2\", \"Tissue\", \"Geneid\"]].groupby(\"Tissue\").describe().T"
   ]
  },
  {
   "cell_type": "code",
   "execution_count": 13,
   "metadata": {},
   "outputs": [
    {
     "data": {
      "text/plain": [
       "Tissue\n",
       "Caudate          9\n",
       "Dentate Gyrus    5\n",
       "Hippocampus      4\n",
       "dtype: int64"
      ]
     },
     "execution_count": 13,
     "metadata": {},
     "output_type": "execute_result"
    }
   ],
   "source": [
    "idv_partial.loc[(idv_partial[\"Partial_R2\"] >= 0.7), [\"Tissue\", \"Partial_R2\", \"Geneid\"]].groupby(\"Tissue\").size()"
   ]
  },
  {
   "cell_type": "code",
   "execution_count": 14,
   "metadata": {},
   "outputs": [
    {
     "data": {
      "text/plain": [
       "Geneid\n",
       "ENSG00000144115.16    8\n",
       "ENSG00000164308.16    4\n",
       "ENSG00000247828.7     1\n",
       "ENSG00000273295.1     5\n",
       "dtype: int64"
      ]
     },
     "execution_count": 14,
     "metadata": {},
     "output_type": "execute_result"
    }
   ],
   "source": [
    "idv_partial.loc[(idv_partial[\"Partial_R2\"] >= 0.7), [\"Tissue\", \"Partial_R2\", \"Geneid\"]].groupby(\"Geneid\").size()"
   ]
  },
  {
   "cell_type": "code",
   "execution_count": 15,
   "metadata": {},
   "outputs": [
    {
     "data": {
      "text/plain": [
       "Geneid              Tissue       \n",
       "ENSG00000144115.16  Caudate          8\n",
       "ENSG00000164308.16  Hippocampus      4\n",
       "ENSG00000247828.7   Caudate          1\n",
       "ENSG00000273295.1   Dentate Gyrus    5\n",
       "dtype: int64"
      ]
     },
     "execution_count": 15,
     "metadata": {},
     "output_type": "execute_result"
    }
   ],
   "source": [
    "idv_partial.loc[(idv_partial[\"Partial_R2\"] >= 0.7), [\"Tissue\", \"Partial_R2\", \"Geneid\"]].groupby([\"Geneid\", \"Tissue\"]).size()"
   ]
  },
  {
   "cell_type": "code",
   "execution_count": null,
   "metadata": {},
   "outputs": [],
   "source": []
  }
 ],
 "metadata": {
  "kernelspec": {
   "display_name": "Python 3",
   "language": "python",
   "name": "python3"
  },
  "language_info": {
   "codemirror_mode": {
    "name": "ipython",
    "version": 3
   },
   "file_extension": ".py",
   "mimetype": "text/x-python",
   "name": "python",
   "nbconvert_exporter": "python",
   "pygments_lexer": "ipython3",
   "version": "3.9.1"
  }
 },
 "nbformat": 4,
 "nbformat_minor": 4
}
