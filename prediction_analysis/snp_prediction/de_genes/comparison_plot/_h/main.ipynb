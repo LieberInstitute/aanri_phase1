{
 "cells": [
  {
   "cell_type": "markdown",
   "metadata": {},
   "source": [
    "# Plot and comparisons"
   ]
  },
  {
   "cell_type": "code",
   "execution_count": null,
   "metadata": {},
   "outputs": [],
   "source": [
    "library(tidyverse)\n",
    "library(ggpubr)"
   ]
  },
  {
   "cell_type": "markdown",
   "metadata": {},
   "source": [
    "## Functions"
   ]
  },
  {
   "cell_type": "code",
   "execution_count": null,
   "metadata": {},
   "outputs": [],
   "source": [
    "save_plot <- function(p, fn, w=7, h=6){\n",
    "    for(ext in c(\".pdf\", \".png\", \".svg\")){\n",
    "        ggsave(filename=paste0(fn,ext), plot=p, width=w, height=h)\n",
    "    }\n",
    "}\n",
    "\n",
    "\n",
    "get_ml_summary <- function(fn){\n",
    "    ml_df = data.table::fread(fn) %>% mutate_at(\"fold\", as.character) %>%\n",
    "        select(fold, n_features, n_redundant, starts_with(\"test_score_r2\")) %>%\n",
    "        pivot_longer(-fold) %>% group_by(name) %>%\n",
    "        summarise(Mean=mean(value), Median=median(value), Std=sd(value), .groups = \"keep\")\n",
    "    return(ml_df)\n",
    "}\n",
    "\n",
    "\n",
    "get_metrics <- function(filename, tissue){\n",
    "    datalist = list()\n",
    "    for(fn in Sys.glob(filename)){\n",
    "        gene_id = str_extract(fn, \"ENSG\\\\d+_\\\\d+\")\n",
    "        dat <- get_ml_summary(fn)\n",
    "        dat[\"Geneid\"] = gene_id\n",
    "        datalist[[gene_id]] <- dat\n",
    "    }\n",
    "    ml_df <- bind_rows(datalist)\n",
    "    ml_df[\"Tissue\"] = tissue\n",
    "    return(ml_df)\n",
    "}"
   ]
  },
  {
   "cell_type": "markdown",
   "metadata": {},
   "source": [
    "## Load metrics"
   ]
  },
  {
   "cell_type": "markdown",
   "metadata": {},
   "source": [
    "### Random forest"
   ]
  },
  {
   "cell_type": "code",
   "execution_count": null,
   "metadata": {},
   "outputs": [],
   "source": [
    "rf = data.table::fread(\"../../rf/summary_10Folds_allTissues.tsv\") %>%\n",
    "    as.data.frame %>% mutate_if(is.character, as.factor) %>%\n",
    "    mutate_at(\"fold\", as.character) %>%\n",
    "    select(tissue, feature, fold, n_features, starts_with(\"test_score_r2\")) %>%\n",
    "    pivot_longer(-c(tissue, feature, fold), names_to=\"metric\", values_to=\"score\") %>%\n",
    "    group_by(tissue, feature, metric) %>%\n",
    "    summarise(Mean=mean(score), Median=median(score), Std=sd(score), .groups = \"keep\") %>%\n",
    "    filter(metric == \"test_score_r2\") %>% mutate(\"model\"=\"Random Forest\")\n",
    "dim(rf)\n",
    "rf %>% head(2)"
   ]
  },
  {
   "cell_type": "markdown",
   "metadata": {},
   "source": [
    "### Elastic net"
   ]
  },
  {
   "cell_type": "code",
   "execution_count": null,
   "metadata": {},
   "outputs": [],
   "source": [
    "enet = data.table::fread(\"../../enet/summary_10Folds_allTissues.tsv\") %>%\n",
    "    as.data.frame %>% mutate_if(is.character, as.factor) %>%\n",
    "    mutate_at(\"fold\", as.character) %>%\n",
    "    select(tissue, feature, fold, n_features, starts_with(\"test_score_r2\")) %>%\n",
    "    pivot_longer(-c(tissue, feature, fold), names_to=\"metric\", values_to=\"score\") %>%\n",
    "    group_by(tissue, feature, metric) %>%\n",
    "    summarise(Mean=mean(score), Median=median(score), Std=sd(score), .groups = \"keep\") %>%\n",
    "    filter(metric == \"test_score_r2\") %>% mutate(\"model\"=\"Elastic Net\")\n",
    "dim(enet)\n",
    "enet %>% head(2)"
   ]
  },
  {
   "cell_type": "markdown",
   "metadata": {},
   "source": [
    "## Annotate"
   ]
  },
  {
   "cell_type": "code",
   "execution_count": null,
   "metadata": {},
   "outputs": [],
   "source": [
    "dtu = data.table::fread(paste0(\"../../../../../differential_analysis/tissue_comparison/\",\n",
    "                               \"ds_summary/_m/diffSplicing_ancestry_FDR05_4regions.tsv\")) %>%\n",
    "    select(gene, Tissue) %>% distinct %>% rename(\"gene_name\"=\"gene\")\n",
    "\n",
    "degs = data.table::fread(\"../../../../_m/degs_annotation.txt\") %>%\n",
    "    select(V1, ensemblID, gene_name, Tissue) %>% distinct %>%\n",
    "    rename(\"Feature\"=\"V1\") %>% inner_join(dtu, by=c(\"Tissue\", \"gene_name\")) %>%\n",
    "    rename(\"tissue\"=\"Tissue\") %>% mutate(\"DTU\"=\"DTU\")"
   ]
  },
  {
   "cell_type": "code",
   "execution_count": null,
   "metadata": {},
   "outputs": [],
   "source": [
    "df = bind_rows(rf, enet) %>% mutate(Feature=gsub(\"_\", \".\", feature)) %>%\n",
    "    left_join(degs, by=c(\"tissue\", \"Feature\")) %>% as.data.frame %>%\n",
    "    mutate(DTU = replace_na(DTU, \"DEG\")) %>%\n",
    "    mutate_if(is.character, as.factor)\n",
    "dim(df)\n",
    "df %>% head(2)"
   ]
  },
  {
   "cell_type": "markdown",
   "metadata": {},
   "source": [
    "## Merge and plot"
   ]
  },
  {
   "cell_type": "code",
   "execution_count": null,
   "metadata": {},
   "outputs": [],
   "source": [
    "df %>% #filter(DTU == \"DTU\") %>%\n",
    "    ggboxplot(x=\"model\", y=\"Median\", color=\"DTU\", add=\"jitter\", \n",
    "              facet.by=\"tissue\", palette=\"npg\", ylim=c(-0.75, 1), \n",
    "              ylab=\"Median R2\", xlab=\"\",\n",
    "              panel.labs.font=list(face='bold'), ncol=4,\n",
    "              ggtheme=theme_pubr(base_size=15, border=TRUE)) + \n",
    "    rotate_x_text(45) + font(\"xy.title\", face=\"bold\")"
   ]
  },
  {
   "cell_type": "code",
   "execution_count": null,
   "metadata": {},
   "outputs": [],
   "source": [
    "bxp = df %>% ggboxplot(x=\"tissue\", y=\"Median\", color=\"DTU\", add=\"jitter\", \n",
    "                       facet.by=\"model\", palette=\"npg\", ylim=c(-0.75, 1), \n",
    "                       ylab=\"Median R2\", xlab=\"\", legend=\"None\", \n",
    "                       panel.labs.font=list(face='bold', size = 14)) + \n",
    "    rotate_x_text(45) + font(\"xy.title\", size=18, face=\"bold\") + \n",
    "    font(\"xy.text\", size=16) + font(\"legend.text\", size=16)\n",
    "save_plot(bxp, \"summary_boxplots_r2_2methods\", 9, 6)\n",
    "bxp"
   ]
  },
  {
   "cell_type": "code",
   "execution_count": null,
   "metadata": {},
   "outputs": [],
   "source": [
    "df2 = bind_rows(rf, enet)\n",
    "df2 %>% head(2)"
   ]
  },
  {
   "cell_type": "code",
   "execution_count": null,
   "metadata": {},
   "outputs": [],
   "source": [
    "bxp = df2 %>% ggboxplot(x=\"tissue\", y=\"Median\", fill=\"tissue\", add=\"jitter\", \n",
    "                       facet.by=\"model\", palette=\"npg\", ylim=c(-0.75, 1), \n",
    "                       ylab=\"Median R2\", xlab=\"\", legend=\"None\", \n",
    "                       panel.labs.font=list(face='bold', size = 14)) + \n",
    "    rotate_x_text(45) + font(\"xy.title\", size=18, face=\"bold\") + \n",
    "    font(\"xy.text\", size=16) + font(\"legend.text\", size=16)\n",
    "save_plot(bxp, \"summary_boxplots_r2_2methods\", 6, 5)\n",
    "bxp"
   ]
  },
  {
   "cell_type": "markdown",
   "metadata": {},
   "source": [
    "## Reproducibility Information"
   ]
  },
  {
   "cell_type": "code",
   "execution_count": null,
   "metadata": {},
   "outputs": [],
   "source": [
    "Sys.time()\n",
    "proc.time()\n",
    "options(width = 120)\n",
    "sessioninfo::session_info()"
   ]
  }
 ],
 "metadata": {
  "kernelspec": {
   "display_name": "R",
   "language": "R",
   "name": "ir"
  },
  "language_info": {
   "codemirror_mode": "r",
   "file_extension": ".r",
   "mimetype": "text/x-r-source",
   "name": "R",
   "pygments_lexer": "r",
   "version": "4.0.3"
  }
 },
 "nbformat": 4,
 "nbformat_minor": 4
}
