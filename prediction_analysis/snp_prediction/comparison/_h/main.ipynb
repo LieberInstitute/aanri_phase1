{
 "cells": [
  {
   "cell_type": "markdown",
   "metadata": {},
   "source": [
    "# Plot and comparisons"
   ]
  },
  {
   "cell_type": "code",
   "execution_count": null,
   "metadata": {},
   "outputs": [],
   "source": [
    "library(tidyverse)\n",
    "library(ggpubr)"
   ]
  },
  {
   "cell_type": "markdown",
   "metadata": {},
   "source": [
    "## Functions"
   ]
  },
  {
   "cell_type": "code",
   "execution_count": null,
   "metadata": {},
   "outputs": [],
   "source": [
    "save_plot <- function(p, fn, w=7, h=6){\n",
    "    for(ext in c(\".pdf\", \".png\", \".svg\")){\n",
    "        ggsave(filename=paste0(fn,ext), plot=p, width=w, height=h)\n",
    "    }\n",
    "}\n",
    "\n",
    "\n",
    "get_metrics <- function(fn, model, label){\n",
    "    dt = data.table::fread(fn) %>% as.data.frame %>% mutate_if(is.character, as.factor) %>%\n",
    "        mutate_at(\"fold\", as.character) %>% \n",
    "        select(tissue, feature, fold, n_features, starts_with(\"test_score_r2\")) %>%\n",
    "        pivot_longer(-c(tissue, feature, fold), names_to=\"metric\", values_to=\"score\") %>%\n",
    "        group_by(tissue, feature, metric) %>%\n",
    "        summarise(Mean=mean(score), Median=median(score), Std=sd(score), .groups = \"keep\") %>%\n",
    "        filter(metric == \"test_score_r2\") %>% mutate(\"model\"=model) %>% mutate(Type = label)\n",
    "    return(dt)\n",
    "}"
   ]
  },
  {
   "cell_type": "markdown",
   "metadata": {},
   "source": [
    "## Genetic variation prediction for expression of ancestry DE genes and random genes"
   ]
  },
  {
   "cell_type": "markdown",
   "metadata": {},
   "source": [
    "### Load data"
   ]
  },
  {
   "cell_type": "code",
   "execution_count": null,
   "metadata": {},
   "outputs": [],
   "source": [
    "top100 = data.table::fread(\"../../../_m/degs_annotation.txt\") %>% \n",
    "    group_by(Tissue) %>% mutate(rank = row_number(adj.P.Val)) %>% \n",
    "    filter(rank <= 100) %>% select(V1, ensemblID, gene_name, Tissue) %>% \n",
    "    distinct %>% rename(\"Feature\"=\"V1\") %>% rename(\"tissue\"=\"Tissue\")"
   ]
  },
  {
   "cell_type": "markdown",
   "metadata": {},
   "source": [
    "#### Annotate and merge data"
   ]
  },
  {
   "cell_type": "code",
   "execution_count": null,
   "metadata": {},
   "outputs": [],
   "source": [
    "dtu = data.table::fread(paste0(\"../../../../differential_analysis/tissue_comparison/\",\n",
    "                               \"ds_summary/_m/diffSplicing_ancestry_FDR05_4regions.tsv\")) %>%\n",
    "    select(gene, Tissue) %>% distinct %>% rename(\"gene_name\"=\"gene\")\n",
    "\n",
    "degs = data.table::fread(\"../../../_m/degs_annotation.txt\") %>%\n",
    "    select(V1, ensemblID, gene_name, Tissue) %>% distinct %>%\n",
    "    rename(\"Feature\"=\"V1\") %>% inner_join(dtu, by=c(\"Tissue\", \"gene_name\")) %>%\n",
    "    rename(\"tissue\"=\"Tissue\") %>% mutate(\"DTU\"=\"DTU\")\n",
    "\n",
    "random = data.table::fread(\"../../../_m/randomGenes_annotation.txt\") %>%\n",
    "    select(V1, ensemblID, gene_name, Tissue) %>% distinct %>%\n",
    "    rename(\"Feature\"=\"V1\") %>% inner_join(dtu, by=c(\"Tissue\", \"gene_name\")) %>%\n",
    "    rename(\"tissue\"=\"Tissue\") %>% mutate(\"DTU\"=\"DTU\")"
   ]
  },
  {
   "cell_type": "markdown",
   "metadata": {},
   "source": [
    "#### DE genes"
   ]
  },
  {
   "cell_type": "code",
   "execution_count": null,
   "metadata": {},
   "outputs": [],
   "source": [
    "rf = get_metrics(\"../../de_genes/rf/summary_10Folds_allTissues.tsv\", \"Random Forest\", \"DE\")\n",
    "enet = get_metrics(\"../../de_genes/enet/summary_10Folds_allTissues.tsv\", \"Elastic Net\", \"DE\")\n",
    "de = bind_rows(rf, enet) %>% mutate(Feature=gsub(\"_\", \".\", feature)) %>%\n",
    "    left_join(degs, by=c(\"tissue\", \"Feature\")) %>% as.data.frame %>%\n",
    "    mutate(New_Type = paste(Type, replace_na(DTU, \"\"))) %>%\n",
    "    mutate_if(is.character, as.factor)\n",
    "de %>% head\n",
    "de$Type %>% unique"
   ]
  },
  {
   "cell_type": "markdown",
   "metadata": {},
   "source": [
    "#### Top 100 DE genes"
   ]
  },
  {
   "cell_type": "code",
   "execution_count": null,
   "metadata": {},
   "outputs": [],
   "source": [
    "de100 = bind_rows(rf, enet) %>% mutate(Feature=gsub(\"_\", \".\", feature)) %>% \n",
    "    inner_join(top100, by=c(\"tissue\", \"Feature\"))\n",
    "de100 %>% dim"
   ]
  },
  {
   "cell_type": "markdown",
   "metadata": {},
   "source": [
    "#### Random genes"
   ]
  },
  {
   "cell_type": "code",
   "execution_count": null,
   "metadata": {},
   "outputs": [],
   "source": [
    "rf = get_metrics(\"../../random_genes/rf/summary_10Folds_allTissues.tsv\", \n",
    "                     \"Random Forest\", \"Random\")\n",
    "enet = get_metrics(\"../../random_genes/enet/summary_10Folds_allTissues.tsv\", \n",
    "                       \"Elastic Net\", \"Random\")\n",
    "rand = bind_rows(rf, enet)%>% mutate(Feature=gsub(\"_\", \".\", feature)) %>%\n",
    "    left_join(random, by=c(\"tissue\", \"Feature\")) %>% as.data.frame %>%\n",
    "    mutate(New_Type = paste(Type, replace_na(DTU, \"\"))) %>%\n",
    "    mutate_if(is.character, as.factor)\n",
    "rand %>% head\n",
    "rand$Type %>% unique"
   ]
  },
  {
   "cell_type": "markdown",
   "metadata": {},
   "source": [
    "#### Merge data"
   ]
  },
  {
   "cell_type": "code",
   "execution_count": null,
   "metadata": {},
   "outputs": [],
   "source": [
    "df = bind_rows(de, rand)\n",
    "dim(df)\n",
    "df %>% head(2)\n",
    "df$Type %>% unique"
   ]
  },
  {
   "cell_type": "markdown",
   "metadata": {},
   "source": [
    "### Summarize"
   ]
  },
  {
   "cell_type": "code",
   "execution_count": null,
   "metadata": {},
   "outputs": [],
   "source": [
    "df %>% group_by(tissue, Type, model) %>% \n",
    "    summarise(Mean=mean(Median), Median=median(Median), .groups = \"keep\") "
   ]
  },
  {
   "cell_type": "code",
   "execution_count": null,
   "metadata": {},
   "outputs": [],
   "source": [
    "df %>% group_by(tissue, Type, model) %>% \n",
    "    summarise(Mean=mean(Median), Median=median(Median), .groups = \"keep\") %>%\n",
    "    filter(model == \"Elastic Net\")"
   ]
  },
  {
   "cell_type": "code",
   "execution_count": null,
   "metadata": {},
   "outputs": [],
   "source": [
    "df %>% group_by(tissue, Type, model) %>% \n",
    "    summarise(Mean=mean(Median), Median=median(Median), .groups = \"keep\") %>%\n",
    "    filter(model == \"Random Forest\")"
   ]
  },
  {
   "cell_type": "code",
   "execution_count": null,
   "metadata": {},
   "outputs": [],
   "source": [
    "df %>% filter(DTU == \"DTU\") %>% group_by(tissue, New_Type, model) %>% \n",
    "    summarise(Mean=mean(Median), Median=median(Median), .groups = \"keep\")"
   ]
  },
  {
   "cell_type": "code",
   "execution_count": null,
   "metadata": {},
   "outputs": [],
   "source": [
    "df %>% filter(DTU == \"DTU\") %>% group_by(tissue, New_Type, model) %>% \n",
    "    summarise(Mean=mean(Median), Median=median(Median), .groups = \"keep\") %>%\n",
    "    filter(model == \"Elastic Net\")"
   ]
  },
  {
   "cell_type": "code",
   "execution_count": null,
   "metadata": {},
   "outputs": [],
   "source": [
    "de100 %>% group_by(tissue, model) %>% \n",
    "    summarise(Mean=mean(Median), .groups = \"keep\") %>% as.data.frame %>%\n",
    "    pivot_wider(names_from=\"model\", values_from=\"Mean\")"
   ]
  },
  {
   "cell_type": "code",
   "execution_count": null,
   "metadata": {},
   "outputs": [],
   "source": [
    "de100 %>% group_by(tissue, model) %>% \n",
    "    summarise(Median=median(Median), .groups = \"keep\") %>% as.data.frame %>%\n",
    "    pivot_wider(names_from=\"model\", values_from=\"Median\")"
   ]
  },
  {
   "cell_type": "markdown",
   "metadata": {},
   "source": [
    "#### Test if DE genes are significant more predictive than random genes"
   ]
  },
  {
   "cell_type": "code",
   "execution_count": null,
   "metadata": {},
   "outputs": [],
   "source": [
    "for(tissue in c(\"Caudate\", \"Dentate Gyrus\", \"DLPFC\", \"Hippocampus\")){\n",
    "    xx = de %>% filter(tissue == tissue)\n",
    "    yy = rand %>% filter(tissue == tissue)\n",
    "    tt = t.test(xx$Median, yy$Median, alternative = \"greater\")$p.value\n",
    "    print(tt)\n",
    "}"
   ]
  },
  {
   "cell_type": "code",
   "execution_count": null,
   "metadata": {},
   "outputs": [],
   "source": [
    "df %>% group_by(tissue) %>% \n",
    "    do(fit = broom::tidy(lm(Median ~ Type, data=.))) %>%\n",
    "    unnest(fit) %>% filter(term != '(Intercept)') %>%\n",
    "    mutate(p.bonf = p.adjust(p.value, \"bonf\"))"
   ]
  },
  {
   "cell_type": "code",
   "execution_count": null,
   "metadata": {},
   "outputs": [],
   "source": [
    "df %>% filter(Type == \"DE\") %>% group_by(tissue) %>% \n",
    "    do(fit = broom::tidy(lm(Median ~ New_Type, data=.))) %>%\n",
    "    unnest(fit) %>% filter(term != '(Intercept)') %>%\n",
    "    mutate(p.bonf = p.adjust(p.value, \"bonf\"))"
   ]
  },
  {
   "cell_type": "code",
   "execution_count": null,
   "metadata": {},
   "outputs": [],
   "source": [
    "df %>% filter(Type == \"Random\") %>% group_by(tissue) %>% \n",
    "    do(fit = broom::tidy(lm(Median ~ New_Type, data=.))) %>%\n",
    "    unnest(fit) %>% filter(term != '(Intercept)') %>%\n",
    "    mutate(p.bonf = p.adjust(p.value, \"bonf\"))"
   ]
  },
  {
   "cell_type": "markdown",
   "metadata": {},
   "source": [
    "### Plot"
   ]
  },
  {
   "cell_type": "markdown",
   "metadata": {},
   "source": [
    "#### Boxplots"
   ]
  },
  {
   "cell_type": "code",
   "execution_count": null,
   "metadata": {},
   "outputs": [],
   "source": [
    "bxp = de100 %>% \n",
    "    ggboxplot(x=\"model\", y=\"Median\", color=\"model\", add=\"jitter\", \n",
    "              facet.by=\"tissue\", legend=\"none\", palette=\"npg\", \n",
    "              ylim=c(-0.5, 1), ylab=\"Test Score\\n(Median R2)\", \n",
    "              xlab=\"\", ncol=4, panel.labs.font=list(face='bold'), \n",
    "              ggtheme=theme_pubr(base_size=15, border=TRUE)) + \n",
    "    rotate_x_text(45) + font(\"xy.title\", face=\"bold\")\n",
    "save_plot(bxp, \"summary_boxplots_r2_top100\", 9, 4)\n",
    "bxp"
   ]
  },
  {
   "cell_type": "code",
   "execution_count": null,
   "metadata": {},
   "outputs": [],
   "source": [
    "bxp = df %>% filter(DTU == \"DTU\") %>%\n",
    "    ggboxplot(x=\"model\", y=\"Median\", color=\"New_Type\", add=\"jitter\", \n",
    "                 facet.by=\"tissue\", palette=\"npg\", ylim=c(-1, 1), \n",
    "                 ylab=\"Median R2\", xlab=\"\", ncol=4,\n",
    "                 panel.labs.font=list(face='bold'), \n",
    "                 ggtheme=theme_pubr(base_size=15, border=TRUE)) + \n",
    "    rotate_x_text(45) + font(\"xy.title\", face=\"bold\")\n",
    "save_plot(bxp, \"summary_boxplots_r2_byType_dtu\", 10, 5)\n",
    "bxp"
   ]
  },
  {
   "cell_type": "code",
   "execution_count": null,
   "metadata": {},
   "outputs": [],
   "source": [
    "bxp = df %>% filter(New_Type %in% c(\"DE \", \"Random \")) %>%\n",
    "    ggboxplot(x=\"model\", y=\"Median\", color=\"New_Type\", add=\"jitter\", \n",
    "                 facet.by=\"tissue\", palette=\"npg\", ylim=c(-1, 1), \n",
    "                 ylab=\"Median R2\", xlab=\"\", ncol=4,\n",
    "                 panel.labs.font=list(face='bold'), \n",
    "                 ggtheme=theme_pubr(base_size=15, border=TRUE)) + \n",
    "    rotate_x_text(45) + font(\"xy.title\", face=\"bold\")\n",
    "save_plot(bxp, \"summary_boxplots_r2_byType_de\", 10, 5)\n",
    "bxp"
   ]
  },
  {
   "cell_type": "code",
   "execution_count": null,
   "metadata": {},
   "outputs": [],
   "source": [
    "bxp = df %>% ggboxplot(x=\"New_Type\", y=\"Median\", color=\"model\", add=\"jitter\", \n",
    "                 facet.by=\"tissue\", palette=\"npg\", ylim=c(-1, 1), \n",
    "                 ylab=\"Median R2\", xlab=\"\", ncol=4,\n",
    "                 panel.labs.font=list(face='bold'), \n",
    "                 ggtheme=theme_pubr(base_size=15, border=TRUE)) + \n",
    "    rotate_x_text(45) + font(\"xy.title\", face=\"bold\")\n",
    "save_plot(bxp, \"summary_boxplots_r2_byModel\", 10, 5)\n",
    "bxp"
   ]
  },
  {
   "cell_type": "code",
   "execution_count": null,
   "metadata": {},
   "outputs": [],
   "source": [
    "bxp = df %>% ggboxplot(x=\"model\", y=\"Median\", color=\"New_Type\", add=\"jitter\", \n",
    "                 facet.by=\"tissue\", palette=\"npg\", ylim=c(-1, 1), \n",
    "                 ylab=\"Median R2\", xlab=\"\", ncol=4,\n",
    "                 panel.labs.font=list(face='bold'), \n",
    "                 ggtheme=theme_pubr(base_size=15, border=TRUE)) + \n",
    "    rotate_x_text(45) + font(\"xy.title\", face=\"bold\")\n",
    "save_plot(bxp, \"summary_boxplots_r2_byType\", 10, 5)\n",
    "bxp"
   ]
  },
  {
   "cell_type": "code",
   "execution_count": null,
   "metadata": {},
   "outputs": [],
   "source": [
    "bxp = df %>% filter(Type == \"DE\") %>%\n",
    "    ggboxplot(x=\"model\", y=\"Median\", color=\"New_Type\", add=\"jitter\", \n",
    "                 facet.by=\"tissue\", palette=\"npg\", ylim=c(-1, 1), \n",
    "                 ylab=\"Median R2\", xlab=\"\", ncol=4,\n",
    "                 panel.labs.font=list(face='bold'), \n",
    "                 ggtheme=theme_pubr(base_size=15, border=TRUE)) + \n",
    "    rotate_x_text(45) + font(\"xy.title\", face=\"bold\")\n",
    "save_plot(bxp, \"summary_boxplots_r2_deg\", 10, 5)\n",
    "bxp"
   ]
  },
  {
   "cell_type": "code",
   "execution_count": null,
   "metadata": {},
   "outputs": [],
   "source": [
    "bxp = df %>% filter(Type == \"Random\") %>%\n",
    "    ggboxplot(x=\"model\", y=\"Median\", color=\"New_Type\", add=\"jitter\", \n",
    "                 facet.by=\"tissue\", palette=\"npg\", ylim=c(-1.2, 1), \n",
    "                 ylab=\"Median R2\", xlab=\"\", ncol=4,\n",
    "                 panel.labs.font=list(face='bold'), \n",
    "                 ggtheme=theme_pubr(base_size=15, border=TRUE)) + \n",
    "    rotate_x_text(45) + font(\"xy.title\", face=\"bold\")\n",
    "save_plot(bxp, \"summary_boxplots_r2_random\", 10, 5)\n",
    "bxp"
   ]
  },
  {
   "cell_type": "markdown",
   "metadata": {},
   "source": [
    "#### Distribution"
   ]
  },
  {
   "cell_type": "code",
   "execution_count": null,
   "metadata": {},
   "outputs": [],
   "source": [
    "freq = df %>%  filter(New_Type %in% c(\"DE \", \"Random \")) %>%\n",
    "    ggdensity(x = \"Median\", add = \"mean\", rug = TRUE,\n",
    "              color = \"New_Type\", fill = \"New_Type\", palette=\"npg\", \n",
    "              facet.by=c(\"model\", \"tissue\"), xlab=\"Median R2\", \n",
    "              panel.labs.font=list(face='bold'), ylab=\"\",\n",
    "              ggtheme=theme_pubr(base_size=15, border=TRUE))\n",
    "save_plot(freq, \"summary_distribution_r2_de\", 10, 5)\n",
    "freq"
   ]
  },
  {
   "cell_type": "code",
   "execution_count": null,
   "metadata": {},
   "outputs": [],
   "source": [
    "freq = df %>%  filter(DTU == \"DTU\") %>%\n",
    "    ggdensity(x = \"Median\", add = \"mean\", rug = TRUE,\n",
    "              color = \"New_Type\", fill = \"New_Type\", palette=\"npg\", \n",
    "              facet.by=c(\"model\", \"tissue\"), xlab=\"Median R2\", \n",
    "              panel.labs.font=list(face='bold'), ylab=\"\",\n",
    "              ggtheme=theme_pubr(base_size=15, border=TRUE))\n",
    "save_plot(freq, \"summary_distribution_r2_dtu\", 10, 5)\n",
    "freq"
   ]
  },
  {
   "cell_type": "code",
   "execution_count": null,
   "metadata": {},
   "outputs": [],
   "source": [
    "freq = df %>% filter(Type == \"DE\") %>%\n",
    "    ggdensity(x = \"Median\", add = \"mean\", rug = TRUE,\n",
    "              color = \"New_Type\", fill = \"New_Type\", palette=\"npg\", \n",
    "              facet.by=c(\"model\", \"tissue\"), xlab=\"Median R2\", \n",
    "              panel.labs.font=list(face='bold'), ylab=\"\",\n",
    "              ggtheme=theme_pubr(base_size=15, border=TRUE))\n",
    "save_plot(freq, \"summary_distribution_r2_degs\", 10, 5)\n",
    "freq"
   ]
  },
  {
   "cell_type": "code",
   "execution_count": null,
   "metadata": {},
   "outputs": [],
   "source": [
    "freq = df %>% filter(Type == \"Random\") %>%\n",
    "    ggdensity(x = \"Median\", add = \"mean\", rug = TRUE,\n",
    "              color = \"New_Type\", fill = \"New_Type\", palette=\"npg\", \n",
    "              facet.by=c(\"model\", \"tissue\"), xlab=\"Median R2\", \n",
    "              panel.labs.font=list(face='bold'), ylab=\"\",\n",
    "              ggtheme=theme_pubr(base_size=15, border=TRUE))\n",
    "save_plot(freq, \"summary_distribution_r2_random\", 10, 5)\n",
    "freq"
   ]
  },
  {
   "cell_type": "markdown",
   "metadata": {},
   "source": [
    "## Explained variance with partial r2"
   ]
  },
  {
   "cell_type": "markdown",
   "metadata": {},
   "source": [
    "### Load data"
   ]
  },
  {
   "cell_type": "code",
   "execution_count": null,
   "metadata": {},
   "outputs": [],
   "source": [
    "de2 = data.table::fread(\"../../de_genes/partial_r2/enet_partial_r2_metrics.tsv\") %>%\n",
    "    mutate(Type = \"DE\") %>% left_join(degs, by=c(\"Tissue\"=\"tissue\", \"Geneid\"=\"Feature\")) %>% \n",
    "    as.data.frame %>% mutate(New_Type = paste(Type, replace_na(DTU, \"\"))) %>%\n",
    "    mutate_if(is.character, as.factor)\n",
    "de2 %>% head(2)"
   ]
  },
  {
   "cell_type": "code",
   "execution_count": null,
   "metadata": {},
   "outputs": [],
   "source": [
    "de100_v2 = data.table::fread(\"../../de_genes/partial_r2/enet_partial_r2_metrics.tsv\") %>%\n",
    "    mutate(Type = \"DE\") %>% inner_join(top100, by=c(\"Tissue\"=\"tissue\", \"Geneid\"=\"Feature\"))\n",
    "de100_v2 %>% dim\n",
    "de100_v2 %>% head(2)"
   ]
  },
  {
   "cell_type": "code",
   "execution_count": null,
   "metadata": {},
   "outputs": [],
   "source": [
    "rand2 = data.table::fread(\"../../random_genes/partial_r2/rf_partial_r2_metrics.tsv\") %>%\n",
    "    mutate(Type = \"Random\") %>% left_join(random, by=c(\"Tissue\"=\"tissue\", \"Geneid\"=\"Feature\")) %>% \n",
    "    as.data.frame %>% mutate(New_Type = paste(Type, replace_na(DTU, \"\"))) %>%\n",
    "    mutate_if(is.character, as.factor)\n",
    "rand2 %>% head(2)"
   ]
  },
  {
   "cell_type": "code",
   "execution_count": null,
   "metadata": {},
   "outputs": [],
   "source": [
    "df2 = bind_rows(de2, rand2)\n",
    "df2 %>% head(2)"
   ]
  },
  {
   "cell_type": "markdown",
   "metadata": {},
   "source": [
    "### Summary"
   ]
  },
  {
   "cell_type": "code",
   "execution_count": null,
   "metadata": {},
   "outputs": [],
   "source": [
    "df2 %>% group_by(Tissue, Type) %>% \n",
    "    summarise(Mean=mean(Partial_R2), Median=median(Partial_R2), \n",
    "              Std=sd(Partial_R2), .groups = \"keep\") "
   ]
  },
  {
   "cell_type": "code",
   "execution_count": null,
   "metadata": {},
   "outputs": [],
   "source": [
    "de100_v2 %>% group_by(Tissue) %>% \n",
    "    summarise(Mean=mean(Partial_R2), Median=median(Partial_R2), \n",
    "              Std=sd(Partial_R2), .groups = \"keep\")"
   ]
  },
  {
   "cell_type": "code",
   "execution_count": null,
   "metadata": {},
   "outputs": [],
   "source": [
    "df2 %>% group_by(Tissue, New_Type) %>% \n",
    "    summarise(Mean=mean(Partial_R2), Median=median(Partial_R2), \n",
    "              Std=sd(Partial_R2), .groups = \"keep\") "
   ]
  },
  {
   "cell_type": "markdown",
   "metadata": {},
   "source": [
    "### Significance"
   ]
  },
  {
   "cell_type": "code",
   "execution_count": null,
   "metadata": {},
   "outputs": [],
   "source": [
    "## Test if DE genes are significant more predictive than random genes\n",
    "for(tissue in c(\"Caudate\", \"Dentate Gyrus\", \"DLPFC\", \"Hippocampus\")){\n",
    "    xx = de2 %>% filter(Tissue == tissue)\n",
    "    yy = rand2 %>% filter(Tissue == tissue)\n",
    "    tt = t.test(xx$Partial_R2, yy$Partial_R2, alternative = \"greater\")$p.value\n",
    "    print(tt)\n",
    "}"
   ]
  },
  {
   "cell_type": "code",
   "execution_count": null,
   "metadata": {},
   "outputs": [],
   "source": [
    "df2 %>% group_by(Tissue) %>% \n",
    "    do(fit = broom::tidy(lm(Partial_R2 ~ Type, data=.))) %>%\n",
    "    unnest(fit) %>% filter(term != '(Intercept)') %>%\n",
    "    mutate(p.bonf = p.adjust(p.value, \"bonf\"))"
   ]
  },
  {
   "cell_type": "code",
   "execution_count": null,
   "metadata": {},
   "outputs": [],
   "source": [
    "df2 %>% filter(Type == \"DE\") %>% group_by(Tissue) %>% \n",
    "    do(fit = broom::tidy(lm(Partial_R2 ~ New_Type, data=.))) %>%\n",
    "    unnest(fit) %>% filter(term != '(Intercept)') %>%\n",
    "    mutate(p.bonf = p.adjust(p.value, \"bonf\"))"
   ]
  },
  {
   "cell_type": "code",
   "execution_count": null,
   "metadata": {},
   "outputs": [],
   "source": [
    "df2 %>% filter(Type == \"Random\") %>% group_by(Tissue) %>% \n",
    "    do(fit = broom::tidy(lm(Partial_R2 ~ New_Type, data=.))) %>%\n",
    "    unnest(fit) %>% filter(term != '(Intercept)') %>%\n",
    "    mutate(p.bonf = p.adjust(p.value, \"bonf\"))"
   ]
  },
  {
   "cell_type": "markdown",
   "metadata": {},
   "source": [
    "### Plot"
   ]
  },
  {
   "cell_type": "markdown",
   "metadata": {},
   "source": [
    "#### Boxplots"
   ]
  },
  {
   "cell_type": "code",
   "execution_count": null,
   "metadata": {},
   "outputs": [],
   "source": [
    "bxp = de100_v2 %>% \n",
    "    ggboxplot(x=\"Tissue\", y=\"Partial_R2\", fill=\"Tissue\", add=\"jitter\", \n",
    "              palette=\"npg\", legend=\"none\", ylim=c(0, 1), xlab=\"\", ncol=4, \n",
    "              ylab=\"Explained Variance\", panel.labs.font=list(face='bold'), \n",
    "              ggtheme=theme_pubr(base_size=15, border=TRUE)) + \n",
    "    rotate_x_text(45) + font(\"xy.title\", face=\"bold\")\n",
    "save_plot(bxp, \"explained_variance_boxplots_top100\", 6, 5)\n",
    "bxp"
   ]
  },
  {
   "cell_type": "code",
   "execution_count": null,
   "metadata": {},
   "outputs": [],
   "source": [
    "bxp = df2 %>% #filter(Type == \"DE\") %>%\n",
    "    ggboxplot(x=\"Tissue\", y=\"Partial_R2\", color=\"New_Type\", add=\"jitter\", \n",
    "              palette=\"npg\", ylim=c(0, 1), ylab=\"Explained Variance\", \n",
    "              xlab=\"Brain Region\", ncol=4,\n",
    "              ggtheme=theme_pubr(base_size=15, border=TRUE)) + \n",
    "    rotate_x_text(45) + font(\"xy.title\", face=\"bold\")\n",
    "save_plot(bxp, \"explained_variance_boxplot_all\", 7, 5.5)\n",
    "bxp"
   ]
  },
  {
   "cell_type": "code",
   "execution_count": null,
   "metadata": {},
   "outputs": [],
   "source": [
    "bxp = df2 %>% filter(Type == \"DE\") %>%\n",
    "    ggboxplot(x=\"Tissue\", y=\"Partial_R2\", color=\"New_Type\", add=\"jitter\", \n",
    "              palette=\"npg\", ylim=c(0, 1), ylab=\"Explained Variance\", \n",
    "              xlab=\"Brain Region\", ncol=4,\n",
    "              ggtheme=theme_pubr(base_size=15, border=TRUE)) + \n",
    "    rotate_x_text(45) + font(\"xy.title\", face=\"bold\")\n",
    "save_plot(bxp, \"explained_variance_boxplot_de\", 6, 5.5)\n",
    "bxp"
   ]
  },
  {
   "cell_type": "code",
   "execution_count": null,
   "metadata": {},
   "outputs": [],
   "source": [
    "bxp = df2 %>% filter(Type == \"Random\") %>%\n",
    "    ggboxplot(x=\"Tissue\", y=\"Partial_R2\", color=\"New_Type\", add=\"jitter\", \n",
    "              palette=\"npg\", ylim=c(0, 1), ylab=\"Explained Variance\", \n",
    "              xlab=\"Brain Region\", ncol=4,\n",
    "              ggtheme=theme_pubr(base_size=15, border=TRUE)) + \n",
    "    rotate_x_text(45) + font(\"xy.title\", face=\"bold\")\n",
    "save_plot(bxp, \"explained_variance_boxplot_random\", 6, 5.5)\n",
    "bxp"
   ]
  },
  {
   "cell_type": "code",
   "execution_count": null,
   "metadata": {},
   "outputs": [],
   "source": [
    "bxp = df2 %>%  filter(DTU == \"DTU\") %>%\n",
    "    ggboxplot(x=\"Tissue\", y=\"Partial_R2\", color=\"Type\", add=\"jitter\", \n",
    "              palette=\"npg\", ylim=c(0, 1), ylab=\"Explained Variance\", \n",
    "              xlab=\"Brain Region\", ncol=4,\n",
    "              ggtheme=theme_pubr(base_size=15, border=TRUE)) + \n",
    "    rotate_x_text(45) + font(\"xy.title\", face=\"bold\")\n",
    "save_plot(bxp, \"explained_variance_boxplot_dtu\", 6, 5.5)\n",
    "bxp"
   ]
  },
  {
   "cell_type": "code",
   "execution_count": null,
   "metadata": {},
   "outputs": [],
   "source": [
    "bxp = df2 %>%  filter(New_Type %in% c(\"DE \", \"Random \")) %>%\n",
    "    ggboxplot(x=\"Tissue\", y=\"Partial_R2\", color=\"New_Type\", add=\"jitter\", \n",
    "              palette=\"npg\", ylim=c(0, 1), ylab=\"Explained Variance\", \n",
    "              xlab=\"Brain Region\", ncol=4,\n",
    "              ggtheme=theme_pubr(base_size=15, border=TRUE)) + \n",
    "    rotate_x_text(45) + font(\"xy.title\", face=\"bold\")\n",
    "save_plot(bxp, \"explained_variance_boxplot\", 6, 5.5)\n",
    "bxp"
   ]
  },
  {
   "cell_type": "markdown",
   "metadata": {},
   "source": [
    "#### Distribution"
   ]
  },
  {
   "cell_type": "code",
   "execution_count": null,
   "metadata": {},
   "outputs": [],
   "source": [
    "freq = df2 %>%  filter(New_Type %in% c(\"DE \", \"Random \")) %>%\n",
    "    ggdensity(x = \"Partial_R2\", add = \"mean\", rug = TRUE,\n",
    "              color = \"New_Type\", fill = \"New_Type\", palette=\"npg\", \n",
    "              facet.by=c(\"Tissue\"), xlab=\"Explained Variance\", \n",
    "              panel.labs.font=list(face='bold'), ylab=\"\", ncol=4,\n",
    "              ggtheme=theme_pubr(base_size=15, border=TRUE)) + \n",
    "    font(\"xy.title\", face=\"bold\")\n",
    "save_plot(freq, \"explained_variance_distribution\", 10, 4)\n",
    "freq"
   ]
  },
  {
   "cell_type": "code",
   "execution_count": null,
   "metadata": {},
   "outputs": [],
   "source": [
    "freq = df2 %>%  filter(DTU == \"DTU\") %>%\n",
    "    ggdensity(x = \"Partial_R2\", add = \"mean\", rug = TRUE,\n",
    "              color = \"New_Type\", fill = \"New_Type\", palette=\"npg\", \n",
    "              facet.by=c(\"Tissue\"), xlab=\"Explained Variance\", \n",
    "              panel.labs.font=list(face='bold'), ylab=\"\", ncol=4,\n",
    "              ggtheme=theme_pubr(base_size=15, border=TRUE)) + \n",
    "    font(\"xy.title\", face=\"bold\")\n",
    "save_plot(freq, \"explained_variance_distribution_dtu\", 10, 4)\n",
    "freq"
   ]
  },
  {
   "cell_type": "code",
   "execution_count": null,
   "metadata": {},
   "outputs": [],
   "source": [
    "freq = df2 %>% filter(Type == \"DE\") %>%\n",
    "    ggdensity(x = \"Partial_R2\", add = \"mean\", rug = TRUE,\n",
    "              color = \"New_Type\", fill = \"New_Type\", palette=\"npg\", \n",
    "              facet.by=c(\"Tissue\"), xlab=\"Explained Variance\", \n",
    "              panel.labs.font=list(face='bold'), ylab=\"\", ncol=4,\n",
    "              ggtheme=theme_pubr(base_size=15, border=TRUE)) + \n",
    "    font(\"xy.title\", face=\"bold\")\n",
    "save_plot(freq, \"explained_variance_distribution_de\", 10, 4)\n",
    "freq"
   ]
  },
  {
   "cell_type": "code",
   "execution_count": null,
   "metadata": {},
   "outputs": [],
   "source": [
    "freq = df2 %>% filter(Type == \"Random\") %>%\n",
    "    ggdensity(x = \"Partial_R2\", add = \"mean\", rug = TRUE,\n",
    "              color = \"New_Type\", fill = \"New_Type\", palette=\"npg\", \n",
    "              facet.by=c(\"Tissue\"), xlab=\"Explained Variance\", \n",
    "              panel.labs.font=list(face='bold'), ylab=\"\", ncol=4,\n",
    "              ggtheme=theme_pubr(base_size=15, border=TRUE)) + \n",
    "    font(\"xy.title\", face=\"bold\")\n",
    "save_plot(freq, \"explained_variance_distribution_random\", 10, 4)\n",
    "freq"
   ]
  },
  {
   "cell_type": "markdown",
   "metadata": {},
   "source": [
    "## Reproducibility Information"
   ]
  },
  {
   "cell_type": "code",
   "execution_count": null,
   "metadata": {},
   "outputs": [],
   "source": [
    "Sys.time()\n",
    "proc.time()\n",
    "options(width = 120)\n",
    "sessioninfo::session_info()"
   ]
  }
 ],
 "metadata": {
  "kernelspec": {
   "display_name": "R",
   "language": "R",
   "name": "ir"
  },
  "language_info": {
   "codemirror_mode": "r",
   "file_extension": ".r",
   "mimetype": "text/x-r-source",
   "name": "R",
   "pygments_lexer": "r",
   "version": "4.0.3"
  }
 },
 "nbformat": 4,
 "nbformat_minor": 4
}
