{
 "cells": [
  {
   "cell_type": "markdown",
   "metadata": {},
   "source": [
    "# GO semantic similarity analysis"
   ]
  },
  {
   "cell_type": "code",
   "execution_count": 1,
   "metadata": {
    "execution": {
     "iopub.execute_input": "2021-10-04T19:15:26.003701Z",
     "iopub.status.busy": "2021-10-04T19:15:25.991625Z",
     "iopub.status.idle": "2021-10-04T19:15:33.935289Z",
     "shell.execute_reply": "2021-10-04T19:15:33.927382Z"
    }
   },
   "outputs": [],
   "source": [
    "suppressPackageStartupMessages({\n",
    "    library(dplyr)\n",
    "    library(ggplot2)\n",
    "    library(GOSemSim)\n",
    "    library(org.Hs.eg.db)\n",
    "})"
   ]
  },
  {
   "cell_type": "markdown",
   "metadata": {},
   "source": [
    "## Functions"
   ]
  },
  {
   "cell_type": "code",
   "execution_count": 2,
   "metadata": {
    "execution": {
     "iopub.execute_input": "2021-10-04T19:15:34.002466Z",
     "iopub.status.busy": "2021-10-04T19:15:33.951408Z",
     "iopub.status.idle": "2021-10-04T19:15:34.023278Z",
     "shell.execute_reply": "2021-10-04T19:15:34.019506Z"
    }
   },
   "outputs": [],
   "source": [
    "config_mods = list(\"Caudate\"=\"../../../caudate/goatools/_m/\", \n",
    "                  \"Dentate Gyrus\"=\"../../../dentateGyrus/goatools/_m/\", \n",
    "                  \"DLPFC\"=\"../../../dlpfc/goatools/_m/\", \n",
    "                  \"Hippocampus\"=\"../../../hippocampus/goatools/_m/\")\n",
    "config_sig_mods = list(\"Caudate\"=c(\"violet\"), \n",
    "                      \"Dentate Gyrus\"=c(\"black\", \"darkgrey\", \"darkolivegreen\", \n",
    "                                        \"grey\", \"grey60\", \"lightcyan\", \"magenta\", \n",
    "                                        \"skyblue\"),\n",
    "                       \"DLPFC\"=c(\"black\", \"cyan\", \"darkred\", \"darkturquoise\"),\n",
    "                       \"Hippocampus\"=c(\"brown\"))"
   ]
  },
  {
   "cell_type": "code",
   "execution_count": 3,
   "metadata": {
    "execution": {
     "iopub.execute_input": "2021-10-04T19:15:34.034471Z",
     "iopub.status.busy": "2021-10-04T19:15:34.032124Z",
     "iopub.status.idle": "2021-10-04T19:15:34.057355Z",
     "shell.execute_reply": "2021-10-04T19:15:34.054581Z"
    }
   },
   "outputs": [],
   "source": [
    "get_semData <- function(ont){\n",
    "    return(godata('org.Hs.eg.db', ont=ont))\n",
    "}\n",
    "\n",
    "GO_semantic_similarity <- function(ont, tissue1, tissue2, hgGO){\n",
    "    mod1 = c(); mod2 = c(); ss = c(); t1 = c(); t2 = c()\n",
    "    for(module1 in config_sig_mods[[tissue1]]){\n",
    "        fn1 = paste0(config_mods[[tissue1]], \"GO_analysis_module_\",module1,\".xlsx\")\n",
    "        for(module2 in config_sig_mods[[tissue2]]){\n",
    "            fn2 = paste0(config_mods[[tissue2]], \"GO_analysis_module_\",module2,\".xlsx\")\n",
    "            if(file.exists(fn1) & file.exists(fn2)){\n",
    "                df1 = readxl::read_excel(fn1) %>% filter(NS == ont)\n",
    "                df2 = readxl::read_excel(fn2) %>% filter(NS == ont)\n",
    "                sim = mgoSim(df1$GO, df2$GO, semData=hsGO, \n",
    "                             measure=\"Wang\", combine=\"BMA\")\n",
    "                mod1 = c(mod1, module1); mod2 = c(mod2, module2)\n",
    "                ss = c(ss, sim); t1 = c(t1, tissue1); t2 = c(t2, tissue2)\n",
    "            }\n",
    "        }\n",
    "    }\n",
    "    return(data.frame(\"Module_1\"=mod1, \"Module_2\"=mod2, \"Semantic_Similarity\"=ss, \n",
    "                      \"Ont\"=ont, \"Tissue_1\"=t1, \"Tissue_2\"=t2))\n",
    "}\n",
    "\n",
    "save_img <- function(image, fn, w=7, h=7){\n",
    "    for(ext in c(\".pdf\", \".png\")){\n",
    "        ggsave(file=paste0(fn, ext), plot=image, width=w, height=h)\n",
    "    }\n",
    "}"
   ]
  },
  {
   "cell_type": "code",
   "execution_count": 4,
   "metadata": {
    "execution": {
     "iopub.execute_input": "2021-10-04T19:15:34.068100Z",
     "iopub.status.busy": "2021-10-04T19:15:34.065741Z",
     "iopub.status.idle": "2021-10-04T19:15:34.108658Z",
     "shell.execute_reply": "2021-10-04T19:15:34.081806Z"
    }
   },
   "outputs": [],
   "source": [
    "generate_tile_plot <- function(dt, tissue1, tissue2){\n",
    "    tile_plot = dt %>% filter(Tissue_1 == tissue1, Tissue_2 == tissue2) %>%\n",
    "    ggplot(aes(x=Module_1, y=Module_2, fill=Semantic_Similarity, \n",
    "               label=format(round(Semantic_Similarity, 1)))) + \n",
    "    geom_tile(color=\"grey\") + ggfittext::geom_fit_text(contrast=TRUE) + \n",
    "    viridis::scale_color_viridis(option=\"magma\") + facet_wrap(\"~Ont\") +\n",
    "    viridis::scale_fill_viridis(name=\"Semantic Similarity\", limits=c(0,1),\n",
    "                                direction=-1, option=\"magma\") +\n",
    "    labs(x=tissue1, y=tissue2) + ggpubr::theme_pubr(base_size=15, border=TRUE) +\n",
    "    theme(axis.text.x=element_text(angle = 45, hjust=1), \n",
    "          strip.text=element_text(face=\"bold\"), \n",
    "          legend.key.width=unit(2, 'cm'))\n",
    "    return(tile_plot)\n",
    "}"
   ]
  },
  {
   "cell_type": "markdown",
   "metadata": {},
   "source": [
    "## Semantic similarity analysis"
   ]
  },
  {
   "cell_type": "code",
   "execution_count": 5,
   "metadata": {
    "execution": {
     "iopub.execute_input": "2021-10-04T19:15:34.121514Z",
     "iopub.status.busy": "2021-10-04T19:15:34.118554Z",
     "iopub.status.idle": "2021-10-04T19:17:57.019192Z",
     "shell.execute_reply": "2021-10-04T19:17:57.025492Z"
    }
   },
   "outputs": [
    {
     "name": "stderr",
     "output_type": "stream",
     "text": [
      "preparing gene to GO mapping data...\n",
      "\n",
      "preparing IC data...\n",
      "\n"
     ]
    },
    {
     "name": "stdout",
     "output_type": "stream",
     "text": [
      "[1] \"Caudate VS Dentate Gyrus\"\n",
      "[1] \"Caudate VS DLPFC\"\n",
      "[1] \"Caudate VS Hippocampus\"\n",
      "[1] \"Dentate Gyrus VS DLPFC\"\n",
      "[1] \"Dentate Gyrus VS Hippocampus\"\n",
      "[1] \"DLPFC VS Dentate Gyrus\"\n",
      "[1] \"DLPFC VS Hippocampus\"\n"
     ]
    },
    {
     "name": "stderr",
     "output_type": "stream",
     "text": [
      "preparing gene to GO mapping data...\n",
      "\n",
      "preparing IC data...\n",
      "\n"
     ]
    },
    {
     "name": "stdout",
     "output_type": "stream",
     "text": [
      "[1] \"Caudate VS Dentate Gyrus\"\n",
      "[1] \"Caudate VS DLPFC\"\n",
      "[1] \"Caudate VS Hippocampus\"\n",
      "[1] \"Dentate Gyrus VS DLPFC\"\n",
      "[1] \"Dentate Gyrus VS Hippocampus\"\n",
      "[1] \"DLPFC VS Dentate Gyrus\"\n",
      "[1] \"DLPFC VS Hippocampus\"\n"
     ]
    },
    {
     "name": "stderr",
     "output_type": "stream",
     "text": [
      "preparing gene to GO mapping data...\n",
      "\n",
      "preparing IC data...\n",
      "\n"
     ]
    },
    {
     "name": "stdout",
     "output_type": "stream",
     "text": [
      "[1] \"Caudate VS Dentate Gyrus\"\n",
      "[1] \"Caudate VS DLPFC\"\n",
      "[1] \"Caudate VS Hippocampus\"\n",
      "[1] \"Dentate Gyrus VS DLPFC\"\n",
      "[1] \"Dentate Gyrus VS Hippocampus\"\n",
      "[1] \"DLPFC VS Dentate Gyrus\"\n",
      "[1] \"DLPFC VS Hippocampus\"\n"
     ]
    },
    {
     "data": {
      "text/html": [
       "<table class=\"dataframe\">\n",
       "<caption>A data.frame: 6 × 6</caption>\n",
       "<thead>\n",
       "\t<tr><th></th><th scope=col>Module_1</th><th scope=col>Module_2</th><th scope=col>Semantic_Similarity</th><th scope=col>Ont</th><th scope=col>Tissue_1</th><th scope=col>Tissue_2</th></tr>\n",
       "\t<tr><th></th><th scope=col>&lt;chr&gt;</th><th scope=col>&lt;chr&gt;</th><th scope=col>&lt;dbl&gt;</th><th scope=col>&lt;chr&gt;</th><th scope=col>&lt;chr&gt;</th><th scope=col>&lt;chr&gt;</th></tr>\n",
       "</thead>\n",
       "<tbody>\n",
       "\t<tr><th scope=row>1</th><td>violet</td><td>black    </td><td>1.000</td><td>MF</td><td>Caudate</td><td>Dentate Gyrus</td></tr>\n",
       "\t<tr><th scope=row>2</th><td>violet</td><td>darkgrey </td><td>1.000</td><td>MF</td><td>Caudate</td><td>Dentate Gyrus</td></tr>\n",
       "\t<tr><th scope=row>3</th><td>violet</td><td>grey     </td><td>0.505</td><td>MF</td><td>Caudate</td><td>Dentate Gyrus</td></tr>\n",
       "\t<tr><th scope=row>4</th><td>violet</td><td>lightcyan</td><td>0.433</td><td>MF</td><td>Caudate</td><td>Dentate Gyrus</td></tr>\n",
       "\t<tr><th scope=row>5</th><td>violet</td><td>magenta  </td><td>0.485</td><td>MF</td><td>Caudate</td><td>Dentate Gyrus</td></tr>\n",
       "\t<tr><th scope=row>6</th><td>violet</td><td>skyblue  </td><td>   NA</td><td>MF</td><td>Caudate</td><td>Dentate Gyrus</td></tr>\n",
       "</tbody>\n",
       "</table>\n"
      ],
      "text/latex": [
       "A data.frame: 6 × 6\n",
       "\\begin{tabular}{r|llllll}\n",
       "  & Module\\_1 & Module\\_2 & Semantic\\_Similarity & Ont & Tissue\\_1 & Tissue\\_2\\\\\n",
       "  & <chr> & <chr> & <dbl> & <chr> & <chr> & <chr>\\\\\n",
       "\\hline\n",
       "\t1 & violet & black     & 1.000 & MF & Caudate & Dentate Gyrus\\\\\n",
       "\t2 & violet & darkgrey  & 1.000 & MF & Caudate & Dentate Gyrus\\\\\n",
       "\t3 & violet & grey      & 0.505 & MF & Caudate & Dentate Gyrus\\\\\n",
       "\t4 & violet & lightcyan & 0.433 & MF & Caudate & Dentate Gyrus\\\\\n",
       "\t5 & violet & magenta   & 0.485 & MF & Caudate & Dentate Gyrus\\\\\n",
       "\t6 & violet & skyblue   &    NA & MF & Caudate & Dentate Gyrus\\\\\n",
       "\\end{tabular}\n"
      ],
      "text/markdown": [
       "\n",
       "A data.frame: 6 × 6\n",
       "\n",
       "| <!--/--> | Module_1 &lt;chr&gt; | Module_2 &lt;chr&gt; | Semantic_Similarity &lt;dbl&gt; | Ont &lt;chr&gt; | Tissue_1 &lt;chr&gt; | Tissue_2 &lt;chr&gt; |\n",
       "|---|---|---|---|---|---|---|\n",
       "| 1 | violet | black     | 1.000 | MF | Caudate | Dentate Gyrus |\n",
       "| 2 | violet | darkgrey  | 1.000 | MF | Caudate | Dentate Gyrus |\n",
       "| 3 | violet | grey      | 0.505 | MF | Caudate | Dentate Gyrus |\n",
       "| 4 | violet | lightcyan | 0.433 | MF | Caudate | Dentate Gyrus |\n",
       "| 5 | violet | magenta   | 0.485 | MF | Caudate | Dentate Gyrus |\n",
       "| 6 | violet | skyblue   |    NA | MF | Caudate | Dentate Gyrus |\n",
       "\n"
      ],
      "text/plain": [
       "  Module_1 Module_2  Semantic_Similarity Ont Tissue_1 Tissue_2     \n",
       "1 violet   black     1.000               MF  Caudate  Dentate Gyrus\n",
       "2 violet   darkgrey  1.000               MF  Caudate  Dentate Gyrus\n",
       "3 violet   grey      0.505               MF  Caudate  Dentate Gyrus\n",
       "4 violet   lightcyan 0.433               MF  Caudate  Dentate Gyrus\n",
       "5 violet   magenta   0.485               MF  Caudate  Dentate Gyrus\n",
       "6 violet   skyblue      NA               MF  Caudate  Dentate Gyrus"
      ]
     },
     "metadata": {},
     "output_type": "display_data"
    }
   ],
   "source": [
    "datalist1 = list(); datalist2 = list(); datalist3 = list()\n",
    "for(ont in c(\"MF\", \"BP\", \"CC\")){\n",
    "    hsGO = get_semData(ont)\n",
    "    for(tissue1 in c(\"Caudate\", \"Dentate Gyrus\", \"DLPFC\")){\n",
    "        for(tissue2 in c(\"Dentate Gyrus\", \"DLPFC\", \"Hippocampus\")){\n",
    "            if(tissue1 != tissue2){\n",
    "                print(paste(tissue1, \"VS\", tissue2))\n",
    "                datalist1[[tissue2]] = GO_semantic_similarity(ont, tissue1, tissue2, hsGO)\n",
    "            }\n",
    "        }\n",
    "        datalist2[[tissue1]] = bind_rows(datalist1)\n",
    "    }\n",
    "    datalist3[[ont]] = bind_rows(datalist2)\n",
    "}\n",
    "\n",
    "dt = bind_rows(datalist3)\n",
    "dt %>% head"
   ]
  },
  {
   "cell_type": "markdown",
   "metadata": {},
   "source": [
    "## Plot semantic similarity"
   ]
  },
  {
   "cell_type": "code",
   "execution_count": 6,
   "metadata": {
    "execution": {
     "iopub.execute_input": "2021-10-04T19:17:57.050802Z",
     "iopub.status.busy": "2021-10-04T19:17:57.043952Z",
     "iopub.status.idle": "2021-10-04T19:18:10.052098Z",
     "shell.execute_reply": "2021-10-04T19:18:10.049012Z"
    }
   },
   "outputs": [],
   "source": [
    "for(tissue1 in c(\"Caudate\", \"Dentate Gyrus\", \"DLPFC\")){\n",
    "    for(tissue2 in c(\"Dentate Gyrus\", \"DLPFC\", \"Hippocampus\")){\n",
    "        if(tissue1 != tissue2){\n",
    "            outfile = paste(\"GO_semantic_similarity\", gsub(\" \", \"\", tissue1), \n",
    "                           gsub(\" \", \"\", tissue2), sep='_')\n",
    "            #print(outfile)\n",
    "            tile_plot = generate_tile_plot(dt, tissue1, tissue2)\n",
    "            save_img(tile_plot, outfile, w=10, h=5)\n",
    "        }\n",
    "    }\n",
    "}"
   ]
  },
  {
   "cell_type": "markdown",
   "metadata": {},
   "source": [
    "## Reproducibility Information"
   ]
  },
  {
   "cell_type": "code",
   "execution_count": 7,
   "metadata": {
    "execution": {
     "iopub.execute_input": "2021-10-04T19:18:10.066352Z",
     "iopub.status.busy": "2021-10-04T19:18:10.064206Z",
     "iopub.status.idle": "2021-10-04T19:18:10.664205Z",
     "shell.execute_reply": "2021-10-04T19:18:10.660391Z"
    }
   },
   "outputs": [
    {
     "data": {
      "text/plain": [
       "[1] \"2021-10-04 15:18:10 EDT\""
      ]
     },
     "metadata": {},
     "output_type": "display_data"
    },
    {
     "data": {
      "text/plain": [
       "   user  system elapsed \n",
       "160.492   3.652 165.113 "
      ]
     },
     "metadata": {},
     "output_type": "display_data"
    },
    {
     "data": {
      "text/plain": [
       "─ Session info ───────────────────────────────────────────────────────────────────────────────────────────────────────\n",
       " setting  value                       \n",
       " version  R version 4.0.3 (2020-10-10)\n",
       " os       Arch Linux                  \n",
       " system   x86_64, linux-gnu           \n",
       " ui       X11                         \n",
       " language (EN)                        \n",
       " collate  en_US.UTF-8                 \n",
       " ctype    en_US.UTF-8                 \n",
       " tz       America/New_York            \n",
       " date     2021-10-04                  \n",
       "\n",
       "─ Packages ───────────────────────────────────────────────────────────────────────────────────────────────────────────\n",
       " package       * version date       lib source        \n",
       " abind           1.4-5   2016-07-21 [1] CRAN (R 4.0.2)\n",
       " AnnotationDbi * 1.52.0  2020-10-27 [1] Bioconductor  \n",
       " assertthat      0.2.1   2019-03-21 [1] CRAN (R 4.0.2)\n",
       " backports       1.2.1   2020-12-09 [1] CRAN (R 4.0.2)\n",
       " base64enc       0.1-3   2015-07-28 [1] CRAN (R 4.0.2)\n",
       " Biobase       * 2.50.0  2020-10-27 [1] Bioconductor  \n",
       " BiocGenerics  * 0.36.1  2021-04-16 [1] Bioconductor  \n",
       " bit             4.0.4   2020-08-04 [1] CRAN (R 4.0.2)\n",
       " bit64           4.0.5   2020-08-30 [1] CRAN (R 4.0.2)\n",
       " blob            1.2.2   2021-07-23 [1] CRAN (R 4.0.3)\n",
       " broom           0.7.9   2021-07-27 [1] CRAN (R 4.0.3)\n",
       " cachem          1.0.6   2021-08-19 [1] CRAN (R 4.0.3)\n",
       " car             3.0-11  2021-06-27 [1] CRAN (R 4.0.3)\n",
       " carData         3.0-4   2020-05-22 [1] CRAN (R 4.0.2)\n",
       " cellranger      1.1.0   2016-07-27 [1] CRAN (R 4.0.2)\n",
       " cli             3.0.1   2021-07-17 [1] CRAN (R 4.0.3)\n",
       " colorspace      2.0-2   2021-06-24 [1] CRAN (R 4.0.3)\n",
       " crayon          1.4.1   2021-02-08 [1] CRAN (R 4.0.3)\n",
       " curl            4.3.2   2021-06-23 [1] CRAN (R 4.0.3)\n",
       " data.table      1.14.2  2021-09-27 [1] CRAN (R 4.0.3)\n",
       " DBI             1.1.1   2021-01-15 [1] CRAN (R 4.0.2)\n",
       " digest          0.6.28  2021-09-23 [1] CRAN (R 4.0.3)\n",
       " dplyr         * 1.0.7   2021-06-18 [1] CRAN (R 4.0.3)\n",
       " ellipsis        0.3.2   2021-04-29 [1] CRAN (R 4.0.3)\n",
       " evaluate        0.14    2019-05-28 [1] CRAN (R 4.0.2)\n",
       " fansi           0.5.0   2021-05-25 [1] CRAN (R 4.0.3)\n",
       " farver          2.1.0   2021-02-28 [1] CRAN (R 4.0.3)\n",
       " fastmap         1.1.0   2021-01-25 [1] CRAN (R 4.0.2)\n",
       " forcats         0.5.1   2021-01-27 [1] CRAN (R 4.0.2)\n",
       " foreign         0.8-80  2020-05-24 [2] CRAN (R 4.0.3)\n",
       " generics        0.1.0   2020-10-31 [1] CRAN (R 4.0.2)\n",
       " ggfittext       0.9.1   2021-01-30 [1] CRAN (R 4.0.3)\n",
       " ggplot2       * 3.3.5   2021-06-25 [1] CRAN (R 4.0.3)\n",
       " ggpubr          0.4.0   2020-06-27 [1] CRAN (R 4.0.2)\n",
       " ggsignif        0.6.3   2021-09-09 [1] CRAN (R 4.0.3)\n",
       " glue            1.4.2   2020-08-27 [1] CRAN (R 4.0.2)\n",
       " GO.db           3.12.1  2021-04-08 [1] Bioconductor  \n",
       " GOSemSim      * 2.16.1  2020-10-29 [1] Bioconductor  \n",
       " gridExtra       2.3     2017-09-09 [1] CRAN (R 4.0.2)\n",
       " gtable          0.3.0   2019-03-25 [1] CRAN (R 4.0.2)\n",
       " haven           2.4.3   2021-08-04 [1] CRAN (R 4.0.3)\n",
       " hms             1.1.1   2021-09-26 [1] CRAN (R 4.0.3)\n",
       " htmltools       0.5.2   2021-08-25 [1] CRAN (R 4.0.3)\n",
       " IRanges       * 2.24.1  2020-12-12 [1] Bioconductor  \n",
       " IRdisplay       1.0     2021-01-20 [1] CRAN (R 4.0.2)\n",
       " IRkernel        1.2     2021-05-11 [1] CRAN (R 4.0.3)\n",
       " jsonlite        1.7.2   2020-12-09 [1] CRAN (R 4.0.2)\n",
       " labeling        0.4.2   2020-10-20 [1] CRAN (R 4.0.2)\n",
       " lifecycle       1.0.1   2021-09-24 [1] CRAN (R 4.0.3)\n",
       " magrittr        2.0.1   2020-11-17 [1] CRAN (R 4.0.2)\n",
       " memoise         2.0.0   2021-01-26 [1] CRAN (R 4.0.2)\n",
       " munsell         0.5.0   2018-06-12 [1] CRAN (R 4.0.2)\n",
       " openxlsx        4.2.4   2021-06-16 [1] CRAN (R 4.0.3)\n",
       " org.Hs.eg.db  * 3.12.0  2021-02-24 [1] Bioconductor  \n",
       " pbdZMQ          0.3-5   2021-02-10 [1] CRAN (R 4.0.3)\n",
       " pillar          1.6.3   2021-09-26 [1] CRAN (R 4.0.3)\n",
       " pkgconfig       2.0.3   2019-09-22 [1] CRAN (R 4.0.2)\n",
       " purrr           0.3.4   2020-04-17 [1] CRAN (R 4.0.2)\n",
       " R6              2.5.1   2021-08-19 [1] CRAN (R 4.0.3)\n",
       " Rcpp            1.0.7   2021-07-07 [1] CRAN (R 4.0.3)\n",
       " readxl          1.3.1   2019-03-13 [1] CRAN (R 4.0.2)\n",
       " repr            1.1.3   2021-01-21 [1] CRAN (R 4.0.2)\n",
       " rio             0.5.27  2021-06-21 [1] CRAN (R 4.0.3)\n",
       " rlang           0.4.11  2021-04-30 [1] CRAN (R 4.0.3)\n",
       " RSQLite         2.2.8   2021-08-21 [1] CRAN (R 4.0.3)\n",
       " rstatix         0.7.0   2021-02-13 [1] CRAN (R 4.0.3)\n",
       " S4Vectors     * 0.28.1  2020-12-09 [1] Bioconductor  \n",
       " scales          1.1.1   2020-05-11 [1] CRAN (R 4.0.2)\n",
       " sessioninfo     1.1.1   2018-11-05 [1] CRAN (R 4.0.2)\n",
       " shades          1.4.0   2019-08-02 [1] CRAN (R 4.0.3)\n",
       " stringi         1.7.4   2021-08-25 [1] CRAN (R 4.0.3)\n",
       " tibble          3.1.4   2021-08-25 [1] CRAN (R 4.0.3)\n",
       " tidyr           1.1.4   2021-09-27 [1] CRAN (R 4.0.3)\n",
       " tidyselect      1.1.1   2021-04-30 [1] CRAN (R 4.0.3)\n",
       " utf8            1.2.2   2021-07-24 [1] CRAN (R 4.0.3)\n",
       " uuid            0.1-4   2020-02-26 [1] CRAN (R 4.0.2)\n",
       " vctrs           0.3.8   2021-04-29 [1] CRAN (R 4.0.3)\n",
       " viridis         0.6.1   2021-05-11 [1] CRAN (R 4.0.3)\n",
       " viridisLite     0.4.0   2021-04-13 [1] CRAN (R 4.0.3)\n",
       " withr           2.4.2   2021-04-18 [1] CRAN (R 4.0.3)\n",
       " zip             2.2.0   2021-05-31 [1] CRAN (R 4.0.3)\n",
       "\n",
       "[1] /home/jbenja13/R/x86_64-pc-linux-gnu-library/4.0\n",
       "[2] /usr/lib/R/library"
      ]
     },
     "metadata": {},
     "output_type": "display_data"
    }
   ],
   "source": [
    "Sys.time()\n",
    "proc.time()\n",
    "options(width = 120)\n",
    "sessioninfo::session_info()"
   ]
  }
 ],
 "metadata": {
  "kernelspec": {
   "display_name": "R",
   "language": "R",
   "name": "ir"
  },
  "language_info": {
   "codemirror_mode": "r",
   "file_extension": ".r",
   "mimetype": "text/x-r-source",
   "name": "R",
   "pygments_lexer": "r",
   "version": "4.0.3"
  }
 },
 "nbformat": 4,
 "nbformat_minor": 4
}
