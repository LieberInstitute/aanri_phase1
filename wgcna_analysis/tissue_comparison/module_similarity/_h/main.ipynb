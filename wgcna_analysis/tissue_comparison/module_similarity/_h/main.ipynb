{
 "cells": [
  {
   "cell_type": "markdown",
   "metadata": {},
   "source": [
    "# GO semantic similarity analysis"
   ]
  },
  {
   "cell_type": "code",
   "execution_count": 1,
   "metadata": {},
   "outputs": [],
   "source": [
    "suppressPackageStartupMessages({\n",
    "    library(dplyr)\n",
    "    library(ggplot2)\n",
    "    library(GOSemSim)\n",
    "    library(org.Hs.eg.db)\n",
    "})"
   ]
  },
  {
   "cell_type": "markdown",
   "metadata": {},
   "source": [
    "## Functions"
   ]
  },
  {
   "cell_type": "code",
   "execution_count": 2,
   "metadata": {},
   "outputs": [],
   "source": [
    "config_mods = list(\"Caudate\"=\"../../../caudate/goatools/_m/\", \n",
    "                  \"Dentate Gyrus\"=\"../../../dentateGyrus/goatools/_m/\", \n",
    "                  \"DLPFC\"=\"../../../dlpfc/goatools/_m/\", \n",
    "                  \"Hippocampus\"=\"../../../hippocampus/goatools/_m/\")\n",
    "config_sig_mods = list(\"Caudate\"=c(\"magenta\", \"skyblue\", \"violet\"), \n",
    "                      \"Dentate Gyrus\"=c(\"grey\", \"red\", \"black\", \"magenta\", \n",
    "                                        \"lightcyan\", \"grey60\", \"darkgrey\", \n",
    "                                        \"skyblue\", \"steelblue\", \"darkolivegreen\", \n",
    "                                        \"sienna3\", \"skyblue3\"),\n",
    "                       \"DLPFC\"=c(\"yellow\", \"black\", \"salmon\", \"cyan\", \"lightyellow\", \n",
    "                                 \"darkred\", \"darkgreen\", \"darkturquoise\", \"saddlebrown\"),\n",
    "                       \"Hippocampus\"=c(\"grey\", \"brown\", \"royalblue\", \"saddlebrown\"))"
   ]
  },
  {
   "cell_type": "code",
   "execution_count": 3,
   "metadata": {},
   "outputs": [],
   "source": [
    "get_semData <- function(ont){\n",
    "    return(godata('org.Hs.eg.db', ont=ont))\n",
    "}\n",
    "\n",
    "GO_semantic_similarity <- function(ont, tissue1, tissue2, hgGO){\n",
    "    mod1 = c(); mod2 = c(); ss = c(); t1 = c(); t2 = c()\n",
    "    for(module1 in config_sig_mods[[tissue1]]){\n",
    "        fn1 = paste0(config_mods[[tissue1]], \"GO_analysis_module_\",module1,\".xlsx\")\n",
    "        for(module2 in config_sig_mods[[tissue2]]){\n",
    "            fn2 = paste0(config_mods[[tissue2]], \"GO_analysis_module_\",module2,\".xlsx\")\n",
    "            if(file.exists(fn1) & file.exists(fn2)){\n",
    "                df1 = readxl::read_excel(fn1) %>% filter(NS == ont)\n",
    "                df2 = readxl::read_excel(fn2) %>% filter(NS == ont)\n",
    "                sim = mgoSim(df1$GO, df2$GO, semData=hsGO, \n",
    "                             measure=\"Wang\", combine=\"BMA\")\n",
    "                mod1 = c(mod1, module1); mod2 = c(mod2, module2)\n",
    "                ss = c(ss, sim); t1 = c(t1, tissue1); t2 = c(t2, tissue2)\n",
    "            }\n",
    "        }\n",
    "    }\n",
    "    return(data.frame(\"Module_1\"=mod1, \"Module_2\"=mod2, \"Semantic_Similarity\"=ss, \n",
    "                      \"Ont\"=ont, \"Tissue_1\"=t1, \"Tissue_2\"=t2))\n",
    "}\n",
    "\n",
    "save_img <- function(image, fn, w=7, h=7){\n",
    "    for(ext in c(\".pdf\", \".png\")){\n",
    "        ggsave(file=paste0(fn, ext), plot=image, width=w, height=h)\n",
    "    }\n",
    "}"
   ]
  },
  {
   "cell_type": "code",
   "execution_count": 10,
   "metadata": {},
   "outputs": [],
   "source": [
    "generate_tile_plot <- function(dt, tissue1, tissue2){\n",
    "    tile_plot = dt %>% filter(Tissue_1 == tissue1, Tissue_2 == tissue2) %>%\n",
    "    ggplot(aes(x=Module_1, y=Module_2, fill=Semantic_Similarity, \n",
    "               label=format(round(Semantic_Similarity, 1)))) + \n",
    "    geom_tile(color=\"grey\") + ggfittext::geom_fit_text(contrast=TRUE) + \n",
    "    viridis::scale_color_viridis(option=\"magma\") + facet_wrap(\"~Ont\") +\n",
    "    viridis::scale_fill_viridis(name=\"Semantic Similarity\", limits=c(0,1),\n",
    "                                direction=-1, option=\"magma\") +\n",
    "    labs(x=tissue1, y=tissue2) + ggpubr::theme_pubr(base_size=15, border=TRUE) +\n",
    "    theme(axis.text.x=element_text(angle = 45, hjust=1), \n",
    "          strip.text=element_text(face=\"bold\"), \n",
    "          legend.key.width=unit(2, 'cm'))\n",
    "    return(tile_plot)\n",
    "}"
   ]
  },
  {
   "cell_type": "markdown",
   "metadata": {},
   "source": [
    "## Semantic similarity analysis"
   ]
  },
  {
   "cell_type": "code",
   "execution_count": 9,
   "metadata": {},
   "outputs": [
    {
     "name": "stderr",
     "output_type": "stream",
     "text": [
      "preparing gene to GO mapping data...\n",
      "\n",
      "preparing IC data...\n",
      "\n"
     ]
    },
    {
     "name": "stdout",
     "output_type": "stream",
     "text": [
      "[1] \"Caudate VS Dentate Gyrus\"\n",
      "[1] \"Caudate VS DLPFC\"\n",
      "[1] \"Caudate VS Hippocampus\"\n",
      "[1] \"Dentate Gyrus VS DLPFC\"\n",
      "[1] \"Dentate Gyrus VS Hippocampus\"\n",
      "[1] \"DLPFC VS Dentate Gyrus\"\n",
      "[1] \"DLPFC VS Hippocampus\"\n"
     ]
    },
    {
     "name": "stderr",
     "output_type": "stream",
     "text": [
      "preparing gene to GO mapping data...\n",
      "\n",
      "preparing IC data...\n",
      "\n"
     ]
    },
    {
     "name": "stdout",
     "output_type": "stream",
     "text": [
      "[1] \"Caudate VS Dentate Gyrus\"\n",
      "[1] \"Caudate VS DLPFC\"\n",
      "[1] \"Caudate VS Hippocampus\"\n",
      "[1] \"Dentate Gyrus VS DLPFC\"\n",
      "[1] \"Dentate Gyrus VS Hippocampus\"\n",
      "[1] \"DLPFC VS Dentate Gyrus\"\n",
      "[1] \"DLPFC VS Hippocampus\"\n"
     ]
    },
    {
     "name": "stderr",
     "output_type": "stream",
     "text": [
      "preparing gene to GO mapping data...\n",
      "\n",
      "preparing IC data...\n",
      "\n"
     ]
    },
    {
     "name": "stdout",
     "output_type": "stream",
     "text": [
      "[1] \"Caudate VS Dentate Gyrus\"\n",
      "[1] \"Caudate VS DLPFC\"\n",
      "[1] \"Caudate VS Hippocampus\"\n",
      "[1] \"Dentate Gyrus VS DLPFC\"\n",
      "[1] \"Dentate Gyrus VS Hippocampus\"\n",
      "[1] \"DLPFC VS Dentate Gyrus\"\n",
      "[1] \"DLPFC VS Hippocampus\"\n"
     ]
    },
    {
     "data": {
      "text/html": [
       "<table class=\"dataframe\">\n",
       "<caption>A data.frame: 6 × 6</caption>\n",
       "<thead>\n",
       "\t<tr><th></th><th scope=col>Module_1</th><th scope=col>Module_2</th><th scope=col>Semantic_Similarity</th><th scope=col>Ont</th><th scope=col>Tissue_1</th><th scope=col>Tissue_2</th></tr>\n",
       "\t<tr><th></th><th scope=col>&lt;chr&gt;</th><th scope=col>&lt;chr&gt;</th><th scope=col>&lt;dbl&gt;</th><th scope=col>&lt;chr&gt;</th><th scope=col>&lt;chr&gt;</th><th scope=col>&lt;chr&gt;</th></tr>\n",
       "</thead>\n",
       "<tbody>\n",
       "\t<tr><th scope=row>1</th><td>magenta</td><td>grey     </td><td>0.602</td><td>MF</td><td>Caudate</td><td>Dentate Gyrus</td></tr>\n",
       "\t<tr><th scope=row>2</th><td>magenta</td><td>red      </td><td>0.624</td><td>MF</td><td>Caudate</td><td>Dentate Gyrus</td></tr>\n",
       "\t<tr><th scope=row>3</th><td>magenta</td><td>black    </td><td>1.000</td><td>MF</td><td>Caudate</td><td>Dentate Gyrus</td></tr>\n",
       "\t<tr><th scope=row>4</th><td>magenta</td><td>magenta  </td><td>0.515</td><td>MF</td><td>Caudate</td><td>Dentate Gyrus</td></tr>\n",
       "\t<tr><th scope=row>5</th><td>magenta</td><td>lightcyan</td><td>0.431</td><td>MF</td><td>Caudate</td><td>Dentate Gyrus</td></tr>\n",
       "\t<tr><th scope=row>6</th><td>magenta</td><td>darkgrey </td><td>1.000</td><td>MF</td><td>Caudate</td><td>Dentate Gyrus</td></tr>\n",
       "</tbody>\n",
       "</table>\n"
      ],
      "text/latex": [
       "A data.frame: 6 × 6\n",
       "\\begin{tabular}{r|llllll}\n",
       "  & Module\\_1 & Module\\_2 & Semantic\\_Similarity & Ont & Tissue\\_1 & Tissue\\_2\\\\\n",
       "  & <chr> & <chr> & <dbl> & <chr> & <chr> & <chr>\\\\\n",
       "\\hline\n",
       "\t1 & magenta & grey      & 0.602 & MF & Caudate & Dentate Gyrus\\\\\n",
       "\t2 & magenta & red       & 0.624 & MF & Caudate & Dentate Gyrus\\\\\n",
       "\t3 & magenta & black     & 1.000 & MF & Caudate & Dentate Gyrus\\\\\n",
       "\t4 & magenta & magenta   & 0.515 & MF & Caudate & Dentate Gyrus\\\\\n",
       "\t5 & magenta & lightcyan & 0.431 & MF & Caudate & Dentate Gyrus\\\\\n",
       "\t6 & magenta & darkgrey  & 1.000 & MF & Caudate & Dentate Gyrus\\\\\n",
       "\\end{tabular}\n"
      ],
      "text/markdown": [
       "\n",
       "A data.frame: 6 × 6\n",
       "\n",
       "| <!--/--> | Module_1 &lt;chr&gt; | Module_2 &lt;chr&gt; | Semantic_Similarity &lt;dbl&gt; | Ont &lt;chr&gt; | Tissue_1 &lt;chr&gt; | Tissue_2 &lt;chr&gt; |\n",
       "|---|---|---|---|---|---|---|\n",
       "| 1 | magenta | grey      | 0.602 | MF | Caudate | Dentate Gyrus |\n",
       "| 2 | magenta | red       | 0.624 | MF | Caudate | Dentate Gyrus |\n",
       "| 3 | magenta | black     | 1.000 | MF | Caudate | Dentate Gyrus |\n",
       "| 4 | magenta | magenta   | 0.515 | MF | Caudate | Dentate Gyrus |\n",
       "| 5 | magenta | lightcyan | 0.431 | MF | Caudate | Dentate Gyrus |\n",
       "| 6 | magenta | darkgrey  | 1.000 | MF | Caudate | Dentate Gyrus |\n",
       "\n"
      ],
      "text/plain": [
       "  Module_1 Module_2  Semantic_Similarity Ont Tissue_1 Tissue_2     \n",
       "1 magenta  grey      0.602               MF  Caudate  Dentate Gyrus\n",
       "2 magenta  red       0.624               MF  Caudate  Dentate Gyrus\n",
       "3 magenta  black     1.000               MF  Caudate  Dentate Gyrus\n",
       "4 magenta  magenta   0.515               MF  Caudate  Dentate Gyrus\n",
       "5 magenta  lightcyan 0.431               MF  Caudate  Dentate Gyrus\n",
       "6 magenta  darkgrey  1.000               MF  Caudate  Dentate Gyrus"
      ]
     },
     "metadata": {},
     "output_type": "display_data"
    }
   ],
   "source": [
    "datalist1 = list(); datalist2 = list(); datalist3 = list()\n",
    "for(ont in c(\"MF\", \"BP\", \"CC\")){\n",
    "    hsGO = get_semData(ont)\n",
    "    for(tissue1 in c(\"Caudate\", \"Dentate Gyrus\", \"DLPFC\")){\n",
    "        for(tissue2 in c(\"Dentate Gyrus\", \"DLPFC\", \"Hippocampus\")){\n",
    "            if(tissue1 != tissue2){\n",
    "                print(paste(tissue1, \"VS\", tissue2))\n",
    "                datalist1[[tissue2]] = GO_semantic_similarity(ont, tissue1, tissue2, hsGO)\n",
    "            }\n",
    "        }\n",
    "        datalist2[[tissue1]] = bind_rows(datalist1)\n",
    "    }\n",
    "    datalist3[[ont]] = bind_rows(datalist2)\n",
    "}\n",
    "\n",
    "dt = bind_rows(datalist3)\n",
    "dt %>% head"
   ]
  },
  {
   "cell_type": "markdown",
   "metadata": {},
   "source": [
    "## Plot semantic similarity"
   ]
  },
  {
   "cell_type": "code",
   "execution_count": 17,
   "metadata": {},
   "outputs": [],
   "source": [
    "for(tissue1 in c(\"Caudate\", \"Dentate Gyrus\", \"DLPFC\")){\n",
    "    for(tissue2 in c(\"Dentate Gyrus\", \"DLPFC\", \"Hippocampus\")){\n",
    "        if(tissue1 != tissue2){\n",
    "            outfile = paste(\"GO_semantic_similarity\", gsub(\" \", \"\", tissue1), \n",
    "                           gsub(\" \", \"\", tissue2), sep='_')\n",
    "            #print(outfile)\n",
    "            tile_plot = generate_tile_plot(dt, tissue1, tissue2)\n",
    "            save_img(tile_plot, outfile, w=10, h=5)\n",
    "        }\n",
    "    }\n",
    "}"
   ]
  },
  {
   "cell_type": "markdown",
   "metadata": {},
   "source": [
    "## Reproducibility Information"
   ]
  },
  {
   "cell_type": "code",
   "execution_count": null,
   "metadata": {},
   "outputs": [],
   "source": [
    "Sys.time()\n",
    "proc.time()\n",
    "options(width = 120)\n",
    "sessioninfo::session_info()"
   ]
  }
 ],
 "metadata": {
  "kernelspec": {
   "display_name": "R",
   "language": "R",
   "name": "ir"
  },
  "language_info": {
   "codemirror_mode": "r",
   "file_extension": ".r",
   "mimetype": "text/x-r-source",
   "name": "R",
   "pygments_lexer": "r",
   "version": "4.0.3"
  }
 },
 "nbformat": 4,
 "nbformat_minor": 4
}
