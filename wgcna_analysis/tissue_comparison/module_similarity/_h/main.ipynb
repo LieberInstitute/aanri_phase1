{
 "cells": [
  {
   "cell_type": "markdown",
   "metadata": {},
   "source": [
    "# GO semantic similarity analysis"
   ]
  },
  {
   "cell_type": "code",
   "execution_count": null,
   "metadata": {},
   "outputs": [],
   "source": [
    "suppressPackageStartupMessages({\n",
    "    library(dplyr)\n",
    "    library(ggplot2)\n",
    "    library(GOSemSim)\n",
    "    library(org.Hs.eg.db)\n",
    "})"
   ]
  },
  {
   "cell_type": "markdown",
   "metadata": {},
   "source": [
    "## Functions"
   ]
  },
  {
   "cell_type": "code",
   "execution_count": null,
   "metadata": {},
   "outputs": [],
   "source": [
    "config_mods = list(\"Caudate\"=\"../../../caudate/goatools/_m/\", \n",
    "                  \"Dentate Gyrus\"=\"../../../dentateGyrus/goatools/_m/\", \n",
    "                  \"DLPFC\"=\"../../../dlpfc/goatools/_m/\", \n",
    "                  \"Hippocampus\"=\"../../../hippocampus/goatools/_m/\")\n",
    "config_sig_mods = list(\"Caudate\"=c(\"violet\"), \n",
    "                      \"Dentate Gyrus\"=c(\"black\", \"darkgrey\", \"darkolivegreen\", \n",
    "                                        \"grey\", \"grey60\", \"lightcyan\", \"magenta\", \n",
    "                                        \"skyblue\"),\n",
    "                       \"DLPFC\"=c(\"black\", \"cyan\", \"darkred\", \"darkturquoise\"),\n",
    "                       \"Hippocampus\"=c(\"brown\"))"
   ]
  },
  {
   "cell_type": "code",
   "execution_count": null,
   "metadata": {},
   "outputs": [],
   "source": [
    "get_semData <- function(ont){\n",
    "    return(godata('org.Hs.eg.db', ont=ont))\n",
    "}\n",
    "\n",
    "GO_semantic_similarity <- function(ont, tissue1, tissue2, hgGO){\n",
    "    mod1 = c(); mod2 = c(); ss = c(); t1 = c(); t2 = c()\n",
    "    for(module1 in config_sig_mods[[tissue1]]){\n",
    "        fn1 = paste0(config_mods[[tissue1]], \"GO_analysis_module_\",module1,\".xlsx\")\n",
    "        for(module2 in config_sig_mods[[tissue2]]){\n",
    "            fn2 = paste0(config_mods[[tissue2]], \"GO_analysis_module_\",module2,\".xlsx\")\n",
    "            if(file.exists(fn1) & file.exists(fn2)){\n",
    "                df1 = readxl::read_excel(fn1) %>% filter(NS == ont)\n",
    "                df2 = readxl::read_excel(fn2) %>% filter(NS == ont)\n",
    "                sim = mgoSim(df1$GO, df2$GO, semData=hsGO, \n",
    "                             measure=\"Wang\", combine=\"BMA\")\n",
    "                mod1 = c(mod1, module1); mod2 = c(mod2, module2)\n",
    "                ss = c(ss, sim); t1 = c(t1, tissue1); t2 = c(t2, tissue2)\n",
    "            }\n",
    "        }\n",
    "    }\n",
    "    return(data.frame(\"Module_1\"=mod1, \"Module_2\"=mod2, \"Semantic_Similarity\"=ss, \n",
    "                      \"Ont\"=ont, \"Tissue_1\"=t1, \"Tissue_2\"=t2))\n",
    "}\n",
    "\n",
    "save_img <- function(image, fn, w=7, h=7){\n",
    "    for(ext in c(\".pdf\", \".png\")){\n",
    "        ggsave(file=paste0(fn, ext), plot=image, width=w, height=h)\n",
    "    }\n",
    "}"
   ]
  },
  {
   "cell_type": "code",
   "execution_count": null,
   "metadata": {},
   "outputs": [],
   "source": [
    "generate_tile_plot <- function(dt, tissue1, tissue2){\n",
    "    tile_plot = dt %>% filter(Tissue_1 == tissue1, Tissue_2 == tissue2) %>%\n",
    "    ggplot(aes(x=Module_1, y=Module_2, fill=Semantic_Similarity, \n",
    "               label=format(round(Semantic_Similarity, 1)))) + \n",
    "    geom_tile(color=\"grey\") + ggfittext::geom_fit_text(contrast=TRUE) + \n",
    "    viridis::scale_color_viridis(option=\"magma\") + facet_wrap(\"~Ont\") +\n",
    "    viridis::scale_fill_viridis(name=\"Semantic Similarity\", limits=c(0,1),\n",
    "                                direction=-1, option=\"magma\") +\n",
    "    labs(x=tissue1, y=tissue2) + ggpubr::theme_pubr(base_size=15, border=TRUE) +\n",
    "    theme(axis.text.x=element_text(angle = 45, hjust=1), \n",
    "          strip.text=element_text(face=\"bold\"), \n",
    "          legend.key.width=unit(2, 'cm'))\n",
    "    return(tile_plot)\n",
    "}"
   ]
  },
  {
   "cell_type": "markdown",
   "metadata": {},
   "source": [
    "## Semantic similarity analysis"
   ]
  },
  {
   "cell_type": "code",
   "execution_count": null,
   "metadata": {},
   "outputs": [],
   "source": [
    "datalist1 = list(); datalist2 = list(); datalist3 = list()\n",
    "for(ont in c(\"MF\", \"BP\", \"CC\")){\n",
    "    hsGO = get_semData(ont)\n",
    "    for(tissue1 in c(\"Caudate\", \"Dentate Gyrus\", \"DLPFC\")){\n",
    "        for(tissue2 in c(\"Dentate Gyrus\", \"DLPFC\", \"Hippocampus\")){\n",
    "            if(tissue1 != tissue2){\n",
    "                print(paste(tissue1, \"VS\", tissue2))\n",
    "                datalist1[[tissue2]] = GO_semantic_similarity(ont, tissue1, tissue2, hsGO)\n",
    "            }\n",
    "        }\n",
    "        datalist2[[tissue1]] = bind_rows(datalist1)\n",
    "    }\n",
    "    datalist3[[ont]] = bind_rows(datalist2)\n",
    "}\n",
    "\n",
    "dt = bind_rows(datalist3)\n",
    "dt %>% head"
   ]
  },
  {
   "cell_type": "markdown",
   "metadata": {},
   "source": [
    "## Plot semantic similarity"
   ]
  },
  {
   "cell_type": "code",
   "execution_count": null,
   "metadata": {},
   "outputs": [],
   "source": [
    "for(tissue1 in c(\"Caudate\", \"Dentate Gyrus\", \"DLPFC\")){\n",
    "    for(tissue2 in c(\"Dentate Gyrus\", \"DLPFC\", \"Hippocampus\")){\n",
    "        if(tissue1 != tissue2){\n",
    "            outfile = paste(\"GO_semantic_similarity\", gsub(\" \", \"\", tissue1), \n",
    "                           gsub(\" \", \"\", tissue2), sep='_')\n",
    "            #print(outfile)\n",
    "            tile_plot = generate_tile_plot(dt, tissue1, tissue2)\n",
    "            save_img(tile_plot, outfile, w=10, h=5)\n",
    "        }\n",
    "    }\n",
    "}"
   ]
  },
  {
   "cell_type": "markdown",
   "metadata": {},
   "source": [
    "## Reproducibility Information"
   ]
  },
  {
   "cell_type": "code",
   "execution_count": null,
   "metadata": {},
   "outputs": [],
   "source": [
    "Sys.time()\n",
    "proc.time()\n",
    "options(width = 120)\n",
    "sessioninfo::session_info()"
   ]
  }
 ],
 "metadata": {
  "kernelspec": {
   "display_name": "R",
   "language": "R",
   "name": "ir"
  },
  "language_info": {
   "codemirror_mode": "r",
   "file_extension": ".r",
   "mimetype": "text/x-r-source",
   "name": "R",
   "pygments_lexer": "r",
   "version": "4.0.3"
  }
 },
 "nbformat": 4,
 "nbformat_minor": 4
}
