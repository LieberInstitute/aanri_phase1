{
 "cells": [
  {
   "cell_type": "markdown",
   "metadata": {},
   "source": [
    "# Examining module preservation"
   ]
  },
  {
   "cell_type": "code",
   "execution_count": null,
   "metadata": {},
   "outputs": [],
   "source": [
    "suppressPackageStartupMessages({\n",
    "    library(WGCNA)\n",
    "    library(clusterRepro)\n",
    "})"
   ]
  },
  {
   "cell_type": "markdown",
   "metadata": {},
   "source": [
    "## Load data"
   ]
  },
  {
   "cell_type": "code",
   "execution_count": null,
   "metadata": {},
   "outputs": [],
   "source": [
    "load(\"../../_m/01.RData\", verbose=TRUE)\n",
    "load(\"../../_m/02.RData\", verbose=TRUE)\n",
    "load(\"../../_m/03.RData\", verbose=TRUE)"
   ]
  },
  {
   "cell_type": "markdown",
   "metadata": {},
   "source": [
    "## Generate color list"
   ]
  },
  {
   "cell_type": "code",
   "execution_count": null,
   "metadata": {},
   "outputs": [],
   "source": [
    "colorAA = moduleColors\n",
    "colorEA = moduleColors\n",
    "colorList = list(colorAA, colorEA)\n",
    "names(colorList) = shortLabels"
   ]
  },
  {
   "cell_type": "markdown",
   "metadata": {},
   "source": [
    "## Module preservation"
   ]
  },
  {
   "cell_type": "code",
   "execution_count": null,
   "metadata": {},
   "outputs": [],
   "source": [
    "#enableWGCNAThreads()\n",
    "#mp = modulePreservation(multiExpr, colorList, \n",
    "#                        parallelCalculation=TRUE, \n",
    "#                        referenceNetworks = c(1:2),\n",
    "#                        loadPermutedStatistics = FALSE, \n",
    "#                        corFnc=\"bicor\", networkType=\"signed\",\n",
    "#                        nPermutations=200, verbose=3, randomSeed=13)\n",
    "#save(mp, file=\"04.RData\")\n",
    "load(\"../_m/04.RData\")"
   ]
  },
  {
   "cell_type": "markdown",
   "metadata": {},
   "source": [
    "## Calculation of In-Group proportion"
   ]
  },
  {
   "cell_type": "code",
   "execution_count": null,
   "metadata": {},
   "outputs": [],
   "source": [
    "impExpr = list()\n",
    "nSets = exprSize$nSets\n",
    "for(set in 1:nSets){\n",
    "    impExpr[[set]] = list(data=t(impute::impute.knn(t(multiExpr[[set]]$data))$data))\n",
    "}"
   ]
  },
  {
   "cell_type": "code",
   "execution_count": null,
   "metadata": {},
   "outputs": [],
   "source": [
    "eigengenes = list()\n",
    "for(set in 1:nSets){\n",
    "    eigengenes[[set]] = multiSetMEs(impExpr, universalColors=colorList[[set]], \n",
    "                                    excludeGrey=TRUE)\n",
    "    for(ss in 1:nSets){\n",
    "        rownames(eigengenes[[set]][[ss]]$data) = rownames(multiExpr[[ss]]$data)\n",
    "    }\n",
    "}"
   ]
  },
  {
   "cell_type": "code",
   "execution_count": null,
   "metadata": {},
   "outputs": [],
   "source": [
    "## In-Group Proportion\n",
    "cr = list()\n",
    "set.seed(13)\n",
    "for(ref in 1:nSets){\n",
    "    cr[[ref]] = list()\n",
    "    for(test in 1:nSets){\n",
    "        cr[[ref]][[test]] = clusterRepro(Centroids=as.matrix(eigengenes[[ref]][[test]]$data), \n",
    "                                         New.data=as.matrix(impExpr[[test]]$data), \n",
    "                                         Number.of.permutations=10000)\n",
    "        collectGarbage()\n",
    "    }\n",
    "}\n",
    "save(cr, file=\"05.RData\")"
   ]
  },
  {
   "cell_type": "markdown",
   "metadata": {},
   "source": [
    "## Display module preservation"
   ]
  },
  {
   "cell_type": "code",
   "execution_count": null,
   "metadata": {},
   "outputs": [],
   "source": [
    "ref = 2\n",
    "test = 1\n",
    "statsObs = cbind(mp$quality$observed[[ref]][[test]][, -1], \n",
    "                 mp$preservation$observed[[ref]][[test]][, -1])\n",
    "statsZ = cbind(mp$quality$Z[[ref]][[test]][, -1], \n",
    "               mp$preservation$Z[[ref]][[test]][, -1])"
   ]
  },
  {
   "cell_type": "code",
   "execution_count": null,
   "metadata": {},
   "outputs": [],
   "source": [
    "print(signif(statsZ[, \"Zsummary.pres\", drop=FALSE], 2))\n",
    "print(signif(statsZ[, c(\"Zsummary.pres\", \"Zsummary.qual\")], 2))"
   ]
  },
  {
   "cell_type": "markdown",
   "metadata": {},
   "source": [
    "## Reproducibility Information"
   ]
  },
  {
   "cell_type": "code",
   "execution_count": null,
   "metadata": {},
   "outputs": [],
   "source": [
    "Sys.time()\n",
    "proc.time()\n",
    "options(width = 120)\n",
    "sessioninfo::session_info()"
   ]
  }
 ],
 "metadata": {
  "kernelspec": {
   "display_name": "R",
   "language": "R",
   "name": "ir"
  },
  "language_info": {
   "codemirror_mode": "r",
   "file_extension": ".r",
   "mimetype": "text/x-r-source",
   "name": "R",
   "pygments_lexer": "r",
   "version": "4.0.3"
  }
 },
 "nbformat": 4,
 "nbformat_minor": 4
}
