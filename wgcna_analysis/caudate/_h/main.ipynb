{
 "cells": [
  {
   "cell_type": "markdown",
   "metadata": {},
   "source": [
    "# WGCNA\n",
    "\n",
    "- @author = 'Apua Paquola'\n",
    "- Edits by K.J. Benjamin\n",
    "- Edits2 by Arthur S. Feltrin \n",
    "  - New scale-free plots, export data to create network on cytoscape/igraph and format for jupyter notebook (05/2019)\n",
    "  - Conversion from Rscript to jupyter notebook\n",
    "\n",
    "#### Final edits by K.J. Benjamin for publication"
   ]
  },
  {
   "cell_type": "code",
   "execution_count": null,
   "metadata": {},
   "outputs": [],
   "source": [
    "PARAM_NETWORK_TYPE = 'signed'"
   ]
  },
  {
   "cell_type": "markdown",
   "metadata": {},
   "source": [
    "## Prepare Data and Traits Table"
   ]
  },
  {
   "cell_type": "code",
   "execution_count": null,
   "metadata": {},
   "outputs": [],
   "source": [
    "filter_outliers = function(expression, z_threshold = 2.5)\n",
    "{\n",
    "     # Input: an expression matrix\n",
    "     # Output: an expression matrix with outliers removed\n",
    "     # Remove samples with z normalized total distance from other samples > z_threshold\n",
    "     \n",
    "     sample_distance = dist(expression)\n",
    "     dist_z = scale(colSums(as.matrix(sample_distance)))\n",
    "     stopifnot(all(rownames(dist_z) == rownames(expression)))\n",
    "     \n",
    "     keepSamples = dist_z < z_threshold\n",
    "      \n",
    "     new_expression = expression[keepSamples,]\n",
    "     new_expression\n",
    "}"
   ]
  },
  {
   "cell_type": "code",
   "execution_count": null,
   "metadata": {},
   "outputs": [],
   "source": [
    "prepare_data=function()\n",
    "{\n",
    "  suppressMessages(library(dplyr))\n",
    "  # Load sample data\n",
    "  load(\"../../../differential_analysis/caudate/_m/genes/voomSVA.RData\")\n",
    "  sample_table = v$design %>% as.data.frame %>% select(-Intercept) %>%\n",
    "    rename(\"Ancestry\"=\"EA\", \"Sex\"=\"Male\") #%>% select(Ancestry, Sex, Age)\n",
    "    \n",
    "  # Load residualized expression\n",
    "  vsd <- data.table::fread(\"../../../differential_analysis/caudate/_m/genes/residualized_expression.tsv\") %>%\n",
    "    replace(is.na(.), \"\") %>% tibble::column_to_rownames(\"V1\")\n",
    "  print(dim(vsd))\n",
    "\n",
    "  # Keep only the columns and rows that are present in\n",
    "  # both the sample table and vsd file\n",
    "  samples = intersect(colnames(vsd), rownames(sample_table))\n",
    "  vsd = vsd[,samples]\n",
    "  sample_table = sample_table[samples,]\n",
    "  \n",
    "  # WGCNA data import\n",
    "  suppressMessages(library(WGCNA))\n",
    "  options(stringsAsFactors = FALSE)\n",
    "  datExpr0 = t(vsd)\n",
    "  \n",
    "  # Remove offending genes and samples from the data\n",
    "  gsg = goodSamplesGenes(datExpr0, verbose = 3);\n",
    "  if (!gsg$allOK)\n",
    "  {\n",
    "    datExpr0 = datExpr0[gsg$goodSamples, gsg$goodGenes]\n",
    "  }\n",
    "  datExpr=datExpr0\n",
    "  # Remove outliers\n",
    "  datExpr = filter_outliers(datExpr0, z_threshold = 2.5)\n",
    "  rm(datExpr0)\n",
    "  # Clean data\n",
    "  samples = intersect(rownames(datExpr), rownames(sample_table))\n",
    "  sample_table = sample_table[samples,]\n",
    "  datExpr = datExpr[samples,]\n",
    "  print(dim(datExpr))\n",
    "  save(datExpr, sample_table, file = '00.RData')\n",
    "}"
   ]
  },
  {
   "cell_type": "markdown",
   "metadata": {},
   "source": [
    "## Create Sample Dendogram Based on Distance (h)"
   ]
  },
  {
   "cell_type": "code",
   "execution_count": null,
   "metadata": {},
   "outputs": [],
   "source": [
    "prepare_traits = function()\n",
    "{\n",
    "    lnames = load('00.RData')\n",
    "    # Associate traits with samples\n",
    "    traitRows = match(rownames(datExpr), rownames(sample_table))\n",
    "    datTraits = sample_table[traitRows,]\n",
    "    # Diagnostic plot: Sample dendrogram and trait heatmap\n",
    "    pdf(file='sample_dendrogram_and_trait_heatmap.pdf',height=22,width = 26)\n",
    "    sampleTree2 = hclust(dist(datExpr), method = \"average\")\n",
    "    # Convert traits to a color representation: white means\n",
    "    # low, red means high, grey means missing entry\n",
    "    traitColors = numbers2colors(traitRows, signed=FALSE);\n",
    "    # Plot the sample dendrogram and the colors underneath.\n",
    "    plotDendroAndColors(sampleTree2, traitColors, groupLabels=\"Avg. Counts\",\n",
    "                        main = \"Sample dendrogram and trait heatmap\",\n",
    "                        cex.dendroLabels=0.7)\n",
    "    dev.off()\n",
    "    # Print output\n",
    "    plotDendroAndColors(sampleTree2, traitColors, groupLabels=\"Avg. Counts\",\n",
    "                        main = \"Sample dendrogram and trait heatmap\",\n",
    "                        cex.dendroLabels=0.75) \n",
    "    save(datExpr, sample_table, datTraits, file = \"01.RData\")\n",
    "}"
   ]
  },
  {
   "cell_type": "markdown",
   "metadata": {},
   "source": [
    "## Calculate Scale-Free Topology"
   ]
  },
  {
   "cell_type": "code",
   "execution_count": null,
   "metadata": {},
   "outputs": [],
   "source": [
    "plot_power_parameter=function(datExpr, plot_filename)\n",
    "{\n",
    "    # Choose a set of soft-thresholding powers\n",
    "    powers = seq(from = 1, to=30, by=1)\n",
    "    # Call the network topology analysis function\n",
    "    sft = pickSoftThreshold(datExpr, networkType = PARAM_NETWORK_TYPE, \n",
    "                            powerVector = powers, verbose = 5)\n",
    "    # Plot the results:\n",
    "    pdf(file=plot_filename)\n",
    "    par(mfcol = c(2,2));\n",
    "    par(mar = c(4.2, 4.5 , 2.2, 0.5),oma=c(0,0,2,0))\n",
    "    cex1 = 0.7;\n",
    "    # Scale-free topology fit index as a function of the\n",
    "    # soft-thresholding power\n",
    "    plot(sft$fitIndices[,1], -sign(sft$fitIndices[,3])*sft$fitIndices[,2],\n",
    "         xlab=\"Soft Threshold (power)\",\n",
    "         ylab=\"Scale Free Topology Model Fit,signed R^2\",type=\"n\",\n",
    "         main = paste(\"Scale independence\"))\n",
    "    text(sft$fitIndices[,1], -sign(sft$fitIndices[,3])*sft$fitIndices[,2],\n",
    "         labels=powers,cex=cex1,col=\"blue\");\n",
    "    # this line corresponds to using an R^2 cut-off of h\n",
    "    abline(h=0.80,col=\"red\")\n",
    "    # Mean connectivity as a function of the soft-thresholding power\n",
    "    plot(sft$fitIndices[,1], sft$fitIndices[,5],\n",
    "         xlab=\"Soft Threshold (power)\", ylab=\"Mean Connectivity\", \n",
    "         type=\"n\", main = paste(\"Mean connectivity\"))\n",
    "    text(sft$fitIndices[,1], sft$fitIndices[,5], labels=powers, cex=cex1,col=\"blue\")\n",
    "    #####\n",
    "    plot(sft$fitIndices[,1], sft$fitIndices[,6],\n",
    "         xlab=\"Soft Threshold (power)\", ylab=\"Median Connectivity\", \n",
    "         type=\"n\", main = paste(\"Median connectivity\"))\n",
    "    text(sft$fitIndices[,1], sft$fitIndices[,6], labels=powers, cex=cex1,col=\"blue\")\n",
    "    #####\n",
    "    plot(sft$fitIndices[,1], sft$fitIndices[,7],\n",
    "         xlab=\"Soft Threshold (power)\", ylab=\"Max Connectivity\", \n",
    "         type=\"n\", main = paste(\"Max connectivity\"))\n",
    "    text(sft$fitIndices[,1], sft$fitIndices[,7], labels=powers, cex=cex1,col=\"blue\")\n",
    "    dev.off()\n",
    "    ####plot on jupyter\n",
    "    par(mfcol = c(2,2));\n",
    "    par(mar = c(4.2, 4.5 , 2.2, 0.5),oma=c(0,0,2,0))\n",
    "    cex1 = 0.7;\n",
    "    # Scale-free topology fit index as a function of the\n",
    "    # soft-thresholding power\n",
    "    plot(sft$fitIndices[,1], -sign(sft$fitIndices[,3])*sft$fitIndices[,2],\n",
    "         xlab=\"Soft Threshold (power)\",\n",
    "         ylab=\"Scale Free Topology Model Fit,signed R^2\",type=\"n\",\n",
    "         main = paste(\"Scale independence\"))\n",
    "    text(sft$fitIndices[,1], -sign(sft$fitIndices[,3])*sft$fitIndices[,2],\n",
    "         labels=powers,cex=cex1,col=\"blue\");\n",
    "    # this line corresponds to using an R^2 cut-off of h\n",
    "    abline(h=0.80,col=\"red\")\n",
    "    # Mean connectivity as a function of the soft-thresholding power\n",
    "    plot(sft$fitIndices[,1], sft$fitIndices[,5],\n",
    "         xlab=\"Soft Threshold (power)\", ylab=\"Mean Connectivity\", \n",
    "         type=\"n\", main = paste(\"Mean connectivity\"))\n",
    "    text(sft$fitIndices[,1], sft$fitIndices[,5], labels=powers, cex=cex1,col=\"blue\")\n",
    "    #####\n",
    "    plot(sft$fitIndices[,1], sft$fitIndices[,6],\n",
    "         xlab=\"Soft Threshold (power)\", ylab=\"Median Connectivity\", \n",
    "         type=\"n\", main = paste(\"Median connectivity\"))\n",
    "    text(sft$fitIndices[,1], sft$fitIndices[,6], labels=powers, cex=cex1,col=\"blue\")\n",
    "    #####\n",
    "    plot(sft$fitIndices[,1], sft$fitIndices[,7],\n",
    "         xlab=\"Soft Threshold (power)\",ylab=\"Max Connectivity\", type=\"n\",\n",
    "         main = paste(\"Max connectivity\"))\n",
    "    text(sft$fitIndices[,1], sft$fitIndices[,7], labels=powers, cex=cex1,col=\"blue\")\n",
    "}"
   ]
  },
  {
   "cell_type": "code",
   "execution_count": null,
   "metadata": {},
   "outputs": [],
   "source": [
    "figure_out_power_parameter=function()\n",
    "{\n",
    "    library(WGCNA)\n",
    "    options(stringsAsFactors = FALSE);\n",
    "    #enableWGCNAThreads(nThreads=16)\n",
    "    lnames = load(file = '01.RData')\n",
    "    plot_power_parameter(datExpr, 'power_parameter_selection.pdf')\n",
    "}"
   ]
  },
  {
   "cell_type": "markdown",
   "metadata": {},
   "source": [
    "## Build the Network"
   ]
  },
  {
   "cell_type": "code",
   "execution_count": null,
   "metadata": {},
   "outputs": [],
   "source": [
    "construct_network=function()\n",
    "{\n",
    "  library(WGCNA)\n",
    "  options(stringsAsFactors = FALSE);\n",
    "  enableWGCNAThreads(nThreads=16)\n",
    "  lnames = load(file = \"01.RData\")\n",
    "  \n",
    "  # softPower value from previous plot power_parameter_selection.pdf\n",
    "  softPower = 9; #Based on the hippocampus\n",
    "  # ALWAYS choose a value equal or above (better) 0.8 \n",
    "  cor <- WGCNA::cor\n",
    "  net = blockwiseModules(datExpr, maxBlockSize=30000, \n",
    "                         power = softPower, deepSplit = 3,\n",
    "                         networkType = PARAM_NETWORK_TYPE,\n",
    "                         TOMType = PARAM_NETWORK_TYPE, \n",
    "                         numericLabels = TRUE, corType = \"bicor\",\n",
    "                         saveTOMs = TRUE, mergeCutHeight = 0.1,\n",
    "                         saveTOMFileBase = \"TOM\",\n",
    "                         verbose = 3)\n",
    "  \n",
    "  moduleLabels = net$colors\n",
    "  moduleColors = labels2colors(net$colors)\n",
    "  MEs = net$MEs;\n",
    "  geneTree = net$dendrograms[[1]];\n",
    "  save(net, MEs, moduleLabels, moduleColors, geneTree, softPower, file = \"02.RData\")\n",
    "}\n",
    "#cyt = exportNetworkToCytoscape(modTOM,"
   ]
  },
  {
   "cell_type": "markdown",
   "metadata": {},
   "source": [
    "## Use Topology Overlap Matrix (TOM) to cluster the genes on the networks into different modules"
   ]
  },
  {
   "cell_type": "code",
   "execution_count": null,
   "metadata": {},
   "outputs": [],
   "source": [
    "plot_cluster_dendrogram=function()\n",
    "{\n",
    "    library(WGCNA)\n",
    "    options(stringsAsFactors = FALSE);\n",
    "    enableWGCNAThreads(nThreads=16)\n",
    "    load(file = \"02.RData\")\n",
    "    pdf(file=\"cluster_dendrogram.pdf\",height=16,width = 22)\n",
    "    mergedColors = labels2colors(net$colors)\n",
    "    plotDendroAndColors(net$dendrograms[[1]], mergedColors[net$blockGenes[[1]]],\n",
    "                        \"Module Colors\", dendroLabels = FALSE, hang = 0.03,\n",
    "                        addGuide = TRUE, guideHang = 0.05, cex.dendroLabels=0.3)\n",
    "    dev.off()\n",
    "    # Print output\n",
    "    plotDendroAndColors(net$dendrograms[[1]], mergedColors[net$blockGenes[[1]]],\n",
    "                      \"Module Colors\", dendroLabels = FALSE, hang = 0.03,\n",
    "                      addGuide = TRUE, guideHang = 0.05, cex.dendroLabels=0.3)   \n",
    "}"
   ]
  },
  {
   "cell_type": "markdown",
   "metadata": {},
   "source": [
    "## Use Pearson Correlation to measure the correlation between each module eigenvalue (kME) and the various sample traits"
   ]
  },
  {
   "cell_type": "code",
   "execution_count": null,
   "metadata": {},
   "outputs": [],
   "source": [
    "correlate_with_traits=function()\n",
    "{\n",
    "    library(WGCNA)\n",
    "    options(stringsAsFactors = FALSE)\n",
    "    enableWGCNAThreads(nThreads=16)\n",
    "    lnames = load(file = \"01.RData\")\n",
    "    lnames = load(file = \"02.RData\")\n",
    "    # Define numbers of genes and samples\n",
    "    nGenes = ncol(datExpr);\n",
    "    nSamples = nrow(datExpr);\n",
    "    # Recalculate MEs with color labels\n",
    "    MEs0 = moduleEigengenes(datExpr, moduleColors)$eigengenes\n",
    "    MEs = orderMEs(MEs0)\n",
    "    moduleTraitCor = cor(MEs, datTraits, use = \"p\");\n",
    "    moduleTraitPvalue = corPvalueStudent(moduleTraitCor, nSamples);\n",
    "    # Plot\n",
    "    pdf(file=\"module_trait_relationships.pdf\", height=16,width = 22)\n",
    "    # Will display correlations and their p-values\n",
    "    textMatrix = paste(signif(moduleTraitCor, 2), \"\\n(\",\n",
    "                       signif(moduleTraitPvalue, 1), \")\", sep = \"\");\n",
    "    dim(textMatrix) = dim(moduleTraitCor)\n",
    "    par(mar = c(6, 8.5, 3, 3));\n",
    "    # Display the correlation values within a heatmap plot\n",
    "    labeledHeatmap(Matrix = moduleTraitCor,\n",
    "                   xLabels = names(datTraits), \n",
    "                   yLabels = names(MEs),\n",
    "                   ySymbols = names(MEs),\n",
    "                   colorLabels = FALSE,\n",
    "                   naColor = \"grey\",\n",
    "                   colors = blueWhiteRed(50),\n",
    "                   textMatrix = textMatrix,\n",
    "                   setStdMargins = FALSE,\n",
    "                   cex.text = 0.9,\n",
    "                   zlim = c(-1,1),\n",
    "                   main = paste(\"Module kME-Trait Correlation\"))\n",
    "    dev.off()\n",
    "    # Print output\n",
    "    textMatrix = paste(signif(moduleTraitCor, 2), \"\\n(\",\n",
    "                       signif(moduleTraitPvalue, 1), \")\", sep = \"\");\n",
    "    dim(textMatrix) = dim(moduleTraitCor)\n",
    "    par(mar = c(12, 6.5, 3, 0.5));\n",
    "    # Display the correlation values within a heatmap plot\n",
    "    labeledHeatmap(Matrix = moduleTraitCor, xLabels = names(datTraits),\n",
    "                   yLabels = names(MEs), ySymbols = names(MEs),\n",
    "                   colorLabels = FALSE, naColor = \"grey\",\n",
    "                   colors = blueWhiteRed(50), textMatrix = textMatrix,\n",
    "                   setStdMargins = FALSE, cex.text = 0.55, zlim = c(-1,1),\n",
    "                   main = paste(\"Module kME-Trait Correlation\")) \n",
    "}"
   ]
  },
  {
   "cell_type": "markdown",
   "metadata": {},
   "source": [
    "## Export the main results "
   ]
  },
  {
   "cell_type": "code",
   "execution_count": null,
   "metadata": {},
   "outputs": [],
   "source": [
    "export_eigengene_tables = function()\n",
    "{\n",
    "    library(WGCNA)\n",
    "    options(stringsAsFactors = FALSE)\n",
    "    lnames = load(file = \"01.RData\")\n",
    "    lnames = load(file = \"02.RData\")\n",
    "    # Define numbers of genes and samples\n",
    "    nGenes = ncol(datExpr)\n",
    "    nSamples = nrow(datExpr)\n",
    "    # Recalculate MEs with color labels\n",
    "    MEs0 = moduleEigengenes(datExpr, moduleColors)$eigengenes\n",
    "    rownames(MEs0) = rownames(datExpr)\n",
    "    write.csv(MEs0, 'eigengenes.csv')\n",
    "    # Write modules\n",
    "    modules = data.frame(row.names=colnames(datExpr), module=moduleColors)\n",
    "    write.csv(modules, 'modules.csv')\n",
    "    save(datExpr,softPower,moduleColors, file = \"cytoscapenetwork.Rdata\")\n",
    "}"
   ]
  },
  {
   "cell_type": "markdown",
   "metadata": {},
   "source": [
    "## Run the functions and plot the results "
   ]
  },
  {
   "cell_type": "code",
   "execution_count": null,
   "metadata": {},
   "outputs": [],
   "source": [
    "prepare_data()\n",
    "# 1 - Sample dendrogram and trait heatmap\n",
    "prepare_traits()\n",
    "# 2 - Scale Free Topology Model Fit\n",
    "figure_out_power_parameter()"
   ]
  },
  {
   "cell_type": "code",
   "execution_count": null,
   "metadata": {},
   "outputs": [],
   "source": [
    "construct_network()"
   ]
  },
  {
   "cell_type": "code",
   "execution_count": null,
   "metadata": {},
   "outputs": [],
   "source": [
    "#3 - TOM Dendogram\n",
    "plot_cluster_dendrogram()\n",
    "#4 - Module Eigenvalue Correlation with sample's traits\n",
    "correlate_with_traits()"
   ]
  },
  {
   "cell_type": "code",
   "execution_count": null,
   "metadata": {},
   "outputs": [],
   "source": [
    "export_eigengene_tables()"
   ]
  },
  {
   "cell_type": "markdown",
   "metadata": {},
   "source": [
    "## Repreducibility Information"
   ]
  },
  {
   "cell_type": "code",
   "execution_count": null,
   "metadata": {},
   "outputs": [],
   "source": [
    "Sys.time()\n",
    "proc.time()\n",
    "options(width = 120)\n",
    "sessioninfo::session_info()"
   ]
  }
 ],
 "metadata": {
  "kernelspec": {
   "display_name": "R",
   "language": "R",
   "name": "ir"
  },
  "language_info": {
   "codemirror_mode": "r",
   "file_extension": ".r",
   "mimetype": "text/x-r-source",
   "name": "R",
   "pygments_lexer": "r",
   "version": "4.0.3"
  }
 },
 "nbformat": 4,
 "nbformat_minor": 4
}
