{
 "cells": [
  {
   "cell_type": "markdown",
   "metadata": {},
   "source": [
    "# Exploring the eigen values and correlation with phenotypes"
   ]
  },
  {
   "cell_type": "code",
   "execution_count": 1,
   "metadata": {
    "execution": {
     "iopub.execute_input": "2021-10-01T17:00:26.320545Z",
     "iopub.status.busy": "2021-10-01T17:00:26.317017Z",
     "iopub.status.idle": "2021-10-01T17:00:34.353760Z",
     "shell.execute_reply": "2021-10-01T17:00:34.352213Z"
    }
   },
   "outputs": [],
   "source": [
    "suppressPackageStartupMessages({\n",
    "    library(ComplexHeatmap)\n",
    "    library(tidyverse)\n",
    "    library(ggpubr)\n",
    "})"
   ]
  },
  {
   "cell_type": "markdown",
   "metadata": {},
   "source": [
    "## Prepare data"
   ]
  },
  {
   "cell_type": "markdown",
   "metadata": {},
   "source": [
    "### Load phenotypes data"
   ]
  },
  {
   "cell_type": "code",
   "execution_count": 2,
   "metadata": {
    "execution": {
     "iopub.execute_input": "2021-10-01T17:00:34.418190Z",
     "iopub.status.busy": "2021-10-01T17:00:34.359020Z",
     "iopub.status.idle": "2021-10-01T17:00:34.498071Z",
     "shell.execute_reply": "2021-10-01T17:00:34.496414Z"
    }
   },
   "outputs": [
    {
     "data": {
      "text/html": [
       "<table class=\"dataframe\">\n",
       "<caption>A data.table: 2 × 12</caption>\n",
       "<thead>\n",
       "\t<tr><th scope=col>V1</th><th scope=col>BrNum</th><th scope=col>RNum</th><th scope=col>Region</th><th scope=col>RIN</th><th scope=col>Age</th><th scope=col>Sex</th><th scope=col>Race</th><th scope=col>Dx</th><th scope=col>mitoRate</th><th scope=col>rRNA_rate</th><th scope=col>overallMapRate</th></tr>\n",
       "\t<tr><th scope=col>&lt;chr&gt;</th><th scope=col>&lt;chr&gt;</th><th scope=col>&lt;chr&gt;</th><th scope=col>&lt;chr&gt;</th><th scope=col>&lt;dbl&gt;</th><th scope=col>&lt;dbl&gt;</th><th scope=col>&lt;chr&gt;</th><th scope=col>&lt;chr&gt;</th><th scope=col>&lt;chr&gt;</th><th scope=col>&lt;dbl&gt;</th><th scope=col>&lt;dbl&gt;</th><th scope=col>&lt;dbl&gt;</th></tr>\n",
       "</thead>\n",
       "<tbody>\n",
       "\t<tr><td>R12864</td><td>Br1303</td><td>R12864</td><td>Caudate</td><td>9.6</td><td>42.98</td><td>F</td><td>AA</td><td>Schizo</td><td>0.03265387</td><td>8.675159e-05</td><td>0.9093498</td></tr>\n",
       "\t<tr><td>R12865</td><td>Br1320</td><td>R12865</td><td>Caudate</td><td>9.5</td><td>53.12</td><td>M</td><td>AA</td><td>Schizo</td><td>0.01978740</td><td>6.976684e-05</td><td>0.8734840</td></tr>\n",
       "</tbody>\n",
       "</table>\n"
      ],
      "text/latex": [
       "A data.table: 2 × 12\n",
       "\\begin{tabular}{llllllllllll}\n",
       " V1 & BrNum & RNum & Region & RIN & Age & Sex & Race & Dx & mitoRate & rRNA\\_rate & overallMapRate\\\\\n",
       " <chr> & <chr> & <chr> & <chr> & <dbl> & <dbl> & <chr> & <chr> & <chr> & <dbl> & <dbl> & <dbl>\\\\\n",
       "\\hline\n",
       "\t R12864 & Br1303 & R12864 & Caudate & 9.6 & 42.98 & F & AA & Schizo & 0.03265387 & 8.675159e-05 & 0.9093498\\\\\n",
       "\t R12865 & Br1320 & R12865 & Caudate & 9.5 & 53.12 & M & AA & Schizo & 0.01978740 & 6.976684e-05 & 0.8734840\\\\\n",
       "\\end{tabular}\n"
      ],
      "text/markdown": [
       "\n",
       "A data.table: 2 × 12\n",
       "\n",
       "| V1 &lt;chr&gt; | BrNum &lt;chr&gt; | RNum &lt;chr&gt; | Region &lt;chr&gt; | RIN &lt;dbl&gt; | Age &lt;dbl&gt; | Sex &lt;chr&gt; | Race &lt;chr&gt; | Dx &lt;chr&gt; | mitoRate &lt;dbl&gt; | rRNA_rate &lt;dbl&gt; | overallMapRate &lt;dbl&gt; |\n",
       "|---|---|---|---|---|---|---|---|---|---|---|---|\n",
       "| R12864 | Br1303 | R12864 | Caudate | 9.6 | 42.98 | F | AA | Schizo | 0.03265387 | 8.675159e-05 | 0.9093498 |\n",
       "| R12865 | Br1320 | R12865 | Caudate | 9.5 | 53.12 | M | AA | Schizo | 0.01978740 | 6.976684e-05 | 0.8734840 |\n",
       "\n"
      ],
      "text/plain": [
       "  V1     BrNum  RNum   Region  RIN Age   Sex Race Dx     mitoRate  \n",
       "1 R12864 Br1303 R12864 Caudate 9.6 42.98 F   AA   Schizo 0.03265387\n",
       "2 R12865 Br1320 R12865 Caudate 9.5 53.12 M   AA   Schizo 0.01978740\n",
       "  rRNA_rate    overallMapRate\n",
       "1 8.675159e-05 0.9093498     \n",
       "2 6.976684e-05 0.8734840     "
      ]
     },
     "metadata": {},
     "output_type": "display_data"
    }
   ],
   "source": [
    "pheno = data.table::fread(\"../../../../input/phenotypes/merged/_m/merged_phenotypes.csv\")\n",
    "pheno %>% head(2)"
   ]
  },
  {
   "cell_type": "code",
   "execution_count": 3,
   "metadata": {
    "execution": {
     "iopub.execute_input": "2021-10-01T17:00:34.505648Z",
     "iopub.status.busy": "2021-10-01T17:00:34.503648Z",
     "iopub.status.idle": "2021-10-01T17:00:34.536255Z",
     "shell.execute_reply": "2021-10-01T17:00:34.534476Z"
    }
   },
   "outputs": [
    {
     "data": {
      "text/html": [
       "<table class=\"dataframe\">\n",
       "<caption>A data.table: 2 × 4</caption>\n",
       "<thead>\n",
       "\t<tr><th scope=col>id</th><th scope=col>Afr</th><th scope=col>Eur</th><th scope=col>group</th></tr>\n",
       "\t<tr><th scope=col>&lt;chr&gt;</th><th scope=col>&lt;dbl&gt;</th><th scope=col>&lt;dbl&gt;</th><th scope=col>&lt;chr&gt;</th></tr>\n",
       "</thead>\n",
       "<tbody>\n",
       "\t<tr><td>Br2374</td><td>0.007</td><td>0.993</td><td>CAUC</td></tr>\n",
       "\t<tr><td>Br1857</td><td>0.001</td><td>0.999</td><td>CAUC</td></tr>\n",
       "</tbody>\n",
       "</table>\n"
      ],
      "text/latex": [
       "A data.table: 2 × 4\n",
       "\\begin{tabular}{llll}\n",
       " id & Afr & Eur & group\\\\\n",
       " <chr> & <dbl> & <dbl> & <chr>\\\\\n",
       "\\hline\n",
       "\t Br2374 & 0.007 & 0.993 & CAUC\\\\\n",
       "\t Br1857 & 0.001 & 0.999 & CAUC\\\\\n",
       "\\end{tabular}\n"
      ],
      "text/markdown": [
       "\n",
       "A data.table: 2 × 4\n",
       "\n",
       "| id &lt;chr&gt; | Afr &lt;dbl&gt; | Eur &lt;dbl&gt; | group &lt;chr&gt; |\n",
       "|---|---|---|---|\n",
       "| Br2374 | 0.007 | 0.993 | CAUC |\n",
       "| Br1857 | 0.001 | 0.999 | CAUC |\n",
       "\n"
      ],
      "text/plain": [
       "  id     Afr   Eur   group\n",
       "1 Br2374 0.007 0.993 CAUC \n",
       "2 Br1857 0.001 0.999 CAUC "
      ]
     },
     "metadata": {},
     "output_type": "display_data"
    }
   ],
   "source": [
    "ancestry = data.table::fread(\"../../../../input/ancestry_structure/structure.out_ancestry_proportion_raceDemo_compare\")\n",
    "ancestry %>% head(2)"
   ]
  },
  {
   "cell_type": "markdown",
   "metadata": {},
   "source": [
    "### Load eigen values"
   ]
  },
  {
   "cell_type": "code",
   "execution_count": 4,
   "metadata": {
    "execution": {
     "iopub.execute_input": "2021-10-01T17:00:34.542792Z",
     "iopub.status.busy": "2021-10-01T17:00:34.540864Z",
     "iopub.status.idle": "2021-10-01T17:00:34.640035Z",
     "shell.execute_reply": "2021-10-01T17:00:34.633090Z"
    }
   },
   "outputs": [
    {
     "data": {
      "text/html": [
       "<style>\n",
       ".list-inline {list-style: none; margin:0; padding: 0}\n",
       ".list-inline>li {display: inline-block}\n",
       ".list-inline>li:not(:last-child)::after {content: \"\\00b7\"; padding: 0 .5ex}\n",
       "</style>\n",
       "<ol class=list-inline><li>230</li><li>38</li></ol>\n"
      ],
      "text/latex": [
       "\\begin{enumerate*}\n",
       "\\item 230\n",
       "\\item 38\n",
       "\\end{enumerate*}\n"
      ],
      "text/markdown": [
       "1. 230\n",
       "2. 38\n",
       "\n",
       "\n"
      ],
      "text/plain": [
       "[1] 230  38"
      ]
     },
     "metadata": {},
     "output_type": "display_data"
    },
    {
     "data": {
      "text/html": [
       "<table class=\"dataframe\">\n",
       "<caption>A data.table: 2 × 5</caption>\n",
       "<thead>\n",
       "\t<tr><th scope=col>V1</th><th scope=col>MEblack</th><th scope=col>MEblue</th><th scope=col>MEbrown</th><th scope=col>MEcyan</th></tr>\n",
       "\t<tr><th scope=col>&lt;chr&gt;</th><th scope=col>&lt;dbl&gt;</th><th scope=col>&lt;dbl&gt;</th><th scope=col>&lt;dbl&gt;</th><th scope=col>&lt;dbl&gt;</th></tr>\n",
       "</thead>\n",
       "<tbody>\n",
       "\t<tr><td>R12872</td><td>-0.040931317</td><td> 0.02966489</td><td> 0.09745435</td><td>-0.06366120</td></tr>\n",
       "\t<tr><td>R12873</td><td>-0.003001924</td><td>-0.03115660</td><td>-0.01174513</td><td> 0.03820389</td></tr>\n",
       "</tbody>\n",
       "</table>\n"
      ],
      "text/latex": [
       "A data.table: 2 × 5\n",
       "\\begin{tabular}{lllll}\n",
       " V1 & MEblack & MEblue & MEbrown & MEcyan\\\\\n",
       " <chr> & <dbl> & <dbl> & <dbl> & <dbl>\\\\\n",
       "\\hline\n",
       "\t R12872 & -0.040931317 &  0.02966489 &  0.09745435 & -0.06366120\\\\\n",
       "\t R12873 & -0.003001924 & -0.03115660 & -0.01174513 &  0.03820389\\\\\n",
       "\\end{tabular}\n"
      ],
      "text/markdown": [
       "\n",
       "A data.table: 2 × 5\n",
       "\n",
       "| V1 &lt;chr&gt; | MEblack &lt;dbl&gt; | MEblue &lt;dbl&gt; | MEbrown &lt;dbl&gt; | MEcyan &lt;dbl&gt; |\n",
       "|---|---|---|---|---|\n",
       "| R12872 | -0.040931317 |  0.02966489 |  0.09745435 | -0.06366120 |\n",
       "| R12873 | -0.003001924 | -0.03115660 | -0.01174513 |  0.03820389 |\n",
       "\n"
      ],
      "text/plain": [
       "  V1     MEblack      MEblue      MEbrown     MEcyan     \n",
       "1 R12872 -0.040931317  0.02966489  0.09745435 -0.06366120\n",
       "2 R12873 -0.003001924 -0.03115660 -0.01174513  0.03820389"
      ]
     },
     "metadata": {},
     "output_type": "display_data"
    }
   ],
   "source": [
    "eigen = data.table::fread(\"../../_m/eigengenes.csv\")\n",
    "modules = eigen %>% select(-V1) %>% colnames\n",
    "eigen %>% dim\n",
    "eigen[1:2, 1:5]"
   ]
  },
  {
   "cell_type": "markdown",
   "metadata": {},
   "source": [
    "### Merge data"
   ]
  },
  {
   "cell_type": "code",
   "execution_count": 5,
   "metadata": {
    "execution": {
     "iopub.execute_input": "2021-10-01T17:00:34.664433Z",
     "iopub.status.busy": "2021-10-01T17:00:34.660464Z",
     "iopub.status.idle": "2021-10-01T17:00:34.725721Z",
     "shell.execute_reply": "2021-10-01T17:00:34.723841Z"
    }
   },
   "outputs": [
    {
     "data": {
      "text/html": [
       "<style>\n",
       ".list-inline {list-style: none; margin:0; padding: 0}\n",
       ".list-inline>li {display: inline-block}\n",
       ".list-inline>li:not(:last-child)::after {content: \"\\00b7\"; padding: 0 .5ex}\n",
       "</style>\n",
       "<ol class=list-inline><li>230</li><li>52</li></ol>\n"
      ],
      "text/latex": [
       "\\begin{enumerate*}\n",
       "\\item 230\n",
       "\\item 52\n",
       "\\end{enumerate*}\n"
      ],
      "text/markdown": [
       "1. 230\n",
       "2. 52\n",
       "\n",
       "\n"
      ],
      "text/plain": [
       "[1] 230  52"
      ]
     },
     "metadata": {},
     "output_type": "display_data"
    },
    {
     "data": {
      "text/html": [
       "<table class=\"dataframe\">\n",
       "<caption>A data.table: 2 × 5</caption>\n",
       "<thead>\n",
       "\t<tr><th scope=col>V1</th><th scope=col>MEblack</th><th scope=col>MEblue</th><th scope=col>MEbrown</th><th scope=col>MEcyan</th></tr>\n",
       "\t<tr><th scope=col>&lt;chr&gt;</th><th scope=col>&lt;dbl&gt;</th><th scope=col>&lt;dbl&gt;</th><th scope=col>&lt;dbl&gt;</th><th scope=col>&lt;dbl&gt;</th></tr>\n",
       "</thead>\n",
       "<tbody>\n",
       "\t<tr><td>R12872</td><td>-0.040931317</td><td> 0.02966489</td><td> 0.09745435</td><td>-0.06366120</td></tr>\n",
       "\t<tr><td>R12873</td><td>-0.003001924</td><td>-0.03115660</td><td>-0.01174513</td><td> 0.03820389</td></tr>\n",
       "</tbody>\n",
       "</table>\n"
      ],
      "text/latex": [
       "A data.table: 2 × 5\n",
       "\\begin{tabular}{lllll}\n",
       " V1 & MEblack & MEblue & MEbrown & MEcyan\\\\\n",
       " <chr> & <dbl> & <dbl> & <dbl> & <dbl>\\\\\n",
       "\\hline\n",
       "\t R12872 & -0.040931317 &  0.02966489 &  0.09745435 & -0.06366120\\\\\n",
       "\t R12873 & -0.003001924 & -0.03115660 & -0.01174513 &  0.03820389\\\\\n",
       "\\end{tabular}\n"
      ],
      "text/markdown": [
       "\n",
       "A data.table: 2 × 5\n",
       "\n",
       "| V1 &lt;chr&gt; | MEblack &lt;dbl&gt; | MEblue &lt;dbl&gt; | MEbrown &lt;dbl&gt; | MEcyan &lt;dbl&gt; |\n",
       "|---|---|---|---|---|\n",
       "| R12872 | -0.040931317 |  0.02966489 |  0.09745435 | -0.06366120 |\n",
       "| R12873 | -0.003001924 | -0.03115660 | -0.01174513 |  0.03820389 |\n",
       "\n"
      ],
      "text/plain": [
       "  V1     MEblack      MEblue      MEbrown     MEcyan     \n",
       "1 R12872 -0.040931317  0.02966489  0.09745435 -0.06366120\n",
       "2 R12873 -0.003001924 -0.03115660 -0.01174513  0.03820389"
      ]
     },
     "metadata": {},
     "output_type": "display_data"
    }
   ],
   "source": [
    "dt = eigen %>% left_join(pheno, by=\"V1\") %>%\n",
    "    inner_join(ancestry, by=c(\"BrNum\"=\"id\"))\n",
    "dt %>% dim\n",
    "dt[1:2, 1:5]"
   ]
  },
  {
   "cell_type": "markdown",
   "metadata": {},
   "source": [
    "## Examine correlation of modules with ancestry"
   ]
  },
  {
   "cell_type": "markdown",
   "metadata": {},
   "source": [
    "### Linear model"
   ]
  },
  {
   "cell_type": "code",
   "execution_count": 6,
   "metadata": {
    "execution": {
     "iopub.execute_input": "2021-10-01T17:00:34.732613Z",
     "iopub.status.busy": "2021-10-01T17:00:34.730806Z",
     "iopub.status.idle": "2021-10-01T17:00:34.989851Z",
     "shell.execute_reply": "2021-10-01T17:00:34.987149Z"
    }
   },
   "outputs": [
    {
     "data": {
      "text/html": [
       "<table class=\"dataframe\">\n",
       "<caption>A data.frame: 3 × 3</caption>\n",
       "<thead>\n",
       "\t<tr><th scope=col>Modules</th><th scope=col>Pvalue</th><th scope=col>FDR</th></tr>\n",
       "\t<tr><th scope=col>&lt;chr&gt;</th><th scope=col>&lt;dbl&gt;</th><th scope=col>&lt;dbl&gt;</th></tr>\n",
       "</thead>\n",
       "<tbody>\n",
       "\t<tr><td>MEmagenta</td><td>0.0425120843</td><td>0.38830793</td></tr>\n",
       "\t<tr><td>MEskyblue</td><td>0.0155758706</td><td>0.28815361</td></tr>\n",
       "\t<tr><td>MEviolet </td><td>0.0002757979</td><td>0.01020452</td></tr>\n",
       "</tbody>\n",
       "</table>\n"
      ],
      "text/latex": [
       "A data.frame: 3 × 3\n",
       "\\begin{tabular}{lll}\n",
       " Modules & Pvalue & FDR\\\\\n",
       " <chr> & <dbl> & <dbl>\\\\\n",
       "\\hline\n",
       "\t MEmagenta & 0.0425120843 & 0.38830793\\\\\n",
       "\t MEskyblue & 0.0155758706 & 0.28815361\\\\\n",
       "\t MEviolet  & 0.0002757979 & 0.01020452\\\\\n",
       "\\end{tabular}\n"
      ],
      "text/markdown": [
       "\n",
       "A data.frame: 3 × 3\n",
       "\n",
       "| Modules &lt;chr&gt; | Pvalue &lt;dbl&gt; | FDR &lt;dbl&gt; |\n",
       "|---|---|---|\n",
       "| MEmagenta | 0.0425120843 | 0.38830793 |\n",
       "| MEskyblue | 0.0155758706 | 0.28815361 |\n",
       "| MEviolet  | 0.0002757979 | 0.01020452 |\n",
       "\n"
      ],
      "text/plain": [
       "  Modules   Pvalue       FDR       \n",
       "1 MEmagenta 0.0425120843 0.38830793\n",
       "2 MEskyblue 0.0155758706 0.28815361\n",
       "3 MEviolet  0.0002757979 0.01020452"
      ]
     },
     "metadata": {},
     "output_type": "display_data"
    }
   ],
   "source": [
    "pvals = c()\n",
    "for(mod in modules){\n",
    "    model = paste0(\"Eur ~ \", mod)\n",
    "    res = anova(lm(model, data=dt))\n",
    "    pvals = c(pvals, res[mod, \"Pr(>F)\"])\n",
    "}\n",
    "fdr <- p.adjust(pvals, method=\"fdr\")\n",
    "df1 = data.frame(\"Modules\"=modules, \"Pvalue\"=pvals, \"FDR\"=fdr)\n",
    "df1 %>% filter(`Pvalue` < 0.05)"
   ]
  },
  {
   "cell_type": "code",
   "execution_count": 7,
   "metadata": {
    "execution": {
     "iopub.execute_input": "2021-10-01T17:00:35.003899Z",
     "iopub.status.busy": "2021-10-01T17:00:34.996846Z",
     "iopub.status.idle": "2021-10-01T17:00:35.072461Z",
     "shell.execute_reply": "2021-10-01T17:00:35.070526Z"
    }
   },
   "outputs": [],
   "source": [
    "df1 %>% mutate(Tissue=\"Caudate\") %>%\n",
    "    data.table::fwrite(\"eigen_correlation_ancestry.tsv\", sep='\\t')"
   ]
  },
  {
   "cell_type": "markdown",
   "metadata": {},
   "source": [
    "### Pearson correlation"
   ]
  },
  {
   "cell_type": "code",
   "execution_count": 8,
   "metadata": {
    "execution": {
     "iopub.execute_input": "2021-10-01T17:00:35.082071Z",
     "iopub.status.busy": "2021-10-01T17:00:35.079607Z",
     "iopub.status.idle": "2021-10-01T17:00:35.151574Z",
     "shell.execute_reply": "2021-10-01T17:00:35.149752Z"
    }
   },
   "outputs": [
    {
     "data": {
      "text/html": [
       "<table class=\"dataframe\">\n",
       "<caption>A data.frame: 3 × 4</caption>\n",
       "<thead>\n",
       "\t<tr><th scope=col>Modules</th><th scope=col>Rho</th><th scope=col>Pvalue</th><th scope=col>FDR</th></tr>\n",
       "\t<tr><th scope=col>&lt;chr&gt;</th><th scope=col>&lt;dbl&gt;</th><th scope=col>&lt;dbl&gt;</th><th scope=col>&lt;dbl&gt;</th></tr>\n",
       "</thead>\n",
       "<tbody>\n",
       "\t<tr><td>MEmagenta</td><td>-0.1338802</td><td>0.0425120843</td><td>0.38830793</td></tr>\n",
       "\t<tr><td>MEskyblue</td><td>-0.1593326</td><td>0.0155758706</td><td>0.28815361</td></tr>\n",
       "\t<tr><td>MEviolet </td><td>-0.2376683</td><td>0.0002757979</td><td>0.01020452</td></tr>\n",
       "</tbody>\n",
       "</table>\n"
      ],
      "text/latex": [
       "A data.frame: 3 × 4\n",
       "\\begin{tabular}{llll}\n",
       " Modules & Rho & Pvalue & FDR\\\\\n",
       " <chr> & <dbl> & <dbl> & <dbl>\\\\\n",
       "\\hline\n",
       "\t MEmagenta & -0.1338802 & 0.0425120843 & 0.38830793\\\\\n",
       "\t MEskyblue & -0.1593326 & 0.0155758706 & 0.28815361\\\\\n",
       "\t MEviolet  & -0.2376683 & 0.0002757979 & 0.01020452\\\\\n",
       "\\end{tabular}\n"
      ],
      "text/markdown": [
       "\n",
       "A data.frame: 3 × 4\n",
       "\n",
       "| Modules &lt;chr&gt; | Rho &lt;dbl&gt; | Pvalue &lt;dbl&gt; | FDR &lt;dbl&gt; |\n",
       "|---|---|---|---|\n",
       "| MEmagenta | -0.1338802 | 0.0425120843 | 0.38830793 |\n",
       "| MEskyblue | -0.1593326 | 0.0155758706 | 0.28815361 |\n",
       "| MEviolet  | -0.2376683 | 0.0002757979 | 0.01020452 |\n",
       "\n"
      ],
      "text/plain": [
       "  Modules   Rho        Pvalue       FDR       \n",
       "1 MEmagenta -0.1338802 0.0425120843 0.38830793\n",
       "2 MEskyblue -0.1593326 0.0155758706 0.28815361\n",
       "3 MEviolet  -0.2376683 0.0002757979 0.01020452"
      ]
     },
     "metadata": {},
     "output_type": "display_data"
    }
   ],
   "source": [
    "pvals = c(); est = c()\n",
    "for(mod in modules){\n",
    "    res = cor.test(dt[[\"Eur\"]], dt[[mod]], method=\"pearson\")\n",
    "    pvals = c(pvals, res$p.value)\n",
    "    est = c(est, res$estimate[[1]])\n",
    "}\n",
    "fdr <- p.adjust(pvals, method=\"fdr\")\n",
    "df2 = data.frame(\"Modules\"=modules, \"Rho\"=est, \"Pvalue\"=pvals, \"FDR\"=fdr)\n",
    "df2 %>% filter(Pvalue < 0.05)"
   ]
  },
  {
   "cell_type": "markdown",
   "metadata": {},
   "source": [
    "## Clustering modules"
   ]
  },
  {
   "cell_type": "markdown",
   "metadata": {},
   "source": [
    "### Eigengene clustering"
   ]
  },
  {
   "cell_type": "code",
   "execution_count": 9,
   "metadata": {
    "execution": {
     "iopub.execute_input": "2021-10-01T17:00:35.158220Z",
     "iopub.status.busy": "2021-10-01T17:00:35.156221Z",
     "iopub.status.idle": "2021-10-01T17:00:37.283599Z",
     "shell.execute_reply": "2021-10-01T17:00:37.270593Z"
    }
   },
   "outputs": [
    {
     "data": {
      "text/html": [
       "<strong>png:</strong> 2"
      ],
      "text/latex": [
       "\\textbf{png:} 2"
      ],
      "text/markdown": [
       "**png:** 2"
      ],
      "text/plain": [
       "png \n",
       "  2 "
      ]
     },
     "metadata": {},
     "output_type": "display_data"
    }
   ],
   "source": [
    "set.seed(13)\n",
    "mat = eigen %>% column_to_rownames(\"V1\") %>% as.matrix\n",
    "pdf(\"eigengene_heatmap.pdf\", width=10, height=10)\n",
    "Heatmap(mat, name=\"Eigengene\", column_dend_height=unit(3, \"cm\"), \n",
    "        show_row_names=FALSE, show_row_dend=FALSE, column_km=4)\n",
    "dev.off()"
   ]
  },
  {
   "cell_type": "markdown",
   "metadata": {},
   "source": [
    "### clustering within significant module violet"
   ]
  },
  {
   "cell_type": "code",
   "execution_count": 10,
   "metadata": {
    "execution": {
     "iopub.execute_input": "2021-10-01T17:00:37.318340Z",
     "iopub.status.busy": "2021-10-01T17:00:37.309376Z",
     "iopub.status.idle": "2021-10-01T17:00:39.296946Z",
     "shell.execute_reply": "2021-10-01T17:00:39.295823Z"
    }
   },
   "outputs": [
    {
     "name": "stdout",
     "output_type": "stream",
     "text": [
      "Loading objects:\n",
      "  datExpr\n",
      "  sample_table\n",
      "  datTraits\n"
     ]
    }
   ],
   "source": [
    "load(\"../../_m/01.RData\", verbose=TRUE)\n",
    "MEviolet = data.table::fread(\"../../_m/modules.csv\", header=TRUE) %>% \n",
    "    filter(module == \"violet\")\n",
    "violet.mat = datExpr %>% as.data.frame %>% \n",
    "    select(any_of(MEviolet$V1)) %>% as.matrix"
   ]
  },
  {
   "cell_type": "code",
   "execution_count": 11,
   "metadata": {
    "execution": {
     "iopub.execute_input": "2021-10-01T17:00:39.303623Z",
     "iopub.status.busy": "2021-10-01T17:00:39.301839Z",
     "iopub.status.idle": "2021-10-01T17:00:39.464299Z",
     "shell.execute_reply": "2021-10-01T17:00:39.462956Z"
    }
   },
   "outputs": [
    {
     "data": {
      "text/html": [
       "0"
      ],
      "text/latex": [
       "0"
      ],
      "text/markdown": [
       "0"
      ],
      "text/plain": [
       "[1] 0"
      ]
     },
     "metadata": {},
     "output_type": "display_data"
    }
   ],
   "source": [
    "biomart_file = \"../../../../input/biomart/biomart.csv\"\n",
    "biomart = data.table::fread(biomart_file)\n",
    "annot = data.frame(\"Geneid\"=colnames(violet.mat), \n",
    "                   \"ensembl_gene_id\"=gsub(\"\\\\..*\", \"\", colnames(violet.mat))) %>% \n",
    "    left_join(biomart, by=\"ensembl_gene_id\")\n",
    "annot$external_gene_name %>% is.na %>% sum"
   ]
  },
  {
   "cell_type": "code",
   "execution_count": 12,
   "metadata": {
    "execution": {
     "iopub.execute_input": "2021-10-01T17:00:39.470208Z",
     "iopub.status.busy": "2021-10-01T17:00:39.468707Z",
     "iopub.status.idle": "2021-10-01T17:00:39.482033Z",
     "shell.execute_reply": "2021-10-01T17:00:39.480597Z"
    }
   },
   "outputs": [],
   "source": [
    "colnames(violet.mat) <- annot$external_gene_name"
   ]
  },
  {
   "cell_type": "code",
   "execution_count": 13,
   "metadata": {
    "execution": {
     "iopub.execute_input": "2021-10-01T17:00:39.487334Z",
     "iopub.status.busy": "2021-10-01T17:00:39.486049Z",
     "iopub.status.idle": "2021-10-01T17:00:44.925377Z",
     "shell.execute_reply": "2021-10-01T17:00:44.923811Z"
    }
   },
   "outputs": [
    {
     "data": {
      "text/html": [
       "<strong>png:</strong> 2"
      ],
      "text/latex": [
       "\\textbf{png:} 2"
      ],
      "text/markdown": [
       "**png:** 2"
      ],
      "text/plain": [
       "png \n",
       "  2 "
      ]
     },
     "metadata": {},
     "output_type": "display_data"
    }
   ],
   "source": [
    "pdf(\"violet_module_heatmap.pdf\", width=10, height=10)\n",
    "set.seed(13)\n",
    "row_ha = rowAnnotation(EA = dt$Eur, AA = dt$Afr)\n",
    "Heatmap(violet.mat, name=\"Residualized\\nExpression\", \n",
    "        column_dend_height=unit(1, \"cm\"), row_km=2,\n",
    "        show_row_names=FALSE, show_row_dend=TRUE,\n",
    "        row_dend_width=unit(2, \"cm\"), \n",
    "        right_annotation = row_ha)\n",
    "dev.off()"
   ]
  },
  {
   "cell_type": "markdown",
   "metadata": {},
   "source": [
    "## Reproducibility Information"
   ]
  },
  {
   "cell_type": "code",
   "execution_count": 14,
   "metadata": {
    "execution": {
     "iopub.execute_input": "2021-10-01T17:00:44.932111Z",
     "iopub.status.busy": "2021-10-01T17:00:44.930166Z",
     "iopub.status.idle": "2021-10-01T17:00:45.276881Z",
     "shell.execute_reply": "2021-10-01T17:00:45.274955Z"
    }
   },
   "outputs": [
    {
     "data": {
      "text/plain": [
       "[1] \"2021-10-01 13:00:44 EDT\""
      ]
     },
     "metadata": {},
     "output_type": "display_data"
    },
    {
     "data": {
      "text/plain": [
       "   user  system elapsed \n",
       " 19.337   1.607  21.291 "
      ]
     },
     "metadata": {},
     "output_type": "display_data"
    },
    {
     "data": {
      "text/plain": [
       "─ Session info ───────────────────────────────────────────────────────────────────────────────────────────────────────\n",
       " setting  value                       \n",
       " version  R version 4.0.3 (2020-10-10)\n",
       " os       Arch Linux                  \n",
       " system   x86_64, linux-gnu           \n",
       " ui       X11                         \n",
       " language (EN)                        \n",
       " collate  en_US.UTF-8                 \n",
       " ctype    en_US.UTF-8                 \n",
       " tz       America/New_York            \n",
       " date     2021-10-01                  \n",
       "\n",
       "─ Packages ───────────────────────────────────────────────────────────────────────────────────────────────────────────\n",
       " package        * version  date       lib source        \n",
       " abind            1.4-5    2016-07-21 [1] CRAN (R 4.0.2)\n",
       " assertthat       0.2.1    2019-03-21 [1] CRAN (R 4.0.2)\n",
       " backports        1.2.1    2020-12-09 [1] CRAN (R 4.0.2)\n",
       " base64enc        0.1-3    2015-07-28 [1] CRAN (R 4.0.2)\n",
       " BiocGenerics     0.36.1   2021-04-16 [1] Bioconductor  \n",
       " broom            0.7.9    2021-07-27 [1] CRAN (R 4.0.3)\n",
       " Cairo            1.5-12.2 2020-07-07 [1] CRAN (R 4.0.2)\n",
       " car              3.0-11   2021-06-27 [1] CRAN (R 4.0.3)\n",
       " carData          3.0-4    2020-05-22 [1] CRAN (R 4.0.2)\n",
       " cellranger       1.1.0    2016-07-27 [1] CRAN (R 4.0.2)\n",
       " circlize         0.4.13   2021-06-09 [1] CRAN (R 4.0.3)\n",
       " cli              3.0.1    2021-07-17 [1] CRAN (R 4.0.3)\n",
       " clue             0.3-59   2021-04-16 [1] CRAN (R 4.0.3)\n",
       " cluster          2.1.0    2019-06-19 [2] CRAN (R 4.0.3)\n",
       " colorspace       2.0-2    2021-06-24 [1] CRAN (R 4.0.3)\n",
       " ComplexHeatmap * 2.6.2    2020-11-12 [1] Bioconductor  \n",
       " crayon           1.4.1    2021-02-08 [1] CRAN (R 4.0.3)\n",
       " curl             4.3.2    2021-06-23 [1] CRAN (R 4.0.3)\n",
       " data.table       1.14.2   2021-09-27 [1] CRAN (R 4.0.3)\n",
       " DBI              1.1.1    2021-01-15 [1] CRAN (R 4.0.2)\n",
       " dbplyr           2.1.1    2021-04-06 [1] CRAN (R 4.0.3)\n",
       " digest           0.6.28   2021-09-23 [1] CRAN (R 4.0.3)\n",
       " dplyr          * 1.0.7    2021-06-18 [1] CRAN (R 4.0.3)\n",
       " ellipsis         0.3.2    2021-04-29 [1] CRAN (R 4.0.3)\n",
       " evaluate         0.14     2019-05-28 [1] CRAN (R 4.0.2)\n",
       " fansi            0.5.0    2021-05-25 [1] CRAN (R 4.0.3)\n",
       " fastmap          1.1.0    2021-01-25 [1] CRAN (R 4.0.2)\n",
       " forcats        * 0.5.1    2021-01-27 [1] CRAN (R 4.0.2)\n",
       " foreign          0.8-80   2020-05-24 [2] CRAN (R 4.0.3)\n",
       " fs               1.5.0    2020-07-31 [1] CRAN (R 4.0.2)\n",
       " generics         0.1.0    2020-10-31 [1] CRAN (R 4.0.2)\n",
       " GetoptLong       1.0.5    2020-12-15 [1] CRAN (R 4.0.2)\n",
       " ggplot2        * 3.3.5    2021-06-25 [1] CRAN (R 4.0.3)\n",
       " ggpubr         * 0.4.0    2020-06-27 [1] CRAN (R 4.0.2)\n",
       " ggsignif         0.6.3    2021-09-09 [1] CRAN (R 4.0.3)\n",
       " GlobalOptions    0.1.2    2020-06-10 [1] CRAN (R 4.0.2)\n",
       " glue             1.4.2    2020-08-27 [1] CRAN (R 4.0.2)\n",
       " gtable           0.3.0    2019-03-25 [1] CRAN (R 4.0.2)\n",
       " haven            2.4.3    2021-08-04 [1] CRAN (R 4.0.3)\n",
       " hms              1.1.1    2021-09-26 [1] CRAN (R 4.0.3)\n",
       " htmltools        0.5.2    2021-08-25 [1] CRAN (R 4.0.3)\n",
       " httr             1.4.2    2020-07-20 [1] CRAN (R 4.0.2)\n",
       " IRanges          2.24.1   2020-12-12 [1] Bioconductor  \n",
       " IRdisplay        1.0      2021-01-20 [1] CRAN (R 4.0.2)\n",
       " IRkernel         1.2      2021-05-11 [1] CRAN (R 4.0.3)\n",
       " jsonlite         1.7.2    2020-12-09 [1] CRAN (R 4.0.2)\n",
       " lifecycle        1.0.1    2021-09-24 [1] CRAN (R 4.0.3)\n",
       " lubridate        1.7.10   2021-02-26 [1] CRAN (R 4.0.3)\n",
       " magrittr         2.0.1    2020-11-17 [1] CRAN (R 4.0.2)\n",
       " matrixStats      0.61.0   2021-09-17 [1] CRAN (R 4.0.3)\n",
       " modelr           0.1.8    2020-05-19 [1] CRAN (R 4.0.2)\n",
       " munsell          0.5.0    2018-06-12 [1] CRAN (R 4.0.2)\n",
       " openxlsx         4.2.4    2021-06-16 [1] CRAN (R 4.0.3)\n",
       " pbdZMQ           0.3-5    2021-02-10 [1] CRAN (R 4.0.3)\n",
       " pillar           1.6.3    2021-09-26 [1] CRAN (R 4.0.3)\n",
       " pkgconfig        2.0.3    2019-09-22 [1] CRAN (R 4.0.2)\n",
       " png              0.1-7    2013-12-03 [1] CRAN (R 4.0.2)\n",
       " purrr          * 0.3.4    2020-04-17 [1] CRAN (R 4.0.2)\n",
       " R6               2.5.1    2021-08-19 [1] CRAN (R 4.0.3)\n",
       " RColorBrewer     1.1-2    2014-12-07 [1] CRAN (R 4.0.2)\n",
       " Rcpp             1.0.7    2021-07-07 [1] CRAN (R 4.0.3)\n",
       " readr          * 2.0.2    2021-09-27 [1] CRAN (R 4.0.3)\n",
       " readxl           1.3.1    2019-03-13 [1] CRAN (R 4.0.2)\n",
       " repr             1.1.3    2021-01-21 [1] CRAN (R 4.0.2)\n",
       " reprex           2.0.1    2021-08-05 [1] CRAN (R 4.0.3)\n",
       " rio              0.5.27   2021-06-21 [1] CRAN (R 4.0.3)\n",
       " rjson            0.2.20   2018-06-08 [1] CRAN (R 4.0.2)\n",
       " rlang            0.4.11   2021-04-30 [1] CRAN (R 4.0.3)\n",
       " rstatix          0.7.0    2021-02-13 [1] CRAN (R 4.0.3)\n",
       " rstudioapi       0.13     2020-11-12 [1] CRAN (R 4.0.2)\n",
       " rvest            1.0.1    2021-07-26 [1] CRAN (R 4.0.3)\n",
       " S4Vectors        0.28.1   2020-12-09 [1] Bioconductor  \n",
       " scales           1.1.1    2020-05-11 [1] CRAN (R 4.0.2)\n",
       " sessioninfo      1.1.1    2018-11-05 [1] CRAN (R 4.0.2)\n",
       " shape            1.4.6    2021-05-19 [1] CRAN (R 4.0.3)\n",
       " stringi          1.7.4    2021-08-25 [1] CRAN (R 4.0.3)\n",
       " stringr        * 1.4.0    2019-02-10 [1] CRAN (R 4.0.2)\n",
       " tibble         * 3.1.4    2021-08-25 [1] CRAN (R 4.0.3)\n",
       " tidyr          * 1.1.4    2021-09-27 [1] CRAN (R 4.0.3)\n",
       " tidyselect       1.1.1    2021-04-30 [1] CRAN (R 4.0.3)\n",
       " tidyverse      * 1.3.1    2021-04-15 [1] CRAN (R 4.0.3)\n",
       " tzdb             0.1.2    2021-07-20 [1] CRAN (R 4.0.3)\n",
       " utf8             1.2.2    2021-07-24 [1] CRAN (R 4.0.3)\n",
       " uuid             0.1-4    2020-02-26 [1] CRAN (R 4.0.2)\n",
       " vctrs            0.3.8    2021-04-29 [1] CRAN (R 4.0.3)\n",
       " withr            2.4.2    2021-04-18 [1] CRAN (R 4.0.3)\n",
       " xml2             1.3.2    2020-04-23 [1] CRAN (R 4.0.2)\n",
       " zip              2.2.0    2021-05-31 [1] CRAN (R 4.0.3)\n",
       "\n",
       "[1] /home/jbenja13/R/x86_64-pc-linux-gnu-library/4.0\n",
       "[2] /usr/lib/R/library"
      ]
     },
     "metadata": {},
     "output_type": "display_data"
    }
   ],
   "source": [
    "Sys.time()\n",
    "proc.time()\n",
    "options(width = 120)\n",
    "sessioninfo::session_info()"
   ]
  }
 ],
 "metadata": {
  "kernelspec": {
   "display_name": "R",
   "language": "R",
   "name": "ir"
  },
  "language_info": {
   "codemirror_mode": "r",
   "file_extension": ".r",
   "mimetype": "text/x-r-source",
   "name": "R",
   "pygments_lexer": "r",
   "version": "4.0.3"
  }
 },
 "nbformat": 4,
 "nbformat_minor": 4
}
