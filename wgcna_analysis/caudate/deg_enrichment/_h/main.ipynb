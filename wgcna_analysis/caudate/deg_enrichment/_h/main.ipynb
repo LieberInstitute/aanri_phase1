{
 "cells": [
  {
   "cell_type": "markdown",
   "metadata": {},
   "source": [
    "# Enrichment in DE genes"
   ]
  },
  {
   "cell_type": "code",
   "execution_count": null,
   "metadata": {},
   "outputs": [],
   "source": [
    "import functools\n",
    "import numpy as np\n",
    "import pandas as pd\n",
    "import seaborn as sns\n",
    "import matplotlib.pyplot as plt\n",
    "from scipy.stats import fisher_exact\n",
    "from statsmodels.stats.multitest import multipletests"
   ]
  },
  {
   "cell_type": "markdown",
   "metadata": {},
   "source": [
    "## Functions"
   ]
  },
  {
   "cell_type": "markdown",
   "metadata": {},
   "source": [
    "### Cached functions"
   ]
  },
  {
   "cell_type": "code",
   "execution_count": null,
   "metadata": {},
   "outputs": [],
   "source": [
    "@functools.lru_cache()\n",
    "def get_wgcna_modules():\n",
    "    return pd.read_csv(\"../../_m/modules.csv\", index_col=0)\n",
    "\n",
    "\n",
    "@functools.lru_cache()\n",
    "def get_degs():\n",
    "    return set(pd.read_csv('../../../../differential_analysis/'+\\\n",
    "                           'caudate/_m/genes/diffExpr_EAvsAA_FDR05.txt',\n",
    "                           sep='\\t', usecols=[0], index_col=0).index)\n",
    "\n",
    "\n",
    "@functools.lru_cache()\n",
    "def get_mhc_genes():\n",
    "    return set(pd.read_csv('../../../../input/counts/mhc_region_genes/'+\\\n",
    "                           '_m/mhc_genes.csv')['gene_id'])"
   ]
  },
  {
   "cell_type": "markdown",
   "metadata": {},
   "source": [
    "### Simple functions"
   ]
  },
  {
   "cell_type": "code",
   "execution_count": null,
   "metadata": {},
   "outputs": [],
   "source": [
    "def fet(a, b, u):\n",
    "    # a, b, u are sets\n",
    "    # u is the universe\n",
    "    yes_a = u.intersection(a)\n",
    "    yes_b = u.intersection(b)\n",
    "    no_a = u - a\n",
    "    no_b = u - b\n",
    "    m = [[len(yes_a.intersection(yes_b)), len(no_a.intersection(yes_b)) ], \n",
    "         [len(yes_a.intersection(no_b)), len(no_a.intersection(no_b))]]\n",
    "    return fisher_exact(m)\n",
    "\n",
    "\n",
    "def enrichment_rows():\n",
    "    mod = get_wgcna_modules().module.unique()\n",
    "    u = set(get_wgcna_modules().index) \n",
    "    for ii in range(len(mod)): # for each module\n",
    "        a = set(get_wgcna_modules()[(get_wgcna_modules().module) == mod[ii]].index)\n",
    "        b = set(get_wgcna_modules()[(get_wgcna_modules().module) == mod[ii]].index) - get_mhc_genes()\n",
    "        yield (mod[ii],\n",
    "               len(a),\n",
    "               *fet(a, get_degs(), u),\n",
    "               *fet(b, get_degs() - get_mhc_genes(), u),\n",
    "               )\n"
   ]
  },
  {
   "cell_type": "markdown",
   "metadata": {},
   "source": [
    "## Main"
   ]
  },
  {
   "cell_type": "markdown",
   "metadata": {},
   "source": [
    "### Enrichment"
   ]
  },
  {
   "cell_type": "code",
   "execution_count": null,
   "metadata": {},
   "outputs": [],
   "source": [
    "edf = pd.DataFrame.from_records(enrichment_rows(), \n",
    "                                 columns=['Module_ID', 'N_Genes', 'DEG_OR', 'DEG_P', \n",
    "                                          'DEG_noMHC_OR', 'DEG_noMHC_P'],\n",
    "                                 index='Module_ID')\n",
    "edf['DEG_FDR'] = multipletests(edf['DEG_P'], method='fdr_bh')[1]\n",
    "edf['DEG_noMHC_FDR'] = multipletests(edf['DEG_noMHC_P'], method='fdr_bh')[1]\n",
    "edf = edf.loc[:, ['N_Genes', 'DEG_OR', 'DEG_P', 'DEG_FDR', 'DEG_noMHC_OR', 'DEG_noMHC_P', 'DEG_noMHC_FDR']]"
   ]
  },
  {
   "cell_type": "code",
   "execution_count": null,
   "metadata": {},
   "outputs": [],
   "source": [
    "print(edf[(edf[\"DEG_FDR\"] < 0.05)].shape)\n",
    "edf[(edf[\"DEG_FDR\"] < 0.05)]"
   ]
  },
  {
   "cell_type": "code",
   "execution_count": null,
   "metadata": {},
   "outputs": [],
   "source": [
    "print(edf[(edf[\"DEG_noMHC_FDR\"] < 0.05)].shape)\n",
    "set(edf[(edf[\"DEG_FDR\"] < 0.05)].index) - set(edf[(edf[\"DEG_noMHC_FDR\"] < 0.05)].index)"
   ]
  },
  {
   "cell_type": "markdown",
   "metadata": {},
   "source": [
    "#### sienna3 is enriched in MHC differentially expressed genes"
   ]
  },
  {
   "cell_type": "code",
   "execution_count": null,
   "metadata": {},
   "outputs": [],
   "source": [
    "edf.to_csv('wgcna_module_enrichment.csv')"
   ]
  },
  {
   "cell_type": "markdown",
   "metadata": {},
   "source": [
    "### Plot heatmap"
   ]
  },
  {
   "cell_type": "code",
   "execution_count": null,
   "metadata": {},
   "outputs": [],
   "source": [
    "df = edf.sort_values(\"N_Genes\", ascending=False)\n",
    "df2 = np.log(df.loc[:, ['DEG_OR']]).replace([np.inf, -np.inf], 0)\n",
    "df2.columns = ['DEG']\n",
    "df2.index = [\"Module %s (%d genes)\" % (x,y) for x,y in zip(df2.index, df['N_Genes'])]\n",
    "df3 = df.loc[:, ['DEG_FDR']]\n",
    "\n",
    "fig, ax = plt.subplots(figsize=(6,10))\n",
    "p = sns.heatmap(df2, cmap='coolwarm', annot=df3, yticklabels=df2.index, center=0,\n",
    "                cbar_kws={'label': 'Log10(Enrichment Ratio)'}, vmin=-2, vmax=2)\n",
    "p.set_title(\"Enrichment/depletion DE genes in WGCNA modules\\n(FDR values)\")\n",
    "p.get_figure().savefig('wgcna_module_enrichment.pdf', bbox_inches='tight')\n",
    "p"
   ]
  },
  {
   "cell_type": "code",
   "execution_count": null,
   "metadata": {},
   "outputs": [],
   "source": [
    "df = edf.sort_values(\"N_Genes\", ascending=False)\n",
    "df2 = np.log(df.loc[:, ['DEG_noMHC_OR']]).replace([np.inf, -np.inf], 0)\n",
    "df2.columns = ['DEG_noMHC']\n",
    "df2.index = [\"Module %s (%d genes)\" % (x,y) for x,y in zip(df2.index, df['N_Genes'])]\n",
    "df3 = df.loc[:, ['DEG_noMHC_FDR']]\n",
    "\n",
    "fig, ax = plt.subplots(figsize=(6,10))\n",
    "p = sns.heatmap(df2, cmap='coolwarm', annot=df3, yticklabels=df2.index, center=0,\n",
    "                cbar_kws={'label': 'Log10(Enrichment Ratio)'}, vmin=-2, vmax=2)\n",
    "p.set_title(\"Enrichment/depletion DE genes in WGCNA modules\\n(FDR values)\")\n",
    "p.get_figure().savefig('wgcna_module_enrichment_noMHC.pdf', bbox_inches='tight')\n",
    "p"
   ]
  },
  {
   "cell_type": "code",
   "execution_count": null,
   "metadata": {},
   "outputs": [],
   "source": []
  }
 ],
 "metadata": {
  "kernelspec": {
   "display_name": "Python 3",
   "language": "python",
   "name": "python3"
  },
  "language_info": {
   "codemirror_mode": {
    "name": "ipython",
    "version": 3
   },
   "file_extension": ".py",
   "mimetype": "text/x-python",
   "name": "python",
   "nbconvert_exporter": "python",
   "pygments_lexer": "ipython3",
   "version": "3.9.1"
  }
 },
 "nbformat": 4,
 "nbformat_minor": 4
}
