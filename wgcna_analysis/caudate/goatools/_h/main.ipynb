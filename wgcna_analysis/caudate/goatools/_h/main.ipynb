{
 "cells": [
  {
   "cell_type": "markdown",
   "metadata": {},
   "source": [
    "# GO module enrichment"
   ]
  },
  {
   "cell_type": "code",
   "execution_count": null,
   "metadata": {},
   "outputs": [],
   "source": [
    "import functools\n",
    "import numpy as np\n",
    "import pandas as pd\n",
    "import collections as cx\n",
    "from pybiomart import Dataset\n",
    "from gtfparse import read_gtf\n",
    "from scipy.stats import fisher_exact\n",
    "from statsmodels.stats.multitest import multipletests\n",
    "\n",
    "# GO analysis\n",
    "from goatools.base import download_go_basic_obo\n",
    "from goatools.base import download_ncbi_associations\n",
    "from goatools.obo_parser import GODag\n",
    "from goatools.anno.genetogo_reader import Gene2GoReader\n",
    "from goatools.goea.go_enrichment_ns import GOEnrichmentStudyNS"
   ]
  },
  {
   "cell_type": "markdown",
   "metadata": {},
   "source": [
    "## Functions"
   ]
  },
  {
   "cell_type": "markdown",
   "metadata": {},
   "source": [
    "### Cached functions"
   ]
  },
  {
   "cell_type": "code",
   "execution_count": null,
   "metadata": {},
   "outputs": [],
   "source": [
    "@functools.lru_cache()\n",
    "def get_gtf_genes_df():\n",
    "    gtf_df = read_gtf(\"/ceph/genome/human/gencode25/gtf.CHR/_m/gencode.v25.annotation.gtf\")\n",
    "    return gtf_df[gtf_df[\"feature\"] == \"gene\"][['gene_id', 'gene_name']]\n",
    "\n",
    "\n",
    "@functools.lru_cache()\n",
    "def get_wgcna_modules():\n",
    "    return pd.read_csv(\"../../_m/modules.csv\", index_col=0)\n",
    "\n",
    "\n",
    "@functools.lru_cache()\n",
    "def get_database():\n",
    "    dataset = Dataset(name=\"hsapiens_gene_ensembl\", \n",
    "                      host=\"http://www.ensembl.org\",\n",
    "                      use_cache=True)\n",
    "    db = dataset.query(attributes=[\"ensembl_gene_id\", \n",
    "                                   \"external_gene_name\", \n",
    "                                   \"entrezgene_id\"], \n",
    "                       use_attr_names=True).dropna(subset=['entrezgene_id'])\n",
    "    return db"
   ]
  },
  {
   "cell_type": "markdown",
   "metadata": {},
   "source": [
    "### Simple functions"
   ]
  },
  {
   "cell_type": "code",
   "execution_count": null,
   "metadata": {},
   "outputs": [],
   "source": [
    "def convert2entrez(mod):\n",
    "    df = get_wgcna_modules()[(get_wgcna_modules().module) == mod].copy()\n",
    "    df[\"ensemblID\"] = df.index.str.replace(\"\\\\..*\", \"\", regex=True)\n",
    "    return df.merge(get_database(), left_on='ensemblID', \n",
    "                    right_on='ensembl_gene_id')\n",
    "\n",
    "\n",
    "def obo_annotation(alpha=0.05):\n",
    "    # database annotation\n",
    "    fn_obo = download_go_basic_obo()\n",
    "    fn_gene2go = download_ncbi_associations() # must be gunzip to work\n",
    "    obodag = GODag(fn_obo) # downloads most up-to-date\n",
    "    anno_hs = Gene2GoReader(fn_gene2go, taxids=[9606])\n",
    "    # get associations\n",
    "    ns2assoc = anno_hs.get_ns2assc()\n",
    "    for nspc, id2gos in ns2assoc.items():\n",
    "        print(\"{NS} {N:,} annotated human genes\".format(NS=nspc, N=len(id2gos)))\n",
    "    goeaobj = GOEnrichmentStudyNS(\n",
    "        get_database()['entrezgene_id'], # List of human genes with entrez IDs\n",
    "        ns2assoc, # geneid/GO associations\n",
    "        obodag, # Ontologies\n",
    "        propagate_counts = False,\n",
    "        alpha = alpha, # default significance cut-off\n",
    "        methods = ['fdr_bh'])\n",
    "    return goeaobj\n",
    "\n",
    "\n",
    "def run_goea(mod):\n",
    "    df = convert2entrez(mod)\n",
    "    geneids_study = {z[0]:z[1] for z in zip(df['entrezgene_id'], df['external_gene_name'])}\n",
    "    goeaobj = obo_annotation()\n",
    "    goea_results_all = goeaobj.run_study(geneids_study)\n",
    "    goea_results_sig = [r for r in goea_results_all if r.p_fdr_bh < 0.05]\n",
    "    ctr = cx.Counter([r.NS for r in goea_results_sig])\n",
    "    print('Significant results[{TOTAL}] = {BP} BP + {MF} MF + {CC} CC'.format(\n",
    "        TOTAL=len(goea_results_sig),\n",
    "        BP=ctr['BP'],  # biological_process\n",
    "        MF=ctr['MF'],  # molecular_function\n",
    "        CC=ctr['CC'])) # cellular_component\n",
    "    goeaobj.wr_xlsx(\"GO_analysis_module_%s.xlsx\" % mod, goea_results_sig)\n",
    "    goeaobj.wr_txt(\"GO_analysis_module_%s.txt\" % mod, goea_results_sig)"
   ]
  },
  {
   "cell_type": "markdown",
   "metadata": {},
   "source": [
    "## Gene annotation"
   ]
  },
  {
   "cell_type": "code",
   "execution_count": null,
   "metadata": {},
   "outputs": [],
   "source": [
    "gtf = get_gtf_genes_df()\n",
    "gtf.head(2)"
   ]
  },
  {
   "cell_type": "markdown",
   "metadata": {},
   "source": [
    "### Load WGCNA module"
   ]
  },
  {
   "cell_type": "code",
   "execution_count": null,
   "metadata": {},
   "outputs": [],
   "source": [
    "wgcna_df = get_wgcna_modules().merge(gtf, left_index=True, right_on=\"gene_id\", how=\"left\")\n",
    "wgcna_df.head(2)"
   ]
  },
  {
   "cell_type": "code",
   "execution_count": null,
   "metadata": {},
   "outputs": [],
   "source": [
    "wgcna_df[(wgcna_df.gene_id.str.startswith(\"chr\"))]"
   ]
  },
  {
   "cell_type": "code",
   "execution_count": null,
   "metadata": {},
   "outputs": [],
   "source": [
    "wgcna_df[(wgcna_df.gene_name == 'DRD2')]"
   ]
  },
  {
   "cell_type": "code",
   "execution_count": null,
   "metadata": {},
   "outputs": [],
   "source": [
    "wgcna_df.to_csv(\"module_annotated.csv\", index=False)"
   ]
  },
  {
   "cell_type": "markdown",
   "metadata": {},
   "source": [
    "## GO enrichment for each cluster"
   ]
  },
  {
   "cell_type": "code",
   "execution_count": null,
   "metadata": {},
   "outputs": [],
   "source": [
    "for mod in get_wgcna_modules().module.unique():\n",
    "    run_goea(mod)"
   ]
  },
  {
   "cell_type": "code",
   "execution_count": null,
   "metadata": {},
   "outputs": [],
   "source": []
  }
 ],
 "metadata": {
  "kernelspec": {
   "display_name": "Python 3",
   "language": "python",
   "name": "python3"
  },
  "language_info": {
   "codemirror_mode": {
    "name": "ipython",
    "version": 3
   },
   "file_extension": ".py",
   "mimetype": "text/x-python",
   "name": "python",
   "nbconvert_exporter": "python",
   "pygments_lexer": "ipython3",
   "version": "3.9.1"
  }
 },
 "nbformat": 4,
 "nbformat_minor": 4
}
