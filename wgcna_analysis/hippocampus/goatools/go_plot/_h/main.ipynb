{
 "cells": [
  {
   "cell_type": "markdown",
   "metadata": {},
   "source": [
    "# Plot GO enrichment based on GOATOOLS output"
   ]
  },
  {
   "cell_type": "code",
   "execution_count": 1,
   "metadata": {},
   "outputs": [],
   "source": [
    "import re, glob\n",
    "import numpy as np\n",
    "import pandas as pd\n",
    "import rpy2.robjects as ro\n",
    "from rpy2.robjects import pandas2ri\n",
    "from rpy2.robjects.conversion import localconverter"
   ]
  },
  {
   "cell_type": "code",
   "execution_count": 2,
   "metadata": {},
   "outputs": [],
   "source": [
    "def limit_go_name(s, maxlen=45):\n",
    "    if len(s) > maxlen:\n",
    "        return s[:maxlen - 3] + '...'\n",
    "    else: \n",
    "        return s\n",
    "      \n",
    "\n",
    "def go_df_for_plotting(df, name):\n",
    "    df = df[df['enrichment']=='e'].copy()\n",
    "    df['Log10'] = -np.log10(df['p_fdr_bh'])\n",
    "    df['Feature'] = name\n",
    "    df['prettyname'] = df['name'].apply(limit_go_name)\n",
    "    fac = []\n",
    "    for ii in range(df.shape[0]):\n",
    "        xx, yy = df[['ratio_in_study']].iloc[ii, 0].split('/')\n",
    "        zz, tt = df[['ratio_in_pop']].iloc[ii, 0].split('/')\n",
    "        fac.append((int(xx) / int(yy)) / (int(zz) / int(tt)))\n",
    "    df['geneRatio'] = fac\n",
    "    return df.drop(columns=['study_items']).sort_values('p_uncorrected')\n",
    "    \n",
    "\n",
    "\n",
    "def plot_go(df, name, filename):\n",
    "    godf = go_df_for_plotting(df, name).sort_values('p_uncorrected').head(15)\n",
    "    with localconverter(ro.default_converter + pandas2ri.converter):\n",
    "        r_godf = ro.conversion.py2rpy(godf)\n",
    "    ro.globalenv['r_godf'] = r_godf\n",
    "    ro.globalenv['r_filename'] = filename\n",
    "    ro.r(\"\"\"\n",
    "    library(ggplot2)\n",
    "    df1 = r_godf\n",
    "    #df1$fac1 = -log2(df1[, 'geneRatio'])\n",
    "    df1$prettyname <- factor(df1$prettyname, \n",
    "                             levels=unique(df1$prettyname[order(df1$Log10, df1$p_uncorrected, \n",
    "                                                                df1$name, decreasing=FALSE)]))\n",
    "    gg1 = (ggplot(df1, aes(x=Log10, y=prettyname, size=geneRatio)) + \n",
    "           geom_point(shape=18, col='#f8766d') + \n",
    "           labs(y='', x='-log10(FDR)') + theme_bw() +\n",
    "           facet_grid('.~Feature') +\n",
    "           geom_vline(xintercept = -log10(0.05), linetype = \"dotted\") +\n",
    "           theme(axis.text=element_text(size=14),\n",
    "                 axis.title=element_text(size=18, face='bold'),\n",
    "                 strip.text=element_text(size=18, face='bold'), \n",
    "                 ))\n",
    "    #print(r_filename)\n",
    "    ggsave(file=paste(sep='', r_filename, '.pdf'), plot=gg1, width=10, height=6)\n",
    "    ggsave(file=paste(sep='', r_filename, '.svg'), plot=gg1, width=10, height=6)\n",
    "    ggsave(file=paste(sep='', r_filename, '.png'), plot=gg1, width=10, height=6)\n",
    "    \"\"\")"
   ]
  },
  {
   "cell_type": "code",
   "execution_count": 9,
   "metadata": {},
   "outputs": [
    {
     "name": "stdout",
     "output_type": "stream",
     "text": [
      "[1] \"module_grey60_go_enrichment\"\n",
      "module_grey60_go_enrichment\n",
      "[1] \"module_lightgreen_go_enrichment\"\n",
      "module_lightgreen_go_enrichment\n",
      "[1] \"module_red_go_enrichment\"\n",
      "module_red_go_enrichment\n",
      "[1] \"module_magenta_go_enrichment\"\n",
      "module_magenta_go_enrichment\n",
      "[1] \"module_pink_go_enrichment\"\n",
      "module_pink_go_enrichment\n",
      "[1] \"module_black_go_enrichment\"\n",
      "module_black_go_enrichment\n",
      "[1] \"module_greenyellow_go_enrichment\"\n",
      "module_greenyellow_go_enrichment\n",
      "[1] \"module_cyan_go_enrichment\"\n",
      "module_cyan_go_enrichment\n",
      "[1] \"module_yellow_go_enrichment\"\n",
      "module_yellow_go_enrichment\n",
      "[1] \"module_darkred_go_enrichment\"\n",
      "module_darkred_go_enrichment\n",
      "[1] \"module_lightcyan_go_enrichment\"\n",
      "module_lightcyan_go_enrichment\n",
      "[1] \"module_salmon_go_enrichment\"\n",
      "module_salmon_go_enrichment\n",
      "[1] \"module_grey_go_enrichment\"\n",
      "module_grey_go_enrichment\n",
      "[1] \"module_royalblue_go_enrichment\"\n",
      "module_royalblue_go_enrichment\n",
      "[1] \"module_tan_go_enrichment\"\n",
      "module_tan_go_enrichment\n",
      "[1] \"module_turquoise_go_enrichment\"\n",
      "module_turquoise_go_enrichment\n",
      "[1] \"module_lightyellow_go_enrichment\"\n",
      "module_lightyellow_go_enrichment\n",
      "[1] \"module_brown_go_enrichment\"\n",
      "module_brown_go_enrichment\n",
      "[1] \"module_blue_go_enrichment\"\n",
      "module_blue_go_enrichment\n",
      "[1] \"module_midnightblue_go_enrichment\"\n",
      "module_midnightblue_go_enrichment\n",
      "[1] \"module_green_go_enrichment\"\n",
      "module_green_go_enrichment\n"
     ]
    }
   ],
   "source": [
    "for fn in glob.glob('../../_m/GO_analysis_module_*.xlsx'):\n",
    "    m = re.search('module(\\w+)', fn)\n",
    "    module_number = m.groups(1)\n",
    "    name = \"Module %s\" % module_number\n",
    "    filename = 'module%s_go_enrichment' % module_number\n",
    "    df = pd.read_excel(fn)\n",
    "    plot_go(df, name, filename)\n",
    "    print(filename)"
   ]
  },
  {
   "cell_type": "code",
   "execution_count": null,
   "metadata": {},
   "outputs": [],
   "source": []
  }
 ],
 "metadata": {
  "kernelspec": {
   "display_name": "Python 3",
   "language": "python",
   "name": "python3"
  },
  "language_info": {
   "codemirror_mode": {
    "name": "ipython",
    "version": 3
   },
   "file_extension": ".py",
   "mimetype": "text/x-python",
   "name": "python",
   "nbconvert_exporter": "python",
   "pygments_lexer": "ipython3",
   "version": "3.9.1"
  }
 },
 "nbformat": 4,
 "nbformat_minor": 4
}
