{
 "cells": [
  {
   "cell_type": "markdown",
   "metadata": {},
   "source": [
    "# Plot GO enrichment based on GOATOOLS output"
   ]
  },
  {
   "cell_type": "code",
   "execution_count": 1,
   "metadata": {
    "execution": {
     "iopub.execute_input": "2021-07-12T14:53:30.679798Z",
     "iopub.status.busy": "2021-07-12T14:53:30.678399Z",
     "iopub.status.idle": "2021-07-12T14:53:31.281566Z",
     "shell.execute_reply": "2021-07-12T14:53:31.280320Z"
    }
   },
   "outputs": [],
   "source": [
    "import re, glob\n",
    "import numpy as np\n",
    "import pandas as pd\n",
    "import rpy2.robjects as ro\n",
    "from rpy2.robjects import pandas2ri\n",
    "from rpy2.robjects.conversion import localconverter"
   ]
  },
  {
   "cell_type": "code",
   "execution_count": 2,
   "metadata": {
    "execution": {
     "iopub.execute_input": "2021-07-12T14:53:31.293571Z",
     "iopub.status.busy": "2021-07-12T14:53:31.292185Z",
     "iopub.status.idle": "2021-07-12T14:53:31.294898Z",
     "shell.execute_reply": "2021-07-12T14:53:31.295918Z"
    }
   },
   "outputs": [],
   "source": [
    "def limit_go_name(s, maxlen=45):\n",
    "    if len(s) > maxlen:\n",
    "        return s[:maxlen - 3] + '...'\n",
    "    else: \n",
    "        return s\n",
    "      \n",
    "\n",
    "def go_df_for_plotting(df, name):\n",
    "    df = df[df['enrichment']=='e'].copy()\n",
    "    df['Log10'] = -np.log10(df['p_fdr_bh'])\n",
    "    df['Feature'] = name\n",
    "    df['prettyname'] = df['name'].apply(limit_go_name)\n",
    "    fac = []\n",
    "    for ii in range(df.shape[0]):\n",
    "        xx, yy = df[['ratio_in_study']].iloc[ii, 0].split('/')\n",
    "        zz, tt = df[['ratio_in_pop']].iloc[ii, 0].split('/')\n",
    "        fac.append((int(xx) / int(yy)) / (int(zz) / int(tt)))\n",
    "    df['geneRatio'] = fac\n",
    "    return df.drop(columns=['study_items']).sort_values('p_uncorrected')\n",
    "    \n",
    "\n",
    "\n",
    "def plot_go(df, name, filename):\n",
    "    godf = go_df_for_plotting(df, name).sort_values('p_uncorrected').head(15)\n",
    "    with localconverter(ro.default_converter + pandas2ri.converter):\n",
    "        r_godf = ro.conversion.py2rpy(godf)\n",
    "    ro.globalenv['r_godf'] = r_godf\n",
    "    ro.globalenv['r_filename'] = filename\n",
    "    ro.r(\"\"\"\n",
    "    library(ggplot2)\n",
    "    df1 = r_godf\n",
    "    #df1$fac1 = -log2(df1[, 'geneRatio'])\n",
    "    df1$prettyname <- factor(df1$prettyname, \n",
    "                             levels=unique(df1$prettyname[order(df1$Log10, df1$p_uncorrected, \n",
    "                                                                df1$name, decreasing=FALSE)]))\n",
    "    gg1 = (ggplot(df1, aes(x=Log10, y=prettyname, size=geneRatio)) + \n",
    "           geom_point(shape=18, col='#f8766d') + \n",
    "           labs(y='', x='-log10(FDR)') + theme_bw() +\n",
    "           facet_grid('.~Feature') +\n",
    "           geom_vline(xintercept = -log10(0.05), linetype = \"dotted\") +\n",
    "           theme(axis.text=element_text(size=14),\n",
    "                 axis.title=element_text(size=18, face='bold'),\n",
    "                 strip.text=element_text(size=18, face='bold'), \n",
    "                 ))\n",
    "    #print(r_filename)\n",
    "    ggsave(file=paste(sep='', r_filename, '.pdf'), plot=gg1, width=10, height=6)\n",
    "    ggsave(file=paste(sep='', r_filename, '.svg'), plot=gg1, width=10, height=6)\n",
    "    ggsave(file=paste(sep='', r_filename, '.png'), plot=gg1, width=10, height=6)\n",
    "    \"\"\")"
   ]
  },
  {
   "cell_type": "code",
   "execution_count": 3,
   "metadata": {
    "execution": {
     "iopub.execute_input": "2021-07-12T14:53:31.302423Z",
     "iopub.status.busy": "2021-07-12T14:53:31.301138Z",
     "iopub.status.idle": "2021-07-12T14:54:00.286819Z",
     "shell.execute_reply": "2021-07-12T14:54:00.285467Z"
    }
   },
   "outputs": [
    {
     "name": "stdout",
     "output_type": "stream",
     "text": [
      "module_grey60_go_enrichment\n",
      "module_orange_go_enrichment\n",
      "module_violet_go_enrichment\n",
      "module_lightgreen_go_enrichment\n",
      "module_skyblue3_go_enrichment\n",
      "module_red_go_enrichment\n",
      "module_magenta_go_enrichment\n",
      "module_pink_go_enrichment\n",
      "module_black_go_enrichment\n",
      "module_purple_go_enrichment\n",
      "module_steelblue_go_enrichment\n",
      "module_greenyellow_go_enrichment\n",
      "module_cyan_go_enrichment\n",
      "module_darkturquoise_go_enrichment\n",
      "module_yellow_go_enrichment\n",
      "module_darkred_go_enrichment\n",
      "module_lightcyan_go_enrichment\n",
      "module_salmon_go_enrichment\n",
      "module_darkorange_go_enrichment\n",
      "module_darkolivegreen_go_enrichment\n",
      "module_darkgreen_go_enrichment\n",
      "module_grey_go_enrichment\n",
      "module_turquoise_go_enrichment\n",
      "module_lightyellow_go_enrichment\n",
      "module_brown_go_enrichment\n",
      "module_blue_go_enrichment\n",
      "module_midnightblue_go_enrichment\n",
      "module_yellowgreen_go_enrichment\n",
      "module_white_go_enrichment\n",
      "module_green_go_enrichment\n"
     ]
    }
   ],
   "source": [
    "for fn in glob.glob('../../_m/GO_analysis_module_*.xlsx'):\n",
    "    m = re.search('module(\\w+)', fn)\n",
    "    module_number = m.groups(1)\n",
    "    name = \"Module %s\" % module_number\n",
    "    filename = 'module%s_go_enrichment' % module_number\n",
    "    df = pd.read_excel(fn)\n",
    "    plot_go(df, name, filename)\n",
    "    print(filename)"
   ]
  },
  {
   "cell_type": "code",
   "execution_count": null,
   "metadata": {},
   "outputs": [],
   "source": []
  }
 ],
 "metadata": {
  "kernelspec": {
   "display_name": "Python 3",
   "language": "python",
   "name": "python3"
  },
  "language_info": {
   "codemirror_mode": {
    "name": "ipython",
    "version": 3
   },
   "file_extension": ".py",
   "mimetype": "text/x-python",
   "name": "python",
   "nbconvert_exporter": "python",
   "pygments_lexer": "ipython3",
   "version": "3.9.1"
  }
 },
 "nbformat": 4,
 "nbformat_minor": 4
}
