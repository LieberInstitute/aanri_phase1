{
 "cells": [
  {
   "cell_type": "markdown",
   "metadata": {},
   "source": [
    "# GO semantic similarity analysis"
   ]
  },
  {
   "cell_type": "code",
   "execution_count": 1,
   "metadata": {},
   "outputs": [],
   "source": [
    "suppressPackageStartupMessages({\n",
    "    library(dplyr)\n",
    "    library(ggplot2)\n",
    "    library(GOSemSim)\n",
    "    library(org.Hs.eg.db)\n",
    "})"
   ]
  },
  {
   "cell_type": "markdown",
   "metadata": {},
   "source": [
    "## Functions"
   ]
  },
  {
   "cell_type": "code",
   "execution_count": 2,
   "metadata": {},
   "outputs": [],
   "source": [
    "get_semData <- function(ont){\n",
    "    return(godata('org.Hs.eg.db', ont=ont))\n",
    "}\n",
    "\n",
    "GO_semantic_similarity <- function(ont){\n",
    "    hsGO = get_semData(ont)\n",
    "    mods = data.table::fread(\"../../../_m/modules.csv\", head=TRUE) %>% distinct(module)\n",
    "    mod1 = c(); mod2 = c(); ss = c()\n",
    "    for(module1 in mods$module){\n",
    "        fn1 = paste0(\"../../_m/GO_analysis_module_\",module1,\".xlsx\")\n",
    "        for(module2 in mods$module){\n",
    "            fn2 = paste0(\"../../_m/GO_analysis_module_\",module2,\".xlsx\")\n",
    "            if(module1 != module2 & file.exists(fn1) & file.exists(fn2)){\n",
    "                df1 = readxl::read_excel(fn1) %>% filter(NS == ont)\n",
    "                df2 = readxl::read_excel(fn2) %>% filter(NS == ont)\n",
    "                sim = mgoSim(df1$GO, df2$GO, semData=hsGO, \n",
    "                             measure=\"Wang\", combine=\"BMA\")\n",
    "                mod1 = c(mod1, module1); mod2 = c(mod2, module2)\n",
    "                ss = c(ss, sim)\n",
    "            }\n",
    "        }\n",
    "    }\n",
    "    return(data.frame(\"Module_1\"=mod1, \"Module_2\"=mod2, \"Semantic_Similarity\"=ss, \"Ont\"=ont))\n",
    "}\n",
    "\n",
    "save_img <- function(image, fn, w=7, h=7){\n",
    "    for(ext in c(\".pdf\", \".png\")){\n",
    "        ggsave(file=paste0(fn, ext), plot=image, width=w, height=h)\n",
    "    }\n",
    "}   "
   ]
  },
  {
   "cell_type": "markdown",
   "metadata": {},
   "source": [
    "## Semantic similarity analysis"
   ]
  },
  {
   "cell_type": "code",
   "execution_count": 3,
   "metadata": {},
   "outputs": [
    {
     "name": "stderr",
     "output_type": "stream",
     "text": [
      "preparing gene to GO mapping data...\n",
      "\n",
      "preparing IC data...\n",
      "\n",
      "preparing gene to GO mapping data...\n",
      "\n",
      "preparing IC data...\n",
      "\n",
      "preparing gene to GO mapping data...\n",
      "\n",
      "preparing IC data...\n",
      "\n"
     ]
    },
    {
     "data": {
      "text/html": [
       "<table class=\"dataframe\">\n",
       "<caption>A data.frame: 6 × 4</caption>\n",
       "<thead>\n",
       "\t<tr><th></th><th scope=col>Module_1</th><th scope=col>Module_2</th><th scope=col>Semantic_Similarity</th><th scope=col>Ont</th></tr>\n",
       "\t<tr><th></th><th scope=col>&lt;chr&gt;</th><th scope=col>&lt;chr&gt;</th><th scope=col>&lt;dbl&gt;</th><th scope=col>&lt;chr&gt;</th></tr>\n",
       "</thead>\n",
       "<tbody>\n",
       "\t<tr><th scope=row>1</th><td>grey</td><td>pink     </td><td>0.357</td><td>MF</td></tr>\n",
       "\t<tr><th scope=row>2</th><td>grey</td><td>darkgreen</td><td>   NA</td><td>MF</td></tr>\n",
       "\t<tr><th scope=row>3</th><td>grey</td><td>black    </td><td>0.417</td><td>MF</td></tr>\n",
       "\t<tr><th scope=row>4</th><td>grey</td><td>turquoise</td><td>0.347</td><td>MF</td></tr>\n",
       "\t<tr><th scope=row>5</th><td>grey</td><td>blue     </td><td>0.403</td><td>MF</td></tr>\n",
       "\t<tr><th scope=row>6</th><td>grey</td><td>green    </td><td>   NA</td><td>MF</td></tr>\n",
       "</tbody>\n",
       "</table>\n"
      ],
      "text/latex": [
       "A data.frame: 6 × 4\n",
       "\\begin{tabular}{r|llll}\n",
       "  & Module\\_1 & Module\\_2 & Semantic\\_Similarity & Ont\\\\\n",
       "  & <chr> & <chr> & <dbl> & <chr>\\\\\n",
       "\\hline\n",
       "\t1 & grey & pink      & 0.357 & MF\\\\\n",
       "\t2 & grey & darkgreen &    NA & MF\\\\\n",
       "\t3 & grey & black     & 0.417 & MF\\\\\n",
       "\t4 & grey & turquoise & 0.347 & MF\\\\\n",
       "\t5 & grey & blue      & 0.403 & MF\\\\\n",
       "\t6 & grey & green     &    NA & MF\\\\\n",
       "\\end{tabular}\n"
      ],
      "text/markdown": [
       "\n",
       "A data.frame: 6 × 4\n",
       "\n",
       "| <!--/--> | Module_1 &lt;chr&gt; | Module_2 &lt;chr&gt; | Semantic_Similarity &lt;dbl&gt; | Ont &lt;chr&gt; |\n",
       "|---|---|---|---|---|\n",
       "| 1 | grey | pink      | 0.357 | MF |\n",
       "| 2 | grey | darkgreen |    NA | MF |\n",
       "| 3 | grey | black     | 0.417 | MF |\n",
       "| 4 | grey | turquoise | 0.347 | MF |\n",
       "| 5 | grey | blue      | 0.403 | MF |\n",
       "| 6 | grey | green     |    NA | MF |\n",
       "\n"
      ],
      "text/plain": [
       "  Module_1 Module_2  Semantic_Similarity Ont\n",
       "1 grey     pink      0.357               MF \n",
       "2 grey     darkgreen    NA               MF \n",
       "3 grey     black     0.417               MF \n",
       "4 grey     turquoise 0.347               MF \n",
       "5 grey     blue      0.403               MF \n",
       "6 grey     green        NA               MF "
      ]
     },
     "metadata": {},
     "output_type": "display_data"
    }
   ],
   "source": [
    "datalist = list()\n",
    "for(ont in c(\"MF\", \"BP\", \"CC\")){\n",
    "    datalist[[ont]] = GO_semantic_similarity(ont)\n",
    "}\n",
    "dt = bind_rows(datalist)\n",
    "dt[\"Tissue\"] = \"Hippocampus\"\n",
    "dt %>% data.table::fwrite(\"go_semantic_similarity.tsv\", sep='\\t')\n",
    "dt %>% head"
   ]
  },
  {
   "cell_type": "markdown",
   "metadata": {},
   "source": [
    "## Plot semantic similarity"
   ]
  },
  {
   "cell_type": "markdown",
   "metadata": {},
   "source": [
    "### All modules"
   ]
  },
  {
   "cell_type": "code",
   "execution_count": null,
   "metadata": {},
   "outputs": [],
   "source": [
    "tile_plot <- dt %>% #tidyr::drop_na() %>% \n",
    "    ggplot(aes(x=Module_1, y=Module_2, fill=Semantic_Similarity, \n",
    "               label=format(round(Semantic_Similarity, 1)))) + \n",
    "    geom_tile(color=\"grey\") + ggfittext::geom_fit_text(contrast=TRUE) + \n",
    "    viridis::scale_color_viridis(option=\"magma\") + facet_wrap(\"~Ont\") +\n",
    "    viridis::scale_fill_viridis(name=\"Semantic Similarity\", \n",
    "                                direction=-1, option=\"magma\") +\n",
    "    labs(x=\"\", y=\"\") + ggpubr::theme_pubr(base_size=15, border=TRUE) +\n",
    "    theme(axis.text.x=element_text(angle = 45, hjust=1), \n",
    "          strip.text=element_text(face=\"bold\"), \n",
    "          legend.key.width=unit(2, 'cm'))\n",
    "tile_plot"
   ]
  },
  {
   "cell_type": "code",
   "execution_count": null,
   "metadata": {},
   "outputs": [],
   "source": [
    "save_img(tile_plot, \"GO_semantic_similarity_all\", w=21, h=9)"
   ]
  },
  {
   "cell_type": "markdown",
   "metadata": {},
   "source": [
    "### Significant correlations"
   ]
  },
  {
   "cell_type": "code",
   "execution_count": 4,
   "metadata": {},
   "outputs": [
    {
     "data": {
      "image/png": "[encoded data removed]",
      "text/plain": [
       "plot without title"
      ]
     },
     "metadata": {
      "image/png": {
       "height": 420,
       "width": 420
      }
     },
     "output_type": "display_data"
    }
   ],
   "source": [
    "sig_mods = c(\"grey\", \"brown\", \"royalblue\", \"saddlebrown\")\n",
    "tile_plot_sig = dt %>% #tidyr::drop_na() %>% \n",
    "    filter(Module_1 %in% sig_mods, Module_2 %in% sig_mods) %>%\n",
    "    ggplot(aes(x=Module_1, y=Module_2, fill=Semantic_Similarity, \n",
    "               label=format(round(Semantic_Similarity, 2)))) + \n",
    "    geom_tile(color=\"grey\") + ggfittext::geom_fit_text(contrast=TRUE) + \n",
    "    viridis::scale_color_viridis(option=\"magma\") + facet_wrap(\"~Ont\") +\n",
    "    viridis::scale_fill_viridis(name=\"Semantic Similarity\", limits=c(0,1),\n",
    "                                direction=-1, option=\"magma\") +\n",
    "    labs(x=\"\", y=\"\") + ggpubr::theme_pubr(base_size=15, border=TRUE) +\n",
    "    theme(axis.text.x=element_text(angle = 45, hjust=1), \n",
    "          strip.text=element_text(face=\"bold\"), \n",
    "          legend.key.width=unit(1, 'cm'))\n",
    "save_img(tile_plot_sig, \"GO_semantic_similarity_sig\", w=10, h=5)\n",
    "tile_plot_sig"
   ]
  },
  {
   "cell_type": "markdown",
   "metadata": {},
   "source": [
    "## Reproducibility Information"
   ]
  },
  {
   "cell_type": "code",
   "execution_count": null,
   "metadata": {},
   "outputs": [],
   "source": [
    "Sys.time()\n",
    "proc.time()\n",
    "options(width = 120)\n",
    "sessioninfo::session_info()"
   ]
  }
 ],
 "metadata": {
  "kernelspec": {
   "display_name": "R",
   "language": "R",
   "name": "ir"
  },
  "language_info": {
   "codemirror_mode": "r",
   "file_extension": ".r",
   "mimetype": "text/x-r-source",
   "name": "R",
   "pygments_lexer": "r",
   "version": "4.0.3"
  }
 },
 "nbformat": 4,
 "nbformat_minor": 4
}
