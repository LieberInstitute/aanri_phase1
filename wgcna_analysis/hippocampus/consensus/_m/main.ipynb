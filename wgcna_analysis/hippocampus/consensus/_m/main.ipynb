{
 "cells": [
  {
   "cell_type": "markdown",
   "metadata": {},
   "source": [
    "# Building consensus network with WGCNA"
   ]
  },
  {
   "cell_type": "code",
   "execution_count": 1,
   "metadata": {
    "execution": {
     "iopub.execute_input": "2021-07-12T16:12:13.755313Z",
     "iopub.status.busy": "2021-07-12T16:12:13.753173Z",
     "iopub.status.idle": "2021-07-12T16:12:13.786345Z",
     "shell.execute_reply": "2021-07-12T16:12:13.784774Z"
    }
   },
   "outputs": [],
   "source": [
    "PARAM_NETWORK_TYPE = 'signed'"
   ]
  },
  {
   "cell_type": "markdown",
   "metadata": {},
   "source": [
    "## Functions"
   ]
  },
  {
   "cell_type": "code",
   "execution_count": 2,
   "metadata": {
    "execution": {
     "iopub.execute_input": "2021-07-12T16:12:13.827656Z",
     "iopub.status.busy": "2021-07-12T16:12:13.792276Z",
     "iopub.status.idle": "2021-07-12T16:12:13.846096Z",
     "shell.execute_reply": "2021-07-12T16:12:13.844692Z"
    }
   },
   "outputs": [],
   "source": [
    "filter_outliers = function(expression, z_threshold = 2.5)\n",
    "{\n",
    "     # Input: an expression matrix\n",
    "     # Output: an expression matrix with outliers removed\n",
    "     # Remove samples with z normalized total distance from other samples > z_threshold\n",
    "     \n",
    "     sample_distance = dist(expression)\n",
    "     dist_z = scale(colSums(as.matrix(sample_distance)))\n",
    "     stopifnot(all(rownames(dist_z) == rownames(expression)))\n",
    "     keepSamples = dist_z < z_threshold\n",
    "     new_expression = expression[keepSamples,]\n",
    "     new_expression\n",
    "}\n",
    "\n",
    "\n",
    "prepare_data=function(setLabels)\n",
    "{\n",
    "    suppressMessages(library(dplyr))\n",
    "    # Load sample data\n",
    "    load(\"../../../../differential_analysis/hippocampus/_m/genes/voomSVA.RData\")\n",
    "    phenotypes = v$targets %>% as.data.frame %>% select(RNum, Race)\n",
    "    sample_table0 = v$design %>% as.data.frame %>% select(-Intercept) %>%\n",
    "        rename(\"Ancestry\"=\"EA\", \"Sex\"=\"Male\")\n",
    "    sample_table = phenotypes %>% \n",
    "        inner_join(tibble::rownames_to_column(sample_table0, \"RNum\"), by=c(\"RNum\")) %>% \n",
    "        mutate(\"V1\"=RNum) %>% tibble::column_to_rownames(\"V1\")\n",
    "    ## Filter by ancestry\n",
    "    aa_samples = phenotypes %>% filter(Race == \"AA\")\n",
    "    ea_samples = phenotypes %>% filter(Race == \"CAUC\")\n",
    "    print(dim(aa_samples))\n",
    "    print(dim(ea_samples))\n",
    "    # Load residualized expression\n",
    "    vsd <- data.table::fread(paste0(\"../../../../differential_analysis/hippocampus/\",\n",
    "                                    \"_m/genes/residualized_expression.tsv\")) %>%\n",
    "        replace(is.na(.), \"\") %>% tibble::column_to_rownames(\"V1\")\n",
    "    print(dim(vsd))  \n",
    "    # Keep only the columns and rows that are present in\n",
    "    # both the sample table and vsd file\n",
    "    samples_aa = intersect(colnames(vsd), rownames(aa_samples))\n",
    "    samples_ea = intersect(colnames(vsd), rownames(ea_samples))\n",
    "    vsd_aa = vsd[,samples_aa]\n",
    "    vsd_ea = vsd[,samples_ea]  \n",
    "    # WGCNA data import\n",
    "    suppressMessages(library(WGCNA))\n",
    "    nSets = 2; shortLabels = c(\"AA\", \"EA\")\n",
    "    multiExpr0 = vector(mode=\"list\", length=nSets)\n",
    "    multiExpr0[[1]] = list(data=as.data.frame(t(vsd_aa)))\n",
    "    names(multiExpr0[[1]]$data) = rownames(vsd_aa)\n",
    "    rownames(multiExpr0[[1]]$data) = colnames(vsd_aa)\n",
    "    multiExpr0[[2]] = list(data=as.data.frame(t(vsd_ea)))\n",
    "    names(multiExpr0[[2]]$data) = rownames(vsd_ea)\n",
    "    rownames(multiExpr0[[2]]$data) = colnames(vsd_ea)\n",
    "    exprSize = checkSets(multiExpr0)\n",
    "    print(exprSize)\n",
    "    # Remove offending genes and samples from the data\n",
    "    gsg = goodSamplesGenesMS(multiExpr0, verbose = 3);\n",
    "    if (!gsg$allOK)\n",
    "    {\n",
    "        for(set in 1:exprSize$nSets){\n",
    "            multiExpr0[[set]]$data = multiExpr0[[set]]$data[gsg$goodSamples, gsg$goodGenes]\n",
    "        }\n",
    "    }\n",
    "    # Secondary sample filtering\n",
    "    for(set in 1:exprSize$nSets){\n",
    "        multiExpr0[[set]]$data = filter_outliers(multiExpr0[[set]]$data, 2.5)\n",
    "    }\n",
    "    multiExpr <- multiExpr0\n",
    "    exprSize = checkSets(multiExpr)\n",
    "    samples_aa = intersect(rownames(multiExpr[[1]]$data), rownames(aa_samples))\n",
    "    samples_ea = intersect(rownames(multiExpr[[2]]$data), rownames(ea_samples))\n",
    "    samples = c(samples_aa, samples_ea)\n",
    "    sample_table = sample_table[samples,]\n",
    "    save(multiExpr, exprSize, sample_table, shortLabels, file = '00.RData')\n",
    "}\n",
    "\n",
    "\n",
    "plot_sample_clustering <- function(setLabels){\n",
    "    lnames = load('00.RData')\n",
    "    sampleTrees = list()\n",
    "    for(set in 1:exprSize$nSets){\n",
    "        sampleTrees[[set]] = hclust(dist(multiExpr[[set]]$data), method=\"average\")\n",
    "    }\n",
    "    pdf(file='sample_clustering.pdf', height=12, width=12)\n",
    "    par(mfrow=c(2,1))\n",
    "    par(mar=c(0,4,2,0))\n",
    "    for(set in 1:exprSize$nSets){\n",
    "        plot(sampleTrees[[set]], \n",
    "             main=paste(\"Sample clustering on all genes in \", setLabels[set]), \n",
    "             xlab=\"\", sub=\"\", cex=0.7)\n",
    "    }\n",
    "    dev.off()\n",
    "}\n"
   ]
  },
  {
   "cell_type": "code",
   "execution_count": 3,
   "metadata": {
    "execution": {
     "iopub.execute_input": "2021-07-12T16:12:13.853308Z",
     "iopub.status.busy": "2021-07-12T16:12:13.851694Z",
     "iopub.status.idle": "2021-07-12T16:12:13.871304Z",
     "shell.execute_reply": "2021-07-12T16:12:13.870004Z"
    }
   },
   "outputs": [],
   "source": [
    "prepare_traits = function()\n",
    "{\n",
    "    lnames = load('00.RData')\n",
    "    Traits <- vector(mode=\"list\", length=exprSize$nSets)\n",
    "    # Associate traits with samples\n",
    "    for(set in 1:exprSize$nSets){\n",
    "        setSamples = rownames(multiExpr[[set]]$data)\n",
    "        traitRows = match(setSamples, sample_table$RNum)\n",
    "        Traits[[set]] = list(data=sample_table[traitRows, c(-1, -2)])\n",
    "        rownames(Traits[[set]]$data) = sample_table[traitRows, 1]\n",
    "    }\n",
    "    nGenes = exprSize$nGenes\n",
    "    nSamples = exprSize$nSamples\n",
    "    save(multiExpr, exprSize, sample_table, shortLabels,\n",
    "         Traits, nGenes, nSamples, file = \"01.RData\")\n",
    "}\n",
    "\n",
    "\n",
    "plot_power_parameter <- function(nSets, multiExpr, RsquaredCut = 0.85){\n",
    "    # Choose a set of soft-thresholding powers\n",
    "    powers = seq(from = 4, to=20, by=1)\n",
    "    # Initialize a list to hold the results of scale-free analysis\n",
    "    powerTables = vector(mode = \"list\", length = nSets)\n",
    "    softPowerTables = vector(mode = \"list\", length = nSets)\n",
    "    # Call the network topology analysis function for each set in turn\n",
    "    for (set in 1:nSets){\n",
    "        powerTables[[set]] = list(data = pickSoftThreshold(multiExpr[[set]]$data, \n",
    "                                                           powerVector=powers, verbose = 2, \n",
    "                                                           networkType=PARAM_NETWORK_TYPE)[[2]])\n",
    "        # Calculated softpower from fitted values\n",
    "        cond = powerTables[[set]]$data$`SFT.R.sq` > RsquaredCut\n",
    "        softPowerTables[[set]] = min(powerTables[[set]]$data[cond,\"Power\"])\n",
    "    }\n",
    "    softpower = max(unlist(softPowerTables))\n",
    "    print(softpower)\n",
    "    # Plot the results:\n",
    "    colors = c(\"black\", \"red\")\n",
    "    # Will plot these columns of the returned scale free analysis tables\n",
    "    plotCols = c(2,5,6,7)\n",
    "    colNames = c(\"Scale Free Topology Model Fit\", \"Mean connectivity\", \n",
    "                 \"Median connectivity\", \"Max connectivity\")\n",
    "    # Get the minima and maxima of the plotted points\n",
    "    ylim = matrix(NA, nrow = 2, ncol = 4)\n",
    "    for (set in 1:nSets){\n",
    "        for (col in 1:length(plotCols)){\n",
    "            ylim[1, col] = min(ylim[1, col], \n",
    "                               powerTables[[set]]$data[, plotCols[col]], \n",
    "                               na.rm = TRUE)\n",
    "            ylim[2, col] = max(ylim[2, col], \n",
    "                               powerTables[[set]]$data[, plotCols[col]],\n",
    "                               na.rm = TRUE)\n",
    "        }\n",
    "    }\n",
    "    # Plot the quantities in the chosen columns vs. the soft thresholding power\n",
    "    sizeGrWindow(8, 6)\n",
    "    pdf(file = \"power_parameter_selection.pdf\", wi = 8, he = 6)\n",
    "    par(mfcol = c(2,2))\n",
    "    par(mar = c(4.2, 4.2 , 2.2, 0.5))\n",
    "    cex1 = 0.7\n",
    "    for (col in 1:length(plotCols)) for (set in 1:nSets){\n",
    "        if (set==1){\n",
    "            plot(powerTables[[set]]$data[,1], -sign(powerTables[[set]]$data[,3])*powerTables[[set]]$data[,2],\n",
    "                 xlab=\"Soft Threshold (power)\",ylab=colNames[col],type=\"n\", ylim = ylim[, col],\n",
    "                 main = colNames[col])\n",
    "            addGrid()\n",
    "        }\n",
    "        if (col==1){\n",
    "            text(powerTables[[set]]$data[,1], -sign(powerTables[[set]]$data[,3])*powerTables[[set]]$data[,2],\n",
    "                 labels=powers,cex=cex1,col=colors[set])\n",
    "        } else {\n",
    "            text(powerTables[[set]]$data[,1], powerTables[[set]]$data[,plotCols[col]],\n",
    "                 labels=powers,cex=cex1,col=colors[set])\n",
    "        }\n",
    "        if (col==1){\n",
    "            legend(\"bottomright\", legend = setLabels, col = colors, pch = 20)\n",
    "        } else {\n",
    "            legend(\"topright\", legend = setLabels, col = colors, pch = 20)\n",
    "        }\n",
    "    }\n",
    "    dev.off()\n",
    "}\n",
    "\n",
    "\n",
    "figure_out_power_parameter <- function()\n",
    "{\n",
    "    suppressMessages(library(WGCNA))\n",
    "    #enableWGCNAThreads()\n",
    "    lnames = load('01.RData')\n",
    "    nSets = exprSize$nSets\n",
    "    plot_power_parameter(nSets, multiExpr, 0.85)\n",
    "}"
   ]
  },
  {
   "cell_type": "code",
   "execution_count": 4,
   "metadata": {
    "execution": {
     "iopub.execute_input": "2021-07-12T16:12:13.878296Z",
     "iopub.status.busy": "2021-07-12T16:12:13.876947Z",
     "iopub.status.idle": "2021-07-12T16:12:13.895828Z",
     "shell.execute_reply": "2021-07-12T16:12:13.894477Z"
    }
   },
   "outputs": [],
   "source": [
    "construct_network <- function(softPower){\n",
    "    suppressMessages(library(WGCNA))\n",
    "    enableWGCNAThreads()\n",
    "    lnames = load(\"01.RData\")\n",
    "    # softPower value from previous plot power_parameter_selection.pdf\n",
    "    cor <- WGCNA::cor\n",
    "    net = blockwiseConsensusModules(multiExpr, maxBlockSize=30000, \n",
    "                                    power=softPower, minModuleSize=30, \n",
    "                                    deepSplit=2, pamRespectsDendro=FALSE, \n",
    "                                    mergeCutHeight=0.25, numericLabels=TRUE,\n",
    "                                    minKMEtoStay=0, corType=\"bicor\",\n",
    "                                    saveTOMFileBase=\"TOM\", saveTOMs=TRUE, \n",
    "                                    networkType=PARAM_NETWORK_TYPE,\n",
    "                                    TOMType=PARAM_NETWORK_TYPE, verbose=3)\n",
    "    consMEs = net$multiMEs\n",
    "    moduleLabels = net$colors\n",
    "    moduleColors = labels2colors(moduleLabels)\n",
    "    consTree = net$dendrograms[[1]]\n",
    "    save(net, consMEs, moduleLabels, moduleColors, consTree, file=\"02.RData\")\n",
    "}\n",
    "\n",
    "\n",
    "plot_cluster_dendrogram <- function(){\n",
    "    suppressMessages(library(WGCNA))\n",
    "    lnames = load(\"02.RData\")\n",
    "    sizeGrWindow(8,6)\n",
    "    pdf(file = \"consensus_dendrogram.pdf\", wi = 8, he = 6)\n",
    "    plotDendroAndColors(consTree, moduleColors, \"Module colors\", dendroLabels=FALSE, \n",
    "                        hang=0.03, addGuide=TRUE, guideHang=0.05,\n",
    "                        main=\"Consensus gene dendrogram and module colors\")\n",
    "    dev.off()\n",
    "}"
   ]
  },
  {
   "cell_type": "code",
   "execution_count": 5,
   "metadata": {
    "execution": {
     "iopub.execute_input": "2021-07-12T16:12:13.902349Z",
     "iopub.status.busy": "2021-07-12T16:12:13.900966Z",
     "iopub.status.idle": "2021-07-12T16:12:13.915991Z",
     "shell.execute_reply": "2021-07-12T16:12:13.914671Z"
    }
   },
   "outputs": [],
   "source": [
    "consensus_eigengene_network <- function(){\n",
    "    suppressMessages(library(WGCNA))\n",
    "    lnames = load(file = \"01.RData\")\n",
    "    lnames = load(file = \"02.RData\")\n",
    "    nSets = exprSize$nSets\n",
    "    # Create a variable weight that will hold just the body weight of mice in both sets\n",
    "    ancestry = vector(mode = \"list\", length = nSets);\n",
    "    for (set in 1:nSets){\n",
    "        ancestry[[set]] = list(data = as.data.frame(Traits[[set]]$data$Ancestry))\n",
    "        names(ancestry[[set]]$data) = \"ancestry\"\n",
    "    }\n",
    "    # Recalculate consMEs to give them color names\n",
    "    consMEsC = multiSetMEs(multiExpr, universalColors = moduleColors)\n",
    "    # Plot eigengene network\n",
    "    sizeGrWindow(8,10)\n",
    "    pdf(file = \"eigengene_networks.pdf\", width=8, height=10)\n",
    "    par(cex = 0.9)\n",
    "    plotEigengeneNetworks(consMEsC, setLabels, marDendro=c(0,2,2,1), \n",
    "                          marHeatmap=c(3,3,2,1), xLabelsAngle=0,\n",
    "                          zlimPreservation=c(0.5, 1))\n",
    "    dev.off()\n",
    "    # We add the weight trait to the eigengenes and order them by consesus hierarchical clustering:\n",
    "    MET = consensusOrderMEs(addTraitToMEs(consMEsC, ancestry))\n",
    "    # Plot eigengene network\n",
    "    sizeGrWindow(8,10)\n",
    "    pdf(file = \"eigengene_networks_ancestry.pdf\", width=8, height=10)\n",
    "    par(cex = 0.9)\n",
    "    plotEigengeneNetworks(MET, setLabels, marDendro=c(0,2,2,1), \n",
    "                          marHeatmap=c(3,3,2,1), xLabelsAngle=0,\n",
    "                          zlimPreservation=c(0.5, 1))\n",
    "    dev.off()\n",
    "    save(MET, consMEsC, ancestry, file=\"03.RData\")\n",
    "}\n",
    "\n",
    "\n",
    "export_eigengene_tables = function(){\n",
    "    suppressMessages(library(WGCNA))\n",
    "    lnames = load(file = \"01.RData\")\n",
    "    lnames = load(file = \"02.RData\")\n",
    "    lnames = load(file = \"03.RData\")\n",
    "    nSets = exprSize$nSets\n",
    "    ## Export eigengene tables\n",
    "    for(set in 1:nSets){\n",
    "        write.csv(consMEsC[[set]]$data, \n",
    "                  paste0('eigengenes_',shortLabels[[set]],'.csv'))\n",
    "    }\n",
    "    # Write modules\n",
    "    modules = data.frame(row.names=colnames(multiExpr[[1]]$data), \n",
    "                         module=moduleColors)\n",
    "    write.csv(modules, 'modules.csv')\n",
    "}"
   ]
  },
  {
   "cell_type": "markdown",
   "metadata": {},
   "source": [
    "## Main"
   ]
  },
  {
   "cell_type": "code",
   "execution_count": 6,
   "metadata": {
    "execution": {
     "iopub.execute_input": "2021-07-12T16:12:13.922661Z",
     "iopub.status.busy": "2021-07-12T16:12:13.921318Z",
     "iopub.status.idle": "2021-07-12T16:18:21.624291Z",
     "shell.execute_reply": "2021-07-12T16:18:21.622442Z"
    }
   },
   "outputs": [
    {
     "name": "stderr",
     "output_type": "stream",
     "text": [
      "Loading required package: limma\n",
      "\n"
     ]
    },
    {
     "name": "stdout",
     "output_type": "stream",
     "text": [
      "[1] 133   2\n",
      "[1] 109   2\n"
     ]
    },
    {
     "name": "stderr",
     "output_type": "stream",
     "text": [
      "Warning message in data.table::fread(paste0(\"../../../../differential_analysis/hippocampus/\", :\n",
      "“Detected 242 column names but the data has 243 columns (i.e. invalid file). Added 1 extra default column name for the first column which is guessed to be row names or an index. Use setnames() afterwards if this guess is not correct, or fix the file write command that created the file to create a valid file.”\n"
     ]
    },
    {
     "name": "stdout",
     "output_type": "stream",
     "text": [
      "[1] 22269   242\n",
      "$nSets\n",
      "[1] 2\n",
      "\n",
      "$nGenes\n",
      "[1] 22269\n",
      "\n",
      "$nSamples\n",
      "[1] 133 109\n",
      "\n",
      "$structureOK\n",
      "[1] TRUE\n",
      "\n",
      " Flagging genes and samples with too many missing values...\n",
      "  ..step 1\n",
      "   ..bad gene count: 0, bad sample counts: 0, 0\n"
     ]
    },
    {
     "data": {
      "text/html": [
       "<strong>png:</strong> 2"
      ],
      "text/latex": [
       "\\textbf{png:} 2"
      ],
      "text/markdown": [
       "**png:** 2"
      ],
      "text/plain": [
       "png \n",
       "  2 "
      ]
     },
     "metadata": {},
     "output_type": "display_data"
    },
    {
     "name": "stdout",
     "output_type": "stream",
     "text": [
      "pickSoftThreshold: will use block size 2009.\n",
      " pickSoftThreshold: calculating connectivity for given powers...\n",
      "   ..working on genes 1 through 2009 of 22269\n"
     ]
    },
    {
     "name": "stderr",
     "output_type": "stream",
     "text": [
      "Warning message:\n",
      "“executing %dopar% sequentially: no parallel backend registered”\n"
     ]
    },
    {
     "name": "stdout",
     "output_type": "stream",
     "text": [
      "   ..working on genes 2010 through 4018 of 22269\n",
      "   ..working on genes 4019 through 6027 of 22269\n",
      "   ..working on genes 6028 through 8036 of 22269\n",
      "   ..working on genes 8037 through 10045 of 22269\n",
      "   ..working on genes 10046 through 12054 of 22269\n",
      "   ..working on genes 12055 through 14063 of 22269\n",
      "   ..working on genes 14064 through 16072 of 22269\n",
      "   ..working on genes 16073 through 18081 of 22269\n",
      "   ..working on genes 18082 through 20090 of 22269\n",
      "   ..working on genes 20091 through 22099 of 22269\n",
      "   ..working on genes 22100 through 22269 of 22269\n",
      "   Power SFT.R.sq slope truncated.R.sq  mean.k. median.k. max.k.\n",
      "1      4    0.204 -9.30          0.913 1550.000  1540.000 1850.0\n",
      "2      5    0.357 -8.88          0.931  828.000   821.000 1070.0\n",
      "3      6    0.506 -8.05          0.950  449.000   442.000  645.0\n",
      "4      7    0.626 -7.21          0.967  247.000   242.000  399.0\n",
      "5      8    0.720 -6.37          0.979  138.000   134.000  254.0\n",
      "6      9    0.792 -5.57          0.985   78.700    74.900  168.0\n",
      "7     10    0.849 -5.09          0.989   45.600    42.500  118.0\n",
      "8     11    0.905 -4.46          0.996   26.900    24.400   85.5\n",
      "9     12    0.944 -3.89          0.996   16.100    14.200   64.2\n",
      "10    13    0.963 -3.60          0.995    9.890     8.320   52.6\n",
      "11    14    0.976 -3.30          0.995    6.190     4.940   44.2\n",
      "12    15    0.980 -3.04          0.994    3.960     2.970   38.0\n",
      "13    16    0.974 -2.83          0.985    2.600     1.810   33.3\n",
      "14    17    0.979 -2.63          0.989    1.740     1.110   29.6\n",
      "15    18    0.978 -2.46          0.987    1.200     0.689   26.5\n",
      "16    19    0.971 -2.33          0.982    0.841     0.432   23.8\n",
      "17    20    0.973 -2.20          0.985    0.606     0.273   21.6\n",
      "pickSoftThreshold: will use block size 2009.\n",
      " pickSoftThreshold: calculating connectivity for given powers...\n",
      "   ..working on genes 1 through 2009 of 22269\n",
      "   ..working on genes 2010 through 4018 of 22269\n",
      "   ..working on genes 4019 through 6027 of 22269\n",
      "   ..working on genes 6028 through 8036 of 22269\n",
      "   ..working on genes 8037 through 10045 of 22269\n",
      "   ..working on genes 10046 through 12054 of 22269\n",
      "   ..working on genes 12055 through 14063 of 22269\n",
      "   ..working on genes 14064 through 16072 of 22269\n",
      "   ..working on genes 16073 through 18081 of 22269\n",
      "   ..working on genes 18082 through 20090 of 22269\n",
      "   ..working on genes 20091 through 22099 of 22269\n",
      "   ..working on genes 22100 through 22269 of 22269\n",
      "   Power SFT.R.sq slope truncated.R.sq mean.k. median.k. max.k.\n",
      "1      4    0.196 -9.45          0.906 1580.00  1570.000 1900.0\n",
      "2      5    0.430 -9.45          0.927  851.00   842.000 1140.0\n",
      "3      6    0.613 -8.27          0.952  468.00   460.000  710.0\n",
      "4      7    0.743 -7.14          0.974  262.00   255.000  459.0\n",
      "5      8    0.814 -6.09          0.985  149.00   143.000  307.0\n",
      "6      9    0.861 -5.24          0.991   86.90    81.800  212.0\n",
      "7     10    0.895 -4.53          0.993   51.50    47.400  151.0\n",
      "8     11    0.923 -3.92          0.994   31.10    27.800  110.0\n",
      "9     12    0.945 -3.51          0.993   19.20    16.500   83.5\n",
      "10    13    0.946 -3.39          0.993   12.10     9.930   69.5\n",
      "11    14    0.956 -3.19          0.994    7.78     6.040   59.2\n",
      "12    15    0.962 -3.00          0.996    5.12     3.720   51.3\n",
      "13    16    0.964 -2.82          0.993    3.45     2.320   45.1\n",
      "14    17    0.971 -2.64          0.997    2.37     1.460   40.0\n",
      "15    18    0.967 -2.50          0.992    1.67     0.929   35.7\n",
      "16    19    0.972 -2.35          0.995    1.20     0.598   32.1\n",
      "17    20    0.973 -2.23          0.994    0.88     0.388   28.9\n",
      "[1] 11\n"
     ]
    },
    {
     "data": {
      "text/html": [
       "<strong>png:</strong> 2"
      ],
      "text/latex": [
       "\\textbf{png:} 2"
      ],
      "text/markdown": [
       "**png:** 2"
      ],
      "text/plain": [
       "png \n",
       "  2 "
      ]
     },
     "metadata": {},
     "output_type": "display_data"
    }
   ],
   "source": [
    "setLabels = c(\"AA Hippocampus\", \"EA Hippocampus\")\n",
    "prepare_data(setLabels)\n",
    "plot_sample_clustering(setLabels)\n",
    "prepare_traits()\n",
    "figure_out_power_parameter()"
   ]
  },
  {
   "cell_type": "code",
   "execution_count": 7,
   "metadata": {
    "execution": {
     "iopub.execute_input": "2021-07-12T16:18:21.654965Z",
     "iopub.status.busy": "2021-07-12T16:18:21.652849Z",
     "iopub.status.idle": "2021-07-12T16:35:56.090140Z",
     "shell.execute_reply": "2021-07-12T16:35:56.088748Z"
    }
   },
   "outputs": [
    {
     "name": "stdout",
     "output_type": "stream",
     "text": [
      "Allowing parallel execution with up to 63 working processes.\n",
      " Calculating consensus modules and module eigengenes block-wise from all genes\n",
      " Calculating topological overlaps block-wise from all genes\n",
      "   Flagging genes and samples with too many missing values...\n",
      "    ..step 1\n",
      " ....Working on set 1\n",
      "    TOM calculation: adjacency..\n",
      "    ..will use 63 parallel threads.\n",
      "     Fraction of slow calculations: 0.000000\n",
      "    ..connectivity..\n",
      "    ..matrix multiplication (system BLAS)..\n",
      "    ..normalization..\n",
      "    ..done.\n",
      " ....Working on set 2\n",
      "    TOM calculation: adjacency..\n",
      "    ..will use 63 parallel threads.\n",
      "     Fraction of slow calculations: 0.000000\n",
      "    ..connectivity..\n",
      "    ..matrix multiplication (system BLAS)..\n",
      "    ..normalization..\n",
      "    ..done.\n",
      " ..Working on block 1 .\n",
      " ....Working on set 1\n",
      " ....Working on set 2\n",
      " ....Calculating consensus network\n",
      " ..Working on block 1 .\n",
      " ....clustering and detecting modules..\n",
      " ....calculating eigengenes..\n",
      " ....checking consensus modules for statistical meaningfulness..\n",
      " ....checking for genes that should be reassigned..\n",
      " ..merging consensus modules that are too close..\n",
      "     mergeCloseModules: Merging modules whose distance is less than 0.25\n",
      "       Calculating new MEs...\n"
     ]
    },
    {
     "data": {
      "text/html": [
       "<strong>png:</strong> 2"
      ],
      "text/latex": [
       "\\textbf{png:} 2"
      ],
      "text/markdown": [
       "**png:** 2"
      ],
      "text/plain": [
       "png \n",
       "  2 "
      ]
     },
     "metadata": {},
     "output_type": "display_data"
    }
   ],
   "source": [
    "softpower = 11 ## Based on Dentate Gyrus and Hippocampus\n",
    "construct_network(softpower)\n",
    "plot_cluster_dendrogram()"
   ]
  },
  {
   "cell_type": "code",
   "execution_count": 8,
   "metadata": {
    "execution": {
     "iopub.execute_input": "2021-07-12T16:35:56.202094Z",
     "iopub.status.busy": "2021-07-12T16:35:56.200829Z",
     "iopub.status.idle": "2021-07-12T16:36:13.581204Z",
     "shell.execute_reply": "2021-07-12T16:36:13.579692Z"
    }
   },
   "outputs": [
    {
     "name": "stdout",
     "output_type": "stream",
     "text": [
      " multiSetMEs: Calculating module MEs.\n",
      "   Working on set 1 ...\n",
      "   Working on set 2 ...\n"
     ]
    }
   ],
   "source": [
    "consensus_eigengene_network()\n",
    "export_eigengene_tables()"
   ]
  },
  {
   "cell_type": "markdown",
   "metadata": {},
   "source": [
    "## Repreducibility Information"
   ]
  },
  {
   "cell_type": "code",
   "execution_count": 9,
   "metadata": {
    "execution": {
     "iopub.execute_input": "2021-07-12T16:36:13.601879Z",
     "iopub.status.busy": "2021-07-12T16:36:13.600040Z",
     "iopub.status.idle": "2021-07-12T16:36:14.281390Z",
     "shell.execute_reply": "2021-07-12T16:36:14.279941Z"
    }
   },
   "outputs": [
    {
     "data": {
      "text/plain": [
       "[1] \"2021-07-12 12:36:13 EDT\""
      ]
     },
     "metadata": {},
     "output_type": "display_data"
    },
    {
     "data": {
      "text/plain": [
       "    user   system  elapsed \n",
       "5286.299 1856.225 1440.769 "
      ]
     },
     "metadata": {},
     "output_type": "display_data"
    },
    {
     "data": {
      "text/plain": [
       "─ Session info ───────────────────────────────────────────────────────────────────────────────────────────────────────\n",
       " setting  value                       \n",
       " version  R version 4.0.3 (2020-10-10)\n",
       " os       Arch Linux                  \n",
       " system   x86_64, linux-gnu           \n",
       " ui       X11                         \n",
       " language (EN)                        \n",
       " collate  en_US.UTF-8                 \n",
       " ctype    en_US.UTF-8                 \n",
       " tz       America/New_York            \n",
       " date     2021-07-12                  \n",
       "\n",
       "─ Packages ───────────────────────────────────────────────────────────────────────────────────────────────────────────\n",
       " package        * version date       lib source        \n",
       " AnnotationDbi    1.52.0  2020-10-27 [1] Bioconductor  \n",
       " assertthat       0.2.1   2019-03-21 [1] CRAN (R 4.0.2)\n",
       " backports        1.2.1   2020-12-09 [1] CRAN (R 4.0.2)\n",
       " base64enc        0.1-3   2015-07-28 [1] CRAN (R 4.0.2)\n",
       " Biobase          2.50.0  2020-10-27 [1] Bioconductor  \n",
       " BiocGenerics     0.36.1  2021-04-16 [1] Bioconductor  \n",
       " bit              4.0.4   2020-08-04 [1] CRAN (R 4.0.2)\n",
       " bit64            4.0.5   2020-08-30 [1] CRAN (R 4.0.2)\n",
       " blob             1.2.1   2020-01-20 [1] CRAN (R 4.0.2)\n",
       " cachem           1.0.5   2021-05-15 [1] CRAN (R 4.0.3)\n",
       " checkmate        2.0.0   2020-02-06 [1] CRAN (R 4.0.2)\n",
       " cli              3.0.0   2021-06-30 [1] CRAN (R 4.0.3)\n",
       " cluster          2.1.0   2019-06-19 [2] CRAN (R 4.0.3)\n",
       " codetools        0.2-16  2018-12-24 [2] CRAN (R 4.0.3)\n",
       " colorspace       2.0-2   2021-06-24 [1] CRAN (R 4.0.3)\n",
       " crayon           1.4.1   2021-02-08 [1] CRAN (R 4.0.3)\n",
       " data.table       1.14.0  2021-02-21 [1] CRAN (R 4.0.3)\n",
       " DBI              1.1.1   2021-01-15 [1] CRAN (R 4.0.2)\n",
       " digest           0.6.27  2020-10-24 [1] CRAN (R 4.0.2)\n",
       " doParallel       1.0.16  2020-10-16 [1] CRAN (R 4.0.3)\n",
       " dplyr          * 1.0.7   2021-06-18 [1] CRAN (R 4.0.3)\n",
       " dynamicTreeCut * 1.63-1  2016-03-11 [1] CRAN (R 4.0.3)\n",
       " ellipsis         0.3.2   2021-04-29 [1] CRAN (R 4.0.3)\n",
       " evaluate         0.14    2019-05-28 [1] CRAN (R 4.0.2)\n",
       " fansi            0.5.0   2021-05-25 [1] CRAN (R 4.0.3)\n",
       " fastcluster    * 1.2.3   2021-05-24 [1] CRAN (R 4.0.3)\n",
       " fastmap          1.1.0   2021-01-25 [1] CRAN (R 4.0.2)\n",
       " foreach          1.5.1   2020-10-15 [1] CRAN (R 4.0.2)\n",
       " foreign          0.8-80  2020-05-24 [2] CRAN (R 4.0.3)\n",
       " Formula          1.2-4   2020-10-16 [1] CRAN (R 4.0.2)\n",
       " generics         0.1.0   2020-10-31 [1] CRAN (R 4.0.2)\n",
       " ggplot2          3.3.5   2021-06-25 [1] CRAN (R 4.0.3)\n",
       " glue             1.4.2   2020-08-27 [1] CRAN (R 4.0.2)\n",
       " GO.db            3.12.1  2021-04-08 [1] Bioconductor  \n",
       " gridExtra        2.3     2017-09-09 [1] CRAN (R 4.0.2)\n",
       " gtable           0.3.0   2019-03-25 [1] CRAN (R 4.0.2)\n",
       " Hmisc            4.5-0   2021-02-28 [1] CRAN (R 4.0.3)\n",
       " htmlTable        2.2.1   2021-05-18 [1] CRAN (R 4.0.3)\n",
       " htmltools        0.5.1.1 2021-01-22 [1] CRAN (R 4.0.2)\n",
       " htmlwidgets      1.5.3   2020-12-10 [1] CRAN (R 4.0.2)\n",
       " impute           1.64.0  2020-10-27 [1] Bioconductor  \n",
       " IRanges          2.24.1  2020-12-12 [1] Bioconductor  \n",
       " IRdisplay        1.0     2021-01-20 [1] CRAN (R 4.0.2)\n",
       " IRkernel         1.2     2021-05-11 [1] CRAN (R 4.0.3)\n",
       " iterators        1.0.13  2020-10-15 [1] CRAN (R 4.0.2)\n",
       " jpeg             0.1-8.1 2019-10-24 [1] CRAN (R 4.0.2)\n",
       " jsonlite         1.7.2   2020-12-09 [1] CRAN (R 4.0.2)\n",
       " knitr            1.33    2021-04-24 [1] CRAN (R 4.0.3)\n",
       " lattice          0.20-41 2020-04-02 [2] CRAN (R 4.0.3)\n",
       " latticeExtra     0.6-29  2019-12-19 [1] CRAN (R 4.0.2)\n",
       " lifecycle        1.0.0   2021-02-15 [1] CRAN (R 4.0.3)\n",
       " limma          * 3.46.0  2020-10-27 [1] Bioconductor  \n",
       " magrittr         2.0.1   2020-11-17 [1] CRAN (R 4.0.2)\n",
       " Matrix           1.3-4   2021-06-01 [1] CRAN (R 4.0.3)\n",
       " matrixStats      0.59.0  2021-06-01 [1] CRAN (R 4.0.3)\n",
       " memoise          2.0.0   2021-01-26 [1] CRAN (R 4.0.2)\n",
       " munsell          0.5.0   2018-06-12 [1] CRAN (R 4.0.2)\n",
       " nnet             7.3-14  2020-04-26 [2] CRAN (R 4.0.3)\n",
       " pbdZMQ           0.3-5   2021-02-10 [1] CRAN (R 4.0.3)\n",
       " pillar           1.6.1   2021-05-16 [1] CRAN (R 4.0.3)\n",
       " pkgconfig        2.0.3   2019-09-22 [1] CRAN (R 4.0.2)\n",
       " png              0.1-7   2013-12-03 [1] CRAN (R 4.0.2)\n",
       " preprocessCore   1.52.1  2021-01-08 [1] Bioconductor  \n",
       " purrr            0.3.4   2020-04-17 [1] CRAN (R 4.0.2)\n",
       " R6               2.5.0   2020-10-28 [1] CRAN (R 4.0.2)\n",
       " RColorBrewer     1.1-2   2014-12-07 [1] CRAN (R 4.0.2)\n",
       " Rcpp             1.0.7   2021-07-07 [1] CRAN (R 4.0.3)\n",
       " repr             1.1.3   2021-01-21 [1] CRAN (R 4.0.2)\n",
       " rlang            0.4.11  2021-04-30 [1] CRAN (R 4.0.3)\n",
       " rpart            4.1-15  2019-04-12 [2] CRAN (R 4.0.3)\n",
       " RSQLite          2.2.7   2021-04-22 [1] CRAN (R 4.0.3)\n",
       " rstudioapi       0.13    2020-11-12 [1] CRAN (R 4.0.2)\n",
       " S4Vectors        0.28.1  2020-12-09 [1] Bioconductor  \n",
       " scales           1.1.1   2020-05-11 [1] CRAN (R 4.0.2)\n",
       " sessioninfo      1.1.1   2018-11-05 [1] CRAN (R 4.0.2)\n",
       " stringi          1.6.2   2021-05-17 [1] CRAN (R 4.0.3)\n",
       " stringr          1.4.0   2019-02-10 [1] CRAN (R 4.0.2)\n",
       " survival         3.2-7   2020-09-28 [2] CRAN (R 4.0.3)\n",
       " tibble           3.1.2   2021-05-16 [1] CRAN (R 4.0.3)\n",
       " tidyselect       1.1.1   2021-04-30 [1] CRAN (R 4.0.3)\n",
       " utf8             1.2.1   2021-03-12 [1] CRAN (R 4.0.3)\n",
       " uuid             0.1-4   2020-02-26 [1] CRAN (R 4.0.2)\n",
       " vctrs            0.3.8   2021-04-29 [1] CRAN (R 4.0.3)\n",
       " WGCNA          * 1.70-3  2021-02-28 [1] CRAN (R 4.0.3)\n",
       " withr            2.4.2   2021-04-18 [1] CRAN (R 4.0.3)\n",
       " xfun             0.24    2021-06-15 [1] CRAN (R 4.0.3)\n",
       "\n",
       "[1] /home/jbenja13/R/x86_64-pc-linux-gnu-library/4.0\n",
       "[2] /usr/lib/R/library"
      ]
     },
     "metadata": {},
     "output_type": "display_data"
    }
   ],
   "source": [
    "Sys.time()\n",
    "proc.time()\n",
    "options(width = 120)\n",
    "sessioninfo::session_info()"
   ]
  }
 ],
 "metadata": {
  "kernelspec": {
   "display_name": "R",
   "language": "R",
   "name": "ir"
  },
  "language_info": {
   "codemirror_mode": "r",
   "file_extension": ".r",
   "mimetype": "text/x-r-source",
   "name": "R",
   "pygments_lexer": "r",
   "version": "4.0.3"
  }
 },
 "nbformat": 4,
 "nbformat_minor": 4
}
