{
 "cells": [
  {
   "cell_type": "markdown",
   "metadata": {},
   "source": [
    "# Exploring the eigen values and correlation with phenotypes"
   ]
  },
  {
   "cell_type": "code",
   "execution_count": 1,
   "metadata": {
    "execution": {
     "iopub.execute_input": "2021-10-01T17:42:37.572884Z",
     "iopub.status.busy": "2021-10-01T17:42:37.569802Z",
     "iopub.status.idle": "2021-10-01T17:42:42.828002Z",
     "shell.execute_reply": "2021-10-01T17:42:42.826826Z"
    }
   },
   "outputs": [],
   "source": [
    "suppressPackageStartupMessages({\n",
    "    library(ComplexHeatmap)\n",
    "    library(tidyverse)\n",
    "    library(ggpubr)\n",
    "})"
   ]
  },
  {
   "cell_type": "markdown",
   "metadata": {},
   "source": [
    "## Prepare data"
   ]
  },
  {
   "cell_type": "markdown",
   "metadata": {},
   "source": [
    "### Load phenotypes data"
   ]
  },
  {
   "cell_type": "code",
   "execution_count": 2,
   "metadata": {
    "execution": {
     "iopub.execute_input": "2021-10-01T17:42:42.887230Z",
     "iopub.status.busy": "2021-10-01T17:42:42.833048Z",
     "iopub.status.idle": "2021-10-01T17:42:42.950837Z",
     "shell.execute_reply": "2021-10-01T17:42:42.948090Z"
    }
   },
   "outputs": [
    {
     "data": {
      "text/html": [
       "<table class=\"dataframe\">\n",
       "<caption>A data.table: 2 × 12</caption>\n",
       "<thead>\n",
       "\t<tr><th scope=col>V1</th><th scope=col>BrNum</th><th scope=col>RNum</th><th scope=col>Region</th><th scope=col>RIN</th><th scope=col>Age</th><th scope=col>Sex</th><th scope=col>Race</th><th scope=col>Dx</th><th scope=col>mitoRate</th><th scope=col>rRNA_rate</th><th scope=col>overallMapRate</th></tr>\n",
       "\t<tr><th scope=col>&lt;chr&gt;</th><th scope=col>&lt;chr&gt;</th><th scope=col>&lt;chr&gt;</th><th scope=col>&lt;chr&gt;</th><th scope=col>&lt;dbl&gt;</th><th scope=col>&lt;dbl&gt;</th><th scope=col>&lt;chr&gt;</th><th scope=col>&lt;chr&gt;</th><th scope=col>&lt;chr&gt;</th><th scope=col>&lt;dbl&gt;</th><th scope=col>&lt;dbl&gt;</th><th scope=col>&lt;dbl&gt;</th></tr>\n",
       "</thead>\n",
       "<tbody>\n",
       "\t<tr><td>R12864</td><td>Br1303</td><td>R12864</td><td>Caudate</td><td>9.6</td><td>42.98</td><td>F</td><td>AA</td><td>Schizo</td><td>0.03265387</td><td>8.675159e-05</td><td>0.9093498</td></tr>\n",
       "\t<tr><td>R12865</td><td>Br1320</td><td>R12865</td><td>Caudate</td><td>9.5</td><td>53.12</td><td>M</td><td>AA</td><td>Schizo</td><td>0.01978740</td><td>6.976684e-05</td><td>0.8734840</td></tr>\n",
       "</tbody>\n",
       "</table>\n"
      ],
      "text/latex": [
       "A data.table: 2 × 12\n",
       "\\begin{tabular}{llllllllllll}\n",
       " V1 & BrNum & RNum & Region & RIN & Age & Sex & Race & Dx & mitoRate & rRNA\\_rate & overallMapRate\\\\\n",
       " <chr> & <chr> & <chr> & <chr> & <dbl> & <dbl> & <chr> & <chr> & <chr> & <dbl> & <dbl> & <dbl>\\\\\n",
       "\\hline\n",
       "\t R12864 & Br1303 & R12864 & Caudate & 9.6 & 42.98 & F & AA & Schizo & 0.03265387 & 8.675159e-05 & 0.9093498\\\\\n",
       "\t R12865 & Br1320 & R12865 & Caudate & 9.5 & 53.12 & M & AA & Schizo & 0.01978740 & 6.976684e-05 & 0.8734840\\\\\n",
       "\\end{tabular}\n"
      ],
      "text/markdown": [
       "\n",
       "A data.table: 2 × 12\n",
       "\n",
       "| V1 &lt;chr&gt; | BrNum &lt;chr&gt; | RNum &lt;chr&gt; | Region &lt;chr&gt; | RIN &lt;dbl&gt; | Age &lt;dbl&gt; | Sex &lt;chr&gt; | Race &lt;chr&gt; | Dx &lt;chr&gt; | mitoRate &lt;dbl&gt; | rRNA_rate &lt;dbl&gt; | overallMapRate &lt;dbl&gt; |\n",
       "|---|---|---|---|---|---|---|---|---|---|---|---|\n",
       "| R12864 | Br1303 | R12864 | Caudate | 9.6 | 42.98 | F | AA | Schizo | 0.03265387 | 8.675159e-05 | 0.9093498 |\n",
       "| R12865 | Br1320 | R12865 | Caudate | 9.5 | 53.12 | M | AA | Schizo | 0.01978740 | 6.976684e-05 | 0.8734840 |\n",
       "\n"
      ],
      "text/plain": [
       "  V1     BrNum  RNum   Region  RIN Age   Sex Race Dx     mitoRate  \n",
       "1 R12864 Br1303 R12864 Caudate 9.6 42.98 F   AA   Schizo 0.03265387\n",
       "2 R12865 Br1320 R12865 Caudate 9.5 53.12 M   AA   Schizo 0.01978740\n",
       "  rRNA_rate    overallMapRate\n",
       "1 8.675159e-05 0.9093498     \n",
       "2 6.976684e-05 0.8734840     "
      ]
     },
     "metadata": {},
     "output_type": "display_data"
    }
   ],
   "source": [
    "pheno = data.table::fread(\"../../../../input/phenotypes/merged/_m/merged_phenotypes.csv\")\n",
    "pheno %>% head(2)"
   ]
  },
  {
   "cell_type": "code",
   "execution_count": 3,
   "metadata": {
    "execution": {
     "iopub.execute_input": "2021-10-01T17:42:42.957451Z",
     "iopub.status.busy": "2021-10-01T17:42:42.956004Z",
     "iopub.status.idle": "2021-10-01T17:42:42.993206Z",
     "shell.execute_reply": "2021-10-01T17:42:42.991017Z"
    }
   },
   "outputs": [
    {
     "data": {
      "text/html": [
       "<table class=\"dataframe\">\n",
       "<caption>A data.table: 2 × 4</caption>\n",
       "<thead>\n",
       "\t<tr><th scope=col>id</th><th scope=col>Afr</th><th scope=col>Eur</th><th scope=col>group</th></tr>\n",
       "\t<tr><th scope=col>&lt;chr&gt;</th><th scope=col>&lt;dbl&gt;</th><th scope=col>&lt;dbl&gt;</th><th scope=col>&lt;chr&gt;</th></tr>\n",
       "</thead>\n",
       "<tbody>\n",
       "\t<tr><td>Br2374</td><td>0.007</td><td>0.993</td><td>CAUC</td></tr>\n",
       "\t<tr><td>Br1857</td><td>0.001</td><td>0.999</td><td>CAUC</td></tr>\n",
       "</tbody>\n",
       "</table>\n"
      ],
      "text/latex": [
       "A data.table: 2 × 4\n",
       "\\begin{tabular}{llll}\n",
       " id & Afr & Eur & group\\\\\n",
       " <chr> & <dbl> & <dbl> & <chr>\\\\\n",
       "\\hline\n",
       "\t Br2374 & 0.007 & 0.993 & CAUC\\\\\n",
       "\t Br1857 & 0.001 & 0.999 & CAUC\\\\\n",
       "\\end{tabular}\n"
      ],
      "text/markdown": [
       "\n",
       "A data.table: 2 × 4\n",
       "\n",
       "| id &lt;chr&gt; | Afr &lt;dbl&gt; | Eur &lt;dbl&gt; | group &lt;chr&gt; |\n",
       "|---|---|---|---|\n",
       "| Br2374 | 0.007 | 0.993 | CAUC |\n",
       "| Br1857 | 0.001 | 0.999 | CAUC |\n",
       "\n"
      ],
      "text/plain": [
       "  id     Afr   Eur   group\n",
       "1 Br2374 0.007 0.993 CAUC \n",
       "2 Br1857 0.001 0.999 CAUC "
      ]
     },
     "metadata": {},
     "output_type": "display_data"
    }
   ],
   "source": [
    "ancestry = data.table::fread(\"../../../../input/ancestry_structure/structure.out_ancestry_proportion_raceDemo_compare\")\n",
    "ancestry %>% head(2)"
   ]
  },
  {
   "cell_type": "markdown",
   "metadata": {},
   "source": [
    "### Load eigen values"
   ]
  },
  {
   "cell_type": "code",
   "execution_count": 4,
   "metadata": {
    "execution": {
     "iopub.execute_input": "2021-10-01T17:42:42.999031Z",
     "iopub.status.busy": "2021-10-01T17:42:42.998070Z",
     "iopub.status.idle": "2021-10-01T17:42:43.056888Z",
     "shell.execute_reply": "2021-10-01T17:42:43.055750Z"
    }
   },
   "outputs": [
    {
     "data": {
      "text/html": [
       "<style>\n",
       ".list-inline {list-style: none; margin:0; padding: 0}\n",
       ".list-inline>li {display: inline-block}\n",
       ".list-inline>li:not(:last-child)::after {content: \"\\00b7\"; padding: 0 .5ex}\n",
       "</style>\n",
       "<ol class=list-inline><li>233</li><li>39</li></ol>\n"
      ],
      "text/latex": [
       "\\begin{enumerate*}\n",
       "\\item 233\n",
       "\\item 39\n",
       "\\end{enumerate*}\n"
      ],
      "text/markdown": [
       "1. 233\n",
       "2. 39\n",
       "\n",
       "\n"
      ],
      "text/plain": [
       "[1] 233  39"
      ]
     },
     "metadata": {},
     "output_type": "display_data"
    },
    {
     "data": {
      "text/html": [
       "<table class=\"dataframe\">\n",
       "<caption>A data.table: 2 × 5</caption>\n",
       "<thead>\n",
       "\t<tr><th scope=col>V1</th><th scope=col>MEblack</th><th scope=col>MEblue</th><th scope=col>MEbrown</th><th scope=col>MEcyan</th></tr>\n",
       "\t<tr><th scope=col>&lt;chr&gt;</th><th scope=col>&lt;dbl&gt;</th><th scope=col>&lt;dbl&gt;</th><th scope=col>&lt;dbl&gt;</th><th scope=col>&lt;dbl&gt;</th></tr>\n",
       "</thead>\n",
       "<tbody>\n",
       "\t<tr><td>R11135</td><td>-0.002453113</td><td> 0.12140793</td><td>-0.08433039</td><td>0.14720121</td></tr>\n",
       "\t<tr><td>R11137</td><td>-0.056503053</td><td>-0.04728863</td><td> 0.02602025</td><td>0.07250302</td></tr>\n",
       "</tbody>\n",
       "</table>\n"
      ],
      "text/latex": [
       "A data.table: 2 × 5\n",
       "\\begin{tabular}{lllll}\n",
       " V1 & MEblack & MEblue & MEbrown & MEcyan\\\\\n",
       " <chr> & <dbl> & <dbl> & <dbl> & <dbl>\\\\\n",
       "\\hline\n",
       "\t R11135 & -0.002453113 &  0.12140793 & -0.08433039 & 0.14720121\\\\\n",
       "\t R11137 & -0.056503053 & -0.04728863 &  0.02602025 & 0.07250302\\\\\n",
       "\\end{tabular}\n"
      ],
      "text/markdown": [
       "\n",
       "A data.table: 2 × 5\n",
       "\n",
       "| V1 &lt;chr&gt; | MEblack &lt;dbl&gt; | MEblue &lt;dbl&gt; | MEbrown &lt;dbl&gt; | MEcyan &lt;dbl&gt; |\n",
       "|---|---|---|---|---|\n",
       "| R11135 | -0.002453113 |  0.12140793 | -0.08433039 | 0.14720121 |\n",
       "| R11137 | -0.056503053 | -0.04728863 |  0.02602025 | 0.07250302 |\n",
       "\n"
      ],
      "text/plain": [
       "  V1     MEblack      MEblue      MEbrown     MEcyan    \n",
       "1 R11135 -0.002453113  0.12140793 -0.08433039 0.14720121\n",
       "2 R11137 -0.056503053 -0.04728863  0.02602025 0.07250302"
      ]
     },
     "metadata": {},
     "output_type": "display_data"
    }
   ],
   "source": [
    "eigen = data.table::fread(\"../../_m/eigengenes.csv\")\n",
    "modules = eigen %>% select(-V1) %>% colnames\n",
    "eigen %>% dim\n",
    "eigen[1:2, 1:5]"
   ]
  },
  {
   "cell_type": "markdown",
   "metadata": {},
   "source": [
    "### Merge data"
   ]
  },
  {
   "cell_type": "code",
   "execution_count": 5,
   "metadata": {
    "execution": {
     "iopub.execute_input": "2021-10-01T17:42:43.066724Z",
     "iopub.status.busy": "2021-10-01T17:42:43.065343Z",
     "iopub.status.idle": "2021-10-01T17:42:43.152006Z",
     "shell.execute_reply": "2021-10-01T17:42:43.150431Z"
    }
   },
   "outputs": [
    {
     "data": {
      "text/html": [
       "<style>\n",
       ".list-inline {list-style: none; margin:0; padding: 0}\n",
       ".list-inline>li {display: inline-block}\n",
       ".list-inline>li:not(:last-child)::after {content: \"\\00b7\"; padding: 0 .5ex}\n",
       "</style>\n",
       "<ol class=list-inline><li>233</li><li>53</li></ol>\n"
      ],
      "text/latex": [
       "\\begin{enumerate*}\n",
       "\\item 233\n",
       "\\item 53\n",
       "\\end{enumerate*}\n"
      ],
      "text/markdown": [
       "1. 233\n",
       "2. 53\n",
       "\n",
       "\n"
      ],
      "text/plain": [
       "[1] 233  53"
      ]
     },
     "metadata": {},
     "output_type": "display_data"
    },
    {
     "data": {
      "text/html": [
       "<table class=\"dataframe\">\n",
       "<caption>A data.table: 2 × 5</caption>\n",
       "<thead>\n",
       "\t<tr><th scope=col>V1</th><th scope=col>MEblack</th><th scope=col>MEblue</th><th scope=col>MEbrown</th><th scope=col>MEcyan</th></tr>\n",
       "\t<tr><th scope=col>&lt;chr&gt;</th><th scope=col>&lt;dbl&gt;</th><th scope=col>&lt;dbl&gt;</th><th scope=col>&lt;dbl&gt;</th><th scope=col>&lt;dbl&gt;</th></tr>\n",
       "</thead>\n",
       "<tbody>\n",
       "\t<tr><td>R11135</td><td>-0.002453113</td><td> 0.12140793</td><td>-0.08433039</td><td>0.14720121</td></tr>\n",
       "\t<tr><td>R11137</td><td>-0.056503053</td><td>-0.04728863</td><td> 0.02602025</td><td>0.07250302</td></tr>\n",
       "</tbody>\n",
       "</table>\n"
      ],
      "text/latex": [
       "A data.table: 2 × 5\n",
       "\\begin{tabular}{lllll}\n",
       " V1 & MEblack & MEblue & MEbrown & MEcyan\\\\\n",
       " <chr> & <dbl> & <dbl> & <dbl> & <dbl>\\\\\n",
       "\\hline\n",
       "\t R11135 & -0.002453113 &  0.12140793 & -0.08433039 & 0.14720121\\\\\n",
       "\t R11137 & -0.056503053 & -0.04728863 &  0.02602025 & 0.07250302\\\\\n",
       "\\end{tabular}\n"
      ],
      "text/markdown": [
       "\n",
       "A data.table: 2 × 5\n",
       "\n",
       "| V1 &lt;chr&gt; | MEblack &lt;dbl&gt; | MEblue &lt;dbl&gt; | MEbrown &lt;dbl&gt; | MEcyan &lt;dbl&gt; |\n",
       "|---|---|---|---|---|\n",
       "| R11135 | -0.002453113 |  0.12140793 | -0.08433039 | 0.14720121 |\n",
       "| R11137 | -0.056503053 | -0.04728863 |  0.02602025 | 0.07250302 |\n",
       "\n"
      ],
      "text/plain": [
       "  V1     MEblack      MEblue      MEbrown     MEcyan    \n",
       "1 R11135 -0.002453113  0.12140793 -0.08433039 0.14720121\n",
       "2 R11137 -0.056503053 -0.04728863  0.02602025 0.07250302"
      ]
     },
     "metadata": {},
     "output_type": "display_data"
    }
   ],
   "source": [
    "dt = eigen %>% left_join(pheno, by=\"V1\") %>%\n",
    "    inner_join(ancestry, by=c(\"BrNum\"=\"id\"))\n",
    "dt %>% dim\n",
    "dt[1:2, 1:5]"
   ]
  },
  {
   "cell_type": "markdown",
   "metadata": {},
   "source": [
    "## Examine correlation of modules with ancestry"
   ]
  },
  {
   "cell_type": "markdown",
   "metadata": {},
   "source": [
    "### Linear model"
   ]
  },
  {
   "cell_type": "code",
   "execution_count": 6,
   "metadata": {
    "execution": {
     "iopub.execute_input": "2021-10-01T17:42:43.157761Z",
     "iopub.status.busy": "2021-10-01T17:42:43.155946Z",
     "iopub.status.idle": "2021-10-01T17:42:43.301463Z",
     "shell.execute_reply": "2021-10-01T17:42:43.299997Z"
    }
   },
   "outputs": [
    {
     "data": {
      "text/html": [
       "<table class=\"dataframe\">\n",
       "<caption>A data.frame: 1 × 3</caption>\n",
       "<thead>\n",
       "\t<tr><th scope=col>Modules</th><th scope=col>Pvalue</th><th scope=col>FDR</th></tr>\n",
       "\t<tr><th scope=col>&lt;chr&gt;</th><th scope=col>&lt;dbl&gt;</th><th scope=col>&lt;dbl&gt;</th></tr>\n",
       "</thead>\n",
       "<tbody>\n",
       "\t<tr><td>MEbrown</td><td>0.0009956639</td><td>0.03783523</td></tr>\n",
       "</tbody>\n",
       "</table>\n"
      ],
      "text/latex": [
       "A data.frame: 1 × 3\n",
       "\\begin{tabular}{lll}\n",
       " Modules & Pvalue & FDR\\\\\n",
       " <chr> & <dbl> & <dbl>\\\\\n",
       "\\hline\n",
       "\t MEbrown & 0.0009956639 & 0.03783523\\\\\n",
       "\\end{tabular}\n"
      ],
      "text/markdown": [
       "\n",
       "A data.frame: 1 × 3\n",
       "\n",
       "| Modules &lt;chr&gt; | Pvalue &lt;dbl&gt; | FDR &lt;dbl&gt; |\n",
       "|---|---|---|\n",
       "| MEbrown | 0.0009956639 | 0.03783523 |\n",
       "\n"
      ],
      "text/plain": [
       "  Modules Pvalue       FDR       \n",
       "1 MEbrown 0.0009956639 0.03783523"
      ]
     },
     "metadata": {},
     "output_type": "display_data"
    }
   ],
   "source": [
    "pvals = c()\n",
    "for(mod in modules){\n",
    "    model = paste0(\"Eur ~ \", mod)\n",
    "    res = anova(lm(model, data=dt))\n",
    "    pvals = c(pvals, res[mod, \"Pr(>F)\"])\n",
    "}\n",
    "fdr <- p.adjust(pvals, method=\"fdr\")\n",
    "df1 = data.frame(\"Modules\"=modules, \"Pvalue\"=pvals, \"FDR\"=fdr)\n",
    "df1 %>% filter(FDR < 0.05)"
   ]
  },
  {
   "cell_type": "code",
   "execution_count": 7,
   "metadata": {
    "execution": {
     "iopub.execute_input": "2021-10-01T17:42:43.310217Z",
     "iopub.status.busy": "2021-10-01T17:42:43.306743Z",
     "iopub.status.idle": "2021-10-01T17:42:43.335604Z",
     "shell.execute_reply": "2021-10-01T17:42:43.333798Z"
    }
   },
   "outputs": [],
   "source": [
    "df1 %>% mutate(Tissue=\"Hippocampus\") %>%\n",
    "    data.table::fwrite(\"eigen_correlation_ancestry.tsv\", sep='\\t')"
   ]
  },
  {
   "cell_type": "markdown",
   "metadata": {},
   "source": [
    "### Pearson correlation"
   ]
  },
  {
   "cell_type": "code",
   "execution_count": 8,
   "metadata": {
    "execution": {
     "iopub.execute_input": "2021-10-01T17:42:43.342885Z",
     "iopub.status.busy": "2021-10-01T17:42:43.340689Z",
     "iopub.status.idle": "2021-10-01T17:42:43.419101Z",
     "shell.execute_reply": "2021-10-01T17:42:43.417173Z"
    }
   },
   "outputs": [
    {
     "data": {
      "text/html": [
       "<table class=\"dataframe\">\n",
       "<caption>A data.frame: 4 × 4</caption>\n",
       "<thead>\n",
       "\t<tr><th scope=col>Modules</th><th scope=col>Rho</th><th scope=col>Pvalue</th><th scope=col>FDR</th></tr>\n",
       "\t<tr><th scope=col>&lt;chr&gt;</th><th scope=col>&lt;dbl&gt;</th><th scope=col>&lt;dbl&gt;</th><th scope=col>&lt;dbl&gt;</th></tr>\n",
       "</thead>\n",
       "<tbody>\n",
       "\t<tr><td>MEbrown      </td><td> 0.2142915</td><td>0.0009956639</td><td>0.03783523</td></tr>\n",
       "\t<tr><td>MEgrey       </td><td>-0.1887614</td><td>0.0038296291</td><td>0.07276295</td></tr>\n",
       "\t<tr><td>MEroyalblue  </td><td>-0.1439254</td><td>0.0280519150</td><td>0.26649319</td></tr>\n",
       "\t<tr><td>MEsaddlebrown</td><td> 0.1473345</td><td>0.0245025391</td><td>0.26649319</td></tr>\n",
       "</tbody>\n",
       "</table>\n"
      ],
      "text/latex": [
       "A data.frame: 4 × 4\n",
       "\\begin{tabular}{llll}\n",
       " Modules & Rho & Pvalue & FDR\\\\\n",
       " <chr> & <dbl> & <dbl> & <dbl>\\\\\n",
       "\\hline\n",
       "\t MEbrown       &  0.2142915 & 0.0009956639 & 0.03783523\\\\\n",
       "\t MEgrey        & -0.1887614 & 0.0038296291 & 0.07276295\\\\\n",
       "\t MEroyalblue   & -0.1439254 & 0.0280519150 & 0.26649319\\\\\n",
       "\t MEsaddlebrown &  0.1473345 & 0.0245025391 & 0.26649319\\\\\n",
       "\\end{tabular}\n"
      ],
      "text/markdown": [
       "\n",
       "A data.frame: 4 × 4\n",
       "\n",
       "| Modules &lt;chr&gt; | Rho &lt;dbl&gt; | Pvalue &lt;dbl&gt; | FDR &lt;dbl&gt; |\n",
       "|---|---|---|---|\n",
       "| MEbrown       |  0.2142915 | 0.0009956639 | 0.03783523 |\n",
       "| MEgrey        | -0.1887614 | 0.0038296291 | 0.07276295 |\n",
       "| MEroyalblue   | -0.1439254 | 0.0280519150 | 0.26649319 |\n",
       "| MEsaddlebrown |  0.1473345 | 0.0245025391 | 0.26649319 |\n",
       "\n"
      ],
      "text/plain": [
       "  Modules       Rho        Pvalue       FDR       \n",
       "1 MEbrown        0.2142915 0.0009956639 0.03783523\n",
       "2 MEgrey        -0.1887614 0.0038296291 0.07276295\n",
       "3 MEroyalblue   -0.1439254 0.0280519150 0.26649319\n",
       "4 MEsaddlebrown  0.1473345 0.0245025391 0.26649319"
      ]
     },
     "metadata": {},
     "output_type": "display_data"
    }
   ],
   "source": [
    "pvals = c(); est = c()\n",
    "for(mod in modules){\n",
    "    res = cor.test(dt[[\"Eur\"]], dt[[mod]], method=\"pearson\")\n",
    "    pvals = c(pvals, res$p.value)\n",
    "    est = c(est, res$estimate[[1]])\n",
    "}\n",
    "fdr <- p.adjust(pvals, method=\"fdr\")\n",
    "df2 = data.frame(\"Modules\"=modules, \"Rho\"=est, \"Pvalue\"=pvals, \"FDR\"=fdr)\n",
    "df2 %>% filter(Pvalue < 0.05)"
   ]
  },
  {
   "cell_type": "markdown",
   "metadata": {},
   "source": [
    "## Clustering modules"
   ]
  },
  {
   "cell_type": "markdown",
   "metadata": {},
   "source": [
    "### Eigengene clustering"
   ]
  },
  {
   "cell_type": "code",
   "execution_count": 9,
   "metadata": {
    "execution": {
     "iopub.execute_input": "2021-10-01T17:42:43.426416Z",
     "iopub.status.busy": "2021-10-01T17:42:43.424041Z",
     "iopub.status.idle": "2021-10-01T17:42:45.059795Z",
     "shell.execute_reply": "2021-10-01T17:42:45.058304Z"
    }
   },
   "outputs": [
    {
     "data": {
      "text/html": [
       "<strong>png:</strong> 2"
      ],
      "text/latex": [
       "\\textbf{png:} 2"
      ],
      "text/markdown": [
       "**png:** 2"
      ],
      "text/plain": [
       "png \n",
       "  2 "
      ]
     },
     "metadata": {},
     "output_type": "display_data"
    }
   ],
   "source": [
    "set.seed(13)\n",
    "mat = eigen %>% column_to_rownames(\"V1\") %>% as.matrix\n",
    "pdf(\"eigengene_heatmap.pdf\", width=10, height=8)\n",
    "Heatmap(mat, name=\"Eigengene\", column_dend_height=unit(3, \"cm\"), \n",
    "        show_row_names=FALSE, show_row_dend=FALSE, column_km=4)\n",
    "dev.off()"
   ]
  },
  {
   "cell_type": "markdown",
   "metadata": {},
   "source": [
    "### clustering within significant module violet"
   ]
  },
  {
   "cell_type": "code",
   "execution_count": 10,
   "metadata": {
    "execution": {
     "iopub.execute_input": "2021-10-01T17:42:45.072571Z",
     "iopub.status.busy": "2021-10-01T17:42:45.070861Z",
     "iopub.status.idle": "2021-10-01T17:42:45.971512Z",
     "shell.execute_reply": "2021-10-01T17:42:45.970580Z"
    }
   },
   "outputs": [
    {
     "name": "stdout",
     "output_type": "stream",
     "text": [
      "Loading objects:\n",
      "  datExpr\n",
      "  sample_table\n",
      "  datTraits\n"
     ]
    }
   ],
   "source": [
    "load(\"../../_m/01.RData\", verbose=TRUE)\n",
    "biomart_file = \"../../../../input/biomart/biomart.csv\"\n",
    "biomart = data.table::fread(biomart_file)"
   ]
  },
  {
   "cell_type": "code",
   "execution_count": 11,
   "metadata": {
    "execution": {
     "iopub.execute_input": "2021-10-01T17:42:45.977166Z",
     "iopub.status.busy": "2021-10-01T17:42:45.975563Z",
     "iopub.status.idle": "2021-10-01T17:42:45.991841Z",
     "shell.execute_reply": "2021-10-01T17:42:45.989643Z"
    }
   },
   "outputs": [],
   "source": [
    "get_module_mat <- function(mod){\n",
    "    MEmodule = data.table::fread(\"../../_m/modules.csv\", header=TRUE) %>% \n",
    "        filter(module == mod)\n",
    "    mat0 = datExpr %>% as.data.frame %>% \n",
    "        select(any_of(MEmodule$V1)) %>% as.matrix\n",
    "    annot = data.frame(\"Geneid\"=colnames(mat0), \n",
    "                       \"ensembl_gene_id\"=gsub(\"\\\\..*\", \"\", colnames(mat0))) %>% \n",
    "        left_join(biomart, by=\"ensembl_gene_id\") %>% \n",
    "        distinct(ensembl_gene_id, .keep_all=TRUE) %>%\n",
    "        mutate(external_gene_name=coalesce(external_gene_name,ensembl_gene_id))\n",
    "    #annot$external_gene_name %>% is.na %>% sum\n",
    "    colnames(mat0) <- annot$external_gene_name\n",
    "    return(mat0)\n",
    "}\n",
    "\n",
    "plot_module_heatmap <- function(mod, w, h){\n",
    "    pdf(paste0(mod,\"_module_heatmap.pdf\"), width=w, height=h)\n",
    "    set.seed(13)\n",
    "    row_ha = rowAnnotation(EA = dt$Eur, AA = dt$Afr)\n",
    "    ht = Heatmap(get_module_mat(mod), \n",
    "            name=\"Residualized\\nExpression\", \n",
    "            column_dend_height=unit(1, \"cm\"), row_km=2,\n",
    "            show_row_names=FALSE, show_row_dend=TRUE,\n",
    "            row_dend_width=unit(2, \"cm\"), \n",
    "            right_annotation = row_ha)\n",
    "    draw(ht)\n",
    "    dev.off()\n",
    "}"
   ]
  },
  {
   "cell_type": "code",
   "execution_count": 12,
   "metadata": {
    "execution": {
     "iopub.execute_input": "2021-10-01T17:42:45.997277Z",
     "iopub.status.busy": "2021-10-01T17:42:45.995722Z",
     "iopub.status.idle": "2021-10-01T17:42:46.030335Z",
     "shell.execute_reply": "2021-10-01T17:42:46.028262Z"
    }
   },
   "outputs": [
    {
     "data": {
      "text/html": [
       "<table class=\"dataframe\">\n",
       "<caption>A data.frame: 1 × 3</caption>\n",
       "<thead>\n",
       "\t<tr><th scope=col>Modules</th><th scope=col>Pvalue</th><th scope=col>FDR</th></tr>\n",
       "\t<tr><th scope=col>&lt;chr&gt;</th><th scope=col>&lt;dbl&gt;</th><th scope=col>&lt;dbl&gt;</th></tr>\n",
       "</thead>\n",
       "<tbody>\n",
       "\t<tr><td>MEbrown</td><td>0.0009956639</td><td>0.03783523</td></tr>\n",
       "</tbody>\n",
       "</table>\n"
      ],
      "text/latex": [
       "A data.frame: 1 × 3\n",
       "\\begin{tabular}{lll}\n",
       " Modules & Pvalue & FDR\\\\\n",
       " <chr> & <dbl> & <dbl>\\\\\n",
       "\\hline\n",
       "\t MEbrown & 0.0009956639 & 0.03783523\\\\\n",
       "\\end{tabular}\n"
      ],
      "text/markdown": [
       "\n",
       "A data.frame: 1 × 3\n",
       "\n",
       "| Modules &lt;chr&gt; | Pvalue &lt;dbl&gt; | FDR &lt;dbl&gt; |\n",
       "|---|---|---|\n",
       "| MEbrown | 0.0009956639 | 0.03783523 |\n",
       "\n"
      ],
      "text/plain": [
       "  Modules Pvalue       FDR       \n",
       "1 MEbrown 0.0009956639 0.03783523"
      ]
     },
     "metadata": {},
     "output_type": "display_data"
    }
   ],
   "source": [
    "df1 %>% filter(FDR < 0.05)"
   ]
  },
  {
   "cell_type": "code",
   "execution_count": 13,
   "metadata": {
    "execution": {
     "iopub.execute_input": "2021-10-01T17:42:46.038218Z",
     "iopub.status.busy": "2021-10-01T17:42:46.035952Z",
     "iopub.status.idle": "2021-10-01T17:42:53.701100Z",
     "shell.execute_reply": "2021-10-01T17:42:53.699653Z"
    }
   },
   "outputs": [
    {
     "data": {
      "text/html": [
       "<strong>png:</strong> 2"
      ],
      "text/latex": [
       "\\textbf{png:} 2"
      ],
      "text/markdown": [
       "**png:** 2"
      ],
      "text/plain": [
       "png \n",
       "  2 "
      ]
     },
     "metadata": {},
     "output_type": "display_data"
    }
   ],
   "source": [
    "plot_module_heatmap(\"brown\", 24, 12)"
   ]
  },
  {
   "cell_type": "markdown",
   "metadata": {},
   "source": [
    "## Reproducibility Information"
   ]
  },
  {
   "cell_type": "code",
   "execution_count": 14,
   "metadata": {
    "execution": {
     "iopub.execute_input": "2021-10-01T17:42:53.707850Z",
     "iopub.status.busy": "2021-10-01T17:42:53.706548Z",
     "iopub.status.idle": "2021-10-01T17:42:53.939219Z",
     "shell.execute_reply": "2021-10-01T17:42:53.937919Z"
    }
   },
   "outputs": [
    {
     "data": {
      "text/plain": [
       "[1] \"2021-10-01 13:42:53 EDT\""
      ]
     },
     "metadata": {},
     "output_type": "display_data"
    },
    {
     "data": {
      "text/plain": [
       "   user  system elapsed \n",
       " 15.670   1.090  17.111 "
      ]
     },
     "metadata": {},
     "output_type": "display_data"
    },
    {
     "data": {
      "text/plain": [
       "─ Session info ───────────────────────────────────────────────────────────────────────────────────────────────────────\n",
       " setting  value                       \n",
       " version  R version 4.0.3 (2020-10-10)\n",
       " os       Arch Linux                  \n",
       " system   x86_64, linux-gnu           \n",
       " ui       X11                         \n",
       " language (EN)                        \n",
       " collate  en_US.UTF-8                 \n",
       " ctype    en_US.UTF-8                 \n",
       " tz       America/New_York            \n",
       " date     2021-10-01                  \n",
       "\n",
       "─ Packages ───────────────────────────────────────────────────────────────────────────────────────────────────────────\n",
       " package        * version  date       lib source        \n",
       " abind            1.4-5    2016-07-21 [1] CRAN (R 4.0.2)\n",
       " assertthat       0.2.1    2019-03-21 [1] CRAN (R 4.0.2)\n",
       " backports        1.2.1    2020-12-09 [1] CRAN (R 4.0.2)\n",
       " base64enc        0.1-3    2015-07-28 [1] CRAN (R 4.0.2)\n",
       " BiocGenerics     0.36.1   2021-04-16 [1] Bioconductor  \n",
       " broom            0.7.9    2021-07-27 [1] CRAN (R 4.0.3)\n",
       " Cairo            1.5-12.2 2020-07-07 [1] CRAN (R 4.0.2)\n",
       " car              3.0-11   2021-06-27 [1] CRAN (R 4.0.3)\n",
       " carData          3.0-4    2020-05-22 [1] CRAN (R 4.0.2)\n",
       " cellranger       1.1.0    2016-07-27 [1] CRAN (R 4.0.2)\n",
       " circlize         0.4.13   2021-06-09 [1] CRAN (R 4.0.3)\n",
       " cli              3.0.1    2021-07-17 [1] CRAN (R 4.0.3)\n",
       " clue             0.3-59   2021-04-16 [1] CRAN (R 4.0.3)\n",
       " cluster          2.1.0    2019-06-19 [2] CRAN (R 4.0.3)\n",
       " colorspace       2.0-2    2021-06-24 [1] CRAN (R 4.0.3)\n",
       " ComplexHeatmap * 2.6.2    2020-11-12 [1] Bioconductor  \n",
       " crayon           1.4.1    2021-02-08 [1] CRAN (R 4.0.3)\n",
       " curl             4.3.2    2021-06-23 [1] CRAN (R 4.0.3)\n",
       " data.table       1.14.2   2021-09-27 [1] CRAN (R 4.0.3)\n",
       " DBI              1.1.1    2021-01-15 [1] CRAN (R 4.0.2)\n",
       " dbplyr           2.1.1    2021-04-06 [1] CRAN (R 4.0.3)\n",
       " digest           0.6.28   2021-09-23 [1] CRAN (R 4.0.3)\n",
       " dplyr          * 1.0.7    2021-06-18 [1] CRAN (R 4.0.3)\n",
       " ellipsis         0.3.2    2021-04-29 [1] CRAN (R 4.0.3)\n",
       " evaluate         0.14     2019-05-28 [1] CRAN (R 4.0.2)\n",
       " fansi            0.5.0    2021-05-25 [1] CRAN (R 4.0.3)\n",
       " fastmap          1.1.0    2021-01-25 [1] CRAN (R 4.0.2)\n",
       " forcats        * 0.5.1    2021-01-27 [1] CRAN (R 4.0.2)\n",
       " foreign          0.8-80   2020-05-24 [2] CRAN (R 4.0.3)\n",
       " fs               1.5.0    2020-07-31 [1] CRAN (R 4.0.2)\n",
       " generics         0.1.0    2020-10-31 [1] CRAN (R 4.0.2)\n",
       " GetoptLong       1.0.5    2020-12-15 [1] CRAN (R 4.0.2)\n",
       " ggplot2        * 3.3.5    2021-06-25 [1] CRAN (R 4.0.3)\n",
       " ggpubr         * 0.4.0    2020-06-27 [1] CRAN (R 4.0.2)\n",
       " ggsignif         0.6.3    2021-09-09 [1] CRAN (R 4.0.3)\n",
       " GlobalOptions    0.1.2    2020-06-10 [1] CRAN (R 4.0.2)\n",
       " glue             1.4.2    2020-08-27 [1] CRAN (R 4.0.2)\n",
       " gtable           0.3.0    2019-03-25 [1] CRAN (R 4.0.2)\n",
       " haven            2.4.3    2021-08-04 [1] CRAN (R 4.0.3)\n",
       " hms              1.1.1    2021-09-26 [1] CRAN (R 4.0.3)\n",
       " htmltools        0.5.2    2021-08-25 [1] CRAN (R 4.0.3)\n",
       " httr             1.4.2    2020-07-20 [1] CRAN (R 4.0.2)\n",
       " IRanges          2.24.1   2020-12-12 [1] Bioconductor  \n",
       " IRdisplay        1.0      2021-01-20 [1] CRAN (R 4.0.2)\n",
       " IRkernel         1.2      2021-05-11 [1] CRAN (R 4.0.3)\n",
       " jsonlite         1.7.2    2020-12-09 [1] CRAN (R 4.0.2)\n",
       " lifecycle        1.0.1    2021-09-24 [1] CRAN (R 4.0.3)\n",
       " lubridate        1.7.10   2021-02-26 [1] CRAN (R 4.0.3)\n",
       " magrittr         2.0.1    2020-11-17 [1] CRAN (R 4.0.2)\n",
       " matrixStats      0.61.0   2021-09-17 [1] CRAN (R 4.0.3)\n",
       " modelr           0.1.8    2020-05-19 [1] CRAN (R 4.0.2)\n",
       " munsell          0.5.0    2018-06-12 [1] CRAN (R 4.0.2)\n",
       " openxlsx         4.2.4    2021-06-16 [1] CRAN (R 4.0.3)\n",
       " pbdZMQ           0.3-5    2021-02-10 [1] CRAN (R 4.0.3)\n",
       " pillar           1.6.3    2021-09-26 [1] CRAN (R 4.0.3)\n",
       " pkgconfig        2.0.3    2019-09-22 [1] CRAN (R 4.0.2)\n",
       " png              0.1-7    2013-12-03 [1] CRAN (R 4.0.2)\n",
       " purrr          * 0.3.4    2020-04-17 [1] CRAN (R 4.0.2)\n",
       " R6               2.5.1    2021-08-19 [1] CRAN (R 4.0.3)\n",
       " RColorBrewer     1.1-2    2014-12-07 [1] CRAN (R 4.0.2)\n",
       " Rcpp             1.0.7    2021-07-07 [1] CRAN (R 4.0.3)\n",
       " readr          * 2.0.2    2021-09-27 [1] CRAN (R 4.0.3)\n",
       " readxl           1.3.1    2019-03-13 [1] CRAN (R 4.0.2)\n",
       " repr             1.1.3    2021-01-21 [1] CRAN (R 4.0.2)\n",
       " reprex           2.0.1    2021-08-05 [1] CRAN (R 4.0.3)\n",
       " rio              0.5.27   2021-06-21 [1] CRAN (R 4.0.3)\n",
       " rjson            0.2.20   2018-06-08 [1] CRAN (R 4.0.2)\n",
       " rlang            0.4.11   2021-04-30 [1] CRAN (R 4.0.3)\n",
       " rstatix          0.7.0    2021-02-13 [1] CRAN (R 4.0.3)\n",
       " rstudioapi       0.13     2020-11-12 [1] CRAN (R 4.0.2)\n",
       " rvest            1.0.1    2021-07-26 [1] CRAN (R 4.0.3)\n",
       " S4Vectors        0.28.1   2020-12-09 [1] Bioconductor  \n",
       " scales           1.1.1    2020-05-11 [1] CRAN (R 4.0.2)\n",
       " sessioninfo      1.1.1    2018-11-05 [1] CRAN (R 4.0.2)\n",
       " shape            1.4.6    2021-05-19 [1] CRAN (R 4.0.3)\n",
       " stringi          1.7.4    2021-08-25 [1] CRAN (R 4.0.3)\n",
       " stringr        * 1.4.0    2019-02-10 [1] CRAN (R 4.0.2)\n",
       " tibble         * 3.1.4    2021-08-25 [1] CRAN (R 4.0.3)\n",
       " tidyr          * 1.1.4    2021-09-27 [1] CRAN (R 4.0.3)\n",
       " tidyselect       1.1.1    2021-04-30 [1] CRAN (R 4.0.3)\n",
       " tidyverse      * 1.3.1    2021-04-15 [1] CRAN (R 4.0.3)\n",
       " tzdb             0.1.2    2021-07-20 [1] CRAN (R 4.0.3)\n",
       " utf8             1.2.2    2021-07-24 [1] CRAN (R 4.0.3)\n",
       " uuid             0.1-4    2020-02-26 [1] CRAN (R 4.0.2)\n",
       " vctrs            0.3.8    2021-04-29 [1] CRAN (R 4.0.3)\n",
       " withr            2.4.2    2021-04-18 [1] CRAN (R 4.0.3)\n",
       " xml2             1.3.2    2020-04-23 [1] CRAN (R 4.0.2)\n",
       " zip              2.2.0    2021-05-31 [1] CRAN (R 4.0.3)\n",
       "\n",
       "[1] /home/jbenja13/R/x86_64-pc-linux-gnu-library/4.0\n",
       "[2] /usr/lib/R/library"
      ]
     },
     "metadata": {},
     "output_type": "display_data"
    }
   ],
   "source": [
    "Sys.time()\n",
    "proc.time()\n",
    "options(width = 120)\n",
    "sessioninfo::session_info()"
   ]
  }
 ],
 "metadata": {
  "kernelspec": {
   "display_name": "R",
   "language": "R",
   "name": "ir"
  },
  "language_info": {
   "codemirror_mode": "r",
   "file_extension": ".r",
   "mimetype": "text/x-r-source",
   "name": "R",
   "pygments_lexer": "r",
   "version": "4.0.3"
  }
 },
 "nbformat": 4,
 "nbformat_minor": 4
}
