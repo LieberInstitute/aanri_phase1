{
 "cells": [
  {
   "cell_type": "markdown",
   "metadata": {},
   "source": [
    "# Building consensus network with WGCNA"
   ]
  },
  {
   "cell_type": "code",
   "execution_count": 1,
   "metadata": {},
   "outputs": [],
   "source": [
    "PARAM_NETWORK_TYPE = 'signed'"
   ]
  },
  {
   "cell_type": "markdown",
   "metadata": {},
   "source": [
    "## Functions"
   ]
  },
  {
   "cell_type": "code",
   "execution_count": 2,
   "metadata": {},
   "outputs": [],
   "source": [
    "filter_outliers = function(expression, z_threshold = 2.5)\n",
    "{\n",
    "     # Input: an expression matrix\n",
    "     # Output: an expression matrix with outliers removed\n",
    "     # Remove samples with z normalized total distance from other samples > z_threshold\n",
    "     \n",
    "     sample_distance = dist(expression)\n",
    "     dist_z = scale(colSums(as.matrix(sample_distance)))\n",
    "     stopifnot(all(rownames(dist_z) == rownames(expression)))\n",
    "     keepSamples = dist_z < z_threshold\n",
    "     new_expression = expression[keepSamples,]\n",
    "     new_expression\n",
    "}\n",
    "\n",
    "\n",
    "prepare_data=function(setLabels)\n",
    "{\n",
    "    suppressMessages(library(dplyr))\n",
    "    # Load sample data\n",
    "    load(\"../../../../differential_analysis/dentateGyrus/_m/genes/voomSVA.RData\")\n",
    "    phenotypes = v$targets %>% as.data.frame %>% select(RNum, Race)\n",
    "    sample_table0 = v$design %>% as.data.frame %>% select(-Intercept) %>%\n",
    "        rename(\"Ancestry\"=\"EA\", \"Sex\"=\"Male\")\n",
    "    sample_table = phenotypes %>% \n",
    "        inner_join(tibble::rownames_to_column(sample_table0, \"RNum\"), by=c(\"RNum\")) %>% \n",
    "        mutate(\"V1\"=RNum) %>% tibble::column_to_rownames(\"V1\")\n",
    "    ## Filter by ancestry\n",
    "    aa_samples = phenotypes %>% filter(Race == \"AA\")\n",
    "    ea_samples = phenotypes %>% filter(Race == \"CAUC\")\n",
    "    print(dim(aa_samples))\n",
    "    print(dim(ea_samples))\n",
    "    # Load residualized expression\n",
    "    vsd <- data.table::fread(paste0(\"../../../../differential_analysis/dentateGyrus/\",\n",
    "                                    \"_m/genes/residualized_expression.tsv\")) %>%\n",
    "        replace(is.na(.), \"\") %>% tibble::column_to_rownames(\"V1\")\n",
    "    print(dim(vsd))  \n",
    "    # Keep only the columns and rows that are present in\n",
    "    # both the sample table and vsd file\n",
    "    samples_aa = intersect(colnames(vsd), rownames(aa_samples))\n",
    "    samples_ea = intersect(colnames(vsd), rownames(ea_samples))\n",
    "    vsd_aa = vsd[,samples_aa]\n",
    "    vsd_ea = vsd[,samples_ea]  \n",
    "    # WGCNA data import\n",
    "    suppressMessages(library(WGCNA))\n",
    "    nSets = 2; shortLabels = c(\"AA\", \"EA\")\n",
    "    multiExpr0 = vector(mode=\"list\", length=nSets)\n",
    "    multiExpr0[[1]] = list(data=as.data.frame(t(vsd_aa)))\n",
    "    names(multiExpr0[[1]]$data) = rownames(vsd_aa)\n",
    "    rownames(multiExpr0[[1]]$data) = colnames(vsd_aa)\n",
    "    multiExpr0[[2]] = list(data=as.data.frame(t(vsd_ea)))\n",
    "    names(multiExpr0[[2]]$data) = rownames(vsd_ea)\n",
    "    rownames(multiExpr0[[2]]$data) = colnames(vsd_ea)\n",
    "    exprSize = checkSets(multiExpr0)\n",
    "    print(exprSize)\n",
    "    # Remove offending genes and samples from the data\n",
    "    gsg = goodSamplesGenesMS(multiExpr0, verbose = 3);\n",
    "    if (!gsg$allOK)\n",
    "    {\n",
    "        for(set in 1:exprSize$nSets){\n",
    "            multiExpr0[[set]]$data = multiExpr0[[set]]$data[gsg$goodSamples, gsg$goodGenes]\n",
    "        }\n",
    "    }\n",
    "    # Secondary sample filtering\n",
    "    for(set in 1:exprSize$nSets){\n",
    "        multiExpr0[[set]]$data = filter_outliers(multiExpr0[[set]]$data, 2.5)\n",
    "    }\n",
    "    multiExpr <- multiExpr0\n",
    "    exprSize = checkSets(multiExpr)\n",
    "    samples_aa = intersect(rownames(multiExpr[[1]]$data), rownames(aa_samples))\n",
    "    samples_ea = intersect(rownames(multiExpr[[2]]$data), rownames(ea_samples))\n",
    "    samples = c(samples_aa, samples_ea)\n",
    "    sample_table = sample_table[samples,]\n",
    "    save(multiExpr, exprSize, sample_table, shortLabels, file = '00.RData')\n",
    "}\n",
    "\n",
    "\n",
    "plot_sample_clustering <- function(setLabels){\n",
    "    lnames = load('00.RData')\n",
    "    sampleTrees = list()\n",
    "    for(set in 1:exprSize$nSets){\n",
    "        sampleTrees[[set]] = hclust(dist(multiExpr[[set]]$data), method=\"average\")\n",
    "    }\n",
    "    pdf(file='sample_clustering.pdf', height=12, width=12)\n",
    "    par(mfrow=c(2,1))\n",
    "    par(mar=c(0,4,2,0))\n",
    "    for(set in 1:exprSize$nSets){\n",
    "        plot(sampleTrees[[set]], \n",
    "             main=paste(\"Sample clustering on all genes in \", setLabels[set]), \n",
    "             xlab=\"\", sub=\"\", cex=0.7)\n",
    "    }\n",
    "    dev.off()\n",
    "}\n"
   ]
  },
  {
   "cell_type": "code",
   "execution_count": 3,
   "metadata": {},
   "outputs": [],
   "source": [
    "prepare_traits = function()\n",
    "{\n",
    "    lnames = load('00.RData')\n",
    "    Traits <- vector(mode=\"list\", length=exprSize$nSets)\n",
    "    # Associate traits with samples\n",
    "    for(set in 1:exprSize$nSets){\n",
    "        setSamples = rownames(multiExpr[[set]]$data)\n",
    "        traitRows = match(setSamples, sample_table$RNum)\n",
    "        Traits[[set]] = list(data=sample_table[traitRows, c(-1, -2)])\n",
    "        rownames(Traits[[set]]$data) = sample_table[traitRows, 1]\n",
    "    }\n",
    "    nGenes = exprSize$nGenes\n",
    "    nSamples = exprSize$nSamples\n",
    "    save(multiExpr, exprSize, sample_table, shortLabels,\n",
    "         Traits, nGenes, nSamples, file = \"01.RData\")\n",
    "}\n",
    "\n",
    "\n",
    "plot_power_parameter <- function(nSets, multiExpr, RsquaredCut = 0.85){\n",
    "    # Choose a set of soft-thresholding powers\n",
    "    powers = seq(from = 4, to=20, by=1)\n",
    "    # Initialize a list to hold the results of scale-free analysis\n",
    "    powerTables = vector(mode = \"list\", length = nSets)\n",
    "    softPowerTables = vector(mode = \"list\", length = nSets)\n",
    "    # Call the network topology analysis function for each set in turn\n",
    "    for (set in 1:nSets){\n",
    "        powerTables[[set]] = list(data = pickSoftThreshold(multiExpr[[set]]$data, \n",
    "                                                           powerVector=powers, verbose = 2, \n",
    "                                                           networkType=PARAM_NETWORK_TYPE)[[2]])\n",
    "        # Calculated softpower from fitted values\n",
    "        cond = powerTables[[set]]$data$`SFT.R.sq` > RsquaredCut\n",
    "        softPowerTables[[set]] = min(powerTables[[set]]$data[cond,\"Power\"])\n",
    "    }\n",
    "    softpower = max(unlist(softPowerTables))\n",
    "    print(softpower)\n",
    "    # Plot the results:\n",
    "    colors = c(\"black\", \"red\")\n",
    "    # Will plot these columns of the returned scale free analysis tables\n",
    "    plotCols = c(2,5,6,7)\n",
    "    colNames = c(\"Scale Free Topology Model Fit\", \"Mean connectivity\", \n",
    "                 \"Median connectivity\", \"Max connectivity\")\n",
    "    # Get the minima and maxima of the plotted points\n",
    "    ylim = matrix(NA, nrow = 2, ncol = 4)\n",
    "    for (set in 1:nSets){\n",
    "        for (col in 1:length(plotCols)){\n",
    "            ylim[1, col] = min(ylim[1, col], \n",
    "                               powerTables[[set]]$data[, plotCols[col]], \n",
    "                               na.rm = TRUE)\n",
    "            ylim[2, col] = max(ylim[2, col], \n",
    "                               powerTables[[set]]$data[, plotCols[col]],\n",
    "                               na.rm = TRUE)\n",
    "        }\n",
    "    }\n",
    "    # Plot the quantities in the chosen columns vs. the soft thresholding power\n",
    "    sizeGrWindow(8, 6)\n",
    "    pdf(file = \"power_parameter_selection.pdf\", wi = 8, he = 6)\n",
    "    par(mfcol = c(2,2))\n",
    "    par(mar = c(4.2, 4.2 , 2.2, 0.5))\n",
    "    cex1 = 0.7\n",
    "    for (col in 1:length(plotCols)) for (set in 1:nSets){\n",
    "        if (set==1){\n",
    "            plot(powerTables[[set]]$data[,1], -sign(powerTables[[set]]$data[,3])*powerTables[[set]]$data[,2],\n",
    "                 xlab=\"Soft Threshold (power)\",ylab=colNames[col],type=\"n\", ylim = ylim[, col],\n",
    "                 main = colNames[col])\n",
    "            addGrid()\n",
    "        }\n",
    "        if (col==1){\n",
    "            text(powerTables[[set]]$data[,1], -sign(powerTables[[set]]$data[,3])*powerTables[[set]]$data[,2],\n",
    "                 labels=powers,cex=cex1,col=colors[set])\n",
    "        } else {\n",
    "            text(powerTables[[set]]$data[,1], powerTables[[set]]$data[,plotCols[col]],\n",
    "                 labels=powers,cex=cex1,col=colors[set])\n",
    "        }\n",
    "        if (col==1){\n",
    "            legend(\"bottomright\", legend = setLabels, col = colors, pch = 20)\n",
    "        } else {\n",
    "            legend(\"topright\", legend = setLabels, col = colors, pch = 20)\n",
    "        }\n",
    "    }\n",
    "    dev.off()\n",
    "}\n",
    "\n",
    "\n",
    "figure_out_power_parameter <- function()\n",
    "{\n",
    "    suppressMessages(library(WGCNA))\n",
    "    #enableWGCNAThreads()\n",
    "    lnames = load('01.RData')\n",
    "    nSets = exprSize$nSets\n",
    "    plot_power_parameter(nSets, multiExpr, 0.85)\n",
    "}"
   ]
  },
  {
   "cell_type": "code",
   "execution_count": 4,
   "metadata": {},
   "outputs": [],
   "source": [
    "construct_network <- function(softPower){\n",
    "    suppressMessages(library(WGCNA))\n",
    "    enableWGCNAThreads()\n",
    "    lnames = load(\"01.RData\")\n",
    "    # softPower value from previous plot power_parameter_selection.pdf\n",
    "    cor <- WGCNA::cor\n",
    "    net = blockwiseConsensusModules(multiExpr, maxBlockSize=30000, \n",
    "                                    power=softPower, minModuleSize=30, \n",
    "                                    deepSplit=2, pamRespectsDendro=FALSE, \n",
    "                                    mergeCutHeight=0.25, numericLabels=TRUE,\n",
    "                                    minKMEtoStay=0, corType=\"bicor\",\n",
    "                                    saveTOMFileBase=\"TOM\", saveTOMs=TRUE, \n",
    "                                    networkType=PARAM_NETWORK_TYPE,\n",
    "                                    TOMType=PARAM_NETWORK_TYPE, verbose=3)\n",
    "    consMEs = net$multiMEs\n",
    "    moduleLabels = net$colors\n",
    "    moduleColors = labels2colors(moduleLabels)\n",
    "    consTree = net$dendrograms[[1]]\n",
    "    save(net, consMEs, moduleLabels, moduleColors, consTree, file=\"02.RData\")\n",
    "}\n",
    "\n",
    "\n",
    "plot_cluster_dendrogram <- function(){\n",
    "    suppressMessages(library(WGCNA))\n",
    "    lnames = load(\"02.RData\")\n",
    "    sizeGrWindow(8,6)\n",
    "    pdf(file = \"consensus_dendrogram.pdf\", wi = 8, he = 6)\n",
    "    plotDendroAndColors(consTree, moduleColors, \"Module colors\", dendroLabels=FALSE, \n",
    "                        hang=0.03, addGuide=TRUE, guideHang=0.05,\n",
    "                        main=\"Consensus gene dendrogram and module colors\")\n",
    "    dev.off()\n",
    "}"
   ]
  },
  {
   "cell_type": "code",
   "execution_count": 5,
   "metadata": {},
   "outputs": [],
   "source": [
    "consensus_eigengene_network <- function(){\n",
    "    suppressMessages(library(WGCNA))\n",
    "    lnames = load(file = \"01.RData\")\n",
    "    lnames = load(file = \"02.RData\")\n",
    "    nSets = exprSize$nSets\n",
    "    # Create a variable weight that will hold just the body weight of mice in both sets\n",
    "    ancestry = vector(mode = \"list\", length = nSets);\n",
    "    for (set in 1:nSets){\n",
    "        ancestry[[set]] = list(data = as.data.frame(Traits[[set]]$data$Ancestry))\n",
    "        names(ancestry[[set]]$data) = \"ancestry\"\n",
    "    }\n",
    "    # Recalculate consMEs to give them color names\n",
    "    consMEsC = multiSetMEs(multiExpr, universalColors = moduleColors)\n",
    "    # Plot eigengene network\n",
    "    sizeGrWindow(8,10)\n",
    "    pdf(file = \"eigengene_networks.pdf\", width=8, height=10)\n",
    "    par(cex = 0.9)\n",
    "    plotEigengeneNetworks(consMEsC, setLabels, marDendro=c(0,2,2,1), \n",
    "                          marHeatmap=c(3,3,2,1), xLabelsAngle=0,\n",
    "                          zlimPreservation=c(0.5, 1))\n",
    "    dev.off()\n",
    "    # We add the weight trait to the eigengenes and order them by consesus hierarchical clustering:\n",
    "    MET = consensusOrderMEs(addTraitToMEs(consMEsC, ancestry))\n",
    "    # Plot eigengene network\n",
    "    sizeGrWindow(8,10)\n",
    "    pdf(file = \"eigengene_networks_ancestry.pdf\", width=8, height=10)\n",
    "    par(cex = 0.9)\n",
    "    plotEigengeneNetworks(MET, setLabels, marDendro=c(0,2,2,1), \n",
    "                          marHeatmap=c(3,3,2,1), xLabelsAngle=0,\n",
    "                          zlimPreservation=c(0.5, 1))\n",
    "    dev.off()\n",
    "    save(MET, consMEsC, ancestry, file=\"03.RData\")\n",
    "}\n",
    "\n",
    "\n",
    "export_eigengene_tables = function(){\n",
    "    suppressMessages(library(WGCNA))\n",
    "    lnames = load(file = \"01.RData\")\n",
    "    lnames = load(file = \"02.RData\")\n",
    "    lnames = load(file = \"03.RData\")\n",
    "    nSets = exprSize$nSets\n",
    "    ## Export eigengene tables\n",
    "    for(set in 1:nSets){\n",
    "        write.csv(consMEsC[[set]]$data, \n",
    "                  paste0('eigengenes_',shortLabels[[set]],'.csv'))\n",
    "    }\n",
    "    # Write modules\n",
    "    modules = data.frame(row.names=colnames(multiExpr[[1]]$data), \n",
    "                         module=moduleColors)\n",
    "    write.csv(modules, 'modules.csv')\n",
    "}"
   ]
  },
  {
   "cell_type": "markdown",
   "metadata": {},
   "source": [
    "## Main"
   ]
  },
  {
   "cell_type": "code",
   "execution_count": 6,
   "metadata": {},
   "outputs": [
    {
     "name": "stderr",
     "output_type": "stream",
     "text": [
      "Loading required package: limma\n",
      "\n"
     ]
    },
    {
     "name": "stdout",
     "output_type": "stream",
     "text": [
      "[1] 47  2\n",
      "[1] 43  2\n"
     ]
    },
    {
     "name": "stderr",
     "output_type": "stream",
     "text": [
      "Warning message in data.table::fread(paste0(\"../../../../differential_analysis/dentateGyrus/\", :\n",
      "\"Detected 90 column names but the data has 91 columns (i.e. invalid file). Added 1 extra default column name for the first column which is guessed to be row names or an index. Use setnames() afterwards if this guess is not correct, or fix the file write command that created the file to create a valid file.\"\n"
     ]
    },
    {
     "name": "stdout",
     "output_type": "stream",
     "text": [
      "[1] 21140    90\n",
      "$nSets\n",
      "[1] 2\n",
      "\n",
      "$nGenes\n",
      "[1] 21140\n",
      "\n",
      "$nSamples\n",
      "[1] 47 43\n",
      "\n",
      "$structureOK\n",
      "[1] TRUE\n",
      "\n",
      " Flagging genes and samples with too many missing values...\n",
      "  ..step 1\n",
      "   ..bad gene count: 0, bad sample counts: 0, 0\n"
     ]
    },
    {
     "data": {
      "text/html": [
       "<strong>png:</strong> 2"
      ],
      "text/latex": [
       "\\textbf{png:} 2"
      ],
      "text/markdown": [
       "**png:** 2"
      ],
      "text/plain": [
       "png \n",
       "  2 "
      ]
     },
     "metadata": {},
     "output_type": "display_data"
    },
    {
     "name": "stdout",
     "output_type": "stream",
     "text": [
      "pickSoftThreshold: will use block size 2116.\n",
      " pickSoftThreshold: calculating connectivity for given powers...\n",
      "   ..working on genes 1 through 2116 of 21140\n"
     ]
    },
    {
     "name": "stderr",
     "output_type": "stream",
     "text": [
      "Warning message:\n",
      "\"executing %dopar% sequentially: no parallel backend registered\"\n"
     ]
    },
    {
     "name": "stdout",
     "output_type": "stream",
     "text": [
      "   ..working on genes 2117 through 4232 of 21140\n",
      "   ..working on genes 4233 through 6348 of 21140\n",
      "   ..working on genes 6349 through 8464 of 21140\n",
      "   ..working on genes 8465 through 10580 of 21140\n",
      "   ..working on genes 10581 through 12696 of 21140\n",
      "   ..working on genes 12697 through 14812 of 21140\n",
      "   ..working on genes 14813 through 16928 of 21140\n",
      "   ..working on genes 16929 through 19044 of 21140\n",
      "   ..working on genes 19045 through 21140 of 21140\n",
      "   Power SFT.R.sq slope truncated.R.sq mean.k. median.k. max.k.\n",
      "1      4    0.475 -7.71          0.915 1680.00   1650.00 2300.0\n",
      "2      5    0.582 -6.08          0.928  967.00    945.00 1530.0\n",
      "3      6    0.689 -5.21          0.953  573.00    554.00 1060.0\n",
      "4      7    0.769 -4.62          0.972  349.00    332.00  759.0\n",
      "5      8    0.827 -4.19          0.985  218.00    203.00  561.0\n",
      "6      9    0.866 -3.83          0.990  139.00    127.00  425.0\n",
      "7     10    0.891 -3.59          0.994   90.50     80.30  329.0\n",
      "8     11    0.912 -3.35          0.995   60.20     51.80  259.0\n",
      "9     12    0.928 -3.16          0.996   40.80     33.90  208.0\n",
      "10    13    0.935 -3.05          0.997   28.20     22.50  170.0\n",
      "11    14    0.940 -2.95          0.997   19.80     15.10  141.0\n",
      "12    15    0.946 -2.85          0.997   14.10     10.20  119.0\n",
      "13    16    0.941 -2.80          0.995   10.20      7.03  101.0\n",
      "14    17    0.941 -2.74          0.995    7.50      4.88   87.0\n",
      "15    18    0.945 -2.66          0.996    5.58      3.42   75.2\n",
      "16    19    0.942 -2.60          0.994    4.20      2.42   65.5\n",
      "17    20    0.914 -2.62          0.981    3.20      1.72   57.4\n",
      "pickSoftThreshold: will use block size 2116.\n",
      " pickSoftThreshold: calculating connectivity for given powers...\n",
      "   ..working on genes 1 through 2116 of 21140\n",
      "   ..working on genes 2117 through 4232 of 21140\n",
      "   ..working on genes 4233 through 6348 of 21140\n",
      "   ..working on genes 6349 through 8464 of 21140\n",
      "   ..working on genes 8465 through 10580 of 21140\n",
      "   ..working on genes 10581 through 12696 of 21140\n",
      "   ..working on genes 12697 through 14812 of 21140\n",
      "   ..working on genes 14813 through 16928 of 21140\n",
      "   ..working on genes 16929 through 19044 of 21140\n",
      "   ..working on genes 19045 through 21140 of 21140\n",
      "   Power SFT.R.sq slope truncated.R.sq mean.k. median.k. max.k.\n",
      "1      4   0.0315 -2.05          0.939 1700.00   1690.00 2250.0\n",
      "2      5   0.2720 -4.29          0.953  986.00    969.00 1490.0\n",
      "3      6   0.4590 -4.38          0.963  588.00    571.00 1040.0\n",
      "4      7   0.6210 -4.35          0.977  360.00    344.00  748.0\n",
      "5      8   0.7250 -4.09          0.987  225.00    212.00  557.0\n",
      "6      9   0.7970 -3.89          0.991  145.00    133.00  427.0\n",
      "7     10   0.8390 -3.79          0.990   94.60     84.80  337.0\n",
      "8     11   0.8640 -3.68          0.996   63.20     54.90  270.0\n",
      "9     12   0.8890 -3.51          0.997   43.10     36.20  221.0\n",
      "10    13   0.9060 -3.37          0.998   29.80     24.10  183.0\n",
      "11    14   0.9110 -3.26          0.994   21.00     16.30  154.0\n",
      "12    15   0.9160 -3.16          0.990   15.00     11.10  131.0\n",
      "13    16   0.9190 -3.09          0.995   10.90      7.68  112.0\n",
      "14    17   0.9280 -2.98          0.996    8.04      5.36   97.0\n",
      "15    18   0.9190 -2.92          0.989    6.00      3.77   84.5\n",
      "16    19   0.9240 -2.83          0.989    4.53      2.68   74.0\n",
      "17    20   0.9250 -2.76          0.985    3.46      1.92   65.3\n",
      "[1] 11\n"
     ]
    },
    {
     "data": {
      "text/html": [
       "<strong>png:</strong> 2"
      ],
      "text/latex": [
       "\\textbf{png:} 2"
      ],
      "text/markdown": [
       "**png:** 2"
      ],
      "text/plain": [
       "png \n",
       "  2 "
      ]
     },
     "metadata": {},
     "output_type": "display_data"
    }
   ],
   "source": [
    "setLabels = c(\"AA Dentate Gyrus\", \"EA Dentate Gyrus\")\n",
    "prepare_data(setLabels)\n",
    "plot_sample_clustering(setLabels)\n",
    "prepare_traits()\n",
    "figure_out_power_parameter()"
   ]
  },
  {
   "cell_type": "code",
   "execution_count": 5,
   "metadata": {},
   "outputs": [],
   "source": [
    "softpower = 11 ## Based on Dentate Gyrus and Hippocampus\n",
    "construct_network(softpower)\n",
    "plot_cluster_dendrogram()"
   ]
  },
  {
   "cell_type": "code",
   "execution_count": null,
   "metadata": {},
   "outputs": [],
   "source": [
    "consensus_eigengene_network()\n",
    "export_eigengene_tables()"
   ]
  },
  {
   "cell_type": "markdown",
   "metadata": {},
   "source": [
    "## Repreducibility Information"
   ]
  },
  {
   "cell_type": "code",
   "execution_count": null,
   "metadata": {},
   "outputs": [],
   "source": [
    "Sys.time()\n",
    "proc.time()\n",
    "options(width = 120)\n",
    "sessioninfo::session_info()"
   ]
  }
 ],
 "metadata": {
  "kernelspec": {
   "display_name": "R",
   "language": "R",
   "name": "ir"
  },
  "language_info": {
   "codemirror_mode": "r",
   "file_extension": ".r",
   "mimetype": "text/x-r-source",
   "name": "R",
   "pygments_lexer": "r",
   "version": "4.0.3"
  }
 },
 "nbformat": 4,
 "nbformat_minor": 4
}
