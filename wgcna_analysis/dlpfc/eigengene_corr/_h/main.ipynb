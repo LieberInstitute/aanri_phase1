{
 "cells": [
  {
   "cell_type": "markdown",
   "metadata": {},
   "source": [
    "# Exploring the eigen values and correlation with phenotypes"
   ]
  },
  {
   "cell_type": "code",
   "execution_count": null,
   "metadata": {},
   "outputs": [],
   "source": [
    "suppressPackageStartupMessages({\n",
    "    library(ComplexHeatmap)\n",
    "    library(tidyverse)\n",
    "    library(ggpubr)\n",
    "})"
   ]
  },
  {
   "cell_type": "markdown",
   "metadata": {},
   "source": [
    "## Prepare data"
   ]
  },
  {
   "cell_type": "markdown",
   "metadata": {},
   "source": [
    "### Load phenotypes data"
   ]
  },
  {
   "cell_type": "code",
   "execution_count": null,
   "metadata": {},
   "outputs": [],
   "source": [
    "pheno = data.table::fread(\"../../../../input/phenotypes/merged/_m/merged_phenotypes.csv\")\n",
    "pheno %>% head(2)"
   ]
  },
  {
   "cell_type": "code",
   "execution_count": null,
   "metadata": {},
   "outputs": [],
   "source": [
    "ancestry = data.table::fread(\"../../../../input/ancestry_structure/structure.out_ancestry_proportion_raceDemo_compare\")\n",
    "ancestry %>% head(2)"
   ]
  },
  {
   "cell_type": "markdown",
   "metadata": {},
   "source": [
    "### Load eigen values"
   ]
  },
  {
   "cell_type": "code",
   "execution_count": null,
   "metadata": {},
   "outputs": [],
   "source": [
    "eigen = data.table::fread(\"../../_m/eigengenes.csv\")\n",
    "modules = eigen %>% select(-V1) %>% colnames\n",
    "eigen %>% dim\n",
    "eigen[1:2, 1:5]"
   ]
  },
  {
   "cell_type": "markdown",
   "metadata": {},
   "source": [
    "### Merge data"
   ]
  },
  {
   "cell_type": "code",
   "execution_count": null,
   "metadata": {},
   "outputs": [],
   "source": [
    "dt = eigen %>% left_join(pheno, by=\"V1\") %>%\n",
    "    inner_join(ancestry, by=c(\"BrNum\"=\"id\"))\n",
    "dt %>% dim\n",
    "dt[1:2, 1:5]"
   ]
  },
  {
   "cell_type": "markdown",
   "metadata": {},
   "source": [
    "## Examine correlation of modules with ancestry"
   ]
  },
  {
   "cell_type": "markdown",
   "metadata": {},
   "source": [
    "### Linear model"
   ]
  },
  {
   "cell_type": "code",
   "execution_count": null,
   "metadata": {},
   "outputs": [],
   "source": [
    "pvals = c()\n",
    "for(mod in modules){\n",
    "    model = paste0(\"Eur ~ \", mod)\n",
    "    res = anova(lm(model, data=dt))\n",
    "    pvals = c(pvals, res[mod, \"Pr(>F)\"])\n",
    "}\n",
    "fdr <- p.adjust(pvals, method=\"fdr\")\n",
    "df1 = data.frame(\"Modules\"=modules, \"Pvalue\"=pvals, \"FDR\"=fdr)\n",
    "df1 %>% filter(FDR < 0.05)"
   ]
  },
  {
   "cell_type": "code",
   "execution_count": null,
   "metadata": {},
   "outputs": [],
   "source": [
    "df1 %>% mutate(Tissue=\"DLPFC\") %>%\n",
    "    data.table::fwrite(\"eigen_correlation_ancestry.tsv\", sep='\\t')"
   ]
  },
  {
   "cell_type": "markdown",
   "metadata": {},
   "source": [
    "### Pearson correlation"
   ]
  },
  {
   "cell_type": "code",
   "execution_count": null,
   "metadata": {},
   "outputs": [],
   "source": [
    "pvals = c(); est = c()\n",
    "for(mod in modules){\n",
    "    res = cor.test(dt[[\"Eur\"]], dt[[mod]], method=\"pearson\")\n",
    "    pvals = c(pvals, res$p.value)\n",
    "    est = c(est, res$estimate[[1]])\n",
    "}\n",
    "fdr <- p.adjust(pvals, method=\"fdr\")\n",
    "df2 = data.frame(\"Modules\"=modules, \"Rho\"=est, \"Pvalue\"=pvals, \"FDR\"=fdr)\n",
    "df2 %>% filter(FDR < 0.05)"
   ]
  },
  {
   "cell_type": "markdown",
   "metadata": {},
   "source": [
    "## Clustering modules"
   ]
  },
  {
   "cell_type": "markdown",
   "metadata": {},
   "source": [
    "### Eigengene clustering"
   ]
  },
  {
   "cell_type": "code",
   "execution_count": null,
   "metadata": {},
   "outputs": [],
   "source": [
    "set.seed(13)\n",
    "mat = eigen %>% column_to_rownames(\"V1\") %>% as.matrix\n",
    "pdf(\"eigengene_heatmap.pdf\", width=10, height=8)\n",
    "Heatmap(mat, name=\"Eigengene\", column_dend_height=unit(3, \"cm\"), \n",
    "        show_row_names=FALSE, show_row_dend=FALSE, column_km=4)\n",
    "dev.off()"
   ]
  },
  {
   "cell_type": "markdown",
   "metadata": {},
   "source": [
    "### clustering within significant module violet"
   ]
  },
  {
   "cell_type": "code",
   "execution_count": null,
   "metadata": {},
   "outputs": [],
   "source": [
    "load(\"../../_m/01.RData\", verbose=TRUE)\n",
    "biomart_file = \"../../../../input/biomart/biomart.csv\"\n",
    "biomart = data.table::fread(biomart_file)"
   ]
  },
  {
   "cell_type": "code",
   "execution_count": null,
   "metadata": {},
   "outputs": [],
   "source": [
    "get_module_mat <- function(mod){\n",
    "    MEmodule = data.table::fread(\"../../_m/modules.csv\", header=TRUE) %>% \n",
    "        filter(module == mod)\n",
    "    mat0 = datExpr %>% as.data.frame %>% \n",
    "        select(any_of(MEmodule$V1)) %>% as.matrix\n",
    "    annot = data.frame(\"Geneid\"=colnames(mat0), \n",
    "                       \"ensembl_gene_id\"=gsub(\"\\\\..*\", \"\", colnames(mat0))) %>% \n",
    "        left_join(biomart, by=\"ensembl_gene_id\") %>% \n",
    "        distinct(ensembl_gene_id, .keep_all=TRUE) %>%\n",
    "        mutate(external_gene_name=coalesce(external_gene_name,ensembl_gene_id))\n",
    "    #annot$external_gene_name %>% is.na %>% sum\n",
    "    colnames(mat0) <- annot$external_gene_name\n",
    "    return(mat0)\n",
    "}\n",
    "\n",
    "plot_module_heatmap <- function(mod, w, h){\n",
    "    pdf(paste0(mod,\"_module_heatmap.pdf\"), width=w, height=h)\n",
    "    set.seed(13)\n",
    "    row_ha = rowAnnotation(EA = dt$Eur, AA = dt$Afr)\n",
    "    ht = Heatmap(get_module_mat(mod), \n",
    "            name=\"Residualized\\nExpression\", \n",
    "            column_dend_height=unit(1, \"cm\"), row_km=2,\n",
    "            show_row_names=FALSE, show_row_dend=TRUE,\n",
    "            row_dend_width=unit(2, \"cm\"), \n",
    "            right_annotation = row_ha)\n",
    "    draw(ht)\n",
    "    dev.off()\n",
    "}"
   ]
  },
  {
   "cell_type": "code",
   "execution_count": null,
   "metadata": {},
   "outputs": [],
   "source": [
    "df1 %>% filter(FDR < 0.05)"
   ]
  },
  {
   "cell_type": "code",
   "execution_count": null,
   "metadata": {},
   "outputs": [],
   "source": [
    "plot_module_heatmap(\"black\", 24, 10)\n",
    "plot_module_heatmap(\"cyan\", 20, 10)\n",
    "plot_module_heatmap(\"darkred\", 20, 10)\n",
    "plot_module_heatmap(\"darkturquoise\", 24, 10)"
   ]
  },
  {
   "cell_type": "markdown",
   "metadata": {},
   "source": [
    "## Reproducibility Information"
   ]
  },
  {
   "cell_type": "code",
   "execution_count": null,
   "metadata": {},
   "outputs": [],
   "source": [
    "Sys.time()\n",
    "proc.time()\n",
    "options(width = 120)\n",
    "sessioninfo::session_info()"
   ]
  }
 ],
 "metadata": {
  "kernelspec": {
   "display_name": "R",
   "language": "R",
   "name": "ir"
  },
  "language_info": {
   "codemirror_mode": "r",
   "file_extension": ".r",
   "mimetype": "text/x-r-source",
   "name": "R",
   "pygments_lexer": "r",
   "version": "4.0.3"
  }
 },
 "nbformat": 4,
 "nbformat_minor": 4
}
